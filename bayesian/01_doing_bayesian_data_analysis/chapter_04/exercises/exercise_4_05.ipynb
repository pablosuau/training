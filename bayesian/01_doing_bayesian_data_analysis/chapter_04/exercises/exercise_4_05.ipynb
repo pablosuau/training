{
 "cells": [
  {
   "cell_type": "code",
   "execution_count": 1,
   "metadata": {},
   "outputs": [],
   "source": [
    "%matplotlib inline\n",
    "import math\n",
    "import numpy as np\n",
    "import matplotlib.pyplot as plt"
   ]
  },
  {
   "cell_type": "code",
   "execution_count": 2,
   "metadata": {},
   "outputs": [],
   "source": [
    "plt.rc('text', usetex = True)"
   ]
  },
  {
   "cell_type": "markdown",
   "metadata": {},
   "source": [
    "**Exercise 4.5. [Purpose: To have you use a normal curve to describe beliefs. It's also handy to know the area under the normal curve between $\\mu$ and $\\sigma$.]**\n",
    "\n",
    "**(A)** Adapt the code from `IntegralOfDensity.R` to determine (approximately) the probability mass under the normal curve from $x=\\mu -\\sigma$ to $x = \\mu + \\sigma$. Comment your code. *Hint:* Just change `xlow` and `xhigh` appropriately, and change the `text` location so that the `area` still appears within the plot.  "
   ]
  },
  {
   "cell_type": "code",
   "execution_count": 3,
   "metadata": {},
   "outputs": [],
   "source": [
    "meanval = 0.0               # Specify mean of distribution.\n",
    "sdval = 0.2                 # Specify standard deviation of distribution.\n",
    "xlow  = meanval - sdval # Specify low end of x-axis.\n",
    "xhigh = meanval + sdval # Specify high end of x-axis.\n",
    "dx = 0.01                   # Specify interval width on x-axis"
   ]
  },
  {
   "cell_type": "code",
   "execution_count": 4,
   "metadata": {},
   "outputs": [],
   "source": [
    "# Specify comb points along the x axis:\n",
    "x = np.arange(xlow, xhigh + dx, dx)"
   ]
  },
  {
   "cell_type": "code",
   "execution_count": 5,
   "metadata": {},
   "outputs": [],
   "source": [
    "y = (1 / (sdval * math.sqrt(2 * math.pi))) * np.exp(-.5 * np.power(((x - meanval) / sdval), 2))"
   ]
  },
  {
   "cell_type": "code",
   "execution_count": 6,
   "metadata": {},
   "outputs": [
    {
     "data": {
      "text/plain": [
       "0.6946871988245648"
      ]
     },
     "execution_count": 6,
     "metadata": {},
     "output_type": "execute_result"
    }
   ],
   "source": [
    "area = np.sum(dx * y)\n",
    "area"
   ]
  },
  {
   "cell_type": "code",
   "execution_count": 7,
   "metadata": {},
   "outputs": [
    {
     "data": {
      "image/png": "[encoded data removed]",
      "text/plain": [
       "<Figure size 1152x288 with 1 Axes>"
      ]
     },
     "metadata": {},
     "output_type": "display_data"
    }
   ],
   "source": [
    "# Plot the function. \n",
    "# The first bit draws the intervals.\n",
    "# The second bit draws the bell curve\n",
    "fig, ax = plt.subplots()\n",
    "for (x_dx, y_dx) in zip(x, y):\n",
    "    ax.plot([x_dx, x_dx], [0, y_dx], 'k')\n",
    "ax.plot(x, y)\n",
    "fig.set_figwidth(16)\n",
    "\n",
    "# Display info in the graph\n",
    "plt.text(-sdval, .9 * max(y), '$\\mu$ = ' + str(meanval), size = 16)\n",
    "plt.text(-sdval, .8 * max(y), '$\\sigma$ = ' + str(sdval), size = 16)\n",
    "plt.text(sdval, .9 * max(y), '$\\Delta x$ = ' + str(dx), size = 16)\n",
    "_ = plt.text(sdval, .7 * max(y), \n",
    "             '$\\displaystyle\\sum_{x} \\Delta x \\, p(x) = $' + '{0:.2f}'.format(area), \n",
    "             size = 16)"
   ]
  },
  {
   "cell_type": "markdown",
   "metadata": {},
   "source": [
    "**(B)** Now use the normal curve to describe the following belief. Suppose you believe that women's heights follow a bell-shaped distribution, centered at 162cm with about two-thirds of all women having heights between 147 and 177cm. What should be the $\\mu$ and $\\sigma$ parameter values? \n",
    "\n",
    "Let's assume that roughly two thirds of the distribution is between $\\mu - \\sigma$ and $\\mu + \\sigma$. Therefore:\n",
    "\n",
    "$\\mu = 162$\n",
    "\n",
    "$\\sigma = 177 - 162 = 162 - 147 = 15$"
   ]
  }
 ],
 "metadata": {
  "kernelspec": {
   "display_name": "Python 3",
   "language": "python",
   "name": "python3"
  },
  "language_info": {
   "codemirror_mode": {
    "name": "ipython",
    "version": 3
   },
   "file_extension": ".py",
   "mimetype": "text/x-python",
   "name": "python",
   "nbconvert_exporter": "python",
   "pygments_lexer": "ipython3",
   "version": "3.6.5"
  }
 },
 "nbformat": 4,
 "nbformat_minor": 2
}
