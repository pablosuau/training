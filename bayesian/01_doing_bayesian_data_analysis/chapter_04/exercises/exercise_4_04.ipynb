{
 "cells": [
  {
   "cell_type": "code",
   "execution_count": 1,
   "metadata": {},
   "outputs": [],
   "source": [
    "%matplotlib inline\n",
    "import numpy as np\n",
    "import pandas as pd\n",
    "import matplotlib.pyplot as plt"
   ]
  },
  {
   "cell_type": "markdown",
   "metadata": {},
   "source": [
    "**Exercise 4.4. [Purpose: To give you hands-on experience with a simple probability density function, in R and in calculus, and to reemphasize that density functions can have values larger than 1.]** Consider a spinner with a [0, 1] scale on its circumference. Suppose that the spinner is slanted or magnetized or bent in some way such that it is biased, and its probability density function is $p(x) = 6x(1 - x)$ over the interval $x \\in [0, 1]$.\n",
    "\n",
    "**(A)** Adapt the program `IntegralOfDensity.R` to plot this density function and approximate its integral. Comment your code. Be careful to consider values of $x$ only in the interval [0, 1]. *Hint:* You can omit the first couple of lines regarding `meanval` and `sdval`, because those parameter values pertain only to the normal distribution. Then set `xlow = 0` and `xhigh = 1`, and set $dx$ to some small value. "
   ]
  },
  {
   "cell_type": "code",
   "execution_count": 2,
   "metadata": {},
   "outputs": [],
   "source": [
    "xlow  = 0\n",
    "xhigh = 1\n",
    "dx = 0.01   # Specify interval width on x-axis"
   ]
  },
  {
   "cell_type": "code",
   "execution_count": 3,
   "metadata": {},
   "outputs": [],
   "source": [
    "x = np.arange(xlow, xhigh + dx, dx)"
   ]
  },
  {
   "cell_type": "code",
   "execution_count": 4,
   "metadata": {},
   "outputs": [],
   "source": [
    "# Compute y values, i.e., probability density at each value of x:\n",
    "y = 6 * x * (1 - x)"
   ]
  },
  {
   "cell_type": "code",
   "execution_count": 5,
   "metadata": {},
   "outputs": [
    {
     "data": {
      "image/png": "[encoded data removed]",
      "text/plain": [
       "<Figure size 1152x288 with 1 Axes>"
      ]
     },
     "metadata": {},
     "output_type": "display_data"
    }
   ],
   "source": [
    "# Plot the function. The first plot function plots the pdf curve. \n",
    "# The loop plots the intervals\n",
    "fig, ax = plt.subplots()\n",
    "ax.plot(x, y)\n",
    "for (x_dx, y_dx) in zip(x, y):\n",
    "    ax.plot([x_dx, x_dx], [0, y_dx], 'k')\n",
    "fig.set_figwidth(16)"
   ]
  },
  {
   "cell_type": "code",
   "execution_count": 6,
   "metadata": {},
   "outputs": [
    {
     "data": {
      "text/plain": [
       "0.9999"
      ]
     },
     "execution_count": 6,
     "metadata": {},
     "output_type": "execute_result"
    }
   ],
   "source": [
    "# Approximate the integral as the sum of width * height for each interval.\n",
    "area = np.sum(dx * y)\n",
    "area "
   ]
  },
  {
   "cell_type": "markdown",
   "metadata": {},
   "source": [
    "**(B)** Derive the exact integral using calculus. *Hint:* See the example, Equation 4.7.\n",
    "\n",
    "$\\displaystyle\\int_{0}^{1} 6x(1 - x)dx = 6 \\int_{0}^{1}(x - x^2)dx = 6\\left[\\frac{x^2}{2} - \\frac{x^3}{3}\\right]_{0}^{1} = 6\\left(\\frac{1}{2} - \\frac{1}{3}\\right)$"
   ]
  },
  {
   "cell_type": "code",
   "execution_count": 7,
   "metadata": {},
   "outputs": [
    {
     "data": {
      "text/plain": [
       "1.0"
      ]
     },
     "execution_count": 7,
     "metadata": {},
     "output_type": "execute_result"
    }
   ],
   "source": [
    "6 * (1 / 2 - 1 / 3)"
   ]
  },
  {
   "cell_type": "markdown",
   "metadata": {},
   "source": [
    "**(C)** Does this funciton satisfy Equation 4.3?\n",
    "\n",
    "This function seems to satisfy $\\displaystyle\\int p(x) \\, dx = 1$\n",
    "\n",
    "**(D)** Fom inspecting the graph, what is the maximum value of $p(x)$?\n",
    "\n",
    "The maximum value seems to be 1.5:"
   ]
  },
  {
   "cell_type": "code",
   "execution_count": 8,
   "metadata": {},
   "outputs": [
    {
     "data": {
      "text/plain": [
       "1.5"
      ]
     },
     "execution_count": 8,
     "metadata": {},
     "output_type": "execute_result"
    }
   ],
   "source": [
    "max(y)"
   ]
  }
 ],
 "metadata": {
  "kernelspec": {
   "display_name": "Python 3",
   "language": "python",
   "name": "python3"
  },
  "language_info": {
   "codemirror_mode": {
    "name": "ipython",
    "version": 3
   },
   "file_extension": ".py",
   "mimetype": "text/x-python",
   "name": "python",
   "nbconvert_exporter": "python",
   "pygments_lexer": "ipython3",
   "version": "3.6.5"
  }
 },
 "nbformat": 4,
 "nbformat_minor": 2
}
