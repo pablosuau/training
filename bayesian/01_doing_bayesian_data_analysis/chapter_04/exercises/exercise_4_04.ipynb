{
 "cells": [
  {
   "cell_type": "code",
   "execution_count": null,
   "metadata": {},
   "outputs": [],
   "source": [
    "%matplotlib inline\n",
    "import numpy as np\n",
    "import pandas as pd\n",
    "import matplotlib.pyplot as plt"
   ]
  },
  {
   "cell_type": "markdown",
   "metadata": {},
   "source": [
    "A) adapting IntegralOfDensity.R to plot the density function of $p(x) = 6x(1 - x)$"
   ]
  },
  {
   "cell_type": "code",
   "execution_count": null,
   "metadata": {},
   "outputs": [],
   "source": [
    "xlow  = 0\n",
    "xhigh = 1\n",
    "dx = 0.01   # Specify interval width on x-axis"
   ]
  },
  {
   "cell_type": "code",
   "execution_count": null,
   "metadata": {},
   "outputs": [],
   "source": [
    "x = np.arange(xlow, xhigh + dx, dx)"
   ]
  },
  {
   "cell_type": "code",
   "execution_count": null,
   "metadata": {},
   "outputs": [],
   "source": [
    "# Compute y values, i.e., probability density at each value of x:\n",
    "y = 6 * x * (1 - x)"
   ]
  },
  {
   "cell_type": "code",
   "execution_count": null,
   "metadata": {},
   "outputs": [],
   "source": [
    "# Plot the function. The first plot function plots the pdf curve. \n",
    "# The loop plots the intervals\n",
    "fig, ax = plt.subplots()\n",
    "ax.plot(x, y)\n",
    "for (x_dx, y_dx) in zip(x, y):\n",
    "    ax.plot([x_dx, x_dx], [0, y_dx], 'k')\n",
    "fig.set_figwidth(16)"
   ]
  },
  {
   "cell_type": "code",
   "execution_count": null,
   "metadata": {},
   "outputs": [],
   "source": [
    "# Approximate the integral as the sum of width * height for each interval.\n",
    "area = np.sum(dx * y)\n",
    "area "
   ]
  },
  {
   "cell_type": "markdown",
   "metadata": {},
   "source": [
    "B) derive the exact integral using calculus.\n",
    "\n",
    "$\\displaystyle\\int_{0}^{1} 6x(1 - x)dx = 6 \\int_{0}^{1}(x - x^2)dx = 6\\left[\\frac{x^2}{2} - \\frac{x^3}{3}\\right]_{0}^{1} = 6\\left(\\frac{1}{2} - \\frac{1}{3}\\right)$"
   ]
  },
  {
   "cell_type": "code",
   "execution_count": null,
   "metadata": {},
   "outputs": [],
   "source": [
    "6 * (1 / 2 - 1 / 3)"
   ]
  },
  {
   "cell_type": "markdown",
   "metadata": {},
   "source": [
    "TODO https://github.com/idrisr/bayes_book/blob/master/ch3_prob/IntegralOfDensity.R - code for figure 4.4"
   ]
  },
  {
   "cell_type": "code",
   "execution_count": null,
   "metadata": {},
   "outputs": [],
   "source": []
  }
 ],
 "metadata": {
  "kernelspec": {
   "display_name": "Python 3",
   "language": "python",
   "name": "python3"
  },
  "language_info": {
   "codemirror_mode": {
    "name": "ipython",
    "version": 3
   },
   "file_extension": ".py",
   "mimetype": "text/x-python",
   "name": "python",
   "nbconvert_exporter": "python",
   "pygments_lexer": "ipython3",
   "version": "3.6.5"
  }
 },
 "nbformat": 4,
 "nbformat_minor": 2
}
