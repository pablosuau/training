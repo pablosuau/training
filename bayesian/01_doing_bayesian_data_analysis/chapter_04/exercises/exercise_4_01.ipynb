{
 "cells": [
  {
   "cell_type": "code",
   "execution_count": null,
   "metadata": {},
   "outputs": [],
   "source": [
    "import pandas as pd"
   ]
  },
  {
   "cell_type": "code",
   "execution_count": null,
   "metadata": {},
   "outputs": [],
   "source": [
    "data = [[32, 11, 10, 3], \n",
    "        [53, 50, 25, 15],\n",
    "        [10, 10, 7, 7],\n",
    "        [3, 30, 5, 8], \n",
    "        [36, 9, 5, 2],\n",
    "        [66, 34, 29, 14],\n",
    "        [16, 7, 7, 7],\n",
    "        [4, 64, 5, 8]]\n",
    "index = pd.MultiIndex.from_tuples([('male', 'black'),\n",
    "                                   ('male', 'brown'),\n",
    "                                   ('male', 'red'),\n",
    "                                   ('male', 'blond'),\n",
    "                                   ('female', 'black'),\n",
    "                                   ('female', 'brown'),\n",
    "                                   ('female', 'red'),\n",
    "                                   ('female', 'blond')],\n",
    "                                  names = ['sex', 'hair'])\n",
    "columns = ['brown', 'blue', 'hazel', 'green']\n",
    "hair_eye_color = pd.DataFrame(data, index = index, columns = columns)\n",
    "hair_eye_color.columns.set_names(['eyes'], inplace = True)\n",
    "hair_eye_color"
   ]
  },
  {
   "cell_type": "code",
   "execution_count": null,
   "metadata": {},
   "outputs": [],
   "source": []
  }
 ],
 "metadata": {
  "kernelspec": {
   "display_name": "Python 3",
   "language": "python",
   "name": "python3"
  },
  "language_info": {
   "codemirror_mode": {
    "name": "ipython",
    "version": 3
   },
   "file_extension": ".py",
   "mimetype": "text/x-python",
   "name": "python",
   "nbconvert_exporter": "python",
   "pygments_lexer": "ipython3",
   "version": "3.6.5"
  }
 },
 "nbformat": 4,
 "nbformat_minor": 2
}
