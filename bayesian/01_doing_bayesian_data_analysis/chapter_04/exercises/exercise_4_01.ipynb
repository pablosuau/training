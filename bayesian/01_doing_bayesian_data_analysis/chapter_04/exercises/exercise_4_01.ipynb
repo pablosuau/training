{
 "cells": [
  {
   "cell_type": "code",
   "execution_count": 1,
   "metadata": {},
   "outputs": [],
   "source": [
    "import pandas as pd"
   ]
  },
  {
   "cell_type": "markdown",
   "metadata": {},
   "source": [
    "**Exercise 4.1. [Purpose: To gain experience withthe `apply` function in R, while dealing with a concrete example of computing conditional probabilities.]** The eye-color hair-color data from Table 4.1 are built into R as the array named `HairEyeColor`. The arry is frequencies of eye and hair color for males and feamles. Run the following code in R.\n",
    "\n",
    "In your write-up, include each line of the program and its results. Explain what each line does (in a bit more detail than the inline comments). Extend the above commands by also computing the probabilities of the hair colors given Brown eyes, and the probabilities of the eye colors given Brown hair.   "
   ]
  },
  {
   "cell_type": "code",
   "execution_count": 2,
   "metadata": {},
   "outputs": [],
   "source": [
    "# Generate the data - replicating the R dataset\n",
    "data = [[32, 11, 10, 3], \n",
    "        [53, 50, 25, 15],\n",
    "        [10, 10, 7, 7],\n",
    "        [3, 30, 5, 8], \n",
    "        [36, 9, 5, 2],\n",
    "        [66, 34, 29, 14],\n",
    "        [16, 7, 7, 7],\n",
    "        [4, 64, 5, 8]]\n",
    "index = pd.MultiIndex.from_tuples([('male', 'black'),\n",
    "                                   ('male', 'brown'),\n",
    "                                   ('male', 'red'),\n",
    "                                   ('male', 'blond'),\n",
    "                                   ('female', 'black'),\n",
    "                                   ('female', 'brown'),\n",
    "                                   ('female', 'red'),\n",
    "                                   ('female', 'blond')],\n",
    "                                  names = ['sex', 'hair'])\n",
    "columns = ['brown', 'blue', 'hazel', 'green']\n",
    "hair_eye_color = pd.DataFrame(data, index = index, columns = columns)\n",
    "hair_eye_color.columns.set_names(['eyes'], inplace = True)"
   ]
  },
  {
   "cell_type": "code",
   "execution_count": 3,
   "metadata": {},
   "outputs": [
    {
     "data": {
      "text/html": [
       "<div>\n",
       "<style scoped>\n",
       "    .dataframe tbody tr th:only-of-type {\n",
       "        vertical-align: middle;\n",
       "    }\n",
       "\n",
       "    .dataframe tbody tr th {\n",
       "        vertical-align: top;\n",
       "    }\n",
       "\n",
       "    .dataframe thead th {\n",
       "        text-align: right;\n",
       "    }\n",
       "</style>\n",
       "<table border=\"1\" class=\"dataframe\">\n",
       "  <thead>\n",
       "    <tr style=\"text-align: right;\">\n",
       "      <th></th>\n",
       "      <th>eyes</th>\n",
       "      <th>brown</th>\n",
       "      <th>blue</th>\n",
       "      <th>hazel</th>\n",
       "      <th>green</th>\n",
       "    </tr>\n",
       "    <tr>\n",
       "      <th>sex</th>\n",
       "      <th>hair</th>\n",
       "      <th></th>\n",
       "      <th></th>\n",
       "      <th></th>\n",
       "      <th></th>\n",
       "    </tr>\n",
       "  </thead>\n",
       "  <tbody>\n",
       "    <tr>\n",
       "      <th rowspan=\"4\" valign=\"top\">male</th>\n",
       "      <th>black</th>\n",
       "      <td>32</td>\n",
       "      <td>11</td>\n",
       "      <td>10</td>\n",
       "      <td>3</td>\n",
       "    </tr>\n",
       "    <tr>\n",
       "      <th>brown</th>\n",
       "      <td>53</td>\n",
       "      <td>50</td>\n",
       "      <td>25</td>\n",
       "      <td>15</td>\n",
       "    </tr>\n",
       "    <tr>\n",
       "      <th>red</th>\n",
       "      <td>10</td>\n",
       "      <td>10</td>\n",
       "      <td>7</td>\n",
       "      <td>7</td>\n",
       "    </tr>\n",
       "    <tr>\n",
       "      <th>blond</th>\n",
       "      <td>3</td>\n",
       "      <td>30</td>\n",
       "      <td>5</td>\n",
       "      <td>8</td>\n",
       "    </tr>\n",
       "    <tr>\n",
       "      <th rowspan=\"4\" valign=\"top\">female</th>\n",
       "      <th>black</th>\n",
       "      <td>36</td>\n",
       "      <td>9</td>\n",
       "      <td>5</td>\n",
       "      <td>2</td>\n",
       "    </tr>\n",
       "    <tr>\n",
       "      <th>brown</th>\n",
       "      <td>66</td>\n",
       "      <td>34</td>\n",
       "      <td>29</td>\n",
       "      <td>14</td>\n",
       "    </tr>\n",
       "    <tr>\n",
       "      <th>red</th>\n",
       "      <td>16</td>\n",
       "      <td>7</td>\n",
       "      <td>7</td>\n",
       "      <td>7</td>\n",
       "    </tr>\n",
       "    <tr>\n",
       "      <th>blond</th>\n",
       "      <td>4</td>\n",
       "      <td>64</td>\n",
       "      <td>5</td>\n",
       "      <td>8</td>\n",
       "    </tr>\n",
       "  </tbody>\n",
       "</table>\n",
       "</div>"
      ],
      "text/plain": [
       "eyes          brown  blue  hazel  green\n",
       "sex    hair                            \n",
       "male   black     32    11     10      3\n",
       "       brown     53    50     25     15\n",
       "       red       10    10      7      7\n",
       "       blond      3    30      5      8\n",
       "female black     36     9      5      2\n",
       "       brown     66    34     29     14\n",
       "       red       16     7      7      7\n",
       "       blond      4    64      5      8"
      ]
     },
     "execution_count": 3,
     "metadata": {},
     "output_type": "execute_result"
    }
   ],
   "source": [
    "# Show the data\n",
    "hair_eye_color"
   ]
  },
  {
   "cell_type": "code",
   "execution_count": 4,
   "metadata": {},
   "outputs": [
    {
     "data": {
      "text/html": [
       "<div>\n",
       "<style scoped>\n",
       "    .dataframe tbody tr th:only-of-type {\n",
       "        vertical-align: middle;\n",
       "    }\n",
       "\n",
       "    .dataframe tbody tr th {\n",
       "        vertical-align: top;\n",
       "    }\n",
       "\n",
       "    .dataframe thead th {\n",
       "        text-align: right;\n",
       "    }\n",
       "</style>\n",
       "<table border=\"1\" class=\"dataframe\">\n",
       "  <thead>\n",
       "    <tr style=\"text-align: right;\">\n",
       "      <th>eyes</th>\n",
       "      <th>brown</th>\n",
       "      <th>blue</th>\n",
       "      <th>hazel</th>\n",
       "      <th>green</th>\n",
       "    </tr>\n",
       "    <tr>\n",
       "      <th>hair</th>\n",
       "      <th></th>\n",
       "      <th></th>\n",
       "      <th></th>\n",
       "      <th></th>\n",
       "    </tr>\n",
       "  </thead>\n",
       "  <tbody>\n",
       "    <tr>\n",
       "      <th>black</th>\n",
       "      <td>68</td>\n",
       "      <td>20</td>\n",
       "      <td>15</td>\n",
       "      <td>5</td>\n",
       "    </tr>\n",
       "    <tr>\n",
       "      <th>blond</th>\n",
       "      <td>7</td>\n",
       "      <td>94</td>\n",
       "      <td>10</td>\n",
       "      <td>16</td>\n",
       "    </tr>\n",
       "    <tr>\n",
       "      <th>brown</th>\n",
       "      <td>119</td>\n",
       "      <td>84</td>\n",
       "      <td>54</td>\n",
       "      <td>29</td>\n",
       "    </tr>\n",
       "    <tr>\n",
       "      <th>red</th>\n",
       "      <td>26</td>\n",
       "      <td>17</td>\n",
       "      <td>14</td>\n",
       "      <td>14</td>\n",
       "    </tr>\n",
       "  </tbody>\n",
       "</table>\n",
       "</div>"
      ],
      "text/plain": [
       "eyes   brown  blue  hazel  green\n",
       "hair                            \n",
       "black     68    20     15      5\n",
       "blond      7    94     10     16\n",
       "brown    119    84     54     29\n",
       "red       26    17     14     14"
      ]
     },
     "execution_count": 4,
     "metadata": {},
     "output_type": "execute_result"
    }
   ],
   "source": [
    "# Sum accross sex - combining the data for males and females into a single table\n",
    "eye_hair_freq = hair_eye_color.groupby(level = 1).sum()\n",
    "eye_hair_freq"
   ]
  },
  {
   "cell_type": "code",
   "execution_count": 5,
   "metadata": {},
   "outputs": [
    {
     "data": {
      "text/html": [
       "<div>\n",
       "<style scoped>\n",
       "    .dataframe tbody tr th:only-of-type {\n",
       "        vertical-align: middle;\n",
       "    }\n",
       "\n",
       "    .dataframe tbody tr th {\n",
       "        vertical-align: top;\n",
       "    }\n",
       "\n",
       "    .dataframe thead th {\n",
       "        text-align: right;\n",
       "    }\n",
       "</style>\n",
       "<table border=\"1\" class=\"dataframe\">\n",
       "  <thead>\n",
       "    <tr style=\"text-align: right;\">\n",
       "      <th>hair</th>\n",
       "      <th>black</th>\n",
       "      <th>brown</th>\n",
       "      <th>red</th>\n",
       "      <th>blond</th>\n",
       "    </tr>\n",
       "    <tr>\n",
       "      <th>eyes</th>\n",
       "      <th></th>\n",
       "      <th></th>\n",
       "      <th></th>\n",
       "      <th></th>\n",
       "    </tr>\n",
       "  </thead>\n",
       "  <tbody>\n",
       "    <tr>\n",
       "      <th>brown</th>\n",
       "      <td>0.11</td>\n",
       "      <td>0.20</td>\n",
       "      <td>0.04</td>\n",
       "      <td>0.01</td>\n",
       "    </tr>\n",
       "    <tr>\n",
       "      <th>blue</th>\n",
       "      <td>0.03</td>\n",
       "      <td>0.14</td>\n",
       "      <td>0.03</td>\n",
       "      <td>0.16</td>\n",
       "    </tr>\n",
       "    <tr>\n",
       "      <th>hazel</th>\n",
       "      <td>0.03</td>\n",
       "      <td>0.09</td>\n",
       "      <td>0.02</td>\n",
       "      <td>0.02</td>\n",
       "    </tr>\n",
       "    <tr>\n",
       "      <th>green</th>\n",
       "      <td>0.01</td>\n",
       "      <td>0.05</td>\n",
       "      <td>0.02</td>\n",
       "      <td>0.03</td>\n",
       "    </tr>\n",
       "  </tbody>\n",
       "</table>\n",
       "</div>"
      ],
      "text/plain": [
       "hair   black  brown   red  blond\n",
       "eyes                            \n",
       "brown   0.11   0.20  0.04   0.01\n",
       "blue    0.03   0.14  0.03   0.16\n",
       "hazel   0.03   0.09  0.02   0.02\n",
       "green   0.01   0.05  0.02   0.03"
      ]
     },
     "execution_count": 5,
     "metadata": {},
     "output_type": "execute_result"
    }
   ],
   "source": [
    "# Calculating the joint probabilities, that is, the probability of each combination\n",
    "# of hair/eyes colour\n",
    "# This produces Table 4.1\n",
    "eye_hair_prop = eye_hair_freq / eye_hair_freq.values.sum()\n",
    "eye_hair_prop = eye_hair_prop.T[['black', 'brown', 'red', 'blond']]\n",
    "eye_hair_prop.round(decimals = 2)"
   ]
  },
  {
   "cell_type": "code",
   "execution_count": 6,
   "metadata": {},
   "outputs": [
    {
     "data": {
      "text/plain": [
       "hair\n",
       "black    108\n",
       "blond    127\n",
       "brown    286\n",
       "red       71\n",
       "dtype: int64"
      ]
     },
     "execution_count": 6,
     "metadata": {},
     "output_type": "execute_result"
    }
   ],
   "source": [
    "# Sum accross sex and hair\n",
    "hair_freq = hair_eye_color.groupby(level = 1).sum().sum(axis = 1)\n",
    "hair_freq"
   ]
  },
  {
   "cell_type": "code",
   "execution_count": 7,
   "metadata": {},
   "outputs": [
    {
     "data": {
      "text/plain": [
       "hair\n",
       "black    108\n",
       "blond    127\n",
       "brown    286\n",
       "red       71\n",
       "dtype: int64"
      ]
     },
     "execution_count": 7,
     "metadata": {},
     "output_type": "execute_result"
    }
   ],
   "source": [
    "# Calculating the marginal probabilities for hair colour, that is, the probability of each\n",
    "# hair colour independently of the eye color\n",
    "# This produces the hair marginal probabilities in Table 4.1\n",
    "hair_prop = hair_freq / hair_freq.values.sum()\n",
    "hair_prop = hair_prop[['black', 'brown', 'red', 'blond']]\n",
    "hair_freq.round(decimals = 2)"
   ]
  },
  {
   "cell_type": "code",
   "execution_count": 8,
   "metadata": {},
   "outputs": [
    {
     "data": {
      "text/plain": [
       "eyes\n",
       "brown    220\n",
       "blue     215\n",
       "hazel     93\n",
       "green     64\n",
       "dtype: int64"
      ]
     },
     "execution_count": 8,
     "metadata": {},
     "output_type": "execute_result"
    }
   ],
   "source": [
    "# Sum accross sex and eye\n",
    "eye_freq = hair_eye_color.groupby(level = 1).sum().sum()\n",
    "eye_freq"
   ]
  },
  {
   "cell_type": "code",
   "execution_count": 9,
   "metadata": {},
   "outputs": [
    {
     "data": {
      "text/plain": [
       "eyes\n",
       "brown    0.37\n",
       "blue     0.36\n",
       "hazel    0.16\n",
       "green    0.11\n",
       "dtype: float64"
      ]
     },
     "execution_count": 9,
     "metadata": {},
     "output_type": "execute_result"
    }
   ],
   "source": [
    "# Calculating the marginal probabilities for eye colour, that is, the probability of each\n",
    "# eye colour independently of the hair color\n",
    "# This produces the eye marginal probabilities in Table 4.1\n",
    "eye_prop = eye_freq / eye_freq.values.sum()\n",
    "eye_prop.round(decimals = 2)"
   ]
  },
  {
   "cell_type": "code",
   "execution_count": 10,
   "metadata": {},
   "outputs": [
    {
     "data": {
      "text/plain": [
       "hair\n",
       "black    0.09\n",
       "brown    0.39\n",
       "red      0.08\n",
       "blond    0.44\n",
       "Name: blue, dtype: float64"
      ]
     },
     "execution_count": 10,
     "metadata": {},
     "output_type": "execute_result"
    }
   ],
   "source": [
    "# Conditional probability for each hair colour given that eye colour is blue\n",
    "# P(hair_colour = h | eye_colour = blue) = P(hair_colour = h, eye_colour = blue) /\n",
    "#                                          P(eye_colour = blue)\n",
    "(eye_hair_prop.loc['blue'] / eye_prop['blue']).round(decimals = 2)"
   ]
  },
  {
   "cell_type": "code",
   "execution_count": 11,
   "metadata": {},
   "outputs": [
    {
     "data": {
      "text/plain": [
       "hair\n",
       "black    0.31\n",
       "brown    0.54\n",
       "red      0.12\n",
       "blond    0.03\n",
       "Name: brown, dtype: float64"
      ]
     },
     "execution_count": 11,
     "metadata": {},
     "output_type": "execute_result"
    }
   ],
   "source": [
    "# Conditional probability for each hair colour given that eye colour is brown\n",
    "# P(hair_colour = h | eye_colour = brown) = P(hair_colour = h, eye_colour = brown) /\n",
    "#                                           P(eye_colour = brown)\n",
    "(eye_hair_prop.loc['brown'] / eye_prop['brown']).round(decimals = 2)"
   ]
  },
  {
   "cell_type": "code",
   "execution_count": 12,
   "metadata": {},
   "outputs": [
    {
     "data": {
      "text/plain": [
       "eyes\n",
       "brown    0.42\n",
       "blue     0.29\n",
       "hazel    0.19\n",
       "green    0.10\n",
       "Name: brown, dtype: float64"
      ]
     },
     "execution_count": 12,
     "metadata": {},
     "output_type": "execute_result"
    }
   ],
   "source": [
    "# Conditional probability for each eye colour given that hair colour is brown\n",
    "# P(eye_colour = e | hair_colour = brown) = P(eye_colour = e, hair_colour = brown) /\n",
    "#                                           P(hair_colour = brown)\n",
    "(eye_hair_prop['brown'] / hair_prop['brown']).round(decimals = 2)"
   ]
  }
 ],
 "metadata": {
  "kernelspec": {
   "display_name": "Python 3",
   "language": "python",
   "name": "python3"
  },
  "language_info": {
   "codemirror_mode": {
    "name": "ipython",
    "version": 3
   },
   "file_extension": ".py",
   "mimetype": "text/x-python",
   "name": "python",
   "nbconvert_exporter": "python",
   "pygments_lexer": "ipython3",
   "version": "3.6.5"
  }
 },
 "nbformat": 4,
 "nbformat_minor": 2
}
