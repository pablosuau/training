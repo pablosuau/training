{
 "cells": [
  {
   "cell_type": "markdown",
   "metadata": {},
   "source": [
    "**Exercise 4.3 [Purpose: To have you work through an example of the logic presented in Section 4.2.1.2]** Determine the exact probability of drawing a 10 from a shuffled pinochle deck (In a pinochle deck there are 48 cards. There are six values: 9, 10, Jack, Queen, King, Ace. There are two copies of each value in each of the four standard suits: hears, diamonds, clubs, spades.)\n",
    "\n",
    "**(A)** What is the probability of getting a 10?\n",
    "\n",
    "There are 8 tens in the deck, therefore:\n",
    "\n",
    "P(10) = 8 / 52 = 2 / 13"
   ]
  },
  {
   "cell_type": "code",
   "execution_count": 1,
   "metadata": {},
   "outputs": [],
   "source": [
    "2 / 13"
   ]
  },
  {
   "cell_type": "markdown",
   "metadata": {},
   "source": [
    "**(B)** What is the probability of getting a 10 or Jack?\n",
    "\n",
    "There are 8 tens and 8 Jacks:\n",
    "\n",
    "P(10 | Jack) = 8 / 52 + 8 / 52 = 16 / 52 = 4 / 13"
   ]
  },
  {
   "cell_type": "code",
   "execution_count": 2,
   "metadata": {},
   "outputs": [],
   "source": [
    "4 / 13"
   ]
  }
 ],
 "metadata": {
  "kernelspec": {
   "display_name": "Python 3",
   "language": "python",
   "name": "python3"
  },
  "language_info": {
   "codemirror_mode": {
    "name": "ipython",
    "version": 3
   },
   "file_extension": ".py",
   "mimetype": "text/x-python",
   "name": "python",
   "nbconvert_exporter": "python",
   "pygments_lexer": "ipython3",
   "version": "3.6.5"
  }
 },
 "nbformat": 4,
 "nbformat_minor": 2
}
