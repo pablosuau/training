{
 "cells": [
  {
   "cell_type": "code",
   "execution_count": 1,
   "metadata": {},
   "outputs": [],
   "source": [
    "import pandas as pd"
   ]
  },
  {
   "cell_type": "markdown",
   "metadata": {},
   "source": [
    "**Exercise 5.1. [Purpose: Iterative application of Bayes' rule, and seeing how posterior probabilities change with inclusion of more data.]** This exercise extends the ideas of Table 5.4, so at tis time, please review Table 5.4 and its discussion in the text. Suppose that the same randomly selected person in Table 5.4 gets re-tested after the first test result was positve, and on the re-test, the results is negative. When taking into account the results of both tests, what is the probability that the person has the disease? *Hint:* For the prior probability of the re-test, use the posterior computer from the Table 5.4. Retain as many decimal places as possible, as rounding can have a surprisingly big effect on the restuls."
   ]
  },
  {
   "cell_type": "code",
   "execution_count": 2,
   "metadata": {},
   "outputs": [],
   "source": [
    "# Probability of having the disease\n",
    "p_present = 0.001\n",
    "# Probability of getting a positive test\n",
    "p_positive_present = 0.99\n",
    "p_positive_absent = 0.05"
   ]
  },
  {
   "cell_type": "code",
   "execution_count": 3,
   "metadata": {},
   "outputs": [
    {
     "data": {
      "text/html": [
       "<div>\n",
       "<style scoped>\n",
       "    .dataframe tbody tr th:only-of-type {\n",
       "        vertical-align: middle;\n",
       "    }\n",
       "\n",
       "    .dataframe tbody tr th {\n",
       "        vertical-align: top;\n",
       "    }\n",
       "\n",
       "    .dataframe thead th {\n",
       "        text-align: right;\n",
       "    }\n",
       "</style>\n",
       "<table border=\"1\" class=\"dataframe\">\n",
       "  <thead>\n",
       "    <tr style=\"text-align: right;\">\n",
       "      <th>disease</th>\n",
       "      <th>present</th>\n",
       "      <th>absent</th>\n",
       "    </tr>\n",
       "    <tr>\n",
       "      <th>test result</th>\n",
       "      <th></th>\n",
       "      <th></th>\n",
       "    </tr>\n",
       "  </thead>\n",
       "  <tbody>\n",
       "    <tr>\n",
       "      <th>positive</th>\n",
       "      <td>0.00099</td>\n",
       "      <td>0.04995</td>\n",
       "    </tr>\n",
       "    <tr>\n",
       "      <th>negative</th>\n",
       "      <td>0.00001</td>\n",
       "      <td>0.94905</td>\n",
       "    </tr>\n",
       "  </tbody>\n",
       "</table>\n",
       "</div>"
      ],
      "text/plain": [
       "disease      present   absent\n",
       "test result                  \n",
       "positive     0.00099  0.04995\n",
       "negative     0.00001  0.94905"
      ]
     },
     "execution_count": 3,
     "metadata": {},
     "output_type": "execute_result"
    }
   ],
   "source": [
    "# Joint probabilities\n",
    "data = [[p_positive_present * p_present, p_positive_absent * (1 - p_present)],\n",
    "        [(1 - p_positive_present) * p_present, (1 - p_positive_absent) * (1 - p_present)]]\n",
    "index = ['positive', 'negative']\n",
    "columns = ['present', 'absent']\n",
    "df = pd.DataFrame(data, index = index, columns = columns)\n",
    "df.columns.set_names(['disease'], inplace = True)\n",
    "df.index.set_names(['test result'], inplace = True)\n",
    "df"
   ]
  },
  {
   "cell_type": "code",
   "execution_count": 4,
   "metadata": {},
   "outputs": [
    {
     "name": "stdout",
     "output_type": "stream",
     "text": [
      "disease\n",
      "present    0.001\n",
      "absent     0.999\n",
      "dtype: float64\n",
      "test result\n",
      "positive    0.05094\n",
      "negative    0.94906\n",
      "dtype: float64\n"
     ]
    }
   ],
   "source": [
    "# Marginal probabilities\n",
    "print(df.sum(axis = 0))\n",
    "print(df.sum(axis = 1))"
   ]
  },
  {
   "cell_type": "code",
   "execution_count": 5,
   "metadata": {},
   "outputs": [
    {
     "data": {
      "text/plain": [
       "0.019434628975265017"
      ]
     },
     "execution_count": 5,
     "metadata": {},
     "output_type": "execute_result"
    }
   ],
   "source": [
    "# Updating our belief about having the disease if we assume that the test subject\n",
    "# got a positive result\n",
    "posterior_present_positive = df.loc['positive', 'present'] / df.sum(axis = 1)['positive']\n",
    "posterior_present_positive"
   ]
  },
  {
   "cell_type": "code",
   "execution_count": 6,
   "metadata": {},
   "outputs": [],
   "source": [
    "# The posterior is the prior in the new iteration\n",
    "p_present = posterior_present_positive"
   ]
  },
  {
   "cell_type": "code",
   "execution_count": 7,
   "metadata": {},
   "outputs": [
    {
     "data": {
      "text/html": [
       "<div>\n",
       "<style scoped>\n",
       "    .dataframe tbody tr th:only-of-type {\n",
       "        vertical-align: middle;\n",
       "    }\n",
       "\n",
       "    .dataframe tbody tr th {\n",
       "        vertical-align: top;\n",
       "    }\n",
       "\n",
       "    .dataframe thead th {\n",
       "        text-align: right;\n",
       "    }\n",
       "</style>\n",
       "<table border=\"1\" class=\"dataframe\">\n",
       "  <thead>\n",
       "    <tr style=\"text-align: right;\">\n",
       "      <th>disease</th>\n",
       "      <th>present</th>\n",
       "      <th>absent</th>\n",
       "    </tr>\n",
       "    <tr>\n",
       "      <th>test result</th>\n",
       "      <th></th>\n",
       "      <th></th>\n",
       "    </tr>\n",
       "  </thead>\n",
       "  <tbody>\n",
       "    <tr>\n",
       "      <th>positive</th>\n",
       "      <td>0.019240</td>\n",
       "      <td>0.049028</td>\n",
       "    </tr>\n",
       "    <tr>\n",
       "      <th>negative</th>\n",
       "      <td>0.000194</td>\n",
       "      <td>0.931537</td>\n",
       "    </tr>\n",
       "  </tbody>\n",
       "</table>\n",
       "</div>"
      ],
      "text/plain": [
       "disease       present    absent\n",
       "test result                    \n",
       "positive     0.019240  0.049028\n",
       "negative     0.000194  0.931537"
      ]
     },
     "execution_count": 7,
     "metadata": {},
     "output_type": "execute_result"
    }
   ],
   "source": [
    "# Joint probabilities\n",
    "data = [[p_positive_present * p_present, p_positive_absent * (1 - p_present)],\n",
    "        [(1 - p_positive_present) * p_present, (1 - p_positive_absent) * (1 - p_present)]]\n",
    "df = pd.DataFrame(data, index = index, columns = columns)\n",
    "df.columns.set_names(['disease'], inplace = True)\n",
    "df.index.set_names(['test result'], inplace = True)\n",
    "df"
   ]
  },
  {
   "cell_type": "code",
   "execution_count": 8,
   "metadata": {},
   "outputs": [
    {
     "name": "stdout",
     "output_type": "stream",
     "text": [
      "disease\n",
      "present    0.019435\n",
      "absent     0.980565\n",
      "dtype: float64\n",
      "test result\n",
      "positive    0.068269\n",
      "negative    0.931731\n",
      "dtype: float64\n"
     ]
    }
   ],
   "source": [
    "# Marginal probabilities\n",
    "print(df.sum(axis = 0))\n",
    "print(df.sum(axis = 1))"
   ]
  },
  {
   "cell_type": "code",
   "execution_count": 9,
   "metadata": {},
   "outputs": [
    {
     "data": {
      "text/plain": [
       "0.00020858616504854387"
      ]
     },
     "execution_count": 9,
     "metadata": {},
     "output_type": "execute_result"
    }
   ],
   "source": [
    "# Updating our belief about having the disease if we assume that the test subject\n",
    "# got a negative result (after the first positive one)\n",
    "posterior_present_negative = df.loc['negative', 'present'] / df.sum(axis = 1)['negative']\n",
    "posterior_present_negative"
   ]
  }
 ],
 "metadata": {
  "kernelspec": {
   "display_name": "Python 3",
   "language": "python",
   "name": "python3"
  },
  "language_info": {
   "codemirror_mode": {
    "name": "ipython",
    "version": 3
   },
   "file_extension": ".py",
   "mimetype": "text/x-python",
   "name": "python",
   "nbconvert_exporter": "python",
   "pygments_lexer": "ipython3",
   "version": "3.6.5"
  }
 },
 "nbformat": 4,
 "nbformat_minor": 2
}
