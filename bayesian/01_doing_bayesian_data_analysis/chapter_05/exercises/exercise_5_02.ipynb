{
 "cells": [
  {
   "cell_type": "code",
   "execution_count": null,
   "metadata": {},
   "outputs": [],
   "source": [
    "import pandas as pd"
   ]
  },
  {
   "cell_type": "markdown",
   "metadata": {},
   "source": [
    "**Exercise 5.2. [Purpose: Getting an intuition for the previous results by using \"natural ferquency\" and \"Markov\" representations.]** \n",
    "\n",
    "**(A)** Suppose that the population consists of 100,000 people. Compute how many people would be expected to fall into each cell of Table 5.4. To compute the expected frequency of people in a cell, just multiply the cell probability by the size of the population. "
   ]
  },
  {
   "cell_type": "code",
   "execution_count": null,
   "metadata": {},
   "outputs": [],
   "source": [
    "# Probability of having the disease\n",
    "p_present = 0.001\n",
    "# Probability of getting a positive test\n",
    "p_positive_present = 0.99\n",
    "p_positive_absent = 0.05"
   ]
  },
  {
   "cell_type": "code",
   "execution_count": null,
   "metadata": {},
   "outputs": [],
   "source": [
    "# Joint probabilities\n",
    "data = [[p_positive_present * p_present, p_positive_absent * (1 - p_present)],\n",
    "        [(1 - p_positive_present) * p_present, (1 - p_positive_absent) * (1 - p_present)]]\n",
    "index = ['positive', 'negative']\n",
    "columns = ['present', 'absent']\n",
    "df = pd.DataFrame(data, index = index, columns = columns)\n",
    "df.columns.set_names(['disease'], inplace = True)\n",
    "df.index.set_names(['test result'], inplace = True)\n",
    "df"
   ]
  },
  {
   "cell_type": "code",
   "execution_count": null,
   "metadata": {},
   "outputs": [],
   "source": [
    "frequencies = df * 100000\n",
    "print(frequencies)"
   ]
  },
  {
   "cell_type": "code",
   "execution_count": null,
   "metadata": {},
   "outputs": [],
   "source": [
    "# Frequencies per column and row\n",
    "print(frequencies.sum(axis = 0))\n",
    "print(frequencies.sum(axis = 1))"
   ]
  },
  {
   "cell_type": "markdown",
   "metadata": {},
   "source": [
    "Notice the frequencies on the lower margin of the table. They indicate that out of 100,000 people, only 100 have the disease, whule 99,900 do not have the disease. These marginal frequencies instantiate the prior probability that p(present) = 0.001. Notice also the cell frequencies in the present column, which indicate that of 100 people with the disease, 99 have a positive test result and 1 has a negative test result. These cell frequencies instantiate the hit rate of 0.99. "
   ]
  },
  {
   "cell_type": "code",
   "execution_count": null,
   "metadata": {},
   "outputs": [],
   "source": []
  }
 ],
 "metadata": {
  "kernelspec": {
   "display_name": "Python 3",
   "language": "python",
   "name": "python3"
  },
  "language_info": {
   "codemirror_mode": {
    "name": "ipython",
    "version": 3
   },
   "file_extension": ".py",
   "mimetype": "text/x-python",
   "name": "python",
   "nbconvert_exporter": "python",
   "pygments_lexer": "ipython3",
   "version": "3.6.5"
  }
 },
 "nbformat": 4,
 "nbformat_minor": 2
}
