{
 "cells": [
  {
   "cell_type": "code",
   "execution_count": 1,
   "metadata": {},
   "outputs": [],
   "source": [
    "import pandas as pd"
   ]
  },
  {
   "cell_type": "markdown",
   "metadata": {},
   "source": [
    "**Exercise 5.2. [Purpose: Getting an intuition for the previous results by using \"natural ferquency\" and \"Markov\" representations.]** \n",
    "\n",
    "**(A)** Suppose that the population consists of 100,000 people. Compute how many people would be expected to fall into each cell of Table 5.4. To compute the expected frequency of people in a cell, just multiply the cell probability by the size of the population. "
   ]
  },
  {
   "cell_type": "code",
   "execution_count": 2,
   "metadata": {},
   "outputs": [],
   "source": [
    "# Probability of having the disease\n",
    "p_present = 0.001\n",
    "# Probability of getting a positive test\n",
    "p_positive_present = 0.99\n",
    "p_positive_absent = 0.05"
   ]
  },
  {
   "cell_type": "code",
   "execution_count": 3,
   "metadata": {},
   "outputs": [
    {
     "data": {
      "text/html": [
       "<div>\n",
       "<style scoped>\n",
       "    .dataframe tbody tr th:only-of-type {\n",
       "        vertical-align: middle;\n",
       "    }\n",
       "\n",
       "    .dataframe tbody tr th {\n",
       "        vertical-align: top;\n",
       "    }\n",
       "\n",
       "    .dataframe thead th {\n",
       "        text-align: right;\n",
       "    }\n",
       "</style>\n",
       "<table border=\"1\" class=\"dataframe\">\n",
       "  <thead>\n",
       "    <tr style=\"text-align: right;\">\n",
       "      <th>disease</th>\n",
       "      <th>present</th>\n",
       "      <th>absent</th>\n",
       "    </tr>\n",
       "    <tr>\n",
       "      <th>test result</th>\n",
       "      <th></th>\n",
       "      <th></th>\n",
       "    </tr>\n",
       "  </thead>\n",
       "  <tbody>\n",
       "    <tr>\n",
       "      <th>positive</th>\n",
       "      <td>0.00099</td>\n",
       "      <td>0.04995</td>\n",
       "    </tr>\n",
       "    <tr>\n",
       "      <th>negative</th>\n",
       "      <td>0.00001</td>\n",
       "      <td>0.94905</td>\n",
       "    </tr>\n",
       "  </tbody>\n",
       "</table>\n",
       "</div>"
      ],
      "text/plain": [
       "disease      present   absent\n",
       "test result                  \n",
       "positive     0.00099  0.04995\n",
       "negative     0.00001  0.94905"
      ]
     },
     "execution_count": 3,
     "metadata": {},
     "output_type": "execute_result"
    }
   ],
   "source": [
    "# Joint probabilities\n",
    "data = [[p_positive_present * p_present, p_positive_absent * (1 - p_present)],\n",
    "        [(1 - p_positive_present) * p_present, (1 - p_positive_absent) * (1 - p_present)]]\n",
    "index = ['positive', 'negative']\n",
    "columns = ['present', 'absent']\n",
    "df = pd.DataFrame(data, index = index, columns = columns)\n",
    "df.columns.set_names(['disease'], inplace = True)\n",
    "df.index.set_names(['test result'], inplace = True)\n",
    "df"
   ]
  },
  {
   "cell_type": "code",
   "execution_count": 4,
   "metadata": {},
   "outputs": [
    {
     "name": "stdout",
     "output_type": "stream",
     "text": [
      "disease      present   absent\n",
      "test result                  \n",
      "positive        99.0   4995.0\n",
      "negative         1.0  94905.0\n"
     ]
    }
   ],
   "source": [
    "frequencies = df * 100000\n",
    "print(frequencies)"
   ]
  },
  {
   "cell_type": "code",
   "execution_count": 5,
   "metadata": {},
   "outputs": [
    {
     "name": "stdout",
     "output_type": "stream",
     "text": [
      "disease\n",
      "present      100.0\n",
      "absent     99900.0\n",
      "dtype: float64\n",
      "test result\n",
      "positive     5094.0\n",
      "negative    94906.0\n",
      "dtype: float64\n"
     ]
    }
   ],
   "source": [
    "# Frequencies per column and row\n",
    "print(frequencies.sum(axis = 0))\n",
    "print(frequencies.sum(axis = 1))"
   ]
  },
  {
   "cell_type": "markdown",
   "metadata": {},
   "source": [
    "Notice the frequencies on the lower margin of the table. They indicate that out of 100,000 people, only 100 have the disease, whule 99,900 do not have the disease. These marginal frequencies instantiate the prior probability that p(present) = 0.001. Notice also the cell frequencies in the present column, which indicate that of 100 people with the disease, 99 have a positive test result and 1 has a negative test result. These cell frequencies instantiate the hit rate of 0.99. \n",
    "\n",
    "**(B)** Take a good look at the frequencies in the table you just computed for the previous part. These are te so-called 'natural frequencies' of the events, as opposed to the somewhat unintuitive experssion in terms of conditional probabilities. From the cell frequencies alone, determine the proportion of people who have the disease, given that their test result is positive. Before computing the exact answer arithmetically, first give a rough intuitive answer merely by looking at the relative frequencoes in the `positive` row. Does your intuitive answer match the intuitive answer you provided when originally reading about Table 5.4? Probably no. Your intuitive answer here is probably closer to the correct answer. Now compute the exact answer arithmetically. It should match the result from applying Bayes' rule to Table 5.4.\n",
    "\n",
    "By using frequencies, we know that 4995 + 99 people got a positive result, but only 99 people have the disease. That's a very small proportion. \n",
    "\n",
    "Arithmetically:"
   ]
  },
  {
   "cell_type": "code",
   "execution_count": 6,
   "metadata": {},
   "outputs": [
    {
     "data": {
      "text/plain": [
       "0.019434628975265017"
      ]
     },
     "execution_count": 6,
     "metadata": {},
     "output_type": "execute_result"
    }
   ],
   "source": [
    "99 / (4995 + 99)"
   ]
  },
  {
   "cell_type": "markdown",
   "metadata": {},
   "source": [
    "**(C)** No we'll consider a related representation of the probabilities in terms of natural frequencies, which is especially useful when we accumulate more data. This type of representation is called a Mark representation. Suppose now we start with a population of N = 10,000,000 people. We expect 99.9% of them (i.e. 9,990,000) not to have the disease, and just 0.1% (i.e. 10,000) to have the disease. Now consider how many people we expect to test positive. Of the 10,000 people who have the disease, 99% (i.e. 9,900) will be expected to test positive. O fthe 9,990,000 people wo do not have the disease, 5% (i.e. 499,500) will be expected to test positive. Now consider re-testing everyone who hass tested positive on the first test. How man of them are expected to show a negative result on the retest? Use this diagram to compute your answer:"
   ]
  },
  {
   "cell_type": "code",
   "execution_count": 7,
   "metadata": {},
   "outputs": [],
   "source": [
    "N = 10000000\n",
    "branch_1_1 = N * p_present\n",
    "\n",
    "branch_1_2 = branch_1_1 * p_positive_present\n",
    "\n",
    "branch_1_3 = branch_1_2 * (1 - p_positive_present)"
   ]
  },
  {
   "cell_type": "code",
   "execution_count": 8,
   "metadata": {},
   "outputs": [
    {
     "name": "stdout",
     "output_type": "stream",
     "text": [
      "10000.0\n",
      "9900.0\n",
      "99.00000000000009\n"
     ]
    }
   ],
   "source": [
    "print(branch_1_1)\n",
    "print(branch_1_2)\n",
    "print(branch_1_3)"
   ]
  },
  {
   "cell_type": "code",
   "execution_count": 9,
   "metadata": {},
   "outputs": [],
   "source": [
    "branch_2_1 = N * (1 - p_present)\n",
    "\n",
    "branch_2_2 = branch_2_1 * p_positive_absent\n",
    "\n",
    "branch_2_3 = branch_2_2 * (1 - p_positive_absent)"
   ]
  },
  {
   "cell_type": "code",
   "execution_count": 10,
   "metadata": {},
   "outputs": [
    {
     "name": "stdout",
     "output_type": "stream",
     "text": [
      "9990000.0\n",
      "499500.0\n",
      "474525.0\n"
     ]
    }
   ],
   "source": [
    "print(branch_2_1)\n",
    "print(branch_2_2)\n",
    "print(branch_2_3)"
   ]
  },
  {
   "cell_type": "markdown",
   "metadata": {},
   "source": [
    "```            \n",
    "            N = 10,000,000\n",
    "     <                         >\n",
    "    < p(present)       p(absent) >    \n",
    "   <                              >\n",
    "10,000                        9,990,000\n",
    "   V                              V\n",
    "   V p(positive|present)          V p(positive|absent)\n",
    "   V                              V \n",
    " 9,900                         499,500    \n",
    "   V                              V\n",
    "   V p(negative|present)          V p(negative|absent)\n",
    "   V                              V\n",
    "   99                          474,525\n",
    "```"
   ]
  },
  {
   "cell_type": "markdown",
   "metadata": {},
   "source": [
    "When computinog the frequencies for the empty boxes above, be careful to use the proper conditional probabilities!\n",
    "\n",
    "**(D)** Use the diagram in the previous part to answer this: what proportion of people, who test positive at first and then negative on retest, actually have the disease? In other words, of the total number of people at the bottom of the diagram in the previous part (those are the people who tested positive then negative), what proportion of them are in the left branch of the tree? How does the result compare with your answer to exercise 5.1?"
   ]
  },
  {
   "cell_type": "code",
   "execution_count": 11,
   "metadata": {},
   "outputs": [
    {
     "data": {
      "text/plain": [
       "0.00020858616504854387"
      ]
     },
     "execution_count": 11,
     "metadata": {},
     "output_type": "execute_result"
    }
   ],
   "source": [
    "branch_1_3 / (branch_1_3 + branch_2_3)"
   ]
  },
  {
   "cell_type": "markdown",
   "metadata": {},
   "source": [
    "We get exactly the same result as in exercise 5.1"
   ]
  }
 ],
 "metadata": {
  "kernelspec": {
   "display_name": "Python 3",
   "language": "python",
   "name": "python3"
  },
  "language_info": {
   "codemirror_mode": {
    "name": "ipython",
    "version": 3
   },
   "file_extension": ".py",
   "mimetype": "text/x-python",
   "name": "python",
   "nbconvert_exporter": "python",
   "pygments_lexer": "ipython3",
   "version": "3.6.5"
  }
 },
 "nbformat": 4,
 "nbformat_minor": 2
}
