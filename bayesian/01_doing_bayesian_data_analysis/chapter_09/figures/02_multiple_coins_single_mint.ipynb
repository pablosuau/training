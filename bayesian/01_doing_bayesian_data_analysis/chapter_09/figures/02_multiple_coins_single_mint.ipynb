{
 "cells": [
  {
   "cell_type": "code",
   "execution_count": 1,
   "metadata": {},
   "outputs": [],
   "source": [
    "%matplotlib inline\n",
    "import os\n",
    "import numpy as np\n",
    "import matplotlib.pyplot as plt\n",
    "from scipy.stats import beta\n",
    "from matplotlib import cm"
   ]
  },
  {
   "cell_type": "markdown",
   "metadata": {},
   "source": [
    "These functions are used in the next sections to plot the figures.\n",
    "\n",
    "These figures are a grid approximation estimation of the different distributions involved in a hierarchical model for the multiple coins from a single mint example.\n",
    "\n",
    "The prior distribution is calculated as:\n",
    "\n",
    "$p(\\theta_1, \\theta_2, \\omega) = p(\\theta_1|\\omega)p(\\theta_2|\\omega)p(\\omega)$\n",
    "\n",
    "The likelihood distributions are calculated as:\n",
    "\n",
    "$p(D|\\theta_1, \\omega) = \\theta_1^{z}(1 - \\theta_1)^{N_1-z}$\n",
    "$p(D|\\theta_2, \\omega) = \\theta_2^{z}(1 - \\theta_2)^{N_2-z}$\n",
    "\n",
    "And the posterior distribution $p(\\theta_1, \\theta_2, \\omega | D))$ is calculated by multiplying each cell of the prior grid by each corresponding cell in the likelihood grid and then normalising.\n",
    "\n",
    "All distributions are normalised so that they are probability mass functions. Contrary to the case of the previous figures (see notebook 01) and following the example in the book we are not using the cell width to transform the probability mass functions into probability density functions.\n",
    "\n",
    "**Note** The marginal distributions' axis are different to those of the book. After some tests I found out that there must be some kind of error in the book. In the text it is said that $p(w)$ should look like a normalised $beta(2, 2)$ distribution, and this is the case in my version of the figures."
   ]
  },
  {
   "cell_type": "markdown",
   "metadata": {},
   "source": [
    "## Auxiliary functions"
   ]
  },
  {
   "cell_type": "code",
   "execution_count": 2,
   "metadata": {},
   "outputs": [],
   "source": [
    "# This function calculates the prior, likelihood and posterior distributions from the selected parameters\n",
    "#\n",
    "# The parameters parameter is a dictionary with the following fields:\n",
    "#   - a_w: alpha parameter for omega's beta distribution\n",
    "#   - b_w: beta parameter for omega's beta distribution\n",
    "#   - k: k parameter for theta's beta distribution\n",
    "#   - n: number of observed coin flips (array with two elements, one for each coin)\n",
    "#   - z: number of observed heads (array with two elements, one for each coin)\n",
    "def calculate_pdfs(paremeters, granularity = 100):\n",
    "    theta = np.linspace(0, 1, granularity)\n",
    "    omega = np.linspace(0, 1, granularity)\n",
    "    THETA1, THETA2, OMEGA = np.meshgrid(theta, theta, omega)\n",
    "    \n",
    "    prior = np.multiply(np.multiply(beta.pdf(THETA1, \n",
    "                                             OMEGA * (parameters['k'] - 2) + 1, \n",
    "                                             (1 - OMEGA) * (parameters['k'] - 2) + 1), \n",
    "                                    beta.pdf(THETA2, \n",
    "                                             OMEGA * (parameters['k'] - 2) + 1, \n",
    "                                             (1 - OMEGA) * (parameters['k'] - 2) + 1)),\n",
    "                        beta.pdf(OMEGA, parameters['a_w'], parameters['b_w']))\n",
    "    prior = prior / np.sum(prior)\n",
    "    \n",
    "    likelihood = np.multiply(np.multiply(np.power(THETA1, parameters['z'][0]), \n",
    "                                         np.power(1 - THETA1, parameters['n'][0] - parameters['z'][0])),\n",
    "                             np.multiply(np.power(THETA2, parameters['z'][1]), \n",
    "                                         np.power(1 - THETA2, parameters['n'][1] - parameters['z'][1])))\n",
    "    likelihood = likelihood / np.sum(likelihood)\n",
    "    \n",
    "    posterior = np.multiply(prior, likelihood)\n",
    "    posterior = posterior / np.sum(posterior)\n",
    "    \n",
    "    return theta, omega, prior, likelihood, posterior"
   ]
  },
  {
   "cell_type": "code",
   "execution_count": 3,
   "metadata": {},
   "outputs": [],
   "source": [
    "# Plots the top or bottom section of the figure, i.e. the prior and the posterior sections\n",
    "# The pdf parameter is either the priors or the posteriors calculated by the function above\n",
    "# If parameters is assigned the parameters dictionary, the function will be assuming that it is plotting\n",
    "# the top section (prior) and will adapt the label accordingly\n",
    "def plot_prior_posterior(pdf, theta, omega, parameters = None):\n",
    "    THETA, OMEGA = np.meshgrid(theta, omega)\n",
    "    \n",
    "    pdf_theta = []\n",
    "    marginal_theta = []\n",
    "    for i in range(2):\n",
    "        pdf_theta.append(np.sum(pdf, axis = i))\n",
    "        marginal_theta.append(np.sum(pdf, axis = (i, 2)))\n",
    "    marginal_omega = np.sum(pdf, axis = (0, 1)) \n",
    "    \n",
    "    fig = plt.figure(constrained_layout = False)\n",
    "    gs = fig.add_gridspec(2, 3)\n",
    "    \n",
    "    ax1 = fig.add_subplot(gs[0, 0])\n",
    "    ax1.contourf(THETA, OMEGA, pdf_theta[0].T, cmap = cm.coolwarm)\n",
    "    ax1.set_xlabel(r'$\\theta_1$')\n",
    "    ax1.set_ylabel(r'$\\omega$')\n",
    "    if parameters is not None:\n",
    "        text = r'$p(\\theta_1, \\omega)$'\n",
    "    else:\n",
    "        text = r'$p(\\theta_1, \\omega|D)$'\n",
    "    ax1.text(0.02, 0.92, text)\n",
    "    \n",
    "    ax2 = fig.add_subplot(gs[0, 1])\n",
    "    ax2.contourf(THETA, OMEGA, pdf_theta[1].T, cmap = cm.coolwarm)\n",
    "    ax2.set_xlabel(r'$\\theta_2$')\n",
    "    ax2.set_ylabel(r'$\\omega$')\n",
    "    if parameters is not None:\n",
    "        text = r'$p(\\theta_2, \\omega)$'\n",
    "    else:\n",
    "        text = r'$p(\\theta_2, \\omega|D)$'\n",
    "    ax2.text(0.02, 0.92, text)\n",
    "\n",
    "    ax3 = fig.add_subplot(gs[0, 2])\n",
    "    ax3.plot(marginal_omega, omega)\n",
    "    ax3.set_xlabel(r'$p(\\omega)$')\n",
    "    ax3.set_ylabel(r'$\\omega$')\n",
    "    \n",
    "    ax4 = fig.add_subplot(gs[1, 0])\n",
    "    ax4.plot(theta, marginal_theta[0])\n",
    "    ax4.set_xlabel(r'$\\theta_1$')\n",
    "    ax4.set_ylabel(r'$p(\\theta_1)$')\n",
    "    \n",
    "    ax5 = fig.add_subplot(gs[1, 1])\n",
    "    ax5.plot(theta, marginal_theta[1])\n",
    "    ax5.set_xlabel(r'$\\theta_2$')\n",
    "    ax5.set_ylabel(r'$p(\\theta_2)$')\n",
    "\n",
    "    ax6 = fig.add_subplot(gs[1, 2])\n",
    "    ax6.axis('off')\n",
    "    if parameters is not None:\n",
    "        parameters_str = '$A_{\\omega}$ = ' + \\\n",
    "                         str(parameters['a_w']) + \\\n",
    "                         ', $B_{\\omega}$ = ' + \\\n",
    "                         str(parameters['b_w']) + \\\n",
    "                         '\\nK = ' + \\\n",
    "                         str(parameters['k'])\n",
    "        ax6.text(0, 0.65, 'Prior', transform = ax6.transAxes, fontsize = 18, horizontalalignment = 'left')\n",
    "        ax6.text(0, 0.4, parameters_str, transform = ax6.transAxes, fontsize = 12, horizontalalignment = 'left')\n",
    "    else:\n",
    "        ax6.text(0, 0.65, 'Posterior', transform = ax6.transAxes, fontsize = 18, horizontalalignment = 'left')\n",
    "\n",
    "    fig.set_figwidth(8)\n",
    "    fig.set_figheight(5)\n",
    "    plt.tight_layout()\n",
    "    \n",
    "    return [ax1, ax2, ax3, ax4, ax5, ax6]"
   ]
  },
  {
   "cell_type": "code",
   "execution_count": 4,
   "metadata": {},
   "outputs": [],
   "source": [
    "# Plots the medium section of the figure (likelihood)\n",
    "def plot_likelihood(likelihood, theta, omega, parameters):\n",
    "    THETA, OMEGA = np.meshgrid(theta, omega)\n",
    "    \n",
    "    fig = plt.figure(constrained_layout = False)\n",
    "    gs = fig.add_gridspec(1, 3)\n",
    "    \n",
    "    ax1 = fig.add_subplot(gs[0, 0])\n",
    "    ax1.contourf(THETA, OMEGA, np.sum(likelihood, axis = 0).T, cmap = cm.coolwarm)\n",
    "    ax1.set_xlabel(r'$\\theta_1$')\n",
    "    ax1.set_ylabel(r'$\\omega$')\n",
    "    \n",
    "    ax2 = fig.add_subplot(gs[0, 1])\n",
    "    ax2.contourf(THETA, OMEGA, np.sum(likelihood, axis = 1).T, cmap = cm.coolwarm)\n",
    "    ax2.set_xlabel(r'$\\theta_2$')\n",
    "    ax2.set_ylabel(r'$\\omega$')\n",
    "\n",
    "    ax3 = fig.add_subplot(gs[:, 2])\n",
    "    ax3.axis('off')\n",
    "    data_str = 'D1 = ' + \\\n",
    "               str(parameters['z'][0]) + \\\n",
    "               ' heads, ' + \\\n",
    "               str(parameters['n'][0] - parameters['z'][0]) + \\\n",
    "               ' tails\\nD2 = ' + \\\n",
    "               str(parameters['z'][1]) + \\\n",
    "               ' heads, ' + \\\n",
    "               str(parameters['n'][1] - parameters['z'][1]) + \\\n",
    "               ' tails'\n",
    "    ax3.text(0, 0.55, 'Likelihood', transform = ax3.transAxes, fontsize = 18, horizontalalignment = 'left')\n",
    "    ax3.text(0, 0.27, data_str, transform = ax3.transAxes, fontsize = 12, horizontalalignment = 'left')\n",
    "\n",
    "    fig.set_figwidth(8)\n",
    "    fig.set_figheight(2.5)\n",
    "    plt.tight_layout()"
   ]
  },
  {
   "cell_type": "code",
   "execution_count": 5,
   "metadata": {},
   "outputs": [],
   "source": [
    "# Plots the complete figure given a set of parameters (see the definition of the\n",
    "# calculate_pdfs function for a description of this parameter)\n",
    "def plot_figure(parameters):\n",
    "    theta, omega, prior, likelihood, posterior =  calculate_pdfs(parameters)\n",
    "\n",
    "    axes_prior = plot_prior_posterior(prior, theta, omega, parameters)\n",
    "    plot_likelihood(likelihood, theta, omega, parameters)\n",
    "    axes_posterior = plot_prior_posterior(posterior, theta, omega)\n",
    "\n",
    "    maximum = max(axes_prior[2].get_xlim()[1],\n",
    "                  axes_posterior[2].get_xlim()[1],\n",
    "                  axes_prior[3].get_ylim()[1],\n",
    "                  axes_prior[4].get_ylim()[1],\n",
    "                  axes_posterior[3].get_ylim()[1],\n",
    "                  axes_posterior[4].get_ylim()[1])\n",
    " \n",
    "    axes_prior[2].set_xlim([0, maximum])\n",
    "    axes_posterior[2].set_xlim([0, maximum])\n",
    "    axes_prior[3].set_ylim([0, maximum])\n",
    "    axes_prior[4].set_ylim([0, maximum])\n",
    "    axes_posterior[3].set_ylim([0, maximum])\n",
    "    axes_posterior[4].set_ylim([0, maximum])"
   ]
  },
  {
   "cell_type": "markdown",
   "metadata": {},
   "source": [
    "## Figures\n",
    "\n",
    "**Figure 9.5** The prior imposes only a weak dependence of $\\theta$ on $\\omega$ (i.e., $K$ is small), so the posteriors on $\\theta_1$ and $\\theta_2$ (bottom row) are only weakly influenced by each other's data. Compare with Figure 9.6, which uses the same data but a prior that has a strong dependence. "
   ]
  },
  {
   "cell_type": "code",
   "execution_count": null,
   "metadata": {
    "scrolled": false
   },
   "outputs": [
    {
     "data": {
      "image/png": "[encoded data removed]",
      "text/plain": [
       "<Figure size 576x360 with 6 Axes>"
      ]
     },
     "metadata": {
      "needs_background": "light"
     },
     "output_type": "display_data"
    },
    {
     "data": {
      "image/png": "[encoded data removed]",
      "text/plain": [
       "<Figure size 576x180 with 3 Axes>"
      ]
     },
     "metadata": {
      "needs_background": "light"
     },
     "output_type": "display_data"
    }
   ],
   "source": [
    "parameters = {\n",
    "    'a_w': 2,\n",
    "    'b_w': 2,\n",
    "    'k': 5,\n",
    "    'n': [15, 5], \n",
    "    'z': [3, 4]\n",
    "}\n",
    "\n",
    "plot_figure(parameters)"
   ]
  },
  {
   "cell_type": "markdown",
   "metadata": {},
   "source": [
    "**Figure 9.6** The prior imposes a strong dependency of $\\theta$ on $\\omega$ (i.e., $K$ is large), so the posteriors on $\\theta_1$ and $\\theta_2$ (bottom row) are influenced by each other's data, with $\\theta_2$ being pulled toward $\\theta_1$ because $N_1 > N_2$. Compare with Figure 9.5, which uses the same data but a prior that has a weak dependence. "
   ]
  },
  {
   "cell_type": "code",
   "execution_count": null,
   "metadata": {},
   "outputs": [],
   "source": [
    "parameters = {\n",
    "    'a_w': 2,\n",
    "    'b_w': 2,\n",
    "    'k': 75,\n",
    "    'n': [15, 5], \n",
    "    'z': [3, 4]\n",
    "}\n",
    "\n",
    "plot_figure(parameters)"
   ]
  }
 ],
 "metadata": {
  "kernelspec": {
   "display_name": "Python 3",
   "language": "python",
   "name": "python3"
  },
  "language_info": {
   "codemirror_mode": {
    "name": "ipython",
    "version": 3
   },
   "file_extension": ".py",
   "mimetype": "text/x-python",
   "name": "python",
   "nbconvert_exporter": "python",
   "pygments_lexer": "ipython3",
   "version": "3.8.3"
  }
 },
 "nbformat": 4,
 "nbformat_minor": 2
}
