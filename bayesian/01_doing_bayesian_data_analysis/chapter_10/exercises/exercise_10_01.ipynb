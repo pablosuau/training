{
 "cells": [
  {
   "cell_type": "code",
   "execution_count": 1,
   "metadata": {},
   "outputs": [],
   "source": [
    "from scipy.special import beta"
   ]
  },
  {
   "cell_type": "markdown",
   "metadata": {},
   "source": [
    "**Exercise 10.1 [Purpose: to illustrate the fact that models with more distinctive predictions can be more easily discriminated.]** Consider the scenario of Section 10.2.1, in which there were two coin factories, one of which was tail-biased and the other head-biased. Suppose we flip a coin that we know is from one of the two factories but we do not know which factory, and the prior probabilities of the factories are 50/50. The results show $z=7$ heads in $N=10$ flips.\n",
    "\n",
    "**(A)** If $w_1=0.25$, $w_2=0.75$ and $\\kappa=6$, what are the posterior probabilities of the factories?"
   ]
  },
  {
   "cell_type": "code",
   "execution_count": 2,
   "metadata": {},
   "outputs": [],
   "source": [
    "def analytical_derivation_pdm(w, k, n, z):\n",
    "    a = w * (k - 2) + 1\n",
    "    b = (1 - w) * (k - 2) + 1\n",
    "    pdm = beta(z + a, n - z + b) / beta(a, b)\n",
    "\n",
    "    print('w = ' + str(w) + ', k = ' + str(k))\n",
    "    print('a = ' + str(a) + ', b = ' + str(b))\n",
    "    print('n = ' + str(n) + ', z = ' + str(z))\n",
    "    print('p(z, n|m) = ' + str(pdm))\n",
    "    \n",
    "    return pdm"
   ]
  },
  {
   "cell_type": "code",
   "execution_count": 3,
   "metadata": {},
   "outputs": [],
   "source": [
    "def analytical_derivation_pmd(pdm1, pdm2, pm1, pm2):\n",
    "    ratio = pdm1 * pm1 / (pdm2 * pm2)\n",
    "    pm1d = ratio / (1 + ratio)\n",
    "    pm2d = 1 - pm1d\n",
    "    print('p(m=1|D) = ' + str(pm1d))\n",
    "    print('p(m=2|D) = ' + str(pm2d))"
   ]
  },
  {
   "cell_type": "code",
   "execution_count": 4,
   "metadata": {
    "scrolled": false
   },
   "outputs": [
    {
     "name": "stdout",
     "output_type": "stream",
     "text": [
      "w = 0.25, k = 6\n",
      "a = 2.0, b = 4.0\n",
      "n = 10, z = 7\n",
      "p(z, n|m) = 0.000444000444000444\n"
     ]
    }
   ],
   "source": [
    "pdm1 = analytical_derivation_pdm(0.25, 6, 10, 7)"
   ]
  },
  {
   "cell_type": "code",
   "execution_count": 5,
   "metadata": {},
   "outputs": [
    {
     "name": "stdout",
     "output_type": "stream",
     "text": [
      "w = 0.75, k = 6\n",
      "a = 4.0, b = 2.0\n",
      "n = 10, z = 7\n",
      "p(z, n|m) = 0.001332001332001332\n"
     ]
    }
   ],
   "source": [
    "pdm2 = analytical_derivation_pdm(0.75, 6, 10, 7)"
   ]
  },
  {
   "cell_type": "code",
   "execution_count": 6,
   "metadata": {},
   "outputs": [
    {
     "name": "stdout",
     "output_type": "stream",
     "text": [
      "p(m=1|D) = 0.25\n",
      "p(m=2|D) = 0.75\n"
     ]
    }
   ],
   "source": [
    "analytical_derivation_pmd(pdm1, pdm2, 0.5, 0.5)"
   ]
  },
  {
   "cell_type": "markdown",
   "metadata": {},
   "source": [
    "**(B)** If $w_1=0.25$, $w_2=0.75$ and $\\kappa=202$, what are the posterior probabilities of the factories?"
   ]
  },
  {
   "cell_type": "code",
   "execution_count": 7,
   "metadata": {},
   "outputs": [
    {
     "name": "stdout",
     "output_type": "stream",
     "text": [
      "w = 0.25, k = 202\n",
      "a = 51.0, b = 151.0\n",
      "n = 10, z = 7\n",
      "p(z, n|m) = 3.3220052511454465e-05\n"
     ]
    }
   ],
   "source": [
    "pdm1 = analytical_derivation_pdm(0.25, 202, 10, 7)"
   ]
  },
  {
   "cell_type": "code",
   "execution_count": 8,
   "metadata": {},
   "outputs": [
    {
     "name": "stdout",
     "output_type": "stream",
     "text": [
      "w = 0.75, k = 202\n",
      "a = 151.0, b = 51.0\n",
      "n = 10, z = 7\n",
      "p(z, n|m) = 0.002048602283091808\n"
     ]
    }
   ],
   "source": [
    "pdm2 = analytical_derivation_pdm(0.75, 202, 10, 7)"
   ]
  },
  {
   "cell_type": "code",
   "execution_count": 9,
   "metadata": {},
   "outputs": [
    {
     "name": "stdout",
     "output_type": "stream",
     "text": [
      "p(m=1|D) = 0.015957198625130557\n",
      "p(m=2|D) = 0.9840428013748694\n"
     ]
    }
   ],
   "source": [
    "analytical_derivation_pmd(pdm1, pdm2, 0.5, 0.5)"
   ]
  },
  {
   "cell_type": "markdown",
   "metadata": {},
   "source": [
    "**(C)** Why are the posterior probabilities so different in parts A and B, even though the modes of the factories are the same?\n",
    "\n",
    "A higher $\\kappa$ value corresponds to a narrower prior distribution i.e. we are more certain about the values of $w_1$ and $w_2$. Therefore, posterior estimations for p(m|D) are less impacted by shrinkage for the same amount of data if we have a higher $\\kappa$. "
   ]
  }
 ],
 "metadata": {
  "kernelspec": {
   "display_name": "Python 3",
   "language": "python",
   "name": "python3"
  },
  "language_info": {
   "codemirror_mode": {
    "name": "ipython",
    "version": 3
   },
   "file_extension": ".py",
   "mimetype": "text/x-python",
   "name": "python",
   "nbconvert_exporter": "python",
   "pygments_lexer": "ipython3",
   "version": "3.8.3"
  }
 },
 "nbformat": 4,
 "nbformat_minor": 4
}
