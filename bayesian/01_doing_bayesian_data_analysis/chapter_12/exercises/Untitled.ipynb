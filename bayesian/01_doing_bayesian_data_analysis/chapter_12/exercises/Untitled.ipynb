{
 "cells": [
  {
   "cell_type": "code",
   "execution_count": 1,
   "metadata": {},
   "outputs": [
    {
     "name": "stdout",
     "output_type": "stream",
     "text": [
      "              n_corr_of_subj\n",
      "cond_of_subj                \n",
      "0                       0.40\n",
      "1                       0.50\n",
      "2                       0.51\n",
      "3                       0.52\n"
     ]
    }
   ],
   "source": [
    "%matplotlib inline\n",
    "import numpy as np\n",
    "import os\n",
    "os.chdir('../../util/')\n",
    "import one_odd_group_model_comp2e"
   ]
  },
  {
   "cell_type": "markdown",
   "metadata": {},
   "source": [
    "**Exercise 12.2 [Purpose: Model comparison for different partitions of group modes, using the script of Section 12.2.2.1]** Open the script `OneOddGroupModelComp2E.R`, making sure that R's working directory includes the various utility programs used with this book. \n",
    "\n",
    "**(A)** For this part of the exercise, the goal is to reproduce the findings presented in Section 12.2.2.1. First, be sure that the prior probabilities on the models are set to 50/50:\n",
    "\n",
    "```\n",
    "modelProb[1] <- 0.5\n",
    "modelProb[2] <- 0.5\n",
    "```\n",
    "\n",
    "Run the script and report the results, including the graphs for the model index and the modes and differences of modes. State what the two models are, and state which model is preferred and by how much (*Hint:* Model 2 is a the single-mode model, and it is preferred.)"
   ]
  },
  {
   "cell_type": "code",
   "execution_count": null,
   "metadata": {},
   "outputs": [],
   "source": []
  }
 ],
 "metadata": {
  "kernelspec": {
   "display_name": "Python 3",
   "language": "python",
   "name": "python3"
  },
  "language_info": {
   "codemirror_mode": {
    "name": "ipython",
    "version": 3
   },
   "file_extension": ".py",
   "mimetype": "text/x-python",
   "name": "python",
   "nbconvert_exporter": "python",
   "pygments_lexer": "ipython3",
   "version": "3.8.3"
  }
 },
 "nbformat": 4,
 "nbformat_minor": 4
}
