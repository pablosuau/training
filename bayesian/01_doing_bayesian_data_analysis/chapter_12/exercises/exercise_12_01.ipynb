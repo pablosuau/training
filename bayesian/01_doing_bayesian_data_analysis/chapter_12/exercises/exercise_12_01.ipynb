{
 "cells": [
  {
   "cell_type": "code",
   "execution_count": 1,
   "metadata": {},
   "outputs": [
    {
     "name": "stderr",
     "output_type": "stream",
     "text": [
      "/opt/anaconda3/lib/python3.8/site-packages/theano/configdefaults.py:560: UserWarning: DeprecationWarning: there is no c++ compiler.This is deprecated and with Theano 0.11 a c++ compiler will be mandatory\n",
      "  warnings.warn(\"DeprecationWarning: there is no c++ compiler.\"\n",
      "WARNING (theano.configdefaults): g++ not detected ! Theano will be unable to execute optimized C-implementations (for both CPU and GPU) and will default to Python implementations. Performance will be severely degraded. To remove this warning, set Theano flags cxx to an empty string.\n",
      "WARNING (theano.tensor.blas): Using NumPy C-API based implementation for BLAS functions.\n"
     ]
    }
   ],
   "source": [
    "%matplotlib inline\n",
    "import numpy as np\n",
    "import os\n",
    "os.chdir('../../util/')\n",
    "from bern_beta import bern_beta"
   ]
  },
  {
   "cell_type": "markdown",
   "metadata": {},
   "source": [
    "**Exercise 12.1. [Purpose: To make sure you understand the Bayes' factors regarding a single coin in Figure 12.3 and Equation 12.4, including the Savage-Dickey method.]** Find the file BernBeta.R in the programs that accompany this book. Open RStudio with the folder of that file as R's working directory. Source the file so that R knows about the function `BernBeta`:\n",
    "\n",
    "```\n",
    "source(\"BernBeta.R\")\n",
    "```\n",
    "\n",
    "Now, suppose we have a coin that is flipped 24 times and shows 7 heads. Enter the data into R, like this:\n",
    "\n",
    "```\n",
    "z=7 ; N=24\n",
    "```\n",
    "\n",
    "**(A)** According to the spike null hypothesis, for which the only credible value of $\\theta$ is 0.5, what is the probability of the data? *Hint:* It is $\\theta^z (1-\\theta)^{(N-z)}$. Compute the value."
   ]
  },
  {
   "cell_type": "code",
   "execution_count": 2,
   "metadata": {},
   "outputs": [
    {
     "name": "stdout",
     "output_type": "stream",
     "text": [
      "5.960464477539063e-08\n"
     ]
    }
   ],
   "source": [
    "z = 7\n",
    "N = 24\n",
    "theta = 0.5\n",
    "\n",
    "p = theta ** z * (1 - theta)**(N-z)\n",
    "\n",
    "print(p)"
   ]
  },
  {
   "cell_type": "markdown",
   "metadata": {},
   "source": [
    "**(B)** Verify the result of the previous part by approximating a spike prior with a narrow beta distribution. Use the `BernBeta` function with a $beta(\\theta|2000, 2000)$ prior, like this:\n",
    "\n",
    "```\n",
    "a=2000 ; b=2000\n",
    "openGraph(widht=5,height=7)\n",
    "BernBeta( c(a,b) , c(rep(0,N-z), rep(1,z)) , ROPE=c(0.48,0.52) ,\n",
    "          plotType=\"Bars\" , showCentTend=\"Mode\" , showHDI=TRUE , showpD = TRUE )\n",
    "```\n",
    "\n",
    "Include the resulting graph in your report. What is the value of $p(D)$ for this prior? Is it very close to the value computed from the exact spike prior in the previous part of the exercise? (It should be.) Explain why they are not exactly equal. "
   ]
  },
  {
   "cell_type": "code",
   "execution_count": 3,
   "metadata": {},
   "outputs": [
    {
     "name": "stdout",
     "output_type": "stream",
     "text": [
      "p(D) = 6.016980469645256e-08\n"
     ]
    },
    {
     "data": {
      "image/png": "[encoded data removed]",
      "text/plain": [
       "<Figure size 1152x144 with 3 Axes>"
      ]
     },
     "metadata": {
      "needs_background": "light"
     },
     "output_type": "display_data"
    }
   ],
   "source": [
    "_ = bern_beta([2000, 2000], \n",
    "              np.hstack((np.repeat(0, N - z), np.repeat(1, z))),\n",
    "              rope = [0.48, 0.52],\n",
    "              plot_type = 'bars',\n",
    "              show_cent_tend = 'mode', \n",
    "              show_hdi = True,\n",
    "              show_pd = True)"
   ]
  },
  {
   "cell_type": "markdown",
   "metadata": {},
   "source": [
    "It is very similar, but not exactly the same because within `bern_beta` we take into account our prior "
   ]
  }
 ],
 "metadata": {
  "kernelspec": {
   "display_name": "Python 3",
   "language": "python",
   "name": "python3"
  },
  "language_info": {
   "codemirror_mode": {
    "name": "ipython",
    "version": 3
   },
   "file_extension": ".py",
   "mimetype": "text/x-python",
   "name": "python",
   "nbconvert_exporter": "python",
   "pygments_lexer": "ipython3",
   "version": "3.8.3"
  }
 },
 "nbformat": 4,
 "nbformat_minor": 4
}
