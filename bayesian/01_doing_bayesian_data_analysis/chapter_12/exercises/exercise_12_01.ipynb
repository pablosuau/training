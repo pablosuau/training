{
 "cells": [
  {
   "cell_type": "code",
   "execution_count": null,
   "metadata": {},
   "outputs": [],
   "source": []
  },
  {
   "cell_type": "markdown",
   "metadata": {},
   "source": [
    "**Exercise 12.1. [Purpose: To make sure you understand the Bayes' factors regarding a single coin in Figure 12.3 and Equation 12.4, including the Savage-Dickey method.]** Find the file BernBeta.R in the programs that accompany this book. Open RStudio with the folder of that file as R's working directory. Source the file so that R knows about the function `BernBeta`:\n",
    "\n",
    "```\n",
    "source(\"BernBeta.R\")\n",
    "```\n",
    "\n",
    "Now, suppose we have a coin that is flipped 24 times and shows 7 heads. Enter the data into R, like this:\n",
    "\n",
    "```\n",
    "z=7 ; N=24\n",
    "```\n",
    "\n",
    "**(A)** According to the spike null hypothesis, for which the only credible value of $\\theta$ is 0.5, what is the probability of the data? *Hint:* It is $\\theta^z (1-\\theta)^{(N-z)}$. Compute the value."
   ]
  },
  {
   "cell_type": "code",
   "execution_count": 3,
   "metadata": {},
   "outputs": [
    {
     "name": "stdout",
     "output_type": "stream",
     "text": [
      "5.960464477539063e-08\n"
     ]
    }
   ],
   "source": [
    "z = 7\n",
    "N = 24\n",
    "theta = 0.5\n",
    "\n",
    "p = theta ** z * (1 - theta)**(N-z)\n",
    "\n",
    "print(p)"
   ]
  },
  {
   "cell_type": "markdown",
   "metadata": {},
   "source": [
    "**(B)** Verify the result of the previous part by approximating a spike prior with a narrow beta distribution. Use the `BernBeta` function with a $beta(\\theta|2000, 2000)$ prior, like this:\n",
    "\n",
    "```\n",
    "a=2000 ; b=2000\n",
    "openGraph(widht=5,height=7)\n",
    "BernBeta( c(a,b) , c(rep(0,N-z), rep(1,z)) , ROPE=c(0.48,0.52) ,\n",
    "          plotType=\"Bars\" , showCentTend=\"Mode\" , showHDI=TRUE , showpD = TRUE )\n",
    "```\n",
    "\n",
    "Include the resulting graph in your report. What is the value of $p(D)$ for this prior? Is it very close to the value computed from the exact spike prior in the previous part of the exercise? (It should be.) Explain why they are not exactly equal. "
   ]
  },
  {
   "cell_type": "code",
   "execution_count": null,
   "metadata": {},
   "outputs": [],
   "source": []
  }
 ],
 "metadata": {
  "kernelspec": {
   "display_name": "Python 3",
   "language": "python",
   "name": "python3"
  },
  "language_info": {
   "codemirror_mode": {
    "name": "ipython",
    "version": 3
   },
   "file_extension": ".py",
   "mimetype": "text/x-python",
   "name": "python",
   "nbconvert_exporter": "python",
   "pygments_lexer": "ipython3",
   "version": "3.8.3"
  }
 },
 "nbformat": 4,
 "nbformat_minor": 4
}
