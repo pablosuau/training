{
 "cells": [
  {
   "cell_type": "code",
   "execution_count": 1,
   "metadata": {},
   "outputs": [],
   "source": [
    "from math import comb\n",
    "import numpy as np"
   ]
  },
  {
   "cell_type": "markdown",
   "metadata": {},
   "source": [
    "**Exercise 11.2. [Purpose: To determine NHST CIs, and notice that they depend on the experimenter's intention.]** We continue with the scenario of the previous exercise: A dichotomous outcome, with $N = 45$ and $z=3$. \n",
    "\n",
    "**(A)** If the intention is to stop when $N=45$, what is the 95% CI?\n",
    "\n",
    "*Hints*: Try this continuation of the R script from the previous exercise:\n",
    "\n",
    "```\n",
    "for ( theta in seq( 0.170 , 0.190 , 0.001) ) {\n",
    "   show( c(\n",
    "      theta ,\n",
    "      2*sum( choose(N, lowTailZ) * theta^lowTailZ * (1-theta)^(N - lowTailZ) )\n",
    "   ))\n",
    "}\n",
    "\n",
    "highTailZ = z:N\n",
    "for ( theta in seq( 0.005 , 0.020 , 0.001) ) {\n",
    "   show( c(\n",
    "      theta ,\n",
    "      2*sum( choose(N, highTailZ) * theta^highTailZ * (1-theta)^(N - highTailZ) )\n",
    "   ))\n",
    "}\n",
    "```\n",
    "\n",
    "Explain carefully what the code does and what it means!"
   ]
  },
  {
   "cell_type": "code",
   "execution_count": 2,
   "metadata": {},
   "outputs": [
    {
     "name": "stdout",
     "output_type": "stream",
     "text": [
      "[4, 12]\n"
     ]
    }
   ],
   "source": [
    "N = 45 \n",
    "theta = 1 / 6\n",
    "\n",
    "# We calculate the probability for each value of z\n",
    "dist = np.array([comb(N, z) * theta ** z * (1 - theta) ** (N - z) for z in range(N + 1)])\n",
    "\n",
    "# We sort the values of z in increasing order\n",
    "# of probability, and we start taking elements from the left and right tail using this\n",
    "# ordering until we get a probabiliy mass of at least 0.05.\n",
    "# Because the binomial distribution is unimodal, I am assuming that the 95% CI is \n",
    "# between the minimum and the maximum z values that were not selected during the \n",
    "# while loop\n",
    "mass = 0\n",
    "i = 0\n",
    "values = list(range(N + 1))\n",
    "indexes = np.argsort(dist)\n",
    "while mass < 0.05:\n",
    "    mass = mass + dist[indexes[i]]\n",
    "    values.remove(indexes[i])\n",
    "    i = i + 1\n",
    "print([min(values), max(values)])"
   ]
  },
  {
   "cell_type": "markdown",
   "metadata": {},
   "source": [
    "Notice that $z=3$ is outside the 95% CI. If we add `print(indexes[i])` to the `while` loop above we will observe that $z=3$ is the last value to be removed and makes the probability mass \"jump\" from 0.04 to 0.07. We would reject the null hypothesis for $z=3$ using this sampling intention, as we already did in the first exercise."
   ]
  },
  {
   "cell_type": "markdown",
   "metadata": {},
   "source": [
    "**(B)** If the intention is to stop when $z = 3$, what is the 95% CI? Is the CI the same as for stopping when N = 45?\n",
    "\n",
    "*Hint*: Modify the R script of the previous part for use with stopping at $z$, like the second part of the previous exercise."
   ]
  },
  {
   "cell_type": "code",
   "execution_count": 3,
   "metadata": {},
   "outputs": [
    {
     "name": "stdout",
     "output_type": "stream",
     "text": [
      "[6, 10]\n"
     ]
    }
   ],
   "source": [
    "N = 45 \n",
    "theta = 1 / 6\n",
    "\n",
    "dist = np.array([z / N * comb(N, z) * theta ** z * (1 - theta) ** (N - z) for z in range(N + 1)])\n",
    "\n",
    "mass = 0\n",
    "i = 0\n",
    "values = list(range(N + 1))\n",
    "indexes = np.argsort(dist)\n",
    "while mass < 0.05:\n",
    "    mass = mass + dist[indexes[i]]\n",
    "    values.remove(indexes[i])\n",
    "    i = i + 1\n",
    "print([min(values), max(values)])"
   ]
  },
  {
   "cell_type": "markdown",
   "metadata": {},
   "source": [
    "The 95% CI is narrower than in the previous case. That seems to align with the results from exercise 1, in which the $p$ value when using this second sampling intention was much lower than when using the first sampling intention. "
   ]
  }
 ],
 "metadata": {
  "kernelspec": {
   "display_name": "Python 3",
   "language": "python",
   "name": "python3"
  },
  "language_info": {
   "codemirror_mode": {
    "name": "ipython",
    "version": 3
   },
   "file_extension": ".py",
   "mimetype": "text/x-python",
   "name": "python",
   "nbconvert_exporter": "python",
   "pygments_lexer": "ipython3",
   "version": "3.8.3"
  }
 },
 "nbformat": 4,
 "nbformat_minor": 4
}
