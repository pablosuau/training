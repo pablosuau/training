{
 "cells": [
  {
   "cell_type": "markdown",
   "metadata": {},
   "source": [
    "**Exercise 11.3. [Purpose: To determine the $p$ value when data collection stops at a fixed duration.]** (For another example of NHST for fixed-duration samples, see Kruschke, 2010.) We continue with the scneario of the previous exercises: a dichotomous outcome, with $N=45$ and $z=3$. Suppose that the die-roller of the previous exercises stopped rolling because time expired at 6 min. For simplicity, suppose $N=42$, through $N=50$, with equal probability. What is the $p$ value of the observed outcome? Is it the same $p$ value as when assuming fixed $N$ or fixed $z$?\n",
    "\n",
    "*Hints*: We need to compute the $p$ value for each possible $N$, and then average them according to the probability they would happen. For each $N$, the low tail consists of outcomes that are a proportion less than or equal to the observed $z/N=3/45$. Examine the following R script. Explain exactly what it does and interpret its output."
   ]
  },
  {
   "cell_type": "code",
   "execution_count": null,
   "metadata": {},
   "outputs": [],
   "source": []
  }
 ],
 "metadata": {
  "kernelspec": {
   "display_name": "Python 3",
   "language": "python",
   "name": "python3"
  },
  "language_info": {
   "codemirror_mode": {
    "name": "ipython",
    "version": 3
   },
   "file_extension": ".py",
   "mimetype": "text/x-python",
   "name": "python",
   "nbconvert_exporter": "python",
   "pygments_lexer": "ipython3",
   "version": "3.8.3"
  }
 },
 "nbformat": 4,
 "nbformat_minor": 4
}
