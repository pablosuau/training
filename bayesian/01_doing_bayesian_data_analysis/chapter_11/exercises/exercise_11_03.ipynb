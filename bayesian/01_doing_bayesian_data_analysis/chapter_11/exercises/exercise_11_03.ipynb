{
 "cells": [
  {
   "cell_type": "code",
   "execution_count": 1,
   "metadata": {},
   "outputs": [],
   "source": [
    "from math import comb\n",
    "import numpy as np"
   ]
  },
  {
   "cell_type": "markdown",
   "metadata": {},
   "source": [
    "**Exercise 11.3. [Purpose: To determine the $p$ value when data collection stops at a fixed duration.]** (For another example of NHST for fixed-duration samples, see Kruschke, 2010.) We continue with the scenario of the previous exercises: a dichotomous outcome, with $N=45$ and $z=3$. Suppose that the die-roller of the previous exercises stopped rolling because time expired at 6 min. For simplicity, suppose $N=42$, through $N=50$, with equal probability. What is the $p$ value of the observed outcome? Is it the same $p$ value as when assuming fixed $N$ or fixed $z$?\n",
    "\n",
    "*Hints*: We need to compute the $p$ value for each possible $N$, and then average them according to the probability they would happen. For each $N$, the low tail consists of outcomes that are a proportion less than or equal to the observed $z/N=3/45$. Examine the following Python script. Explain exactly what it does and interpret its output."
   ]
  },
  {
   "cell_type": "code",
   "execution_count": 2,
   "metadata": {},
   "outputs": [
    {
     "name": "stdout",
     "output_type": "stream",
     "text": [
      "[42, 0.04142745050717273]\n",
      "[43, 0.03600332719715514]\n",
      "[44, 0.03126273162132675]\n",
      "[45, 0.08920334421478482]\n",
      "[46, 0.07885680625166731]\n",
      "[47, 0.06963314837757031]\n",
      "[48, 0.06142269534570366]\n",
      "[49, 0.054124514872933294]\n",
      "[50, 0.047646057569205987]\n",
      "0.05662000843972444\n"
     ]
    }
   ],
   "source": [
    "N = 45\n",
    "z = 3\n",
    "theta = 1 / 6\n",
    "\n",
    "# Specify possible N values\n",
    "N_poss = range(42, 51)\n",
    "\n",
    "# Specify probability of each N (here all equal)\n",
    "N_prob = np.ones(len(N_poss))\n",
    "N_prob = N_prob / np.sum(N_prob)\n",
    "\n",
    "# For each possible N, compute the p value, and compute the weighted total p\n",
    "total_p = 0\n",
    "for i in range(len(N_poss)):\n",
    "    this_N = N_poss[i]\n",
    "    # For this N, determine the max z that is in the low tail\n",
    "    this_z = np.max(np.multiply(np.arange(0, this_N + 1), ((np.arange(this_N + 1) / this_N) <= (z / N)).astype(int)))\n",
    "    low_tail_z = np.arange(0, this_z + 1)\n",
    "    this_p = 2 * np.sum(np.multiply([comb(this_N, ltz) for ltz in low_tail_z], \n",
    "                                    np.multiply([theta ** ltz for ltz in low_tail_z],\n",
    "                                                [(1 - theta) ** (this_N - ltz) for ltz in low_tail_z])))\n",
    "    total_p = total_p + N_prob[i] * this_p\n",
    "    print([this_N, this_p])\n",
    "print(total_p)"
   ]
  },
  {
   "cell_type": "markdown",
   "metadata": {},
   "source": [
    "This p-value of 0.056 is higher than in the case of fixed z (0.013) and fixed N (0.0005) and the only one case in whicih we would fail to reject the null hypothesis for a 0.05 significance level. "
   ]
  }
 ],
 "metadata": {
  "kernelspec": {
   "display_name": "Python 3",
   "language": "python",
   "name": "python3"
  },
  "language_info": {
   "codemirror_mode": {
    "name": "ipython",
    "version": 3
   },
   "file_extension": ".py",
   "mimetype": "text/x-python",
   "name": "python",
   "nbconvert_exporter": "python",
   "pygments_lexer": "ipython3",
   "version": "3.8.3"
  }
 },
 "nbformat": 4,
 "nbformat_minor": 4
}
