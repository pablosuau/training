{
 "cells": [
  {
   "cell_type": "code",
   "execution_count": 2,
   "metadata": {},
   "outputs": [],
   "source": [
    "from math import comb"
   ]
  },
  {
   "cell_type": "markdown",
   "metadata": {},
   "source": [
    "**Exercise 11.1. [Purpose: To compute $p$ values for stopping at fixed $N$ and fixed $z$.]** We have a six-sided die, and we want to know whether the probability that the six-dotted face comes up is fair. Thus, we are considering two possible outcomes: six-dots or not six-dots. If the die is fair, the probability of the six-dotted face is 1/6.\n",
    "\n",
    "**(A)** Suppose we roll the die $N = 45$ times, intending to stop at that number of rolls. Suppose we get 3 six-dot rolls. What is the two-tailed $p$ value?\n",
    "\n",
    "*Hints:* Use Equation 11.5 (p. 303) to compute the tail probability of the binomial sampling distribution in R. R has various relevant functions built in, such as `factorial`, `choose` and even `dbinom`. To maintain correspondence with Equation 11.5, I will not use `dbinom`. Try this script:\n",
    "\n",
    "```\n",
    "N = 45; z = 3; theta = 1/6\n",
    "lowTailZ = 0:z\n",
    "sum( choose(N, lowTailZ) * theta^lowTailZ * (1-theta)^(N - lowTailZ) )\n",
    "```\n",
    "\n",
    "Explain carefully what each line of the script does. Why does it consider the low tail and not the high tail? Explain the meaning of the final result."
   ]
  },
  {
   "cell_type": "code",
   "execution_count": 10,
   "metadata": {},
   "outputs": [
    {
     "data": {
      "text/plain": [
       "0.013562058218039873"
      ]
     },
     "execution_count": 10,
     "metadata": {},
     "output_type": "execute_result"
    }
   ],
   "source": [
    "N = 45 # Number of trials\n",
    "z = 3 # Number of six-dotted faces\n",
    "theta = 1/6 # Fair probability for a six-dotted face\n",
    "            # This can also be interpreted as the null hypothesis value - H0: theta = 1/6\n",
    "            #                                                             HA: theta != 1/6\n",
    "        \n",
    "low_tail_z = range(z) # These values of z are going to be used to calculate the probability\n",
    "                      # of obtaining a result as unfair as z = 3 or even more unfair if\n",
    "                      # the null hypothesis is true\n",
    "# For each considered value of z, we calculate its probability using the \n",
    "# binomial distribution. The total probability mass is the combined probability\n",
    "# of all the low_tail_z cases\n",
    "sum(comb(N, z_i) * theta ** z_i * (1 - theta) ** (N - z_i) for z_i in low_tail_z)"
   ]
  },
  {
   "cell_type": "markdown",
   "metadata": {},
   "source": [
    "Given a significance value of $\\alpha = 2/5%$ for a single-tail test, we can reject the null hypothesis because the probability of only obtaining 3 six-dotted sides (or even less than that), that is, $p$ value = 0.0135 is lower than 0.025.\n",
    "\n",
    "We consider only one tail because the textbook says than in practice we just have to multiple the $p$-value times two. I am not quite sure of that in a case like this, since this particular binomial distribution is not symmetric. \n",
    "\n",
    "**(B)** Suppose that instead of stopping at fixed $N$, we stop when we get 3 six-dot outcomes. It takes 45 rolls. (Notice this is the same result as the previous part.) What is the two-tailed $p$ value?\n",
    "\n",
    "*Hint* Use Equation 11.6 (p.306). Try this:\n",
    "\n",
    "```\n",
    "sum( (lowTailZ/N) * choose(N,lowTailZ) * theta^lowTailZ * (1-theta) ^(N-lowTailZ) )\n",
    "```\n",
    "\n",
    "Explain carefully what the code does and what its result means."
   ]
  },
  {
   "cell_type": "code",
   "execution_count": 8,
   "metadata": {},
   "outputs": [
    {
     "data": {
      "text/plain": [
       "0.0005359200424870594"
      ]
     },
     "execution_count": 8,
     "metadata": {},
     "output_type": "execute_result"
    }
   ],
   "source": [
    "# In this case we are using the negative binomial distribution, given the sampling intention\n",
    "sum(z_i / N * comb(N, z_i) * theta ** z_i * (1 - theta) ** (N - z_i) for z_i in low_tail_z)"
   ]
  },
  {
   "cell_type": "markdown",
   "metadata": {},
   "source": [
    "The $p$ value in this case is different than that of the previous section, even though the number of successes whas the same. we would reject the null hypothesis as well, but in this case we would consider to have more evidence than in the previous section, because the $p$ value is much lower. "
   ]
  }
 ],
 "metadata": {
  "kernelspec": {
   "display_name": "Python 3",
   "language": "python",
   "name": "python3"
  },
  "language_info": {
   "codemirror_mode": {
    "name": "ipython",
    "version": 3
   },
   "file_extension": ".py",
   "mimetype": "text/x-python",
   "name": "python",
   "nbconvert_exporter": "python",
   "pygments_lexer": "ipython3",
   "version": "3.8.3"
  }
 },
 "nbformat": 4,
 "nbformat_minor": 4
}
