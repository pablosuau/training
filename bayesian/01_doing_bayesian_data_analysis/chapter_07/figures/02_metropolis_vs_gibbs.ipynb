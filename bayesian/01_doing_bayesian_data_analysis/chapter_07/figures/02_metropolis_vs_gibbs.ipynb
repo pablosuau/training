{
 "cells": [
  {
   "cell_type": "code",
   "execution_count": null,
   "metadata": {},
   "outputs": [],
   "source": [
    "%matplotlib inline\n",
    "import numpy as np\n",
    "import matplotlib.pyplot as plt\n",
    "from scipy.stats import beta\n",
    "from statsmodels.tsa.stattools import acf"
   ]
  },
  {
   "cell_type": "code",
   "execution_count": null,
   "metadata": {},
   "outputs": [],
   "source": [
    "theta_1 = 0.5\n",
    "theta_2 = 0.5\n",
    "n1 = 8 # Observations n1, n2\n",
    "n2 = 7\n",
    "z1 = 6\n",
    "z2 = 2\n",
    "n_chain_metropolis = 50000 # Markov chain's length\n",
    "n_chain_gibbs = 50000\n",
    "sd = 0.02 # Proposal distribution's standard deviation"
   ]
  },
  {
   "cell_type": "code",
   "execution_count": null,
   "metadata": {},
   "outputs": [],
   "source": [
    "trajectory_1 = [0.01]\n",
    "trajectory_2 = [0.01]\n",
    "prop_accepted_metropolis = 0\n",
    "while len(trajectory_1) < n_chain_metropolis:\n",
    "    new_1 = -1\n",
    "    new_2 = -1\n",
    "    while new_1 < 0 or new_1 > 1 or new_2 < 0 or new_2 > 1:\n",
    "        new_1, new_2 = np.random.multivariate_normal([0,0], [[sd, 0], [0, sd]])\n",
    "    posterior_1 = beta.pdf(new_1, 1 + z1, 1 + n1 - z1)\n",
    "    posterior_2 = beta.pdf(new_2, 1 + z2, 1 + n2 - z2)\n",
    "    posterior_prev_1 = beta.pdf(trajectory_1[-1], 2 + z1, 2 + n1 - z1)\n",
    "    posterior_prev_2 = beta.pdf(trajectory_2[-1], 2 + z2, 2 + n2 - z2)\n",
    "    \n",
    "    p_move = min((posterior_1 * posterior_2) / (posterior_prev_1 * posterior_prev_2), 1)\n",
    "    \n",
    "    if np.random.rand(1)[0] < p_move:\n",
    "        trajectory_1.append(new_1)\n",
    "        trajectory_2.append(new_2)\n",
    "        prop_accepted_metropolis = prop_accepted_metropolis + 1\n",
    "    else:\n",
    "        trajectory_1.append(trajectory_1[-1])\n",
    "        trajectory_2.append(trajectory_2[-1])\n",
    "prop_accepted_metropolis = prop_accepted_metropolis / n_chain_metropolis"
   ]
  },
  {
   "cell_type": "code",
   "execution_count": null,
   "metadata": {},
   "outputs": [],
   "source": [
    "z = [z1, z2]\n",
    "n = [n1, n2]"
   ]
  },
  {
   "cell_type": "code",
   "execution_count": null,
   "metadata": {},
   "outputs": [],
   "source": [
    "trajectories = [[0.01], [0.01]]\n",
    "param = 0\n",
    "prop_accepted_gibbs = 0\n",
    "while len(trajectories[0]) < n_chain_gibbs or len(trajectories[1]) < n_chain_gibbs:\n",
    "    new = -1\n",
    "    while new < 0 or new > 1:\n",
    "        new = trajectories[param][-1] + np.random.normal(0, sd)\n",
    "    posterior = beta.pdf(new, z[param] + 2, n[param] - z[param] + 2)\n",
    "    posterior_prev = beta.pdf(trajectories[param][-1], z[param] + 1, n[param] - z[param] + 1)\n",
    "    \n",
    "    p_move = min(posterior / posterior_prev, 1)\n",
    "    \n",
    "    if np.random.rand(1)[0] < p_move:\n",
    "        trajectories[param].append(new)\n",
    "        prop_accepted_gibbs = prop_accepted_gibbs + 1\n",
    "    else:\n",
    "        trajectories[param].append(trajectories[param][-1])\n",
    "        \n",
    "    param = (param + 1) % 2 \n",
    "prop_accepted_gibbs = prop_accepted_gibbs / (2 * n_chain_gibbs)"
   ]
  },
  {
   "cell_type": "code",
   "execution_count": null,
   "metadata": {},
   "outputs": [],
   "source": [
    "def calculate_ess(trajectory):\n",
    "    nlags = 30\n",
    "    acf_k = np.empty(0)\n",
    "    while acf_k.shape[0] < 1:\n",
    "        nlags = nlags + 10\n",
    "        acf_k = acf(trajectory, nlags = nlags)\n",
    "        acf_k = acf_k[acf_k >= 0.05]\n",
    "    return len(trajectory) / (1 + 2 * np.sum(acf_k))"
   ]
  },
  {
   "cell_type": "code",
   "execution_count": null,
   "metadata": {},
   "outputs": [],
   "source": [
    "fig, ax = plt.subplots(2, 3)\n",
    "ax[0, 0].hist(trajectory_1, bins = np.linspace(0, 1, 50))\n",
    "ax[0, 0].set_xlabel('theta_1')\n",
    "ax[0, 0].set_ylabel('posterior estimation (metropolis)')\n",
    "ax[0, 1].hist(trajectory_2, bins = np.linspace(0, 1, 50))\n",
    "ax[0, 1].set_xlabel('theta_2')\n",
    "ax[0, 1].set_ylabel('posterior estimation (metropolis)')\n",
    "ax[0, 2].plot(trajectory_1[:1000], trajectory_2[:1000])\n",
    "ax[0, 2].set_xlabel('theta_1')\n",
    "ax[0, 2].set_ylabel('theta_2')\n",
    "ax[0, 2].set_title('metropolis chain\\nprop. accepted = ' + \\\n",
    "                   str(round(prop_accepted_metropolis, 2)) + \\\n",
    "                   '\\nESS theta_1 = ' + \\\n",
    "                   str(round(calculate_ess(trajectory_1), 2)) +\n",
    "                   '\\nESS theta_2 = ' + \\\n",
    "                   str(round(calculate_ess(trajectory_2), 2)))\n",
    "ax[1, 0].hist(trajectories[0], bins = np.linspace(0, 1, 50))\n",
    "ax[1, 0].set_xlabel('theta_1')\n",
    "ax[1, 0].set_ylabel('posterior estimation (gibbs)')\n",
    "ax[1, 1].hist(trajectories[1], bins = np.linspace(0, 1, 50))\n",
    "ax[1, 1].set_xlabel('theta_2')\n",
    "ax[1, 1].set_ylabel('posterior estimation (gibbs)')\n",
    "ax[1, 2].plot(trajectories[0][:1000], trajectories[1][:1000])\n",
    "ax[1, 2].set_xlabel('theta_1')\n",
    "ax[1, 2].set_ylabel('theta_2')\n",
    "ax[1, 2].set_title('gibbs chain\\nprop. accepted = ' + \\\n",
    "                   str(round(prop_accepted_gibbs, 2)) + \\\n",
    "                   '\\nESS theta_1 = ' + \\\n",
    "                   str(round(calculate_ess(trajectories[0]), 2)) +\n",
    "                   '\\nESS theta_2 = ' + \\\n",
    "                   str(round(calculate_ess(trajectories[1]), 2)))\n",
    "fig.set_figwidth(16)\n",
    "fig.set_figheight(8)\n",
    "plt.tight_layout()"
   ]
  },
  {
   "cell_type": "markdown",
   "metadata": {},
   "source": [
    "Showing only the first 1000 steps."
   ]
  }
 ],
 "metadata": {
  "kernelspec": {
   "display_name": "Python 3",
   "language": "python",
   "name": "python3"
  },
  "language_info": {
   "codemirror_mode": {
    "name": "ipython",
    "version": 3
   },
   "file_extension": ".py",
   "mimetype": "text/x-python",
   "name": "python",
   "nbconvert_exporter": "python",
   "pygments_lexer": "ipython3",
   "version": "3.6.5"
  }
 },
 "nbformat": 4,
 "nbformat_minor": 2
}
