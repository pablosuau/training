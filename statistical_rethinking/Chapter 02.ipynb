{
 "cells": [
  {
   "cell_type": "markdown",
   "metadata": {},
   "source": [
    "# Chapter 2"
   ]
  },
  {
   "cell_type": "markdown",
   "metadata": {},
   "source": [
    "## Easy"
   ]
  },
  {
   "cell_type": "markdown",
   "metadata": {},
   "source": [
    "**2E1** Which of the expresions below correspond to the statement: *the probability of rain on Monday*?\n",
    "\n",
    "(1) Pr(rain)\n",
    "\n",
    "(2) **Pr(rain|Monday)**\n",
    "\n",
    "(3) Pr(Monday|rain)\n",
    "\n",
    "(4) **Pr(rain,Monday)/Pr(Monday)**"
   ]
  },
  {
   "cell_type": "markdown",
   "metadata": {},
   "source": [
    "**2E2** Which of the following statements corresponds to the expression: Pr(Monday|rain)?\n",
    "\n",
    "(1)  The probability of rain on Monday.\n",
    "\n",
    "(2)  The probability of rain, given that it is Monday.\n",
    "\n",
    "(3)  **The probability that it is Monday, given that it is raining.** \n",
    "\n",
    "(4)  The probability that it is Monday and that it is raining.\n"
   ]
  },
  {
   "cell_type": "markdown",
   "metadata": {},
   "source": [
    "**2E3** Which of the expressions below correspond to the statement: *the probability that it is Monday, given that it is raining*?\n",
    "\n",
    "(1) **Pr(Monday|rain)**\n",
    "\n",
    "(2) Pr(rain|Monday)\n",
    "\n",
    "(3) Pr(rain|Monday)Pr(Monday)\n",
    "\n",
    "(4) **Pr(rain|Monday)Pr(Monday)/Pr(rain)** \n",
    "\n",
    "(5) Pr(Monday|rain)Pr(rain)/Pr(Monday)"
   ]
  },
  {
   "cell_type": "markdown",
   "metadata": {},
   "source": [
    "**2E4** The Bayesian statistician Bruno de Finetti (1906–1985) began his book on probability theory with the declaration: “PROBABILITY DOES NOT EXIST.”  The capitals appeared in the original, so I imagine de Finetti wanted us to shout this statement. What he meant is that probability is a device for describing uncertainty from the perspective of an observer with limited knowledge; it has no objective reality. Discuss the globe tossing example from the chapter, in light of this statement. What does it mean to say “the probability of water is 0.7”?\n",
    "\n",
    "*We are certain that there is water*"
   ]
  },
  {
   "cell_type": "markdown",
   "metadata": {},
   "source": []
  }
 ],
 "metadata": {
  "kernelspec": {
   "display_name": "Python 3",
   "language": "python",
   "name": "python3"
  },
  "language_info": {
   "codemirror_mode": {
    "name": "ipython",
    "version": 3
   },
   "file_extension": ".py",
   "mimetype": "text/x-python",
   "name": "python",
   "nbconvert_exporter": "python",
   "pygments_lexer": "ipython3",
   "version": "3.6.2"
  }
 },
 "nbformat": 4,
 "nbformat_minor": 2
}
