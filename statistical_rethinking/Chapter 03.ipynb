{
 "cells": [
  {
   "cell_type": "code",
   "execution_count": 1,
   "metadata": {
    "collapsed": true
   },
   "outputs": [],
   "source": [
    "%matplotlib inline\n",
    "\n",
    "import scipy.stats\n",
    "import numpy as np\n",
    "import matplotlib.pyplot as plt\n",
    "import random"
   ]
  },
  {
   "cell_type": "markdown",
   "metadata": {},
   "source": [
    "# Chapter 3"
   ]
  },
  {
   "cell_type": "markdown",
   "metadata": {},
   "source": [
    "## Easy\n",
    "\n",
    "These problems use the samples from the posterior distribution for the globe tossing example. This code will give you a specific set of samples, so that you can check your answers exactly."
   ]
  },
  {
   "cell_type": "code",
   "execution_count": 2,
   "metadata": {
    "scrolled": false
   },
   "outputs": [
    {
     "data": {
      "text/plain": [
       "<Container object of 100 artists>"
      ]
     },
     "execution_count": 2,
     "metadata": {},
     "output_type": "execute_result"
    },
    {
     "data": {
      "image/png": "[encoded data removed]",
      "text/plain": [
       "<matplotlib.figure.Figure at 0x1a0faf5f98>"
      ]
     },
     "metadata": {},
     "output_type": "display_data"
    }
   ],
   "source": [
    "GRID_SIZE = 1000\n",
    "BINS = 100\n",
    "\n",
    "p_grid = np.linspace(start=0, stop=1, num=GRID_SIZE)\n",
    "prior = np.ones(1000)\n",
    "likelihood = scipy.stats.binom.pmf(k=6, n=9, p=p_grid)\n",
    "posterior = likelihood * prior\n",
    "posterior = posterior / np.sum(posterior)\n",
    "random.seed(100)\n",
    "\n",
    "def sample_observations_with_replacement(values, distribution, n):\n",
    "    cumulative = np.cumsum(distribution)\n",
    "    return np.array([values[np.where(cumulative >= random.random())[0][0]] for i in range(n)])\n",
    "    \n",
    "samples = sample_observations_with_replacement(p_grid, posterior, 10000)\n",
    "fig, ax = plt.subplots()\n",
    "ax.plot(p_grid, posterior)\n",
    "results, edges = np.histogram(samples, bins=BINS, normed=True)\n",
    "binWidth = edges[1] - edges[0]\n",
    "ax.bar(edges[:-1], results*binWidth/(GRID_SIZE/float(BINS)), binWidth, color='#ff7f0e')"
   ]
  },
  {
   "cell_type": "markdown",
   "metadata": {},
   "source": [
    "Use the values in *samples* to answer the questions that follow."
   ]
  },
  {
   "cell_type": "markdown",
   "metadata": {},
   "source": [
    "**3E1** How much posterior probability lies below p = 0.2?"
   ]
  },
  {
   "cell_type": "code",
   "execution_count": 3,
   "metadata": {},
   "outputs": [
    {
     "data": {
      "text/plain": [
       "0.001"
      ]
     },
     "execution_count": 3,
     "metadata": {},
     "output_type": "execute_result"
    }
   ],
   "source": [
    "np.sum(samples < 0.2)/float(len(samples))"
   ]
  },
  {
   "cell_type": "markdown",
   "metadata": {},
   "source": [
    "**3E2** How much posterior probability lies above p = 0.8?"
   ]
  },
  {
   "cell_type": "code",
   "execution_count": 4,
   "metadata": {},
   "outputs": [
    {
     "data": {
      "text/plain": [
       "0.1234"
      ]
     },
     "execution_count": 4,
     "metadata": {},
     "output_type": "execute_result"
    }
   ],
   "source": [
    "np.sum(samples > 0.8)/float(len(samples))"
   ]
  },
  {
   "cell_type": "markdown",
   "metadata": {},
   "source": [
    "**3E3** How much posterior probability lies between p = 0.2 and p = 0.8?"
   ]
  },
  {
   "cell_type": "code",
   "execution_count": 5,
   "metadata": {},
   "outputs": [
    {
     "data": {
      "text/plain": [
       "0.87560000000000004"
      ]
     },
     "execution_count": 5,
     "metadata": {},
     "output_type": "execute_result"
    }
   ],
   "source": [
    "np.sum(np.logical_and(samples > 0.2, samples < 0.8))/float(len(samples))"
   ]
  },
  {
   "cell_type": "markdown",
   "metadata": {},
   "source": [
    "**3E4** 20% of the posterior probability lies below which value of p?"
   ]
  },
  {
   "cell_type": "code",
   "execution_count": 6,
   "metadata": {},
   "outputs": [
    {
     "data": {
      "text/plain": [
       "0.51651651651651653"
      ]
     },
     "execution_count": 6,
     "metadata": {},
     "output_type": "execute_result"
    }
   ],
   "source": [
    "np.percentile(samples, 20)"
   ]
  },
  {
   "cell_type": "markdown",
   "metadata": {},
   "source": [
    "**3E5** 20% of the posterior probability lies above which value of p?"
   ]
  },
  {
   "cell_type": "code",
   "execution_count": 7,
   "metadata": {},
   "outputs": [
    {
     "data": {
      "text/plain": [
       "0.75975975975975973"
      ]
     },
     "execution_count": 7,
     "metadata": {},
     "output_type": "execute_result"
    }
   ],
   "source": [
    "np.percentile(samples, 80)"
   ]
  },
  {
   "cell_type": "markdown",
   "metadata": {},
   "source": [
    "**3E6** Which values of p contain the narrowest interval equal to 66% of the posterior probability?"
   ]
  },
  {
   "cell_type": "code",
   "execution_count": 8,
   "metadata": {},
   "outputs": [
    {
     "name": "stdout",
     "output_type": "stream",
     "text": [
      "[0.506506506507, 0.77977977978] - width = 0.273273273273\n"
     ]
    }
   ],
   "source": [
    "def highest_posterior_density_interval(samples, prob):\n",
    "    grid = np.linspace(start=0, stop=100 - prob, num=10000)\n",
    "    per_i = []\n",
    "    per_j = []\n",
    "    width = []\n",
    "    for i in grid:\n",
    "        per_i.append(np.percentile(samples, i))\n",
    "        if i + prob <= 100:\n",
    "            per_j.append(np.percentile(samples, i + prob))\n",
    "            width.append(per_j[-1] - per_i[-1])\n",
    "    i = np.argmin(width)\n",
    "    print('[' + str(per_i[i]) + ', ' + str(per_j[i]) + '] - width = ' + str(width[i]))\n",
    "    \n",
    "highest_posterior_density_interval(samples, 66)"
   ]
  },
  {
   "cell_type": "markdown",
   "metadata": {},
   "source": [
    "**3E7** Which values of p contain 66% of the posterior probability, assuming equal posterior probability both below and above the interval?"
   ]
  },
  {
   "cell_type": "code",
   "execution_count": 9,
   "metadata": {
    "scrolled": false
   },
   "outputs": [
    {
     "name": "stdout",
     "output_type": "stream",
     "text": [
      "[0.499499499499, 0.774774774775]\n"
     ]
    }
   ],
   "source": [
    "prob = (100 - 66)/2.0\n",
    "print('[' + str(np.percentile(samples, prob)) + ', ' + str(np.percentile(samples, 100-prob)) + ']')"
   ]
  },
  {
   "cell_type": "code",
   "execution_count": null,
   "metadata": {
    "collapsed": true
   },
   "outputs": [],
   "source": []
  }
 ],
 "metadata": {
  "kernelspec": {
   "display_name": "Python 3",
   "language": "python",
   "name": "python3"
  },
  "language_info": {
   "codemirror_mode": {
    "name": "ipython",
    "version": 3
   },
   "file_extension": ".py",
   "mimetype": "text/x-python",
   "name": "python",
   "nbconvert_exporter": "python",
   "pygments_lexer": "ipython3",
   "version": "3.6.2"
  }
 },
 "nbformat": 4,
 "nbformat_minor": 2
}
