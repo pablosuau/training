{
 "cells": [
  {
   "cell_type": "code",
   "execution_count": 1,
   "metadata": {
    "collapsed": true
   },
   "outputs": [],
   "source": [
    "%matplotlib inline\n",
    "\n",
    "import scipy.stats\n",
    "import numpy as np\n",
    "import matplotlib.pyplot as plt\n",
    "import random"
   ]
  },
  {
   "cell_type": "markdown",
   "metadata": {},
   "source": [
    "# Chapter 3"
   ]
  },
  {
   "cell_type": "markdown",
   "metadata": {},
   "source": [
    "## Easy\n",
    "\n",
    "These problems use the samples from the posterior distribution for the globe tossing example. This code will give you a specific set of samples, so that you can check your answers exactly."
   ]
  },
  {
   "cell_type": "code",
   "execution_count": 2,
   "metadata": {
    "scrolled": false
   },
   "outputs": [
    {
     "data": {
      "text/plain": [
       "<Container object of 100 artists>"
      ]
     },
     "execution_count": 2,
     "metadata": {},
     "output_type": "execute_result"
    },
    {
     "data": {
      "image/png": "[encoded data removed]",
      "text/plain": [
       "<matplotlib.figure.Figure at 0x10c515208>"
      ]
     },
     "metadata": {},
     "output_type": "display_data"
    }
   ],
   "source": [
    "GRID_SIZE = 1000\n",
    "BINS = 100\n",
    "\n",
    "p_grid = np.linspace(start=0, stop=1, num=GRID_SIZE)\n",
    "prior = np.ones(1000)\n",
    "likelihood = scipy.stats.binom.pmf(k=6, n=9, p=p_grid)\n",
    "posterior = likelihood * prior\n",
    "posterior = posterior / np.sum(posterior)\n",
    "random.seed(100)\n",
    "\n",
    "def sample_observations_with_replacement(values, distribution, n):\n",
    "    cumulative = np.cumsum(distribution)\n",
    "    return np.array([values[np.where(cumulative >= random.random())[0][0]] for i in range(n)])\n",
    "    \n",
    "samples = sample_observations_with_replacement(p_grid, posterior, 10000)\n",
    "fig, ax = plt.subplots()\n",
    "ax.plot(p_grid, posterior)\n",
    "results, edges = np.histogram(samples, bins=BINS, normed=True)\n",
    "binWidth = edges[1] - edges[0]\n",
    "ax.bar(edges[:-1], results*binWidth/(GRID_SIZE/float(BINS)), binWidth, color='#ff7f0e')"
   ]
  },
  {
   "cell_type": "markdown",
   "metadata": {},
   "source": [
    "Use the values in *samples* to answer the questions that follow."
   ]
  },
  {
   "cell_type": "markdown",
   "metadata": {},
   "source": [
    "**3E1** How much posterior probability lies below p = 0.2?"
   ]
  },
  {
   "cell_type": "code",
   "execution_count": 3,
   "metadata": {},
   "outputs": [
    {
     "data": {
      "text/plain": [
       "0.001"
      ]
     },
     "execution_count": 3,
     "metadata": {},
     "output_type": "execute_result"
    }
   ],
   "source": [
    "np.sum(samples < 0.2)/float(len(samples))"
   ]
  },
  {
   "cell_type": "markdown",
   "metadata": {},
   "source": [
    "**3E2** How much posterior probability lies above p = 0.8?"
   ]
  },
  {
   "cell_type": "code",
   "execution_count": 4,
   "metadata": {},
   "outputs": [
    {
     "data": {
      "text/plain": [
       "0.1234"
      ]
     },
     "execution_count": 4,
     "metadata": {},
     "output_type": "execute_result"
    }
   ],
   "source": [
    "np.sum(samples > 0.8)/float(len(samples))"
   ]
  },
  {
   "cell_type": "markdown",
   "metadata": {},
   "source": [
    "**3E3** How much posterior probability lies between p = 0.2 and p = 0.8?"
   ]
  },
  {
   "cell_type": "code",
   "execution_count": 5,
   "metadata": {},
   "outputs": [
    {
     "data": {
      "text/plain": [
       "0.87560000000000004"
      ]
     },
     "execution_count": 5,
     "metadata": {},
     "output_type": "execute_result"
    }
   ],
   "source": [
    "np.sum(np.logical_and(samples > 0.2, samples < 0.8))/float(len(samples))"
   ]
  },
  {
   "cell_type": "markdown",
   "metadata": {},
   "source": [
    "**3E4** 20% of the posterior probability lies below which value of p?"
   ]
  },
  {
   "cell_type": "code",
   "execution_count": 6,
   "metadata": {},
   "outputs": [
    {
     "data": {
      "text/plain": [
       "0.51651651651651653"
      ]
     },
     "execution_count": 6,
     "metadata": {},
     "output_type": "execute_result"
    }
   ],
   "source": [
    "np.percentile(samples, 20)"
   ]
  },
  {
   "cell_type": "markdown",
   "metadata": {},
   "source": [
    "**3E5** 20% of the posterior probability lies above which value of p?"
   ]
  },
  {
   "cell_type": "code",
   "execution_count": 7,
   "metadata": {},
   "outputs": [
    {
     "data": {
      "text/plain": [
       "0.75975975975975973"
      ]
     },
     "execution_count": 7,
     "metadata": {},
     "output_type": "execute_result"
    }
   ],
   "source": [
    "np.percentile(samples, 80)"
   ]
  },
  {
   "cell_type": "markdown",
   "metadata": {},
   "source": [
    "**3E6** Which values of p contain the narrowest interval equal to 66% of the posterior probability?"
   ]
  },
  {
   "cell_type": "code",
   "execution_count": 8,
   "metadata": {},
   "outputs": [
    {
     "name": "stdout",
     "output_type": "stream",
     "text": [
      "[0.506506506507, 0.77977977978] - width = 0.273273273273\n"
     ]
    }
   ],
   "source": [
    "def highest_posterior_density_interval(samples, prob):\n",
    "    grid = np.linspace(start=0, stop=100 - prob, num=10000)\n",
    "    per_i = []\n",
    "    per_j = []\n",
    "    width = []\n",
    "    for i in grid:\n",
    "        per_i.append(np.percentile(samples, i))\n",
    "        if i + prob <= 100:\n",
    "            per_j.append(np.percentile(samples, i + prob))\n",
    "            width.append(per_j[-1] - per_i[-1])\n",
    "    i = np.argmin(width)\n",
    "    print('[' + str(per_i[i]) + ', ' + str(per_j[i]) + '] - width = ' + str(width[i]))\n",
    "    \n",
    "highest_posterior_density_interval(samples, 66)"
   ]
  },
  {
   "cell_type": "markdown",
   "metadata": {},
   "source": [
    "**3E7** Which values of p contain 66% of the posterior probability, assuming equal posterior probability both below and above the interval?"
   ]
  },
  {
   "cell_type": "code",
   "execution_count": 9,
   "metadata": {
    "scrolled": false
   },
   "outputs": [
    {
     "name": "stdout",
     "output_type": "stream",
     "text": [
      "[0.499499499499, 0.774774774775]\n"
     ]
    }
   ],
   "source": [
    "prob = (100 - 66)/2.0\n",
    "print('[' + str(np.percentile(samples, prob)) + ', ' + str(np.percentile(samples, 100-prob)) + ']')"
   ]
  },
  {
   "cell_type": "markdown",
   "metadata": {},
   "source": [
    "## Medium"
   ]
  },
  {
   "cell_type": "markdown",
   "metadata": {},
   "source": [
    "**3M1** Suppose the globe tossing data had turned out to be 8 water in 15 tosses. Construct the posterior distribution, using grid approximation. Use the same flat prior as before."
   ]
  },
  {
   "cell_type": "code",
   "execution_count": 10,
   "metadata": {},
   "outputs": [
    {
     "data": {
      "text/plain": [
       "[<matplotlib.lines.Line2D at 0x1a183b6278>]"
      ]
     },
     "execution_count": 10,
     "metadata": {},
     "output_type": "execute_result"
    },
    {
     "data": {
      "image/png": "[encoded data removed]",
      "text/plain": [
       "<matplotlib.figure.Figure at 0x1a183b6390>"
      ]
     },
     "metadata": {},
     "output_type": "display_data"
    }
   ],
   "source": [
    "likelihood = scipy.stats.binom.pmf(k=8, n=15, p=p_grid)\n",
    "posterior = likelihood * prior\n",
    "posterior = posterior / np.sum(posterior)\n",
    "\n",
    "fig, ax = plt.subplots()\n",
    "ax.plot(p_grid, posterior)"
   ]
  },
  {
   "cell_type": "markdown",
   "metadata": {},
   "source": [
    "**3M2** Draw 10,000 samples from the grid approximation from above. Then use the samples to calculate the 90% HPDI for p."
   ]
  },
  {
   "cell_type": "code",
   "execution_count": 11,
   "metadata": {},
   "outputs": [
    {
     "name": "stdout",
     "output_type": "stream",
     "text": [
      "[0.331331331331, 0.716716716717] - width = 0.385385385385\n"
     ]
    }
   ],
   "source": [
    "samples = sample_observations_with_replacement(p_grid, posterior, 10000)\n",
    "highest_posterior_density_interval(samples, 90)"
   ]
  },
  {
   "cell_type": "markdown",
   "metadata": {},
   "source": [
    "**3M3** Construct a posterior predictive check for this model and data. This means simulate the distribution of samples, averaging over the posterior uncertainty in p. What is the probability of observing 8 water in 15 tosses?"
   ]
  },
  {
   "cell_type": "code",
   "execution_count": 12,
   "metadata": {
    "scrolled": false
   },
   "outputs": [
    {
     "data": {
      "text/plain": [
       "<matplotlib.text.Text at 0x1a184a5e80>"
      ]
     },
     "execution_count": 12,
     "metadata": {},
     "output_type": "execute_result"
    },
    {
     "data": {
      "image/png": "[encoded data removed]",
      "text/plain": [
       "<matplotlib.figure.Figure at 0x1a185198d0>"
      ]
     },
     "metadata": {},
     "output_type": "display_data"
    }
   ],
   "source": [
    "N = 15\n",
    "post_pred = np.zeros(N + 1)\n",
    "i = 0\n",
    "for p in p_grid:\n",
    "    sample = np.random.binomial(N, p=p, size=100000)\n",
    "    dist, edges = np.histogram(sample, bins=np.linspace(start=0, stop=N, num=N+2))\n",
    "    post_pred += posterior[i] * dist / np.sum(dist) \n",
    "    i = i + 1\n",
    "fig, ax = plt.subplots()\n",
    "ax.bar(range(N + 1), post_pred, width=0.2)\n",
    "ax.set_xlabel('Number of water samples')\n",
    "ax.set_ylabel('Posterior predictive distribution')"
   ]
  },
  {
   "cell_type": "markdown",
   "metadata": {},
   "source": [
    "**3M4** Using the posterior distribution constructed from the new (8/15) data, now calculate the probability of observing 6 water in 9 tosses."
   ]
  },
  {
   "cell_type": "code",
   "execution_count": 13,
   "metadata": {},
   "outputs": [
    {
     "name": "stdout",
     "output_type": "stream",
     "text": [
      "0.1152\n"
     ]
    }
   ],
   "source": [
    "# Using the samples list which contains the p values samples from the posterior\n",
    "sample = np.random.binomial(N, p=samples)\n",
    "print(np.sum(sample==6)/float(len(sample)))"
   ]
  },
  {
   "cell_type": "markdown",
   "metadata": {},
   "source": [
    "**3M5** Start over at **3M1**, but now use a prior that is zero below p = 0.5 and a constant above p = 0.5.  is corresponds to prior information that a majority of the Earth’s surface is water. Repeat each problem above and compare the inferences. What difference does the better prior make? If it helps, compare inferences (using both priors) to the true value p = 0.7."
   ]
  },
  {
   "cell_type": "code",
   "execution_count": 14,
   "metadata": {},
   "outputs": [
    {
     "name": "stdout",
     "output_type": "stream",
     "text": [
      "HPDI\n",
      "[0.500500500501, 0.711711711712] - width = 0.211211211211\n"
     ]
    },
    {
     "data": {
      "text/plain": [
       "<matplotlib.text.Text at 0x1a18831d68>"
      ]
     },
     "execution_count": 14,
     "metadata": {},
     "output_type": "execute_result"
    },
    {
     "data": {
      "image/png": "[encoded data removed]",
      "text/plain": [
       "<matplotlib.figure.Figure at 0x1a183ed470>"
      ]
     },
     "metadata": {},
     "output_type": "display_data"
    },
    {
     "data": {
      "image/png": "[encoded data removed]",
      "text/plain": [
       "<matplotlib.figure.Figure at 0x1a1880bfd0>"
      ]
     },
     "metadata": {},
     "output_type": "display_data"
    }
   ],
   "source": [
    "prior = np.ones(p_grid.shape[0])\n",
    "prior[0:int(prior.shape[0]/2)] = 0\n",
    "\n",
    "posterior = likelihood * prior\n",
    "posterior = posterior / np.sum(posterior)\n",
    "\n",
    "fig, ax = plt.subplots()\n",
    "ax.plot(p_grid, posterior)\n",
    "ax.set_xlabel('Proportion water')\n",
    "ax.set_ylabel('Plausability')\n",
    "\n",
    "print('HPDI')\n",
    "samples = sample_observations_with_replacement(p_grid, posterior, 10000)\n",
    "highest_posterior_density_interval(samples, 90)\n",
    "\n",
    "N = 15\n",
    "post_pred = np.zeros(N + 1)\n",
    "i = 0\n",
    "for p in p_grid:\n",
    "    sample = np.random.binomial(N, p=p, size=100000)\n",
    "    dist, edges = np.histogram(sample, bins=np.linspace(start=0, stop=N, num=N+2))\n",
    "    post_pred += posterior[i] * dist / np.sum(dist) \n",
    "    i = i + 1\n",
    "fig, ax = plt.subplots()\n",
    "ax.bar(range(N + 1), post_pred, width=0.2)\n",
    "ax.set_xlabel('Number of water samples')\n",
    "ax.set_ylabel('Posterior predictive distribution')"
   ]
  },
  {
   "cell_type": "markdown",
   "metadata": {},
   "source": [
    "The MAP for p is closer to 0.7 now, the real p value. The HPDI is narrower around that value. The maximum of the posterior predictive distribution is 9 instead of 8 and it is narrower. Once again, that makes p closer to 0.7, the real proportion of water. "
   ]
  },
  {
   "cell_type": "code",
   "execution_count": null,
   "metadata": {
    "collapsed": true
   },
   "outputs": [],
   "source": []
  }
 ],
 "metadata": {
  "kernelspec": {
   "display_name": "Python 3",
   "language": "python",
   "name": "python3"
  },
  "language_info": {
   "codemirror_mode": {
    "name": "ipython",
    "version": 3
   },
   "file_extension": ".py",
   "mimetype": "text/x-python",
   "name": "python",
   "nbconvert_exporter": "python",
   "pygments_lexer": "ipython3",
   "version": "3.6.2"
  }
 },
 "nbformat": 4,
 "nbformat_minor": 2
}
