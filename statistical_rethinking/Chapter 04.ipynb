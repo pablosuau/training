{
 "cells": [
  {
   "cell_type": "code",
   "execution_count": 1,
   "metadata": {
    "collapsed": true
   },
   "outputs": [],
   "source": [
    "%matplotlib inline\n",
    "\n",
    "import scipy.stats\n",
    "import numpy as np\n",
    "import matplotlib.pyplot as plt\n",
    "import random\n",
    "import pymc3 as pm"
   ]
  },
  {
   "cell_type": "markdown",
   "metadata": {},
   "source": [
    "# Chapter 4"
   ]
  },
  {
   "cell_type": "markdown",
   "metadata": {},
   "source": [
    "## Easy"
   ]
  },
  {
   "cell_type": "markdown",
   "metadata": {},
   "source": [
    "**4E1** In the model definition below, which line is the likelihood?\n",
    "\n",
    "```\n",
    "yi ∼ Normal(μ, σ)\n",
    "μ ∼ Normal(0, 10)\n",
    "σ ∼ Uniform(0, 10)\n",
    "```\n",
    "\n",
    "The first line is the likelihood"
   ]
  },
  {
   "cell_type": "markdown",
   "metadata": {},
   "source": [
    "**4E2** In the model definition just above, how many parameters are in the posterior distribution?\n",
    "\n",
    "It has two parameters to be estimated: μ and σ"
   ]
  },
  {
   "cell_type": "markdown",
   "metadata": {},
   "source": [
    "**4E3** Using the model definition above, write down the appropriate form of Bayes’ theorem that\n",
    "includes the proper likelihood and priors.\n",
    "\n",
    "```\n",
    "Pr(μ,σ|yi) = ∏i Normal(yi|μ,σ)Normal(μ|0,10)Uniform(σ|0,10) / ∫ ∫ ∏i Normal(yi|μ,σ)Normal(μ|0,10)Uniform(σ|0,10)dμdσ\n",
    "```"
   ]
  },
  {
   "cell_type": "markdown",
   "metadata": {},
   "source": [
    "**4E4** In the model de nition below, which line is the linear model? \n",
    "\n",
    "```\n",
    "yi ∼ Normal(μ, σ)\n",
    "μi = α + βxi\n",
    "α ∼ Normal(0, 10) \n",
    "β ∼ Normal(0, 1)\n",
    "σ ∼ Uniform(0, 10)\n",
    "```\n",
    "\n",
    "The second line"
   ]
  },
  {
   "cell_type": "markdown",
   "metadata": {},
   "source": [
    "**4E5** In the model de nition just above, how many parameters are in the posterior distribution?\n",
    "\n",
    "It has two parameters to be estimated: μ and σ"
   ]
  },
  {
   "cell_type": "markdown",
   "metadata": {},
   "source": [
    "## Medium"
   ]
  },
  {
   "cell_type": "markdown",
   "metadata": {},
   "source": [
    "**4M1** For the model de nition below, simulate observed heights from the prior (not the posterior)\n",
    "\n",
    "```\n",
    "yi ∼ Normal(μ, σ)\n",
    "μ ∼ Normal(0, 10) \n",
    "σ ∼ Uniform(0, 10)\n",
    "```"
   ]
  },
  {
   "cell_type": "code",
   "execution_count": 2,
   "metadata": {},
   "outputs": [
    {
     "data": {
      "text/plain": [
       "[<matplotlib.lines.Line2D at 0x1c1272a4a8>]"
      ]
     },
     "execution_count": 2,
     "metadata": {},
     "output_type": "execute_result"
    },
    {
     "data": {
      "image/png": "[encoded data removed]",
      "text/plain": [
       "<matplotlib.figure.Figure at 0x103c42048>"
      ]
     },
     "metadata": {},
     "output_type": "display_data"
    }
   ],
   "source": [
    "random.seed(100)\n",
    "sample_mu = np.random.normal(loc=0, scale=10, size=10000)\n",
    "sample_sigma = np.random.uniform(low=0, high=10, size=10000)\n",
    "y = np.random.normal(loc=sample_mu, scale=sample_sigma)\n",
    "\n",
    "y, bin_edges=np.histogram(y, bins=100)\n",
    "bin_centers = 0.5*(bin_edges[1:] + bin_edges[:-1])\n",
    "plt.plot(bin_centers, y)"
   ]
  },
  {
   "cell_type": "markdown",
   "metadata": {},
   "source": [
    "**4M2** Translate the model just above into a map formula."
   ]
  },
  {
   "cell_type": "code",
   "execution_count": 3,
   "metadata": {},
   "outputs": [],
   "source": [
    "basic_model = pm.Model()\n",
    "\n",
    "with basic_model:\n",
    "\n",
    "    mu = pm.Normal('mu', mu=0, sd=10)\n",
    "    sigma = pm.Uniform('sigma', lower=0, upper=10)\n",
    "\n",
    "    # likelihood of observations\n",
    "    Y_obs = pm.Normal('Y_obs', mu=mu, sd=sigma)"
   ]
  },
  {
   "cell_type": "markdown",
   "metadata": {},
   "source": [
    "**4M3** Translate the map model formula below into a mathematical model definition.\n",
    "\n",
    "```\n",
    "flist <- alist(\n",
    "    y ~ dnorm( mu , sigma ),\n",
    "    mu <- a + b*x,\n",
    "    a ~ dnorm( 0 , 50 ),\n",
    "    b ~ dunif( 0 , 10 ),\n",
    "    sigma ~ dunif( 0 , 50 )\n",
    "```\n",
    "\n",
    "```\n",
    "yi ∼ Normal(μ, σ)\n",
    "μi = α + βxi\n",
    "α ∼ Normal(0, 50)\n",
    "β ∼ Unifrom(0, 10)\n",
    "σ ∼ Uniform(0, 50)\n",
    "```"
   ]
  },
  {
   "cell_type": "markdown",
   "metadata": {},
   "source": [
    "**4M4** A sample of students is measured for height each year for 3 years. After the third year, you want to fit a linear regression predicting height using year as a predictor. Write down the mathematical model definition for this regression, using any variable names and priors you choose. Be perepared to defend your choice of priors.\n",
    "\n",
    "```\n",
    "yi ∼ Normal(μ, σ)\n",
    "μi = α + βxi\n",
    "α ∼ Normal(160, 50)\n",
    "β ∼ Unifrom(0, 10)\n",
    "σ ∼ Uniform(0, 10)\n",
    "```\n",
    "\n",
    "In this model, yi is the height and xi is the year (first year, second year, etc.). Alpha is the expected height when xi = 0, that is, at the first year. Since I do not know the students' ages, I can not really infer what the expected height for a typical student is during the first year, so I am going to use a very wide prior for alpha. Beta indicates the rate of change in height for every year that passes. Once again, not knowing the age of the students makes it hard to set a prior for this parameter. If the students are young, this rate will be higher. Therefore, and once again, I will use a wide prior (10 centimeters per year seems quite wide to me). Finally, the sigma prior will account for what would be a normal human height range.   "
   ]
  },
  {
   "cell_type": "markdown",
   "metadata": {},
   "source": [
    "**4M5** Now suppose I tell you that the average height in the first year was 120cm and that every student got taller each year. Does this information lead you to change your choice of priors? How?\n",
    "\n",
    "That makes change my expected value of alpha from 160 to 120. Additionally, it makes me decrese the standard deviation of the alpha prior distribution, because I have more information. Additionally, this information makes me think that the students are quite young and therefore that a expected increase in height between 0 and 10cm per year is not so unlikely, so I will not modify beta's prior distribution.\n",
    "\n",
    "```\n",
    "yi ∼ Normal(μ, σ)\n",
    "μi = α + βxi\n",
    "α ∼ Normal(120, 20)\n",
    "β ∼ Unifrom(0, 10)\n",
    "σ ∼ Uniform(0, 10)\n",
    "```"
   ]
  },
  {
   "cell_type": "markdown",
   "metadata": {},
   "source": [
    "**4M6** Now suppose I tell you that the variance among heights for students of the same age is never more than 64cm. How does this lead you to revise your priors?\n",
    "\n",
    "This new piece of information makes me decrease the upper edge of the sigma prior distribution:\n",
    "\n",
    "```\n",
    "yi ∼ Normal(μ, σ)\n",
    "μi = α + βxi\n",
    "α ∼ Normal(120, 20)\n",
    "β ∼ Unifrom(0, 10)\n",
    "σ ∼ Uniform(0, 8)\n",
    "```"
   ]
  },
  {
   "cell_type": "code",
   "execution_count": null,
   "metadata": {
    "collapsed": true
   },
   "outputs": [],
   "source": []
  }
 ],
 "metadata": {
  "kernelspec": {
   "display_name": "Python 3",
   "language": "python",
   "name": "python3"
  },
  "language_info": {
   "codemirror_mode": {
    "name": "ipython",
    "version": 3
   },
   "file_extension": ".py",
   "mimetype": "text/x-python",
   "name": "python",
   "nbconvert_exporter": "python",
   "pygments_lexer": "ipython3",
   "version": "3.6.2"
  }
 },
 "nbformat": 4,
 "nbformat_minor": 2
}
