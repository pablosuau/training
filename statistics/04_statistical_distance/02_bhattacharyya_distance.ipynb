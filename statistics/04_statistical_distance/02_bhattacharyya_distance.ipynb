{
 "cells": [
  {
   "cell_type": "code",
   "execution_count": null,
   "metadata": {},
   "outputs": [],
   "source": [
    "%matplotlib inline\n",
    "import math\n",
    "import numpy as np\n",
    "import matplotlib.pyplot as plt"
   ]
  },
  {
   "cell_type": "markdown",
   "metadata": {},
   "source": [
    "The Bhattacharyya distance is a measure of similitude between two distributions. It is based on the Bhattacharyya coefficient which is a measure of the amount of overlap between two samples or populations."
   ]
  },
  {
   "cell_type": "code",
   "execution_count": null,
   "metadata": {},
   "outputs": [],
   "source": [
    "np.random.seed(0)"
   ]
  },
  {
   "cell_type": "code",
   "execution_count": null,
   "metadata": {},
   "outputs": [],
   "source": [
    "mean_1 = np.array([2, 4])\n",
    "cov_1 = np.array([[2, 2], [2, 5]])\n",
    "sample_1 = np.random.multivariate_normal(mean_1, cov_1, 100)\n",
    "\n",
    "mean_2 = np.array([4, 5])\n",
    "cov_2 = np.array([[1, -1], [-1, 4]])\n",
    "sample_2 = np.random.multivariate_normal(mean_2, cov_2, 100)\n",
    "\n",
    "mean_3 = np.array([1, 9])\n",
    "cov_3 = np.array([[1, 1.3], [1.3, 2]])\n",
    "sample_3 = np.random.multivariate_normal(mean_3, cov_3, 100)"
   ]
  },
  {
   "cell_type": "code",
   "execution_count": null,
   "metadata": {},
   "outputs": [],
   "source": [
    "fig, ax = plt.subplots()\n",
    "ax.scatter(sample_1[:, 0], sample_1[:, 1], color = 'b', alpha = 0.2)\n",
    "ax.scatter(sample_2[:, 0], sample_2[:, 1], color = 'r', alpha = 0.2)\n",
    "ax.scatter(sample_3[:, 0], sample_3[:, 1], color = 'k', alpha = 0.2)\n",
    "plt.grid(True)"
   ]
  },
  {
   "cell_type": "markdown",
   "metadata": {},
   "source": [
    "In the case of normally distributed multivariate data, like in our example, we can easily calculate this distance based on the mean vectors and the covariance matrices:"
   ]
  },
  {
   "cell_type": "code",
   "execution_count": null,
   "metadata": {},
   "outputs": [],
   "source": [
    "def bhattacharyya_normal(mean_1, mean_2, cov_1, cov_2):\n",
    "    cov = (cov_1 + cov_2) / 2\n",
    "    dif = mean_1 - mean_2\n",
    "    return 1/8 * np.dot(np.dot(dif.T, np.linalg.inv(cov)), dif) + \\\n",
    "           0.5 * math.log(np.linalg.det(cov) / math.sqrt(np.linalg.det(cov_1) * np.linalg.det(cov_2)))\n",
    "\n",
    "print('Bhattacharyya distance between distributions 1 and 2: ' + str(bhattacharyya_normal(mean_1, mean_2, cov_1, cov_2)))\n",
    "print('Bhattacharyya distance between distributions 1 and 3: ' + str(bhattacharyya_normal(mean_1, mean_3, cov_1, cov_3)))\n",
    "print('Bhattacharyya distance between distributions 2 and 3: ' + str(bhattacharyya_normal(mean_3, mean_2, cov_3, cov_2)))"
   ]
  },
  {
   "cell_type": "code",
   "execution_count": null,
   "metadata": {},
   "outputs": [],
   "source": [
    "from scipy.stats import multivariate_normal\n",
    "discrete = np.arange(-20, 20, 1)\n",
    "dist_1 = multivariate_normal(mean = mean_1, cov = cov_1)\n",
    "dist_2 = multivariate_normal(mean = mean_2, cov = cov_2)"
   ]
  },
  {
   "cell_type": "code",
   "execution_count": null,
   "metadata": {
    "scrolled": true
   },
   "outputs": [],
   "source": [
    "x, y = np.meshgrid(discrete, discrete)"
   ]
  },
  {
   "cell_type": "code",
   "execution_count": null,
   "metadata": {
    "scrolled": true
   },
   "outputs": [],
   "source": [
    "def batt_vec(x, y):\n",
    "    return np.sqrt(dist_1.pdf([x, y]) * dist_2.pdf([x, y]))\n",
    "\n",
    "fv = np.vectorize(batt_vec)\n",
    "-math.log(np.sum(np.sum(fv(x, y))))"
   ]
  },
  {
   "cell_type": "code",
   "execution_count": null,
   "metadata": {
    "scrolled": false
   },
   "outputs": [],
   "source": [
    "bc = 0\n",
    "for i in range(x.shape[0]):\n",
    "    for j in range(x.shape[1]):\n",
    "        bc = bc + math.sqrt(dist_1.pdf([x[i, j], y[i, j]]) * dist_2.pdf([x[i, j], y[i, j]]))\n",
    "-math.log(bc)"
   ]
  },
  {
   "cell_type": "code",
   "execution_count": null,
   "metadata": {},
   "outputs": [],
   "source": []
  }
 ],
 "metadata": {
  "kernelspec": {
   "display_name": "Python 3",
   "language": "python",
   "name": "python3"
  },
  "language_info": {
   "codemirror_mode": {
    "name": "ipython",
    "version": 3
   },
   "file_extension": ".py",
   "mimetype": "text/x-python",
   "name": "python",
   "nbconvert_exporter": "python",
   "pygments_lexer": "ipython3",
   "version": "3.6.5"
  }
 },
 "nbformat": 4,
 "nbformat_minor": 2
}
