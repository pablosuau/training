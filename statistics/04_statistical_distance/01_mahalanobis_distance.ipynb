{
 "cells": [
  {
   "cell_type": "code",
   "execution_count": 1,
   "metadata": {},
   "outputs": [],
   "source": [
    "%matplotlib inline\n",
    "import math\n",
    "import numpy as np\n",
    "import matplotlib.pyplot as plt"
   ]
  },
  {
   "cell_type": "markdown",
   "metadata": {},
   "source": [
    "The Mahalanobis distance is a measure of the distance between an observation and a distribution. Is a multi-dimensional generalisation of the idea of measuring how many standard deviations is an observation away from the mean of a distribution. It takes into account the correlations in the dataset, since the distance increases as we move along the principal component axis. \n",
    "\n",
    "Let's first define the parameters of a multivariate normal distribution:"
   ]
  },
  {
   "cell_type": "code",
   "execution_count": 2,
   "metadata": {},
   "outputs": [],
   "source": [
    "np.random.seed(0)"
   ]
  },
  {
   "cell_type": "code",
   "execution_count": 3,
   "metadata": {},
   "outputs": [],
   "source": [
    "mean = np.array([2, 4])\n",
    "cov = np.array([[2, 2], [2, 5]])\n",
    "sample = np.random.multivariate_normal(mean, cov, 100)"
   ]
  },
  {
   "cell_type": "markdown",
   "metadata": {},
   "source": [
    "Let's define two points. Both points have the same euclidean distance to the mean. However, each of them is located along a different principal axis:"
   ]
  },
  {
   "cell_type": "code",
   "execution_count": 4,
   "metadata": {},
   "outputs": [
    {
     "name": "stdout",
     "output_type": "stream",
     "text": [
      "Euclidean distance between mean and p1: 40\n",
      "Euclidean distance between mean and p2: 40.00039684\n"
     ]
    }
   ],
   "source": [
    "p1 = np.array([0, 10])\n",
    "p2 = np.array([5, 9.5678])\n",
    "\n",
    "print('Euclidean distance between mean and p1: ' + str(np.sum(np.power(p1 - mean, 2))))\n",
    "print('Euclidean distance between mean and p2: ' + str(np.sum(np.power(p2 - mean, 2))))"
   ]
  },
  {
   "cell_type": "markdown",
   "metadata": {},
   "source": [
    "However, their Mahalanobis distance to the distribution is different:"
   ]
  },
  {
   "cell_type": "code",
   "execution_count": 5,
   "metadata": {},
   "outputs": [
    {
     "name": "stdout",
     "output_type": "stream",
     "text": [
      "Mahalanobis distance for p1: 4.83045891539648\n",
      "Mahalanobis distance for p2: 2.58802349551416\n"
     ]
    }
   ],
   "source": [
    "def mahalanobis(p, mean, cov):\n",
    "    dif = p - mean\n",
    "    return math.sqrt(np.dot(np.dot(dif.T, np.linalg.inv(cov)), dif))\n",
    "\n",
    "print('Mahalanobis distance for p1: ' + str(mahalanobis(p1, mean, cov)))\n",
    "print('Mahalanobis distance for p2: ' + str(mahalanobis(p2, mean, cov)))"
   ]
  },
  {
   "cell_type": "markdown",
   "metadata": {},
   "source": [
    "And the reason for that is that these points are located along the two different main axes of the distribution:"
   ]
  },
  {
   "cell_type": "code",
   "execution_count": 6,
   "metadata": {},
   "outputs": [
    {
     "data": {
      "image/png": "[encoded data removed]",
      "text/plain": [
       "<Figure size 432x288 with 1 Axes>"
      ]
     },
     "metadata": {},
     "output_type": "display_data"
    }
   ],
   "source": [
    "fig, ax = plt.subplots()\n",
    "ax.scatter(sample[:, 0], sample[:, 1], alpha = 0.5)\n",
    "ax.scatter(p1[0], p1[1], color = 'r', alpha = 0.5)\n",
    "ax.scatter(p2[0], p2[1], color = 'r', alpha = 0.5)\n",
    "ax.scatter(mean[0], mean[1], color = 'k')\n",
    "ax.plot([p1[0], mean[0]], [p1[1], mean[1]], color = 'r', alpha = 0.5)\n",
    "ax.plot([p2[0], mean[0]], [p2[1], mean[1]], color = 'r', alpha = 0.5)\n",
    "ax.text(p1[0] - 0.4, p1[1] - 0.2, 'p1', color = 'r')\n",
    "ax.text(p2[0] - 0.4, p2[1] - 0.2, 'p2', color = 'r')\n",
    "ax.text(mean[0] - 0.8, mean[1] - 0.2, 'mean', color = 'k')\n",
    "plt.grid(True)"
   ]
  }
 ],
 "metadata": {
  "kernelspec": {
   "display_name": "Python 3",
   "language": "python",
   "name": "python3"
  },
  "language_info": {
   "codemirror_mode": {
    "name": "ipython",
    "version": 3
   },
   "file_extension": ".py",
   "mimetype": "text/x-python",
   "name": "python",
   "nbconvert_exporter": "python",
   "pygments_lexer": "ipython3",
   "version": "3.6.5"
  }
 },
 "nbformat": 4,
 "nbformat_minor": 2
}
