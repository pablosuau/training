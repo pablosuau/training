{
 "cells": [
  {
   "cell_type": "code",
   "execution_count": 1,
   "metadata": {},
   "outputs": [],
   "source": [
    "%matplotlib inline\n",
    "import numpy as np\n",
    "import matplotlib.pyplot as plt"
   ]
  },
  {
   "cell_type": "markdown",
   "metadata": {},
   "source": [
    "The Mahalanobis distance is a measure of the distance between an observation and a distribution. Is a multi-dimensional generalisation of the idea of measuring how many standard deviations is an observation away from the mean of a distribution. It takes into account the correlations in the dataset, since the distance increases as we move along the principal component axis. \n",
    "\n",
    "Let's first define the parameters of a multivariate normal distribution:"
   ]
  },
  {
   "cell_type": "code",
   "execution_count": 11,
   "metadata": {},
   "outputs": [],
   "source": [
    "np.random.seed(0)"
   ]
  },
  {
   "cell_type": "code",
   "execution_count": 12,
   "metadata": {},
   "outputs": [],
   "source": [
    "mean = np.array([2, 4])\n",
    "cov = np.array([[2, 2], [2, 5]])\n",
    "sample = np.random.multivariate_normal(mean, cov, 100)"
   ]
  },
  {
   "cell_type": "markdown",
   "metadata": {},
   "source": [
    "Let's define two points. Both points have the same euclidean distance to the mean. However, each of them is located along a different principal axis:"
   ]
  },
  {
   "cell_type": "code",
   "execution_count": 39,
   "metadata": {},
   "outputs": [
    {
     "name": "stdout",
     "output_type": "stream",
     "text": [
      "Euclidean distance between mean and p1: 40\n",
      "Euclidean distance between mean and p2: 40.00039684\n"
     ]
    }
   ],
   "source": [
    "p1 = np.array([0, 10])\n",
    "p2 = np.array([5, 9.5678])\n",
    "\n",
    "print('Euclidean distance between mean and p1: ' + str(np.sum(np.power(p1 - mean, 2))))\n",
    "print('Euclidean distance between mean and p2: ' + str(np.sum(np.power(p2 - mean, 2))))"
   ]
  },
  {
   "cell_type": "markdown",
   "metadata": {},
   "source": [
    "However, their Mahalanobis distance to the distribution is different:"
   ]
  },
  {
   "cell_type": "code",
   "execution_count": null,
   "metadata": {},
   "outputs": [],
   "source": [
    "TODO: mahalanobis distance"
   ]
  },
  {
   "cell_type": "code",
   "execution_count": 42,
   "metadata": {},
   "outputs": [
    {
     "data": {
      "image/png": "[encoded data removed]",
      "text/plain": [
       "<Figure size 432x288 with 1 Axes>"
      ]
     },
     "metadata": {},
     "output_type": "display_data"
    }
   ],
   "source": [
    "fig, ax = plt.subplots()\n",
    "ax.scatter(sample[:, 0], sample[:, 1], alpha = 0.5)\n",
    "ax.scatter(p1[0], p1[1], color = 'r', alpha = 0.5)\n",
    "ax.scatter(p2[0], p2[1], color = 'r', alpha = 0.5)\n",
    "plt.grid(True)\n",
    "\n",
    "TODO line to the mean of the distribution."
   ]
  },
  {
   "cell_type": "code",
   "execution_count": null,
   "metadata": {},
   "outputs": [],
   "source": []
  }
 ],
 "metadata": {
  "kernelspec": {
   "display_name": "Python 3",
   "language": "python",
   "name": "python3"
  },
  "language_info": {
   "codemirror_mode": {
    "name": "ipython",
    "version": 3
   },
   "file_extension": ".py",
   "mimetype": "text/x-python",
   "name": "python",
   "nbconvert_exporter": "python",
   "pygments_lexer": "ipython3",
   "version": "3.6.5"
  }
 },
 "nbformat": 4,
 "nbformat_minor": 2
}
