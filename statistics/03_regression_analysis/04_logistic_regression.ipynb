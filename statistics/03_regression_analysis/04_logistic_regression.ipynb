{
 "cells": [
  {
   "cell_type": "code",
   "execution_count": 1,
   "metadata": {},
   "outputs": [
    {
     "name": "stderr",
     "output_type": "stream",
     "text": [
      "C:\\Users\\pablo\\Anaconda3\\lib\\site-packages\\statsmodels\\compat\\pandas.py:56: FutureWarning: The pandas.core.datetools module is deprecated and will be removed in a future version. Please use the pandas.tseries module instead.\n",
      "  from pandas.core import datetools\n"
     ]
    }
   ],
   "source": [
    "%matplotlib inline\n",
    "import numpy as np\n",
    "import math\n",
    "import matplotlib.pyplot as plt\n",
    "import pandas as pd\n",
    "from scipy import stats\n",
    "import statsmodels.api as sm"
   ]
  },
  {
   "cell_type": "markdown",
   "metadata": {},
   "source": [
    "**Note**: on this notebook I am just practicing concepts of logistic regression. I am not considering some aspects related to machine learning like the imputation of missing values or the normalisation of the predictor variables. "
   ]
  },
  {
   "cell_type": "markdown",
   "metadata": {},
   "source": [
    "## Loading and processing the data\n",
    "\n",
    "The dataset used in this notebook is an example dataset about accessing graduate school which was obtained from https://stats.idre.ucla.edu/r/dae/logit-regression/. The `admit` column corresponds to the two-level categorical response variable. The variables containing the `gre` and `gpa` scores of the candidate are numerical, whereas the variable `rank`, that indicates the prestige of the school, is categorical. "
   ]
  },
  {
   "cell_type": "code",
   "execution_count": 2,
   "metadata": {},
   "outputs": [
    {
     "data": {
      "text/html": [
       "<div>\n",
       "<style>\n",
       "    .dataframe thead tr:only-child th {\n",
       "        text-align: right;\n",
       "    }\n",
       "\n",
       "    .dataframe thead th {\n",
       "        text-align: left;\n",
       "    }\n",
       "\n",
       "    .dataframe tbody tr th {\n",
       "        vertical-align: top;\n",
       "    }\n",
       "</style>\n",
       "<table border=\"1\" class=\"dataframe\">\n",
       "  <thead>\n",
       "    <tr style=\"text-align: right;\">\n",
       "      <th></th>\n",
       "      <th>admit</th>\n",
       "      <th>gre</th>\n",
       "      <th>gpa</th>\n",
       "      <th>rank</th>\n",
       "    </tr>\n",
       "  </thead>\n",
       "  <tbody>\n",
       "    <tr>\n",
       "      <th>0</th>\n",
       "      <td>0</td>\n",
       "      <td>380</td>\n",
       "      <td>3.61</td>\n",
       "      <td>3</td>\n",
       "    </tr>\n",
       "    <tr>\n",
       "      <th>1</th>\n",
       "      <td>1</td>\n",
       "      <td>660</td>\n",
       "      <td>3.67</td>\n",
       "      <td>3</td>\n",
       "    </tr>\n",
       "    <tr>\n",
       "      <th>2</th>\n",
       "      <td>1</td>\n",
       "      <td>800</td>\n",
       "      <td>4.00</td>\n",
       "      <td>1</td>\n",
       "    </tr>\n",
       "    <tr>\n",
       "      <th>3</th>\n",
       "      <td>1</td>\n",
       "      <td>640</td>\n",
       "      <td>3.19</td>\n",
       "      <td>4</td>\n",
       "    </tr>\n",
       "    <tr>\n",
       "      <th>4</th>\n",
       "      <td>0</td>\n",
       "      <td>520</td>\n",
       "      <td>2.93</td>\n",
       "      <td>4</td>\n",
       "    </tr>\n",
       "  </tbody>\n",
       "</table>\n",
       "</div>"
      ],
      "text/plain": [
       "   admit  gre   gpa  rank\n",
       "0      0  380  3.61     3\n",
       "1      1  660  3.67     3\n",
       "2      1  800  4.00     1\n",
       "3      1  640  3.19     4\n",
       "4      0  520  2.93     4"
      ]
     },
     "execution_count": 2,
     "metadata": {},
     "output_type": "execute_result"
    }
   ],
   "source": [
    "df = pd.read_csv('data/binary.csv')\n",
    "df.head()"
   ]
  },
  {
   "cell_type": "markdown",
   "metadata": {},
   "source": [
    "Let's examine the distribution of the predictor variables:"
   ]
  },
  {
   "cell_type": "code",
   "execution_count": 3,
   "metadata": {},
   "outputs": [
    {
     "data": {
      "image/png": "[encoded data removed]",
      "text/plain": [
       "<matplotlib.figure.Figure at 0x1aefd8d6e10>"
      ]
     },
     "metadata": {},
     "output_type": "display_data"
    }
   ],
   "source": [
    "fig, ax = plt.subplots(1,3)\n",
    "\n",
    "ax[0].hist(df['gre'])\n",
    "ax[0].set_title('gre')\n",
    "\n",
    "ax[1].hist(df['gpa'])\n",
    "ax[1].set_title('gpa')\n",
    "\n",
    "ax[2].hist(df['rank'])\n",
    "ax[2].set_title('rank')\n",
    "\n",
    "fig.set_figwidth(12)\n",
    "fig.set_figheight(2)"
   ]
  },
  {
   "cell_type": "markdown",
   "metadata": {},
   "source": [
    "Is there collinearity between any pair of variables?"
   ]
  },
  {
   "cell_type": "code",
   "execution_count": 4,
   "metadata": {},
   "outputs": [
    {
     "data": {
      "image/png": "[encoded data removed]",
      "text/plain": [
       "<matplotlib.figure.Figure at 0x1aefdc9a128>"
      ]
     },
     "metadata": {},
     "output_type": "display_data"
    }
   ],
   "source": [
    "def compute_R(df, col1, col2):\n",
    "    var1 = df[col1]\n",
    "    var2 = df[col2]    \n",
    "    return 1/(len(df)-1)*np.sum(((var1-var1.mean())/var1.std())*((var2-var2.mean())/var2.std()))\n",
    "\n",
    "fig, ax = plt.subplots(1,3)\n",
    "\n",
    "ax[0].plot(df['gre'], df['gpa'], 'o')\n",
    "ax[0].set_title('gre vs gpa\\nR = ' + str(compute_R(df, 'gre', 'gpa')))\n",
    "\n",
    "ax[1].plot(df['gre'], df['rank'], 'o')\n",
    "ax[1].set_title('gre vs rank\\nR = ' + str(compute_R(df, 'gre', 'rank')))\n",
    "\n",
    "ax[2].plot(df['gpa'], df['rank'], 'o')\n",
    "ax[2].set_title('gpa vs rank\\nR = ' + str(compute_R(df, 'gpa', 'rank')))\n",
    "\n",
    "fig.set_figwidth(12)\n",
    "fig.set_figheight(2)"
   ]
  },
  {
   "cell_type": "markdown",
   "metadata": {},
   "source": [
    "Building indicator variables to replace the rank categorical variable:"
   ]
  },
  {
   "cell_type": "code",
   "execution_count": 5,
   "metadata": {},
   "outputs": [
    {
     "data": {
      "text/html": [
       "<div>\n",
       "<style>\n",
       "    .dataframe thead tr:only-child th {\n",
       "        text-align: right;\n",
       "    }\n",
       "\n",
       "    .dataframe thead th {\n",
       "        text-align: left;\n",
       "    }\n",
       "\n",
       "    .dataframe tbody tr th {\n",
       "        vertical-align: top;\n",
       "    }\n",
       "</style>\n",
       "<table border=\"1\" class=\"dataframe\">\n",
       "  <thead>\n",
       "    <tr style=\"text-align: right;\">\n",
       "      <th></th>\n",
       "      <th>admit</th>\n",
       "      <th>gre</th>\n",
       "      <th>gpa</th>\n",
       "      <th>rank_1</th>\n",
       "      <th>rank_2</th>\n",
       "      <th>rank_3</th>\n",
       "    </tr>\n",
       "  </thead>\n",
       "  <tbody>\n",
       "    <tr>\n",
       "      <th>0</th>\n",
       "      <td>0</td>\n",
       "      <td>380</td>\n",
       "      <td>3.61</td>\n",
       "      <td>0</td>\n",
       "      <td>0</td>\n",
       "      <td>1</td>\n",
       "    </tr>\n",
       "    <tr>\n",
       "      <th>1</th>\n",
       "      <td>1</td>\n",
       "      <td>660</td>\n",
       "      <td>3.67</td>\n",
       "      <td>0</td>\n",
       "      <td>0</td>\n",
       "      <td>1</td>\n",
       "    </tr>\n",
       "    <tr>\n",
       "      <th>2</th>\n",
       "      <td>1</td>\n",
       "      <td>800</td>\n",
       "      <td>4.00</td>\n",
       "      <td>1</td>\n",
       "      <td>0</td>\n",
       "      <td>0</td>\n",
       "    </tr>\n",
       "    <tr>\n",
       "      <th>3</th>\n",
       "      <td>1</td>\n",
       "      <td>640</td>\n",
       "      <td>3.19</td>\n",
       "      <td>0</td>\n",
       "      <td>0</td>\n",
       "      <td>0</td>\n",
       "    </tr>\n",
       "    <tr>\n",
       "      <th>4</th>\n",
       "      <td>0</td>\n",
       "      <td>520</td>\n",
       "      <td>2.93</td>\n",
       "      <td>0</td>\n",
       "      <td>0</td>\n",
       "      <td>0</td>\n",
       "    </tr>\n",
       "  </tbody>\n",
       "</table>\n",
       "</div>"
      ],
      "text/plain": [
       "   admit  gre   gpa  rank_1  rank_2  rank_3\n",
       "0      0  380  3.61       0       0       1\n",
       "1      1  660  3.67       0       0       1\n",
       "2      1  800  4.00       1       0       0\n",
       "3      1  640  3.19       0       0       0\n",
       "4      0  520  2.93       0       0       0"
      ]
     },
     "execution_count": 5,
     "metadata": {},
     "output_type": "execute_result"
    }
   ],
   "source": [
    "values = np.unique(df['rank'])[0:-1]\n",
    "for v in values:\n",
    "    df['rank_' + str(v)] = (df['rank'] == v).astype(int)\n",
    "del df['rank']\n",
    "df.head()"
   ]
  },
  {
   "cell_type": "markdown",
   "metadata": {
    "collapsed": true
   },
   "source": [
    "## Logistic regression\n",
    "\n",
    "Logistic regression is a type of generalised linear model in which the response variable is a two-level categorical variable that, for each observation, takes the value Yi = 1 with probability pi and the value Yi = 0 with probability Yi = 0.\n",
    "\n",
    "A generalised linear model is a generalisation of linear regression in which the residuals can be non-normally distributed. This is achieved by linking the response variable to a multiple regression model by means of a transformation variable, usually the logit function:"
   ]
  },
  {
   "cell_type": "code",
   "execution_count": 6,
   "metadata": {},
   "outputs": [
    {
     "data": {
      "text/plain": [
       "<matplotlib.text.Text at 0x1aefda55550>"
      ]
     },
     "execution_count": 6,
     "metadata": {},
     "output_type": "execute_result"
    },
    {
     "data": {
      "image/png": "[encoded data removed]",
      "text/plain": [
       "<matplotlib.figure.Figure at 0x1aefdca40b8>"
      ]
     },
     "metadata": {},
     "output_type": "display_data"
    }
   ],
   "source": [
    "fig, ax = plt.subplots()\n",
    "p = np.arange(0.01, 0.99, 0.01)\n",
    "logit = np.log(p/(1-p))\n",
    "ax.plot(p, logit)\n",
    "ax.set_xlabel('pi')\n",
    "ax.set_ylabel('logit')"
   ]
  },
  {
   "cell_type": "markdown",
   "metadata": {},
   "source": [
    "The logistic regression model has the following form:\n",
    "```\n",
    "logit(pi) = b0 + b1*x1i + b2*x2i + ... + bk*xki\n",
    "```\n",
    "In order to fit a logistic regression model a function based on Newton method for numerical optimisation is commonly used:"
   ]
  },
  {
   "cell_type": "code",
   "execution_count": 7,
   "metadata": {},
   "outputs": [
    {
     "name": "stdout",
     "output_type": "stream",
     "text": [
      "Optimization terminated successfully.\n",
      "         Current function value: 0.573147\n",
      "         Iterations 6\n",
      "                           Logit Regression Results                           \n",
      "==============================================================================\n",
      "Dep. Variable:                  admit   No. Observations:                  400\n",
      "Model:                          Logit   Df Residuals:                      394\n",
      "Method:                           MLE   Df Model:                            5\n",
      "Date:                Thu, 17 May 2018   Pseudo R-squ.:                 0.08292\n",
      "Time:                        07:36:28   Log-Likelihood:                -229.26\n",
      "converged:                       True   LL-Null:                       -249.99\n",
      "                                        LLR p-value:                 7.578e-08\n",
      "==============================================================================\n",
      "                 coef    std err          z      P>|z|      [0.025      0.975]\n",
      "------------------------------------------------------------------------------\n",
      "const         -5.5414      1.138     -4.869      0.000      -7.772      -3.311\n",
      "x1             0.0023      0.001      2.070      0.038       0.000       0.004\n",
      "x2             0.8040      0.332      2.423      0.015       0.154       1.454\n",
      "x3             1.5515      0.418      3.713      0.000       0.733       2.370\n",
      "x4             0.8760      0.367      2.389      0.017       0.157       1.595\n",
      "x5             0.2113      0.393      0.538      0.591      -0.559       0.981\n",
      "==============================================================================\n"
     ]
    }
   ],
   "source": [
    "Y = df['admit']\n",
    "# Intercept is not included by default\n",
    "X = df[['gre', 'gpa', 'rank_1', 'rank_2', 'rank_3']]\n",
    "X = np.append(np.ones((X.shape[0], 1)), X, axis=1)\n",
    "   \n",
    "\n",
    "logit_model = sm.Logit(Y, X)\n",
    "result = logit_model.fit()\n",
    "# The following line is a workaround to make summary work\n",
    "stats.chisqprob = lambda chisq, df: stats.chi2.sf(chisq, df)\n",
    "print(result.summary())"
   ]
  },
  {
   "cell_type": "markdown",
   "metadata": {},
   "source": [
    "When we plot the predicted probabilities of the observations versus the value returned by the logistic regression model for these observations, we can see the shape of the logit function:"
   ]
  },
  {
   "cell_type": "code",
   "execution_count": 8,
   "metadata": {},
   "outputs": [
    {
     "data": {
      "text/plain": [
       "[<matplotlib.lines.Line2D at 0x1aefdaa38d0>]"
      ]
     },
     "execution_count": 8,
     "metadata": {},
     "output_type": "execute_result"
    },
    {
     "data": {
      "image/png": "[encoded data removed]",
      "text/plain": [
       "<matplotlib.figure.Figure at 0x1aefdadea90>"
      ]
     },
     "metadata": {},
     "output_type": "display_data"
    }
   ],
   "source": [
    "# predict returns the probabilities\n",
    "fig, ax = plt.subplots()\n",
    "ax.plot(result.predict(X), result.fittedvalues, 'o')"
   ]
  },
  {
   "cell_type": "markdown",
   "metadata": {},
   "source": [
    "The following plot shows the residuals as the difference between the value of the response variable and the probability returned by the logistic regression model. This plot demonstrates the independence of the observations, since we cannot see any pattern in the data. The residuals are split into two groups due to the fact that the reponse variable is a two level categorical variable."
   ]
  },
  {
   "cell_type": "code",
   "execution_count": 9,
   "metadata": {},
   "outputs": [
    {
     "data": {
      "text/plain": [
       "<matplotlib.text.Text at 0x1aefda72b70>"
      ]
     },
     "execution_count": 9,
     "metadata": {},
     "output_type": "execute_result"
    },
    {
     "data": {
      "image/png": "[encoded data removed]",
      "text/plain": [
       "<matplotlib.figure.Figure at 0x1aefd946fd0>"
      ]
     },
     "metadata": {},
     "output_type": "display_data"
    }
   ],
   "source": [
    "fig, ax = plt.subplots()\n",
    "ax.plot(df['admit'] - result.predict(X), 'o')\n",
    "ax.set_xlabel('observation')\n",
    "ax.set_ylabel('residuals')"
   ]
  },
  {
   "cell_type": "markdown",
   "metadata": {},
   "source": [
    "Another condition to apply logistic regression, aside from the observations being independent of each other, is that there exists a linear relationship between logit(pi) and each predictor variable, when the rest of the predictor variables are held constant. We can test this condition by plotting residuals versus the values of each predictor variable:"
   ]
  },
  {
   "cell_type": "code",
   "execution_count": 10,
   "metadata": {},
   "outputs": [
    {
     "data": {
      "image/png": "[encoded data removed]",
      "text/plain": [
       "<matplotlib.figure.Figure at 0x1aef8a4a160>"
      ]
     },
     "metadata": {},
     "output_type": "display_data"
    }
   ],
   "source": [
    "residuals = df['admit'] - result.predict(X)\n",
    "predictors = ['gre', 'gpa', 'rank_1', 'rank_2', 'rank_3']\n",
    "\n",
    "fig, ax = plt.subplots(1,len(predictors))\n",
    "\n",
    "for i in range(len(predictors)):\n",
    "    ax[i].plot(df[predictors[i]], residuals, 'o')\n",
    "    ax[i].set_xlabel(predictors[i])\n",
    "    ax[i].set_ylabel('residuals')\n",
    "    \n",
    "fig.set_figwidth(16)\n",
    "fig.set_figheight(3)\n",
    "fig.tight_layout()"
   ]
  },
  {
   "cell_type": "markdown",
   "metadata": {},
   "source": [
    "Linearity seems to be fine in most cases, except maybe in the case of variables rank-2 and rank_3, that have different variabilities between groups. "
   ]
  },
  {
   "cell_type": "markdown",
   "metadata": {
    "collapsed": true
   },
   "source": [
    "## Model selection\n",
    "\n",
    "We are applying now stepwise model selection (forward selection and backward elimination) based on the p-value as the metric to select with variables add to/remove from the model. \n",
    "\n",
    "In forward selection, we start with an empty model and we add at each iteration the predictor variable with the lowest p-value, until it is not possible to add a variable which p-value is lower than the significance level (0.05 in our example)"
   ]
  },
  {
   "cell_type": "code",
   "execution_count": 11,
   "metadata": {},
   "outputs": [
    {
     "name": "stdout",
     "output_type": "stream",
     "text": [
      "Optimization terminated successfully.\n",
      "         Current function value: 0.607570\n",
      "         Iterations 5\n",
      "Optimization terminated successfully.\n",
      "         Current function value: 0.608710\n",
      "         Iterations 5\n",
      "Optimization terminated successfully.\n",
      "         Current function value: 0.605532\n",
      "         Iterations 5\n",
      "Optimization terminated successfully.\n",
      "         Current function value: 0.622736\n",
      "         Iterations 5\n",
      "Optimization terminated successfully.\n",
      "         Current function value: 0.617290\n",
      "         Iterations 5\n",
      "Iteration 1\n",
      "adding rank_1\n",
      "---------------------------\n",
      "Optimization terminated successfully.\n",
      "         Current function value: 0.590704\n",
      "         Iterations 5\n",
      "Optimization terminated successfully.\n",
      "         Current function value: 0.591188\n",
      "         Iterations 5\n",
      "Optimization terminated successfully.\n",
      "         Current function value: 0.594606\n",
      "         Iterations 5\n",
      "Optimization terminated successfully.\n",
      "         Current function value: 0.603017\n",
      "         Iterations 5\n",
      "Iteration 2\n",
      "adding gre\n",
      "---------------------------\n",
      "Optimization terminated successfully.\n",
      "         Current function value: 0.584273\n",
      "         Iterations 5\n",
      "Optimization terminated successfully.\n",
      "         Current function value: 0.581481\n",
      "         Iterations 5\n",
      "Optimization terminated successfully.\n",
      "         Current function value: 0.588618\n",
      "         Iterations 5\n",
      "Iteration 3\n",
      "adding rank_2\n",
      "---------------------------\n",
      "Optimization terminated successfully.\n",
      "         Current function value: 0.573514\n",
      "         Iterations 6\n",
      "Optimization terminated successfully.\n",
      "         Current function value: 0.580665\n",
      "         Iterations 6\n",
      "Iteration 4\n",
      "adding gpa\n",
      "---------------------------\n",
      "Optimization terminated successfully.\n",
      "         Current function value: 0.573147\n",
      "         Iterations 6\n",
      "Iteration 5\n",
      "not adding any variable\n",
      "---------------------------\n",
      "Final model:['rank_1', 'gre', 'rank_2', 'gpa']\n",
      "Optimization terminated successfully.\n",
      "         Current function value: 0.573514\n",
      "         Iterations 6\n",
      "                           Logit Regression Results                           \n",
      "==============================================================================\n",
      "Dep. Variable:                  admit   No. Observations:                  400\n",
      "Model:                          Logit   Df Residuals:                      395\n",
      "Method:                           MLE   Df Model:                            4\n",
      "Date:                Thu, 17 May 2018   Pseudo R-squ.:                 0.08233\n",
      "Time:                        07:36:30   Log-Likelihood:                -229.41\n",
      "converged:                       True   LL-Null:                       -249.99\n",
      "                                        LLR p-value:                 2.484e-08\n",
      "==============================================================================\n",
      "                 coef    std err          z      P>|z|      [0.025      0.975]\n",
      "------------------------------------------------------------------------------\n",
      "const         -5.4602      1.127     -4.843      0.000      -7.670      -3.251\n",
      "x1             1.4107      0.321      4.388      0.000       0.781       2.041\n",
      "x2             0.0023      0.001      2.065      0.039       0.000       0.004\n",
      "x3             0.7361      0.253      2.911      0.004       0.241       1.232\n",
      "x4             0.8227      0.330      2.493      0.013       0.176       1.470\n",
      "==============================================================================\n"
     ]
    }
   ],
   "source": [
    "Y = df['admit']\n",
    "pending = ['gre', 'gpa', 'rank_1', 'rank_2', 'rank_3']\n",
    "model = []\n",
    "end = False\n",
    "it = 1\n",
    "while not end:\n",
    "    end = True\n",
    "    minimum = 1000\n",
    "    for p in pending:\n",
    "        model.append(p)\n",
    "        X = df[model]\n",
    "        X = np.append(np.ones((X.shape[0], 1)), X, axis=1)\n",
    "        logit_model = sm.Logit(Y, X)\n",
    "        result = logit_model.fit()\n",
    "\n",
    "        if result.pvalues[-1] < minimum and result.pvalues[-1] < 0.05:\n",
    "            to_add = p\n",
    "            minimum = result.pvalues[-1]\n",
    "            end = False\n",
    "        \n",
    "        model.remove(p)\n",
    "        \n",
    "    print('Iteration ' + str(it))\n",
    "    it = it + 1\n",
    "    if not end:\n",
    "        print('adding ' + to_add)\n",
    "        model.append(to_add)\n",
    "        pending.remove(to_add)\n",
    "    else:\n",
    "        print('not adding any variable')\n",
    "    print('---------------------------')\n",
    "    \n",
    "print('Final model:' +  str(model))\n",
    "X = df[model]\n",
    "X = np.append(np.ones((X.shape[0], 1)), X, axis=1)\n",
    "\n",
    "logit_model = sm.Logit(Y, X)\n",
    "result = logit_model.fit()\n",
    "print(result.summary())"
   ]
  },
  {
   "cell_type": "markdown",
   "metadata": {
    "collapsed": true
   },
   "source": [
    "In backward elimination we start with start with the full model. At each iteration we remove the variable which has the highest p-value, as long as this p-value is higher than the significance level (0.05 in this example)"
   ]
  },
  {
   "cell_type": "code",
   "execution_count": 12,
   "metadata": {},
   "outputs": [
    {
     "name": "stdout",
     "output_type": "stream",
     "text": [
      "Optimization terminated successfully.\n",
      "         Current function value: 0.573147\n",
      "         Iterations 6\n",
      "Iteration 1\n",
      "removing rank_3\n",
      "---------------------------\n",
      "Optimization terminated successfully.\n",
      "         Current function value: 0.573514\n",
      "         Iterations 6\n",
      "Iteration 2\n",
      "not removing any variable\n",
      "---------------------------\n",
      "Final model:['gre', 'gpa', 'rank_1', 'rank_2']\n",
      "Optimization terminated successfully.\n",
      "         Current function value: 0.573514\n",
      "         Iterations 6\n",
      "                           Logit Regression Results                           \n",
      "==============================================================================\n",
      "Dep. Variable:                  admit   No. Observations:                  400\n",
      "Model:                          Logit   Df Residuals:                      395\n",
      "Method:                           MLE   Df Model:                            4\n",
      "Date:                Thu, 17 May 2018   Pseudo R-squ.:                 0.08233\n",
      "Time:                        07:36:30   Log-Likelihood:                -229.41\n",
      "converged:                       True   LL-Null:                       -249.99\n",
      "                                        LLR p-value:                 2.484e-08\n",
      "==============================================================================\n",
      "                 coef    std err          z      P>|z|      [0.025      0.975]\n",
      "------------------------------------------------------------------------------\n",
      "const         -5.4602      1.127     -4.843      0.000      -7.670      -3.251\n",
      "x1             0.0023      0.001      2.065      0.039       0.000       0.004\n",
      "x2             0.8227      0.330      2.493      0.013       0.176       1.470\n",
      "x3             1.4107      0.321      4.388      0.000       0.781       2.041\n",
      "x4             0.7361      0.253      2.911      0.004       0.241       1.232\n",
      "==============================================================================\n"
     ]
    }
   ],
   "source": [
    "Y = df['admit']\n",
    "model = ['gre', 'gpa', 'rank_1', 'rank_2', 'rank_3']\n",
    "end = False\n",
    "it = 1\n",
    "while not end:\n",
    "    end = True\n",
    "    \n",
    "    X = df[model]\n",
    "    X = np.append(np.ones((X.shape[0], 1)), X, axis=1)\n",
    "    logit_model = sm.Logit(Y, X)\n",
    "    result = logit_model.fit()\n",
    "    \n",
    "    index = np.argmax(result.pvalues.values)\n",
    "    if result.pvalues.values[index] > 0.05:\n",
    "        to_remove = model[index-1]\n",
    "        end = False\n",
    "         \n",
    "    print('Iteration ' + str(it))\n",
    "    it = it + 1\n",
    "    if not end:\n",
    "        print('removing ' + to_remove)\n",
    "        model.remove(to_remove)\n",
    "    else:\n",
    "        print('not removing any variable')\n",
    "    print('---------------------------')\n",
    "    \n",
    "print('Final model:' +  str(model))\n",
    "X = df[model]\n",
    "X = np.append(np.ones((X.shape[0], 1)), X, axis=1)\n",
    "\n",
    "logit_model = sm.Logit(Y, X)\n",
    "result = logit_model.fit()\n",
    "print(result.summary())"
   ]
  },
  {
   "cell_type": "markdown",
   "metadata": {},
   "source": [
    "In this case both methods resulted in the same final model. The only initial predictor variable that is not included in the final model is rank_3."
   ]
  },
  {
   "cell_type": "markdown",
   "metadata": {},
   "source": [
    "Let's compute the probability values from the logit predictions of the model for the training data"
   ]
  },
  {
   "cell_type": "code",
   "execution_count": 13,
   "metadata": {},
   "outputs": [
    {
     "data": {
      "text/plain": [
       "<matplotlib.text.Text at 0x1aefe34a1d0>"
      ]
     },
     "execution_count": 13,
     "metadata": {},
     "output_type": "execute_result"
    },
    {
     "data": {
      "image/png": "[encoded data removed]",
      "text/plain": [
       "<matplotlib.figure.Figure at 0x1aefda65400>"
      ]
     },
     "metadata": {},
     "output_type": "display_data"
    }
   ],
   "source": [
    "fig, ax = plt.subplots()\n",
    "ax.plot(df['admit'] - result.predict(X), 'o')\n",
    "ax.set_xlabel('observation')\n",
    "ax.set_ylabel('residuals')"
   ]
  }
 ],
 "metadata": {
  "kernelspec": {
   "display_name": "Python 3",
   "language": "python",
   "name": "python3"
  },
  "language_info": {
   "codemirror_mode": {
    "name": "ipython",
    "version": 3
   },
   "file_extension": ".py",
   "mimetype": "text/x-python",
   "name": "python",
   "nbconvert_exporter": "python",
   "pygments_lexer": "ipython3",
   "version": "3.6.1"
  }
 },
 "nbformat": 4,
 "nbformat_minor": 2
}
