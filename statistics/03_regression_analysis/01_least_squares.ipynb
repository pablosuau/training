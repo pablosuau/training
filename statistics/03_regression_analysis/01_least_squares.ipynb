{
 "cells": [
  {
   "cell_type": "code",
   "execution_count": null,
   "metadata": {
    "collapsed": true
   },
   "outputs": [],
   "source": [
    "%matplotlib inline\n",
    "import numpy as np\n",
    "import math\n",
    "import matplotlib.pyplot as plt"
   ]
  },
  {
   "cell_type": "markdown",
   "metadata": {},
   "source": [
    "In this notebook I practice several concepts related to linear regression and least squares. In order to do so I need a function to create data with linear trend. The following function creates a randomized dataset from the parameters of a linear regression model (slope and intercept.)"
   ]
  },
  {
   "cell_type": "code",
   "execution_count": null,
   "metadata": {
    "collapsed": true
   },
   "outputs": [],
   "source": [
    "SIZE = 50\n",
    "def generate_random_linear_sample(slope, intercept, noise_std, x_init, x_end):\n",
    "    x = np.random.uniform(x_init, x_end, SIZE)\n",
    "    y = x*slope + intercept + np.random.normal(0, noise_std, SIZE)\n",
    "    \n",
    "    return (x,y)"
   ]
  },
  {
   "cell_type": "code",
   "execution_count": null,
   "metadata": {},
   "outputs": [],
   "source": [
    "x1, y1 = generate_random_linear_sample(0.85, 12, 8, 10, 50)\n",
    "x2, y2 = generate_random_linear_sample(-1.23, 5, 5, 20, 80)\n",
    "x3, y3 = generate_random_linear_sample(0.02, 10, 1, 100, 120)\n",
    "fig, ax = plt.subplots(1,3)\n",
    "ax[0].scatter(x1, y1)\n",
    "ax[1].scatter(x2, y2)\n",
    "ax[2].scatter(x3, y3)\n",
    "fig.set_figwidth(12)"
   ]
  },
  {
   "cell_type": "markdown",
   "metadata": {},
   "source": [
    "### Example of moderate positive linear relationship"
   ]
  },
  {
   "cell_type": "markdown",
   "metadata": {},
   "source": [
    "### Example of strong negative linear relationship"
   ]
  },
  {
   "cell_type": "markdown",
   "metadata": {},
   "source": [
    "### Example of very weak linear relationship"
   ]
  },
  {
   "cell_type": "code",
   "execution_count": null,
   "metadata": {
    "collapsed": true
   },
   "outputs": [],
   "source": []
  }
 ],
 "metadata": {
  "kernelspec": {
   "display_name": "Python 3",
   "language": "python",
   "name": "python3"
  },
  "language_info": {
   "codemirror_mode": {
    "name": "ipython",
    "version": 3
   },
   "file_extension": ".py",
   "mimetype": "text/x-python",
   "name": "python",
   "nbconvert_exporter": "python",
   "pygments_lexer": "ipython3",
   "version": "3.6.1"
  }
 },
 "nbformat": 4,
 "nbformat_minor": 2
}
