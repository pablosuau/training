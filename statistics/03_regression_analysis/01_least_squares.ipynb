{
 "cells": [
  {
   "cell_type": "code",
   "execution_count": null,
   "metadata": {
    "collapsed": true
   },
   "outputs": [],
   "source": [
    "%matplotlib inline\n",
    "import numpy as np\n",
    "import math\n",
    "import matplotlib.pyplot as plt\n",
    "import scipy.stats as st"
   ]
  },
  {
   "cell_type": "markdown",
   "metadata": {},
   "source": [
    "In this notebook I practice several concepts related to linear regression and least squares. In order to do so I need a function to create data with linear trend. The following function creates a randomized dataset from the parameters of a linear regression model (slope and intercept.)"
   ]
  },
  {
   "cell_type": "code",
   "execution_count": null,
   "metadata": {
    "collapsed": true
   },
   "outputs": [],
   "source": [
    "SIZE = 100\n",
    "def generate_random_linear_sample(slope, intercept, noise_std, x_init, x_end):\n",
    "    x = np.random.uniform(x_init, x_end, SIZE)\n",
    "    y = x*slope + intercept + np.random.normal(0, noise_std, SIZE)\n",
    "    \n",
    "    return (x,y)"
   ]
  },
  {
   "cell_type": "code",
   "execution_count": null,
   "metadata": {},
   "outputs": [],
   "source": [
    "x1, y1 = generate_random_linear_sample(0.85, 12, 8, 10, 50)\n",
    "x2, y2 = generate_random_linear_sample(-1.23, 5, 5, 20, 80)\n",
    "x3, y3 = generate_random_linear_sample(0.02, 10, 2, 100, 120)\n",
    "fig, ax = plt.subplots(1,3)\n",
    "ax[0].scatter(x1, y1)\n",
    "ax[1].scatter(x2, y2)\n",
    "ax[2].scatter(x3, y3)\n",
    "fig.set_figwidth(12)"
   ]
  },
  {
   "cell_type": "markdown",
   "metadata": {},
   "source": [
    "### Example of moderate positive linear relationship"
   ]
  },
  {
   "cell_type": "markdown",
   "metadata": {},
   "source": [
    "Correlation is a measure of the strength of the linear relationship between two variables. The correlation value is in the range between -1 and 1. If the variables have a strong positive linear relationship the value is close to one. If the variables have a strong negative relationship the value is closer to minus one. If there is no apparent linear relationship between the variables the value will be close to zero. \n",
    "\n",
    "Correlation demonstrates a positive linear relationship for the set of observations (x1, y1):"
   ]
  },
  {
   "cell_type": "code",
   "execution_count": null,
   "metadata": {},
   "outputs": [],
   "source": [
    "R = 1/(len(x1) - 1)*np.sum((x1 - np.mean(x1))*(y1 - np.mean(y1))/(np.std(x1) * np.std(y1)))\n",
    "print(R)"
   ]
  },
  {
   "cell_type": "markdown",
   "metadata": {},
   "source": [
    "Least squares is a method to fit a linar model based on minimising the least squares criterion, that is, the square of the residuals. The residual of an observation is the difference between the observed value of the response variable and the value predicted by the linear model.\n",
    "\n",
    "Let's apply least squares to the set of observations (x1, y1):"
   ]
  },
  {
   "cell_type": "code",
   "execution_count": null,
   "metadata": {},
   "outputs": [],
   "source": [
    "b1 = R * np.std(y1) / np.std(x1)\n",
    "b0 = np.mean(y1) - b1 * np.mean(x1)\n",
    "\n",
    "print('y = {0} * x + {1}'.format(b1, b0))"
   ]
  },
  {
   "cell_type": "code",
   "execution_count": null,
   "metadata": {},
   "outputs": [],
   "source": [
    "def predict(x, b0, b1):\n",
    "    return(b0 + b1*x)\n",
    "\n",
    "fig, ax = plt.subplots()\n",
    "ax.scatter(x1, y1)\n",
    "ax.plot([np.min(x1), np.max(x1)], [predict(np.min(x1), b0, b1), predict(np.max(x1), b0, b1)], 'r')"
   ]
  },
  {
   "cell_type": "markdown",
   "metadata": {},
   "source": [
    "In order to apply least squares, we have to check the following conditions:\n",
    "\n",
    "- The data has a linear trend\n",
    "- The distribution of the residuals is normal. This may not be the case if there are outliers\n",
    "- The variability of the data around the line has to remain constant\n",
    "- The observations are independent. That is not the case, for instance, when we have time series data.\n",
    "\n",
    "In order to test these conditions we generate a series of plots:"
   ]
  },
  {
   "cell_type": "code",
   "execution_count": null,
   "metadata": {},
   "outputs": [],
   "source": [
    "def test_conditions(x, y, b0, b1):\n",
    "    fig, ax = plt.subplots(2,2)\n",
    "    \n",
    "    predictions = x*b1 + b0\n",
    "    residuals = y - predictions\n",
    "    \n",
    "    # Residuals plot\n",
    "    ax[0][0].scatter(x, residuals)\n",
    "    ax[0][0].plot([np.min(x)-1, np.max(x)+1], [0, 0], 'k--')\n",
    "    ax[0][0].set_xlabel('x')\n",
    "    ax[0][0].set_ylabel('residuals')\n",
    "    \n",
    "    # Distribution of the residuals\n",
    "    weights = np.ones_like(residuals)/float(len(residuals))\n",
    "    ax[0][1].hist(residuals, bins=10, weights=weights)\n",
    "    ax[0][1].set_xlabel('residuals')\n",
    "    \n",
    "    # Q-q plot of the residuals\n",
    "    quantiles = np.arange(0.01,0.99,0.01)\n",
    "    q_theoretical = [st.norm.ppf(i, loc=np.mean(residuals), scale=np.std(residuals)) for i in quantiles]\n",
    "    q_residuals = [np.percentile(residuals, i*100) for i in quantiles]\n",
    "    ax[1][0].scatter(q_residuals, q_theoretical, color='blue')\n",
    "    min_value = min(np.min(q_theoretical), np.min(q_residuals))\n",
    "    max_value = max(np.max(q_theoretical), np.max(q_residuals))\n",
    "    ax[1][0].plot([min_value, max_value], [min_value, max_value], 'k--')\n",
    "    ax[1][0].set_xlabel('residuals')\n",
    "    ax[1][0].set_ylabel('theoretical')\n",
    "    \n",
    "    # Order of data collection\n",
    "    ax[1][1].scatter(range(len(x)), residuals)\n",
    "    ax[1][1].plot([0, len(x)], [0, 0], 'k--')\n",
    "    ax[1][1].set_xlabel('order of data collection')\n",
    "    ax[1][1].set_ylabel('residuals')\n",
    "    \n",
    "    fig.set_figwidth(12)\n",
    "    fig.set_figheight(8)"
   ]
  },
  {
   "cell_type": "code",
   "execution_count": null,
   "metadata": {},
   "outputs": [],
   "source": [
    "test_conditions(x1, y1, b0, b1)"
   ]
  },
  {
   "cell_type": "markdown",
   "metadata": {},
   "source": [
    "These plots demonstrate that least squares can be applied to the (x1, y1) dataset"
   ]
  },
  {
   "cell_type": "markdown",
   "metadata": {},
   "source": [
    "### Example of strong negative linear relationship"
   ]
  },
  {
   "cell_type": "markdown",
   "metadata": {},
   "source": [
    "Correlation demonstrates a negative linear relationship for the set of observations (x2, y2):"
   ]
  },
  {
   "cell_type": "code",
   "execution_count": null,
   "metadata": {},
   "outputs": [],
   "source": [
    "R = 1/(len(x2) - 1)*np.sum((x2 - np.mean(x2))*(y2 - np.mean(y2))/(np.std(x2) * np.std(y2)))\n",
    "print(R)"
   ]
  },
  {
   "cell_type": "markdown",
   "metadata": {},
   "source": [
    "Let's apply least squares to the set of observations (x2, y2):"
   ]
  },
  {
   "cell_type": "code",
   "execution_count": null,
   "metadata": {},
   "outputs": [],
   "source": [
    "b1 = R * np.std(y2) / np.std(x2)\n",
    "b0 = np.mean(y2) - b1 * np.mean(x2)\n",
    "\n",
    "print('y = {0} * x + {1}'.format(b1, b0))"
   ]
  },
  {
   "cell_type": "code",
   "execution_count": null,
   "metadata": {},
   "outputs": [],
   "source": [
    "fig, ax = plt.subplots()\n",
    "ax.scatter(x2, y2)\n",
    "ax.plot([np.min(x2), np.max(x2)], [predict(np.min(x2), b0, b1), predict(np.max(x2), b0, b1)], 'r')"
   ]
  },
  {
   "cell_type": "markdown",
   "metadata": {},
   "source": [
    "Let's test the least squares conditions:"
   ]
  },
  {
   "cell_type": "code",
   "execution_count": null,
   "metadata": {},
   "outputs": [],
   "source": [
    "test_conditions(x2, y2, b0, b1)"
   ]
  },
  {
   "cell_type": "markdown",
   "metadata": {},
   "source": [
    "These plots demonstrate that least squares can be applied to the (x2, y2) dataset"
   ]
  },
  {
   "cell_type": "markdown",
   "metadata": {},
   "source": [
    "### Example of very weak linear relationship"
   ]
  },
  {
   "cell_type": "markdown",
   "metadata": {},
   "source": [
    "Correlation demonstrates that there is no linear relationship for the ser of observations (x3, y3):"
   ]
  },
  {
   "cell_type": "code",
   "execution_count": null,
   "metadata": {},
   "outputs": [],
   "source": [
    "R = 1/(len(x3) - 1)*np.sum((x3 - np.mean(x3))*(y3 - np.mean(y3))/(np.std(x3) * np.std(y3)))\n",
    "print(R)"
   ]
  },
  {
   "cell_type": "markdown",
   "metadata": {
    "collapsed": true
   },
   "source": [
    "Let's apply least squares to the set of observations (x3, y3):"
   ]
  },
  {
   "cell_type": "code",
   "execution_count": null,
   "metadata": {},
   "outputs": [],
   "source": [
    "b1 = R * np.std(y3) / np.std(x3)\n",
    "b0 = np.mean(y3) - b1 * np.mean(x3)\n",
    "\n",
    "print('y = {0} * x + {1}'.format(b1, b0))"
   ]
  },
  {
   "cell_type": "code",
   "execution_count": null,
   "metadata": {},
   "outputs": [],
   "source": [
    "fig, ax = plt.subplots()\n",
    "ax.scatter(x3, y3)\n",
    "ax.plot([np.min(x3), np.max(x3)], [predict(np.min(x3), b0, b1), predict(np.max(x3), b0, b1)], 'r')"
   ]
  },
  {
   "cell_type": "markdown",
   "metadata": {},
   "source": [
    "Let's test the least squares conditions:"
   ]
  },
  {
   "cell_type": "code",
   "execution_count": null,
   "metadata": {},
   "outputs": [],
   "source": [
    "test_conditions(x3, y3, b0, b1)"
   ]
  },
  {
   "cell_type": "markdown",
   "metadata": {},
   "source": [
    "These plots demonstrate that least squares can be applied to the (x2, y2) dataset. The linear trend is practically non-existent, but the rest of the conditions apply. "
   ]
  },
  {
   "cell_type": "code",
   "execution_count": null,
   "metadata": {
    "collapsed": true
   },
   "outputs": [],
   "source": []
  }
 ],
 "metadata": {
  "kernelspec": {
   "display_name": "Python 3",
   "language": "python",
   "name": "python3"
  },
  "language_info": {
   "codemirror_mode": {
    "name": "ipython",
    "version": 3
   },
   "file_extension": ".py",
   "mimetype": "text/x-python",
   "name": "python",
   "nbconvert_exporter": "python",
   "pygments_lexer": "ipython3",
   "version": "3.6.1"
  }
 },
 "nbformat": 4,
 "nbformat_minor": 2
}
