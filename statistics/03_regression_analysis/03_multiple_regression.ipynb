{
 "cells": [
  {
   "cell_type": "code",
   "execution_count": null,
   "metadata": {},
   "outputs": [],
   "source": [
    "%matplotlib inline\n",
    "import numpy as np\n",
    "import math\n",
    "import matplotlib.pyplot as plt\n",
    "import pandas as pd"
   ]
  },
  {
   "cell_type": "markdown",
   "metadata": {},
   "source": [
    "The dataset used in this notebook is the Auto MPG dataset from the UCI Machine Learning Repository: (https://archive.ics.uci.edu/ml/datasets/Auto+MPG).\n",
    "\n",
    "The mpg column corresponds to the response variable. All the predictor variables can be interpreted as numerical variables except origin, that is categorical."
   ]
  },
  {
   "cell_type": "code",
   "execution_count": null,
   "metadata": {},
   "outputs": [],
   "source": [
    "df = pd.read_csv('data/auto-mpg.csv', sep='\\s+', header=None, usecols=range(8))\n",
    "df.columns = ['mpg', 'cylinders', 'displacement',\n",
    "              'horsepower', 'weight', 'acceleration',\n",
    "              'model_year', 'origin']\n",
    "df.head()"
   ]
  },
  {
   "cell_type": "code",
   "execution_count": null,
   "metadata": {},
   "outputs": [],
   "source": [
    "fig, ax = plt.subplots(2,4)\n",
    "\n",
    "ax[0,0].hist(df.mpg)\n",
    "ax[0,0].set_title('mpg distribution')\n",
    "\n",
    "ax[0,1].hist(df.cylinders)\n",
    "ax[0,1].set_title('cylinders distribution')\n",
    "\n",
    "ax[0,2].hist(df.displacement)\n",
    "ax[0,2].set_title('displacement distribution')\n",
    "\n",
    "ax[0,3].hist(df.horsepower)\n",
    "ax[0,3].set_title('horsepower distribution')\n",
    "\n",
    "ax[1,0].hist(df.weight)\n",
    "ax[1,0].set_title('weight distribution')\n",
    "\n",
    "ax[1,1].hist(df.acceleration)\n",
    "ax[1,1].set_title('acceleration distribution')\n",
    "\n",
    "ax[1,2].hist(df.model_year)\n",
    "ax[1,2].set_title('model_year distribution')\n",
    "\n",
    "ax[1,3].hist(df.origin)\n",
    "ax[1,3].set_title('origin distribution')\n",
    "\n",
    "fig.set_figwidth(16)\n",
    "fig.set_figheight(4)\n",
    "plt.tight_layout()"
   ]
  },
  {
   "cell_type": "code",
   "execution_count": null,
   "metadata": {},
   "outputs": [],
   "source": []
  }
 ],
 "metadata": {
  "kernelspec": {
   "display_name": "Python 3",
   "language": "python",
   "name": "python3"
  },
  "language_info": {
   "codemirror_mode": {
    "name": "ipython",
    "version": 3
   },
   "file_extension": ".py",
   "mimetype": "text/x-python",
   "name": "python",
   "nbconvert_exporter": "python",
   "pygments_lexer": "ipython3",
   "version": "3.6.4"
  }
 },
 "nbformat": 4,
 "nbformat_minor": 2
}
