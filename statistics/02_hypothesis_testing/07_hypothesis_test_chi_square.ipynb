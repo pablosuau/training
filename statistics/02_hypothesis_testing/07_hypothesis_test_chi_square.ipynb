{
 "cells": [
  {
   "cell_type": "code",
   "execution_count": null,
   "metadata": {
    "collapsed": true
   },
   "outputs": [],
   "source": [
    "%matplotlib inline\n",
    "import numpy as np\n",
    "import pandas as pd\n",
    "from math import sqrt\n",
    "import matplotlib.pyplot as plt\n",
    "import scipy.stats"
   ]
  },
  {
   "cell_type": "markdown",
   "metadata": {},
   "source": [
    "### Hypothesis test based on the chi-squared distribution for one-way tables\n",
    "\n",
    "A one-way table is a tabular representation of a bar plot. It represents the frequency of the value of each value of a categorical variable in a sample, that is, the number of observations in the sample that are assigned each value of a categorical variable.\n",
    "\n",
    "Hypothesis test based on the chi-squared distribution for one-way tables has two main applications:\n",
    "\n",
    "- Given a sample in which the observations are split into groups, we use this hypothesis test to check whether the observed sample group frequencies match the expected population group frecuencies.\n",
    "- To test whether a sample follows a given theoretical distribution."
   ]
  },
  {
   "cell_type": "markdown",
   "metadata": {},
   "source": [
    "#### Observed vs. expected group frequencies\n",
    "\n",
    "All the workers in a very large factory are unionised. A 20% of the 10000 workers in the factory are part of UnionA, 15% are part of UnionB, and the remaining 65% are part of UnionC. There are three different unions in the factory. A small representation of 100 factory workers is to be randomly selected to act as facilitators between the workers and the owners of the factory. The table below indicates how many workers from each union were selected:\n",
    "\n",
    "|UnionA|UnionB|UnionC|Total |\n",
    "|------|------|------|------|\n",
    "|   22 |   23 |   55 |  100 |\n",
    "\n",
    "The question we will answer know is whether this is a good representation of the proportion of workers in each union in the total population of the factory. More specifically, we are carrying out a hypothesis test with the following hypothesis:\n",
    "\n",
    "```\n",
    "H0: the sample is unbiased. The frequency of each union in the sample is equal to the frequency of each union in the population.\n",
    "HA: the sample is biased. Some of the unions are over or under-represented\n",
    "```\n",
    "\n",
    "Since the number of groups is greater than two (three unions) we use a one-way table chi-squared tests. Otherwise, we would have carried out a hypothesis test for the difference of proportions. "
   ]
  },
  {
   "cell_type": "markdown",
   "metadata": {},
   "source": [
    "The first step is to calculate the expected frequencies for each union, to compare to the observed frequencies in the table above:"
   ]
  },
  {
   "cell_type": "code",
   "execution_count": null,
   "metadata": {},
   "outputs": [],
   "source": [
    "frequencies = np.array([0.2, 0.15, 0.65])\n",
    "observed = np.array([22, 23, 55])\n",
    "\n",
    "expected = 100*frequencies\n",
    "\n",
    "print('Expected frequencies per union:')\n",
    "print(expected)"
   ]
  },
  {
   "cell_type": "markdown",
   "metadata": {},
   "source": [
    "The test statistic to use in this kind of thest is the X2 statistic, that is calculated as the sum of the squared differences between expected and observed frequencies divided by expected frequencies for each group in the sample:"
   ]
  },
  {
   "cell_type": "code",
   "execution_count": null,
   "metadata": {},
   "outputs": [],
   "source": [
    "x2 = np.sum((observed-expected)**2/expected)\n",
    "print('x2 = ' + str(x2))"
   ]
  },
  {
   "cell_type": "markdown",
   "metadata": {},
   "source": [
    "The p-value is obtained by comparing the value of the X2 statistic against the upper tail of the chi-squared distribution with k-1 degrees of freedom, where k is the number of groups. The chi-squared distribution is used to represent datasets or statistics that are always positive and usually right-skewed.\n",
    "\n",
    "In the case of our example, we use a chi-squared distribution with 2 degrees of freedom (3 groups minus one):"
   ]
  },
  {
   "cell_type": "code",
   "execution_count": null,
   "metadata": {},
   "outputs": [],
   "source": [
    "p_value = 1 - scipy.stats.chi2.cdf(x2, 2)\n",
    "print('p-value = ' + str(p_value))"
   ]
  },
  {
   "cell_type": "markdown",
   "metadata": {},
   "source": [
    "The p-value is lower than the significance level, so we reject the null hypothesis. There seems to be a bias in the selection of the workers that is not due to random variation. In other words, the observed frequency does not correspond to what we would expect to be the frequency of the groups."
   ]
  },
  {
   "cell_type": "code",
   "execution_count": null,
   "metadata": {
    "collapsed": true
   },
   "outputs": [],
   "source": []
  }
 ],
 "metadata": {
  "kernelspec": {
   "display_name": "Python 3",
   "language": "python",
   "name": "python3"
  },
  "language_info": {
   "codemirror_mode": {
    "name": "ipython",
    "version": 3
   },
   "file_extension": ".py",
   "mimetype": "text/x-python",
   "name": "python",
   "nbconvert_exporter": "python",
   "pygments_lexer": "ipython3",
   "version": "3.6.1"
  }
 },
 "nbformat": 4,
 "nbformat_minor": 2
}
