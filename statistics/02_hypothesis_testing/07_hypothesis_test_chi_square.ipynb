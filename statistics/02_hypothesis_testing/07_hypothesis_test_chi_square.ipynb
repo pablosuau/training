{
 "cells": [
  {
   "cell_type": "code",
   "execution_count": 1,
   "metadata": {},
   "outputs": [],
   "source": [
    "%matplotlib inline\n",
    "import numpy as np\n",
    "import pandas as pd\n",
    "from math import sqrt\n",
    "import matplotlib.pyplot as plt\n",
    "import scipy.stats\n",
    "from statsmodels.graphics.mosaicplot import mosaic"
   ]
  },
  {
   "cell_type": "markdown",
   "metadata": {},
   "source": [
    "### Hypothesis test based on the chi-squared distribution for one-way tables\n",
    "\n",
    "A one-way table is a tabular representation of a bar plot. It represents the frequency of the value of each value of a categorical variable in a sample, that is, the number of observations in the sample that are assigned each value of a categorical variable.\n",
    "\n",
    "Hypothesis test based on the chi-squared distribution for one-way tables has two main applications:\n",
    "\n",
    "- Given a sample in which the observations are split into groups, we use this hypothesis test to check whether the observed sample group frequencies match the expected population group frecuencies.\n",
    "- To test whether a sample follows a given theoretical distribution."
   ]
  },
  {
   "cell_type": "markdown",
   "metadata": {},
   "source": [
    "#### Observed vs. expected group frequencies\n",
    "\n",
    "All the workers in a very large factory are unionised. A 20% of the 10000 workers in the factory are part of UnionA, 15% are part of UnionB, and the remaining 65% are part of UnionC. There are three different unions in the factory. A small representation of 100 factory workers is to be randomly selected to act as facilitators between the workers and the owners of the factory. The table below indicates how many workers from each union were selected:\n",
    "\n",
    "|UnionA|UnionB|UnionC|Total |\n",
    "|------|------|------|------|\n",
    "|   22 |   23 |   55 |  100 |\n",
    "\n",
    "The question we will answer know is whether this is a good representation of the proportion of workers in each union in the total population of the factory. More specifically, we are carrying out a hypothesis test with the following hypothesis:\n",
    "\n",
    "```\n",
    "H0: the sample is unbiased. The frequency of each union in the sample is equal to the frequency of each union in the population.\n",
    "HA: the sample is biased. Some of the unions are over or under-represented\n",
    "```\n",
    "\n",
    "Since the number of groups is greater than two (three unions) we use a one-way table chi-squared tests. Otherwise, we would have carried out a hypothesis test for the difference of proportions. "
   ]
  },
  {
   "cell_type": "markdown",
   "metadata": {},
   "source": [
    "The first step is to calculate the expected frequencies for each union, to compare to the observed frequencies in the table above:"
   ]
  },
  {
   "cell_type": "code",
   "execution_count": 2,
   "metadata": {},
   "outputs": [
    {
     "name": "stdout",
     "output_type": "stream",
     "text": [
      "Expected frequencies per union:\n",
      "[20. 15. 65.]\n"
     ]
    }
   ],
   "source": [
    "frequencies = np.array([0.2, 0.15, 0.65])\n",
    "observed = np.array([22, 23, 55])\n",
    "\n",
    "expected = 100*frequencies\n",
    "\n",
    "print('Expected frequencies per union:')\n",
    "print(expected)"
   ]
  },
  {
   "cell_type": "markdown",
   "metadata": {},
   "source": [
    "The test statistic to use in this kind of thest is the X2 statistic, that is calculated as the sum of the squared differences between expected and observed frequencies divided by expected frequencies for each group in the sample:"
   ]
  },
  {
   "cell_type": "code",
   "execution_count": 3,
   "metadata": {},
   "outputs": [
    {
     "name": "stdout",
     "output_type": "stream",
     "text": [
      "x2 = 6.005128205128205\n"
     ]
    }
   ],
   "source": [
    "x2 = np.sum((observed-expected)**2/expected)\n",
    "print('x2 = ' + str(x2))"
   ]
  },
  {
   "cell_type": "markdown",
   "metadata": {},
   "source": [
    "The p-value is obtained by comparing the value of the X2 statistic against the upper tail of the chi-squared distribution with k-1 degrees of freedom, where k is the number of groups. The chi-squared distribution is used to represent datasets or statistics that are always positive and usually right-skewed.\n",
    "\n",
    "In the case of our example, we use a chi-squared distribution with 2 degrees of freedom (3 groups minus one):"
   ]
  },
  {
   "cell_type": "code",
   "execution_count": 4,
   "metadata": {},
   "outputs": [
    {
     "name": "stdout",
     "output_type": "stream",
     "text": [
      "p-value = 0.049659572743983804\n"
     ]
    }
   ],
   "source": [
    "p_value = 1 - scipy.stats.chi2.cdf(x2, 2)\n",
    "print('p-value = ' + str(p_value))"
   ]
  },
  {
   "cell_type": "markdown",
   "metadata": {},
   "source": [
    "The p-value is lower than the significance level, so we reject the null hypothesis. There seems to be a bias in the selection of the workers that is not due to random variation. In other words, the observed frequency does not correspond to what we would expect to be the frequency of the groups."
   ]
  },
  {
   "cell_type": "markdown",
   "metadata": {},
   "source": [
    "#### Observed frequencies vs. values of a theoretical distribution\n",
    "\n",
    "This same kind of test can be applied to the problem of determining whether the observed sample resembles a given theoretical distribution. In this example, we are trying to determine whether a coin is a fair coin by collecting data about 100 tossing experiments. In each experiment we count the number of times we have to toss a coin until we get heads. Therefore, we obtain a sample of 100 values. If the coin is fair, this sample should look like a sample we would have obtained from a geometric distribution with p=0.5. \n",
    "\n",
    "The results of this process are collected in the following one-way table. The top row represents the observed number of tossing experiments in the sample for each number of tosses. The bottom row represents the expected cound we would get from a sample with 100 observations extracted from a geometric distribution with p=0.5.\n",
    "\n",
    "|          | 1  | 2  | 3    | 4    | 5+   |\n",
    "|----------|---:|---:|-----:|-----:|-----:|\n",
    "| Observed | 40 | 24 | 14   | 9    | 13   |\n",
    "| Expected | 50 | 25 | 12.5 | 6.25 | 6.25 |\n",
    "\n",
    "Note that we grouped together the counts for tossing values of 5 or more into the same table cell to make sure that the number of expected counts is at least 5 in each cell. \n",
    "\n",
    "We carry out the hypothesis test following exactly the same steps we followed in the previous example. In this case we are using the chi-squared distribution with four degrees of freedom, because the one-way table contains data about five groups. \n",
    "\n",
    "```\n",
    "H0: the observed counts resemble the counts we would expect to get if the population is geometrically distributed with p=0.5\n",
    "HA: the observed counts do not resemble a sample from a geometrical distribution with p=0.5\n",
    "```"
   ]
  },
  {
   "cell_type": "code",
   "execution_count": 5,
   "metadata": {},
   "outputs": [
    {
     "name": "stdout",
     "output_type": "stream",
     "text": [
      "x2 = 10.72\n",
      "p-value = 0.029897762844229625\n"
     ]
    }
   ],
   "source": [
    "observed = np.array([40, 24, 14, 9, 13])\n",
    "expected = np.array([50, 25, 12.5, 6.25, 6.25])\n",
    "\n",
    "x2 = np.sum((observed-expected)**2/expected)\n",
    "print('x2 = ' + str(x2))\n",
    "\n",
    "p_value = 1 - scipy.stats.chi2.cdf(x2, 4)\n",
    "print('p-value = ' + str(p_value))"
   ]
  },
  {
   "cell_type": "markdown",
   "metadata": {},
   "source": [
    "The p-value is lower than 0.05, so we reject the null hypothesis. We conclude that the coin is a loaded coin. In fact, the observed values in this example were simulated using a geometric distribution with p=0.4 (the probability of obtaining heads in each coin toss is 0.4)"
   ]
  },
  {
   "cell_type": "markdown",
   "metadata": {},
   "source": [
    "#### Testing independence\n",
    "\n",
    "We can apply a chi-squared hypothesis test on a two-way table to test the independence of two categorical variables. For this example our hypothesis is that the probability of being vegetarian is independent of having a pet at home. We asked to a sample of 407 people and summarised their answers below, split between people having at least one dog, people having at least one cat, people having at least one dog and one cat, and people not having pets. \n",
    "\n",
    "\n",
    "|                | dogs | cats | dogs and cats | no pets | total |\n",
    "|----------------|-----:|-----:|--------------:|--------:|------:|\n",
    "| Vegetarian     | 23   |  30  |     13        |    20   |  91   |\n",
    "| Non-vegetarian | 95   |  83  |     42        |   101   |  316  |   \n",
    "| Total          | 118  |  113 |     55        |   121   |  407  |\n",
    "\n",
    "We can visualise this contingence table by means of a mosaic plot, in which each cell is represented as a box. The area of each box represents the count for that cell. The width of all boxes in the same column is the same, and the height of a cell is proportional to the relative count of that cell with respect to the total count in the cell's column."
   ]
  },
  {
   "cell_type": "code",
   "execution_count": 6,
   "metadata": {},
   "outputs": [],
   "source": [
    "observed = np.array([\n",
    "    [23, 30, 13, 20],\n",
    "    [95, 83, 42, 101]\n",
    "])"
   ]
  },
  {
   "cell_type": "code",
   "execution_count": 7,
   "metadata": {},
   "outputs": [
    {
     "data": {
      "image/png": "[encoded data removed]",
      "text/plain": [
       "<matplotlib.figure.Figure at 0x1a0b493780>"
      ]
     },
     "metadata": {},
     "output_type": "display_data"
    }
   ],
   "source": [
    "columns_list = ['dogs', 'cats', 'dogs and cats', 'no pets']\n",
    "observed_df = pd.DataFrame(observed, \n",
    "                           index = ['Vegetarian', 'Non-vegetarian'],\n",
    "                           columns = columns_list)\n",
    "# Reordering the columns\n",
    "observed_df = observed_df[['cats', 'dogs and cats', 'dogs', 'no pets']] \\\n",
    "                .unstack() \n",
    "# Mosaic plot\n",
    "m = mosaic(observed_df,  gap=0.02)"
   ]
  },
  {
   "cell_type": "markdown",
   "metadata": {},
   "source": [
    "There are some differences between the proportion of vegetarians and non-vegetarians in each group of pet-owners. Are these differences due to randomness?\n",
    "\n",
    "```\n",
    "H0: the two variables are independent\n",
    "HA: the two variables are not independent\n",
    "```"
   ]
  },
  {
   "cell_type": "markdown",
   "metadata": {},
   "source": [
    "The first step is to calculate the expected counts for each cell of the table. Computing the expected counts is based on using the row and column totals:"
   ]
  },
  {
   "cell_type": "code",
   "execution_count": 8,
   "metadata": {},
   "outputs": [],
   "source": [
    "total_row = np.sum(observed, axis=1)\n",
    "total_col = np.sum(observed, axis=0)\n",
    "total = np.sum(observed)"
   ]
  },
  {
   "cell_type": "code",
   "execution_count": 9,
   "metadata": {},
   "outputs": [
    {
     "name": "stdout",
     "output_type": "stream",
     "text": [
      "[[24.93366093 23.87714988 11.62162162 25.56756757]\n",
      " [93.06633907 89.12285012 43.37837838 95.43243243]]\n"
     ]
    }
   ],
   "source": [
    "# Computing the expected frequencies, and printing them on the screen so we can compare\n",
    "# to the observed frequencies above\n",
    "tr = np.tile(total_row.reshape((2,1)), 4)\n",
    "tc = np.tile(total_col, (2,1))\n",
    "expected = np.multiply(tr, tc)/total\n",
    "print(expected)"
   ]
  },
  {
   "cell_type": "code",
   "execution_count": 10,
   "metadata": {},
   "outputs": [
    {
     "name": "stdout",
     "output_type": "stream",
     "text": [
      "x2 = 3.9253571113011416\n"
     ]
    }
   ],
   "source": [
    "x2 = np.sum((observed-expected)**2/expected)\n",
    "print('x2 = ' + str(x2))"
   ]
  },
  {
   "cell_type": "markdown",
   "metadata": {},
   "source": [
    "The degrees of freedom on a two-way table chi-squared test are equal to the number of rows minus one times the number of columns minus one. In our case that would be (2-1)\\*(4-1) = 3"
   ]
  },
  {
   "cell_type": "code",
   "execution_count": 11,
   "metadata": {},
   "outputs": [
    {
     "name": "stdout",
     "output_type": "stream",
     "text": [
      "p-value = 0.2696378374024535\n"
     ]
    }
   ],
   "source": [
    "p_value = 1 - scipy.stats.chi2.cdf(x2, 3)\n",
    "print('p-value = ' + str(p_value))"
   ]
  },
  {
   "cell_type": "markdown",
   "metadata": {},
   "source": [
    "The p-value is higher than 0.5, so we fail to reject the null hypothesis. We cannot confirm whether being vegegarian or not depends on having pets at home. "
   ]
  },
  {
   "cell_type": "code",
   "execution_count": null,
   "metadata": {},
   "outputs": [],
   "source": []
  }
 ],
 "metadata": {
  "kernelspec": {
   "display_name": "Python 3",
   "language": "python",
   "name": "python3"
  },
  "language_info": {
   "codemirror_mode": {
    "name": "ipython",
    "version": 3
   },
   "file_extension": ".py",
   "mimetype": "text/x-python",
   "name": "python",
   "nbconvert_exporter": "python",
   "pygments_lexer": "ipython3",
   "version": "3.6.4"
  }
 },
 "nbformat": 4,
 "nbformat_minor": 2
}
