{
 "cells": [
  {
   "cell_type": "code",
   "execution_count": null,
   "metadata": {
    "collapsed": true
   },
   "outputs": [],
   "source": [
    "%matplotlib inline\n",
    "import numpy as np\n",
    "import math\n",
    "import matplotlib.pyplot as plt\n",
    "import scipy.stats"
   ]
  },
  {
   "cell_type": "markdown",
   "metadata": {},
   "source": [
    "### ANOVA test\n",
    "\n",
    "In this notebook, I will summarise the process required to perform an Analysis of Variance test (ANOVA test), including the steps required to make sure that the data fits the requirements for an ANOVA test. The aim of ANOVA is to test whether the mean of a set of populations is similar. In order to do that, a sample is extracted from each population, an we perform a test with the following definition:\n",
    "\n",
    "- Null hypothesis: the mean of all the populations is the same\n",
    "- Alternative hypothesis: at least one of the populations has a different mean\n",
    "\n",
    "The reason why we perform ANOVA instead of multiple two-sample t-tests is because such a process would be prone to induce Type I errors: due to the randomness of the data it is likely of find a difference between two populations even if such difference does not exist. "
   ]
  },
  {
   "cell_type": "markdown",
   "metadata": {},
   "source": [
    "Let's start this example by generating four samples corresponding to four different populations represented by four different normal distributions."
   ]
  },
  {
   "cell_type": "code",
   "execution_count": null,
   "metadata": {
    "collapsed": true
   },
   "outputs": [],
   "source": [
    "MEAN = [\n",
    "    1.2, \n",
    "    1.1,\n",
    "    1.6,\n",
    "    1.13\n",
    "]\n",
    "\n",
    "STD = [\n",
    "    0.6,\n",
    "    0.8,\n",
    "    0.7,\n",
    "    0.66\n",
    "]\n",
    "\n",
    "N = [\n",
    "    56,\n",
    "    60,\n",
    "    63,\n",
    "    65\n",
    "]"
   ]
  },
  {
   "cell_type": "code",
   "execution_count": null,
   "metadata": {
    "collapsed": true
   },
   "outputs": [],
   "source": [
    "samples = [np.random.normal(loc=MEAN[i], scale=STD[i], size=N[i]) for i in range(4)]"
   ]
  },
  {
   "cell_type": "markdown",
   "metadata": {},
   "source": [
    "### Can we apply an ANOVA test?\n",
    "\n",
    "In this first section we check the conditions for applying an ANOVA test on the data. \n",
    "\n",
    "**Independence**\n",
    "\n",
    "Let's assume that the sample data corresponds to less than 10% of the total population and that each sample was observed independently of the other ones."
   ]
  },
  {
   "cell_type": "markdown",
   "metadata": {},
   "source": [
    "**Normally distributed data**\n",
    "\n"
   ]
  },
  {
   "cell_type": "code",
   "execution_count": null,
   "metadata": {
    "collapsed": true
   },
   "outputs": [],
   "source": []
  },
  {
   "cell_type": "markdown",
   "metadata": {},
   "source": [
    "**Similar variances**"
   ]
  },
  {
   "cell_type": "code",
   "execution_count": null,
   "metadata": {
    "collapsed": true
   },
   "outputs": [],
   "source": []
  }
 ],
 "metadata": {
  "kernelspec": {
   "display_name": "Python 3",
   "language": "python",
   "name": "python3"
  },
  "language_info": {
   "codemirror_mode": {
    "name": "ipython",
    "version": 3
   },
   "file_extension": ".py",
   "mimetype": "text/x-python",
   "name": "python",
   "nbconvert_exporter": "python",
   "pygments_lexer": "ipython3",
   "version": "3.6.1"
  }
 },
 "nbformat": 4,
 "nbformat_minor": 2
}
