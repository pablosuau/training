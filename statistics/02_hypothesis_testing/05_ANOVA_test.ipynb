{
 "cells": [
  {
   "cell_type": "code",
   "execution_count": null,
   "metadata": {
    "collapsed": true
   },
   "outputs": [],
   "source": [
    "%matplotlib inline\n",
    "import numpy as np\n",
    "import pandas as pd\n",
    "import math\n",
    "import matplotlib.pyplot as plt\n",
    "import scipy.stats"
   ]
  },
  {
   "cell_type": "markdown",
   "metadata": {},
   "source": [
    "### ANOVA test\n",
    "\n",
    "In this notebook, I will summarise the process required to perform an Analysis of Variance test (ANOVA test), including the steps required to make sure that the data fits the requirements for an ANOVA test. The aim of ANOVA is to test whether the mean of a set of populations is similar. In order to do that, a sample is extracted from each population, an we perform a test with the following definition:\n",
    "\n",
    "- Null hypothesis: the mean of all the populations is the same\n",
    "- Alternative hypothesis: at least one of the populations has a different mean\n",
    "\n",
    "The reason why we perform ANOVA instead of multiple two-sample t-tests is because such a process would be prone to induce Type I errors: due to the randomness of the data it is likely of find a difference between two populations even if such difference does not exist. "
   ]
  },
  {
   "cell_type": "markdown",
   "metadata": {},
   "source": [
    "Let's start this example by generating four samples corresponding to four different populations represented by four different normal distributions."
   ]
  },
  {
   "cell_type": "code",
   "execution_count": null,
   "metadata": {
    "collapsed": true
   },
   "outputs": [],
   "source": [
    "np.random.seed(0)"
   ]
  },
  {
   "cell_type": "code",
   "execution_count": null,
   "metadata": {
    "collapsed": true
   },
   "outputs": [],
   "source": [
    "MEAN = [\n",
    "    1.2, \n",
    "    1.1,\n",
    "    1.5,\n",
    "    1.13\n",
    "]\n",
    "\n",
    "STD = [\n",
    "    0.6,\n",
    "    0.68,\n",
    "    0.65,\n",
    "    0.66\n",
    "]\n",
    "\n",
    "N = [\n",
    "    61,\n",
    "    60,\n",
    "    63,\n",
    "    65\n",
    "]"
   ]
  },
  {
   "cell_type": "code",
   "execution_count": null,
   "metadata": {
    "collapsed": true
   },
   "outputs": [],
   "source": [
    "samples = [np.random.normal(loc=MEAN[i], scale=STD[i], size=N[i]) for i in range(4)]"
   ]
  },
  {
   "cell_type": "markdown",
   "metadata": {},
   "source": [
    "### Can we apply an ANOVA test?\n",
    "\n",
    "In this first section we check the conditions for applying an ANOVA test on the data. \n",
    "\n",
    "**Independence**\n",
    "\n",
    "Let's assume that the sample data corresponds to less than 10% of the total population and that each sample was observed independently of the other ones."
   ]
  },
  {
   "cell_type": "markdown",
   "metadata": {},
   "source": [
    "**Normally distributed data**\n",
    "\n",
    "Let's test normality for each sample by means of Q-Q plots"
   ]
  },
  {
   "cell_type": "code",
   "execution_count": null,
   "metadata": {},
   "outputs": [],
   "source": [
    "def plot_q_q(sample):\n",
    "    # Theoretical quantiles\n",
    "    quantiles = np.arange(0.01,0.99,0.01)\n",
    "    q_theoretical = [scipy.stats.norm.ppf(i, loc=np.mean(sample), scale=np.std(sample)) for i in quantiles]\n",
    "    # Sample quantiles\n",
    "    q_sample = [np.percentile(sample, i*100) for i in quantiles]\n",
    "    # Plotting the quantiles\n",
    "    fig, ax = plt.subplots(1,2)\n",
    "    ax[0].scatter(q_sample, q_theoretical, color='blue')\n",
    "    # Plotting the diagonal line\n",
    "    min_value = min(np.min(q_theoretical), np.min(q_sample))\n",
    "    max_value = max(np.max(q_theoretical), np.max(q_sample))\n",
    "    ax[0].plot([min_value, max_value], [min_value, max_value], 'k--')\n",
    "\n",
    "    ax[0].set_xlabel('sample')\n",
    "    ax[0].set_ylabel('theoretical')\n",
    "    \n",
    "    # histogram\n",
    "    ax[1].hist(sample, bins=20)\n",
    "    \n",
    "    fig.set_figwidth(16)\n",
    "    \n",
    "for s in samples:\n",
    "    plot_q_q(s)"
   ]
  },
  {
   "cell_type": "markdown",
   "metadata": {},
   "source": [
    "The second and the third samples seem to be skewed, but there are no clear outliers and the samples seem to be large enough to proceed with the analysis. "
   ]
  },
  {
   "cell_type": "markdown",
   "metadata": {},
   "source": [
    "**Similar variances**\n",
    "\n",
    "Let's use side-by-side box plots to determine whether the variance of the groups is similar to the point of being almost the same. "
   ]
  },
  {
   "cell_type": "code",
   "execution_count": null,
   "metadata": {},
   "outputs": [],
   "source": [
    "df = pd.DataFrame(samples).transpose()\n",
    "df.boxplot()"
   ]
  },
  {
   "cell_type": "markdown",
   "metadata": {},
   "source": [
    "There seems to be some differences, but we can accept this difference is the number of observations accross samples is consistent. All the samples contain a very similar number of observations. "
   ]
  },
  {
   "cell_type": "markdown",
   "metadata": {},
   "source": [
    "### ANOVA test\n",
    "\n",
    "Manually computing the F-statistic and the p-value in the ANOVA test is tedious and prone to error, and therefore we use the built-in ANOVA functionalities in Python libraries rather than implmenting this code from scratch. "
   ]
  },
  {
   "cell_type": "code",
   "execution_count": null,
   "metadata": {},
   "outputs": [],
   "source": [
    "scipy.stats.f_oneway(samples[0], samples[1], samples[2], samples[3])"
   ]
  },
  {
   "cell_type": "markdown",
   "metadata": {},
   "source": [
    "The first value corresponds to the F-statistic, calculated as the ration between the difference between group means and data variability. The second value is the p-value. \n",
    "\n",
    "\n",
    "Since the p-value is lower than the significance level of 0.05 we reject the null hypothesis. Not all the means are the same. "
   ]
  },
  {
   "cell_type": "markdown",
   "metadata": {},
   "source": [
    "### Multiple comparisons\n",
    "\n",
    "Once we reject the null hypothesis in the ANOVA test we can perform a two-sample t-test for each pair of groups with a modified significance level and a pooled standard deviation. The pool standard deviation, as well as the value of df, is usually obtained by means of software, whereas the modified significance level is calculated by means of the Bonferroni correction. "
   ]
  },
  {
   "cell_type": "code",
   "execution_count": null,
   "metadata": {
    "collapsed": true
   },
   "outputs": [],
   "source": []
  }
 ],
 "metadata": {
  "kernelspec": {
   "display_name": "Python 3",
   "language": "python",
   "name": "python3"
  },
  "language_info": {
   "codemirror_mode": {
    "name": "ipython",
    "version": 3
   },
   "file_extension": ".py",
   "mimetype": "text/x-python",
   "name": "python",
   "nbconvert_exporter": "python",
   "pygments_lexer": "ipython3",
   "version": "3.6.1"
  }
 },
 "nbformat": 4,
 "nbformat_minor": 2
}
