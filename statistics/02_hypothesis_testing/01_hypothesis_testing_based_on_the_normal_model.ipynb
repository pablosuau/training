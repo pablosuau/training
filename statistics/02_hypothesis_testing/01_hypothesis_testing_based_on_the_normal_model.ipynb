{
 "cells": [
  {
   "cell_type": "code",
   "execution_count": null,
   "metadata": {
    "collapsed": true
   },
   "outputs": [],
   "source": [
    "%matplotlib inline\n",
    "import numpy as np\n",
    "import math\n",
    "import matplotlib.pyplot as plt"
   ]
  },
  {
   "cell_type": "markdown",
   "metadata": {},
   "source": [
    "### Sampling distribution\n",
    "\n",
    "The sampling distribution represents the distribution of a point estimate based on multiple samples of the same size taken from the same population.\n",
    "\n",
    "The sampling distribution of the sample mean, for a sufficiently large number of samples, is normal: centered around the population mean and with standard deviation equal to the standard error of the sample mean.\n",
    "\n",
    "In this example we represent three sampling distributions from three different populations (normal, exponential and uniform) as we increase the size of the sample distribution. We will then compare the theoretical standard error to the obtained standard deviation. The latter should be closer to the former as we increase the number of samples which we take from the population."
   ]
  },
  {
   "cell_type": "code",
   "execution_count": null,
   "metadata": {
    "collapsed": true
   },
   "outputs": [],
   "source": [
    "# Generating and plotting the original populations\n",
    "SIZE_POPULATION = 10000\n",
    "\n",
    "normal_population = np.random.normal(loc = 3.21, scale = 2.44, size = SIZE_POPULATION)\n",
    "uniform_population = np.random.uniform(low = -2.35, high = -1.12, size = SIZE_POPULATION)\n",
    "exponential_population = np.random.exponential(scale= 1.23, size = SIZE_POPULATION)"
   ]
  },
  {
   "cell_type": "code",
   "execution_count": null,
   "metadata": {},
   "outputs": [],
   "source": [
    "fig, axarray = plt.subplots(1,3)\n",
    "\n",
    "def plot_distribution(population, ax, label, bins=50):\n",
    "    mean = np.mean(population)\n",
    "    std = np.std(population)\n",
    "    \n",
    "    weights = np.ones_like(population)/float(len(population))\n",
    "    ax.hist(population, bins=bins, weights=weights)\n",
    "    ax.set_xlabel(label + ' (mean = ' + str(mean) + ', \\nstd = ' + str(std) + ')')\n",
    "    \n",
    "    return(mean, std)\n",
    "    \n",
    "(mean_normal, std_normal) = plot_distribution(normal_population, axarray[0], 'normal')\n",
    "(mean_uniform, std_uniform) = plot_distribution(uniform_population, axarray[1], 'uniform')\n",
    "(mean_exponential, std_exponential) = plot_distribution(exponential_population, axarray[2], 'exponential')\n",
    "\n",
    "fig.set_figwidth(16)"
   ]
  },
  {
   "cell_type": "code",
   "execution_count": null,
   "metadata": {
    "scrolled": false
   },
   "outputs": [],
   "source": [
    "N = [100,400,700,1000,1300]\n",
    "SIZE_SAMPLE = 50\n",
    "\n",
    "for n in N:\n",
    "    fig, axarray = plt.subplots(1,3)\n",
    "    \n",
    "    def sampling_distribution(population, ax, n, label):\n",
    "        means = []\n",
    "        for i in range(0,n):\n",
    "            # Generating samples without replacement\n",
    "            sample = np.random.choice(population, size = SIZE_SAMPLE, replace = False)\n",
    "            means.append(np.mean(sample))\n",
    "        plot_distribution(means, ax, label + ' - n = ' + str(n), 20)\n",
    "    \n",
    "    sampling_distribution(normal_population, axarray[0], n, 'normal')\n",
    "    sampling_distribution(uniform_population, axarray[1], n, 'uniform')\n",
    "    sampling_distribution(exponential_population, axarray[2], n, 'exponential')\n",
    "    \n",
    "    def compute_std_error(std):\n",
    "        return std / math.sqrt(SIZE_SAMPLE)\n",
    "    \n",
    "    plt.suptitle('n = ' + str(n) + \n",
    "                 '\\nstandard_error_normal = ' + str(compute_std_error(std_normal)) + \n",
    "                 '\\nstandard_error_uniformal = ' + str(compute_std_error(std_uniform)) + \n",
    "                 '\\nstandard_error_exponential = ' + str(compute_std_error(std_exponential))\n",
    "                )\n",
    "    \n",
    "    fig.set_figwidth(16)\n",
    "    fig.subplots_adjust(top=0.7)"
   ]
  },
  {
   "cell_type": "markdown",
   "metadata": {
    "collapsed": true
   },
   "source": [
    "### Confidence level"
   ]
  },
  {
   "cell_type": "markdown",
   "metadata": {},
   "source": [
    "The confidence level is not a probability, but a measure of how certain we are that the actual value of the population statistic is within the confidence interval of the point estimate. Additionally, if we take a high number of samples from the population, the proportion of confidence intervals computed from those samples which contain the point estimate will be close to the confidence interval. \n",
    "\n",
    "The plot below shows the confidence intervals of the sample mean for a given number of samples taken from the same population. The vertical red line represents the point estimate which was calculated from the first sample. "
   ]
  },
  {
   "cell_type": "code",
   "execution_count": null,
   "metadata": {},
   "outputs": [],
   "source": [
    "import scipy.stats as st\n",
    "\n",
    "NUMBER_CIs = 100\n",
    "CONFIDENCE_LEVEL = 0.95\n",
    "SIZE_SAMPLE = 1000\n",
    "SIZE_POPULATION = 10000\n",
    "\n",
    "z = st.norm.ppf(CONFIDENCE_LEVEL)\n",
    "\n",
    "normal_population = np.random.normal(loc = 1.23, scale = 4.56, size = SIZE_POPULATION)\n",
    "\n",
    "standard_error = np.std(normal_population)/math.sqrt(SIZE_SAMPLE)\n",
    "mean_population = np.mean(normal_population)\n",
    "\n",
    "cis = []\n",
    "in_ci = 0\n",
    "for i in range(0,NUMBER_CIs):\n",
    "    sample = np.random.choice(normal_population, size = SIZE_SAMPLE, replace = False)\n",
    "    mean = np.mean(sample)\n",
    "    cis.append([mean - z*standard_error, mean, mean + z*standard_error])\n",
    "    \n",
    "    if mean_population > cis[-1][0] and mean_population < cis[-1][2]:\n",
    "        in_ci = in_ci + 1\n",
    "    \n",
    "fig, ax = plt.subplots()\n",
    "for i in range(0,NUMBER_CIs):\n",
    "    ax.plot([cis[i][0], cis[i][2]], [i,i], color='#9999FFFF')\n",
    "ax.plot([cis[0][1],cis[0][1]],[0,100],color='red')  \n",
    "\n",
    "print('Proportion of confidence intervals containing the population mean: ' + \n",
    "       str(in_ci/float(NUMBER_CIs)))"
   ]
  },
  {
   "cell_type": "code",
   "execution_count": null,
   "metadata": {
    "collapsed": true
   },
   "outputs": [],
   "source": []
  }
 ],
 "metadata": {
  "kernelspec": {
   "display_name": "Python 2",
   "language": "python",
   "name": "python2"
  },
  "language_info": {
   "codemirror_mode": {
    "name": "ipython",
    "version": 2
   },
   "file_extension": ".py",
   "mimetype": "text/x-python",
   "name": "python",
   "nbconvert_exporter": "python",
   "pygments_lexer": "ipython2",
   "version": "2.7.13"
  }
 },
 "nbformat": 4,
 "nbformat_minor": 2
}
