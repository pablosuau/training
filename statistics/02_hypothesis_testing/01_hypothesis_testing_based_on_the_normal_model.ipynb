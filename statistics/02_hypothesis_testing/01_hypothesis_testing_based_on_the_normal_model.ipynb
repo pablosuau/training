{
 "cells": [
  {
   "cell_type": "code",
   "execution_count": null,
   "metadata": {
    "collapsed": true
   },
   "outputs": [],
   "source": [
    "%matplotlib inline\n",
    "import numpy as np\n",
    "import math\n",
    "import matplotlib.pyplot as plt"
   ]
  },
  {
   "cell_type": "markdown",
   "metadata": {},
   "source": [
    "### Sampling distribution\n",
    "\n",
    "The sampling distribution represents the distribution of a point estimate based on multiple samples of the same size taken from the same population.\n",
    "\n",
    "The sampling distribution of the sample mean, for a sufficiently large number of samples, is normal: centered around the population mean and with standard deviation equal to the standard error of the sample mean.\n",
    "\n",
    "In this example we represent three sampling distributions from three different populations (normal, exponential and uniform) as we increase the size of the sample distribution. We will then compare the theoretical standard error to the obtained standard deviation."
   ]
  },
  {
   "cell_type": "code",
   "execution_count": null,
   "metadata": {
    "collapsed": true
   },
   "outputs": [],
   "source": [
    "# Generating and plotting the original populations\n",
    "SIZE_POPULATION = 10000\n",
    "\n",
    "normal_population = np.random.normal(loc = 3.21, scale = 2.44, size = SIZE_POPULATION)\n",
    "uniform_population = np.random.uniform(low = -2.35, high = -1.12, size = SIZE_POPULATION)\n",
    "exponential_population = np.random.exponential(scale= 1.23, size = SIZE_POPULATION)"
   ]
  },
  {
   "cell_type": "code",
   "execution_count": null,
   "metadata": {},
   "outputs": [],
   "source": [
    "fig, axarray = plt.subplots(1,3)\n",
    "\n",
    "def plot_distribution(population, ax, label, bins=50):\n",
    "    mean = np.mean(population)\n",
    "    std = np.std(population)\n",
    "    \n",
    "    weights = np.ones_like(population)/float(len(population))\n",
    "    ax.hist(population, bins=bins, weights=weights)\n",
    "    ax.set_xlabel(label + ' (mean = ' + str(mean) + ', \\nstd = ' + str(std) + ')')\n",
    "    \n",
    "    return(mean, std)\n",
    "    \n",
    "(mean_normal, std_normal) = plot_distribution(normal_population, axarray[0], 'normal')\n",
    "(mean_uniform, std_uniform) = plot_distribution(uniform_population, axarray[1], 'uniform')\n",
    "(mean_exponential, std_exponential) = plot_distribution(exponential_population, axarray[2], 'exponential')\n",
    "\n",
    "fig.set_figwidth(16)"
   ]
  },
  {
   "cell_type": "code",
   "execution_count": null,
   "metadata": {},
   "outputs": [],
   "source": [
    "N = [100,600,1100,1600]\n",
    "SIZE_SAMPLE = 50\n",
    "\n",
    "for n in N:\n",
    "    fig, axarray = plt.subplots(1,3)\n",
    "    \n",
    "    def sampling_distribution(population, ax, n, label):\n",
    "        means = []\n",
    "        for i in range(0,n):\n",
    "            # Generating samples without replacement\n",
    "            sample = np.random.choice(population, size = SIZE_SAMPLE, replace = False)\n",
    "            means.append(np.mean(sample))\n",
    "        plot_distribution(means, ax, label + ' - n = ' + str(n), 20)\n",
    "    \n",
    "    sampling_distribution(normal_population, axarray[0], n, 'normal')\n",
    "    sampling_distribution(uniform_population, axarray[1], n, 'uniform')\n",
    "    sampling_distribution(exponential_population, axarray[2], n, 'exponential')\n",
    "    \n",
    "    def compute_std_error(std, n):\n",
    "        return std / math.sqrt(n)\n",
    "    \n",
    "    plt.suptitle('n = ' + str(n) + \n",
    "                 '\\nstandard_error_normal = ' + str(compute_std_error(std_normal, n)) + \n",
    "                 '\\nstandard_error_uniformal = ' + str(compute_std_error(std_uniform, n)) + \n",
    "                 '\\nstandard_error_exponential = ' + str(compute_std_error(std_exponential, n))\n",
    "                )\n",
    "    \n",
    "    fig.set_figwidth(16)"
   ]
  },
  {
   "cell_type": "code",
   "execution_count": null,
   "metadata": {
    "collapsed": true
   },
   "outputs": [],
   "source": []
  }
 ],
 "metadata": {
  "kernelspec": {
   "display_name": "Python 2",
   "language": "python",
   "name": "python2"
  },
  "language_info": {
   "codemirror_mode": {
    "name": "ipython",
    "version": 2
   },
   "file_extension": ".py",
   "mimetype": "text/x-python",
   "name": "python",
   "nbconvert_exporter": "python",
   "pygments_lexer": "ipython2",
   "version": "2.7.13"
  }
 },
 "nbformat": 4,
 "nbformat_minor": 2
}
