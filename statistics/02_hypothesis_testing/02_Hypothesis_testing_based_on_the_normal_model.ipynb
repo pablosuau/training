{
 "cells": [
  {
   "cell_type": "code",
   "execution_count": null,
   "metadata": {
    "collapsed": true
   },
   "outputs": [],
   "source": [
    "%matplotlib notebook\n",
    "import numpy as np\n",
    "import math\n",
    "import matplotlib.pyplot as plt\n",
    "from ipywidgets import widgets\n",
    "from IPython.display import display"
   ]
  },
  {
   "cell_type": "markdown",
   "metadata": {},
   "source": [
    "### Hypothesis testing \n",
    "\n",
    "The following widgets let you select the parameters of an either one-sided or two-sided hypothesis test for the population mean. The null hypothesis is that the value of the mean is a given value. The alternate hypothesis is that the population mean is different of that value (one-sided test) or higher/lower (two-sided test).\n",
    "\n",
    "The sampling distribution of the sample mean is close to normal, centered around the population mean, and with a standard deviation equal to the standard error of the mean. The null hypothesis is evaluated by using the Z-score of the sample mean based on that normal distribution to compute the probability of we get that sample mean by sampling from the population. This is the p-value. We reject the null hypothesis if the p-value is lower than the significance level."
   ]
  },
  {
   "cell_type": "code",
   "execution_count": null,
   "metadata": {},
   "outputs": [],
   "source": [
    "items_layout = widgets.Layout(flex='1 1 auto',\n",
    "                      width='auto')\n",
    "\n",
    "pm = widgets.FloatText(\n",
    "        value=0,\n",
    "        description='Population mean',\n",
    "        layout = items_layout\n",
    "    )\n",
    "sm = widgets.FloatText(\n",
    "        value=1,\n",
    "        description='Sample mean',\n",
    "        layout = items_layout\n",
    "    )\n",
    "ssd = widgets.FloatText(\n",
    "        value=1,\n",
    "        description='Sample standard deviation',\n",
    "        layout = items_layout\n",
    "    )\n",
    "ss = widgets.FloatText(\n",
    "        value=100,\n",
    "        min=10,\n",
    "        description='Size of the sample',\n",
    "        layout = items_layout\n",
    "    )\n",
    "\n",
    "items = [\n",
    "    widgets.Label('Population'),\n",
    "    pm,\n",
    "    widgets.Label('Sample'),\n",
    "    sm,\n",
    "    ssd,\n",
    "    ss,\n",
    "    widgets.Label('Hypothesis test'),\n",
    "    \n",
    "]\n",
    "\n",
    "box_layout = widgets.Layout(display='flex',\n",
    "                    flex_flow='column',\n",
    "                    align_items='stretch',\n",
    "                    border='solid',\n",
    "                    width='50%')\n",
    "\n",
    "box = widgets.Box(children=items, layout=box_layout)\n",
    "\n",
    "display(box)"
   ]
  },
  {
   "cell_type": "code",
   "execution_count": null,
   "metadata": {
    "collapsed": true
   },
   "outputs": [],
   "source": []
  }
 ],
 "metadata": {
  "kernelspec": {
   "display_name": "Python 2",
   "language": "python",
   "name": "python2"
  },
  "language_info": {
   "codemirror_mode": {
    "name": "ipython",
    "version": 2
   },
   "file_extension": ".py",
   "mimetype": "text/x-python",
   "name": "python",
   "nbconvert_exporter": "python",
   "pygments_lexer": "ipython2",
   "version": "2.7.13"
  }
 },
 "nbformat": 4,
 "nbformat_minor": 2
}
