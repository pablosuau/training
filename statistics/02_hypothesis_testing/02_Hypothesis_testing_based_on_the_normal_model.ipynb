{
 "cells": [
  {
   "cell_type": "code",
   "execution_count": null,
   "metadata": {
    "collapsed": true
   },
   "outputs": [],
   "source": [
    "%matplotlib notebook\n",
    "import numpy as np\n",
    "import math\n",
    "import matplotlib.pyplot as plt\n",
    "from ipywidgets import widgets\n",
    "from IPython.display import display"
   ]
  },
  {
   "cell_type": "markdown",
   "metadata": {},
   "source": [
    "### Hypothesis testing \n",
    "\n",
    "The following widgets let you select the parameters of an either one-sided or two-sided hypothesis test for the population mean. The null hypothesis is that the value of the mean is a given value. The alternate hypothesis is that the population mean is different of that value (one-sided test) or higher/lower (two-sided test).\n",
    "\n",
    "The sampling distribution of the sample mean is close to normal, centered around the population mean, and with a standard deviation equal to the standard error of the mean. The null hypothesis is evaluated by using the Z-score of the sample mean based on that normal distribution to compute the probability of we get that sample mean by sampling from the population. This is the p-value. We reject the null hypothesis if the p-value is lower than the significance level."
   ]
  },
  {
   "cell_type": "code",
   "execution_count": null,
   "metadata": {},
   "outputs": [],
   "source": [
    "def my_label(text):\n",
    "    return widgets.Label(text, layout=widgets.Layout(width='20%'))  \n",
    "\n",
    "\n",
    "pm = widgets.FloatText(\n",
    "        value=0,\n",
    "        #description='Population mean',\n",
    "    )\n",
    "sm = widgets.FloatText(\n",
    "        value=1,\n",
    "        #description='Sample mean',\n",
    "    )\n",
    "ssd = widgets.FloatText(\n",
    "        value=1,\n",
    "        #description='Sample standard deviation',\n",
    "    )\n",
    "ss = widgets.FloatText(\n",
    "        value=100,\n",
    "        min=10,\n",
    "        #description='Size of the sample'\n",
    "    )\n",
    "p = widgets.FloatText(\n",
    "        value=0.05,\n",
    "        min=0.01,\n",
    "        max=0.99\n",
    "        #description='p-value'\n",
    "    )\n",
    "osts = widgets.RadioButtons(\n",
    "        options=['One-sided', 'Two-sided']\n",
    "    )\n",
    "\n",
    "box = widgets.VBox([\n",
    "    my_label('Population'),\n",
    "    widgets.HBox([my_label('Mean'), pm]),\n",
    "    my_label('Sample'),\n",
    "    widgets.HBox([my_label('Mean'), sm]),\n",
    "    widgets.HBox([my_label('Standard deviation'), ssd]),\n",
    "    widgets.HBox([my_label('Size'), ss]),\n",
    "    my_label('Hypothesis test'), \n",
    "    widgets.HBox([my_label('p-value'), p]),\n",
    "    osts\n",
    "])\n",
    "\n",
    "display(box)"
   ]
  },
  {
   "cell_type": "code",
   "execution_count": null,
   "metadata": {
    "collapsed": true
   },
   "outputs": [],
   "source": []
  }
 ],
 "metadata": {
  "kernelspec": {
   "display_name": "Python 2",
   "language": "python",
   "name": "python2"
  },
  "language_info": {
   "codemirror_mode": {
    "name": "ipython",
    "version": 2
   },
   "file_extension": ".py",
   "mimetype": "text/x-python",
   "name": "python",
   "nbconvert_exporter": "python",
   "pygments_lexer": "ipython2",
   "version": "2.7.13"
  }
 },
 "nbformat": 4,
 "nbformat_minor": 2
}
