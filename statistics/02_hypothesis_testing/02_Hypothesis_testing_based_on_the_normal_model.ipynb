{
 "cells": [
  {
   "cell_type": "code",
   "execution_count": null,
   "metadata": {
    "collapsed": true
   },
   "outputs": [],
   "source": [
    "%matplotlib notebook\n",
    "import numpy as np\n",
    "import math\n",
    "import matplotlib.pyplot as plt\n",
    "from ipywidgets import widgets\n",
    "from IPython.display import display"
   ]
  },
  {
   "cell_type": "markdown",
   "metadata": {},
   "source": [
    "### Hypothesis testing \n",
    "\n",
    "The following widgets let you select the parameters of an either one-sided or two-sided hypothesis test for the population mean. The null hypothesis is that the value of the mean is a given value. The alternate hypothesis is that the population mean is different of that value (one-sided test) or higher/lower (two-sided test).\n",
    "\n",
    "The sampling distribution of the sample mean is close to normal, centered around the population mean, and with a standard deviation equal to the standard error of the mean. The null hypothesis is evaluated by using the Z-score of the sample mean based on that normal distribution to compute the probability of we get that sample mean by sampling from the population. This is the p-value. We reject the null hypothesis if the p-value is lower than the significance level."
   ]
  },
  {
   "cell_type": "code",
   "execution_count": null,
   "metadata": {
    "scrolled": false
   },
   "outputs": [],
   "source": [
    "fig, ax = plt.subplots()\n",
    "ax.grid(True)\n",
    "plt.ion()\n",
    "\n",
    "POINTS = 1000\n",
    "\n",
    "def my_label(text):\n",
    "    return widgets.Label(text, layout=widgets.Layout(width='20%'))  \n",
    "\n",
    "pm = widgets.FloatText(value=0)\n",
    "sm = widgets.FloatText(value=0.1)\n",
    "ssd = widgets.FloatText(value=1)\n",
    "ss = widgets.FloatText(value=100, min=10)\n",
    "sl = widgets.FloatText(value=0.05, min=0.01, max=0.99)\n",
    "osts = widgets.RadioButtons(options=['One-sided', 'Two-sided'])\n",
    "\n",
    "box = widgets.VBox([\n",
    "    my_label('Population'),\n",
    "    widgets.HBox([my_label('Mean (null hypothesis)'), pm]),\n",
    "    my_label('Sample'),\n",
    "    widgets.HBox([my_label('Mean'), sm]),\n",
    "    widgets.HBox([my_label('Standard deviation'), ssd]),\n",
    "    widgets.HBox([my_label('Size'), ss]),\n",
    "    my_label('Hypothesis test'), \n",
    "    widgets.HBox([my_label('Significance level'), sl]),\n",
    "    osts\n",
    "])\n",
    "\n",
    "# Plots the normal distribution centered around the population mean and with\n",
    "# standard deviation = standard error. The area of the curve corresponding to\n",
    "# the alternate hypothesis is highlighted\n",
    "def on_change(change):\n",
    "    global fig, ax, lines\n",
    "    \n",
    "    # Auxiliar functions\n",
    "    def compute_pdf(x):\n",
    "        return 1/(math.sqrt(2*math.pi*std**2))*np.exp(-(x-mean)**2/(2*std**2))\n",
    "    \n",
    "    def plot_alternate_hypothesis(start, end):\n",
    "        if start == 0 and end == 0:\n",
    "            x = np.array([0])\n",
    "        else:\n",
    "            x = np.arange(start, end, (end - start)/POINTS)\n",
    "        y = compute_pdf(x)\n",
    "        ax.fill_between(x, 0, y, color='red', alpha=0.3)\n",
    "    \n",
    "    # Deleting previous figure\n",
    "    while len(ax.lines) > 0:\n",
    "        l = ax.lines.pop(0)\n",
    "        del l\n",
    "    if len(ax.collections) > 0:\n",
    "        ax.collections.pop()\n",
    "        \n",
    "    # Plotting - we assume that the population is normally distributed, with mean equal to the\n",
    "    # value of the null hypothesis and standard deviation equal to the standard error \n",
    "    mean = pm.value\n",
    "    std = ssd.value / math.sqrt(ss.value)\n",
    "    x = np.arange(-3*std, 3*std, 6*std/POINTS)\n",
    "    y = compute_pdf(x)\n",
    "    ax.plot(x,y,color='blue')\n",
    "    ax.set_xlim([-3*std, 3*std])\n",
    "    \n",
    "    # Plotting - red vertical line for the alternate hypothesis\n",
    "    if osts.value == 'One-sided':\n",
    "        if sm.value >= pm.value:\n",
    "            plot_alternate_hypothesis(-3*std, sm.value)\n",
    "        else:\n",
    "            plot_alternate_hypothesis(sm.value, 3*std)\n",
    "    else:\n",
    "        if sm.value >= pm.value:\n",
    "            plot_alternate_hypothesis(-sm.value, sm.value)\n",
    "        elif sm.value < pm.value:\n",
    "            plot_alternate_hypothesis(sm.value, -sm.value)\n",
    "        \n",
    "    fig.canvas.draw()\n",
    "    \n",
    "wid = [pm, sm, ssd, ss, sl, osts]\n",
    "[w.observe(on_change) for w in wid]\n",
    "on_change(None)\n",
    "\n",
    "display(box)"
   ]
  },
  {
   "cell_type": "code",
   "execution_count": null,
   "metadata": {
    "collapsed": true
   },
   "outputs": [],
   "source": []
  }
 ],
 "metadata": {
  "kernelspec": {
   "display_name": "Python 2",
   "language": "python",
   "name": "python2"
  },
  "language_info": {
   "codemirror_mode": {
    "name": "ipython",
    "version": 2
   },
   "file_extension": ".py",
   "mimetype": "text/x-python",
   "name": "python",
   "nbconvert_exporter": "python",
   "pygments_lexer": "ipython2",
   "version": "2.7.13"
  }
 },
 "nbformat": 4,
 "nbformat_minor": 2
}
