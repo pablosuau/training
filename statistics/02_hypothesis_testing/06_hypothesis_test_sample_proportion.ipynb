{
 "cells": [
  {
   "cell_type": "code",
   "execution_count": null,
   "metadata": {
    "collapsed": true
   },
   "outputs": [],
   "source": [
    "%matplotlib inline\n",
    "import numpy as np\n",
    "import pandas as pd\n",
    "from math import sqrt\n",
    "import matplotlib.pyplot as plt\n",
    "import scipy.stats"
   ]
  },
  {
   "cell_type": "markdown",
   "metadata": {},
   "source": [
    "### Hypothesis test for the sample proportion\n",
    "\n",
    "In this notebook we demonstrate how to carry out a hypothesis test for the sample proportion. If the conditions to ensure that the sampling distribution of the proportion is almost normal hold we can apply the same techniques we already applied in [this notebook](./02_Hypothesis_testing_based_on_the_normal_model.ipynb) for the population mean. There are, however, some changes in the way the standard error is calculated. \n",
    "\n",
    "The sample proportion can be represented as the average of the set of successes (1) and failures (0) in a sample of independent trials which probality is the population proportion. "
   ]
  },
  {
   "cell_type": "markdown",
   "metadata": {},
   "source": [
    "#### The sampling distribution of the sample proportion\n",
    "\n",
    "If observations are independent and the success-failure condition is met (both n\\*p>10 and n\\*(1-p)>10, where n is the sample size and p is the sample proportion) the sampling distribution of the sample proportion is normally distributed around the value of the population proportion. The standard distribution of the sample proportion, or standard error, is calculated as:\n",
    "\n",
    "SE = sqrt(p\\*(1-p)/n)\n",
    "\n",
    "In this example we are assuming that the population proportion is p=0.7. We simulate the sampling of 10000 samples of size 10000 from that population and plot the sampling distribution. "
   ]
  },
  {
   "cell_type": "code",
   "execution_count": null,
   "metadata": {},
   "outputs": [],
   "source": [
    "P = 0.7\n",
    "NUMBER_SAMPLES = 10000\n",
    "SIZE_SAMPLE = 10000\n",
    "\n",
    "p_sample = []\n",
    "for i in range(NUMBER_SAMPLES):\n",
    "    p_sample.append(np.mean(np.random.binomial(size=SIZE_SAMPLE, n=1, p=P)))\n",
    "\n",
    "fig, ax = plt.subplots()\n",
    "mean = np.mean(p_sample)\n",
    "std = np.std(p_sample)\n",
    "weights = np.ones_like(p_sample)/float(len(p_sample))\n",
    "ax.hist(p_sample, bins=50, weights=weights)\n",
    "ax.set_xlabel('mean = ' + str(mean) + ', \\nstd = ' + str(std))\n",
    "\n",
    "se = sqrt(0.7*(1-0.7)/SIZE_SAMPLE)\n",
    "print('Standard error from population mean value = ' + str(se))"
   ]
  },
  {
   "cell_type": "markdown",
   "metadata": {
    "collapsed": true
   },
   "source": [
    "#### Hypothesis test\n",
    "\n",
    "*A new law is to be proposed, and the government wants to determine whether the majority of the population would be for the implementation of that law. In order to do that, they took a random sample of 100 individuals among the population and asked them whether they would be for the new law. They obteined a 53% support. Does the government have enough evidence to approve the new law?*\n",
    "\n",
    "This is a hypothesis test for the population proportion. The null and alternate hypothesis are:\n",
    "\n",
    "```\n",
    "H0: p0 = 0.5\n",
    "HA: p0 > 0.5\n",
    "```\n",
    "\n",
    "Let's first determine whether the sampling distribution is nearly normal. The observations are independent and the size of the sample is smaller than 10% of the population. With respect of the success-failure condition, that has to be based on p0 for the case of a hypothesis test:"
   ]
  },
  {
   "cell_type": "code",
   "execution_count": null,
   "metadata": {},
   "outputs": [],
   "source": [
    "p0 = 0.5\n",
    "n = 100\n",
    "\n",
    "print('p0 * n = ' + str(p0*n))\n",
    "print('(1-p0) * n = ' + str((1-p0)*n))"
   ]
  },
  {
   "cell_type": "markdown",
   "metadata": {},
   "source": [
    "Both values are higher than 0, so we can conclude that the sampling distribution is nearly normal. The standard error can be calculated now, using p0 since this is a hypothesis test:"
   ]
  },
  {
   "cell_type": "code",
   "execution_count": null,
   "metadata": {},
   "outputs": [],
   "source": [
    "SE = sqrt(p0*(1-p0)/n)\n",
    "print('SE = ' + str(SE))"
   ]
  },
  {
   "cell_type": "markdown",
   "metadata": {},
   "source": [
    "The sample proportion is ps=0.53. In order to obtain a p-value we first calculate the Z-score:"
   ]
  },
  {
   "cell_type": "code",
   "execution_count": null,
   "metadata": {},
   "outputs": [],
   "source": [
    "ps = 0.53\n",
    "Z = (ps-p0)/SE\n",
    "print('Z = ' + str(Z))"
   ]
  },
  {
   "cell_type": "markdown",
   "metadata": {},
   "source": [
    "Since this is a one-side test, we use the upper tail of the normal distribution to obtain the p-value:"
   ]
  },
  {
   "cell_type": "code",
   "execution_count": null,
   "metadata": {},
   "outputs": [],
   "source": [
    "p_value = 1 - scipy.stats.norm.cdf(Z)\n",
    "print('p-value = ' + str(p_value))"
   ]
  },
  {
   "cell_type": "markdown",
   "metadata": {},
   "source": [
    "The p-value is higher than the significance level of 0.05, so we cannot reject the null hypothesis. We do not have enough evidence to support the affirmation that the majority of the population supports the new law."
   ]
  },
  {
   "cell_type": "markdown",
   "metadata": {},
   "source": [
    "#### Choose the sample size\n",
    "\n",
    "What large should be the sample size to make sure that we have enough evidence of a significant majority if that majority actually exists? \n",
    "\n",
    "We can use the margin of error of the confidence interval to determine the size of the sample. Given the sample in the previous sample, the confidence interval is given by:"
   ]
  },
  {
   "cell_type": "code",
   "execution_count": null,
   "metadata": {},
   "outputs": [],
   "source": [
    "lower = ps - 1.96*SE # 1.96 corresponds to the confidence level for a 95% confidence interval\n",
    "higher = ps + 1.96*SE\n",
    "\n",
    "print([lower, higher])"
   ]
  },
  {
   "cell_type": "markdown",
   "metadata": {},
   "source": [
    "The null hypothesis value (0.5) is within that confidence interval. That's the reson why we couldn't reject the null hypothesis. We need a sample size that ensures that the margin of error (the 1.96\\*SE part of the confience interval) leaves 0.5 out of the confidence interval:"
   ]
  },
  {
   "cell_type": "code",
   "execution_count": null,
   "metadata": {},
   "outputs": [],
   "source": [
    "m = ps - p0\n",
    "print('target margin of error = ' + str(m))"
   ]
  },
  {
   "cell_type": "markdown",
   "metadata": {},
   "source": [
    "Let's use a target margin of error of 0.031:\n",
    "\n",
    "```\n",
    "m = 1.96\\*sqrt(p0\\*(1-p0)/n)\n",
    "n = p0\\*(1-p0)/(m/1.96)\\*\\*2\n",
    "```\n",
    "\n",
    "In that expression we can use p0, or we can use p0=0.5 to take into account the worst case scenario. In our example p0 is already 0.5."
   ]
  },
  {
   "cell_type": "code",
   "execution_count": null,
   "metadata": {},
   "outputs": [],
   "source": [
    "n = p0*(1-p0)/(m/1.96)**2\n",
    "print('sample size = ' + str(n))"
   ]
  },
  {
   "cell_type": "markdown",
   "metadata": {},
   "source": [
    "And let's repeat the hypothesis test, assuming that the sample proportion is still 0.53"
   ]
  },
  {
   "cell_type": "code",
   "execution_count": null,
   "metadata": {},
   "outputs": [],
   "source": [
    "SE = sqrt(p0*(1-p0)/n)\n",
    "print('SE = ' + str(SE))\n",
    "\n",
    "Z = (ps-p0)/SE\n",
    "print('Z = ' + str(Z))\n",
    "\n",
    "p_value = 1 - scipy.stats.norm.cdf(Z)\n",
    "print('p-value = ' + str(p_value))"
   ]
  },
  {
   "cell_type": "markdown",
   "metadata": {},
   "source": [
    "In this case the p-value is lower than 0.05, so we can reject the null hypothesis."
   ]
  },
  {
   "cell_type": "markdown",
   "metadata": {
    "collapsed": true
   },
   "source": [
    "#### Simulation for hypothesis testing of the proportion\n",
    "\n",
    "If the sample is small and the success-failure condition is not hold we can apply a simulation method to perform a hypothesis test of the sample proportion. \n",
    "\n",
    "Let's assume a setting in which a 20% of the population with a given chronic disease will not survive longer than one year. A group of researchers investigated a new treatment and they claim that they can reduce this probability. The test can be specified as:\n",
    "\n",
    "```\n",
    "H0: p0 = 0.2\n",
    "HA: pA < 0.2\n",
    "```\n",
    "\n",
    "The group of researchers based their claims about the efficiency of their treatment in the fact that they tested the treatment with 40 patients and only 5 of them did not survive after one year passed. \n",
    "\n",
    "In this setting is easy to check that the success-failure condition does not hold:"
   ]
  },
  {
   "cell_type": "code",
   "execution_count": null,
   "metadata": {},
   "outputs": [],
   "source": [
    "N = 40\n",
    "P0 = 0.2\n",
    "\n",
    "print(N*P0)\n",
    "print(N*(1-P0))"
   ]
  },
  {
   "cell_type": "code",
   "execution_count": null,
   "metadata": {},
   "outputs": [],
   "source": [
    "SUCCESSES = 5\n",
    "p_sample = SUCCESSES/N\n",
    "print(p_sample)"
   ]
  },
  {
   "cell_type": "markdown",
   "metadata": {},
   "source": [
    "Given a sample of size n and p0, we can simulate a p_sim by producing n random trials with probability p0:"
   ]
  },
  {
   "cell_type": "code",
   "execution_count": null,
   "metadata": {},
   "outputs": [],
   "source": [
    "def calculate_p_sim(n, p0):\n",
    "    return np.sum(np.random.uniform(size=n) <= p0)/float(n)\n",
    "\n",
    "print(calculate_p_sim(N, P0))"
   ]
  },
  {
   "cell_type": "markdown",
   "metadata": {},
   "source": [
    "We can now obtain a distribution for p_sim to approximate the null distribution by obtaining multiple samples using this method. The p-value is calculated as the number of p_sim values that support the alternate hypothesis (that are equal or lower than p_sample) divided by the total number of p_sim values. "
   ]
  },
  {
   "cell_type": "code",
   "execution_count": null,
   "metadata": {},
   "outputs": [],
   "source": [
    "SIZE_SAMPLE = 10000\n",
    "\n",
    "p_sim_sample = [calculate_p_sim(N, P0) for i in range(SIZE_SAMPLE)]\n",
    "\n",
    "fig, ax = plt.subplots()\n",
    "weights = np.ones_like(p_sim_sample)/float(len(p_sim_sample))\n",
    "ax.hist(p_sim_sample, bins=50, weights=weights)\n",
    "ax.set_title('p_sim distribution')\n",
    "\n",
    "p_value = np.sum(np.array(p_sim_sample) < p_sample)/len(p_sim_sample)\n",
    "print('p-value = ' + str(p_value))\n",
    "\n",
    "plt.axvline(x=p_sample, color='red')"
   ]
  },
  {
   "cell_type": "markdown",
   "metadata": {},
   "source": [
    "The p_value is not lower than a significance level of 0.05, so we fail to reject the null hypothesis. \n",
    "\n",
    "When using this method we have to take into account that large p-values may be overestimated. Additionally, if the sample proportion if very close to the population mean we may obtain p-values that are larger than 1. In that case we have to consider these values equal to 1.  "
   ]
  },
  {
   "cell_type": "code",
   "execution_count": null,
   "metadata": {
    "collapsed": true
   },
   "outputs": [],
   "source": []
  }
 ],
 "metadata": {
  "kernelspec": {
   "display_name": "Python 3",
   "language": "python",
   "name": "python3"
  },
  "language_info": {
   "codemirror_mode": {
    "name": "ipython",
    "version": 3
   },
   "file_extension": ".py",
   "mimetype": "text/x-python",
   "name": "python",
   "nbconvert_exporter": "python",
   "pygments_lexer": "ipython3",
   "version": "3.6.1"
  }
 },
 "nbformat": 4,
 "nbformat_minor": 2
}
