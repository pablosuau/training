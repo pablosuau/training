{
 "cells": [
  {
   "cell_type": "code",
   "execution_count": null,
   "metadata": {
    "collapsed": true
   },
   "outputs": [],
   "source": [
    "%matplotlib inline\n",
    "import numpy as np\n",
    "import pandas as pd\n",
    "import math\n",
    "import matplotlib.pyplot as plt\n",
    "import scipy.stats"
   ]
  },
  {
   "cell_type": "markdown",
   "metadata": {},
   "source": [
    "### Hypothesis test for the sample proportion\n",
    "\n",
    "In this notebook we demonstrate how to carry out a hypothesis test for the sample proportion. If the conditions to ensure that the sampling distribution of the proportion is almost normal hold we can apply the same techniques we already applied in [this notebook](./02_Hypothesis_testing_based_on_the_normal_model.ipynb) for the population mean. There are, however, some changes in the way the standard error is calculated. \n",
    "\n",
    "The sample proportion can be represented as the average of the set of successes (1) and failures (0) in a sample of independent trials which probality is the population proportion. "
   ]
  },
  {
   "cell_type": "markdown",
   "metadata": {},
   "source": [
    "#### The sampling distribution of the sample proportion\n",
    "\n",
    "If the sample is large enough the sampling distribution of the sample proportion is normally distributed around the value of the population proportion. The standard distribution of the sample proportion, or standard error, is calculated as:\n",
    "\n",
    "SE = sqrt(p\\*(1-p)/n)\n",
    "\n",
    "where p is the population proportion and n is the size of the sample.\n",
    "\n",
    "In this example we are assuming that the population proportion is p=0.7. We simulate the sampling of 10000 samples of size 10000 from that population and plot the sampling distribution. "
   ]
  },
  {
   "cell_type": "code",
   "execution_count": null,
   "metadata": {},
   "outputs": [],
   "source": [
    "P = 0.7\n",
    "NUMBER_SAMPLES = 10000\n",
    "SIZE_SAMPLE = 10000\n",
    "\n",
    "p_sample = []\n",
    "for i in range(NUMBER_SAMPLES):\n",
    "    p_sample.append(np.mean(np.random.binomial(size=SIZE_SAMPLE, n=1, p=P)))\n",
    "\n",
    "fig, ax = plt.subplots()\n",
    "mean = np.mean(p_sample)\n",
    "std = np.std(p_sample)\n",
    "weights = np.ones_like(p_sample)/float(len(p_sample))\n",
    "ax.hist(p_sample, bins=50, weights=weights)\n",
    "ax.set_xlabel('mean = ' + str(mean) + ', \\nstd = ' + str(std))\n",
    "\n",
    "se = math.sqrt(0.7*(1-0.7)/SIZE_SAMPLE)\n",
    "print('Standard error from population mean value = ' + str(se))"
   ]
  },
  {
   "cell_type": "code",
   "execution_count": null,
   "metadata": {
    "collapsed": true
   },
   "outputs": [],
   "source": []
  }
 ],
 "metadata": {
  "kernelspec": {
   "display_name": "Python 3",
   "language": "python",
   "name": "python3"
  },
  "language_info": {
   "codemirror_mode": {
    "name": "ipython",
    "version": 3
   },
   "file_extension": ".py",
   "mimetype": "text/x-python",
   "name": "python",
   "nbconvert_exporter": "python",
   "pygments_lexer": "ipython3",
   "version": "3.6.1"
  }
 },
 "nbformat": 4,
 "nbformat_minor": 2
}
