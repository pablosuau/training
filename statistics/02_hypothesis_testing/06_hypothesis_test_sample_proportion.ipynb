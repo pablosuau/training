{
 "cells": [
  {
   "cell_type": "code",
   "execution_count": 1,
   "metadata": {
    "collapsed": true
   },
   "outputs": [],
   "source": [
    "%matplotlib inline\n",
    "import numpy as np\n",
    "import pandas as pd\n",
    "from math import sqrt\n",
    "import matplotlib.pyplot as plt\n",
    "import scipy.stats\n",
    "from random import shuffle"
   ]
  },
  {
   "cell_type": "markdown",
   "metadata": {},
   "source": [
    "### Hypothesis test for the sample proportion\n",
    "\n",
    "In this notebook we demonstrate how to carry out a hypothesis test for the sample proportion. If the conditions to ensure that the sampling distribution of the proportion is almost normal hold we can apply the same techniques we already applied in [this notebook](./02_Hypothesis_testing_based_on_the_normal_model.ipynb) for the population mean. There are, however, some changes in the way the standard error is calculated. \n",
    "\n",
    "The sample proportion can be represented as the average of the set of successes (1) and failures (0) in a sample of independent trials which probality is the population proportion. "
   ]
  },
  {
   "cell_type": "markdown",
   "metadata": {},
   "source": [
    "#### The sampling distribution of the sample proportion\n",
    "\n",
    "If observations are independent and the success-failure condition is met (both n\\*p>10 and n\\*(1-p)>10, where n is the sample size and p is the sample proportion) the sampling distribution of the sample proportion is normally distributed around the value of the population proportion. The standard distribution of the sample proportion, or standard error, is calculated as:\n",
    "\n",
    "SE = sqrt(p\\*(1-p)/n)\n",
    "\n",
    "In this example we are assuming that the population proportion is p=0.7. We simulate the sampling of 10000 samples of size 10000 from that population and plot the sampling distribution. "
   ]
  },
  {
   "cell_type": "code",
   "execution_count": 2,
   "metadata": {},
   "outputs": [
    {
     "name": "stdout",
     "output_type": "stream",
     "text": [
      "Standard error from population mean value = 0.0045825756949558405\n"
     ]
    },
    {
     "data": {
      "image/png": "[encoded data removed]",
      "text/plain": [
       "<matplotlib.figure.Figure at 0x217a77b7828>"
      ]
     },
     "metadata": {},
     "output_type": "display_data"
    }
   ],
   "source": [
    "P = 0.7\n",
    "NUMBER_SAMPLES = 10000\n",
    "SIZE_SAMPLE = 10000\n",
    "\n",
    "p_sample = []\n",
    "for i in range(NUMBER_SAMPLES):\n",
    "    p_sample.append(np.mean(np.random.binomial(size=SIZE_SAMPLE, n=1, p=P)))\n",
    "\n",
    "fig, ax = plt.subplots()\n",
    "mean = np.mean(p_sample)\n",
    "std = np.std(p_sample)\n",
    "weights = np.ones_like(p_sample)/float(len(p_sample))\n",
    "ax.hist(p_sample, bins=50, weights=weights)\n",
    "ax.set_xlabel('mean = ' + str(mean) + ', \\nstd = ' + str(std))\n",
    "\n",
    "se = sqrt(0.7*(1-0.7)/SIZE_SAMPLE)\n",
    "print('Standard error from population mean value = ' + str(se))"
   ]
  },
  {
   "cell_type": "markdown",
   "metadata": {
    "collapsed": true
   },
   "source": [
    "#### Hypothesis test\n",
    "\n",
    "*A new law is to be proposed, and the government wants to determine whether the majority of the population would be for the implementation of that law. In order to do that, they took a random sample of 100 individuals among the population and asked them whether they would be for the new law. They obteined a 53% support. Does the government have enough evidence to approve the new law?*\n",
    "\n",
    "This is a hypothesis test for the population proportion. The null and alternate hypothesis are:\n",
    "\n",
    "```\n",
    "H0: p0 = 0.5\n",
    "HA: p0 > 0.5\n",
    "```\n",
    "\n",
    "Let's first determine whether the sampling distribution is nearly normal. The observations are independent and the size of the sample is smaller than 10% of the population. With respect of the success-failure condition, that has to be based on p0 for the case of a hypothesis test:"
   ]
  },
  {
   "cell_type": "code",
   "execution_count": 3,
   "metadata": {},
   "outputs": [
    {
     "name": "stdout",
     "output_type": "stream",
     "text": [
      "p0 * n = 50.0\n",
      "(1-p0) * n = 50.0\n"
     ]
    }
   ],
   "source": [
    "p0 = 0.5\n",
    "n = 100\n",
    "\n",
    "print('p0 * n = ' + str(p0*n))\n",
    "print('(1-p0) * n = ' + str((1-p0)*n))"
   ]
  },
  {
   "cell_type": "markdown",
   "metadata": {},
   "source": [
    "Both values are higher than 0, so we can conclude that the sampling distribution is nearly normal. The standard error can be calculated now, using p0 since this is a hypothesis test:"
   ]
  },
  {
   "cell_type": "code",
   "execution_count": 4,
   "metadata": {},
   "outputs": [
    {
     "name": "stdout",
     "output_type": "stream",
     "text": [
      "SE = 0.05\n"
     ]
    }
   ],
   "source": [
    "SE = sqrt(p0*(1-p0)/n)\n",
    "print('SE = ' + str(SE))"
   ]
  },
  {
   "cell_type": "markdown",
   "metadata": {},
   "source": [
    "The sample proportion is ps=0.53. In order to obtain a p-value we first calculate the Z-score:"
   ]
  },
  {
   "cell_type": "code",
   "execution_count": 5,
   "metadata": {},
   "outputs": [
    {
     "name": "stdout",
     "output_type": "stream",
     "text": [
      "Z = 0.6000000000000005\n"
     ]
    }
   ],
   "source": [
    "ps = 0.53\n",
    "Z = (ps-p0)/SE\n",
    "print('Z = ' + str(Z))"
   ]
  },
  {
   "cell_type": "markdown",
   "metadata": {},
   "source": [
    "Since this is a one-side test, we use the upper tail of the normal distribution to obtain the p-value:"
   ]
  },
  {
   "cell_type": "code",
   "execution_count": 6,
   "metadata": {},
   "outputs": [
    {
     "name": "stdout",
     "output_type": "stream",
     "text": [
      "p-value = 0.27425311775\n"
     ]
    }
   ],
   "source": [
    "p_value = 1 - scipy.stats.norm.cdf(Z)\n",
    "print('p-value = ' + str(p_value))"
   ]
  },
  {
   "cell_type": "markdown",
   "metadata": {},
   "source": [
    "The p-value is higher than the significance level of 0.05, so we cannot reject the null hypothesis. We do not have enough evidence to support the affirmation that the majority of the population supports the new law."
   ]
  },
  {
   "cell_type": "markdown",
   "metadata": {},
   "source": [
    "#### Choose the sample size\n",
    "\n",
    "What large should be the sample size to make sure that we have enough evidence of a significant majority if that majority actually exists? \n",
    "\n",
    "We can use the margin of error of the confidence interval to determine the size of the sample. Given the sample in the previous sample, the confidence interval is given by:"
   ]
  },
  {
   "cell_type": "code",
   "execution_count": 7,
   "metadata": {},
   "outputs": [
    {
     "name": "stdout",
     "output_type": "stream",
     "text": [
      "[0.43200000000000005, 0.628]\n"
     ]
    }
   ],
   "source": [
    "lower = ps - 1.96*SE # 1.96 corresponds to the confidence level for a 95% confidence interval\n",
    "higher = ps + 1.96*SE\n",
    "\n",
    "print([lower, higher])"
   ]
  },
  {
   "cell_type": "markdown",
   "metadata": {},
   "source": [
    "The null hypothesis value (0.5) is within that confidence interval. That's the reson why we couldn't reject the null hypothesis. We need a sample size that ensures that the margin of error (the 1.96\\*SE part of the confience interval) leaves 0.5 out of the confidence interval:"
   ]
  },
  {
   "cell_type": "code",
   "execution_count": 8,
   "metadata": {},
   "outputs": [
    {
     "name": "stdout",
     "output_type": "stream",
     "text": [
      "target margin of error = 0.030000000000000027\n"
     ]
    }
   ],
   "source": [
    "m = ps - p0\n",
    "print('target margin of error = ' + str(m))"
   ]
  },
  {
   "cell_type": "markdown",
   "metadata": {},
   "source": [
    "Let's use a target margin of error of 0.031:\n",
    "\n",
    "```\n",
    "m = 1.96\\*sqrt(p0\\*(1-p0)/n)\n",
    "n = p0\\*(1-p0)/(m/1.96)\\*\\*2\n",
    "```\n",
    "\n",
    "In that expression we can use p0, or we can use p0=0.5 to take into account the worst case scenario. In our example p0 is already 0.5."
   ]
  },
  {
   "cell_type": "code",
   "execution_count": 9,
   "metadata": {},
   "outputs": [
    {
     "name": "stdout",
     "output_type": "stream",
     "text": [
      "sample size = 1067.1111111111093\n"
     ]
    }
   ],
   "source": [
    "n = p0*(1-p0)/(m/1.96)**2\n",
    "print('sample size = ' + str(n))"
   ]
  },
  {
   "cell_type": "markdown",
   "metadata": {},
   "source": [
    "And let's repeat the hypothesis test, assuming that the sample proportion is still 0.53"
   ]
  },
  {
   "cell_type": "code",
   "execution_count": 10,
   "metadata": {},
   "outputs": [
    {
     "name": "stdout",
     "output_type": "stream",
     "text": [
      "SE = 0.015306122448979605\n",
      "Z = 1.96\n",
      "p-value = 0.0249978951482\n"
     ]
    }
   ],
   "source": [
    "SE = sqrt(p0*(1-p0)/n)\n",
    "print('SE = ' + str(SE))\n",
    "\n",
    "Z = (ps-p0)/SE\n",
    "print('Z = ' + str(Z))\n",
    "\n",
    "p_value = 1 - scipy.stats.norm.cdf(Z)\n",
    "print('p-value = ' + str(p_value))"
   ]
  },
  {
   "cell_type": "markdown",
   "metadata": {},
   "source": [
    "In this case the p-value is lower than 0.05, so we can reject the null hypothesis."
   ]
  },
  {
   "cell_type": "markdown",
   "metadata": {
    "collapsed": true
   },
   "source": [
    "#### Simulation for hypothesis testing of the proportion\n",
    "\n",
    "If the sample is small and the success-failure condition is not hold we can apply a simulation method to perform a hypothesis test of the sample proportion. \n",
    "\n",
    "Let's assume a setting in which a 20% of the population with a given chronic disease will not survive longer than one year. A group of researchers investigated a new treatment and they claim that they can reduce this probability. The test can be specified as:\n",
    "\n",
    "```\n",
    "H0: p0 = 0.2\n",
    "HA: pA < 0.2\n",
    "```\n",
    "\n",
    "The group of researchers based their claims about the efficiency of their treatment in the fact that they tested the treatment with 40 patients and only 5 of them did not survive after one year passed. \n",
    "\n",
    "In this setting is easy to check that the success-failure condition does not hold:"
   ]
  },
  {
   "cell_type": "code",
   "execution_count": 11,
   "metadata": {},
   "outputs": [
    {
     "name": "stdout",
     "output_type": "stream",
     "text": [
      "8.0\n",
      "32.0\n"
     ]
    }
   ],
   "source": [
    "N = 40\n",
    "P0 = 0.2\n",
    "\n",
    "print(N*P0)\n",
    "print(N*(1-P0))"
   ]
  },
  {
   "cell_type": "code",
   "execution_count": 12,
   "metadata": {},
   "outputs": [
    {
     "name": "stdout",
     "output_type": "stream",
     "text": [
      "0.125\n"
     ]
    }
   ],
   "source": [
    "SUCCESSES = 5\n",
    "p_sample = SUCCESSES/N\n",
    "print(p_sample)"
   ]
  },
  {
   "cell_type": "markdown",
   "metadata": {},
   "source": [
    "Given a sample of size n and p0, we can simulate a p_sim by producing n random trials with probability p0:"
   ]
  },
  {
   "cell_type": "code",
   "execution_count": 13,
   "metadata": {},
   "outputs": [
    {
     "name": "stdout",
     "output_type": "stream",
     "text": [
      "0.3\n"
     ]
    }
   ],
   "source": [
    "def calculate_p_sim(n, p0):\n",
    "    return np.sum(np.random.uniform(size=n) <= p0)/float(n)\n",
    "\n",
    "print(calculate_p_sim(N, P0))"
   ]
  },
  {
   "cell_type": "markdown",
   "metadata": {},
   "source": [
    "We can now obtain a distribution for p_sim to approximate the null distribution by obtaining multiple samples using this method. The p-value is calculated as the number of p_sim values that support the alternate hypothesis (that are equal or lower than p_sample) divided by the total number of p_sim values. "
   ]
  },
  {
   "cell_type": "code",
   "execution_count": 14,
   "metadata": {},
   "outputs": [
    {
     "name": "stdout",
     "output_type": "stream",
     "text": [
      "p-value = 0.0758\n"
     ]
    },
    {
     "data": {
      "text/plain": [
       "<matplotlib.lines.Line2D at 0x217ab0a2c18>"
      ]
     },
     "execution_count": 14,
     "metadata": {},
     "output_type": "execute_result"
    },
    {
     "data": {
      "image/png": "[encoded data removed]",
      "text/plain": [
       "<matplotlib.figure.Figure at 0x217ab0a2ac8>"
      ]
     },
     "metadata": {},
     "output_type": "display_data"
    }
   ],
   "source": [
    "SIZE_SAMPLE = 10000\n",
    "\n",
    "p_sim_sample = [calculate_p_sim(N, P0) for i in range(SIZE_SAMPLE)]\n",
    "\n",
    "fig, ax = plt.subplots()\n",
    "weights = np.ones_like(p_sim_sample)/float(len(p_sim_sample))\n",
    "ax.hist(p_sim_sample, bins=50, weights=weights)\n",
    "ax.set_title('p_sim distribution')\n",
    "\n",
    "p_value = np.sum(np.array(p_sim_sample) < p_sample)/len(p_sim_sample)\n",
    "print('p-value = ' + str(p_value))\n",
    "\n",
    "plt.axvline(x=p_sample, color='red')"
   ]
  },
  {
   "cell_type": "markdown",
   "metadata": {},
   "source": [
    "The p_value is not lower than a significance level of 0.05, so we fail to reject the null hypothesis. \n",
    "\n",
    "When using this method we have to take into account that large p-values may be overestimated. Additionally, if the sample proportion if very close to the population mean we may obtain p-values that are larger than 1. In that case we have to consider these values equal to 1.  "
   ]
  },
  {
   "cell_type": "markdown",
   "metadata": {
    "collapsed": true
   },
   "source": [
    "#### Using the binomial distribution in simulations\n",
    "\n",
    "Another option to apply simulation for the hypothesis test of the sample distribution when the success-condition failure does not hold is to simulate the null hypothesis and compute the p-value by means of a binomial distribution. In our case, the distribution of interest has parameters n=40 and p=p0=0.2:"
   ]
  },
  {
   "cell_type": "code",
   "execution_count": 15,
   "metadata": {
    "collapsed": true
   },
   "outputs": [],
   "source": [
    "# I am using the following code to compute n choose k. The code \n",
    "# is copied from https://stackoverflow.com/questions/3025162/statistics-combinations-in-python.\n",
    "\n",
    "def choose(n, k):\n",
    "    if 0 <= k <= n:\n",
    "        ntok = 1\n",
    "        ktok = 1\n",
    "        for t in range(1, min(k, n - k) + 1):\n",
    "            ntok *= n\n",
    "            ktok *= t\n",
    "            n -= 1\n",
    "        return ntok // ktok\n",
    "    else:\n",
    "        return 0"
   ]
  },
  {
   "cell_type": "code",
   "execution_count": 16,
   "metadata": {},
   "outputs": [
    {
     "data": {
      "text/plain": [
       "<matplotlib.lines.Line2D at 0x217ab3b1470>"
      ]
     },
     "execution_count": 16,
     "metadata": {},
     "output_type": "execute_result"
    },
    {
     "data": {
      "image/png": "[encoded data removed]",
      "text/plain": [
       "<matplotlib.figure.Figure at 0x217ab3b1c18>"
      ]
     },
     "metadata": {},
     "output_type": "display_data"
    }
   ],
   "source": [
    "fig, ax = plt.subplots()\n",
    "x = np.arange(0, N+1)\n",
    "y = [choose(int(N), int(k))*P0**k*(1-P0)**(N-k) for k in x]\n",
    "ax.plot(x, y)\n",
    "ax.set_xlim([0,N])\n",
    "\n",
    "plt.axvline(x=5, color='red')"
   ]
  },
  {
   "cell_type": "markdown",
   "metadata": {},
   "source": [
    "The p-value is calculated as the sum of the binomial distribution for all the k values that support the alternate hypothesis. It must be noted that a) the p-value may be overestimated in those cases in which the p-value is high, and b) the p-value can be greater than 1 if the sample proportion is very close to the p0 value (we assign a p-value=1 in that case)"
   ]
  },
  {
   "cell_type": "code",
   "execution_count": 17,
   "metadata": {},
   "outputs": [
    {
     "name": "stdout",
     "output_type": "stream",
     "text": [
      "p-value = 0.0759144954499\n"
     ]
    }
   ],
   "source": [
    "p_value = np.sum(np.array(y)[0:5])\n",
    "print('p-value = ' + str(p_value))"
   ]
  },
  {
   "cell_type": "markdown",
   "metadata": {},
   "source": [
    "### Hypothesis test for the difference of proportions\n",
    "\n",
    "In this section, we will demonstrate how to carry out a hypothesis test based on the difference of proportions. The process is similar to the one followed above, with some slight differences.\n",
    "\n",
    "Let's start by setting up the problem. Let's assume that we made an experiment in which we distributed 500 pacients into two groups of 250 pacients each, a treatment group and a control group. The treatment group is given a new type of medicine that will prevent a certain condition to become chronic, whereas the treatment group was instead given a sugar pill that looked exactly like the medicine. The condition became chronic for a 20% of the pacients in the treatment group and for 25% of the pacients in the control group. Does this data support the idea that the medicine has an impact on preventing the condition of a pacient to become chronic?\n",
    "\n",
    "The results of this experiment can be tested by means of a hypothesis test for the difference of proportions, where the null and alternate hypothesis are:\n",
    "\n",
    "```\n",
    "H0: p_treatment - p_control = 0\n",
    "HA: p_treatment - p_control > 0\n",
    "```\n",
    "\n",
    "Since the null hypothesis states that the two proportions are the same we will use the pooled proportion both to test the success-failure condition and to calculate the standard error. "
   ]
  },
  {
   "cell_type": "code",
   "execution_count": 18,
   "metadata": {},
   "outputs": [
    {
     "name": "stdout",
     "output_type": "stream",
     "text": [
      "Pooled proportion = 0.225\n"
     ]
    }
   ],
   "source": [
    "P1 = 0.2\n",
    "N1 = 250\n",
    "P2 = 0.25\n",
    "N2 = 250\n",
    "\n",
    "p_pooled = (P1*N1 + P2*N2)/(N1 + N2)\n",
    "print('Pooled proportion = ' + str(p_pooled))"
   ]
  },
  {
   "cell_type": "markdown",
   "metadata": {},
   "source": [
    "We assume that the sample is independent. The other condition that hast to hold *for both samples* to be able to apply the hypothesis test is the success-failure condition:"
   ]
  },
  {
   "cell_type": "code",
   "execution_count": 19,
   "metadata": {},
   "outputs": [
    {
     "name": "stdout",
     "output_type": "stream",
     "text": [
      "First sample:\n",
      "   n*p = 56.25\n",
      "   n*(1-p) = 193.75\n",
      "Second sample:\n",
      "   n*p = 56.25\n",
      "   n*(1-p) = 193.75\n"
     ]
    }
   ],
   "source": [
    "print('First sample:')\n",
    "print('   n*p = ' + str(N1*p_pooled))\n",
    "print('   n*(1-p) = ' + str(N1*(1-p_pooled)))\n",
    "print('Second sample:')\n",
    "print('   n*p = ' + str(N2*p_pooled))\n",
    "print('   n*(1-p) = ' + str(N2*(1-p_pooled)))"
   ]
  },
  {
   "cell_type": "markdown",
   "metadata": {},
   "source": [
    "We can now carry out the hypothesis test as we did in the case of the hypothesis test for the sample proportion (see above). The only difference is the way in which we compute the standard error:\n",
    "\n",
    "```\n",
    "SE = sqrt(SE_p1**2 + SE_p2**2)\n",
    "```\n",
    "\n",
    "And, once again, since the null hypothesis considers the sample proportions to be equal, we use p_pooled instead of p1 and p2."
   ]
  },
  {
   "cell_type": "code",
   "execution_count": 20,
   "metadata": {},
   "outputs": [
    {
     "name": "stdout",
     "output_type": "stream",
     "text": [
      "SE = 0.0373496987939662\n",
      "Z = 1.3386988815041645\n",
      "p-value = 0.0903343602788\n"
     ]
    }
   ],
   "source": [
    "SE_p1 = p_pooled*(1-p_pooled)/N1\n",
    "SE_p2 = p_pooled*(1-p_pooled)/N2\n",
    "SE = sqrt(SE_p1 + SE_p2)\n",
    "print('SE = ' + str(SE))\n",
    "\n",
    "ps = 0.25 - 0.2\n",
    "p0 = 0\n",
    "Z = (ps-p0)/SE\n",
    "print('Z = ' + str(Z))\n",
    "\n",
    "p_value = 1 - scipy.stats.norm.cdf(Z)\n",
    "print('p-value = ' + str(p_value))"
   ]
  },
  {
   "cell_type": "markdown",
   "metadata": {},
   "source": [
    "In this example the p-value is higher than the 0.05 significance level, so we fail to reject the null hypothesis. "
   ]
  },
  {
   "cell_type": "markdown",
   "metadata": {},
   "source": [
    "#### Simulation for hypothesis testing of the difference of proportions\n",
    "\n",
    "If the sample is small and therefore the success-failure condition does not hold we can still try to extract conclusions from our experiment by applying simulation. In th case of the difference of proportions, simulation test is based on what is known as permutation test. Given two samples of size n1 and n2, one simulated (p1-p2)\\_sim value can be calculated by randomly assigning n1 observations to the treatment group and n2 observations to the control group, and then calculating the difference of proportions. If we repeat this process multiple times we can approximate the null distribution, and use this distribution to calculate a p-value by counting the number of simulations that support the alternate hypothesis and dividing by the total number of simulations. \n",
    "\n",
    "Let's assume the same problem as before (experiment to test a medicine to decrease the likelihood of a condition to become chronic), but in this case lets assume that the size of the samples are n1=21 and n2=23. \n",
    "\n",
    "|       | Treatment | Control   |\n",
    "|-------|----------:|----------:|\n",
    "|Success| 6         |  4        |\n",
    "|Failure| 15        |  19       |\n",
    "|Total  | 21        |  23       |\n",
    "\n",
    "\n",
    "The success-failure condition does not hold:"
   ]
  },
  {
   "cell_type": "code",
   "execution_count": 21,
   "metadata": {},
   "outputs": [
    {
     "name": "stdout",
     "output_type": "stream",
     "text": [
      "p1 = 0.2857142857142857\n",
      "p2 = 0.17391304347826086\n",
      "p1 - p2 = 0.11180124223602483\n",
      "Pooled proportion = 0.22727272727272727\n",
      "First sample:\n",
      "   n*p = 4.7727272727272725\n",
      "   n*(1-p) = 16.227272727272727\n",
      "Second sample:\n",
      "   n*p = 5.2272727272727275\n",
      "   n*(1-p) = 17.772727272727273\n"
     ]
    }
   ],
   "source": [
    "N1 = 21\n",
    "P1 = 6/N1\n",
    "N2 = 23\n",
    "P2 = 4/N2\n",
    "\n",
    "print('p1 = ' + str(P1))\n",
    "print('p2 = ' + str(P2))\n",
    "\n",
    "p1p2_sample = P1 - P2\n",
    "print('p1 - p2 = ' + str(p1p2_sample))\n",
    "\n",
    "p_pooled = (P1*N1 + P2*N2)/(N1 + N2)\n",
    "print('Pooled proportion = ' + str(p_pooled))\n",
    "\n",
    "print('First sample:')\n",
    "print('   n*p = ' + str(N1*p_pooled))\n",
    "print('   n*(1-p) = ' + str(N1*(1-p_pooled)))\n",
    "print('Second sample:')\n",
    "print('   n*p = ' + str(N2*p_pooled))\n",
    "print('   n*(1-p) = ' + str(N2*(1-p_pooled)))"
   ]
  },
  {
   "cell_type": "code",
   "execution_count": 22,
   "metadata": {
    "collapsed": true
   },
   "outputs": [],
   "source": [
    "# This function calculates a simulated value of p1-p2 by applying\n",
    "# random permutation to the sample.\n",
    "# Random permutation is implemented by randomly shuffling the sample\n",
    "def calculate_p1_p2_sim(n1, n2, sample):\n",
    "    shuffle(sample)\n",
    "    s1 = sample[0:n1]\n",
    "    s2 = sample[n1:]\n",
    "    p1 = np.sum(s1)/len(s1)\n",
    "    p2 = np.sum(s2)/len(s2)\n",
    "    \n",
    "    return(p1-p2)"
   ]
  },
  {
   "cell_type": "code",
   "execution_count": 23,
   "metadata": {},
   "outputs": [
    {
     "name": "stdout",
     "output_type": "stream",
     "text": [
      "[True, True, True, True, True, True, False, False, False, False, False, False, False, False, False, False, False, False, False, False, False, True, True, True, True, False, False, False, False, False, False, False, False, False, False, False, False, False, False, False, False, False, False, False]\n"
     ]
    }
   ],
   "source": [
    "# The sample contains the N1 + N2 observations\n",
    "sample = ([True]*6)\n",
    "sample.extend([False]*15)\n",
    "sample.extend([True]*4)\n",
    "sample.extend([False]*19)\n",
    "print(sample)"
   ]
  },
  {
   "cell_type": "code",
   "execution_count": 24,
   "metadata": {},
   "outputs": [
    {
     "name": "stdout",
     "output_type": "stream",
     "text": [
      "-0.0703933747412\n"
     ]
    }
   ],
   "source": [
    "# Simulating one value of p1-p2 based on random permutation\n",
    "p1p2_sim = calculate_p1_p2_sim(N1, N2, sample)\n",
    "print(p1p2_sim)"
   ]
  },
  {
   "cell_type": "code",
   "execution_count": 25,
   "metadata": {},
   "outputs": [
    {
     "name": "stdout",
     "output_type": "stream",
     "text": [
      "p-value = 0.1114\n"
     ]
    },
    {
     "data": {
      "text/plain": [
       "<matplotlib.lines.Line2D at 0x217ab4e4080>"
      ]
     },
     "execution_count": 25,
     "metadata": {},
     "output_type": "execute_result"
    },
    {
     "data": {
      "image/png": "[encoded data removed]",
      "text/plain": [
       "<matplotlib.figure.Figure at 0x217ab4d5198>"
      ]
     },
     "metadata": {},
     "output_type": "display_data"
    }
   ],
   "source": [
    "# Simulating the null distribution by obtaining multiple simulations of p1-p2\n",
    "SIZE_SAMPLE = 10000\n",
    "\n",
    "p1p2_sim_sample = [calculate_p1_p2_sim(N1, N2, sample) for i in range(SIZE_SAMPLE)]\n",
    "\n",
    "fig, ax = plt.subplots()\n",
    "weights = np.ones_like(p1p2_sim_sample)/float(len(p1p2_sim_sample))\n",
    "ax.hist(p1p2_sim_sample, bins=50, weights=weights)\n",
    "ax.set_title('p_sim distribution')\n",
    "\n",
    "p_value = np.sum(np.array(p1p2_sim_sample) > p1p2_sample)/len(p1p2_sim_sample)\n",
    "print('p-value = ' + str(p_value))\n",
    "\n",
    "plt.axvline(x=p1p2_sample, color='red')"
   ]
  },
  {
   "cell_type": "markdown",
   "metadata": {
    "collapsed": true
   },
   "source": [
    "The p-value is higher than the significance level of 0.05, so we fail to reject the null hypothesis."
   ]
  }
 ],
 "metadata": {
  "kernelspec": {
   "display_name": "Python 3",
   "language": "python",
   "name": "python3"
  },
  "language_info": {
   "codemirror_mode": {
    "name": "ipython",
    "version": 3
   },
   "file_extension": ".py",
   "mimetype": "text/x-python",
   "name": "python",
   "nbconvert_exporter": "python",
   "pygments_lexer": "ipython3",
   "version": "3.6.1"
  }
 },
 "nbformat": 4,
 "nbformat_minor": 2
}
