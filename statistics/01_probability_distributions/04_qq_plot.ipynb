{
 "cells": [
  {
   "cell_type": "markdown",
   "metadata": {},
   "source": [
    "One way to determine whether a random variable follows a normal distribution is by computing the mean and standard deviation from a sample and overlap the sample's histogram to a normal PDF curve computed from that mean and standard deviation. The closer the histogram and the curve are, the closer the distribution of the random variable is to a normal distribution.\n",
    "\n",
    "Another method to test the normality of a random variable is by plotting a q-q plot (quantile-quantile plot). The q-q plot plots the quantile values of one distribution on the x axis against the quantile values of another distribution on the y axis. In our case, we would have to plot the quantiles of our random variable's distribution agains those of a theoretical normal distribution with the same mean and standard deviation. The closest the plot is to a straight line, the closer the distribution is to a theoretical normal distribution. "
   ]
  },
  {
   "cell_type": "code",
   "execution_count": null,
   "metadata": {
    "collapsed": true
   },
   "outputs": [],
   "source": [
    "%matplotlib inline\n",
    "import matplotlib.pyplot as plt\n",
    "import math\n",
    "import numpy as np\n",
    "import scipy.stats as st"
   ]
  },
  {
   "cell_type": "markdown",
   "metadata": {},
   "source": [
    "### Increasingly larger samples"
   ]
  },
  {
   "cell_type": "markdown",
   "metadata": {},
   "source": [
    "The following code shows the q-q plot for a sample taken from a normal random variable as we increase the size of the sample. The idea is to show how the plot gets more and more straight as the size of the sample increases."
   ]
  },
  {
   "cell_type": "code",
   "execution_count": null,
   "metadata": {},
   "outputs": [],
   "source": [
    "MEAN = 3\n",
    "STD = 2\n",
    "\n",
    "# Using scipy to calculate the percentiles of the normal distribution\n",
    "quantiles = np.arange(0.01,0.99,0.01)\n",
    "q_theoretical = [st.norm.ppf(i, loc=MEAN, scale=STD) for i in quantiles]\n",
    "\n",
    "# Increasing size samples\n",
    "SIZES = [10, 100, 1000, 10000, 10000]\n",
    "for s in SIZES:\n",
    "    sample = np.random.normal(MEAN, STD, s)\n",
    "    q_sample = [np.percentile(sample, i*100) for i in quantiles]\n",
    "    \n",
    "    fig, ax = plt.subplots()\n",
    "    ax.scatter(q_sample, q_theoretical, color='blue')\n",
    "    \n",
    "    min_value = min(np.min(q_theoretical), np.min(q_sample))\n",
    "    max_value = max(np.max(q_theoretical), np.max(q_sample))\n",
    "    ax.plot([min_value, max_value], [min_value, max_value], 'k--')\n",
    "    \n",
    "    ax.set_xlabel('sample (' + str(s) + ' observations)')\n",
    "    ax.set_ylabel('theoretical')"
   ]
  },
  {
   "cell_type": "markdown",
   "metadata": {},
   "source": [
    "### Skewed distributions"
   ]
  },
  {
   "cell_type": "markdown",
   "metadata": {},
   "source": [
    "What's the shape of a q-q plot in the case of distributions which are skewed to the right or to the left?"
   ]
  },
  {
   "cell_type": "code",
   "execution_count": null,
   "metadata": {
    "collapsed": true
   },
   "outputs": [],
   "source": []
  },
  {
   "cell_type": "markdown",
   "metadata": {},
   "source": [
    "### A bimodal distribution"
   ]
  },
  {
   "cell_type": "markdown",
   "metadata": {},
   "source": [
    "In this case we show the q-q plot for a bimodal distribution. The bimodal distribution is sampled from a random variable which is the addition of two randomly distributed random variables. "
   ]
  },
  {
   "cell_type": "code",
   "execution_count": null,
   "metadata": {
    "collapsed": true
   },
   "outputs": [],
   "source": []
  },
  {
   "cell_type": "markdown",
   "metadata": {},
   "source": [
    "## A uniform distribution"
   ]
  },
  {
   "cell_type": "markdown",
   "metadata": {},
   "source": [
    "Finally, we observe what's the shape of a q-q plot for a uniform distribution."
   ]
  },
  {
   "cell_type": "code",
   "execution_count": null,
   "metadata": {
    "collapsed": true
   },
   "outputs": [],
   "source": []
  }
 ],
 "metadata": {
  "kernelspec": {
   "display_name": "Python 2",
   "language": "python",
   "name": "python2"
  },
  "language_info": {
   "codemirror_mode": {
    "name": "ipython",
    "version": 2
   },
   "file_extension": ".py",
   "mimetype": "text/x-python",
   "name": "python",
   "nbconvert_exporter": "python",
   "pygments_lexer": "ipython2",
   "version": "2.7.13"
  }
 },
 "nbformat": 4,
 "nbformat_minor": 2
}
