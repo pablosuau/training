{
 "cells": [
  {
   "cell_type": "code",
   "execution_count": null,
   "metadata": {},
   "outputs": [],
   "source": [
    "import matplotlib.pyplot as plt\n",
    "import numpy as np"
   ]
  },
  {
   "cell_type": "markdown",
   "metadata": {},
   "source": [
    "The likelihood function $L(\\theta|x)$ measures the support provided by the observed data $x$ to the different values of the parameters $\\theta$. It is commonly used to determine what is the most plausible value for the parameters of a distribution given the observed data by looking for the peak that maximises the likelihood. The procedure to obtain this maximum is known as Maximum Likelihood Estimation (MLE).\n",
    "\n",
    "A likelihood function is not a pdf. This means that it is not normalised and the area has not to add up to one. \n",
    "\n",
    "## Bernoulli distribution\n",
    "\n",
    "In this first example we calculate the likelihood of $p_H$, that is, the probability of getting heads when flipping a coin. To that end, we flip a coin multiple times."
   ]
  },
  {
   "cell_type": "code",
   "execution_count": null,
   "metadata": {},
   "outputs": [],
   "source": [
    "np.random.seed(0)"
   ]
  },
  {
   "cell_type": "code",
   "execution_count": null,
   "metadata": {},
   "outputs": [],
   "source": [
    "REAL_PH = 0.7"
   ]
  },
  {
   "cell_type": "code",
   "execution_count": null,
   "metadata": {},
   "outputs": [],
   "source": [
    "FLIPS_PER_IT = 10"
   ]
  },
  {
   "cell_type": "code",
   "execution_count": null,
   "metadata": {
    "scrolled": false
   },
   "outputs": [],
   "source": [
    "flips = np.array([])\n",
    "theta = np.arange(0, 1, 0.05)\n",
    "\n",
    "fig, ax = plt.subplots(2, int(FLIPS_PER_IT / 2))\n",
    "\n",
    "for i in range(10):\n",
    "    # Passing n = 1 to the binomial random numbers generator is equivalent to generating random values\n",
    "    # from a Bernoulli distribution\n",
    "    flips = np.concatenate((flips, np.random.binomial(size = FLIPS_PER_IT, n = 1, p = REAL_PH)))\n",
    "    \n",
    "    heads = np.sum(flips)\n",
    "    tails = flips.shape[0] - heads\n",
    "    \n",
    "    likelihood = np.power(theta, heads) * np.power(1 - theta, tails)\n",
    "    \n",
    "    row = int(i / int(FLIPS_PER_IT / 2))\n",
    "    col = i % int(FLIPS_PER_IT / 2)\n",
    "    ax[row, col].plot(theta, likelihood)\n",
    "    ax[row, col].set_title(str((i + 1) * FLIPS_PER_IT) + ' coins flipped')\n",
    "    ax[row, col].set_xlim([0, 1])\n",
    "\n",
    "fig.set_figwidth(16)    \n",
    "plt.tight_layout()"
   ]
  },
  {
   "cell_type": "markdown",
   "metadata": {},
   "source": [
    "## Poisson distribution"
   ]
  },
  {
   "cell_type": "code",
   "execution_count": null,
   "metadata": {},
   "outputs": [],
   "source": []
  }
 ],
 "metadata": {
  "kernelspec": {
   "display_name": "Python 3",
   "language": "python",
   "name": "python3"
  },
  "language_info": {
   "codemirror_mode": {
    "name": "ipython",
    "version": 3
   },
   "file_extension": ".py",
   "mimetype": "text/x-python",
   "name": "python",
   "nbconvert_exporter": "python",
   "pygments_lexer": "ipython3",
   "version": "3.6.5"
  }
 },
 "nbformat": 4,
 "nbformat_minor": 2
}
