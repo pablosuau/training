{
 "cells": [
  {
   "cell_type": "code",
   "execution_count": null,
   "metadata": {
    "collapsed": true
   },
   "outputs": [],
   "source": [
    "%matplotlib notebook\n",
    "import matplotlib.pyplot as plt\n",
    "import math\n",
    "import numpy as np\n",
    "from ipywidgets import widgets\n",
    "from IPython.display import display"
   ]
  },
  {
   "cell_type": "markdown",
   "metadata": {},
   "source": [
    "The following code displays the Z value and the percentile of any given value of a normally distributed random variable. "
   ]
  },
  {
   "cell_type": "code",
   "execution_count": null,
   "metadata": {},
   "outputs": [],
   "source": [
    "fig, ax = plt.subplots()\n",
    "ax.grid(True)\n",
    "plt.ion()\n",
    "DEFAULT_STD = 1\n",
    "BUTTON_DESCRIPTION = 'z-score = %.2f'\n",
    "\n",
    "def define_input(description, value):\n",
    "    return widgets.FloatText(\n",
    "        value=value,\n",
    "        description=description,\n",
    "    )\n",
    "\n",
    "def define_label():\n",
    "    return widgets.Button(\n",
    "    description = BUTTON_DESCRIPTION%(0),\n",
    "    layout = widgets.Layout(width='50%'),\n",
    "    disabled = True)\n",
    "\n",
    "w = list()\n",
    "\n",
    "mean = define_input('Mean: ', 0)\n",
    "std = define_input('Standard deviation: ', DEFAULT_STD)\n",
    "value = define_input('Value of the variable: ', 0)\n",
    "zscore = define_label()\n",
    "\n",
    "layout = widgets.VBox([mean, std, value, zscore])\n",
    "\n",
    "# The normal distribution is plot in the range between -3 standard deviations and\n",
    "# 3 standard deviations. \n",
    "def on_change(change):\n",
    "    global fig, ax, lines\n",
    "    \n",
    "    # Deleting previous figure\n",
    "    while len(ax.lines) > 0:\n",
    "        l = ax.lines.pop(0)\n",
    "        del l\n",
    "        \n",
    "    # Checking that the standard deviation is higher than 0\n",
    "    if wid[1].value <= 0:\n",
    "        wid[1].value = DEFAULT_STD\n",
    "        \n",
    "    # Updating z-score\n",
    "    z = (wid[2].value - wid[0].value)/float(wid[1].value)\n",
    "    wid[3].description = BUTTON_DESCRIPTION%(z)\n",
    "    \n",
    "    # Computing the range of x values\n",
    "    min_x = wid[0].value - 3*wid[1].value\n",
    "    max_x = wid[0].value + 3*wid[1].value\n",
    "    \n",
    "    # Plotting itself\n",
    "    # Manually computing the normal distribution's PDF\n",
    "    mean = float(wid[0].value)\n",
    "    std = float(wid[1].value)\n",
    "    x = np.arange(min_x, max_x, 0.01)\n",
    "    y = 1/(math.sqrt(2*math.pi*std**2))*np.exp(-(x-mean)**2/(2*std**2))\n",
    "    ax.plot(x,y,color='blue')\n",
    "    ax.axvline(z,color='red')\n",
    "    ax.set_xlim([min_x, max_x])\n",
    "    fig.canvas.draw()\n",
    "    \n",
    "wid = [mean, std, value, zscore]\n",
    "[w.observe(on_change) for w in wid]\n",
    "on_change(None)\n",
    "\n",
    "display(layout)"
   ]
  },
  {
   "cell_type": "code",
   "execution_count": null,
   "metadata": {
    "collapsed": true
   },
   "outputs": [],
   "source": []
  }
 ],
 "metadata": {
  "kernelspec": {
   "display_name": "Python 2",
   "language": "python",
   "name": "python2"
  },
  "language_info": {
   "codemirror_mode": {
    "name": "ipython",
    "version": 2
   },
   "file_extension": ".py",
   "mimetype": "text/x-python",
   "name": "python",
   "nbconvert_exporter": "python",
   "pygments_lexer": "ipython2",
   "version": "2.7.13"
  }
 },
 "nbformat": 4,
 "nbformat_minor": 2
}
