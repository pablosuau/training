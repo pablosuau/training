{
 "cells": [
  {
   "cell_type": "code",
   "execution_count": null,
   "metadata": {
    "collapsed": true
   },
   "outputs": [],
   "source": [
    "%matplotlib inline\n",
    "import matplotlib.pyplot as plt\n",
    "import math\n",
    "import numpy as np\n",
    "from ipywidgets import widgets\n",
    "from IPython.display import display"
   ]
  },
  {
   "cell_type": "markdown",
   "metadata": {},
   "source": [
    "### Normal distribution\n",
    "\n",
    "The normal distribution is a symmetric unimodal Bell-shaped distribution which is described by two parameters: the mean and the standard distribution. The mean indicates the shift on the x axis, whereas the standard distribution determines the width of the central part of the distribution. "
   ]
  },
  {
   "cell_type": "code",
   "execution_count": null,
   "metadata": {},
   "outputs": [],
   "source": [
    "fig, ax = plt.subplots()\n",
    "ax.grid(True)\n",
    "fig.set_figwidth(16)\n",
    "\n",
    "def define_input(description, value):\n",
    "    return widgets.BoundedFloatText(\n",
    "        value=value,\n",
    "        description=description,\n",
    "        disabled=False\n",
    "    )\n",
    "\n",
    "w = list()\n",
    "\n",
    "number_dist = widgets.Dropdown(\n",
    "    options=['1', '2', '3'],\n",
    "    value='1',\n",
    "    description='Number of distributions:',\n",
    ")\n",
    "\n",
    "mean1 = define_input('Mean 1: ', 0)\n",
    "mean2 = define_input('Mean 2: ', -1)\n",
    "mean3 = define_input('Mean 3: ', 1)\n",
    "std1 = define_input('Standard deviation 1: ', 1)\n",
    "std2 = define_input('Standard deviation 2: ', 1)\n",
    "std3 = define_input('Standard deviation 3: ', 1)\n",
    "\n",
    "layout = widgets.VBox([\n",
    "    number_dist,\n",
    "    widgets.HBox([mean1, std1]),\n",
    "    widgets.HBox([mean2, std2]),\n",
    "    widgets.HBox([mean3, std3])\n",
    "])\n",
    "\n",
    "# The normal distributions are plot in the range between -3 standard deviations and\n",
    "# 3 standard deviations\n",
    "def on_change(change):\n",
    "    for i in range(int(number_dist.value)):\n",
    "        # Manually computing the normal distribution's PDF\n",
    "        mean = float(wid[1+i].value)\n",
    "        std = float(wid[4+i].value)\n",
    "        x = np.arange(mean-3*std, mean + 3*std, 0.01)\n",
    "        y = 1/(math.sqrt(2*math.pi*std**2))*np.exp(-(x-mean)**2/(2*std**2))\n",
    "        ax.plot(x,y)\n",
    "    \n",
    "wid = [number_dist, mean1, mean2, mean3, std1, std2, std3]\n",
    "[w.observe(on_change) for w in wid]\n",
    "on_change(None)\n",
    "\n",
    "display(layout)"
   ]
  },
  {
   "cell_type": "markdown",
   "metadata": {},
   "source": [
    "### Bernoulli distribution"
   ]
  },
  {
   "cell_type": "markdown",
   "metadata": {},
   "source": [
    "### Geometric distribution"
   ]
  },
  {
   "cell_type": "markdown",
   "metadata": {},
   "source": [
    "### Binomial distribution"
   ]
  },
  {
   "cell_type": "markdown",
   "metadata": {},
   "source": [
    "### Poisson distribution"
   ]
  },
  {
   "cell_type": "markdown",
   "metadata": {},
   "source": [
    "### Negative binomial distribution"
   ]
  },
  {
   "cell_type": "code",
   "execution_count": null,
   "metadata": {
    "collapsed": true
   },
   "outputs": [],
   "source": []
  }
 ],
 "metadata": {
  "kernelspec": {
   "display_name": "Python 2",
   "language": "python",
   "name": "python2"
  },
  "language_info": {
   "codemirror_mode": {
    "name": "ipython",
    "version": 2
   },
   "file_extension": ".py",
   "mimetype": "text/x-python",
   "name": "python",
   "nbconvert_exporter": "python",
   "pygments_lexer": "ipython2",
   "version": "2.7.13"
  }
 },
 "nbformat": 4,
 "nbformat_minor": 2
}
