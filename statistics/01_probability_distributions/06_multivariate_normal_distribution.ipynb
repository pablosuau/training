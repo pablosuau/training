{
 "cells": [
  {
   "cell_type": "code",
   "execution_count": null,
   "metadata": {},
   "outputs": [],
   "source": [
    "%matplotlib notebook\n",
    "import numpy as np\n",
    "import matplotlib.pyplot as plt\n",
    "from ipywidgets import widgets\n",
    "from IPython.display import display"
   ]
  },
  {
   "cell_type": "markdown",
   "metadata": {},
   "source": [
    "The multivariate normal distribution is a generalisation of the univariate normal distribution to higher dimensions. It is used to describe a set of correlated random variables each of which clusters around a mean value. It has two parameters: a k-dimensional mean vector and a k x k positive definite covariance matrix.\n",
    "\n",
    "This notebook is designed to enable the interactive visualisation of 2D normal distributions for different covariance matrices. The interactive visualisation at the bottom of the notebook only displays the random sample if the covariance matrix is positive definite.  "
   ]
  },
  {
   "cell_type": "code",
   "execution_count": null,
   "metadata": {},
   "outputs": [],
   "source": [
    "mean = np.array([0, 0])\n",
    "cov = np.array([[4, -2], [-2, 2]])\n",
    "sample = np.random.multivariate_normal(mean, cov, 100)\n",
    "plt.scatter(sample[:, 0], sample[:, 1])"
   ]
  },
  {
   "cell_type": "code",
   "execution_count": null,
   "metadata": {},
   "outputs": [],
   "source": [
    "fig, ax = plt.subplots()\n",
    "ax.grid(True)\n",
    "plt.ion()\n",
    "\n",
    "def new_widget(text, value):\n",
    "    return widgets.FloatText(\n",
    "        value = value,\n",
    "        description = text)\n",
    "\n",
    "mean_1 = new_widget('Mean 1: ', 0)\n",
    "mean_2 = new_widget('Mean 2: ', 0)\n",
    "cov_11 = new_widget('Cov 1, 1: ', 4)\n",
    "cov_12 = new_widget('Cov 1, 2: ', -2)\n",
    "cov_22 = new_widget('Cov 2, 2: ', 2)\n",
    "\n",
    "layout = widgets.VBox([\n",
    "    widgets.HBox([mean_1, mean_2]),\n",
    "    widgets.HBox([cov_11, cov_12]),\n",
    "    widgets.HBox([cov_12, cov_22])\n",
    "])\n",
    "\n",
    "def on_change(change):\n",
    "    global fig, ax\n",
    "    \n",
    "    # Deleting previous figure\n",
    "    ax.clear()\n",
    "    \n",
    "    # Plotting itself\n",
    "    # But only if the covariance matrix is definite positive\n",
    "    mean = np.array([float(wid[0].value), float(wid[1].value)])\n",
    "    cov = np.array([[float(wid[2].value), float(wid[3].value)], \n",
    "                    [float(wid[3].value), float(wid[4].value)]])\n",
    "    if np.all(np.linalg.eigvals(cov) > 0):\n",
    "        sample = np.random.multivariate_normal(mean, cov, 100)\n",
    "        paths = ax.scatter(sample[:, 0], sample[:, 1])\n",
    "        lim_y = np.max(np.abs(ax.get_ylim()))\n",
    "        lim_x = np.max(np.abs(ax.get_xlim()))\n",
    "        lim = max(lim_x, lim_y)\n",
    "        ax.set_xlim([-lim, lim])\n",
    "        ax.set_ylim([-lim, lim])\n",
    "\n",
    "wid = [mean_1, mean_2, cov_11, cov_12, cov_22]\n",
    "[w.observe(on_change) for w in wid]\n",
    "on_change(None)\n",
    "\n",
    "display(layout)"
   ]
  },
  {
   "cell_type": "code",
   "execution_count": null,
   "metadata": {},
   "outputs": [],
   "source": []
  }
 ],
 "metadata": {
  "kernelspec": {
   "display_name": "Python 3",
   "language": "python",
   "name": "python3"
  },
  "language_info": {
   "codemirror_mode": {
    "name": "ipython",
    "version": 3
   },
   "file_extension": ".py",
   "mimetype": "text/x-python",
   "name": "python",
   "nbconvert_exporter": "python",
   "pygments_lexer": "ipython3",
   "version": "3.6.5"
  }
 },
 "nbformat": 4,
 "nbformat_minor": 2
}
