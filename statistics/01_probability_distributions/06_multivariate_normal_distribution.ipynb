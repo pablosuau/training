{
 "cells": [
  {
   "cell_type": "code",
   "execution_count": null,
   "metadata": {},
   "outputs": [],
   "source": [
    "%matplotlib notebook\n",
    "import numpy as np\n",
    "import matplotlib.pyplot as plt\n",
    "from ipywidgets import widgets\n",
    "from IPython.display import display"
   ]
  },
  {
   "cell_type": "markdown",
   "metadata": {},
   "source": [
    "The multivariate normal distribution is a generalisation of the univariate normal distribution to higher dimensions. It is used to describe a set of correlated random variables each of which clusters around a mean value. It has two parameters: a k-dimensional mean vector and a k x k positive definite covariance matrix.\n",
    "\n",
    "This notebook is designed to enable the interactive visualisation of 2D normal distributions for different covariance matrices. "
   ]
  },
  {
   "cell_type": "code",
   "execution_count": null,
   "metadata": {},
   "outputs": [],
   "source": [
    "mean = np.array([0, 0])\n",
    "cov = np.array([[4, -2], [-2, 2]])\n",
    "sample = np.random.multivariate_normal(mean, cov, 100)\n",
    "plt.scatter(sample[:, 0], sample[:, 1])"
   ]
  },
  {
   "cell_type": "code",
   "execution_count": null,
   "metadata": {},
   "outputs": [],
   "source": [
    "fig, ax = plt.subplots()\n",
    "ax.grid(True)\n",
    "plt.ion()\n",
    "\n",
    "mean_1 = widgets.FloatText(\n",
    "        value = 0,\n",
    "        description = 'Mean 1: ',\n",
    "    )\n",
    "\n",
    "mean_2 = widgets.FloatText(\n",
    "        value = 0,\n",
    "        description = 'Mean 2: ',\n",
    "    )\n",
    "\n",
    "cov_11 = widgets.FloatText(\n",
    "        value = 0,\n",
    "        description = 'Cov 1, 1: ',\n",
    "    )\n",
    "\n",
    "cov_12 = widgets.FloatText(\n",
    "        value = 0,\n",
    "        description = 'Cov 1, 2: ',\n",
    "    )\n",
    "\n",
    "cov_22 = widgets.FloatText(\n",
    "        value = 0,\n",
    "        description = 'Cov 2, 2: ',\n",
    "    )\n",
    "\n",
    "layout = widgets.VBox([\n",
    "    widgets.HBox([mean_1, mean_2]),\n",
    "    widgets.HBox([cov_11, cov_12]),\n",
    "    widgets.HBox([cov_12, cov_22])\n",
    "])\n",
    "\n",
    "display(layout)"
   ]
  },
  {
   "cell_type": "code",
   "execution_count": null,
   "metadata": {},
   "outputs": [],
   "source": []
  }
 ],
 "metadata": {
  "kernelspec": {
   "display_name": "Python 3",
   "language": "python",
   "name": "python3"
  },
  "language_info": {
   "codemirror_mode": {
    "name": "ipython",
    "version": 3
   },
   "file_extension": ".py",
   "mimetype": "text/x-python",
   "name": "python",
   "nbconvert_exporter": "python",
   "pygments_lexer": "ipython3",
   "version": "3.6.5"
  }
 },
 "nbformat": 4,
 "nbformat_minor": 2
}
