{
 "cells": [
  {
   "cell_type": "code",
   "execution_count": 1,
   "metadata": {},
   "outputs": [],
   "source": [
    "import numpy as np\n",
    "from numpy.linalg import norm\n",
    "import matplotlib.pyplot as plt\n",
    "from matplotlib import cm\n",
    "from math import sqrt"
   ]
  },
  {
   "cell_type": "code",
   "execution_count": 2,
   "metadata": {},
   "outputs": [],
   "source": [
    "np.random.seed(1)"
   ]
  },
  {
   "cell_type": "markdown",
   "metadata": {},
   "source": [
    "This notebook contains an implementation of the both linear and non-linear Conjugate Gradient descent algorithm (https://en.wikipedia.org/wiki/Conjugate_gradient_method). The reason why this algorithm is implemented in a different notebook is because its implementation is different enough and it would have been challenging to make it fit in the class structure in the first notebook. Some code in this book, however, is duplicated from the first one. \n",
    "\n",
    "# Linear conjugate gradient descent\n",
    "\n",
    "Linear conjugate gradient descent is a method to solve systems of linear equations:\n",
    "\n",
    "$Aw = b$\n",
    "\n",
    "Finding the solution to the system of linear equations above is equivalent to finding the unique minimum of a quadratic function:\n",
    "\n",
    "$\\displaystyle\\min_{\\vec{w}} f(\\vec{w}) = \\frac{1}{2}\\vec{w}^TA\\vec{w}-\\vec{b}^T\\vec{w}$\n",
    "\n",
    "As in the case of steepest gradient descent, this algorithm is iterative. However, instead of following the direction of maximum gradient we teack at each iteration a direction which is A-orthogonal with that of the previous iterations. This allows the algorithm to converge more directly towards the minimum. In fact, it is guaranteed that the algorithm will take at most $n$ steps, where $n$ is the dimensionality of $w$.\n",
    "\n",
    "This notebook applies gradient descent to the linear regression case, which can be easily expressed in terms of the conjugate gradient descent algorithm:\n",
    "\n",
    "$\\begin{array}{lll} A & = & X^TX \\\\ w & = & \\beta \\\\ b & = & X^TY \\end{array}$"
   ]
  },
  {
   "cell_type": "code",
   "execution_count": 3,
   "metadata": {},
   "outputs": [],
   "source": [
    "# Produce dataset\n",
    "xlim = [-1, 2]\n",
    "b0 = 0.6\n",
    "b1 = 1.7\n",
    "n = 11\n",
    "x = np.linspace(xlim[0], xlim[1], n)\n",
    "y = b1 * x + b0 + np.random.rand(n)"
   ]
  },
  {
   "cell_type": "code",
   "execution_count": 4,
   "metadata": {},
   "outputs": [],
   "source": [
    "# Starting point (b0, b1)\n",
    "current_params = [2.5, -7]"
   ]
  },
  {
   "cell_type": "code",
   "execution_count": 5,
   "metadata": {},
   "outputs": [],
   "source": [
    "# Initialisation - this variables are mainly used to display the loss function plot\n",
    "granularity = 1000\n",
    "p1lim = [-10, 10]\n",
    "p2lim = [-10, 10]\n",
    "p1 = np.linspace(p1lim[0], p1lim[1], granularity)\n",
    "p2 = np.linspace(p2lim[0], p2lim[1], granularity)\n",
    "p1p1, p2p2 = np.meshgrid(p1, p2)"
   ]
  },
  {
   "cell_type": "code",
   "execution_count": 6,
   "metadata": {},
   "outputs": [],
   "source": [
    "# Calculate the loss function between p1lim and p2lim\n",
    "xp = np.vstack((np.ones((1, x.shape[0])), x)).T\n",
    "b = np.vstack((p1p1.flatten(), p2p2.flatten()))\n",
    "yp = np.dot(xp, b)\n",
    "yl = np.repeat(y, granularity * granularity) \\\n",
    "       .reshape(y.shape[0], granularity * granularity)\n",
    "l = np.mean(np.power(yl - yp, 2), axis = 0).reshape(granularity, granularity)"
   ]
  },
  {
   "cell_type": "code",
   "execution_count": 7,
   "metadata": {},
   "outputs": [],
   "source": [
    "# Initialising the arrays in the system of linear equations\n",
    "X = np.vstack([np.ones(x.shape[0]), x]).T\n",
    "A = np.dot(X.T, X)\n",
    "b = np.dot(X.T, y)"
   ]
  },
  {
   "cell_type": "code",
   "execution_count": 8,
   "metadata": {},
   "outputs": [
    {
     "data": {
      "text/plain": [
       "array([0.91503294, 1.71820459])"
      ]
     },
     "execution_count": 8,
     "metadata": {},
     "output_type": "execute_result"
    }
   ],
   "source": [
    "# Testing that we get a sensible value of (beta_0, beta_1)\n",
    "beta = np.dot(np.linalg.inv(A), b)\n",
    "beta"
   ]
  },
  {
   "cell_type": "code",
   "execution_count": 9,
   "metadata": {
    "scrolled": true
   },
   "outputs": [],
   "source": [
    "# Linear conjugate gradient implementation\n",
    "w = [np.array(current_params[:])]\n",
    "r = b - np.dot(A, np.array(current_params))\n",
    "d = r\n",
    "while True:\n",
    "    r_prev = r\n",
    "    s = np.dot(r.T, r) / np.dot(np.dot(d.T, A), d)\n",
    "    w.append(list(np.array(w[-1]) + s * d)[:])\n",
    "    r = b - np.dot(A, np.array(w[-1]))\n",
    "    beta = np.dot(r.T, r) / np.dot(r_prev.T, r_prev)\n",
    "    prev_d = d\n",
    "    if np.sum(np.abs(r)) < 0.0001:\n",
    "        break\n",
    "    d = r + beta * d"
   ]
  },
  {
   "cell_type": "markdown",
   "metadata": {},
   "source": [
    "Notice how at each iteration the algorithm descends as much possible in the corresponding direction before switching to an A-ortoghonal direction:"
   ]
  },
  {
   "cell_type": "code",
   "execution_count": 10,
   "metadata": {},
   "outputs": [
    {
     "data": {
      "text/plain": [
       "[<matplotlib.lines.Line2D at 0x7fa51a0320d0>]"
      ]
     },
     "execution_count": 10,
     "metadata": {},
     "output_type": "execute_result"
    },
    {
     "data": {
      "image/png": "[encoded data removed]",
      "text/plain": [
       "<Figure size 432x288 with 1 Axes>"
      ]
     },
     "metadata": {
      "needs_background": "light"
     },
     "output_type": "display_data"
    }
   ],
   "source": [
    "# Plot loss 2d and the gradient descent iterations\n",
    "fig, ax = plt.subplots()\n",
    "ax.contourf(p1, p2, l, cmap = cm.coolwarm, alpha = 0.5)\n",
    "ax.set_xlabel('b0')\n",
    "ax.set_ylabel('b1')\n",
    "plt.plot(np.array(w)[:, 0], np.array(w)[:, 1], 'r-o')"
   ]
  },
  {
   "cell_type": "markdown",
   "metadata": {},
   "source": [
    "## Non-linear conjugate gradient descent\n",
    "\n",
    "Contrary to linear conjugate gradient descent, non-linear conjugate gradient descent is used to optimise a non-linear function using its gradient alone. This works when the function is quadratic around the minimum, which is the case when the loss function is twice differentiable and the second derivative is non-singular at the minimum. \n",
    "\n",
    "I will use the algorithm to optimise a Syblinski-Tang regression model (see the previous notebook).\n",
    "\n",
    "The implemented algorithm is described here: https://en.wikipedia.org/wiki/Nonlinear_conjugate_gradient_method. It is based on the line search algorithm, which backtracking version can be seen here: https://en.wikipedia.org/wiki/Backtracking_line_search.\n",
    "\n",
    "If the function to optimise is not quadratic (like in the case of this example) we are not ensured that the algorithm will converge in d iterations, were d is the data dimensionality. Furthermore, we may lose conjugacy. Therefore, it is required to reset the direction to that of the steepest gradient regularly."
   ]
  },
  {
   "cell_type": "code",
   "execution_count": 11,
   "metadata": {},
   "outputs": [],
   "source": [
    "# Gradient descent initialisation\n",
    "DIVERGENCE_VALUE = 10\n",
    "MAX_ITERATIONS = 10000\n",
    "STOP_THRESHOLD = 0.0001"
   ]
  },
  {
   "cell_type": "code",
   "execution_count": 12,
   "metadata": {},
   "outputs": [],
   "source": [
    "# Produce dataset\n",
    "B1 = -2.91\n",
    "B2 = -2.91\n",
    "N = 100\n",
    "x = np.array(range(1, N + 1))\n",
    "y = (np.power(B1, 4) - 16 * np.power(B1, 2) + 5 * B1) * x\n",
    "y = y + (np.power(B2, 4) - 16 * np.power(B2, 2) + 5 * B2) * x\n",
    "y = 0.5 * y + 100 * np.random.rand(N)"
   ]
  },
  {
   "cell_type": "code",
   "execution_count": 13,
   "metadata": {},
   "outputs": [],
   "source": [
    "# Starting point (b0, b1)\n",
    "current_params = [-1, 0]"
   ]
  },
  {
   "cell_type": "code",
   "execution_count": 14,
   "metadata": {},
   "outputs": [],
   "source": [
    "# Initialisation - this variables are mainly used to display the loss function plot\n",
    "granularity = 1000\n",
    "p1lim = [-4, 4]\n",
    "p2lim = [-4, 4]\n",
    "p1 = np.linspace(p1lim[0], p1lim[1], granularity)\n",
    "p2 = np.linspace(p2lim[0], p2lim[1], granularity)\n",
    "p1p1, p2p2 = np.meshgrid(p1, p2)"
   ]
  },
  {
   "cell_type": "code",
   "execution_count": 15,
   "metadata": {},
   "outputs": [],
   "source": [
    "# Calculate the loss function between p1lim and p2lim\n",
    "xp = np.vstack((x, x)).T\n",
    "b = np.vstack((p1p1.flatten(), p2p2.flatten()))\n",
    "b = np.power(b, 4) - 16 * np.power(b, 2) + 5 * b\n",
    "yp = 0.5 * np.dot(xp, b)\n",
    "yl = np.repeat(y, granularity * granularity).reshape(y.shape[0], granularity * granularity)\n",
    "l = np.mean(np.power(yl - yp, 2), axis = 0).reshape(granularity, granularity)"
   ]
  },
  {
   "cell_type": "code",
   "execution_count": 16,
   "metadata": {},
   "outputs": [],
   "source": [
    "# Auxiliary function to calculate gradient\n",
    "def calculate_gradient(x, y, current_params):\n",
    "    # Both derivatives share the rightmost part\n",
    "    diff = 0\n",
    "    for i in range(2):\n",
    "        diff = diff +  (current_params[i] ** 4 - 16 * current_params[i] ** 2 + 5 * current_params[i]) * x\n",
    "    diff = y - 0.5 * diff\n",
    "    # Partial derivative with respect to b_1\n",
    "    d_b1 = -np.mean(np.multiply(x, \n",
    "                                np.multiply(4 * current_params[0] ** 3 - 32 * current_params[0] + 5, \n",
    "                                            diff)))\n",
    "    # Partial derivative with respect to b_2\n",
    "    d_b2 = -np.mean(np.multiply(x, \n",
    "                                np.multiply(4 * current_params[1] ** 3 - 32 * current_params[1] + 5, \n",
    "                                            diff)))\n",
    "\n",
    "    return [d_b1, d_b2]"
   ]
  },
  {
   "cell_type": "code",
   "execution_count": 17,
   "metadata": {},
   "outputs": [],
   "source": [
    "# Auxiliary function for backtracking line search\n",
    "def line_search(current_params, gradient, beta):\n",
    "    current_params = np.array(current_params)\n",
    "    \n",
    "    def _f(params):\n",
    "        b = np.power(params, 4) - 16 * np.power(params, 2) + 5 * np.array(params)\n",
    "        yp = 0.5 * np.dot(xp, b)\n",
    "        return np.mean(np.power(y - yp, 2), axis = 0)\n",
    "        \n",
    "    t = 1.0\n",
    "    #while _f(current_params - t * gradient) > _f(current_params) - \\\n",
    "    #                                          t/2.0 * norm(gradient, ord = 2) ** 2:\n",
    "    u = gradient / np.linalg.norm(gradient) # Gradient direction\n",
    "    alpha = 0.5\n",
    "    while _f(current_params) - \\\n",
    "          _f(current_params + t * u) < \\\n",
    "          - alpha * t * np.dot(gradient, u):\n",
    "        t = t * beta\n",
    "        \n",
    "    return t"
   ]
  },
  {
   "cell_type": "code",
   "execution_count": 18,
   "metadata": {
    "scrolled": true
   },
   "outputs": [
    {
     "name": "stdout",
     "output_type": "stream",
     "text": [
      "5.611400205870814e-16\n"
     ]
    }
   ],
   "source": [
    "# Non-linear conjugate gradient implementation\n",
    "w = [np.array(current_params[:])]\n",
    "# FIRST ITERATION\n",
    "# In the first iteration we used the direction of maximum gradient\n",
    "gradient = np.array(calculate_gradient(x, y, current_params))\n",
    "t = line_search(current_params, gradient, 0.9)\n",
    "current_params = list(np.array(w[-1]) - t * np.array(gradient))[:]\n",
    "# FOLLOWING ITERATIONS\n",
    "# Initialisation\n",
    "prev_s = gradient\n",
    "prev_grad = np.array(gradient)\n",
    "it = 0\n",
    "\n",
    "while it == 0 or (np.sum(np.abs(np.array(current_params) - np.array(w[-1]))) > STOP_THRESHOLD and \\\n",
    "                  np.all(np.array(current_params) - np.array(w[-1]) < DIVERGENCE_VALUE) and \\\n",
    "                  it < MAX_ITERATIONS):\n",
    "    w.append(current_params)\n",
    "    it = it + 1\n",
    "    # 1 Calculate the steepest direction\n",
    "    gradient = np.array(calculate_gradient(x, y, current_params))\n",
    "    # 2 Compute the beta value to find the conjugate direction\n",
    "    beta = np.dot(gradient, gradient - prev_grad) / (np.dot(prev_grad, prev_grad))\n",
    "    beta = max(0, beta) # This ensures a reset when conjugacy is lost \n",
    "    # 3 Update the conjugate direction \n",
    "    s = gradient + beta * prev_grad\n",
    "    # 4 Line search\n",
    "    # This function has a very steep gradient, we need a beta value\n",
    "    # that is very close to 1\n",
    "    t = line_search(current_params, gradient, 0.999)\n",
    "    print(t)\n",
    "    current_params = list(np.array(w[-1]) - t * np.array(gradient))[:]\n",
    "    prev_s = s\n",
    "    prev_grad = gradient\n",
    "w.append(current_params)"
   ]
  },
  {
   "cell_type": "code",
   "execution_count": 19,
   "metadata": {},
   "outputs": [
    {
     "name": "stdout",
     "output_type": "stream",
     "text": [
      "3 iterations\n",
      "Minimum at [-1.0000000063203731, -9.576322725272122e-10]\n"
     ]
    },
    {
     "data": {
      "image/png": "[encoded data removed]",
      "text/plain": [
       "<Figure size 432x288 with 1 Axes>"
      ]
     },
     "metadata": {
      "needs_background": "light"
     },
     "output_type": "display_data"
    }
   ],
   "source": [
    "# Plot loss 2d and the gradient descent iterations\n",
    "fig, ax = plt.subplots()\n",
    "ax.contourf(p1, p2, l, cmap = cm.coolwarm, alpha = 0.5)\n",
    "ax.set_xlabel('b0')\n",
    "ax.set_ylabel('b1')\n",
    "plt.plot(np.array(w)[:, 0], np.array(w)[:, 1], 'r-o')\n",
    "print(str(len(w)) + ' iterations')\n",
    "print('Minimum at ' + str(w[-1]))"
   ]
  }
 ],
 "metadata": {
  "kernelspec": {
   "display_name": "Python 3",
   "language": "python",
   "name": "python3"
  },
  "language_info": {
   "codemirror_mode": {
    "name": "ipython",
    "version": 3
   },
   "file_extension": ".py",
   "mimetype": "text/x-python",
   "name": "python",
   "nbconvert_exporter": "python",
   "pygments_lexer": "ipython3",
   "version": "3.8.3"
  }
 },
 "nbformat": 4,
 "nbformat_minor": 4
}
