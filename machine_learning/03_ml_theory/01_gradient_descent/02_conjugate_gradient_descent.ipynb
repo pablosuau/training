{
 "cells": [
  {
   "cell_type": "code",
   "execution_count": 22,
   "metadata": {},
   "outputs": [],
   "source": [
    "import numpy as np\n",
    "import matplotlib.pyplot as plt\n",
    "from matplotlib import cm\n",
    "from math import sqrt"
   ]
  },
  {
   "cell_type": "code",
   "execution_count": 3,
   "metadata": {},
   "outputs": [],
   "source": [
    "np.random.seed(1)"
   ]
  },
  {
   "cell_type": "code",
   "execution_count": 4,
   "metadata": {},
   "outputs": [],
   "source": [
    "# Produce dataset\n",
    "xlim = [-1, 2]\n",
    "b0 = 0.6\n",
    "b1 = 1.7\n",
    "n = 11\n",
    "x = np.linspace(xlim[0], xlim[1], n)\n",
    "y = b1 * x + b0 + np.random.rand(n)"
   ]
  },
  {
   "cell_type": "code",
   "execution_count": 5,
   "metadata": {},
   "outputs": [],
   "source": [
    "current_params = [2.5, -7]"
   ]
  },
  {
   "cell_type": "code",
   "execution_count": 6,
   "metadata": {},
   "outputs": [],
   "source": [
    "# Calculate gradient\n",
    "# Partial derivative with respect to b_1\n",
    "d_b1 = np.mean(np.multiply(-2 * x, y - current_params[0] - current_params[1] * x))\n",
    "# Partial derivative with respect to b_0\n",
    "d_b0 = np.mean(-2 * (y - current_params[0] - current_params[1] * x))"
   ]
  },
  {
   "cell_type": "code",
   "execution_count": 7,
   "metadata": {},
   "outputs": [
    {
     "data": {
      "text/plain": [
       "(-18.466903495932787, -5.548270471315975)"
      ]
     },
     "execution_count": 7,
     "metadata": {},
     "output_type": "execute_result"
    }
   ],
   "source": [
    "(d_b1, d_b0)"
   ]
  },
  {
   "cell_type": "code",
   "execution_count": 8,
   "metadata": {},
   "outputs": [],
   "source": [
    "# Init\n",
    "granularity = 1000\n",
    "p1lim = [-10, 10]\n",
    "p2lim = [-10, 10]\n",
    "p1 = np.linspace(p1lim[0], p1lim[1], granularity)\n",
    "p2 = np.linspace(p2lim[0], p2lim[1], granularity)\n",
    "p1p1, p2p2 = np.meshgrid(p1, p2)"
   ]
  },
  {
   "cell_type": "code",
   "execution_count": 11,
   "metadata": {},
   "outputs": [],
   "source": [
    "# Calculate loss 2d\n",
    "params = None\n",
    "\n",
    "xp = np.vstack((np.ones((1, x.shape[0])), x)).T\n",
    "if params is None:\n",
    "    b = np.vstack((p1p1.flatten(), p2p2.flatten()))\n",
    "    yp = np.dot(xp, b)\n",
    "    yl = np.repeat(y, granularity * granularity) \\\n",
    "           .reshape(y.shape[0], granularity * granularity)\n",
    "    l = np.mean(np.power(yl - yp, 2), axis = 0).reshape(granularity, granularity)\n",
    "else:\n",
    "    yp = np.dot(xp, params)"
   ]
  },
  {
   "cell_type": "code",
   "execution_count": 25,
   "metadata": {},
   "outputs": [
    {
     "data": {
      "text/plain": [
       "[0.2877379800435559, 0.9577091702810695]"
      ]
     },
     "execution_count": 25,
     "metadata": {},
     "output_type": "execute_result"
    }
   ],
   "source": [
    "norm = sqrt(d_b0 ** 2 + d_b1 ** 2)\n",
    "unit_gradient = [-d_b0 / norm, -d_b1 / norm]\n",
    "unit_gradient"
   ]
  },
  {
   "cell_type": "code",
   "execution_count": 26,
   "metadata": {},
   "outputs": [
    {
     "data": {
      "text/plain": [
       "[<matplotlib.lines.Line2D at 0x135976b20>]"
      ]
     },
     "execution_count": 26,
     "metadata": {},
     "output_type": "execute_result"
    },
    {
     "data": {
      "image/png": "[encoded data removed]",
      "text/plain": [
       "<Figure size 432x288 with 1 Axes>"
      ]
     },
     "metadata": {
      "needs_background": "light"
     },
     "output_type": "display_data"
    }
   ],
   "source": [
    "# plot loss 2d\n",
    "fig, ax = plt.subplots()\n",
    "ax.contourf(p1, p2, l, cmap = cm.coolwarm, alpha = 0.5)\n",
    "ax.set_xlabel('b0')\n",
    "ax.set_ylabel('b1')\n",
    "plt.plot(current_params[0], current_params[1], 'ro')\n",
    "plt.plot([current_params[0], current_params[0] + unit_gradient[0]],\n",
    "         [current_params[1], current_params[1] + unit_gradient[1]],\n",
    "         'r')"
   ]
  },
  {
   "cell_type": "code",
   "execution_count": null,
   "metadata": {},
   "outputs": [],
   "source": []
  }
 ],
 "metadata": {
  "kernelspec": {
   "display_name": "Python 3",
   "language": "python",
   "name": "python3"
  },
  "language_info": {
   "codemirror_mode": {
    "name": "ipython",
    "version": 3
   },
   "file_extension": ".py",
   "mimetype": "text/x-python",
   "name": "python",
   "nbconvert_exporter": "python",
   "pygments_lexer": "ipython3",
   "version": "3.8.3"
  }
 },
 "nbformat": 4,
 "nbformat_minor": 4
}
