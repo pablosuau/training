{
 "cells": [
  {
   "cell_type": "code",
   "execution_count": 1,
   "metadata": {},
   "outputs": [],
   "source": [
    "import numpy as np\n",
    "import matplotlib.pyplot as plt\n",
    "from scipy.special import logit\n",
    "from abc import ABC, abstractmethod\n",
    "from matplotlib import cm"
   ]
  },
  {
   "cell_type": "code",
   "execution_count": 2,
   "metadata": {},
   "outputs": [],
   "source": [
    "np.random.seed(1)"
   ]
  },
  {
   "cell_type": "code",
   "execution_count": 3,
   "metadata": {},
   "outputs": [],
   "source": [
    "class AbstractLoss(ABC):\n",
    " \n",
    "    def __init__(self, p1lim, p2lim, granularity = 1000):\n",
    "        # Storing parameters\n",
    "        self.granularity = granularity\n",
    "        # Preprocess data\n",
    "        self.p1 = np.linspace(p1lim[0], p1lim[1], granularity)\n",
    "        self.p2 = np.linspace(p2lim[0], p2lim[1], granularity)\n",
    "        self.p1p1, self.p2p2 = np.meshgrid(self.p1, self.p2)\n",
    "        \n",
    "        super().__init__()\n",
    "    \n",
    "    @abstractmethod\n",
    "    def produce_dataset(self):\n",
    "        pass\n",
    "    \n",
    "    @abstractmethod\n",
    "    def calculate_loss_2D(self):\n",
    "        pass\n",
    "    \n",
    "    @abstractmethod\n",
    "    def _plot_model(self, *args):\n",
    "        pass\n",
    "    \n",
    "    def plot_loss_2D(self):\n",
    "        fig, ax = plt.subplots()\n",
    "        ax.contourf(self.p1, self.p2, self.l, cmap = cm.coolwarm, alpha = 0.5)\n",
    "        ax.set_xlabel(self.param_names[0])\n",
    "        ax.set_ylabel(self.param_names[1])\n",
    "        \n",
    "        return fig, ax\n",
    "        \n",
    "    def gridsearch_loss_2D(self):\n",
    "        fig, ax = self.plot_loss_2D()\n",
    "        \n",
    "        minimum = np.unravel_index(np.argmin(self.l), self.l.shape)\n",
    "        print('Gridsearch minimum:')\n",
    "        print(self.param_names[0] + ': ' + str(self.p1p1[minimum]))\n",
    "        print(self.param_names[1] + ': ' + str(self.p2p2[minimum]))\n",
    "        print('Loss function value: ' + str(self.l[minimum]))\n",
    "        ax.plot(self.p1p1[minimum], \n",
    "                self.p2p2[minimum], \n",
    "                markerfacecolor='red', \n",
    "                markeredgecolor='red', \n",
    "                marker='o', \n",
    "                markersize = 5)\n",
    "        \n",
    "        self._plot_model(self.p1p1[minimum], self.p2p2[minimum])"
   ]
  },
  {
   "cell_type": "code",
   "execution_count": 4,
   "metadata": {},
   "outputs": [],
   "source": [
    "class LinearRegressionLoss(AbstractLoss):\n",
    "    def __init__(self, xlim, b0, b1, n, p1lim, p2lim, granularity = 1000):\n",
    "        super().__init__(p1lim, p2lim, granularity)\n",
    "        self.param_names = ['b0', 'b1']\n",
    "        self.xlim = xlim\n",
    "        self.b0 = b0\n",
    "        self.b1 = b1\n",
    "        self.n = n\n",
    "        \n",
    "    def produce_dataset(self):\n",
    "        self.x = np.linspace(self.xlim[0], self.xlim[1], self.n)\n",
    "        self.y = self.b1 * self.x + self.b0 + np.random.rand(self.n)\n",
    "        \n",
    "    def calculate_loss_2D(self):\n",
    "        b = np.vstack((self.p1p1.flatten(), self.p2p2.flatten()))\n",
    "        xp = np.vstack((np.ones((1, self.x.shape[0])), self.x)).T\n",
    "        yp = np.dot(xp, b)\n",
    "        yl = np.repeat(self.y, self.granularity * self.granularity) \\\n",
    "               .reshape(self.y.shape[0], self.granularity * self.granularity)\n",
    "        self.l = np.mean(np.power(yl - yp, 2), axis = 0).reshape(self.granularity, self.granularity)\n",
    "        \n",
    "    def _plot_model(self, *args):\n",
    "        fig, ax = plt.subplots()\n",
    "        ax.plot(self.x, self.y, 'o')\n",
    "        ax.plot(self.x, self.x * args[1] + args[0])\n",
    "        ax.set_title('beta_0 = ' + str(args[0].round(2)) + ', beta_1 = ' + str(args[1].round(2)))"
   ]
  },
  {
   "cell_type": "code",
   "execution_count": 5,
   "metadata": {},
   "outputs": [],
   "source": [
    "class LogisticRegressionLoss(AbstractLoss):\n",
    "    def __init__(self, mu1, std1, n1, mu2, std2, n2, p1lim, p2lim, granularity = 1000):\n",
    "        super().__init__(p1lim, p2lim, granularity)\n",
    "        self.param_names = ['b0', 'b1']\n",
    "        self.mu1 = mu1\n",
    "        self.std1 = std1\n",
    "        self.n1 = n1\n",
    "        self.mu2 = mu2\n",
    "        self.std2 = std2\n",
    "        self.n2 = n2\n",
    "        \n",
    "    def produce_dataset(self):\n",
    "        self.x = np.hstack((np.random.normal(loc = self.mu1, scale = self.std1, size = self.n1),\n",
    "                            np.random.normal(loc = self.mu2, scale = self.std2, size = self.n2)))\n",
    "        self.y = np.hstack((np.zeros(self.n1), np.ones(self.n2)))\n",
    "        \n",
    "    def calculate_loss_2D(self):\n",
    "        b = np.vstack((self.p1p1.flatten(), self.p2p2.flatten()))\n",
    "        xp = np.vstack((np.ones((1, self.x.shape[0])), self.x)).T\n",
    "        yp = np.exp(np.dot(xp, b))/(1 + np.exp(np.dot(xp, b)))\n",
    "        yl = np.repeat(self.y, self.granularity * self.granularity) \\\n",
    "               .reshape(self.y.shape[0], self.granularity * self.granularity)\n",
    "\n",
    "        # Taking the negative of the loss function so it becomes a minimisation problem\n",
    "        self.l = -np.prod(np.multiply(np.power(yp, yl), np.power(1 - yp, 1 - yl)), axis = 0) \\\n",
    "                    .reshape(self.granularity, self.granularity)\n",
    "        \n",
    "    def _plot_model(self, *args):\n",
    "        fig, ax = plt.subplots()\n",
    "        \n",
    "        ax.plot(self.x, self.y, 'o')\n",
    "        \n",
    "        if self.mu1 < self.mu2:\n",
    "            mu1, mu2, std1, std2 = self.mu1, self.mu2, self.std1, self.std2\n",
    "        else:\n",
    "            mu1, mu2, std1, std2 = self.mu2, self.mu1, self.std1, self.std1\n",
    "        xl = np.linspace(mu1 - 3 * std1, mu2 + 3 * std2, self.granularity)\n",
    "        p = np.exp(xl * args[1] + args[0]) / (1 + np.exp(xl * args[1] + args[0]))\n",
    "        ax.plot(xl, p)"
   ]
  },
  {
   "cell_type": "markdown",
   "metadata": {},
   "source": [
    "## Linear regression"
   ]
  },
  {
   "cell_type": "markdown",
   "metadata": {},
   "source": [
    "Note: the estimation of b_0 and b_1 may differ from the constants due to the introduced noise. "
   ]
  },
  {
   "cell_type": "code",
   "execution_count": 6,
   "metadata": {},
   "outputs": [],
   "source": [
    "lrl = LinearRegressionLoss(xlim = [-1, 2],\n",
    "                           b0 = 0.6,\n",
    "                           b1 = 1.7,\n",
    "                           n = 11,\n",
    "                           p1lim = [-10, 10],\n",
    "                           p2lim = [-10, 10])"
   ]
  },
  {
   "cell_type": "code",
   "execution_count": 7,
   "metadata": {},
   "outputs": [],
   "source": [
    "lrl.produce_dataset()"
   ]
  },
  {
   "cell_type": "code",
   "execution_count": 8,
   "metadata": {},
   "outputs": [],
   "source": [
    "lrl.calculate_loss_2D()"
   ]
  },
  {
   "cell_type": "code",
   "execution_count": 9,
   "metadata": {},
   "outputs": [
    {
     "data": {
      "image/png": "[encoded data removed]",
      "text/plain": [
       "<Figure size 432x288 with 1 Axes>"
      ]
     },
     "metadata": {
      "needs_background": "light"
     },
     "output_type": "display_data"
    }
   ],
   "source": [
    "_ = lrl.plot_loss_2D()"
   ]
  },
  {
   "cell_type": "code",
   "execution_count": 10,
   "metadata": {},
   "outputs": [
    {
     "name": "stdout",
     "output_type": "stream",
     "text": [
      "Gridsearch minimum:\n",
      "b0: 0.9109109109109106\n",
      "b1: 1.711711711711711\n",
      "Loss function value: 0.039441269435046916\n"
     ]
    },
    {
     "data": {
      "image/png": "[encoded data removed]",
      "text/plain": [
       "<Figure size 432x288 with 1 Axes>"
      ]
     },
     "metadata": {
      "needs_background": "light"
     },
     "output_type": "display_data"
    },
    {
     "data": {
      "image/png": "[encoded data removed]",
      "text/plain": [
       "<Figure size 432x288 with 1 Axes>"
      ]
     },
     "metadata": {
      "needs_background": "light"
     },
     "output_type": "display_data"
    }
   ],
   "source": [
    "lrl.gridsearch_loss_2D()"
   ]
  },
  {
   "cell_type": "markdown",
   "metadata": {},
   "source": [
    "## Logistic regression"
   ]
  },
  {
   "cell_type": "code",
   "execution_count": 11,
   "metadata": {},
   "outputs": [],
   "source": [
    "lgl = LogisticRegressionLoss(mu1 = -1,\n",
    "                             std1 = 2,\n",
    "                             n1 = 10,\n",
    "                             mu2 = 1,\n",
    "                             std2 = 2,\n",
    "                             n2 = 10,\n",
    "                             p1lim = [-1.5, 0.9],\n",
    "                             p2lim = [0, 1.7])"
   ]
  },
  {
   "cell_type": "code",
   "execution_count": 12,
   "metadata": {},
   "outputs": [],
   "source": [
    "lgl.produce_dataset()"
   ]
  },
  {
   "cell_type": "code",
   "execution_count": 13,
   "metadata": {},
   "outputs": [],
   "source": [
    "lgl.calculate_loss_2D()"
   ]
  },
  {
   "cell_type": "code",
   "execution_count": 14,
   "metadata": {},
   "outputs": [
    {
     "data": {
      "image/png": "[encoded data removed]",
      "text/plain": [
       "<Figure size 432x288 with 1 Axes>"
      ]
     },
     "metadata": {
      "needs_background": "light"
     },
     "output_type": "display_data"
    }
   ],
   "source": [
    "_ = lgl.plot_loss_2D()"
   ]
  },
  {
   "cell_type": "code",
   "execution_count": 15,
   "metadata": {},
   "outputs": [
    {
     "name": "stdout",
     "output_type": "stream",
     "text": [
      "Gridsearch minimum:\n",
      "b0: -0.25555555555555554\n",
      "b1: 0.7538538538538538\n",
      "Loss function value: -4.057962040203876e-05\n"
     ]
    },
    {
     "data": {
      "image/png": "[encoded data removed]",
      "text/plain": [
       "<Figure size 432x288 with 1 Axes>"
      ]
     },
     "metadata": {
      "needs_background": "light"
     },
     "output_type": "display_data"
    },
    {
     "data": {
      "image/png": "[encoded data removed]",
      "text/plain": [
       "<Figure size 432x288 with 1 Axes>"
      ]
     },
     "metadata": {
      "needs_background": "light"
     },
     "output_type": "display_data"
    }
   ],
   "source": [
    "lgl.gridsearch_loss_2D()"
   ]
  },
  {
   "cell_type": "markdown",
   "metadata": {},
   "source": [
    "## Test function (local minima)\n",
    "\n",
    "Styblinski-Tang function - https://www.sfu.ca/~ssurjano/stybtang.html\n",
    "\n",
    "Partial derivatives https://es.symbolab.com/solver/partial-derivative-calculator/\n",
    "\n",
    "Minimum at (-3, -3)"
   ]
  },
  {
   "cell_type": "code",
   "execution_count": 16,
   "metadata": {},
   "outputs": [
    {
     "name": "stdout",
     "output_type": "stream",
     "text": [
      "-2.9079079079079078\n",
      "-2.9079079079079078\n",
      "-78.33166883281663\n"
     ]
    },
    {
     "data": {
      "text/plain": [
       "[<matplotlib.lines.Line2D at 0x199072cd348>]"
      ]
     },
     "execution_count": 16,
     "metadata": {},
     "output_type": "execute_result"
    },
    {
     "data": {
      "image/png": "[encoded data removed]",
      "text/plain": [
       "<Figure size 432x288 with 1 Axes>"
      ]
     },
     "metadata": {
      "needs_background": "light"
     },
     "output_type": "display_data"
    }
   ],
   "source": [
    "granularity = 1000\n",
    "x = np.linspace(-5, 5, granularity)\n",
    "y = np.linspace(-5, 5, granularity)\n",
    "X, Y = np.meshgrid(x, y)\n",
    "X = X.flatten()\n",
    "Y = Y.flatten()\n",
    "\n",
    "L = (0.5 * ((np.power(X, 4) - 16 * np.power(X, 2) + 5 * X) + (np.power(Y, 4) - 16 * np.power(Y, 2) + 5 * Y))).reshape(granularity, granularity)\n",
    "\n",
    "X = X.reshape(granularity, granularity)\n",
    "Y = Y.reshape(granularity, granularity)\n",
    "\n",
    "fig, ax = plt.subplots()\n",
    "ax.contourf(X, Y, L, cmap = cm.coolwarm, alpha = 0.5)\n",
    "\n",
    "ax.set_xlabel('x')\n",
    "ax.set_ylabel('y')\n",
    "\n",
    "minimum = np.unravel_index(np.argmin(L), L.shape)\n",
    "print(X[minimum])\n",
    "print(Y[minimum])\n",
    "print(L[minimum])\n",
    "ax.plot(X[minimum], Y[minimum], markerfacecolor='red', markeredgecolor='red', marker='o', markersize = 5)"
   ]
  },
  {
   "cell_type": "code",
   "execution_count": null,
   "metadata": {},
   "outputs": [],
   "source": []
  }
 ],
 "metadata": {
  "kernelspec": {
   "display_name": "Python 3",
   "language": "python",
   "name": "python3"
  },
  "language_info": {
   "codemirror_mode": {
    "name": "ipython",
    "version": 3
   },
   "file_extension": ".py",
   "mimetype": "text/x-python",
   "name": "python",
   "nbconvert_exporter": "python",
   "pygments_lexer": "ipython3",
   "version": "3.7.5"
  }
 },
 "nbformat": 4,
 "nbformat_minor": 2
}
