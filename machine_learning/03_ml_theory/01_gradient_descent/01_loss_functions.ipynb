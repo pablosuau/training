{
 "cells": [
  {
   "cell_type": "code",
   "execution_count": 1,
   "metadata": {},
   "outputs": [],
   "source": [
    "import numpy as np\n",
    "import matplotlib.pyplot as plt\n",
    "from matplotlib import cm"
   ]
  },
  {
   "cell_type": "code",
   "execution_count": 2,
   "metadata": {},
   "outputs": [],
   "source": [
    "B1 = 1.2\n",
    "B0 = 0.6"
   ]
  },
  {
   "cell_type": "code",
   "execution_count": 3,
   "metadata": {},
   "outputs": [],
   "source": [
    "x = np.linspace(0, 10, 11)\n",
    "y = B1 * x + B0"
   ]
  },
  {
   "cell_type": "code",
   "execution_count": 4,
   "metadata": {},
   "outputs": [
    {
     "data": {
      "text/plain": [
       "[<matplotlib.lines.Line2D at 0x207f5374ac8>]"
      ]
     },
     "execution_count": 4,
     "metadata": {},
     "output_type": "execute_result"
    },
    {
     "data": {
      "image/png": "[encoded data removed]",
      "text/plain": [
       "<Figure size 432x288 with 1 Axes>"
      ]
     },
     "metadata": {
      "needs_background": "light"
     },
     "output_type": "display_data"
    }
   ],
   "source": [
    "plt.plot(x, y, 'o')"
   ]
  },
  {
   "cell_type": "code",
   "execution_count": 5,
   "metadata": {},
   "outputs": [
    {
     "name": "stdout",
     "output_type": "stream",
     "text": [
      "0.6506506506506504\n",
      "1.1911911911911908\n"
     ]
    },
    {
     "data": {
      "text/plain": [
       "[<matplotlib.lines.Line2D at 0x207f7962e48>]"
      ]
     },
     "execution_count": 5,
     "metadata": {},
     "output_type": "execute_result"
    },
    {
     "data": {
      "image/png": "[encoded data removed]",
      "text/plain": [
       "<Figure size 432x288 with 1 Axes>"
      ]
     },
     "metadata": {
      "needs_background": "light"
     },
     "output_type": "display_data"
    }
   ],
   "source": [
    "granularity = 1000\n",
    "b0_p = np.linspace(-10, 10, granularity)\n",
    "b1_p = np.linspace(-10, 10, granularity)\n",
    "B0_P, B1_P = np.meshgrid(b0_p, b1_p)\n",
    "B = np.vstack((B1_P.flatten(), B0_P.flatten()))\n",
    "X = np.vstack((x, np.ones((1, x.shape[0])))).T\n",
    "Y_p = np.dot(X, B)\n",
    "Y = np.repeat(y, granularity * granularity).reshape(y.shape[0], granularity * granularity)\n",
    "L = np.sum(np.power(Y - Y_p, 2), axis = 0).reshape(granularity, granularity)\n",
    "\n",
    "fig, ax = plt.subplots()\n",
    "\n",
    "ax.contourf(B0_P, B1_P, L, cmap=cm.coolwarm, alpha = 0.5)\n",
    "\n",
    "ax.set_xlabel('b0_p')\n",
    "ax.set_ylabel('b1_p')\n",
    "\n",
    "minimum = np.unravel_index(np.argmin(L), L.shape)\n",
    "print(B0_P[minimum])\n",
    "print(B1_P[minimum])\n",
    "ax.plot(B0_P[minimum], B1_P[minimum], markerfacecolor='red', markeredgecolor='red', marker='o', markersize=5)"
   ]
  },
  {
   "cell_type": "code",
   "execution_count": 6,
   "metadata": {},
   "outputs": [],
   "source": [
    "x = np.linspace(0, 10, 11)\n",
    "y = B1 * x + B0 + np.random.rand(11) * 5"
   ]
  },
  {
   "cell_type": "code",
   "execution_count": 7,
   "metadata": {},
   "outputs": [
    {
     "data": {
      "text/plain": [
       "[<matplotlib.lines.Line2D at 0x20785c1e588>]"
      ]
     },
     "execution_count": 7,
     "metadata": {},
     "output_type": "execute_result"
    },
    {
     "data": {
      "image/png": "[encoded data removed]",
      "text/plain": [
       "<Figure size 432x288 with 1 Axes>"
      ]
     },
     "metadata": {
      "needs_background": "light"
     },
     "output_type": "display_data"
    }
   ],
   "source": [
    "plt.plot(x, y, 'o')"
   ]
  },
  {
   "cell_type": "code",
   "execution_count": 8,
   "metadata": {},
   "outputs": [
    {
     "name": "stdout",
     "output_type": "stream",
     "text": [
      "2.2722722722722715\n",
      "1.2712712712712708\n"
     ]
    },
    {
     "data": {
      "text/plain": [
       "[<matplotlib.lines.Line2D at 0x20785bf92c8>]"
      ]
     },
     "execution_count": 8,
     "metadata": {},
     "output_type": "execute_result"
    },
    {
     "data": {
      "image/png": "[encoded data removed]",
      "text/plain": [
       "<Figure size 432x288 with 1 Axes>"
      ]
     },
     "metadata": {
      "needs_background": "light"
     },
     "output_type": "display_data"
    }
   ],
   "source": [
    "granularity = 1000\n",
    "b0_p = np.linspace(-10, 10, granularity)\n",
    "b1_p = np.linspace(-10, 10, granularity)\n",
    "B0_P, B1_P = np.meshgrid(b0_p, b1_p)\n",
    "B = np.vstack((B1_P.flatten(), B0_P.flatten()))\n",
    "X = np.vstack((x, np.ones((1, x.shape[0])))).T\n",
    "Y_p = np.dot(X, B)\n",
    "Y = np.repeat(y, granularity * granularity).reshape(y.shape[0], granularity * granularity)\n",
    "L = np.sum(np.power(Y - Y_p, 2), axis = 0).reshape(granularity, granularity)\n",
    "\n",
    "fig, ax = plt.subplots()\n",
    "\n",
    "ax.contourf(B0_P, B1_P, L, cmap=cm.coolwarm, alpha = 0.5, zorder = 0)\n",
    "\n",
    "ax.set_xlabel('b0_p')\n",
    "ax.set_ylabel('b1_p')\n",
    "\n",
    "minimum = np.unravel_index(np.argmin(L), L.shape)\n",
    "print(B0_P[minimum])\n",
    "print(B1_P[minimum])\n",
    "ax.plot(B0_P[minimum], B1_P[minimum], markerfacecolor='red', markeredgecolor='red', marker='o', markersize=5, zorder = 10)"
   ]
  },
  {
   "cell_type": "code",
   "execution_count": null,
   "metadata": {},
   "outputs": [],
   "source": []
  }
 ],
 "metadata": {
  "kernelspec": {
   "display_name": "Python 3",
   "language": "python",
   "name": "python3"
  },
  "language_info": {
   "codemirror_mode": {
    "name": "ipython",
    "version": 3
   },
   "file_extension": ".py",
   "mimetype": "text/x-python",
   "name": "python",
   "nbconvert_exporter": "python",
   "pygments_lexer": "ipython3",
   "version": "3.7.5"
  }
 },
 "nbformat": 4,
 "nbformat_minor": 2
}
