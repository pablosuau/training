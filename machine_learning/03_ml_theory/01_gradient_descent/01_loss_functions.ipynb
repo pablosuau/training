{
 "cells": [
  {
   "cell_type": "code",
   "execution_count": 1,
   "metadata": {},
   "outputs": [],
   "source": [
    "import sys\n",
    "import numpy as np\n",
    "import matplotlib.pyplot as plt\n",
    "from scipy.special import logit\n",
    "from abc import ABC, abstractmethod\n",
    "from matplotlib import cm"
   ]
  },
  {
   "cell_type": "code",
   "execution_count": 2,
   "metadata": {},
   "outputs": [],
   "source": [
    "np.random.seed(1)"
   ]
  },
  {
   "cell_type": "code",
   "execution_count": 3,
   "metadata": {},
   "outputs": [],
   "source": [
    "class AbstractLoss(ABC):\n",
    " \n",
    "    def __init__(self, p1lim, p2lim, granularity = 1000):\n",
    "        # Storing parameters\n",
    "        self.granularity = granularity\n",
    "        # Preprocess data\n",
    "        self.p1 = np.linspace(p1lim[0], p1lim[1], granularity)\n",
    "        self.p2 = np.linspace(p2lim[0], p2lim[1], granularity)\n",
    "        self.p1p1, self.p2p2 = np.meshgrid(self.p1, self.p2)\n",
    "        \n",
    "        super().__init__()\n",
    "        \n",
    "    @abstractmethod\n",
    "    def _calculate_gradient(self, x, y, current_params):\n",
    "        pass\n",
    "    \n",
    "    @abstractmethod\n",
    "    def produce_dataset(self):\n",
    "        pass\n",
    "    \n",
    "    @abstractmethod\n",
    "    # Grid approximation if params = None, otherwise, calculate for a specific combination of parameters\n",
    "    def calculate_loss_2D(self, params = None):\n",
    "        pass\n",
    "    \n",
    "    @abstractmethod\n",
    "    def _plot_model(self, *args):\n",
    "        pass\n",
    "    \n",
    "    def _plot_gradient_descent_2D(self, values):\n",
    "        fig, ax = self.plot_loss_2D() \n",
    "        ax.plot(values[:, 0], \n",
    "                values[:, 1], \n",
    "                marker = 'x', \n",
    "                linestyle = '-', \n",
    "                edgecolor = 'r', \n",
    "                markerfacecolor = 'r', markeredgecolor = 'r') \n",
    "    \n",
    "    def plot_loss_2D(self):\n",
    "        fig, ax = plt.subplots()\n",
    "        ax.contourf(self.p1, self.p2, self.l, cmap = cm.coolwarm, alpha = 0.5)\n",
    "        ax.set_xlabel(self.param_names[0])\n",
    "        ax.set_ylabel(self.param_names[1])\n",
    "        \n",
    "        return fig, ax\n",
    "    \n",
    "    def plot_loss_1D(self, axis, index):\n",
    "        fig, ax = plt.subplots()\n",
    "        if axis == 0:\n",
    "            self.l1d = self.l[index, :]\n",
    "            x = self.p1\n",
    "            param = self.param_names[0]\n",
    "            other = self.param_names[1] + ' = ' + str(self.p2[index])\n",
    "        elif axis == 1:\n",
    "            self.l1d = self.l[:, index]\n",
    "            x = self.p2\n",
    "            param = self.param_names[1]\n",
    "            other = self.param_names[0] + ' = ' + str(self.p1[index])\n",
    "        else:\n",
    "            raise ValueError('Incorrect axis value')\n",
    "            \n",
    "        ax.plot(x, self.l1d)\n",
    "        ax.set_xlabel(param)\n",
    "        ax.set_ylabel('loss')\n",
    "        ax.set_title(other)\n",
    "        \n",
    "        return fig, ax\n",
    "        \n",
    "    def gridsearch_loss_2D(self):\n",
    "        fig, ax = self.plot_loss_2D()\n",
    "        \n",
    "        minimum = np.unravel_index(np.argmin(self.l), self.l.shape)\n",
    "        print('Gridsearch minimum:')\n",
    "        print(self.param_names[0] + ': ' + str(self.p1p1[minimum]))\n",
    "        print(self.param_names[1] + ': ' + str(self.p2p2[minimum]))\n",
    "        print('Loss function value: ' + str(self.l[minimum]))\n",
    "        ax.plot(self.p1p1[minimum], \n",
    "                self.p2p2[minimum], \n",
    "                markerfacecolor = 'red', \n",
    "                markeredgecolor = 'red', \n",
    "                marker = 'x', \n",
    "                markersize = 5)\n",
    "        \n",
    "        self._plot_model(self.p1p1[minimum], self.p2p2[minimum])\n",
    "        \n",
    "    def gridsearch_loss_1D(self, axis, index):\n",
    "        fig, ax = self.plot_loss_1D(axis, index)\n",
    "        \n",
    "        # The incorrect index calue exception is already raised in the plot_loss_1D function\n",
    "        if axis == 0:\n",
    "            x = self.p1\n",
    "            name = self.param_names[0]\n",
    "        else:\n",
    "            x = self.p2\n",
    "            name = self.param_names[1]\n",
    "            \n",
    "        minimum = np.argmin(self.l1d)\n",
    "        print('Gridsearch minimum:')\n",
    "        print(name + ': ' + str(x[minimum]))\n",
    "        print('Loss function value: ' + str(self.l1d[minimum]))\n",
    "        ax.plot(x[minimum], \n",
    "                self.l1d[minimum], \n",
    "                markerfacecolor = 'red',\n",
    "                markeredgecolor = 'red', \n",
    "                marker = 'o', \n",
    "                markersize = 5)\n",
    "        \n",
    "    def _plot_gradient_descent(self, values):\n",
    "        pass\n",
    "        \n",
    "    def steepest_gradient_descend_2D(self, \n",
    "                                     initial_p1_index,\n",
    "                                     initial_p2_index,\n",
    "                                     learning_rate = 0.01, \n",
    "                                     stop_threshold = 0.0001):\n",
    "        \n",
    "        params_history = [[initial_p1_index + stop_threshold, initial_p2_index + stop_threshold]]\n",
    "        current_params = [initial_p1_index, initial_p2_index]\n",
    "        \n",
    "        while np.sum(np.abs(np.array(current_params) - np.array(params_history[-1]))) > stop_threshold:\n",
    "            params_history.append(current_params)\n",
    "            current_params = (np.array(current_params) - \\\n",
    "                              learning_rate * np.array(self._calculate_gradient(self.x, \n",
    "                                                                                self.y, \n",
    "                                                                                current_params))).tolist()\n",
    "            \n",
    "        print('Steepest gradient descent (' +  str(len(params_history)) + ' iterations):')\n",
    "        print(self.param_names[0] + ': ' + str(current_params[0]))\n",
    "        print(self.param_names[1] + ': ' + str(current_params[1]))\n",
    "        print('Loss function value: ' + str(self.calculate_loss_2D(current_params)))\n",
    "        \n",
    "        self._plot_gradient_descent_2D(np.array(params_history[1:]))"
   ]
  },
  {
   "cell_type": "markdown",
   "metadata": {},
   "source": [
    "$L = (y - \\beta_0 - \\beta_1 x)^2$\n",
    "\n",
    "$\\frac{\\partial L}{\\partial b_1} = -2x(y - \\beta_0 - \\beta_1 x)$\n",
    "\n",
    "$\\frac{\\partial L}{\\partial b_0} = -2(y - \\beta_0 - \\beta_1 x)$"
   ]
  },
  {
   "cell_type": "code",
   "execution_count": 4,
   "metadata": {},
   "outputs": [],
   "source": [
    "class LinearRegressionLoss(AbstractLoss):\n",
    "    def __init__(self, xlim, b0, b1, n, p1lim, p2lim, granularity = 1000):\n",
    "        super().__init__(p1lim, p2lim, granularity)\n",
    "        self.param_names = ['b0', 'b1']\n",
    "        self.xlim = xlim\n",
    "        self.b0 = b0\n",
    "        self.b1 = b1\n",
    "        self.n = n\n",
    "        \n",
    "    def _calculate_gradient(self, x, y, current_params):\n",
    "        # Partial derivative with respect to b_1\n",
    "        d_b1 = np.mean(np.multiply(-2 * x, y - current_params[0] - current_params[1] * x))\n",
    "        # Partial derivative with respect to b_0\n",
    "        d_b0 = np.mean(-2 * (y - current_params[0] - current_params[1] * x))\n",
    "\n",
    "        return [d_b0, d_b1]\n",
    "        \n",
    "    def produce_dataset(self):\n",
    "        self.x = np.linspace(self.xlim[0], self.xlim[1], self.n)\n",
    "        self.y = self.b1 * self.x + self.b0 + np.random.rand(self.n)\n",
    "        \n",
    "    def calculate_loss_2D(self, params = None):\n",
    "        xp = np.vstack((np.ones((1, self.x.shape[0])), self.x)).T\n",
    "        if params is None:\n",
    "            b = np.vstack((self.p1p1.flatten(), self.p2p2.flatten()))\n",
    "            yp = np.dot(xp, b)\n",
    "            yl = np.repeat(self.y, self.granularity * self.granularity) \\\n",
    "                   .reshape(self.y.shape[0], self.granularity * self.granularity)\n",
    "            self.l = np.mean(np.power(yl - yp, 2), axis = 0).reshape(self.granularity, self.granularity)\n",
    "        else:\n",
    "            yp = np.dot(xp, params)\n",
    "            return np.mean(np.power(self.y - yp, 2), axis = 0)\n",
    "            \n",
    "        \n",
    "    def _plot_model(self, *args):\n",
    "        fig, ax = plt.subplots()\n",
    "        ax.plot(self.x, self.y, 'o')\n",
    "        ax.plot(self.x, self.x * args[1] + args[0])\n",
    "        ax.set_title('beta_0 = ' + str(args[0].round(2)) + ', beta_1 = ' + str(args[1].round(2)))"
   ]
  },
  {
   "cell_type": "code",
   "execution_count": 5,
   "metadata": {},
   "outputs": [],
   "source": [
    "class LogisticRegressionLoss(AbstractLoss):\n",
    "    def __init__(self, mu1, std1, n1, mu2, std2, n2, p1lim, p2lim, granularity = 1000):\n",
    "        super().__init__(p1lim, p2lim, granularity)\n",
    "        self.param_names = ['b0', 'b1']\n",
    "        self.mu1 = mu1\n",
    "        self.std1 = std1\n",
    "        self.n1 = n1\n",
    "        self.mu2 = mu2\n",
    "        self.std2 = std2\n",
    "        self.n2 = n2\n",
    "        \n",
    "    def produce_dataset(self):\n",
    "        self.x = np.hstack((np.random.normal(loc = self.mu1, scale = self.std1, size = self.n1),\n",
    "                            np.random.normal(loc = self.mu2, scale = self.std2, size = self.n2)))\n",
    "        self.y = np.hstack((np.zeros(self.n1), np.ones(self.n2)))\n",
    "        \n",
    "    def calculate_loss_2D(self, params = None):\n",
    "        b = np.vstack((self.p1p1.flatten(), self.p2p2.flatten()))\n",
    "        xp = np.vstack((np.ones((1, self.x.shape[0])), self.x)).T\n",
    "        yp = np.exp(np.dot(xp, b))/(1 + np.exp(np.dot(xp, b)))\n",
    "        yl = np.repeat(self.y, self.granularity * self.granularity) \\\n",
    "               .reshape(self.y.shape[0], self.granularity * self.granularity)\n",
    "\n",
    "        # Taking the negative of the loss function so it becomes a minimisation problem\n",
    "        self.l = -np.prod(np.multiply(np.power(yp, yl), np.power(1 - yp, 1 - yl)), axis = 0) \\\n",
    "                    .reshape(self.granularity, self.granularity)\n",
    "        \n",
    "    def _plot_model(self, *args):\n",
    "        fig, ax = plt.subplots()\n",
    "        \n",
    "        ax.plot(self.x, self.y, 'o')\n",
    "        \n",
    "        if self.mu1 < self.mu2:\n",
    "            mu1, mu2, std1, std2 = self.mu1, self.mu2, self.std1, self.std2\n",
    "        else:\n",
    "            mu1, mu2, std1, std2 = self.mu2, self.mu1, self.std1, self.std1\n",
    "        xl = np.linspace(mu1 - 3 * std1, mu2 + 3 * std2, self.granularity)\n",
    "        p = np.exp(xl * args[1] + args[0]) / (1 + np.exp(xl * args[1] + args[0]))\n",
    "        ax.plot(xl, p)"
   ]
  },
  {
   "cell_type": "code",
   "execution_count": 6,
   "metadata": {},
   "outputs": [],
   "source": [
    "class StyblinskiTangLoss(AbstractLoss):\n",
    "    def __init__(self, p1lim, p2lim, granularity = 1000):\n",
    "        super().__init__(p1lim, p2lim, granularity)\n",
    "        self.param_names = ['x', 'y']\n",
    "        \n",
    "    def produce_dataset(self):\n",
    "        pass\n",
    "        \n",
    "    def calculate_loss_2D(self, params = None):\n",
    "        xp, yp = np.meshgrid(self.p1, self.p2)\n",
    "        xp, yp = xp.flatten(), yp.flatten()\n",
    "\n",
    "        self.l = (0.5 * ((np.power(xp, 4) - 16 * np.power(xp, 2) + 5 * xp) + \\\n",
    "                         (np.power(yp, 4) - 16 * np.power(yp, 2) + 5 * yp))).reshape(self.granularity, self.granularity)\n",
    "        \n",
    "    def _plot_model(self, *args):\n",
    "        pass"
   ]
  },
  {
   "cell_type": "markdown",
   "metadata": {},
   "source": [
    "## Linear regression"
   ]
  },
  {
   "cell_type": "markdown",
   "metadata": {},
   "source": [
    "Note: the estimation of b_0 and b_1 may differ from the constants due to the introduced noise. "
   ]
  },
  {
   "cell_type": "code",
   "execution_count": 7,
   "metadata": {},
   "outputs": [],
   "source": [
    "lrl = LinearRegressionLoss(xlim = [-1, 2],\n",
    "                           b0 = 0.6,\n",
    "                           b1 = 1.7,\n",
    "                           n = 11,\n",
    "                           p1lim = [-10, 10],\n",
    "                           p2lim = [-10, 10])"
   ]
  },
  {
   "cell_type": "code",
   "execution_count": 8,
   "metadata": {},
   "outputs": [],
   "source": [
    "lrl.produce_dataset()"
   ]
  },
  {
   "cell_type": "code",
   "execution_count": 9,
   "metadata": {},
   "outputs": [],
   "source": [
    "lrl.calculate_loss_2D()"
   ]
  },
  {
   "cell_type": "code",
   "execution_count": 10,
   "metadata": {},
   "outputs": [
    {
     "data": {
      "image/png": "[encoded data removed]",
      "text/plain": [
       "<Figure size 432x288 with 1 Axes>"
      ]
     },
     "metadata": {
      "needs_background": "light"
     },
     "output_type": "display_data"
    }
   ],
   "source": [
    "_ = lrl.plot_loss_2D()"
   ]
  },
  {
   "cell_type": "code",
   "execution_count": 11,
   "metadata": {},
   "outputs": [
    {
     "name": "stdout",
     "output_type": "stream",
     "text": [
      "Gridsearch minimum:\n",
      "b0: 0.9109109109109106\n",
      "b1: 1.711711711711711\n",
      "Loss function value: 0.039441269435046916\n"
     ]
    },
    {
     "data": {
      "image/png": "[encoded data removed]",
      "text/plain": [
       "<Figure size 432x288 with 1 Axes>"
      ]
     },
     "metadata": {
      "needs_background": "light"
     },
     "output_type": "display_data"
    },
    {
     "data": {
      "image/png": "[encoded data removed]",
      "text/plain": [
       "<Figure size 432x288 with 1 Axes>"
      ]
     },
     "metadata": {
      "needs_background": "light"
     },
     "output_type": "display_data"
    }
   ],
   "source": [
    "lrl.gridsearch_loss_2D()"
   ]
  },
  {
   "cell_type": "code",
   "execution_count": 12,
   "metadata": {},
   "outputs": [
    {
     "name": "stdout",
     "output_type": "stream",
     "text": [
      "Gridsearch minimum:\n",
      "b0: 0.9109109109109106\n",
      "Loss function value: 0.039520696360734214\n"
     ]
    },
    {
     "data": {
      "image/png": "[encoded data removed]",
      "text/plain": [
       "<Figure size 432x288 with 1 Axes>"
      ]
     },
     "metadata": {
      "needs_background": "light"
     },
     "output_type": "display_data"
    }
   ],
   "source": [
    "lrl.gridsearch_loss_1D(0, 586)"
   ]
  },
  {
   "cell_type": "code",
   "execution_count": 13,
   "metadata": {
    "scrolled": false
   },
   "outputs": [
    {
     "name": "stdout",
     "output_type": "stream",
     "text": [
      "Steepest gradient descent (80 iterations):\n",
      "b0: 0.9154041416233974\n",
      "b1: 1.7178849158515777\n",
      "Loss function value: 0.039349170037375675\n"
     ]
    },
    {
     "ename": "ValueError",
     "evalue": "Unrecognized marker style 'rx'",
     "output_type": "error",
     "traceback": [
      "\u001b[1;31m---------------------------------------------------------------------------\u001b[0m",
      "\u001b[1;31mValueError\u001b[0m                                Traceback (most recent call last)",
      "\u001b[1;32m~\\Anaconda3\\lib\\site-packages\\matplotlib\\markers.py\u001b[0m in \u001b[0;36mset_marker\u001b[1;34m(self, marker)\u001b[0m\n\u001b[0;32m    308\u001b[0m             \u001b[1;32mtry\u001b[0m\u001b[1;33m:\u001b[0m\u001b[1;33m\u001b[0m\u001b[1;33m\u001b[0m\u001b[0m\n\u001b[1;32m--> 309\u001b[1;33m                 \u001b[0mPath\u001b[0m\u001b[1;33m(\u001b[0m\u001b[0mmarker\u001b[0m\u001b[1;33m)\u001b[0m\u001b[1;33m\u001b[0m\u001b[1;33m\u001b[0m\u001b[0m\n\u001b[0m\u001b[0;32m    310\u001b[0m                 \u001b[0mself\u001b[0m\u001b[1;33m.\u001b[0m\u001b[0m_marker_function\u001b[0m \u001b[1;33m=\u001b[0m \u001b[0mself\u001b[0m\u001b[1;33m.\u001b[0m\u001b[0m_set_vertices\u001b[0m\u001b[1;33m\u001b[0m\u001b[1;33m\u001b[0m\u001b[0m\n",
      "\u001b[1;32m~\\Anaconda3\\lib\\site-packages\\matplotlib\\path.py\u001b[0m in \u001b[0;36m__init__\u001b[1;34m(self, vertices, codes, _interpolation_steps, closed, readonly)\u001b[0m\n\u001b[0;32m    126\u001b[0m         \"\"\"\n\u001b[1;32m--> 127\u001b[1;33m         \u001b[0mvertices\u001b[0m \u001b[1;33m=\u001b[0m \u001b[0m_to_unmasked_float_array\u001b[0m\u001b[1;33m(\u001b[0m\u001b[0mvertices\u001b[0m\u001b[1;33m)\u001b[0m\u001b[1;33m\u001b[0m\u001b[1;33m\u001b[0m\u001b[0m\n\u001b[0m\u001b[0;32m    128\u001b[0m         \u001b[1;32mif\u001b[0m \u001b[0mvertices\u001b[0m\u001b[1;33m.\u001b[0m\u001b[0mndim\u001b[0m \u001b[1;33m!=\u001b[0m \u001b[1;36m2\u001b[0m \u001b[1;32mor\u001b[0m \u001b[0mvertices\u001b[0m\u001b[1;33m.\u001b[0m\u001b[0mshape\u001b[0m\u001b[1;33m[\u001b[0m\u001b[1;36m1\u001b[0m\u001b[1;33m]\u001b[0m \u001b[1;33m!=\u001b[0m \u001b[1;36m2\u001b[0m\u001b[1;33m:\u001b[0m\u001b[1;33m\u001b[0m\u001b[1;33m\u001b[0m\u001b[0m\n",
      "\u001b[1;32m~\\Anaconda3\\lib\\site-packages\\matplotlib\\cbook\\__init__.py\u001b[0m in \u001b[0;36m_to_unmasked_float_array\u001b[1;34m(x)\u001b[0m\n\u001b[0;32m   1389\u001b[0m     \u001b[1;32melse\u001b[0m\u001b[1;33m:\u001b[0m\u001b[1;33m\u001b[0m\u001b[1;33m\u001b[0m\u001b[0m\n\u001b[1;32m-> 1390\u001b[1;33m         \u001b[1;32mreturn\u001b[0m \u001b[0mnp\u001b[0m\u001b[1;33m.\u001b[0m\u001b[0masarray\u001b[0m\u001b[1;33m(\u001b[0m\u001b[0mx\u001b[0m\u001b[1;33m,\u001b[0m \u001b[0mfloat\u001b[0m\u001b[1;33m)\u001b[0m\u001b[1;33m\u001b[0m\u001b[1;33m\u001b[0m\u001b[0m\n\u001b[0m\u001b[0;32m   1391\u001b[0m \u001b[1;33m\u001b[0m\u001b[0m\n",
      "\u001b[1;32m~\\AppData\\Roaming\\Python\\Python37\\site-packages\\numpy\\core\\_asarray.py\u001b[0m in \u001b[0;36masarray\u001b[1;34m(a, dtype, order)\u001b[0m\n\u001b[0;32m     84\u001b[0m     \"\"\"\n\u001b[1;32m---> 85\u001b[1;33m     \u001b[1;32mreturn\u001b[0m \u001b[0marray\u001b[0m\u001b[1;33m(\u001b[0m\u001b[0ma\u001b[0m\u001b[1;33m,\u001b[0m \u001b[0mdtype\u001b[0m\u001b[1;33m,\u001b[0m \u001b[0mcopy\u001b[0m\u001b[1;33m=\u001b[0m\u001b[1;32mFalse\u001b[0m\u001b[1;33m,\u001b[0m \u001b[0morder\u001b[0m\u001b[1;33m=\u001b[0m\u001b[0morder\u001b[0m\u001b[1;33m)\u001b[0m\u001b[1;33m\u001b[0m\u001b[1;33m\u001b[0m\u001b[0m\n\u001b[0m\u001b[0;32m     86\u001b[0m \u001b[1;33m\u001b[0m\u001b[0m\n",
      "\u001b[1;31mValueError\u001b[0m: could not convert string to float: 'rx'",
      "\nDuring handling of the above exception, another exception occurred:\n",
      "\u001b[1;31mValueError\u001b[0m                                Traceback (most recent call last)",
      "\u001b[1;32m<ipython-input-13-9e5b3fe7780e>\u001b[0m in \u001b[0;36m<module>\u001b[1;34m\u001b[0m\n\u001b[1;32m----> 1\u001b[1;33m \u001b[0mlrl\u001b[0m\u001b[1;33m.\u001b[0m\u001b[0msteepest_gradient_descend_2D\u001b[0m\u001b[1;33m(\u001b[0m\u001b[0mlearning_rate\u001b[0m \u001b[1;33m=\u001b[0m \u001b[1;36m0.1\u001b[0m\u001b[1;33m,\u001b[0m \u001b[0minitial_p1_index\u001b[0m \u001b[1;33m=\u001b[0m \u001b[1;36m2.5\u001b[0m\u001b[1;33m,\u001b[0m \u001b[0minitial_p2_index\u001b[0m \u001b[1;33m=\u001b[0m \u001b[1;33m-\u001b[0m\u001b[1;36m7\u001b[0m\u001b[1;33m)\u001b[0m\u001b[1;33m\u001b[0m\u001b[1;33m\u001b[0m\u001b[0m\n\u001b[0m",
      "\u001b[1;32m<ipython-input-3-0276cde9bcc2>\u001b[0m in \u001b[0;36msteepest_gradient_descend_2D\u001b[1;34m(self, initial_p1_index, initial_p2_index, learning_rate, stop_threshold)\u001b[0m\n\u001b[0;32m    125\u001b[0m         \u001b[0mprint\u001b[0m\u001b[1;33m(\u001b[0m\u001b[1;34m'Loss function value: '\u001b[0m \u001b[1;33m+\u001b[0m \u001b[0mstr\u001b[0m\u001b[1;33m(\u001b[0m\u001b[0mself\u001b[0m\u001b[1;33m.\u001b[0m\u001b[0mcalculate_loss_2D\u001b[0m\u001b[1;33m(\u001b[0m\u001b[0mcurrent_params\u001b[0m\u001b[1;33m)\u001b[0m\u001b[1;33m)\u001b[0m\u001b[1;33m)\u001b[0m\u001b[1;33m\u001b[0m\u001b[1;33m\u001b[0m\u001b[0m\n\u001b[0;32m    126\u001b[0m \u001b[1;33m\u001b[0m\u001b[0m\n\u001b[1;32m--> 127\u001b[1;33m         \u001b[0mself\u001b[0m\u001b[1;33m.\u001b[0m\u001b[0m_plot_gradient_descent_2D\u001b[0m\u001b[1;33m(\u001b[0m\u001b[0mnp\u001b[0m\u001b[1;33m.\u001b[0m\u001b[0marray\u001b[0m\u001b[1;33m(\u001b[0m\u001b[0mparams_history\u001b[0m\u001b[1;33m[\u001b[0m\u001b[1;36m1\u001b[0m\u001b[1;33m:\u001b[0m\u001b[1;33m]\u001b[0m\u001b[1;33m)\u001b[0m\u001b[1;33m)\u001b[0m\u001b[1;33m\u001b[0m\u001b[1;33m\u001b[0m\u001b[0m\n\u001b[0m",
      "\u001b[1;32m<ipython-input-3-0276cde9bcc2>\u001b[0m in \u001b[0;36m_plot_gradient_descent_2D\u001b[1;34m(self, values)\u001b[0m\n\u001b[0;32m     30\u001b[0m     \u001b[1;32mdef\u001b[0m \u001b[0m_plot_gradient_descent_2D\u001b[0m\u001b[1;33m(\u001b[0m\u001b[0mself\u001b[0m\u001b[1;33m,\u001b[0m \u001b[0mvalues\u001b[0m\u001b[1;33m)\u001b[0m\u001b[1;33m:\u001b[0m\u001b[1;33m\u001b[0m\u001b[1;33m\u001b[0m\u001b[0m\n\u001b[0;32m     31\u001b[0m         \u001b[0mfig\u001b[0m\u001b[1;33m,\u001b[0m \u001b[0max\u001b[0m \u001b[1;33m=\u001b[0m \u001b[0mself\u001b[0m\u001b[1;33m.\u001b[0m\u001b[0mplot_loss_2D\u001b[0m\u001b[1;33m(\u001b[0m\u001b[1;33m)\u001b[0m\u001b[1;33m\u001b[0m\u001b[1;33m\u001b[0m\u001b[0m\n\u001b[1;32m---> 32\u001b[1;33m         \u001b[0max\u001b[0m\u001b[1;33m.\u001b[0m\u001b[0mplot\u001b[0m\u001b[1;33m(\u001b[0m\u001b[0mvalues\u001b[0m\u001b[1;33m[\u001b[0m\u001b[1;33m:\u001b[0m\u001b[1;33m,\u001b[0m \u001b[1;36m0\u001b[0m\u001b[1;33m]\u001b[0m\u001b[1;33m,\u001b[0m \u001b[0mvalues\u001b[0m\u001b[1;33m[\u001b[0m\u001b[1;33m:\u001b[0m\u001b[1;33m,\u001b[0m \u001b[1;36m1\u001b[0m\u001b[1;33m]\u001b[0m\u001b[1;33m,\u001b[0m \u001b[0mmarker\u001b[0m \u001b[1;33m=\u001b[0m \u001b[1;34m'rx'\u001b[0m\u001b[1;33m,\u001b[0m \u001b[0mlinestyle\u001b[0m \u001b[1;33m=\u001b[0m \u001b[1;34m'-'\u001b[0m\u001b[1;33m,\u001b[0m \u001b[0medgecolor\u001b[0m \u001b[1;33m=\u001b[0m \u001b[1;34m'r'\u001b[0m\u001b[1;33m)\u001b[0m\u001b[1;33m\u001b[0m\u001b[1;33m\u001b[0m\u001b[0m\n\u001b[0m\u001b[0;32m     33\u001b[0m \u001b[1;33m\u001b[0m\u001b[0m\n\u001b[0;32m     34\u001b[0m     \u001b[1;32mdef\u001b[0m \u001b[0mplot_loss_2D\u001b[0m\u001b[1;33m(\u001b[0m\u001b[0mself\u001b[0m\u001b[1;33m)\u001b[0m\u001b[1;33m:\u001b[0m\u001b[1;33m\u001b[0m\u001b[1;33m\u001b[0m\u001b[0m\n",
      "\u001b[1;32m~\\Anaconda3\\lib\\site-packages\\matplotlib\\axes\\_axes.py\u001b[0m in \u001b[0;36mplot\u001b[1;34m(self, scalex, scaley, data, *args, **kwargs)\u001b[0m\n\u001b[0;32m   1664\u001b[0m         \"\"\"\n\u001b[0;32m   1665\u001b[0m         \u001b[0mkwargs\u001b[0m \u001b[1;33m=\u001b[0m \u001b[0mcbook\u001b[0m\u001b[1;33m.\u001b[0m\u001b[0mnormalize_kwargs\u001b[0m\u001b[1;33m(\u001b[0m\u001b[0mkwargs\u001b[0m\u001b[1;33m,\u001b[0m \u001b[0mmlines\u001b[0m\u001b[1;33m.\u001b[0m\u001b[0mLine2D\u001b[0m\u001b[1;33m.\u001b[0m\u001b[0m_alias_map\u001b[0m\u001b[1;33m)\u001b[0m\u001b[1;33m\u001b[0m\u001b[1;33m\u001b[0m\u001b[0m\n\u001b[1;32m-> 1666\u001b[1;33m         \u001b[0mlines\u001b[0m \u001b[1;33m=\u001b[0m \u001b[1;33m[\u001b[0m\u001b[1;33m*\u001b[0m\u001b[0mself\u001b[0m\u001b[1;33m.\u001b[0m\u001b[0m_get_lines\u001b[0m\u001b[1;33m(\u001b[0m\u001b[1;33m*\u001b[0m\u001b[0margs\u001b[0m\u001b[1;33m,\u001b[0m \u001b[0mdata\u001b[0m\u001b[1;33m=\u001b[0m\u001b[0mdata\u001b[0m\u001b[1;33m,\u001b[0m \u001b[1;33m**\u001b[0m\u001b[0mkwargs\u001b[0m\u001b[1;33m)\u001b[0m\u001b[1;33m]\u001b[0m\u001b[1;33m\u001b[0m\u001b[1;33m\u001b[0m\u001b[0m\n\u001b[0m\u001b[0;32m   1667\u001b[0m         \u001b[1;32mfor\u001b[0m \u001b[0mline\u001b[0m \u001b[1;32min\u001b[0m \u001b[0mlines\u001b[0m\u001b[1;33m:\u001b[0m\u001b[1;33m\u001b[0m\u001b[1;33m\u001b[0m\u001b[0m\n\u001b[0;32m   1668\u001b[0m             \u001b[0mself\u001b[0m\u001b[1;33m.\u001b[0m\u001b[0madd_line\u001b[0m\u001b[1;33m(\u001b[0m\u001b[0mline\u001b[0m\u001b[1;33m)\u001b[0m\u001b[1;33m\u001b[0m\u001b[1;33m\u001b[0m\u001b[0m\n",
      "\u001b[1;32m~\\Anaconda3\\lib\\site-packages\\matplotlib\\axes\\_base.py\u001b[0m in \u001b[0;36m__call__\u001b[1;34m(self, *args, **kwargs)\u001b[0m\n\u001b[0;32m    223\u001b[0m                 \u001b[0mthis\u001b[0m \u001b[1;33m+=\u001b[0m \u001b[0margs\u001b[0m\u001b[1;33m[\u001b[0m\u001b[1;36m0\u001b[0m\u001b[1;33m]\u001b[0m\u001b[1;33m,\u001b[0m\u001b[1;33m\u001b[0m\u001b[1;33m\u001b[0m\u001b[0m\n\u001b[0;32m    224\u001b[0m                 \u001b[0margs\u001b[0m \u001b[1;33m=\u001b[0m \u001b[0margs\u001b[0m\u001b[1;33m[\u001b[0m\u001b[1;36m1\u001b[0m\u001b[1;33m:\u001b[0m\u001b[1;33m]\u001b[0m\u001b[1;33m\u001b[0m\u001b[1;33m\u001b[0m\u001b[0m\n\u001b[1;32m--> 225\u001b[1;33m             \u001b[1;32myield\u001b[0m \u001b[1;32mfrom\u001b[0m \u001b[0mself\u001b[0m\u001b[1;33m.\u001b[0m\u001b[0m_plot_args\u001b[0m\u001b[1;33m(\u001b[0m\u001b[0mthis\u001b[0m\u001b[1;33m,\u001b[0m \u001b[0mkwargs\u001b[0m\u001b[1;33m)\u001b[0m\u001b[1;33m\u001b[0m\u001b[1;33m\u001b[0m\u001b[0m\n\u001b[0m\u001b[0;32m    226\u001b[0m \u001b[1;33m\u001b[0m\u001b[0m\n\u001b[0;32m    227\u001b[0m     \u001b[1;32mdef\u001b[0m \u001b[0mget_next_color\u001b[0m\u001b[1;33m(\u001b[0m\u001b[0mself\u001b[0m\u001b[1;33m)\u001b[0m\u001b[1;33m:\u001b[0m\u001b[1;33m\u001b[0m\u001b[1;33m\u001b[0m\u001b[0m\n",
      "\u001b[1;32m~\\Anaconda3\\lib\\site-packages\\matplotlib\\axes\\_base.py\u001b[0m in \u001b[0;36m_plot_args\u001b[1;34m(self, tup, kwargs)\u001b[0m\n\u001b[0;32m    403\u001b[0m                 \"non-matching shapes is deprecated.\")\n\u001b[0;32m    404\u001b[0m         \u001b[1;32mfor\u001b[0m \u001b[0mj\u001b[0m \u001b[1;32min\u001b[0m \u001b[0mrange\u001b[0m\u001b[1;33m(\u001b[0m\u001b[0mmax\u001b[0m\u001b[1;33m(\u001b[0m\u001b[0mncx\u001b[0m\u001b[1;33m,\u001b[0m \u001b[0mncy\u001b[0m\u001b[1;33m)\u001b[0m\u001b[1;33m)\u001b[0m\u001b[1;33m:\u001b[0m\u001b[1;33m\u001b[0m\u001b[1;33m\u001b[0m\u001b[0m\n\u001b[1;32m--> 405\u001b[1;33m             \u001b[0mseg\u001b[0m \u001b[1;33m=\u001b[0m \u001b[0mfunc\u001b[0m\u001b[1;33m(\u001b[0m\u001b[0mx\u001b[0m\u001b[1;33m[\u001b[0m\u001b[1;33m:\u001b[0m\u001b[1;33m,\u001b[0m \u001b[0mj\u001b[0m \u001b[1;33m%\u001b[0m \u001b[0mncx\u001b[0m\u001b[1;33m]\u001b[0m\u001b[1;33m,\u001b[0m \u001b[0my\u001b[0m\u001b[1;33m[\u001b[0m\u001b[1;33m:\u001b[0m\u001b[1;33m,\u001b[0m \u001b[0mj\u001b[0m \u001b[1;33m%\u001b[0m \u001b[0mncy\u001b[0m\u001b[1;33m]\u001b[0m\u001b[1;33m,\u001b[0m \u001b[0mkw\u001b[0m\u001b[1;33m,\u001b[0m \u001b[0mkwargs\u001b[0m\u001b[1;33m)\u001b[0m\u001b[1;33m\u001b[0m\u001b[1;33m\u001b[0m\u001b[0m\n\u001b[0m\u001b[0;32m    406\u001b[0m             \u001b[0mret\u001b[0m\u001b[1;33m.\u001b[0m\u001b[0mappend\u001b[0m\u001b[1;33m(\u001b[0m\u001b[0mseg\u001b[0m\u001b[1;33m)\u001b[0m\u001b[1;33m\u001b[0m\u001b[1;33m\u001b[0m\u001b[0m\n\u001b[0;32m    407\u001b[0m         \u001b[1;32mreturn\u001b[0m \u001b[0mret\u001b[0m\u001b[1;33m\u001b[0m\u001b[1;33m\u001b[0m\u001b[0m\n",
      "\u001b[1;32m~\\Anaconda3\\lib\\site-packages\\matplotlib\\axes\\_base.py\u001b[0m in \u001b[0;36m_makeline\u001b[1;34m(self, x, y, kw, kwargs)\u001b[0m\n\u001b[0;32m    310\u001b[0m         \u001b[0mdefault_dict\u001b[0m \u001b[1;33m=\u001b[0m \u001b[0mself\u001b[0m\u001b[1;33m.\u001b[0m\u001b[0m_getdefaults\u001b[0m\u001b[1;33m(\u001b[0m\u001b[0mset\u001b[0m\u001b[1;33m(\u001b[0m\u001b[1;33m)\u001b[0m\u001b[1;33m,\u001b[0m \u001b[0mkw\u001b[0m\u001b[1;33m)\u001b[0m\u001b[1;33m\u001b[0m\u001b[1;33m\u001b[0m\u001b[0m\n\u001b[0;32m    311\u001b[0m         \u001b[0mself\u001b[0m\u001b[1;33m.\u001b[0m\u001b[0m_setdefaults\u001b[0m\u001b[1;33m(\u001b[0m\u001b[0mdefault_dict\u001b[0m\u001b[1;33m,\u001b[0m \u001b[0mkw\u001b[0m\u001b[1;33m)\u001b[0m\u001b[1;33m\u001b[0m\u001b[1;33m\u001b[0m\u001b[0m\n\u001b[1;32m--> 312\u001b[1;33m         \u001b[0mseg\u001b[0m \u001b[1;33m=\u001b[0m \u001b[0mmlines\u001b[0m\u001b[1;33m.\u001b[0m\u001b[0mLine2D\u001b[0m\u001b[1;33m(\u001b[0m\u001b[0mx\u001b[0m\u001b[1;33m,\u001b[0m \u001b[0my\u001b[0m\u001b[1;33m,\u001b[0m \u001b[1;33m**\u001b[0m\u001b[0mkw\u001b[0m\u001b[1;33m)\u001b[0m\u001b[1;33m\u001b[0m\u001b[1;33m\u001b[0m\u001b[0m\n\u001b[0m\u001b[0;32m    313\u001b[0m         \u001b[1;32mreturn\u001b[0m \u001b[0mseg\u001b[0m\u001b[1;33m\u001b[0m\u001b[1;33m\u001b[0m\u001b[0m\n\u001b[0;32m    314\u001b[0m \u001b[1;33m\u001b[0m\u001b[0m\n",
      "\u001b[1;32m~\\Anaconda3\\lib\\site-packages\\matplotlib\\lines.py\u001b[0m in \u001b[0;36m__init__\u001b[1;34m(self, xdata, ydata, linewidth, linestyle, color, marker, markersize, markeredgewidth, markeredgecolor, markerfacecolor, markerfacecoloralt, fillstyle, antialiased, dash_capstyle, solid_capstyle, dash_joinstyle, solid_joinstyle, pickradius, drawstyle, markevery, **kwargs)\u001b[0m\n\u001b[0;32m    380\u001b[0m         \u001b[0mself\u001b[0m\u001b[1;33m.\u001b[0m\u001b[0m_color\u001b[0m \u001b[1;33m=\u001b[0m \u001b[1;32mNone\u001b[0m\u001b[1;33m\u001b[0m\u001b[1;33m\u001b[0m\u001b[0m\n\u001b[0;32m    381\u001b[0m         \u001b[0mself\u001b[0m\u001b[1;33m.\u001b[0m\u001b[0mset_color\u001b[0m\u001b[1;33m(\u001b[0m\u001b[0mcolor\u001b[0m\u001b[1;33m)\u001b[0m\u001b[1;33m\u001b[0m\u001b[1;33m\u001b[0m\u001b[0m\n\u001b[1;32m--> 382\u001b[1;33m         \u001b[0mself\u001b[0m\u001b[1;33m.\u001b[0m\u001b[0m_marker\u001b[0m \u001b[1;33m=\u001b[0m \u001b[0mMarkerStyle\u001b[0m\u001b[1;33m(\u001b[0m\u001b[0mmarker\u001b[0m\u001b[1;33m,\u001b[0m \u001b[0mfillstyle\u001b[0m\u001b[1;33m)\u001b[0m\u001b[1;33m\u001b[0m\u001b[1;33m\u001b[0m\u001b[0m\n\u001b[0m\u001b[0;32m    383\u001b[0m \u001b[1;33m\u001b[0m\u001b[0m\n\u001b[0;32m    384\u001b[0m         \u001b[0mself\u001b[0m\u001b[1;33m.\u001b[0m\u001b[0m_markevery\u001b[0m \u001b[1;33m=\u001b[0m \u001b[1;32mNone\u001b[0m\u001b[1;33m\u001b[0m\u001b[1;33m\u001b[0m\u001b[0m\n",
      "\u001b[1;32m~\\Anaconda3\\lib\\site-packages\\matplotlib\\markers.py\u001b[0m in \u001b[0;36m__init__\u001b[1;34m(self, marker, fillstyle)\u001b[0m\n\u001b[0;32m    241\u001b[0m         \u001b[0mself\u001b[0m\u001b[1;33m.\u001b[0m\u001b[0m_marker_function\u001b[0m \u001b[1;33m=\u001b[0m \u001b[1;32mNone\u001b[0m\u001b[1;33m\u001b[0m\u001b[1;33m\u001b[0m\u001b[0m\n\u001b[0;32m    242\u001b[0m         \u001b[0mself\u001b[0m\u001b[1;33m.\u001b[0m\u001b[0mset_fillstyle\u001b[0m\u001b[1;33m(\u001b[0m\u001b[0mfillstyle\u001b[0m\u001b[1;33m)\u001b[0m\u001b[1;33m\u001b[0m\u001b[1;33m\u001b[0m\u001b[0m\n\u001b[1;32m--> 243\u001b[1;33m         \u001b[0mself\u001b[0m\u001b[1;33m.\u001b[0m\u001b[0mset_marker\u001b[0m\u001b[1;33m(\u001b[0m\u001b[0mmarker\u001b[0m\u001b[1;33m)\u001b[0m\u001b[1;33m\u001b[0m\u001b[1;33m\u001b[0m\u001b[0m\n\u001b[0m\u001b[0;32m    244\u001b[0m \u001b[1;33m\u001b[0m\u001b[0m\n\u001b[0;32m    245\u001b[0m     \u001b[1;32mdef\u001b[0m \u001b[0m_recache\u001b[0m\u001b[1;33m(\u001b[0m\u001b[0mself\u001b[0m\u001b[1;33m)\u001b[0m\u001b[1;33m:\u001b[0m\u001b[1;33m\u001b[0m\u001b[1;33m\u001b[0m\u001b[0m\n",
      "\u001b[1;32m~\\Anaconda3\\lib\\site-packages\\matplotlib\\markers.py\u001b[0m in \u001b[0;36mset_marker\u001b[1;34m(self, marker)\u001b[0m\n\u001b[0;32m    311\u001b[0m             \u001b[1;32mexcept\u001b[0m \u001b[0mValueError\u001b[0m\u001b[1;33m:\u001b[0m\u001b[1;33m\u001b[0m\u001b[1;33m\u001b[0m\u001b[0m\n\u001b[0;32m    312\u001b[0m                 raise ValueError('Unrecognized marker style {!r}'\n\u001b[1;32m--> 313\u001b[1;33m                                  .format(marker))\n\u001b[0m\u001b[0;32m    314\u001b[0m \u001b[1;33m\u001b[0m\u001b[0m\n\u001b[0;32m    315\u001b[0m         \u001b[0mself\u001b[0m\u001b[1;33m.\u001b[0m\u001b[0m_marker\u001b[0m \u001b[1;33m=\u001b[0m \u001b[0mmarker\u001b[0m\u001b[1;33m\u001b[0m\u001b[1;33m\u001b[0m\u001b[0m\n",
      "\u001b[1;31mValueError\u001b[0m: Unrecognized marker style 'rx'"
     ]
    },
    {
     "data": {
      "image/png": "[encoded data removed]",
      "text/plain": [
       "<Figure size 432x288 with 1 Axes>"
      ]
     },
     "metadata": {
      "needs_background": "light"
     },
     "output_type": "display_data"
    }
   ],
   "source": [
    "lrl.steepest_gradient_descend_2D(learning_rate = 0.1, initial_p1_index = 2.5, initial_p2_index = -7)"
   ]
  },
  {
   "cell_type": "markdown",
   "metadata": {},
   "source": [
    "## Logistic regression"
   ]
  },
  {
   "cell_type": "code",
   "execution_count": null,
   "metadata": {},
   "outputs": [],
   "source": [
    "lgl = LogisticRegressionLoss(mu1 = -1,\n",
    "                             std1 = 2,\n",
    "                             n1 = 10,\n",
    "                             mu2 = 1,\n",
    "                             std2 = 2,\n",
    "                             n2 = 10,\n",
    "                             p1lim = [-1.5, 0.9],\n",
    "                             p2lim = [0, 1.7])"
   ]
  },
  {
   "cell_type": "code",
   "execution_count": null,
   "metadata": {},
   "outputs": [],
   "source": [
    "lgl.produce_dataset()"
   ]
  },
  {
   "cell_type": "code",
   "execution_count": null,
   "metadata": {},
   "outputs": [],
   "source": [
    "lgl.calculate_loss_2D()"
   ]
  },
  {
   "cell_type": "code",
   "execution_count": null,
   "metadata": {},
   "outputs": [],
   "source": [
    "_ = lgl.plot_loss_2D()"
   ]
  },
  {
   "cell_type": "code",
   "execution_count": null,
   "metadata": {},
   "outputs": [],
   "source": [
    "lgl.gridsearch_loss_2D()"
   ]
  },
  {
   "cell_type": "code",
   "execution_count": null,
   "metadata": {},
   "outputs": [],
   "source": [
    "lgl.gridsearch_loss_1D(0, 443)"
   ]
  },
  {
   "cell_type": "markdown",
   "metadata": {},
   "source": [
    "## Test function (local minima)\n",
    "\n",
    "Styblinski-Tang function - https://www.sfu.ca/~ssurjano/stybtang.html\n",
    "\n",
    "Partial derivatives https://es.symbolab.com/solver/partial-derivative-calculator/\n",
    "\n",
    "Minimum at (-3, -3)"
   ]
  },
  {
   "cell_type": "code",
   "execution_count": null,
   "metadata": {},
   "outputs": [],
   "source": [
    "stl = StyblinskiTangLoss(p1lim = [-5, 5], p2lim = [-5, 5])"
   ]
  },
  {
   "cell_type": "code",
   "execution_count": null,
   "metadata": {},
   "outputs": [],
   "source": [
    "stl.calculate_loss_2D()"
   ]
  },
  {
   "cell_type": "code",
   "execution_count": null,
   "metadata": {},
   "outputs": [],
   "source": [
    "_ = stl.plot_loss_2D()"
   ]
  },
  {
   "cell_type": "code",
   "execution_count": null,
   "metadata": {},
   "outputs": [],
   "source": [
    "stl.gridsearch_loss_2D()"
   ]
  },
  {
   "cell_type": "code",
   "execution_count": null,
   "metadata": {},
   "outputs": [],
   "source": [
    "stl.gridsearch_loss_1D(0, 209)"
   ]
  }
 ],
 "metadata": {
  "kernelspec": {
   "display_name": "Python 3",
   "language": "python",
   "name": "python3"
  },
  "language_info": {
   "codemirror_mode": {
    "name": "ipython",
    "version": 3
   },
   "file_extension": ".py",
   "mimetype": "text/x-python",
   "name": "python",
   "nbconvert_exporter": "python",
   "pygments_lexer": "ipython3",
   "version": "3.7.5"
  }
 },
 "nbformat": 4,
 "nbformat_minor": 2
}
