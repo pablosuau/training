{
 "cells": [
  {
   "cell_type": "code",
   "execution_count": null,
   "metadata": {},
   "outputs": [],
   "source": [
    "import numpy as np\n",
    "import pandas as pd\n",
    "import math\n",
    "import matplotlib.pyplot as plt"
   ]
  },
  {
   "cell_type": "markdown",
   "metadata": {},
   "source": [
    "## Create the toy datasets"
   ]
  },
  {
   "cell_type": "code",
   "execution_count": null,
   "metadata": {},
   "outputs": [],
   "source": [
    "np.random.seed(0)"
   ]
  },
  {
   "cell_type": "code",
   "execution_count": null,
   "metadata": {},
   "outputs": [],
   "source": [
    "def generate_polynomial_dataset(coeffs, width, samples, samples_on_edge):\n",
    "    def _calculate_value(x_i):\n",
    "        return np.sum(np.multiply(np.power(np.repeat(x_i, len(coeffs)), range(len(coeffs))), coeffs))\n",
    "    \n",
    "    x = np.linspace(-10, 10, 100)\n",
    "    boundary = [_calculate_value(x_i) for x_i in x]\n",
    "    margin_1 = [b + width for b in boundary]\n",
    "    margin_2 = [b - width for b in boundary] \n",
    "    \n",
    "    plt.plot(x, boundary, 'r')\n",
    "    plt.plot(x, margin_1, 'r', alpha = 0.3)\n",
    "    plt.plot(x, margin_2, 'r', alpha = 0.3)\n",
    "    \n",
    "    # Generate observations on the edge of the margin\n",
    "    x_1 = []\n",
    "    while len(x_1) < samples_on_edge:\n",
    "        value = np.random.uniform(-10, 10)\n",
    "        x_1.append([value, _calculate_value(value) + width])\n",
    "    value = np.random.uniform(-10, 10)\n",
    "    x_2 = [[value, _calculate_value(value) - width]]\n",
    "    # Generate the rest of the observations\n",
    "    while len(x_1) < samples or len(x_2) < samples:\n",
    "        value_x = np.random.uniform(-10, 10)\n",
    "        value_y = np.random.uniform(min(margin_2), max(margin_1))\n",
    "        if value_y > _calculate_value(value_x) + width:\n",
    "            x_1.append([value_x, value_y])\n",
    "        elif value_y < _calculate_value(value_x) - width:\n",
    "            x_2.append([value_x, value_y])\n",
    "\n",
    "    # Output label\n",
    "    y = np.concatenate((np.repeat(0, len(x_1)), np.repeat(1, len(x_2))))\n",
    "\n",
    "    # Final version of the dataset\n",
    "    x_1.extend(x_2)\n",
    "    dataset = np.array(x_1)\n",
    "    dataset = np.concatenate((dataset, y[:, None]), axis = 1)\n",
    "\n",
    "    _ = plt.plot(dataset[np.where(dataset[:, 2] == 0), 0], \n",
    "                 dataset[np.where(dataset[:, 2] == 0), 1], \n",
    "                 'o',\n",
    "                 color = 'tab:blue')\n",
    "    _ = plt.plot(dataset[np.where(dataset[:, 2] == 1), 0], \n",
    "                 dataset[np.where(dataset[:, 2] == 1), 1],\n",
    "                 'o',\n",
    "                 color = 'tab:orange')\n",
    "    \n",
    "    return dataset"
   ]
  },
  {
   "cell_type": "code",
   "execution_count": null,
   "metadata": {},
   "outputs": [],
   "source": [
    "dataset_1 = generate_polynomial_dataset([-3, 1.7], 2, 10, 1)"
   ]
  },
  {
   "cell_type": "code",
   "execution_count": null,
   "metadata": {},
   "outputs": [],
   "source": [
    "dataset_2 = generate_polynomial_dataset([1, -2.3], 3, 15, 4)"
   ]
  },
  {
   "cell_type": "code",
   "execution_count": null,
   "metadata": {},
   "outputs": [],
   "source": [
    "dataset_3 = generate_polynomial_dataset([0.2, -0.5, 0.3, 0.08, -0.003], 5, 40, 4)"
   ]
  },
  {
   "cell_type": "code",
   "execution_count": null,
   "metadata": {},
   "outputs": [],
   "source": [
    "def generate_gaussian_dataset(params, width, samples, samples_on_edge):\n",
    "    # Not really gaussian data, but a toydataset design to be \n",
    "    # used with a RBF kernel\n",
    "    x = np.linspace(-10, 10, 500)\n",
    "    y = np.linspace(-10, 10, 500)\n",
    "    xv, yv = np.meshgrid(x, y)\n",
    "    \n",
    "    @np.vectorize\n",
    "    def border(x, y, w):\n",
    "        close = []\n",
    "        border = []\n",
    "        for p in range(len(params)):\n",
    "            dist = math.sqrt((params[p][0] - x) ** 2 + (params[p][1] - y) ** 2)\n",
    "            close.append(dist < params[p][2] - w)\n",
    "            border.append(dist == params[p][2] - w)\n",
    "        if np.any(border) and np.all(np.logical_not(close)):\n",
    "            return 0\n",
    "        elif np.any(close):\n",
    "            return 1\n",
    "        else:\n",
    "            return -1\n",
    "    \n",
    "    plt.contour(xv, yv, border(xv, yv, 0), levels = [0], colors = ['r'])\n",
    "    c = plt.contour(xv, yv, border(xv, yv, width), levels = [0], colors = ['r'], alpha = 0.3)\n",
    "    plt.contour(xv, yv, border(xv, yv, -width), levels = [0], colors = ['r'], alpha = 0.3)\n",
    "    \n",
    "    x_1 = []\n",
    "    for i in range(len(c.collections[0].get_paths())):\n",
    "        v = c.collections[0].get_paths()[i].vertices\n",
    "        indices = list(range(v.shape[0]))\n",
    "        np.random.shuffle(indices)\n",
    "        x_1.extend([[v[j, 0], v[j, 1]] for j in indices[:samples_on_edge]])\n",
    "    x_2 = [] \n",
    "    while len(x_1) < samples and len(x_2) < samples:\n",
    "        value_x = np.random.uniform(-10, 10)\n",
    "        value_y = np.random.uniform(-10, 10)\n",
    "        close = False\n",
    "        margin = False\n",
    "        for p in range(len(params)):\n",
    "            dist = math.sqrt((params[p][0] - value_x) ** 2 + (params[p][1] - value_y) ** 2)\n",
    "            if dist < params[p][2]:\n",
    "                close = True\n",
    "            if dist > params[p][2] - width and dist < params[p][2] + width:\n",
    "                margin = True\n",
    "        if not margin:\n",
    "            if close:\n",
    "                x_1.append([value_x, value_y])\n",
    "            else:\n",
    "                x_2.append([value_x, value_y])\n",
    "            \n",
    "     # Output label\n",
    "    y = np.concatenate((np.repeat(0, len(x_1)), np.repeat(1, len(x_2))))\n",
    "\n",
    "    # Final version of the dataset\n",
    "    x_1.extend(x_2)\n",
    "    dataset = np.array(x_1)\n",
    "    dataset = np.concatenate((dataset, y[:, None]), axis = 1)\n",
    "\n",
    "    _ = plt.plot(dataset[np.where(dataset[:, 2] == 0), 0], \n",
    "                 dataset[np.where(dataset[:, 2] == 0), 1], \n",
    "                 'o',\n",
    "                 color = 'tab:blue')\n",
    "    _ = plt.plot(dataset[np.where(dataset[:, 2] == 1), 0], \n",
    "                 dataset[np.where(dataset[:, 2] == 1), 1],\n",
    "                 'o',\n",
    "                 color = 'tab:orange')\n",
    "    \n",
    "    return dataset"
   ]
  },
  {
   "cell_type": "code",
   "execution_count": null,
   "metadata": {
    "scrolled": false
   },
   "outputs": [],
   "source": [
    "params = [[2, 3, 6],\n",
    "          [-2, -4, 3],\n",
    "          [-9, 7.5, 3]]\n",
    "\n",
    "dataset_4 = generate_gaussian_dataset(params, 0.3, 100, 5)"
   ]
  }
 ],
 "metadata": {
  "kernelspec": {
   "display_name": "Python 3",
   "language": "python",
   "name": "python3"
  },
  "language_info": {
   "codemirror_mode": {
    "name": "ipython",
    "version": 3
   },
   "file_extension": ".py",
   "mimetype": "text/x-python",
   "name": "python",
   "nbconvert_exporter": "python",
   "pygments_lexer": "ipython3",
   "version": "3.6.5"
  }
 },
 "nbformat": 4,
 "nbformat_minor": 2
}
