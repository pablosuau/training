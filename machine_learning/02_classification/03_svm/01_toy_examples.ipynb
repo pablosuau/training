{
 "cells": [
  {
   "cell_type": "code",
   "execution_count": null,
   "metadata": {},
   "outputs": [],
   "source": [
    "import numpy as np\n",
    "import pandas as pd\n",
    "import math\n",
    "import matplotlib.pyplot as plt"
   ]
  },
  {
   "cell_type": "markdown",
   "metadata": {},
   "source": [
    "## Create the toy datasets"
   ]
  },
  {
   "cell_type": "code",
   "execution_count": null,
   "metadata": {},
   "outputs": [],
   "source": [
    "np.random.seed(0)"
   ]
  },
  {
   "cell_type": "code",
   "execution_count": null,
   "metadata": {},
   "outputs": [],
   "source": [
    "def generate_linear_dataset(slope, intercept, width, samples, samples_on_edge):\n",
    "    # Plotting the decision boundary and the margin\n",
    "    x = np.linspace(-10, 10, 100)\n",
    "    boundary = x * slope + intercept\n",
    "    margin_1 = x * slope + intercept + width\n",
    "    margin_2 = x * slope + intercept - width\n",
    "    plt.plot(x, boundary, 'r')\n",
    "    plt.plot(x, margin_1, 'r', alpha = 0.5)\n",
    "    plt.plot(x, margin_2, 'r', alpha = 0.5)\n",
    "\n",
    "    # Generate observations on the edge of the margin\n",
    "    x_1 = []\n",
    "    while len(x_1) < samples_on_edge:\n",
    "        value = np.random.uniform(-10, 10)\n",
    "        x_1.append([value, value * slope + intercept + width])\n",
    "    value = np.random.uniform(-10, 10)\n",
    "    x_2 = [[value, value * slope + intercept - width]]\n",
    "    # Generate the rest of the observations\n",
    "    while len(x_1) < samples or len(x_2) < samples:\n",
    "        value_x = np.random.uniform(-10, 10)\n",
    "        value_y = np.random.uniform(min(margin_2), max(margin_1))\n",
    "        if value_y > value_x * slope + intercept + width:\n",
    "            x_1.append([value_x, value_y])\n",
    "        elif value_y < value_x * slope + intercept - width:\n",
    "            x_2.append([value_x, value_y])\n",
    "\n",
    "    # Output label\n",
    "    y = np.concatenate((np.repeat(0, len(x_1)), np.repeat(1, len(x_2))))\n",
    "\n",
    "    # Final version of the dataset\n",
    "    x_1.extend(x_2)\n",
    "    dataset = np.array(x_1)\n",
    "    dataset = np.concatenate((dataset, y[:, None]), axis = 1)\n",
    "\n",
    "    _ = plt.plot(dataset[np.where(dataset[:, 2] == 0), 0], \n",
    "                 dataset[np.where(dataset[:, 2] == 0), 1], \n",
    "                 'o',\n",
    "                 color = 'tab:blue')\n",
    "    _ = plt.plot(dataset[np.where(dataset[:, 2] == 1), 0], \n",
    "                 dataset[np.where(dataset[:, 2] == 1), 1],\n",
    "                 'o',\n",
    "                 color = 'tab:orange')\n",
    "    \n",
    "    return dataset"
   ]
  },
  {
   "cell_type": "code",
   "execution_count": null,
   "metadata": {},
   "outputs": [],
   "source": [
    "dataset_1 = generate_linear_dataset(1.7, -3, 2, 10, 1)"
   ]
  },
  {
   "cell_type": "code",
   "execution_count": null,
   "metadata": {},
   "outputs": [],
   "source": [
    "dataset_2 = generate_linear_dataset(-2.3, 1, 3, 15, 4)"
   ]
  },
  {
   "cell_type": "code",
   "execution_count": null,
   "metadata": {},
   "outputs": [],
   "source": [
    "def generate_polynomial_dataset(coeffs, width, samples):\n",
    "    def _calculate_value(x_i):\n",
    "        return np.sum(np.multiply(np.power(np.repeat(x_i, len(coeffs)), range(len(coeffs))), coeffs))\n",
    "    \n",
    "    x = np.linspace(-10, 10, 100)\n",
    "    boundary = [_calculate_value(x_i) for x_i in x]\n",
    "    margin_1 = [b + width for b in boundary]\n",
    "    margin_2 = [b - width for b in boundary] \n",
    "    \n",
    "    plt.plot(x, boundary, 'r')\n",
    "    plt.plot(x, margin_1, 'r', alpha = 0.5)\n",
    "    plt.plot(x, margin_2, 'r', alpha = 0.5)\n",
    "    \n",
    "    # Generate observations on the edge of the margin\n",
    "    value = np.random.uniform(-10, 10)\n",
    "    x_1 = [[value, _calculate_value(value) + width]]\n",
    "    value = np.random.uniform(-10, 10)\n",
    "    x_2 = [[value, _calculate_value(value) - width]]\n",
    "    # Generate the rest of the observations\n",
    "    while len(x_1) < samples or len(x_2) < samples:\n",
    "        value_x = np.random.uniform(-10, 10)\n",
    "        value_y = np.random.uniform(min(margin_2), max(margin_1))\n",
    "        if value_y > _calculate_value(value_x) + width:\n",
    "            x_1.append([value_x, value_y])\n",
    "        elif value_y < _calculate_value(value_x) - width:\n",
    "            x_2.append([value_x, value_y])\n",
    "\n",
    "    # Output label\n",
    "    y = np.concatenate((np.repeat(0, len(x_1)), np.repeat(1, len(x_2))))\n",
    "\n",
    "    # Final version of the dataset\n",
    "    x_1.extend(x_2)\n",
    "    dataset = np.array(x_1)\n",
    "    dataset = np.concatenate((dataset, y[:, None]), axis = 1)\n",
    "\n",
    "    _ = plt.plot(dataset[np.where(dataset[:, 2] == 0), 0], \n",
    "                 dataset[np.where(dataset[:, 2] == 0), 1], \n",
    "                 'o',\n",
    "                 color = 'tab:blue')\n",
    "    _ = plt.plot(dataset[np.where(dataset[:, 2] == 1), 0], \n",
    "                 dataset[np.where(dataset[:, 2] == 1), 1],\n",
    "                 'o',\n",
    "                 color = 'tab:orange')\n",
    "    \n",
    "    return dataset"
   ]
  },
  {
   "cell_type": "code",
   "execution_count": null,
   "metadata": {},
   "outputs": [],
   "source": [
    "dataset_3 = generate_polynomial_dataset([0.2, -0.5, 0.3, 0.08, -0.003], 10, 40)"
   ]
  },
  {
   "cell_type": "code",
   "execution_count": null,
   "metadata": {},
   "outputs": [],
   "source": []
  }
 ],
 "metadata": {
  "kernelspec": {
   "display_name": "Python 3",
   "language": "python",
   "name": "python3"
  },
  "language_info": {
   "codemirror_mode": {
    "name": "ipython",
    "version": 3
   },
   "file_extension": ".py",
   "mimetype": "text/x-python",
   "name": "python",
   "nbconvert_exporter": "python",
   "pygments_lexer": "ipython3",
   "version": "3.6.5"
  }
 },
 "nbformat": 4,
 "nbformat_minor": 2
}
