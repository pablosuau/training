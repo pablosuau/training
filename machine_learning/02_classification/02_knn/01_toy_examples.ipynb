{
 "cells": [
  {
   "cell_type": "code",
   "execution_count": null,
   "metadata": {},
   "outputs": [],
   "source": [
    "import numpy as np\n",
    "import pandas as pd\n",
    "import math\n",
    "import matplotlib.pyplot as plt"
   ]
  },
  {
   "cell_type": "markdown",
   "metadata": {},
   "source": [
    "In this notebook, I apply k-nearest neighbours classification (KNN) to a toy dataset. KNN is a non-parametric method that works well with data in which the classification boundary is irregular. To that effect, I will first create such type of dataset by randomly splitting the 2D plane by means of an irregular classification border and then sampling some training data. \n",
    "\n",
    "## Create the toy dataset"
   ]
  },
  {
   "cell_type": "markdown",
   "metadata": {},
   "source": []
  },
  {
   "cell_type": "markdown",
   "metadata": {},
   "source": [
    "## Classification\n",
    "\n",
    "KNN is not a generalisation method. In fact, it does not even require training a model. We just need to store the training data. To classify a new observation, we just detect its k-nearest trainining observations and assign the class by means of a voting mechanism. \n",
    "\n",
    "The usual solution is an uniformly weighted one in which all the nearest observations' votes have the same value.\n",
    "\n",
    "The value of k is strongly depending on the data. As we increase the value of k we mitigate more the effect of noise, but the classification borders are less distinct.\n",
    "\n",
    "In this example we observe the effect of increasing the value of k in the test set:\n",
    "\n"
   ]
  },
  {
   "cell_type": "code",
   "execution_count": null,
   "metadata": {},
   "outputs": [],
   "source": []
  },
  {
   "cell_type": "markdown",
   "metadata": {},
   "source": [
    "A weighted approach in which the weight of each neighbour's vote for the classification of the test observation depends on the inverse of the distance from the test observation to the test one is recommended in those cases in which the data is not uniformly sampled. Let's see some classification results as we increase the value of k in the case of the weighted approach. "
   ]
  },
  {
   "cell_type": "code",
   "execution_count": null,
   "metadata": {},
   "outputs": [],
   "source": []
  },
  {
   "cell_type": "markdown",
   "metadata": {},
   "source": [
    "## Model selection\n",
    "\n",
    "In this section we apply model selection to detect the best value of k. In order to do so we apply 10-fold cross validation on the training data. We are considering the uniformly-weighted case. "
   ]
  },
  {
   "cell_type": "code",
   "execution_count": null,
   "metadata": {},
   "outputs": [],
   "source": []
  }
 ],
 "metadata": {
  "kernelspec": {
   "display_name": "Python 3",
   "language": "python",
   "name": "python3"
  },
  "language_info": {
   "codemirror_mode": {
    "name": "ipython",
    "version": 3
   },
   "file_extension": ".py",
   "mimetype": "text/x-python",
   "name": "python",
   "nbconvert_exporter": "python",
   "pygments_lexer": "ipython3",
   "version": "3.6.5"
  }
 },
 "nbformat": 4,
 "nbformat_minor": 2
}
