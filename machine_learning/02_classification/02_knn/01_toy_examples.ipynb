{
 "cells": [
  {
   "cell_type": "code",
   "execution_count": null,
   "metadata": {},
   "outputs": [],
   "source": [
    "import numpy as np\n",
    "import pandas as pd\n",
    "import math\n",
    "import matplotlib.pyplot as plt"
   ]
  },
  {
   "cell_type": "markdown",
   "metadata": {},
   "source": [
    "In this notebook, I apply k-nearest neighbours classification (KNN) to a toy dataset. KNN is a non-parametric method that works well with data in which the classification boundary is irregular. To that effect, I will first create such type of dataset by randomly splitting the 2D plane by means of an irregular classification border and then sampling some training data. \n",
    "\n",
    "## Create the toy dataset"
   ]
  },
  {
   "cell_type": "code",
   "execution_count": null,
   "metadata": {},
   "outputs": [],
   "source": [
    "np.random.seed(0)"
   ]
  },
  {
   "cell_type": "markdown",
   "metadata": {},
   "source": [
    "We use gaussian mixtures to split the 2D space into areas in which each of the two classes in the toy dataset have a higher likelihood. Each class is defined by a mixture of 5 2D Gaussian distributions with random means and identity covariance matrix."
   ]
  },
  {
   "cell_type": "code",
   "execution_count": null,
   "metadata": {},
   "outputs": [],
   "source": [
    "NUMBER_MEANS = 10\n",
    "NUMBER_SAMPLES = 200\n",
    "\n",
    "means_0 = (np.random.random_sample(2 * NUMBER_MEANS) * 10).reshape(NUMBER_MEANS, 2)\n",
    "means_1 = (np.random.random_sample(2 * NUMBER_MEANS) * 10).reshape(NUMBER_MEANS, 2)\n",
    "\n",
    "def pdf_2d_norm(y, x, mean):\n",
    "    dif = np.array([y, x]) - mean\n",
    "    product = np.dot(np.dot(dif.T, np.linalg.inv(np.identity(2))), dif)\n",
    "    return (2 * math.pi) ** (-1) * np.linalg.det(np.identity(2)) ** (-0.5) * math.exp(-0.5 * product)\n",
    "\n",
    "xs = []\n",
    "ys = []\n",
    "labels = []\n",
    "for s in range(NUMBER_SAMPLES):\n",
    "    ys.append((np.random.random_sample(1) * 10)[0])\n",
    "    xs.append((np.random.random_sample(1) * 10)[0])\n",
    "    value_0 = 0\n",
    "    value_1 = 0\n",
    "    for i in range(NUMBER_MEANS):\n",
    "        value_0 = value_0 + pdf_2d_norm(ys[-1], xs[-1], means_0[i, :])\n",
    "        value_1 = value_1 + pdf_2d_norm(ys[-1], xs[-1], means_1[i, :])\n",
    "    labels.append(int(value_1 > value_0))\n",
    "\n",
    "xs = np.array(xs)\n",
    "ys = np.array(ys)\n",
    "labels = np.array(labels)\n",
    "    \n",
    "index_0 = np.where(labels == 0)[0]\n",
    "index_1 = np.where(labels == 1)[0]\n",
    "\n",
    "fig, ax = plt.subplots()\n",
    "ax.scatter(ys[index_0], xs[index_0])\n",
    "ax.scatter(ys[index_1], xs[index_1])"
   ]
  },
  {
   "cell_type": "markdown",
   "metadata": {},
   "source": [
    "## Classification\n",
    "\n",
    "KNN is not a generalisation method. In fact, it does not even require training a model. We just need to store the training data. To classify a new observation, we just detect its k-nearest trainining observations and assign the class by means of a voting mechanism. \n",
    "\n",
    "The usual solution is an uniformly weighted one in which all the nearest observations' votes have the same value.\n",
    "\n",
    "The value of k is strongly depending on the data. As we increase the value of k we mitigate more the effect of noise, but the classification borders are less distinct.\n",
    "\n",
    "In this example we observe the effect of increasing the value of k in the test set:\n",
    "\n"
   ]
  },
  {
   "cell_type": "code",
   "execution_count": null,
   "metadata": {},
   "outputs": [],
   "source": []
  },
  {
   "cell_type": "markdown",
   "metadata": {},
   "source": [
    "A weighted approach in which the weight of each neighbour's vote for the classification of the test observation depends on the inverse of the distance from the test observation to the test one is recommended in those cases in which the data is not uniformly sampled. Let's see some classification results as we increase the value of k in the case of the weighted approach. "
   ]
  },
  {
   "cell_type": "code",
   "execution_count": null,
   "metadata": {},
   "outputs": [],
   "source": []
  },
  {
   "cell_type": "markdown",
   "metadata": {},
   "source": [
    "## Model selection\n",
    "\n",
    "In this section we apply model selection to detect the best value of k. In order to do so we apply 10-fold cross validation on the training data. We are considering the uniformly-weighted case. "
   ]
  },
  {
   "cell_type": "code",
   "execution_count": null,
   "metadata": {},
   "outputs": [],
   "source": []
  }
 ],
 "metadata": {
  "kernelspec": {
   "display_name": "Python 3",
   "language": "python",
   "name": "python3"
  },
  "language_info": {
   "codemirror_mode": {
    "name": "ipython",
    "version": 3
   },
   "file_extension": ".py",
   "mimetype": "text/x-python",
   "name": "python",
   "nbconvert_exporter": "python",
   "pygments_lexer": "ipython3",
   "version": "3.6.5"
  }
 },
 "nbformat": 4,
 "nbformat_minor": 2
}
