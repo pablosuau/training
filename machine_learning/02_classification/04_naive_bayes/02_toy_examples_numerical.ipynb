{
 "cells": [
  {
   "cell_type": "code",
   "execution_count": null,
   "metadata": {},
   "outputs": [],
   "source": [
    "%matplotlib inline\n",
    "import math\n",
    "import numpy as np\n",
    "import pandas as pd\n",
    "import matplotlib.pyplot as plt\n",
    "from scipy.stats import norm"
   ]
  },
  {
   "cell_type": "code",
   "execution_count": null,
   "metadata": {},
   "outputs": [],
   "source": [
    "np.random.seed(0)"
   ]
  },
  {
   "cell_type": "code",
   "execution_count": null,
   "metadata": {},
   "outputs": [],
   "source": [
    "MEAN_A = [0, 0]\n",
    "MEAN_B = [2, 2]\n",
    "MEAN_C = [-4, 0]\n",
    "COV_A = [[1, 1], [1, 3]]\n",
    "COV_B = [[4, 1], [1, 2]]\n",
    "COV_C = [[2, 1], [1, 2]]\n",
    "N_A = 120\n",
    "N_B = 60\n",
    "N_C = 20"
   ]
  },
  {
   "cell_type": "code",
   "execution_count": null,
   "metadata": {},
   "outputs": [],
   "source": [
    "X_A = np.concatenate((np.random.multivariate_normal(MEAN_A, COV_A, N_A),\n",
    "                     np.zeros((N_A, 1))), \n",
    "                     axis = 1)\n",
    "X_B = np.concatenate((np.concatenate((np.random.multivariate_normal(MEAN_B, COV_B, N_B),\n",
    "                                      np.random.multivariate_normal(MEAN_C, COV_C, N_C))),\n",
    "                     np.ones((N_B + N_C, 1))),\n",
    "                     axis = 1)"
   ]
  },
  {
   "cell_type": "code",
   "execution_count": null,
   "metadata": {},
   "outputs": [],
   "source": [
    "df = pd.DataFrame(np.concatenate((X_A, X_B)), columns = ['feature_1', 'feature_2', 'label'])"
   ]
  },
  {
   "cell_type": "code",
   "execution_count": null,
   "metadata": {},
   "outputs": [],
   "source": [
    "df"
   ]
  },
  {
   "cell_type": "code",
   "execution_count": null,
   "metadata": {},
   "outputs": [],
   "source": [
    "fig, ax = plt.subplots()\n",
    "_ = ax.scatter(df[df.label == 0].feature_1, df[df.label == 0].feature_2, color = 'C0', alpha = 0.5)\n",
    "_ = ax.scatter(df[df.label == 1].feature_1, df[df.label == 1].feature_2, color = 'C1', alpha = 0.5)"
   ]
  },
  {
   "cell_type": "code",
   "execution_count": null,
   "metadata": {},
   "outputs": [],
   "source": [
    "df = df.sample(frac = 1)\n",
    "df.index = range(len(df))\n",
    "df_training = df[0:math.ceil(0.8 * len(df))].copy()\n",
    "df_test = df[math.ceil(0.8 * len(df)):].copy()"
   ]
  },
  {
   "cell_type": "code",
   "execution_count": null,
   "metadata": {},
   "outputs": [],
   "source": [
    "prior = df_training.groupby('label')['label'].count().rename('prior')\n",
    "prior = prior / prior.sum()\n",
    "prior"
   ]
  },
  {
   "cell_type": "code",
   "execution_count": null,
   "metadata": {},
   "outputs": [],
   "source": [
    "# Estimate first feature's likelihood parameters from the training data \n",
    "likelihood_1 = df_training.groupby('label')['feature_1'].agg(mean_1 = np.mean, std_1 = np.std)\n",
    "likelihood_1"
   ]
  },
  {
   "cell_type": "code",
   "execution_count": null,
   "metadata": {},
   "outputs": [],
   "source": [
    "# Estimate second feature's likelihood parameters from the training data \n",
    "likelihood_2 = df_training.groupby('label')['feature_2'].agg(mean_2 = np.mean, std_2 = np.std)\n",
    "likelihood_2"
   ]
  },
  {
   "cell_type": "code",
   "execution_count": null,
   "metadata": {},
   "outputs": [],
   "source": [
    "df_test['posterior_0'] = df_test.apply(lambda x: prior[0] * \\\n",
    "                                                 norm(loc = likelihood_1.mean_1[0], \n",
    "                                                      scale = likelihood_1.std_1[0]).pdf(x.feature_1) * \\\n",
    "                                                 norm(loc = likelihood_2.mean_2[0], \n",
    "                                                      scale = likelihood_2.std_2[0]).pdf(x.feature_2), \n",
    "                                       axis = 1)\n",
    "\n",
    "df_test['posterior_1'] = df_test.apply(lambda x: prior[1] * \\\n",
    "                                                 norm(loc = likelihood_1.mean_1[1], \n",
    "                                                      scale = likelihood_1.std_1[1]).pdf(x.feature_1) * \\\n",
    "                                                 norm(loc = likelihood_2.mean_2[1], \n",
    "                                                      scale = likelihood_2.std_2[1]).pdf(x.feature_2), \n",
    "                                       axis = 1)\n",
    "\n",
    "df_test['predicted'] = (df_test.posterior_1 > df_test.posterior_0).astype(int)"
   ]
  },
  {
   "cell_type": "code",
   "execution_count": null,
   "metadata": {},
   "outputs": [],
   "source": [
    "accuracy = (df_test['predicted'] == df_test['label']).sum() / len(df_test)\n",
    "print('Prediction accuracy: ' + str(accuracy))"
   ]
  },
  {
   "cell_type": "code",
   "execution_count": null,
   "metadata": {},
   "outputs": [],
   "source": [
    "confusion = [[(df_test[df_test['label'] == 0]['predicted'] == 0).sum(),\n",
    "              (df_test[df_test['label'] == 0]['predicted'] == 1).sum()],\n",
    "             [(df_test[df_test['label'] == 1]['predicted'] == 0).sum(),\n",
    "             (df_test[df_test['label'] == 1]['predicted'] == 1).sum()]]\n",
    "print('Confusion matrix:')\n",
    "pd.DataFrame(data = confusion, columns = ['predicted 0', 'predicted 1'], index = ['class 0', 'class 1'])"
   ]
  },
  {
   "cell_type": "code",
   "execution_count": null,
   "metadata": {},
   "outputs": [],
   "source": [
    "RESOLUTION = 100\n",
    "x = np.linspace(-7, 7, RESOLUTION)\n",
    "y = np.linspace(-5, 7, RESOLUTION)\n",
    "xx, yy = np.meshgrid(x, y)\n",
    "boundaries = pd.DataFrame(np.concatenate((xx.reshape(RESOLUTION ** 2, 1), \n",
    "                                          yy.reshape(RESOLUTION ** 2, 1)), axis = 1),\n",
    "                          columns = ['feature_1', 'feature_2'])"
   ]
  },
  {
   "cell_type": "code",
   "execution_count": null,
   "metadata": {},
   "outputs": [],
   "source": [
    "boundaries['posterior_0'] = boundaries.apply(lambda x: prior[0] * \\\n",
    "                                                       norm(loc = likelihood_1.mean_1[0], \n",
    "                                                            scale = likelihood_1.std_1[0]).pdf(x.feature_1) * \\\n",
    "                                                       norm(loc = likelihood_2.mean_2[0], \n",
    "                                                            scale = likelihood_2.std_2[0]).pdf(x.feature_2), \n",
    "                                             axis = 1)\n",
    "\n",
    "boundaries['posterior_1'] = boundaries.apply(lambda x: prior[1] * \\\n",
    "                                                       norm(loc = likelihood_1.mean_1[1], \n",
    "                                                            scale = likelihood_1.std_1[1]).pdf(x.feature_1) * \\\n",
    "                                                       norm(loc = likelihood_2.mean_2[1], \n",
    "                                                            scale = likelihood_2.std_2[1]).pdf(x.feature_2), \n",
    "                                             axis = 1)\n",
    "\n",
    "boundaries['predicted'] = (boundaries.posterior_1 > boundaries.posterior_0).astype(int)"
   ]
  },
  {
   "cell_type": "code",
   "execution_count": null,
   "metadata": {},
   "outputs": [],
   "source": [
    "fig, ax = plt.subplots()\n",
    "ext = [-7, 7, -5, 7]\n",
    "colormap = plt.cm.RdYlBu\n",
    "ax.imshow(boundaries['predicted'].values.reshape(RESOLUTION, RESOLUTION), \n",
    "          zorder = 0, \n",
    "          extent = ext, \n",
    "          alpha = 0.5, \n",
    "          cmap = colormap, \n",
    "          origin = 'lower')\n",
    "_ = ax.scatter(df_training[df_training.label == 0].feature_1, \n",
    "               df_training[df_training.label == 0].feature_2, \n",
    "               color = colormap(0))\n",
    "_ = ax.scatter(df_training[df_training.label == 1].feature_1, \n",
    "               df_training[df_training.label == 1].feature_2, \n",
    "               color = colormap(256))"
   ]
  },
  {
   "cell_type": "code",
   "execution_count": null,
   "metadata": {},
   "outputs": [],
   "source": [
    "fig, ax = plt.subplots()\n",
    "ext = [-7, 7, -5, 7]\n",
    "colormap = plt.cm.RdYlBu\n",
    "ax.imshow(boundaries['predicted'].values.reshape(RESOLUTION, RESOLUTION), \n",
    "          zorder = 0, \n",
    "          extent = ext, \n",
    "          alpha = 0.5, \n",
    "          cmap = colormap, \n",
    "          origin = 'lower')\n",
    "_ = ax.scatter(df_test[df_test.label == 0].feature_1, df_test[df_test.label == 0].feature_2, color = colormap(0))\n",
    "_ = ax.scatter(df_test[df_test.label == 1].feature_1, df_test[df_test.label == 1].feature_2, color = colormap(256))"
   ]
  },
  {
   "cell_type": "code",
   "execution_count": null,
   "metadata": {},
   "outputs": [],
   "source": [
    "# TODO: when training and test, plot boundaries of the classes\n",
    "# No need for laplacian smoothing\n",
    "# Refactor classification into a function\n",
    "# Refactor plotting the imshow background and scatter plot unto a function"
   ]
  }
 ],
 "metadata": {
  "kernelspec": {
   "display_name": "Python 3",
   "language": "python",
   "name": "python3"
  },
  "language_info": {
   "codemirror_mode": {
    "name": "ipython",
    "version": 3
   },
   "file_extension": ".py",
   "mimetype": "text/x-python",
   "name": "python",
   "nbconvert_exporter": "python",
   "pygments_lexer": "ipython3",
   "version": "3.7.5"
  }
 },
 "nbformat": 4,
 "nbformat_minor": 2
}
