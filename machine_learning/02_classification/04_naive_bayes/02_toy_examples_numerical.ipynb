{
 "cells": [
  {
   "cell_type": "code",
   "execution_count": 1,
   "metadata": {},
   "outputs": [],
   "source": [
    "%matplotlib inline\n",
    "import math\n",
    "import numpy as np\n",
    "import pandas as pd\n",
    "import matplotlib.pyplot as plt\n",
    "from scipy.stats import norm"
   ]
  },
  {
   "cell_type": "markdown",
   "metadata": {},
   "source": [
    "In this notebook, we demonstrate how to apply a Naive Bayes classifier to a numerical toy dataset. There are two main differences with respect to the categorical example in the previous notebook. Firstly, the likelihood function has to be some kind of density function rather than a mass function. For this particular example we fit a Gaussian distribution for each feature/class cobination. And secondly, using a probability density function makes it unnecessary to apply Laplacian smoothing to account for values in the test set not present in the training set. \n",
    "\n",
    "## Generate a numerical toy dataset\n",
    "\n",
    "We use one 2D Gaussian distribution to sample data for class 0 and two 2D Gaussian distributions to sample data for class 1. "
   ]
  },
  {
   "cell_type": "code",
   "execution_count": 2,
   "metadata": {},
   "outputs": [],
   "source": [
    "np.random.seed(0)"
   ]
  },
  {
   "cell_type": "code",
   "execution_count": 3,
   "metadata": {},
   "outputs": [],
   "source": [
    "MEAN_A = [0, 0]\n",
    "MEAN_B = [2, 2]\n",
    "MEAN_C = [-4, 0]\n",
    "COV_A = [[1, 1], [1, 3]]\n",
    "COV_B = [[4, 1], [1, 2]]\n",
    "COV_C = [[2, 1], [1, 2]]\n",
    "N_A = 120\n",
    "N_B = 60\n",
    "N_C = 20"
   ]
  },
  {
   "cell_type": "code",
   "execution_count": 4,
   "metadata": {},
   "outputs": [],
   "source": [
    "X_A = np.concatenate((np.random.multivariate_normal(MEAN_A, COV_A, N_A),\n",
    "                     np.zeros((N_A, 1))), \n",
    "                     axis = 1)\n",
    "X_B = np.concatenate((np.concatenate((np.random.multivariate_normal(MEAN_B, COV_B, N_B),\n",
    "                                      np.random.multivariate_normal(MEAN_C, COV_C, N_C))),\n",
    "                     np.ones((N_B + N_C, 1))),\n",
    "                     axis = 1)"
   ]
  },
  {
   "cell_type": "code",
   "execution_count": 5,
   "metadata": {},
   "outputs": [],
   "source": [
    "df = pd.DataFrame(np.concatenate((X_A, X_B)), columns = ['feature_1', 'feature_2', 'label'])"
   ]
  },
  {
   "cell_type": "code",
   "execution_count": 6,
   "metadata": {},
   "outputs": [
    {
     "data": {
      "text/html": [
       "<div>\n",
       "<style scoped>\n",
       "    .dataframe tbody tr th:only-of-type {\n",
       "        vertical-align: middle;\n",
       "    }\n",
       "\n",
       "    .dataframe tbody tr th {\n",
       "        vertical-align: top;\n",
       "    }\n",
       "\n",
       "    .dataframe thead th {\n",
       "        text-align: right;\n",
       "    }\n",
       "</style>\n",
       "<table border=\"1\" class=\"dataframe\">\n",
       "  <thead>\n",
       "    <tr style=\"text-align: right;\">\n",
       "      <th></th>\n",
       "      <th>feature_1</th>\n",
       "      <th>feature_2</th>\n",
       "      <th>label</th>\n",
       "    </tr>\n",
       "  </thead>\n",
       "  <tbody>\n",
       "    <tr>\n",
       "      <th>0</th>\n",
       "      <td>-1.530327</td>\n",
       "      <td>-2.894222</td>\n",
       "      <td>0.0</td>\n",
       "    </tr>\n",
       "    <tr>\n",
       "      <th>1</th>\n",
       "      <td>-2.276623</td>\n",
       "      <td>-1.014468</td>\n",
       "      <td>0.0</td>\n",
       "    </tr>\n",
       "    <tr>\n",
       "      <th>2</th>\n",
       "      <td>-0.629523</td>\n",
       "      <td>-3.474359</td>\n",
       "      <td>0.0</td>\n",
       "    </tr>\n",
       "    <tr>\n",
       "      <th>3</th>\n",
       "      <td>-0.564788</td>\n",
       "      <td>-1.666234</td>\n",
       "      <td>0.0</td>\n",
       "    </tr>\n",
       "    <tr>\n",
       "      <th>4</th>\n",
       "      <td>-0.217350</td>\n",
       "      <td>0.296467</td>\n",
       "      <td>0.0</td>\n",
       "    </tr>\n",
       "    <tr>\n",
       "      <th>...</th>\n",
       "      <td>...</td>\n",
       "      <td>...</td>\n",
       "      <td>...</td>\n",
       "    </tr>\n",
       "    <tr>\n",
       "      <th>195</th>\n",
       "      <td>-4.537331</td>\n",
       "      <td>-0.852241</td>\n",
       "      <td>1.0</td>\n",
       "    </tr>\n",
       "    <tr>\n",
       "      <th>196</th>\n",
       "      <td>-2.424116</td>\n",
       "      <td>-0.710156</td>\n",
       "      <td>1.0</td>\n",
       "    </tr>\n",
       "    <tr>\n",
       "      <th>197</th>\n",
       "      <td>-3.104117</td>\n",
       "      <td>-0.181030</td>\n",
       "      <td>1.0</td>\n",
       "    </tr>\n",
       "    <tr>\n",
       "      <th>198</th>\n",
       "      <td>-5.857619</td>\n",
       "      <td>-0.243857</td>\n",
       "      <td>1.0</td>\n",
       "    </tr>\n",
       "    <tr>\n",
       "      <th>199</th>\n",
       "      <td>-6.399030</td>\n",
       "      <td>-1.193340</td>\n",
       "      <td>1.0</td>\n",
       "    </tr>\n",
       "  </tbody>\n",
       "</table>\n",
       "<p>200 rows × 3 columns</p>\n",
       "</div>"
      ],
      "text/plain": [
       "     feature_1  feature_2  label\n",
       "0    -1.530327  -2.894222    0.0\n",
       "1    -2.276623  -1.014468    0.0\n",
       "2    -0.629523  -3.474359    0.0\n",
       "3    -0.564788  -1.666234    0.0\n",
       "4    -0.217350   0.296467    0.0\n",
       "..         ...        ...    ...\n",
       "195  -4.537331  -0.852241    1.0\n",
       "196  -2.424116  -0.710156    1.0\n",
       "197  -3.104117  -0.181030    1.0\n",
       "198  -5.857619  -0.243857    1.0\n",
       "199  -6.399030  -1.193340    1.0\n",
       "\n",
       "[200 rows x 3 columns]"
      ]
     },
     "execution_count": 6,
     "metadata": {},
     "output_type": "execute_result"
    }
   ],
   "source": [
    "df"
   ]
  },
  {
   "cell_type": "code",
   "execution_count": 7,
   "metadata": {},
   "outputs": [
    {
     "data": {
      "image/png": "[encoded data removed]",
      "text/plain": [
       "<Figure size 432x288 with 1 Axes>"
      ]
     },
     "metadata": {
      "needs_background": "light"
     },
     "output_type": "display_data"
    }
   ],
   "source": [
    "fig, ax = plt.subplots()\n",
    "_ = ax.scatter(df[df.label == 0].feature_1, df[df.label == 0].feature_2, color = 'C0', alpha = 0.5)\n",
    "_ = ax.scatter(df[df.label == 1].feature_1, df[df.label == 1].feature_2, color = 'C1', alpha = 0.5)"
   ]
  },
  {
   "cell_type": "markdown",
   "metadata": {},
   "source": [
    "## Fit the model\n",
    "\n",
    "After splitting the dataset into a training and a test set, we use the training set to infer the prior and likelihood distributions. "
   ]
  },
  {
   "cell_type": "code",
   "execution_count": 8,
   "metadata": {},
   "outputs": [],
   "source": [
    "df = df.sample(frac = 1)\n",
    "df.index = range(len(df))\n",
    "df_training = df[0:math.ceil(0.8 * len(df))].copy()\n",
    "df_test = df[math.ceil(0.8 * len(df)):].copy()"
   ]
  },
  {
   "cell_type": "code",
   "execution_count": 9,
   "metadata": {},
   "outputs": [
    {
     "data": {
      "text/plain": [
       "label\n",
       "0.0    0.6\n",
       "1.0    0.4\n",
       "Name: prior, dtype: float64"
      ]
     },
     "execution_count": 9,
     "metadata": {},
     "output_type": "execute_result"
    }
   ],
   "source": [
    "prior = df_training.groupby('label')['label'].count().rename('prior')\n",
    "prior = prior / prior.sum()\n",
    "prior"
   ]
  },
  {
   "cell_type": "code",
   "execution_count": 10,
   "metadata": {},
   "outputs": [
    {
     "data": {
      "text/html": [
       "<div>\n",
       "<style scoped>\n",
       "    .dataframe tbody tr th:only-of-type {\n",
       "        vertical-align: middle;\n",
       "    }\n",
       "\n",
       "    .dataframe tbody tr th {\n",
       "        vertical-align: top;\n",
       "    }\n",
       "\n",
       "    .dataframe thead th {\n",
       "        text-align: right;\n",
       "    }\n",
       "</style>\n",
       "<table border=\"1\" class=\"dataframe\">\n",
       "  <thead>\n",
       "    <tr style=\"text-align: right;\">\n",
       "      <th></th>\n",
       "      <th>mean_1</th>\n",
       "      <th>std_1</th>\n",
       "    </tr>\n",
       "    <tr>\n",
       "      <th>label</th>\n",
       "      <th></th>\n",
       "      <th></th>\n",
       "    </tr>\n",
       "  </thead>\n",
       "  <tbody>\n",
       "    <tr>\n",
       "      <th>0.0</th>\n",
       "      <td>-0.095084</td>\n",
       "      <td>0.981376</td>\n",
       "    </tr>\n",
       "    <tr>\n",
       "      <th>1.0</th>\n",
       "      <td>0.940090</td>\n",
       "      <td>3.268776</td>\n",
       "    </tr>\n",
       "  </tbody>\n",
       "</table>\n",
       "</div>"
      ],
      "text/plain": [
       "         mean_1     std_1\n",
       "label                    \n",
       "0.0   -0.095084  0.981376\n",
       "1.0    0.940090  3.268776"
      ]
     },
     "execution_count": 10,
     "metadata": {},
     "output_type": "execute_result"
    }
   ],
   "source": [
    "# Estimate first feature's likelihood parameters from the training data \n",
    "likelihood_1 = df_training.groupby('label')['feature_1'].agg(mean_1 = np.mean, std_1 = np.std)\n",
    "likelihood_1"
   ]
  },
  {
   "cell_type": "code",
   "execution_count": 11,
   "metadata": {},
   "outputs": [
    {
     "data": {
      "text/html": [
       "<div>\n",
       "<style scoped>\n",
       "    .dataframe tbody tr th:only-of-type {\n",
       "        vertical-align: middle;\n",
       "    }\n",
       "\n",
       "    .dataframe tbody tr th {\n",
       "        vertical-align: top;\n",
       "    }\n",
       "\n",
       "    .dataframe thead th {\n",
       "        text-align: right;\n",
       "    }\n",
       "</style>\n",
       "<table border=\"1\" class=\"dataframe\">\n",
       "  <thead>\n",
       "    <tr style=\"text-align: right;\">\n",
       "      <th></th>\n",
       "      <th>mean_2</th>\n",
       "      <th>std_2</th>\n",
       "    </tr>\n",
       "    <tr>\n",
       "      <th>label</th>\n",
       "      <th></th>\n",
       "      <th></th>\n",
       "    </tr>\n",
       "  </thead>\n",
       "  <tbody>\n",
       "    <tr>\n",
       "      <th>0.0</th>\n",
       "      <td>-0.001835</td>\n",
       "      <td>1.739854</td>\n",
       "    </tr>\n",
       "    <tr>\n",
       "      <th>1.0</th>\n",
       "      <td>1.567218</td>\n",
       "      <td>1.842690</td>\n",
       "    </tr>\n",
       "  </tbody>\n",
       "</table>\n",
       "</div>"
      ],
      "text/plain": [
       "         mean_2     std_2\n",
       "label                    \n",
       "0.0   -0.001835  1.739854\n",
       "1.0    1.567218  1.842690"
      ]
     },
     "execution_count": 11,
     "metadata": {},
     "output_type": "execute_result"
    }
   ],
   "source": [
    "# Estimate second feature's likelihood parameters from the training data \n",
    "likelihood_2 = df_training.groupby('label')['feature_2'].agg(mean_2 = np.mean, std_2 = np.std)\n",
    "likelihood_2"
   ]
  },
  {
   "cell_type": "markdown",
   "metadata": {},
   "source": [
    "## Predict for the test data"
   ]
  },
  {
   "cell_type": "code",
   "execution_count": 12,
   "metadata": {},
   "outputs": [],
   "source": [
    "def classification(df, prior, likelihood_1, likelihood_2):\n",
    "    df['posterior_0'] = df.apply(lambda x: prior[0] * \\\n",
    "                                           norm(loc = likelihood_1.mean_1[0], \n",
    "                                                scale = likelihood_1.std_1[0]).pdf(x.feature_1) * \\\n",
    "                                           norm(loc = likelihood_2.mean_2[0], \n",
    "                                                scale = likelihood_2.std_2[0]).pdf(x.feature_2), \n",
    "                                 axis = 1)\n",
    "\n",
    "    df['posterior_1'] = df.apply(lambda x: prior[1] * \\\n",
    "                                           norm(loc = likelihood_1.mean_1[1], \n",
    "                                                scale = likelihood_1.std_1[1]).pdf(x.feature_1) * \\\n",
    "                                           norm(loc = likelihood_2.mean_2[1], \n",
    "                                                scale = likelihood_2.std_2[1]).pdf(x.feature_2), \n",
    "                                 axis = 1)\n",
    "\n",
    "    df['predicted'] = (df.posterior_1 > df.posterior_0).astype(int)"
   ]
  },
  {
   "cell_type": "code",
   "execution_count": 13,
   "metadata": {},
   "outputs": [],
   "source": [
    "classification(df_test, prior, likelihood_1, likelihood_2)"
   ]
  },
  {
   "cell_type": "code",
   "execution_count": 14,
   "metadata": {},
   "outputs": [
    {
     "name": "stdout",
     "output_type": "stream",
     "text": [
      "Prediction accuracy: 0.825\n"
     ]
    }
   ],
   "source": [
    "accuracy = (df_test['predicted'] == df_test['label']).sum() / len(df_test)\n",
    "print('Prediction accuracy: ' + str(accuracy))"
   ]
  },
  {
   "cell_type": "code",
   "execution_count": 15,
   "metadata": {},
   "outputs": [
    {
     "name": "stdout",
     "output_type": "stream",
     "text": [
      "Confusion matrix:\n"
     ]
    },
    {
     "data": {
      "text/html": [
       "<div>\n",
       "<style scoped>\n",
       "    .dataframe tbody tr th:only-of-type {\n",
       "        vertical-align: middle;\n",
       "    }\n",
       "\n",
       "    .dataframe tbody tr th {\n",
       "        vertical-align: top;\n",
       "    }\n",
       "\n",
       "    .dataframe thead th {\n",
       "        text-align: right;\n",
       "    }\n",
       "</style>\n",
       "<table border=\"1\" class=\"dataframe\">\n",
       "  <thead>\n",
       "    <tr style=\"text-align: right;\">\n",
       "      <th></th>\n",
       "      <th>predicted 0</th>\n",
       "      <th>predicted 1</th>\n",
       "    </tr>\n",
       "  </thead>\n",
       "  <tbody>\n",
       "    <tr>\n",
       "      <th>class 0</th>\n",
       "      <td>22</td>\n",
       "      <td>2</td>\n",
       "    </tr>\n",
       "    <tr>\n",
       "      <th>class 1</th>\n",
       "      <td>5</td>\n",
       "      <td>11</td>\n",
       "    </tr>\n",
       "  </tbody>\n",
       "</table>\n",
       "</div>"
      ],
      "text/plain": [
       "         predicted 0  predicted 1\n",
       "class 0           22            2\n",
       "class 1            5           11"
      ]
     },
     "execution_count": 15,
     "metadata": {},
     "output_type": "execute_result"
    }
   ],
   "source": [
    "confusion = [[(df_test[df_test['label'] == 0]['predicted'] == 0).sum(),\n",
    "              (df_test[df_test['label'] == 0]['predicted'] == 1).sum()],\n",
    "             [(df_test[df_test['label'] == 1]['predicted'] == 0).sum(),\n",
    "             (df_test[df_test['label'] == 1]['predicted'] == 1).sum()]]\n",
    "print('Confusion matrix:')\n",
    "pd.DataFrame(data = confusion, columns = ['predicted 0', 'predicted 1'], index = ['class 0', 'class 1'])"
   ]
  },
  {
   "cell_type": "markdown",
   "metadata": {},
   "source": [
    "## Visualising the decision boundary\n",
    "\n",
    "The following section shows the training data and the test data in two separated plots on which we are also displaying the fitted model's decision boundary. "
   ]
  },
  {
   "cell_type": "code",
   "execution_count": 16,
   "metadata": {},
   "outputs": [],
   "source": [
    "RESOLUTION = 100\n",
    "x = np.linspace(-7, 7, RESOLUTION)\n",
    "y = np.linspace(-5, 7, RESOLUTION)\n",
    "xx, yy = np.meshgrid(x, y)\n",
    "boundaries = pd.DataFrame(np.concatenate((xx.reshape(RESOLUTION ** 2, 1), \n",
    "                                          yy.reshape(RESOLUTION ** 2, 1)), axis = 1),\n",
    "                          columns = ['feature_1', 'feature_2'])"
   ]
  },
  {
   "cell_type": "code",
   "execution_count": 17,
   "metadata": {},
   "outputs": [],
   "source": [
    "classification(boundaries, prior, likelihood_1, likelihood_2)"
   ]
  },
  {
   "cell_type": "code",
   "execution_count": 18,
   "metadata": {},
   "outputs": [],
   "source": [
    "def plot_boundaries(boundaries, df):\n",
    "    fig, ax = plt.subplots()\n",
    "    ext = [-7, 7, -5, 7]\n",
    "    colormap = plt.cm.RdYlBu\n",
    "    ax.imshow(boundaries['predicted'].values.reshape(RESOLUTION, RESOLUTION), \n",
    "              zorder = 0, \n",
    "              extent = ext, \n",
    "              alpha = 0.5, \n",
    "              cmap = colormap, \n",
    "              origin = 'lower')\n",
    "    _ = ax.scatter(df[df.label == 0].feature_1, df[df.label == 0].feature_2, color = colormap(0))\n",
    "    _ = ax.scatter(df[df.label == 1].feature_1, df[df.label == 1].feature_2, color = colormap(256))"
   ]
  },
  {
   "cell_type": "code",
   "execution_count": 19,
   "metadata": {},
   "outputs": [
    {
     "data": {
      "image/png": "[encoded data removed]",
      "text/plain": [
       "<Figure size 432x288 with 1 Axes>"
      ]
     },
     "metadata": {
      "needs_background": "light"
     },
     "output_type": "display_data"
    }
   ],
   "source": [
    "plot_boundaries(boundaries, df_training)"
   ]
  },
  {
   "cell_type": "code",
   "execution_count": 20,
   "metadata": {},
   "outputs": [
    {
     "data": {
      "image/png": "[encoded data removed]",
      "text/plain": [
       "<Figure size 432x288 with 1 Axes>"
      ]
     },
     "metadata": {
      "needs_background": "light"
     },
     "output_type": "display_data"
    }
   ],
   "source": [
    "plot_boundaries(boundaries, df_test)"
   ]
  }
 ],
 "metadata": {
  "kernelspec": {
   "display_name": "Python 3",
   "language": "python",
   "name": "python3"
  },
  "language_info": {
   "codemirror_mode": {
    "name": "ipython",
    "version": 3
   },
   "file_extension": ".py",
   "mimetype": "text/x-python",
   "name": "python",
   "nbconvert_exporter": "python",
   "pygments_lexer": "ipython3",
   "version": "3.7.5"
  }
 },
 "nbformat": 4,
 "nbformat_minor": 2
}
