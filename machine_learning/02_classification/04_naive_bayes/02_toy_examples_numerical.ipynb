{
 "cells": [
  {
   "cell_type": "code",
   "execution_count": null,
   "metadata": {},
   "outputs": [],
   "source": [
    "%matplotlib inline\n",
    "import math\n",
    "import numpy as np\n",
    "import pandas as pd\n",
    "import matplotlib.pyplot as plt"
   ]
  },
  {
   "cell_type": "code",
   "execution_count": null,
   "metadata": {},
   "outputs": [],
   "source": [
    "np.random.seed(0)"
   ]
  },
  {
   "cell_type": "code",
   "execution_count": null,
   "metadata": {},
   "outputs": [],
   "source": [
    "MEAN_A = [0, 0]\n",
    "MEAN_B = [2, 2]\n",
    "MEAN_C = [-4, 0]\n",
    "COV_A = [[1, 1], [1, 3]]\n",
    "COV_B = [[4, 1], [1, 2]]\n",
    "COV_C = [[2, 1], [1, 2]]\n",
    "N_A = 60\n",
    "N_B = 30\n",
    "N_C = 10"
   ]
  },
  {
   "cell_type": "code",
   "execution_count": null,
   "metadata": {},
   "outputs": [],
   "source": [
    "X_A = np.concatenate((np.random.multivariate_normal(MEAN_A, COV_A, N_A),\n",
    "                     np.zeros((N_A, 1))), \n",
    "                     axis = 1)\n",
    "X_B = np.concatenate((np.concatenate((np.random.multivariate_normal(MEAN_B, COV_B, N_B),\n",
    "                                      np.random.multivariate_normal(MEAN_C, COV_C, N_C))),\n",
    "                     np.ones((N_B + N_C, 1))),\n",
    "                     axis = 1)"
   ]
  },
  {
   "cell_type": "code",
   "execution_count": null,
   "metadata": {},
   "outputs": [],
   "source": [
    "df = pd.DataFrame(np.concatenate((X_A, X_B)), columns = ['feature_1', 'feature_2', 'label'])"
   ]
  },
  {
   "cell_type": "code",
   "execution_count": null,
   "metadata": {},
   "outputs": [],
   "source": [
    "df"
   ]
  },
  {
   "cell_type": "code",
   "execution_count": null,
   "metadata": {},
   "outputs": [],
   "source": [
    "fig, ax = plt.subplots()\n",
    "_ = ax.scatter(df[df.label == 0].feature_1, df[df.label == 0].feature_2, color = 'C0', alpha = 0.5)\n",
    "_ = ax.scatter(df[df.label == 1].feature_1, df[df.label == 1].feature_2, color = 'C1', alpha = 0.5)"
   ]
  },
  {
   "cell_type": "code",
   "execution_count": null,
   "metadata": {},
   "outputs": [],
   "source": [
    "df = df.sample(frac = 1)\n",
    "df.index = range(len(df))\n",
    "df_training = df[0:math.ceil(0.8 * len(df))].copy()\n",
    "df_test = df[math.ceil(0.8 * len(df)):].copy()"
   ]
  },
  {
   "cell_type": "code",
   "execution_count": null,
   "metadata": {},
   "outputs": [],
   "source": [
    "# TODO: when training and test, plot boundaries of the classes"
   ]
  },
  {
   "cell_type": "code",
   "execution_count": null,
   "metadata": {},
   "outputs": [],
   "source": []
  }
 ],
 "metadata": {
  "kernelspec": {
   "display_name": "Python 3",
   "language": "python",
   "name": "python3"
  },
  "language_info": {
   "codemirror_mode": {
    "name": "ipython",
    "version": 3
   },
   "file_extension": ".py",
   "mimetype": "text/x-python",
   "name": "python",
   "nbconvert_exporter": "python",
   "pygments_lexer": "ipython3",
   "version": "3.7.5"
  }
 },
 "nbformat": 4,
 "nbformat_minor": 2
}
