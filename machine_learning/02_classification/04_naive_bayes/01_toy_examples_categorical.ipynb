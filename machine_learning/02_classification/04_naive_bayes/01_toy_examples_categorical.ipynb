{
 "cells": [
  {
   "cell_type": "code",
   "execution_count": null,
   "metadata": {},
   "outputs": [],
   "source": [
    "import numpy as np\n",
    "import pandas as pd\n",
    "import math\n",
    "import matplotlib.pyplot as plt\n",
    "from sklearn.manifold import MDS"
   ]
  },
  {
   "cell_type": "code",
   "execution_count": null,
   "metadata": {},
   "outputs": [],
   "source": [
    "np.random.seed(0)"
   ]
  },
  {
   "cell_type": "markdown",
   "metadata": {},
   "source": [
    "In this notebook, we test a simple implementation of Naive Bayes classifier for a categorical dataset. Naive Bayes is based on applying Bayes theorem and assumes independence between input variables. \n",
    "\n",
    "## Generate toy_categorical_dataset"
   ]
  },
  {
   "cell_type": "code",
   "execution_count": null,
   "metadata": {},
   "outputs": [],
   "source": [
    "cond_probs_feat_a = pd.DataFrame(data = [[0.2, 0.1, 0.7],\n",
    "                                         [0.5, 0.3, 0.2]], \n",
    "                                 columns = ['value_1', 'value_2', 'value_3'],\n",
    "                                 index = ['class_a', 'class_b'])\n",
    "cond_probs_feat_a"
   ]
  },
  {
   "cell_type": "code",
   "execution_count": null,
   "metadata": {},
   "outputs": [],
   "source": [
    "cond_probs_feat_b = pd.DataFrame(data = [[0.8, 0.2],\n",
    "                                         [0.4, 0.6]], \n",
    "                                 columns = ['value_1', 'value_2'],\n",
    "                                 index = ['class_a', 'class_b'])\n",
    "cond_probs_feat_b"
   ]
  },
  {
   "cell_type": "code",
   "execution_count": null,
   "metadata": {},
   "outputs": [],
   "source": [
    "cond_probs_feat_c = pd.DataFrame(data = [[0.1, 0.2, 0.3, 0.4],\n",
    "                                         [0.9, 0.02, 0.05, 0.03]], \n",
    "                                 columns = ['value_1', 'value_2', 'value_3', 'value_4'],\n",
    "                                 index = ['class_a', 'class_b'])\n",
    "cond_probs_feat_c"
   ]
  },
  {
   "cell_type": "code",
   "execution_count": null,
   "metadata": {},
   "outputs": [],
   "source": [
    "prob_class = pd.Series([0.4, 0.6], index = ['class_a', 'class_b'])\n",
    "prob_class"
   ]
  },
  {
   "cell_type": "code",
   "execution_count": null,
   "metadata": {},
   "outputs": [],
   "source": [
    "data = []\n",
    "classes = []\n",
    "for i in range(1000):\n",
    "    observed = []\n",
    "    # Sampling class label\n",
    "    if np.random.rand() > prob_class.loc['class_a']:\n",
    "        classes.append('class_b')\n",
    "    else:\n",
    "        classes.append('class_a')\n",
    "    # Sampling features\n",
    "    for cond_probs in [cond_probs_feat_a, cond_probs_feat_b, cond_probs_feat_c]:\n",
    "        df = cond_probs.loc[classes[-1]].cumsum()\n",
    "        observed.append(df[df > np.random.rand()].index.values[0])\n",
    "    \n",
    "    data.append(observed)"
   ]
  },
  {
   "cell_type": "code",
   "execution_count": null,
   "metadata": {},
   "outputs": [],
   "source": [
    "data = pd.DataFrame(data = data, columns = ['feature_a', 'feature_b', 'feature_c'])\n",
    "data['class'] = classes\n",
    "data.head()"
   ]
  },
  {
   "cell_type": "markdown",
   "metadata": {},
   "source": [
    "## Visualise the data"
   ]
  },
  {
   "cell_type": "code",
   "execution_count": null,
   "metadata": {},
   "outputs": [],
   "source": [
    "_ = data.groupby('class')['class'].count().plot.bar()"
   ]
  },
  {
   "cell_type": "code",
   "execution_count": null,
   "metadata": {},
   "outputs": [],
   "source": [
    "df = data.groupby(['class', 'feature_a'])['feature_a'].count().unstack('feature_a')\n",
    "_ = df.div(df.sum(axis = 1), axis = 0).plot.bar(stacked = True)"
   ]
  },
  {
   "cell_type": "code",
   "execution_count": null,
   "metadata": {},
   "outputs": [],
   "source": [
    "df = data.groupby(['class', 'feature_b'])['feature_b'].count().unstack('feature_b')\n",
    "_ = df.div(df.sum(axis = 1), axis = 0).plot.bar(stacked = True)"
   ]
  },
  {
   "cell_type": "code",
   "execution_count": null,
   "metadata": {},
   "outputs": [],
   "source": [
    "df = data.groupby(['class', 'feature_c'])['feature_c'].count().unstack('feature_c')\n",
    "_ = df.div(df.sum(axis = 1), axis = 0).plot.bar(stacked = True)"
   ]
  },
  {
   "cell_type": "code",
   "execution_count": null,
   "metadata": {},
   "outputs": [],
   "source": [
    "df = data.copy(deep = True)\n",
    "for f in ['feature_a', 'feature_b', 'feature_c']:\n",
    "    values = df[f].unique().tolist()\n",
    "    for v in values:\n",
    "        df[f + '_' + v] = (df[f] == v).astype(int)\n",
    "    df = df.drop(f, axis = 1)"
   ]
  },
  {
   "cell_type": "code",
   "execution_count": null,
   "metadata": {},
   "outputs": [],
   "source": [
    "X = df.iloc[:, 1:].values\n",
    "embedding = MDS(n_components = 2)\n",
    "X_transformed = embedding.fit_transform(X)"
   ]
  },
  {
   "cell_type": "code",
   "execution_count": null,
   "metadata": {},
   "outputs": [],
   "source": [
    "X_transformed = X_transformed + np.random.rand(X_transformed.shape[0], X_transformed.shape[1]) * 0.5"
   ]
  },
  {
   "cell_type": "code",
   "execution_count": null,
   "metadata": {},
   "outputs": [],
   "source": [
    "c_a = df[df['class'] == 'class_a'].index.values\n",
    "c_b = df[df['class'] == 'class_b'].index.values\n",
    "fig, ax = plt.subplots()\n",
    "ax.scatter(X_transformed[c_a, 0], X_transformed[c_a, 1], alpha = 0.5, color = 'C1')\n",
    "ax.scatter(X_transformed[c_b, 0], X_transformed[c_b, 1], alpha = 0.5, color = 'C2')\n",
    "_ = ax.legend(['class_a', 'class_b'])"
   ]
  },
  {
   "cell_type": "markdown",
   "metadata": {},
   "source": [
    "## Without laplacian smoothing\n",
    "\n",
    "### Fit the model\n",
    "\n",
    "We use 80% of the data"
   ]
  },
  {
   "cell_type": "code",
   "execution_count": null,
   "metadata": {},
   "outputs": [],
   "source": []
  },
  {
   "cell_type": "markdown",
   "metadata": {},
   "source": [
    "### Predict test data\n",
    "\n",
    "Using the 20% remaining data. "
   ]
  },
  {
   "cell_type": "code",
   "execution_count": null,
   "metadata": {},
   "outputs": [],
   "source": []
  },
  {
   "cell_type": "markdown",
   "metadata": {},
   "source": [
    "## Laplacian smoothing\n",
    "\n",
    "### Fit the model"
   ]
  },
  {
   "cell_type": "code",
   "execution_count": null,
   "metadata": {},
   "outputs": [],
   "source": []
  },
  {
   "cell_type": "markdown",
   "metadata": {},
   "source": [
    "### Predict test data"
   ]
  },
  {
   "cell_type": "code",
   "execution_count": null,
   "metadata": {},
   "outputs": [],
   "source": []
  }
 ],
 "metadata": {
  "kernelspec": {
   "display_name": "Python 3",
   "language": "python",
   "name": "python3"
  },
  "language_info": {
   "codemirror_mode": {
    "name": "ipython",
    "version": 3
   },
   "file_extension": ".py",
   "mimetype": "text/x-python",
   "name": "python",
   "nbconvert_exporter": "python",
   "pygments_lexer": "ipython3",
   "version": "3.7.5"
  }
 },
 "nbformat": 4,
 "nbformat_minor": 2
}
