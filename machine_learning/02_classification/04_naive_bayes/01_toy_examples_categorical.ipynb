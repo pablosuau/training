{
 "cells": [
  {
   "cell_type": "code",
   "execution_count": 1,
   "metadata": {},
   "outputs": [],
   "source": [
    "import numpy as np\n",
    "import pandas as pd\n",
    "import math\n",
    "import matplotlib.pyplot as plt\n",
    "from sklearn.manifold import MDS"
   ]
  },
  {
   "cell_type": "code",
   "execution_count": 2,
   "metadata": {},
   "outputs": [],
   "source": [
    "np.random.seed(0)"
   ]
  },
  {
   "cell_type": "markdown",
   "metadata": {},
   "source": [
    "In this notebook, we test a simple implementation of Naive Bayes classifier for a categorical dataset. Naive Bayes is based on applying Bayes theorem and assumes independence between input variables. \n",
    "\n",
    "## Generate a categorical toy dataset\n",
    "\n",
    "The toy dataset consists of two classes and three features. "
   ]
  },
  {
   "cell_type": "code",
   "execution_count": 3,
   "metadata": {},
   "outputs": [
    {
     "data": {
      "text/html": [
       "<div>\n",
       "<style scoped>\n",
       "    .dataframe tbody tr th:only-of-type {\n",
       "        vertical-align: middle;\n",
       "    }\n",
       "\n",
       "    .dataframe tbody tr th {\n",
       "        vertical-align: top;\n",
       "    }\n",
       "\n",
       "    .dataframe thead th {\n",
       "        text-align: right;\n",
       "    }\n",
       "</style>\n",
       "<table border=\"1\" class=\"dataframe\">\n",
       "  <thead>\n",
       "    <tr style=\"text-align: right;\">\n",
       "      <th></th>\n",
       "      <th>value_1</th>\n",
       "      <th>value_2</th>\n",
       "      <th>value_3</th>\n",
       "    </tr>\n",
       "  </thead>\n",
       "  <tbody>\n",
       "    <tr>\n",
       "      <th>class_a</th>\n",
       "      <td>0.2</td>\n",
       "      <td>0.1</td>\n",
       "      <td>0.7</td>\n",
       "    </tr>\n",
       "    <tr>\n",
       "      <th>class_b</th>\n",
       "      <td>0.5</td>\n",
       "      <td>0.3</td>\n",
       "      <td>0.2</td>\n",
       "    </tr>\n",
       "  </tbody>\n",
       "</table>\n",
       "</div>"
      ],
      "text/plain": [
       "         value_1  value_2  value_3\n",
       "class_a      0.2      0.1      0.7\n",
       "class_b      0.5      0.3      0.2"
      ]
     },
     "execution_count": 3,
     "metadata": {},
     "output_type": "execute_result"
    }
   ],
   "source": [
    "# First feature's likelihood\n",
    "cond_probs_feat_a = pd.DataFrame(data = [[0.2, 0.1, 0.7],\n",
    "                                         [0.5, 0.3, 0.2]], \n",
    "                                 columns = ['value_1', 'value_2', 'value_3'],\n",
    "                                 index = ['class_a', 'class_b'])\n",
    "cond_probs_feat_a"
   ]
  },
  {
   "cell_type": "code",
   "execution_count": 4,
   "metadata": {},
   "outputs": [
    {
     "data": {
      "text/html": [
       "<div>\n",
       "<style scoped>\n",
       "    .dataframe tbody tr th:only-of-type {\n",
       "        vertical-align: middle;\n",
       "    }\n",
       "\n",
       "    .dataframe tbody tr th {\n",
       "        vertical-align: top;\n",
       "    }\n",
       "\n",
       "    .dataframe thead th {\n",
       "        text-align: right;\n",
       "    }\n",
       "</style>\n",
       "<table border=\"1\" class=\"dataframe\">\n",
       "  <thead>\n",
       "    <tr style=\"text-align: right;\">\n",
       "      <th></th>\n",
       "      <th>value_1</th>\n",
       "      <th>value_2</th>\n",
       "    </tr>\n",
       "  </thead>\n",
       "  <tbody>\n",
       "    <tr>\n",
       "      <th>class_a</th>\n",
       "      <td>0.8</td>\n",
       "      <td>0.2</td>\n",
       "    </tr>\n",
       "    <tr>\n",
       "      <th>class_b</th>\n",
       "      <td>0.4</td>\n",
       "      <td>0.6</td>\n",
       "    </tr>\n",
       "  </tbody>\n",
       "</table>\n",
       "</div>"
      ],
      "text/plain": [
       "         value_1  value_2\n",
       "class_a      0.8      0.2\n",
       "class_b      0.4      0.6"
      ]
     },
     "execution_count": 4,
     "metadata": {},
     "output_type": "execute_result"
    }
   ],
   "source": [
    "# Second feature's likelihood\n",
    "cond_probs_feat_b = pd.DataFrame(data = [[0.8, 0.2],\n",
    "                                         [0.4, 0.6]], \n",
    "                                 columns = ['value_1', 'value_2'],\n",
    "                                 index = ['class_a', 'class_b'])\n",
    "cond_probs_feat_b"
   ]
  },
  {
   "cell_type": "code",
   "execution_count": 5,
   "metadata": {},
   "outputs": [
    {
     "data": {
      "text/html": [
       "<div>\n",
       "<style scoped>\n",
       "    .dataframe tbody tr th:only-of-type {\n",
       "        vertical-align: middle;\n",
       "    }\n",
       "\n",
       "    .dataframe tbody tr th {\n",
       "        vertical-align: top;\n",
       "    }\n",
       "\n",
       "    .dataframe thead th {\n",
       "        text-align: right;\n",
       "    }\n",
       "</style>\n",
       "<table border=\"1\" class=\"dataframe\">\n",
       "  <thead>\n",
       "    <tr style=\"text-align: right;\">\n",
       "      <th></th>\n",
       "      <th>value_1</th>\n",
       "      <th>value_2</th>\n",
       "      <th>value_3</th>\n",
       "      <th>value_4</th>\n",
       "    </tr>\n",
       "  </thead>\n",
       "  <tbody>\n",
       "    <tr>\n",
       "      <th>class_a</th>\n",
       "      <td>0.1</td>\n",
       "      <td>0.20</td>\n",
       "      <td>0.30</td>\n",
       "      <td>0.40</td>\n",
       "    </tr>\n",
       "    <tr>\n",
       "      <th>class_b</th>\n",
       "      <td>0.9</td>\n",
       "      <td>0.02</td>\n",
       "      <td>0.05</td>\n",
       "      <td>0.03</td>\n",
       "    </tr>\n",
       "  </tbody>\n",
       "</table>\n",
       "</div>"
      ],
      "text/plain": [
       "         value_1  value_2  value_3  value_4\n",
       "class_a      0.1     0.20     0.30     0.40\n",
       "class_b      0.9     0.02     0.05     0.03"
      ]
     },
     "execution_count": 5,
     "metadata": {},
     "output_type": "execute_result"
    }
   ],
   "source": [
    "# Third feature's likelihood\n",
    "cond_probs_feat_c = pd.DataFrame(data = [[0.1, 0.2, 0.3, 0.4],\n",
    "                                         [0.9, 0.02, 0.05, 0.03]], \n",
    "                                 columns = ['value_1', 'value_2', 'value_3', 'value_4'],\n",
    "                                 index = ['class_a', 'class_b'])\n",
    "cond_probs_feat_c"
   ]
  },
  {
   "cell_type": "code",
   "execution_count": 6,
   "metadata": {},
   "outputs": [
    {
     "data": {
      "text/plain": [
       "class_a    0.4\n",
       "class_b    0.6\n",
       "dtype: float64"
      ]
     },
     "execution_count": 6,
     "metadata": {},
     "output_type": "execute_result"
    }
   ],
   "source": [
    "# Class priors\n",
    "prob_class = pd.Series([0.4, 0.6], index = ['class_a', 'class_b'])\n",
    "prob_class"
   ]
  },
  {
   "cell_type": "code",
   "execution_count": 7,
   "metadata": {},
   "outputs": [],
   "source": [
    "# Randomly assigning observations to classes and assigning values to features given likelihoods\n",
    "data = []\n",
    "classes = []\n",
    "for i in range(1000):\n",
    "    observed = []\n",
    "    # Sampling class label\n",
    "    if np.random.rand() > prob_class.loc['class_a']:\n",
    "        classes.append('class_b')\n",
    "    else:\n",
    "        classes.append('class_a')\n",
    "    # Sampling features\n",
    "    for cond_probs in [cond_probs_feat_a, cond_probs_feat_b, cond_probs_feat_c]:\n",
    "        df = cond_probs.loc[classes[-1]].cumsum()\n",
    "        observed.append(df[df > np.random.rand()].index.values[0])\n",
    "    \n",
    "    data.append(observed)"
   ]
  },
  {
   "cell_type": "code",
   "execution_count": 8,
   "metadata": {},
   "outputs": [
    {
     "data": {
      "text/html": [
       "<div>\n",
       "<style scoped>\n",
       "    .dataframe tbody tr th:only-of-type {\n",
       "        vertical-align: middle;\n",
       "    }\n",
       "\n",
       "    .dataframe tbody tr th {\n",
       "        vertical-align: top;\n",
       "    }\n",
       "\n",
       "    .dataframe thead th {\n",
       "        text-align: right;\n",
       "    }\n",
       "</style>\n",
       "<table border=\"1\" class=\"dataframe\">\n",
       "  <thead>\n",
       "    <tr style=\"text-align: right;\">\n",
       "      <th></th>\n",
       "      <th>feature_a</th>\n",
       "      <th>feature_b</th>\n",
       "      <th>feature_c</th>\n",
       "      <th>class</th>\n",
       "    </tr>\n",
       "  </thead>\n",
       "  <tbody>\n",
       "    <tr>\n",
       "      <th>0</th>\n",
       "      <td>value_2</td>\n",
       "      <td>value_2</td>\n",
       "      <td>value_1</td>\n",
       "      <td>class_b</td>\n",
       "    </tr>\n",
       "    <tr>\n",
       "      <th>1</th>\n",
       "      <td>value_2</td>\n",
       "      <td>value_2</td>\n",
       "      <td>value_1</td>\n",
       "      <td>class_b</td>\n",
       "    </tr>\n",
       "    <tr>\n",
       "      <th>2</th>\n",
       "      <td>value_1</td>\n",
       "      <td>value_2</td>\n",
       "      <td>value_1</td>\n",
       "      <td>class_b</td>\n",
       "    </tr>\n",
       "    <tr>\n",
       "      <th>3</th>\n",
       "      <td>value_3</td>\n",
       "      <td>value_1</td>\n",
       "      <td>value_1</td>\n",
       "      <td>class_b</td>\n",
       "    </tr>\n",
       "    <tr>\n",
       "      <th>4</th>\n",
       "      <td>value_3</td>\n",
       "      <td>value_1</td>\n",
       "      <td>value_4</td>\n",
       "      <td>class_a</td>\n",
       "    </tr>\n",
       "  </tbody>\n",
       "</table>\n",
       "</div>"
      ],
      "text/plain": [
       "  feature_a feature_b feature_c    class\n",
       "0   value_2   value_2   value_1  class_b\n",
       "1   value_2   value_2   value_1  class_b\n",
       "2   value_1   value_2   value_1  class_b\n",
       "3   value_3   value_1   value_1  class_b\n",
       "4   value_3   value_1   value_4  class_a"
      ]
     },
     "execution_count": 8,
     "metadata": {},
     "output_type": "execute_result"
    }
   ],
   "source": [
    "data = pd.DataFrame(data = data, columns = ['feature_a', 'feature_b', 'feature_c'])\n",
    "data['class'] = classes\n",
    "data.head()"
   ]
  },
  {
   "cell_type": "markdown",
   "metadata": {},
   "source": [
    "## Visualise the data"
   ]
  },
  {
   "cell_type": "code",
   "execution_count": 9,
   "metadata": {},
   "outputs": [
    {
     "data": {
      "image/png": "[encoded data removed]",
      "text/plain": [
       "<Figure size 432x288 with 1 Axes>"
      ]
     },
     "metadata": {
      "needs_background": "light"
     },
     "output_type": "display_data"
    }
   ],
   "source": [
    "_ = data.groupby('class')['class'].count().plot.bar()"
   ]
  },
  {
   "cell_type": "code",
   "execution_count": 10,
   "metadata": {},
   "outputs": [
    {
     "data": {
      "image/png": "[encoded data removed]",
      "text/plain": [
       "<Figure size 432x288 with 1 Axes>"
      ]
     },
     "metadata": {
      "needs_background": "light"
     },
     "output_type": "display_data"
    }
   ],
   "source": [
    "df = data.groupby(['class', 'feature_a'])['feature_a'].count().unstack('feature_a')\n",
    "_ = df.div(df.sum(axis = 1), axis = 0).plot.bar(stacked = True)"
   ]
  },
  {
   "cell_type": "code",
   "execution_count": 11,
   "metadata": {},
   "outputs": [
    {
     "data": {
      "image/png": "[encoded data removed]",
      "text/plain": [
       "<Figure size 432x288 with 1 Axes>"
      ]
     },
     "metadata": {
      "needs_background": "light"
     },
     "output_type": "display_data"
    }
   ],
   "source": [
    "df = data.groupby(['class', 'feature_b'])['feature_b'].count().unstack('feature_b')\n",
    "_ = df.div(df.sum(axis = 1), axis = 0).plot.bar(stacked = True)"
   ]
  },
  {
   "cell_type": "code",
   "execution_count": 12,
   "metadata": {},
   "outputs": [
    {
     "data": {
      "image/png": "[encoded data removed]",
      "text/plain": [
       "<Figure size 432x288 with 1 Axes>"
      ]
     },
     "metadata": {
      "needs_background": "light"
     },
     "output_type": "display_data"
    }
   ],
   "source": [
    "df = data.groupby(['class', 'feature_c'])['feature_c'].count().unstack('feature_c')\n",
    "_ = df.div(df.sum(axis = 1), axis = 0).plot.bar(stacked = True)"
   ]
  },
  {
   "cell_type": "markdown",
   "metadata": {},
   "source": [
    "The following visualisation, based on dimensionality reduction by means of MultiDimensional Scaling (MDS), is aimed at visually inspect the data and determine how much overlap there is between the classes i.e. whether the two classes can be easily separable. "
   ]
  },
  {
   "cell_type": "code",
   "execution_count": 13,
   "metadata": {},
   "outputs": [],
   "source": [
    "df = data.copy(deep = True)\n",
    "for f in ['feature_a', 'feature_b', 'feature_c']:\n",
    "    values = df[f].unique().tolist()\n",
    "    for v in values:\n",
    "        df[f + '_' + v] = (df[f] == v).astype(int)\n",
    "    df = df.drop(f, axis = 1)"
   ]
  },
  {
   "cell_type": "code",
   "execution_count": 14,
   "metadata": {},
   "outputs": [],
   "source": [
    "X = df.iloc[:, 1:].values\n",
    "embedding = MDS(n_components = 2)\n",
    "X_transformed = embedding.fit_transform(X)"
   ]
  },
  {
   "cell_type": "code",
   "execution_count": 15,
   "metadata": {},
   "outputs": [],
   "source": [
    "X_transformed = X_transformed + np.random.rand(X_transformed.shape[0], X_transformed.shape[1]) * 0.5"
   ]
  },
  {
   "cell_type": "code",
   "execution_count": 16,
   "metadata": {},
   "outputs": [
    {
     "data": {
      "image/png": "[encoded data removed]",
      "text/plain": [
       "<Figure size 432x288 with 1 Axes>"
      ]
     },
     "metadata": {
      "needs_background": "light"
     },
     "output_type": "display_data"
    }
   ],
   "source": [
    "c_a = df[df['class'] == 'class_a'].index.values\n",
    "c_b = df[df['class'] == 'class_b'].index.values\n",
    "fig, ax = plt.subplots()\n",
    "ax.scatter(X_transformed[c_a, 0], X_transformed[c_a, 1], alpha = 0.4, color = 'C1')\n",
    "ax.scatter(X_transformed[c_b, 0], X_transformed[c_b, 1], alpha = 0.4, color = 'C2')\n",
    "_ = ax.legend(['class_a', 'class_b'])"
   ]
  },
  {
   "cell_type": "markdown",
   "metadata": {},
   "source": [
    "## Split into training/test set\n",
    "\n",
    "We are assigning 80% of the data to the training set and 20% of the data to the test set. "
   ]
  },
  {
   "cell_type": "code",
   "execution_count": 17,
   "metadata": {},
   "outputs": [],
   "source": [
    "data = data.sample(frac = 1)\n",
    "data.index = range(len(data))\n",
    "df_training = data[0:math.ceil(0.8 * len(data))].copy()\n",
    "df_test = data[math.ceil(0.8 * len(data)):].copy()"
   ]
  },
  {
   "cell_type": "markdown",
   "metadata": {},
   "source": [
    "We are adding one more observation to the test set. This obsercation is assigned a value for the third feature (`value_5`) that was not observed during training. "
   ]
  },
  {
   "cell_type": "code",
   "execution_count": 18,
   "metadata": {},
   "outputs": [
    {
     "data": {
      "text/html": [
       "<div>\n",
       "<style scoped>\n",
       "    .dataframe tbody tr th:only-of-type {\n",
       "        vertical-align: middle;\n",
       "    }\n",
       "\n",
       "    .dataframe tbody tr th {\n",
       "        vertical-align: top;\n",
       "    }\n",
       "\n",
       "    .dataframe thead th {\n",
       "        text-align: right;\n",
       "    }\n",
       "</style>\n",
       "<table border=\"1\" class=\"dataframe\">\n",
       "  <thead>\n",
       "    <tr style=\"text-align: right;\">\n",
       "      <th></th>\n",
       "      <th>feature_a</th>\n",
       "      <th>feature_b</th>\n",
       "      <th>feature_c</th>\n",
       "      <th>class</th>\n",
       "    </tr>\n",
       "  </thead>\n",
       "  <tbody>\n",
       "    <tr>\n",
       "      <th>800</th>\n",
       "      <td>value_1</td>\n",
       "      <td>value_2</td>\n",
       "      <td>value_4</td>\n",
       "      <td>class_a</td>\n",
       "    </tr>\n",
       "    <tr>\n",
       "      <th>801</th>\n",
       "      <td>value_3</td>\n",
       "      <td>value_1</td>\n",
       "      <td>value_1</td>\n",
       "      <td>class_b</td>\n",
       "    </tr>\n",
       "    <tr>\n",
       "      <th>802</th>\n",
       "      <td>value_3</td>\n",
       "      <td>value_1</td>\n",
       "      <td>value_1</td>\n",
       "      <td>class_b</td>\n",
       "    </tr>\n",
       "    <tr>\n",
       "      <th>803</th>\n",
       "      <td>value_3</td>\n",
       "      <td>value_2</td>\n",
       "      <td>value_4</td>\n",
       "      <td>class_a</td>\n",
       "    </tr>\n",
       "    <tr>\n",
       "      <th>804</th>\n",
       "      <td>value_3</td>\n",
       "      <td>value_1</td>\n",
       "      <td>value_3</td>\n",
       "      <td>class_a</td>\n",
       "    </tr>\n",
       "    <tr>\n",
       "      <th>...</th>\n",
       "      <td>...</td>\n",
       "      <td>...</td>\n",
       "      <td>...</td>\n",
       "      <td>...</td>\n",
       "    </tr>\n",
       "    <tr>\n",
       "      <th>996</th>\n",
       "      <td>value_3</td>\n",
       "      <td>value_1</td>\n",
       "      <td>value_4</td>\n",
       "      <td>class_a</td>\n",
       "    </tr>\n",
       "    <tr>\n",
       "      <th>997</th>\n",
       "      <td>value_2</td>\n",
       "      <td>value_2</td>\n",
       "      <td>value_1</td>\n",
       "      <td>class_b</td>\n",
       "    </tr>\n",
       "    <tr>\n",
       "      <th>998</th>\n",
       "      <td>value_1</td>\n",
       "      <td>value_2</td>\n",
       "      <td>value_1</td>\n",
       "      <td>class_b</td>\n",
       "    </tr>\n",
       "    <tr>\n",
       "      <th>999</th>\n",
       "      <td>value_1</td>\n",
       "      <td>value_1</td>\n",
       "      <td>value_1</td>\n",
       "      <td>class_b</td>\n",
       "    </tr>\n",
       "    <tr>\n",
       "      <th>1000</th>\n",
       "      <td>value_1</td>\n",
       "      <td>value_1</td>\n",
       "      <td>value_5</td>\n",
       "      <td>class_b</td>\n",
       "    </tr>\n",
       "  </tbody>\n",
       "</table>\n",
       "<p>201 rows × 4 columns</p>\n",
       "</div>"
      ],
      "text/plain": [
       "     feature_a feature_b feature_c    class\n",
       "800    value_1   value_2   value_4  class_a\n",
       "801    value_3   value_1   value_1  class_b\n",
       "802    value_3   value_1   value_1  class_b\n",
       "803    value_3   value_2   value_4  class_a\n",
       "804    value_3   value_1   value_3  class_a\n",
       "...        ...       ...       ...      ...\n",
       "996    value_3   value_1   value_4  class_a\n",
       "997    value_2   value_2   value_1  class_b\n",
       "998    value_1   value_2   value_1  class_b\n",
       "999    value_1   value_1   value_1  class_b\n",
       "1000   value_1   value_1   value_5  class_b\n",
       "\n",
       "[201 rows x 4 columns]"
      ]
     },
     "execution_count": 18,
     "metadata": {},
     "output_type": "execute_result"
    }
   ],
   "source": [
    "df_test.loc[len(data)] = ['value_1', 'value_1', 'value_5', 'class_b']\n",
    "df_test"
   ]
  },
  {
   "cell_type": "markdown",
   "metadata": {},
   "source": [
    "## Without laplacian smoothing\n",
    "\n",
    "### Fit the model"
   ]
  },
  {
   "cell_type": "code",
   "execution_count": 19,
   "metadata": {},
   "outputs": [
    {
     "data": {
      "text/plain": [
       "class\n",
       "class_a    0.39875\n",
       "class_b    0.60125\n",
       "Name: class, dtype: float64"
      ]
     },
     "execution_count": 19,
     "metadata": {},
     "output_type": "execute_result"
    }
   ],
   "source": [
    "# Estimate class priors from the training data\n",
    "prior = df_training.groupby('class')['class'].count()\n",
    "prior = prior / prior.sum()\n",
    "prior"
   ]
  },
  {
   "cell_type": "code",
   "execution_count": 20,
   "metadata": {},
   "outputs": [
    {
     "data": {
      "text/plain": [
       "class    feature_a\n",
       "class_a  value_1      0.200627\n",
       "         value_2      0.084639\n",
       "         value_3      0.714734\n",
       "class_b  value_1      0.494802\n",
       "         value_2      0.293139\n",
       "         value_3      0.212058\n",
       "Name: feature_a, dtype: float64"
      ]
     },
     "execution_count": 20,
     "metadata": {},
     "output_type": "execute_result"
    }
   ],
   "source": [
    "# Estimate first feature's likelihood from the training data \n",
    "likelihood_a = df_training.groupby(['class', 'feature_a'])['feature_a'].count()\n",
    "likelihood_a = likelihood_a / likelihood_a.sum(level = 0)\n",
    "likelihood_a"
   ]
  },
  {
   "cell_type": "code",
   "execution_count": 21,
   "metadata": {},
   "outputs": [
    {
     "data": {
      "text/plain": [
       "class    feature_b\n",
       "class_a  value_1      0.824451\n",
       "         value_2      0.175549\n",
       "class_b  value_1      0.411642\n",
       "         value_2      0.588358\n",
       "Name: feature_b, dtype: float64"
      ]
     },
     "execution_count": 21,
     "metadata": {},
     "output_type": "execute_result"
    }
   ],
   "source": [
    "# Estimate second feature's likelihood from the training data\n",
    "likelihood_b = df_training.groupby(['class', 'feature_b'])['feature_b'].count()\n",
    "likelihood_b = likelihood_b / likelihood_b.sum(level = 0)\n",
    "likelihood_b"
   ]
  },
  {
   "cell_type": "code",
   "execution_count": 22,
   "metadata": {},
   "outputs": [
    {
     "data": {
      "text/plain": [
       "class    feature_c\n",
       "class_a  value_1      0.090909\n",
       "         value_2      0.197492\n",
       "         value_3      0.285266\n",
       "         value_4      0.426332\n",
       "         value_5      0.000000\n",
       "class_b  value_1      0.914761\n",
       "         value_2      0.014553\n",
       "         value_3      0.039501\n",
       "         value_4      0.031185\n",
       "         value_5      0.000000\n",
       "Name: feature_c, dtype: float64"
      ]
     },
     "execution_count": 22,
     "metadata": {},
     "output_type": "execute_result"
    }
   ],
   "source": [
    "# Estimate third deaeture's likelihood from the training data\n",
    "# Manually assigning a likelihood of 0 for the value in the test data but not in the training data\n",
    "likelihood_c = df_training.groupby(['class', 'feature_c'])['feature_c'].count()\n",
    "likelihood_c = likelihood_c / likelihood_c.sum(level = 0)\n",
    "likelihood_c['class_a', 'value_5'] = 0\n",
    "likelihood_c['class_b', 'value_5'] = 0\n",
    "likelihood_c.sort_index(inplace = True)\n",
    "likelihood_c"
   ]
  },
  {
   "cell_type": "markdown",
   "metadata": {},
   "source": [
    "### Predict test data\n",
    "\n",
    "Using Bayes to calculate the class posteriors for each observation. Each observation is assigned to that class for which the posterior is maximum. "
   ]
  },
  {
   "cell_type": "code",
   "execution_count": 23,
   "metadata": {},
   "outputs": [],
   "source": [
    "df_test['posterior_a'] = df_test[['feature_a', \n",
    "                                  'feature_b', \n",
    "                                  'feature_c']].apply(lambda x: likelihood_a.loc['class_a', x[0]] * \\\n",
    "                                                                likelihood_b.loc['class_a', x[1]] * \\\n",
    "                                                                likelihood_c.loc['class_a', x[2]], \n",
    "                                                      axis = 1)\n",
    "\n",
    "\n",
    "df_test['posterior_b'] = df_test[['feature_a', \n",
    "                                  'feature_b', \n",
    "                                  'feature_c']].apply(lambda x: likelihood_a.loc['class_b', x[0]] * \\\n",
    "                                                                likelihood_b.loc['class_b', x[1]] * \\\n",
    "                                                                likelihood_c.loc['class_b', x[2]], \n",
    "                                                      axis = 1)\n",
    "\n",
    "df_test['pred_class'] = np.where(df_test['posterior_a'] >= df_test['posterior_b'], 'class_a', 'class_b')"
   ]
  },
  {
   "cell_type": "code",
   "execution_count": 24,
   "metadata": {},
   "outputs": [
    {
     "name": "stdout",
     "output_type": "stream",
     "text": [
      "Prediction accuracy: 0.9253731343283582\n"
     ]
    }
   ],
   "source": [
    "accuracy = (df_test['pred_class'] == df_test['class']).sum() / len(df_test)\n",
    "print('Prediction accuracy: ' + str(accuracy))"
   ]
  },
  {
   "cell_type": "code",
   "execution_count": 25,
   "metadata": {},
   "outputs": [
    {
     "name": "stdout",
     "output_type": "stream",
     "text": [
      "Confusion matrix:\n"
     ]
    },
    {
     "data": {
      "text/html": [
       "<div>\n",
       "<style scoped>\n",
       "    .dataframe tbody tr th:only-of-type {\n",
       "        vertical-align: middle;\n",
       "    }\n",
       "\n",
       "    .dataframe tbody tr th {\n",
       "        vertical-align: top;\n",
       "    }\n",
       "\n",
       "    .dataframe thead th {\n",
       "        text-align: right;\n",
       "    }\n",
       "</style>\n",
       "<table border=\"1\" class=\"dataframe\">\n",
       "  <thead>\n",
       "    <tr style=\"text-align: right;\">\n",
       "      <th></th>\n",
       "      <th>predicted a</th>\n",
       "      <th>predicted b</th>\n",
       "    </tr>\n",
       "  </thead>\n",
       "  <tbody>\n",
       "    <tr>\n",
       "      <th>class a</th>\n",
       "      <td>61</td>\n",
       "      <td>6</td>\n",
       "    </tr>\n",
       "    <tr>\n",
       "      <th>class b</th>\n",
       "      <td>9</td>\n",
       "      <td>125</td>\n",
       "    </tr>\n",
       "  </tbody>\n",
       "</table>\n",
       "</div>"
      ],
      "text/plain": [
       "         predicted a  predicted b\n",
       "class a           61            6\n",
       "class b            9          125"
      ]
     },
     "execution_count": 25,
     "metadata": {},
     "output_type": "execute_result"
    }
   ],
   "source": [
    "confusion = [[(df_test[df_test['class'] == 'class_a']['pred_class'] == 'class_a').sum(),\n",
    "              (df_test[df_test['class'] == 'class_a']['pred_class'] == 'class_b').sum()],\n",
    "             [(df_test[df_test['class'] == 'class_b']['pred_class'] == 'class_a').sum(),\n",
    "             (df_test[df_test['class'] == 'class_b']['pred_class'] == 'class_b').sum()]]\n",
    "print('Confusion matrix:')\n",
    "pd.DataFrame(data = confusion, columns = ['predicted a', 'predicted b'], index = ['class a', 'class b'])"
   ]
  },
  {
   "cell_type": "markdown",
   "metadata": {},
   "source": [
    "Without Laplacian smoothing, any observation containing a value which was not observed during training (in this case, `value_5` in `feature_3`) will end up having a posterior value of zero for each class. Therefore, we will not be able to decide which class to assign to this observation. In our case, this observation was assigned `class_a` due to the way we treat draws. "
   ]
  },
  {
   "cell_type": "code",
   "execution_count": 26,
   "metadata": {},
   "outputs": [
    {
     "data": {
      "text/plain": [
       "posterior_a          0\n",
       "posterior_b          0\n",
       "class          class_b\n",
       "pred_class     class_a\n",
       "Name: 1000, dtype: object"
      ]
     },
     "execution_count": 26,
     "metadata": {},
     "output_type": "execute_result"
    }
   ],
   "source": [
    "df_test.loc[len(data)][['posterior_a', 'posterior_b', 'class', 'pred_class']]"
   ]
  },
  {
   "cell_type": "markdown",
   "metadata": {},
   "source": [
    "## Laplacian smoothing\n",
    "\n",
    "The Laplacian smoothing variant introduces a smoothing parameter $\\lambda$ which prevents observations with values not seen during training to be assigned a posterior of zero for every class. \n",
    "\n",
    "### Fit the model"
   ]
  },
  {
   "cell_type": "code",
   "execution_count": 27,
   "metadata": {},
   "outputs": [],
   "source": [
    "LAMBDA = 1\n",
    "K = 2 # Number of classes"
   ]
  },
  {
   "cell_type": "code",
   "execution_count": 28,
   "metadata": {},
   "outputs": [
    {
     "data": {
      "text/plain": [
       "class\n",
       "class_a    0.399002\n",
       "class_b    0.600998\n",
       "Name: class, dtype: float64"
      ]
     },
     "execution_count": 28,
     "metadata": {},
     "output_type": "execute_result"
    }
   ],
   "source": [
    "# Estimate class priors from the training data\n",
    "prior = df_training.groupby('class')['class'].count()\n",
    "prior = (prior + LAMBDA) / (prior.sum() + K * LAMBDA)\n",
    "prior"
   ]
  },
  {
   "cell_type": "code",
   "execution_count": 29,
   "metadata": {},
   "outputs": [
    {
     "data": {
      "text/plain": [
       "class    feature_a\n",
       "class_a  value_1      0.201863\n",
       "         value_2      0.086957\n",
       "         value_3      0.711180\n",
       "class_b  value_1      0.493802\n",
       "         value_2      0.293388\n",
       "         value_3      0.212810\n",
       "Name: feature_a, dtype: float64"
      ]
     },
     "execution_count": 29,
     "metadata": {},
     "output_type": "execute_result"
    }
   ],
   "source": [
    "# Estimate first feature's likelihood from the training data \n",
    "A_a = len(df_training['feature_a'].unique().tolist())\n",
    "likelihood_a = df_training.groupby(['class', 'feature_a'])['feature_a'].count()\n",
    "likelihood_a = (likelihood_a + LAMBDA) / (likelihood_a.sum(level = 0) + A_a * LAMBDA)\n",
    "likelihood_a"
   ]
  },
  {
   "cell_type": "code",
   "execution_count": 30,
   "metadata": {},
   "outputs": [
    {
     "data": {
      "text/plain": [
       "class    feature_b\n",
       "class_a  value_1      0.822430\n",
       "         value_2      0.177570\n",
       "class_b  value_1      0.412008\n",
       "         value_2      0.587992\n",
       "Name: feature_b, dtype: float64"
      ]
     },
     "execution_count": 30,
     "metadata": {},
     "output_type": "execute_result"
    }
   ],
   "source": [
    "# Estimate second feature's likelihood from the training data \n",
    "A_b = len(df_training['feature_b'].unique().tolist())\n",
    "likelihood_b = df_training.groupby(['class', 'feature_b'])['feature_b'].count()\n",
    "likelihood_b = (likelihood_b + LAMBDA) / (likelihood_b.sum(level = 0) + A_b * LAMBDA)\n",
    "likelihood_b"
   ]
  },
  {
   "cell_type": "code",
   "execution_count": 31,
   "metadata": {},
   "outputs": [
    {
     "data": {
      "text/plain": [
       "class    feature_c\n",
       "class_a  value_1      0.092593\n",
       "         value_2      0.197531\n",
       "         value_3      0.283951\n",
       "         value_4      0.422840\n",
       "         value_5      0.003086\n",
       "class_b  value_1      0.907407\n",
       "         value_2      0.016461\n",
       "         value_3      0.041152\n",
       "         value_4      0.032922\n",
       "         value_5      0.002058\n",
       "Name: feature_c, dtype: float64"
      ]
     },
     "execution_count": 31,
     "metadata": {},
     "output_type": "execute_result"
    }
   ],
   "source": [
    "# Estimate third feature's likelihood from the training data \n",
    "A_c = len(df_test['feature_c'].unique().tolist())\n",
    "likelihood_c = df_training.groupby(['class', 'feature_c'])['feature_c'].count()\n",
    "likelihood_c_sum = likelihood_c.sum(level = 0)\n",
    "likelihood_c = (likelihood_c + LAMBDA) \n",
    "likelihood_c['class_a', 'value_5'] = LAMBDA \n",
    "likelihood_c['class_b', 'value_5'] = LAMBDA\n",
    "likelihood_c.sort_index(inplace = True)\n",
    "likelihood_c = likelihood_c / (likelihood_c_sum + A_c * LAMBDA)\n",
    "likelihood_c"
   ]
  },
  {
   "cell_type": "markdown",
   "metadata": {},
   "source": [
    "### Predict test data"
   ]
  },
  {
   "cell_type": "code",
   "execution_count": 32,
   "metadata": {},
   "outputs": [],
   "source": [
    "df_test['posterior_a'] = df_test[['feature_a', \n",
    "                                  'feature_b', \n",
    "                                  'feature_c']].apply(lambda x: likelihood_a.loc['class_a', x[0]] * \\\n",
    "                                                                likelihood_b.loc['class_a', x[1]] * \\\n",
    "                                                                likelihood_c.loc['class_a', x[2]], \n",
    "                                                      axis = 1)\n",
    "\n",
    "\n",
    "df_test['posterior_b'] = df_test[['feature_a', \n",
    "                                  'feature_b', \n",
    "                                  'feature_c']].apply(lambda x: likelihood_a.loc['class_b', x[0]] * \\\n",
    "                                                                likelihood_b.loc['class_b', x[1]] * \\\n",
    "                                                                likelihood_c.loc['class_b', x[2]], \n",
    "                                                      axis = 1)\n",
    "\n",
    "df_test['pred_class'] = np.where(df_test['posterior_a'] >= df_test['posterior_b'], 'class_a', 'class_b')"
   ]
  },
  {
   "cell_type": "code",
   "execution_count": 33,
   "metadata": {},
   "outputs": [
    {
     "name": "stdout",
     "output_type": "stream",
     "text": [
      "Prediction accuracy: 0.9253731343283582\n"
     ]
    }
   ],
   "source": [
    "accuracy = (df_test['pred_class'] == df_test['class']).sum() / len(df_test)\n",
    "print('Prediction accuracy: ' + str(accuracy))"
   ]
  },
  {
   "cell_type": "code",
   "execution_count": 34,
   "metadata": {},
   "outputs": [
    {
     "name": "stdout",
     "output_type": "stream",
     "text": [
      "Confusion matrix:\n"
     ]
    },
    {
     "data": {
      "text/html": [
       "<div>\n",
       "<style scoped>\n",
       "    .dataframe tbody tr th:only-of-type {\n",
       "        vertical-align: middle;\n",
       "    }\n",
       "\n",
       "    .dataframe tbody tr th {\n",
       "        vertical-align: top;\n",
       "    }\n",
       "\n",
       "    .dataframe thead th {\n",
       "        text-align: right;\n",
       "    }\n",
       "</style>\n",
       "<table border=\"1\" class=\"dataframe\">\n",
       "  <thead>\n",
       "    <tr style=\"text-align: right;\">\n",
       "      <th></th>\n",
       "      <th>predicted a</th>\n",
       "      <th>predicted b</th>\n",
       "    </tr>\n",
       "  </thead>\n",
       "  <tbody>\n",
       "    <tr>\n",
       "      <th>class a</th>\n",
       "      <td>61</td>\n",
       "      <td>6</td>\n",
       "    </tr>\n",
       "    <tr>\n",
       "      <th>class b</th>\n",
       "      <td>9</td>\n",
       "      <td>125</td>\n",
       "    </tr>\n",
       "  </tbody>\n",
       "</table>\n",
       "</div>"
      ],
      "text/plain": [
       "         predicted a  predicted b\n",
       "class a           61            6\n",
       "class b            9          125"
      ]
     },
     "execution_count": 34,
     "metadata": {},
     "output_type": "execute_result"
    }
   ],
   "source": [
    "confusion = [[(df_test[df_test['class'] == 'class_a']['pred_class'] == 'class_a').sum(),\n",
    "              (df_test[df_test['class'] == 'class_a']['pred_class'] == 'class_b').sum()],\n",
    "             [(df_test[df_test['class'] == 'class_b']['pred_class'] == 'class_a').sum(),\n",
    "             (df_test[df_test['class'] == 'class_b']['pred_class'] == 'class_b').sum()]]\n",
    "print('Confusion matrix:')\n",
    "pd.DataFrame(data = confusion, columns = ['predicted a', 'predicted b'], index = ['class a', 'class b'])"
   ]
  },
  {
   "cell_type": "markdown",
   "metadata": {},
   "source": [
    "Even though this particular observation containing the unknown value for the third feature was still missclassified, at least we were able to prevent the algorithn to assign a value of zero to every single posterior. "
   ]
  },
  {
   "cell_type": "code",
   "execution_count": 35,
   "metadata": {},
   "outputs": [
    {
     "data": {
      "text/plain": [
       "posterior_a    0.000512403\n",
       "posterior_b    0.000418622\n",
       "class              class_b\n",
       "pred_class         class_a\n",
       "Name: 1000, dtype: object"
      ]
     },
     "execution_count": 35,
     "metadata": {},
     "output_type": "execute_result"
    }
   ],
   "source": [
    "df_test.loc[len(data)][['posterior_a', 'posterior_b', 'class', 'pred_class']]"
   ]
  }
 ],
 "metadata": {
  "kernelspec": {
   "display_name": "Python 3",
   "language": "python",
   "name": "python3"
  },
  "language_info": {
   "codemirror_mode": {
    "name": "ipython",
    "version": 3
   },
   "file_extension": ".py",
   "mimetype": "text/x-python",
   "name": "python",
   "nbconvert_exporter": "python",
   "pygments_lexer": "ipython3",
   "version": "3.7.5"
  }
 },
 "nbformat": 4,
 "nbformat_minor": 2
}
