{
 "cells": [
  {
   "cell_type": "code",
   "execution_count": 1,
   "metadata": {},
   "outputs": [],
   "source": [
    "import numpy as np\n",
    "import pandas as pd\n",
    "import math\n",
    "import matplotlib.pyplot as plt"
   ]
  },
  {
   "cell_type": "markdown",
   "metadata": {},
   "source": [
    "In this notebook I apply logistic regression to two toy examples. My objective is to have a better understanding of the Newton-Raphson method for optimisation, used to fit a logistic regression model. \n",
    "\n",
    "## 1D example"
   ]
  },
  {
   "cell_type": "code",
   "execution_count": 2,
   "metadata": {},
   "outputs": [],
   "source": [
    "data = pd.read_csv('../../datasets/logistic_regression_1d.csv')"
   ]
  },
  {
   "cell_type": "code",
   "execution_count": 3,
   "metadata": {
    "scrolled": true
   },
   "outputs": [
    {
     "data": {
      "text/plain": [
       "[<matplotlib.lines.Line2D at 0x21c28aa1f98>]"
      ]
     },
     "execution_count": 3,
     "metadata": {},
     "output_type": "execute_result"
    },
    {
     "data": {
      "image/png": "[encoded data removed]",
      "text/plain": [
       "<Figure size 432x288 with 1 Axes>"
      ]
     },
     "metadata": {},
     "output_type": "display_data"
    }
   ],
   "source": [
    "fig, ax = plt.subplots()\n",
    "ax.plot(data[data.y == 0].x, data[data.y == 0].y, 'o')\n",
    "ax.plot(data[data.y == 1].x, data[data.y == 1].y, 'o')"
   ]
  },
  {
   "cell_type": "markdown",
   "metadata": {},
   "source": [
    "We have to fit a model in the following form:\n",
    "\n",
    "$\\text{logit}(y) = \\beta_0 + \\beta_1 x$\n",
    "\n",
    "where $\\text{logit}(y) = \\text{ln}\\left(\\frac{y}{1 - y}\\right)$, and therefore $y = \\frac{e^{\\beta_0 + \\beta_1 x_{1,i} + \\ldots + \\beta_{k} x_{k,i}}}{1 + e^{\\beta_0 + \\beta_1 x_{1,i} + \\ldots + \\beta_{k} x_{k,i}}}$\n",
    "\n",
    "We do this by applying iteratively reweighted least squares, which form is obtained after derivation based on the Newton-Raphson's method (see https://www.cs.cmu.edu/~mgormley/courses/10701-f16/slides/lecture5.pdf):\n",
    "\n",
    "$\\vec{\\beta}_{n+1} = \\vec{\\beta}_n - \\left(X^TSX\\right)^{-1}\\left(X^T(\\mu - y)\\right)$\n",
    "\n",
    "where $S = \\text{diag}(\\mu_i(1 - \\mu_i))$ is a diagonal matrix of weights and each weight is calculated as $\\mu_i = 1/(1+e^{-\\left(\\beta_0 + \\beta_1 x_{1,i} + \\ldots + \\beta_{k} x_{k,i}\\right)})$.\n",
    "\n",
    "A good method to initialise the coefficients before the first iteration (see https://statacumen.com/teach/SC1/SC1_11_LogisticRegression.pdf) is:\n",
    "\n",
    "$\\vec{\\beta}_0 = \\{\\frac{\\bar{y}}{1 - \\bar{y}}, 0, \\ldots, 0 \\}$"
   ]
  },
  {
   "cell_type": "code",
   "execution_count": 4,
   "metadata": {},
   "outputs": [],
   "source": [
    "def fit_logistic(x, y):\n",
    "    '''\n",
    "    Fits a logistic regression model. X and y should be m x n arrays, where m is the number\n",
    "    of observartaions and n is the number of features\n",
    "    '''\n",
    "    X =  np.hstack((np.ones((x.shape[0], 1)), x))\n",
    "    B = np.zeros((X.shape[1], 1))\n",
    "    B[0] = math.log(np.mean(y) / (1 - np.mean(y)))\n",
    "    prev_B = B + 1\n",
    "    \n",
    "    while np.sum(np.abs(B - prev_B)) > 0.001:\n",
    "        prev_B = B\n",
    "        \n",
    "        mu = 1 / (1 + np.exp(-np.dot(X, B)))\n",
    "        S = np.diag((mu * (1 - mu)).flatten())\n",
    "        B = B - np.dot(np.linalg.inv(np.dot(np.dot(X.T, S), X)), np.dot(X.T, mu - y))\n",
    "        print(B)\n",
    "        \n",
    "    return B"
   ]
  },
  {
   "cell_type": "code",
   "execution_count": 5,
   "metadata": {
    "scrolled": false
   },
   "outputs": [
    {
     "name": "stdout",
     "output_type": "stream",
     "text": [
      "[[0.70566244]\n",
      " [0.49694538]]\n",
      "[[1.10192   ]\n",
      " [0.80368937]]\n",
      "[[1.41180924]\n",
      " [1.07366359]]\n",
      "[[1.60574048]\n",
      " [1.25679074]]\n",
      "[[1.66662791]\n",
      " [1.3152457 ]]\n",
      "[[1.67098781]\n",
      " [1.31940786]]\n",
      "[[1.67100738]\n",
      " [1.31942645]]\n"
     ]
    }
   ],
   "source": [
    "B = fit_logistic(data.x.values.reshape(-1, 1), data.y.values.reshape(-1, 1))"
   ]
  },
  {
   "cell_type": "code",
   "execution_count": 6,
   "metadata": {},
   "outputs": [
    {
     "data": {
      "text/plain": [
       "[<matplotlib.lines.Line2D at 0x21c28b1a898>]"
      ]
     },
     "execution_count": 6,
     "metadata": {},
     "output_type": "execute_result"
    },
    {
     "data": {
      "image/png": "[encoded data removed]",
      "text/plain": [
       "<Figure size 432x288 with 1 Axes>"
      ]
     },
     "metadata": {},
     "output_type": "display_data"
    }
   ],
   "source": [
    "fig, ax = plt.subplots()\n",
    "ax.plot(data[data.y == 0].x, data[data.y == 0].y, 'o')\n",
    "ax.plot(data[data.y == 1].x, data[data.y == 1].y, 'o')\n",
    "\n",
    "xs = []\n",
    "ys = []\n",
    "for x in np.arange(data.x.min() - 1, data.x.max() + 1, 0.1):\n",
    "    y = math.exp(B[0] + B[1] * x) / (1 + math.exp(B[0] + B[1] * x))\n",
    "    xs.append(x)\n",
    "    ys.append(y)\n",
    "ax.plot(xs, ys)"
   ]
  },
  {
   "cell_type": "code",
   "execution_count": 7,
   "metadata": {},
   "outputs": [],
   "source": [
    "# Making predictions to show a confusion matrix\n",
    "data['p'] = data['x'].apply(lambda x: math.exp(B[0] + B[1] * x) / (1 + math.exp(B[0] + B[1] * x)))\n",
    "data['y_pred'] = data['p'].apply(lambda x: 1 if x > 0.5 else 0)"
   ]
  },
  {
   "cell_type": "code",
   "execution_count": 8,
   "metadata": {},
   "outputs": [
    {
     "data": {
      "text/html": [
       "<div>\n",
       "<style scoped>\n",
       "    .dataframe tbody tr th:only-of-type {\n",
       "        vertical-align: middle;\n",
       "    }\n",
       "\n",
       "    .dataframe tbody tr th {\n",
       "        vertical-align: top;\n",
       "    }\n",
       "\n",
       "    .dataframe thead th {\n",
       "        text-align: right;\n",
       "    }\n",
       "</style>\n",
       "<table border=\"1\" class=\"dataframe\">\n",
       "  <thead>\n",
       "    <tr style=\"text-align: right;\">\n",
       "      <th>y_pred</th>\n",
       "      <th>0</th>\n",
       "      <th>1</th>\n",
       "    </tr>\n",
       "    <tr>\n",
       "      <th>y</th>\n",
       "      <th></th>\n",
       "      <th></th>\n",
       "    </tr>\n",
       "  </thead>\n",
       "  <tbody>\n",
       "    <tr>\n",
       "      <th>0</th>\n",
       "      <td>4</td>\n",
       "      <td>1</td>\n",
       "    </tr>\n",
       "    <tr>\n",
       "      <th>1</th>\n",
       "      <td>1</td>\n",
       "      <td>4</td>\n",
       "    </tr>\n",
       "  </tbody>\n",
       "</table>\n",
       "</div>"
      ],
      "text/plain": [
       "y_pred  0  1\n",
       "y           \n",
       "0       4  1\n",
       "1       1  4"
      ]
     },
     "execution_count": 8,
     "metadata": {},
     "output_type": "execute_result"
    }
   ],
   "source": [
    "# Confusion matrix\n",
    "data.groupby(['y', 'y_pred'])['x'].count().reset_index().pivot(index = 'y', columns = 'y_pred', values = 'x')"
   ]
  },
  {
   "cell_type": "markdown",
   "metadata": {},
   "source": [
    "## 2D example"
   ]
  },
  {
   "cell_type": "code",
   "execution_count": 9,
   "metadata": {},
   "outputs": [],
   "source": [
    "data = pd.read_csv('../../datasets/logistic_regression_2d.csv')"
   ]
  },
  {
   "cell_type": "code",
   "execution_count": 10,
   "metadata": {},
   "outputs": [
    {
     "name": "stdout",
     "output_type": "stream",
     "text": [
      "[[-6.10279063e+00]\n",
      " [ 1.15634425e-01]\n",
      " [ 1.66662351e-05]]\n",
      "[[-9.47037575e+00]\n",
      " [ 1.77534056e-01]\n",
      " [ 2.69582270e-05]]\n",
      "[[-1.16837485e+01]\n",
      " [ 2.19154057e-01]\n",
      " [ 3.36652513e-05]]\n",
      "[[-1.23819258e+01]\n",
      " [ 2.32486803e-01]\n",
      " [ 3.57472387e-05]]\n",
      "[[-1.24337310e+01]\n",
      " [ 2.33484471e-01]\n",
      " [ 3.59001821e-05]]\n",
      "[[-1.24339881e+01]\n",
      " [ 2.33489442e-01]\n",
      " [ 3.59009382e-05]]\n"
     ]
    }
   ],
   "source": [
    "B = fit_logistic(data[['Age', 'EstimatedSalary']].values, data.Purchased.values.reshape(-1, 1))"
   ]
  },
  {
   "cell_type": "code",
   "execution_count": 11,
   "metadata": {},
   "outputs": [
    {
     "data": {
      "image/png": "[encoded data removed]",
      "text/plain": [
       "<Figure size 576x576 with 1 Axes>"
      ]
     },
     "metadata": {},
     "output_type": "display_data"
    }
   ],
   "source": [
    "min_x = data['Age'].min() - 5\n",
    "max_x = data['Age'].max() + 5\n",
    "min_y = data['EstimatedSalary'].min() - 10000\n",
    "max_y = data['EstimatedSalary'].max() + 10000\n",
    "colormap = plt.cm.RdYlBu\n",
    "\n",
    "fig, ax = plt.subplots()\n",
    "x1 = np.linspace(min_x , max_x, 1000)\n",
    "x2 = np.linspace(min_y, max_y, 1000)\n",
    "xx1, xx2 = np.meshgrid(x1, x2)\n",
    "lin = B[0] + xx1 * B[1] + xx2 * B[2]\n",
    "res = ((np.exp(lin) / (1 + np.exp(lin))) > 0.5).astype(int)\n",
    "ext = [min_x, max_x, min_y, max_y]\n",
    "plt.imshow(res, zorder = 0, extent = ext, alpha = 0.5, cmap = colormap, origin = 'lower')\n",
    "\n",
    "ax.scatter(data[data.Purchased == 0]['Age'], data[data.Purchased == 0]['EstimatedSalary'], c = colormap(0))\n",
    "ax.scatter(data[data.Purchased == 1]['Age'], data[data.Purchased == 1]['EstimatedSalary'], c = colormap(256))\n",
    "ax.set_xlabel('Age')\n",
    "ax.set_ylabel('EstimatedSalary')\n",
    "\n",
    "aspect = res.shape[0]/float(res.shape[1])*((ext[1]-ext[0])/(ext[3]-ext[2]))\n",
    "plt.gca().set_aspect(aspect)\n",
    "fig.set_figwidth(8)\n",
    "fig.set_figheight(8)"
   ]
  },
  {
   "cell_type": "code",
   "execution_count": 12,
   "metadata": {},
   "outputs": [],
   "source": [
    "# Making predictions to show a confusion matrix\n",
    "data['p'] = data[['Age', 'EstimatedSalary']].apply(lambda x: math.exp(B[0] + B[1] * x['Age'] + B[2] * x['EstimatedSalary']) / \\\n",
    "                                                             (1 + math.exp(B[0] + B[1] * x['Age'] + B[2] * x['EstimatedSalary'])),\n",
    "                                                             axis = 1)\n",
    "data['y_pred'] = data['p'].apply(lambda x: 1 if x > 0.5 else 0)"
   ]
  },
  {
   "cell_type": "code",
   "execution_count": 13,
   "metadata": {},
   "outputs": [
    {
     "data": {
      "text/html": [
       "<div>\n",
       "<style scoped>\n",
       "    .dataframe tbody tr th:only-of-type {\n",
       "        vertical-align: middle;\n",
       "    }\n",
       "\n",
       "    .dataframe tbody tr th {\n",
       "        vertical-align: top;\n",
       "    }\n",
       "\n",
       "    .dataframe thead th {\n",
       "        text-align: right;\n",
       "    }\n",
       "</style>\n",
       "<table border=\"1\" class=\"dataframe\">\n",
       "  <thead>\n",
       "    <tr style=\"text-align: right;\">\n",
       "      <th>y_pred</th>\n",
       "      <th>0</th>\n",
       "      <th>1</th>\n",
       "    </tr>\n",
       "    <tr>\n",
       "      <th>y</th>\n",
       "      <th></th>\n",
       "      <th></th>\n",
       "    </tr>\n",
       "  </thead>\n",
       "  <tbody>\n",
       "    <tr>\n",
       "      <th>0</th>\n",
       "      <td>236</td>\n",
       "      <td>21</td>\n",
       "    </tr>\n",
       "    <tr>\n",
       "      <th>1</th>\n",
       "      <td>41</td>\n",
       "      <td>102</td>\n",
       "    </tr>\n",
       "  </tbody>\n",
       "</table>\n",
       "</div>"
      ],
      "text/plain": [
       "y_pred    0    1\n",
       "y               \n",
       "0       236   21\n",
       "1        41  102"
      ]
     },
     "execution_count": 13,
     "metadata": {},
     "output_type": "execute_result"
    }
   ],
   "source": [
    "# Confusion matrix\n",
    "data.groupby(['Purchased', 'y_pred'])['Age'] \\\n",
    "    .count() \\\n",
    "    .reset_index() \\\n",
    "    .rename(index = str, columns = {'Purchased': 'y'}) \\\n",
    "    .pivot(index = 'y', columns = 'y_pred', values = 'Age')"
   ]
  }
 ],
 "metadata": {
  "kernelspec": {
   "display_name": "Python 3",
   "language": "python",
   "name": "python3"
  },
  "language_info": {
   "codemirror_mode": {
    "name": "ipython",
    "version": 3
   },
   "file_extension": ".py",
   "mimetype": "text/x-python",
   "name": "python",
   "nbconvert_exporter": "python",
   "pygments_lexer": "ipython3",
   "version": "3.6.5"
  }
 },
 "nbformat": 4,
 "nbformat_minor": 2
}
