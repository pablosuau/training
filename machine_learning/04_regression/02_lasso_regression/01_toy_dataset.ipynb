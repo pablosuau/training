{
 "cells": [
  {
   "cell_type": "code",
   "execution_count": 1,
   "metadata": {},
   "outputs": [],
   "source": [
    "from math import fabs\n",
    "import numpy as np\n",
    "from numpy.linalg import norm\n",
    "import matplotlib.pyplot as plt\n",
    "from sklearn.datasets import make_regression"
   ]
  },
  {
   "cell_type": "code",
   "execution_count": 2,
   "metadata": {},
   "outputs": [],
   "source": [
    "SAMPLES = 10000 # This is not enough data for such high dimensionality - the model is going to be biased\n",
    "DIVERGENCE_VALUE = 10\n",
    "MAX_ITERATIONS = 10 ** 5\n",
    "STOP_THRESHOLD = 10 ** -10\n",
    "DIMENSIONS = 7\n",
    "LAMBDA = 0.01\n",
    "MU = 0.0001\n",
    "ALPHA = 0.5\n",
    "BETA = 0.99"
   ]
  },
  {
   "cell_type": "code",
   "execution_count": 3,
   "metadata": {},
   "outputs": [],
   "source": [
    "np.random.seed(0)"
   ]
  },
  {
   "cell_type": "code",
   "execution_count": 4,
   "metadata": {},
   "outputs": [],
   "source": [
    "(X, y, coef) = make_regression(n_samples = SAMPLES, \n",
    "                               n_features = DIMENSIONS - 1, \n",
    "                               n_informative = DIMENSIONS - 1, \n",
    "                               effective_rank = 2,\n",
    "                               n_targets = 1, \n",
    "                               coef = True,\n",
    "                               bias = 3,\n",
    "                               tail_strength = 0)"
   ]
  },
  {
   "cell_type": "code",
   "execution_count": 5,
   "metadata": {},
   "outputs": [
    {
     "data": {
      "text/plain": [
       "array([75.78410261, 21.72818777, 75.92203362, 56.5729803 , 77.78913092,\n",
       "       18.43607803])"
      ]
     },
     "execution_count": 5,
     "metadata": {},
     "output_type": "execute_result"
    }
   ],
   "source": [
    "coef"
   ]
  },
  {
   "cell_type": "markdown",
   "metadata": {},
   "source": [
    "$\\displaystyle \\min_{\\beta}\\frac{1}{n}||y-X\\beta||^2_{2}+\\lambda||\\beta||_1 + \\mu||\\beta||_2^2$\n",
    "\n",
    "$L=\\frac{1}{n}\\displaystyle\\sum_{i=1}^{n}\\left(y_i - \\left(\\beta_0 + \\displaystyle\\sum_{j=1}^{6} \\beta_j x_{ij}\\right)\\right)^2 + \\lambda\\displaystyle\\sum_{j=0}^{6}|\\beta_j| + \\mu\\displaystyle\\sum_{j=0}^{6} \\beta_j^2$\n",
    "\n",
    "$\\frac{\\partial L}{\\partial \\beta_0} = -\\frac{2}{n}\\displaystyle\\sum_{i=1}^{n}\\left(y_i - \\beta_0 -\\displaystyle\\sum_{j=1}^{6} \\beta_j x_{ij}\\right) + \\lambda\\frac{\\beta_0}{|\\beta_0|} + 2\\mu\\beta_0$\n",
    "\n",
    "And for $\\beta_{k\\neq 0}$:\n",
    "\n",
    "$\\frac{\\partial L}{\\partial \\beta_{k}} = -\\frac{2}{n}\\displaystyle\\sum_{i=1}^{n}x_{ik}\\left(y_i - \\beta_0 -\\displaystyle\\sum_{j=1}^{6} \\beta_j x_{ij}\\right) + \\lambda\\frac{\\beta_k}{|\\beta_k|} + 2\\mu\\beta_k$"
   ]
  },
  {
   "cell_type": "code",
   "execution_count": 6,
   "metadata": {},
   "outputs": [],
   "source": [
    "np.random.seed(0)"
   ]
  },
  {
   "cell_type": "code",
   "execution_count": 7,
   "metadata": {},
   "outputs": [],
   "source": [
    "(X, y, coef) = make_regression(n_samples = SAMPLES, \n",
    "                               n_features = DIMENSIONS - 1, \n",
    "                               n_informative = DIMENSIONS - 1, \n",
    "                               effective_rank = 2,\n",
    "                               n_targets = 1, \n",
    "                               coef = True,\n",
    "                               bias = 3,\n",
    "                               tail_strength = 0)"
   ]
  },
  {
   "cell_type": "code",
   "execution_count": 8,
   "metadata": {},
   "outputs": [],
   "source": [
    "X = np.hstack((np.ones((SAMPLES, 1)), X))"
   ]
  },
  {
   "cell_type": "code",
   "execution_count": 9,
   "metadata": {},
   "outputs": [],
   "source": [
    "# Auxiliary function to calculate gradient\n",
    "# l = lambda\n",
    "# m = mu\n",
    "def calculate_gradient(x, y, l, m, current_params):\n",
    "    db = np.zeros(DIMENSIONS)    \n",
    "    \n",
    "    # Common term\n",
    "    common = (y - \n",
    "              current_params[0] - \n",
    "              np.sum(np.multiply(np.tile(current_params[1:], (SAMPLES, 1)), x[:, 1:]), axis=1))\n",
    "    \n",
    "    # Function for the regularisation factor\n",
    "    def regularisation(param, l, m):\n",
    "        return l * param / fabs(param) + 2 * m * param\n",
    "    \n",
    "    # db_0\n",
    "    db[0] = - 2 / float(SAMPLES) * np.sum(common) + regularisation(current_params[0], l, m)\n",
    "\n",
    "    # db_k, k != 0\n",
    "    for k in range(1, DIMENSIONS):\n",
    "        db[k] = -2 / float(SAMPLES) * np.sum(np.multiply(x[:, k], common)) + regularisation(current_params[k], l, m)\n",
    "    return db"
   ]
  },
  {
   "cell_type": "code",
   "execution_count": 10,
   "metadata": {},
   "outputs": [],
   "source": [
    "def _loss(params, l, m):\n",
    "        y_pred = np.matmul(X, np.array(params))\n",
    "        L = np.mean(np.power(y - y_pred, 2), axis = 0)\n",
    "        L = L + l * np.sum(np.fabs(params)) + m * np.sum(np.power(params, 2))\n",
    "        return L"
   ]
  },
  {
   "cell_type": "code",
   "execution_count": 11,
   "metadata": {},
   "outputs": [],
   "source": [
    "# Auxiliary function for backtracking line search\n",
    "# Not using exact because I would have to do second partial derivatives with respect to t\n",
    "# However, the line backtracking algorithm is very sensitive to alpha, so maybe use the direct\n",
    "# approach for the line algorithm if we can calculate it\n",
    "# Besides, baktracking line search is very slow\n",
    "def line_search(current_params, gradient, beta, l, m):\n",
    "    current_params = np.array(current_params)\n",
    "        \n",
    "    t = 1.0\n",
    "    while _loss(current_params - t * gradient, l, m) > _loss(current_params, l, m) - \\\n",
    "                                                         t * ALPHA * np.matmul(gradient.T, gradient):\n",
    "        t = t * beta\n",
    "        \n",
    "    return t"
   ]
  },
  {
   "cell_type": "code",
   "execution_count": 12,
   "metadata": {
    "scrolled": true
   },
   "outputs": [],
   "source": [
    "# Coordinate gradient descent implementation\n",
    "# Cycling through the dimensions\n",
    "def cdg(X, y, current_params, l, m):\n",
    "    w = [np.array(current_params[:])]\n",
    "    it = 0\n",
    "    while it == 0 or (np.sum(np.abs(np.array(current_params) - np.array(w[-1]))) > STOP_THRESHOLD and \\\n",
    "                      np.all(np.array(current_params) - np.array(w[-1]) < DIVERGENCE_VALUE) and \\\n",
    "                      it < MAX_ITERATIONS):\n",
    "        w.append(current_params)\n",
    "        # Select the gradient for the next dimension\n",
    "        d = it % DIMENSIONS\n",
    "        g = np.zeros(DIMENSIONS)\n",
    "        g[d] = calculate_gradient(X, y, l, m, current_params)[d]\n",
    "        # Linear search in the direction of the selected dimension\n",
    "        t = line_search(current_params, g, BETA, l, m)\n",
    "        # Update parameters\n",
    "        current_params = list(np.array(w[-1]) - t * np.array(g))[:]\n",
    "        # Wrapping up the iteration\n",
    "        it = it + 1\n",
    "    w.append(current_params)\n",
    "    \n",
    "    return(it, current_params, w)"
   ]
  },
  {
   "cell_type": "markdown",
   "metadata": {},
   "source": [
    "Using 0.1 as the initial values for the parameters to prevent divisions by zero during gradient calculation"
   ]
  },
  {
   "cell_type": "code",
   "execution_count": 13,
   "metadata": {},
   "outputs": [],
   "source": [
    "it, current_params, w = cdg(X, y, [0.1 for i in range(DIMENSIONS)], LAMBDA, MU)"
   ]
  },
  {
   "cell_type": "code",
   "execution_count": 14,
   "metadata": {},
   "outputs": [
    {
     "data": {
      "text/plain": [
       "168"
      ]
     },
     "execution_count": 14,
     "metadata": {},
     "output_type": "execute_result"
    }
   ],
   "source": [
    "it"
   ]
  },
  {
   "cell_type": "code",
   "execution_count": 15,
   "metadata": {},
   "outputs": [
    {
     "data": {
      "text/plain": [
       "9.417889872690914e-32"
      ]
     },
     "execution_count": 15,
     "metadata": {},
     "output_type": "execute_result"
    }
   ],
   "source": [
    "_loss([3] + list(coef), 0, 0)"
   ]
  },
  {
   "cell_type": "code",
   "execution_count": 16,
   "metadata": {},
   "outputs": [
    {
     "data": {
      "text/plain": [
       "0.9682244188548642"
      ]
     },
     "execution_count": 16,
     "metadata": {},
     "output_type": "execute_result"
    }
   ],
   "source": [
    "_loss(current_params, 0, 0)"
   ]
  },
  {
   "cell_type": "code",
   "execution_count": 17,
   "metadata": {},
   "outputs": [
    {
     "data": {
      "text/plain": [
       "9.29099479672584"
      ]
     },
     "execution_count": 17,
     "metadata": {},
     "output_type": "execute_result"
    }
   ],
   "source": [
    "_loss([0.1 for i in range(DIMENSIONS)], 0, 0)"
   ]
  },
  {
   "cell_type": "code",
   "execution_count": 18,
   "metadata": {},
   "outputs": [
    {
     "data": {
      "text/plain": [
       "(array([1.000e+00, 4.000e+00, 9.000e+00, 1.800e+01, 6.500e+01, 1.580e+02,\n",
       "        3.430e+02, 6.590e+02, 9.910e+02, 1.350e+03, 1.577e+03, 1.543e+03,\n",
       "        1.199e+03, 9.090e+02, 6.210e+02, 3.410e+02, 1.210e+02, 5.900e+01,\n",
       "        2.500e+01, 7.000e+00]),\n",
       " array([-4.21962916, -3.83340564, -3.44718211, -3.06095858, -2.67473505,\n",
       "        -2.28851153, -1.902288  , -1.51606447, -1.12984094, -0.74361742,\n",
       "        -0.35739389,  0.02882964,  0.41505317,  0.80127669,  1.18750022,\n",
       "         1.57372375,  1.95994728,  2.3461708 ,  2.73239433,  3.11861786,\n",
       "         3.50484139]),\n",
       " <a list of 20 Patch objects>)"
      ]
     },
     "execution_count": 18,
     "metadata": {},
     "output_type": "execute_result"
    },
    {
     "data": {
      "image/png": "[encoded data removed]",
      "text/plain": [
       "<Figure size 432x288 with 1 Axes>"
      ]
     },
     "metadata": {
      "needs_background": "light"
     },
     "output_type": "display_data"
    }
   ],
   "source": [
    "plt.hist(np.matmul(X, np.array(current_params)) - np.matmul(X, np.array([3] + list(coef))), bins = 20)"
   ]
  },
  {
   "cell_type": "code",
   "execution_count": 19,
   "metadata": {},
   "outputs": [
    {
     "data": {
      "text/plain": [
       "[3,\n",
       " 75.78410261068944,\n",
       " 21.728187771684905,\n",
       " 75.92203361699748,\n",
       " 56.572980297077535,\n",
       " 77.789130921549,\n",
       " 18.436078025540404]"
      ]
     },
     "execution_count": 19,
     "metadata": {},
     "output_type": "execute_result"
    }
   ],
   "source": [
    "[3] + list(coef)"
   ]
  },
  {
   "cell_type": "code",
   "execution_count": 20,
   "metadata": {},
   "outputs": [
    {
     "data": {
      "text/plain": [
       "[2.9793652143610063,\n",
       " 0.1463822426076789,\n",
       " -3.7577641436975597e-10,\n",
       " 5.43965285393991e-11,\n",
       " 0.1900441673603966,\n",
       " 9.112273627112912e-05,\n",
       " -2.658605311679812e-11]"
      ]
     },
     "execution_count": 20,
     "metadata": {},
     "output_type": "execute_result"
    }
   ],
   "source": [
    "current_params"
   ]
  }
 ],
 "metadata": {
  "kernelspec": {
   "display_name": "Python 3",
   "language": "python",
   "name": "python3"
  },
  "language_info": {
   "codemirror_mode": {
    "name": "ipython",
    "version": 3
   },
   "file_extension": ".py",
   "mimetype": "text/x-python",
   "name": "python",
   "nbconvert_exporter": "python",
   "pygments_lexer": "ipython3",
   "version": "3.8.3"
  }
 },
 "nbformat": 4,
 "nbformat_minor": 4
}
