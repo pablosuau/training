{
 "cells": [
  {
   "cell_type": "code",
   "execution_count": 1,
   "metadata": {},
   "outputs": [],
   "source": [
    "import os\n",
    "import sys\n",
    "import random\n",
    "import itertools\n",
    "import multiprocessing\n",
    "from math import sqrt\n",
    "import pandas as pd\n",
    "import numpy as np\n",
    "from tqdm import tqdm\n",
    "import matplotlib.pyplot as plt\n",
    "from sklearn.svm import SVC"
   ]
  },
  {
   "cell_type": "code",
   "execution_count": 2,
   "metadata": {},
   "outputs": [],
   "source": [
    "random.seed(0)"
   ]
  },
  {
   "cell_type": "code",
   "execution_count": 3,
   "metadata": {},
   "outputs": [],
   "source": [
    "df_training = pd.read_csv('../../datasets/titanic_training_processed.csv')\n",
    "df_test = pd.read_csv('../../datasets/titanic_test_processed.csv')"
   ]
  },
  {
   "cell_type": "code",
   "execution_count": 4,
   "metadata": {},
   "outputs": [
    {
     "data": {
      "text/html": [
       "<div>\n",
       "<style scoped>\n",
       "    .dataframe tbody tr th:only-of-type {\n",
       "        vertical-align: middle;\n",
       "    }\n",
       "\n",
       "    .dataframe tbody tr th {\n",
       "        vertical-align: top;\n",
       "    }\n",
       "\n",
       "    .dataframe thead th {\n",
       "        text-align: right;\n",
       "    }\n",
       "</style>\n",
       "<table border=\"1\" class=\"dataframe\">\n",
       "  <thead>\n",
       "    <tr style=\"text-align: right;\">\n",
       "      <th></th>\n",
       "      <th>PassengerId</th>\n",
       "      <th>Survived</th>\n",
       "      <th>Age</th>\n",
       "      <th>SibSp</th>\n",
       "      <th>Parch</th>\n",
       "      <th>Fare</th>\n",
       "      <th>Pclass_3</th>\n",
       "      <th>Pclass_1</th>\n",
       "      <th>Sex_male</th>\n",
       "      <th>TicketPrefix_A/5</th>\n",
       "      <th>...</th>\n",
       "      <th>CabinClass_C</th>\n",
       "      <th>CabinClass_E</th>\n",
       "      <th>CabinClass_G</th>\n",
       "      <th>CabinClass_D</th>\n",
       "      <th>CabinClass_A</th>\n",
       "      <th>CabinClass_B</th>\n",
       "      <th>CabinClass_F</th>\n",
       "      <th>Embarked_S</th>\n",
       "      <th>Embarked_C</th>\n",
       "      <th>Embarked_Q</th>\n",
       "    </tr>\n",
       "  </thead>\n",
       "  <tbody>\n",
       "    <tr>\n",
       "      <th>0</th>\n",
       "      <td>1</td>\n",
       "      <td>0</td>\n",
       "      <td>-0.565419</td>\n",
       "      <td>0.432550</td>\n",
       "      <td>-0.473408</td>\n",
       "      <td>-0.502163</td>\n",
       "      <td>0.902081</td>\n",
       "      <td>-0.565368</td>\n",
       "      <td>0.737281</td>\n",
       "      <td>9.380891</td>\n",
       "      <td>...</td>\n",
       "      <td>-0.266146</td>\n",
       "      <td>-0.192901</td>\n",
       "      <td>-0.067116</td>\n",
       "      <td>-0.196006</td>\n",
       "      <td>-0.130783</td>\n",
       "      <td>-0.235849</td>\n",
       "      <td>-0.121613</td>\n",
       "      <td>0.618959</td>\n",
       "      <td>-0.481772</td>\n",
       "      <td>-0.30739</td>\n",
       "    </tr>\n",
       "    <tr>\n",
       "      <th>1</th>\n",
       "      <td>2</td>\n",
       "      <td>1</td>\n",
       "      <td>0.663488</td>\n",
       "      <td>0.432550</td>\n",
       "      <td>-0.473408</td>\n",
       "      <td>0.786404</td>\n",
       "      <td>-1.107304</td>\n",
       "      <td>1.766775</td>\n",
       "      <td>-1.354813</td>\n",
       "      <td>-0.106480</td>\n",
       "      <td>...</td>\n",
       "      <td>3.753114</td>\n",
       "      <td>-0.192901</td>\n",
       "      <td>-0.067116</td>\n",
       "      <td>-0.196006</td>\n",
       "      <td>-0.130783</td>\n",
       "      <td>-0.235849</td>\n",
       "      <td>-0.121613</td>\n",
       "      <td>-1.613803</td>\n",
       "      <td>2.073341</td>\n",
       "      <td>-0.30739</td>\n",
       "    </tr>\n",
       "    <tr>\n",
       "      <th>2</th>\n",
       "      <td>3</td>\n",
       "      <td>1</td>\n",
       "      <td>-0.258192</td>\n",
       "      <td>-0.474279</td>\n",
       "      <td>-0.473408</td>\n",
       "      <td>-0.488580</td>\n",
       "      <td>0.902081</td>\n",
       "      <td>-0.565368</td>\n",
       "      <td>-1.354813</td>\n",
       "      <td>-0.106480</td>\n",
       "      <td>...</td>\n",
       "      <td>-0.266146</td>\n",
       "      <td>-0.192901</td>\n",
       "      <td>-0.067116</td>\n",
       "      <td>-0.196006</td>\n",
       "      <td>-0.130783</td>\n",
       "      <td>-0.235849</td>\n",
       "      <td>-0.121613</td>\n",
       "      <td>0.618959</td>\n",
       "      <td>-0.481772</td>\n",
       "      <td>-0.30739</td>\n",
       "    </tr>\n",
       "    <tr>\n",
       "      <th>3</th>\n",
       "      <td>4</td>\n",
       "      <td>1</td>\n",
       "      <td>0.433068</td>\n",
       "      <td>0.432550</td>\n",
       "      <td>-0.473408</td>\n",
       "      <td>0.420494</td>\n",
       "      <td>-1.107304</td>\n",
       "      <td>1.766775</td>\n",
       "      <td>-1.354813</td>\n",
       "      <td>-0.106480</td>\n",
       "      <td>...</td>\n",
       "      <td>3.753114</td>\n",
       "      <td>-0.192901</td>\n",
       "      <td>-0.067116</td>\n",
       "      <td>-0.196006</td>\n",
       "      <td>-0.130783</td>\n",
       "      <td>-0.235849</td>\n",
       "      <td>-0.121613</td>\n",
       "      <td>0.618959</td>\n",
       "      <td>-0.481772</td>\n",
       "      <td>-0.30739</td>\n",
       "    </tr>\n",
       "    <tr>\n",
       "      <th>4</th>\n",
       "      <td>5</td>\n",
       "      <td>0</td>\n",
       "      <td>0.433068</td>\n",
       "      <td>-0.474279</td>\n",
       "      <td>-0.473408</td>\n",
       "      <td>-0.486064</td>\n",
       "      <td>0.902081</td>\n",
       "      <td>-0.565368</td>\n",
       "      <td>0.737281</td>\n",
       "      <td>-0.106480</td>\n",
       "      <td>...</td>\n",
       "      <td>-0.266146</td>\n",
       "      <td>-0.192901</td>\n",
       "      <td>-0.067116</td>\n",
       "      <td>-0.196006</td>\n",
       "      <td>-0.130783</td>\n",
       "      <td>-0.235849</td>\n",
       "      <td>-0.121613</td>\n",
       "      <td>0.618959</td>\n",
       "      <td>-0.481772</td>\n",
       "      <td>-0.30739</td>\n",
       "    </tr>\n",
       "  </tbody>\n",
       "</table>\n",
       "<p>5 rows × 62 columns</p>\n",
       "</div>"
      ],
      "text/plain": [
       "   PassengerId  Survived       Age     SibSp     Parch      Fare  Pclass_3  \\\n",
       "0            1         0 -0.565419  0.432550 -0.473408 -0.502163  0.902081   \n",
       "1            2         1  0.663488  0.432550 -0.473408  0.786404 -1.107304   \n",
       "2            3         1 -0.258192 -0.474279 -0.473408 -0.488580  0.902081   \n",
       "3            4         1  0.433068  0.432550 -0.473408  0.420494 -1.107304   \n",
       "4            5         0  0.433068 -0.474279 -0.473408 -0.486064  0.902081   \n",
       "\n",
       "   Pclass_1  Sex_male  TicketPrefix_A/5     ...      CabinClass_C  \\\n",
       "0 -0.565368  0.737281          9.380891     ...         -0.266146   \n",
       "1  1.766775 -1.354813         -0.106480     ...          3.753114   \n",
       "2 -0.565368 -1.354813         -0.106480     ...         -0.266146   \n",
       "3  1.766775 -1.354813         -0.106480     ...          3.753114   \n",
       "4 -0.565368  0.737281         -0.106480     ...         -0.266146   \n",
       "\n",
       "   CabinClass_E  CabinClass_G  CabinClass_D  CabinClass_A  CabinClass_B  \\\n",
       "0     -0.192901     -0.067116     -0.196006     -0.130783     -0.235849   \n",
       "1     -0.192901     -0.067116     -0.196006     -0.130783     -0.235849   \n",
       "2     -0.192901     -0.067116     -0.196006     -0.130783     -0.235849   \n",
       "3     -0.192901     -0.067116     -0.196006     -0.130783     -0.235849   \n",
       "4     -0.192901     -0.067116     -0.196006     -0.130783     -0.235849   \n",
       "\n",
       "   CabinClass_F  Embarked_S  Embarked_C  Embarked_Q  \n",
       "0     -0.121613    0.618959   -0.481772    -0.30739  \n",
       "1     -0.121613   -1.613803    2.073341    -0.30739  \n",
       "2     -0.121613    0.618959   -0.481772    -0.30739  \n",
       "3     -0.121613    0.618959   -0.481772    -0.30739  \n",
       "4     -0.121613    0.618959   -0.481772    -0.30739  \n",
       "\n",
       "[5 rows x 62 columns]"
      ]
     },
     "execution_count": 4,
     "metadata": {},
     "output_type": "execute_result"
    }
   ],
   "source": [
    "df_training.head()"
   ]
  },
  {
   "cell_type": "code",
   "execution_count": 5,
   "metadata": {},
   "outputs": [
    {
     "data": {
      "text/html": [
       "<div>\n",
       "<style scoped>\n",
       "    .dataframe tbody tr th:only-of-type {\n",
       "        vertical-align: middle;\n",
       "    }\n",
       "\n",
       "    .dataframe tbody tr th {\n",
       "        vertical-align: top;\n",
       "    }\n",
       "\n",
       "    .dataframe thead th {\n",
       "        text-align: right;\n",
       "    }\n",
       "</style>\n",
       "<table border=\"1\" class=\"dataframe\">\n",
       "  <thead>\n",
       "    <tr style=\"text-align: right;\">\n",
       "      <th></th>\n",
       "      <th>PassengerId</th>\n",
       "      <th>Age</th>\n",
       "      <th>SibSp</th>\n",
       "      <th>Parch</th>\n",
       "      <th>Fare</th>\n",
       "      <th>Pclass_3</th>\n",
       "      <th>Pclass_1</th>\n",
       "      <th>Sex_male</th>\n",
       "      <th>TicketPrefix_A/5</th>\n",
       "      <th>TicketPrefix_PC</th>\n",
       "      <th>...</th>\n",
       "      <th>CabinClass_C</th>\n",
       "      <th>CabinClass_E</th>\n",
       "      <th>CabinClass_G</th>\n",
       "      <th>CabinClass_D</th>\n",
       "      <th>CabinClass_A</th>\n",
       "      <th>CabinClass_B</th>\n",
       "      <th>CabinClass_F</th>\n",
       "      <th>Embarked_S</th>\n",
       "      <th>Embarked_C</th>\n",
       "      <th>Embarked_Q</th>\n",
       "    </tr>\n",
       "  </thead>\n",
       "  <tbody>\n",
       "    <tr>\n",
       "      <th>0</th>\n",
       "      <td>892</td>\n",
       "      <td>0.394665</td>\n",
       "      <td>-0.474279</td>\n",
       "      <td>-0.473408</td>\n",
       "      <td>-0.490508</td>\n",
       "      <td>0.902081</td>\n",
       "      <td>-0.565368</td>\n",
       "      <td>0.737281</td>\n",
       "      <td>-0.10648</td>\n",
       "      <td>-0.268554</td>\n",
       "      <td>...</td>\n",
       "      <td>-0.266146</td>\n",
       "      <td>-0.192901</td>\n",
       "      <td>-0.067116</td>\n",
       "      <td>-0.196006</td>\n",
       "      <td>-0.130783</td>\n",
       "      <td>-0.235849</td>\n",
       "      <td>-0.121613</td>\n",
       "      <td>-1.613803</td>\n",
       "      <td>-0.481772</td>\n",
       "      <td>3.249548</td>\n",
       "    </tr>\n",
       "    <tr>\n",
       "      <th>1</th>\n",
       "      <td>893</td>\n",
       "      <td>1.354749</td>\n",
       "      <td>0.432550</td>\n",
       "      <td>-0.473408</td>\n",
       "      <td>-0.507194</td>\n",
       "      <td>0.902081</td>\n",
       "      <td>-0.565368</td>\n",
       "      <td>-1.354813</td>\n",
       "      <td>-0.10648</td>\n",
       "      <td>-0.268554</td>\n",
       "      <td>...</td>\n",
       "      <td>-0.266146</td>\n",
       "      <td>-0.192901</td>\n",
       "      <td>-0.067116</td>\n",
       "      <td>-0.196006</td>\n",
       "      <td>-0.130783</td>\n",
       "      <td>-0.235849</td>\n",
       "      <td>-0.121613</td>\n",
       "      <td>0.618959</td>\n",
       "      <td>-0.481772</td>\n",
       "      <td>-0.307390</td>\n",
       "    </tr>\n",
       "    <tr>\n",
       "      <th>2</th>\n",
       "      <td>894</td>\n",
       "      <td>2.506849</td>\n",
       "      <td>-0.474279</td>\n",
       "      <td>-0.473408</td>\n",
       "      <td>-0.453112</td>\n",
       "      <td>-1.107304</td>\n",
       "      <td>-0.565368</td>\n",
       "      <td>0.737281</td>\n",
       "      <td>-0.10648</td>\n",
       "      <td>-0.268554</td>\n",
       "      <td>...</td>\n",
       "      <td>-0.266146</td>\n",
       "      <td>-0.192901</td>\n",
       "      <td>-0.067116</td>\n",
       "      <td>-0.196006</td>\n",
       "      <td>-0.130783</td>\n",
       "      <td>-0.235849</td>\n",
       "      <td>-0.121613</td>\n",
       "      <td>-1.613803</td>\n",
       "      <td>-0.481772</td>\n",
       "      <td>3.249548</td>\n",
       "    </tr>\n",
       "    <tr>\n",
       "      <th>3</th>\n",
       "      <td>895</td>\n",
       "      <td>-0.181385</td>\n",
       "      <td>-0.474279</td>\n",
       "      <td>-0.473408</td>\n",
       "      <td>-0.473739</td>\n",
       "      <td>0.902081</td>\n",
       "      <td>-0.565368</td>\n",
       "      <td>0.737281</td>\n",
       "      <td>-0.10648</td>\n",
       "      <td>-0.268554</td>\n",
       "      <td>...</td>\n",
       "      <td>-0.266146</td>\n",
       "      <td>-0.192901</td>\n",
       "      <td>-0.067116</td>\n",
       "      <td>-0.196006</td>\n",
       "      <td>-0.130783</td>\n",
       "      <td>-0.235849</td>\n",
       "      <td>-0.121613</td>\n",
       "      <td>0.618959</td>\n",
       "      <td>-0.481772</td>\n",
       "      <td>-0.307390</td>\n",
       "    </tr>\n",
       "    <tr>\n",
       "      <th>4</th>\n",
       "      <td>896</td>\n",
       "      <td>-0.565419</td>\n",
       "      <td>0.432550</td>\n",
       "      <td>0.767199</td>\n",
       "      <td>-0.400792</td>\n",
       "      <td>0.902081</td>\n",
       "      <td>-0.565368</td>\n",
       "      <td>-1.354813</td>\n",
       "      <td>-0.10648</td>\n",
       "      <td>-0.268554</td>\n",
       "      <td>...</td>\n",
       "      <td>-0.266146</td>\n",
       "      <td>-0.192901</td>\n",
       "      <td>-0.067116</td>\n",
       "      <td>-0.196006</td>\n",
       "      <td>-0.130783</td>\n",
       "      <td>-0.235849</td>\n",
       "      <td>-0.121613</td>\n",
       "      <td>0.618959</td>\n",
       "      <td>-0.481772</td>\n",
       "      <td>-0.307390</td>\n",
       "    </tr>\n",
       "  </tbody>\n",
       "</table>\n",
       "<p>5 rows × 61 columns</p>\n",
       "</div>"
      ],
      "text/plain": [
       "   PassengerId       Age     SibSp     Parch      Fare  Pclass_3  Pclass_1  \\\n",
       "0          892  0.394665 -0.474279 -0.473408 -0.490508  0.902081 -0.565368   \n",
       "1          893  1.354749  0.432550 -0.473408 -0.507194  0.902081 -0.565368   \n",
       "2          894  2.506849 -0.474279 -0.473408 -0.453112 -1.107304 -0.565368   \n",
       "3          895 -0.181385 -0.474279 -0.473408 -0.473739  0.902081 -0.565368   \n",
       "4          896 -0.565419  0.432550  0.767199 -0.400792  0.902081 -0.565368   \n",
       "\n",
       "   Sex_male  TicketPrefix_A/5  TicketPrefix_PC     ...      CabinClass_C  \\\n",
       "0  0.737281          -0.10648        -0.268554     ...         -0.266146   \n",
       "1 -1.354813          -0.10648        -0.268554     ...         -0.266146   \n",
       "2  0.737281          -0.10648        -0.268554     ...         -0.266146   \n",
       "3  0.737281          -0.10648        -0.268554     ...         -0.266146   \n",
       "4 -1.354813          -0.10648        -0.268554     ...         -0.266146   \n",
       "\n",
       "   CabinClass_E  CabinClass_G  CabinClass_D  CabinClass_A  CabinClass_B  \\\n",
       "0     -0.192901     -0.067116     -0.196006     -0.130783     -0.235849   \n",
       "1     -0.192901     -0.067116     -0.196006     -0.130783     -0.235849   \n",
       "2     -0.192901     -0.067116     -0.196006     -0.130783     -0.235849   \n",
       "3     -0.192901     -0.067116     -0.196006     -0.130783     -0.235849   \n",
       "4     -0.192901     -0.067116     -0.196006     -0.130783     -0.235849   \n",
       "\n",
       "   CabinClass_F  Embarked_S  Embarked_C  Embarked_Q  \n",
       "0     -0.121613   -1.613803   -0.481772    3.249548  \n",
       "1     -0.121613    0.618959   -0.481772   -0.307390  \n",
       "2     -0.121613   -1.613803   -0.481772    3.249548  \n",
       "3     -0.121613    0.618959   -0.481772   -0.307390  \n",
       "4     -0.121613    0.618959   -0.481772   -0.307390  \n",
       "\n",
       "[5 rows x 61 columns]"
      ]
     },
     "execution_count": 5,
     "metadata": {},
     "output_type": "execute_result"
    }
   ],
   "source": [
    "df_test.head()"
   ]
  },
  {
   "cell_type": "code",
   "execution_count": 6,
   "metadata": {},
   "outputs": [],
   "source": [
    "columns = df_training.columns[2:]\n",
    "X_train = df_training[columns].values\n",
    "X_test = df_test[columns].values\n",
    "y_train = df_training['Survived'].values"
   ]
  },
  {
   "cell_type": "code",
   "execution_count": 7,
   "metadata": {},
   "outputs": [
    {
     "data": {
      "text/plain": [
       "(891, 60)"
      ]
     },
     "execution_count": 7,
     "metadata": {},
     "output_type": "execute_result"
    }
   ],
   "source": [
    "X_train.shape"
   ]
  },
  {
   "cell_type": "code",
   "execution_count": 8,
   "metadata": {},
   "outputs": [
    {
     "data": {
      "text/plain": [
       "(418, 60)"
      ]
     },
     "execution_count": 8,
     "metadata": {},
     "output_type": "execute_result"
    }
   ],
   "source": [
    "X_test.shape"
   ]
  },
  {
   "cell_type": "code",
   "execution_count": 9,
   "metadata": {},
   "outputs": [
    {
     "data": {
      "text/plain": [
       "(891,)"
      ]
     },
     "execution_count": 9,
     "metadata": {},
     "output_type": "execute_result"
    }
   ],
   "source": [
    "y_train.shape"
   ]
  },
  {
   "cell_type": "markdown",
   "metadata": {},
   "source": [
    "## No feature selection\n",
    "\n",
    "We have to still apply 10-fold cross validation to select the kernel and the value of C. For the polynomial and RBF kernels we also need to determine the value of their respective parameters  "
   ]
  },
  {
   "cell_type": "code",
   "execution_count": 10,
   "metadata": {},
   "outputs": [],
   "source": [
    "# generating sets for 10-fold cross validation\n",
    "indexes = list(range(len(df_training)))\n",
    "random.shuffle(indexes)\n",
    "folds = []\n",
    "for i in range(10):\n",
    "    folds.append([])\n",
    "for i in range(len(indexes)):\n",
    "    folds[i % 10].append(indexes[i])"
   ]
  },
  {
   "cell_type": "code",
   "execution_count": 11,
   "metadata": {},
   "outputs": [],
   "source": [
    "def produce_training_test_set(df_training, train_indexes, test_indexes, column_indexes):\n",
    "    columns = df_training.columns[column_indexes]\n",
    "    datasets = {}\n",
    "    datasets['X_train'] = df_training.iloc[train_indexes][columns].values\n",
    "    datasets['X_test'] = df_training.iloc[test_indexes][columns].values\n",
    "    datasets['y_train'] = df_training.iloc[train_indexes]['Survived'].values\n",
    "    datasets['y_test'] = df_training.iloc[test_indexes]['Survived'].values\n",
    "    \n",
    "    return datasets"
   ]
  },
  {
   "cell_type": "code",
   "execution_count": 12,
   "metadata": {},
   "outputs": [],
   "source": [
    "def evaluate(datasets, C, kernel, kernel_params):\n",
    "    kwargs = {}\n",
    "    if kernel == 'poly':\n",
    "        kwargs['degree'] = kernel_params['degree']\n",
    "        kwargs['coef0'] = kernel_params['coef0']\n",
    "       \n",
    "    clf = SVC(C = C, kernel = kernel, **kwargs)\n",
    "    clf.fit(datasets['X_train'], datasets['y_train'])\n",
    "    y_pred = clf.predict(datasets['X_test'])\n",
    "    return sqrt(np.sum(np.power(np.array(y_pred) - np.array(datasets['y_test']), 2)))"
   ]
  },
  {
   "cell_type": "code",
   "execution_count": 13,
   "metadata": {},
   "outputs": [],
   "source": [
    "def k_fold_cross_validation(df_training, folds, column_indexes, C, kernel, kernel_params):\n",
    "    error = 0\n",
    "    \n",
    "    for k in range(10):\n",
    "        train_indexes = []\n",
    "        for j in range(10):\n",
    "            if j == k:\n",
    "                test_indexes = folds[j]\n",
    "            else:\n",
    "                train_indexes = train_indexes + folds[j]\n",
    "                \n",
    "        datasets = produce_training_test_set(df_training, train_indexes, test_indexes, column_indexes)\n",
    "        \n",
    "        error = error + evaluate(datasets, C, kernel, kernel_params)\n",
    "        \n",
    "    return error / 10.0"
   ]
  },
  {
   "cell_type": "code",
   "execution_count": null,
   "metadata": {},
   "outputs": [
    {
     "name": "stderr",
     "output_type": "stream",
     "text": [
      " 28%|██▊       | 269/972 [01:26<03:36,  3.25it/s]"
     ]
    }
   ],
   "source": [
    "# Results were very similar for gamma = scale and gamma = auto\n",
    "# No good results with degree = 1\n",
    "C = np.arange(0.2, 3.7, 0.2).tolist()\n",
    "kernel = ['linear', 'poly', 'rbf']\n",
    "degree = [2, 3]\n",
    "coef0 = np.arange(0, 5.2, 0.2).tolist()\n",
    "\n",
    "poly_params = list(itertools.product(*[degree, coef0]))\n",
    "\n",
    "comb = list(itertools.product(*[C, ['linear'], [None], [None]]))\n",
    "comb.extend(list(itertools.product(*[C, ['rbf'], [None], [None]])))\n",
    "comb.extend(list(itertools.product(*[C, ['poly'], degree, coef0])))\n",
    "\n",
    "column_indexes = list(range(2, 62)) # All columns\n",
    "minimum = sys.float_info.max\n",
    "\n",
    "errors = pd.DataFrame(data = comb, columns = ['C', 'kernel', 'degree', 'coef0'])\n",
    "errors['error'] = np.nan\n",
    "\n",
    "for i in tqdm(range(len(errors))):\n",
    "    errors.loc[i, 'error'] = k_fold_cross_validation(df_training,\n",
    "                                                     folds,\n",
    "                                                     column_indexes,\n",
    "                                                     errors['C'].loc[i],\n",
    "                                                     errors['kernel'].loc[i],\n",
    "                                                     {'degree': errors['degree'].loc[i],\n",
    "                                                      'coef0': errors['coef0'].loc[i]})"
   ]
  },
  {
   "cell_type": "code",
   "execution_count": null,
   "metadata": {},
   "outputs": [],
   "source": [
    "errors.sort_values(by = 'error').head(5)"
   ]
  },
  {
   "cell_type": "code",
   "execution_count": null,
   "metadata": {},
   "outputs": [],
   "source": [
    "fig, ax = plt.subplots()\n",
    "errors_linear = errors[errors.kernel == 'linear'].sort_values(by = 'C')\n",
    "ax.plot(errors_linear.C, errors_linear.error)\n",
    "ax.set_xlabel('C')\n",
    "ax.set_ylabel('RMSE')\n",
    "ax.set_title('Linear model')\n",
    "ax.grid(True)"
   ]
  },
  {
   "cell_type": "code",
   "execution_count": null,
   "metadata": {},
   "outputs": [],
   "source": [
    "fig, ax = plt.subplots()\n",
    "errors_rbf = errors[errors.kernel == 'rbf']\n",
    "errors_g = errors_rbf.sort_values(by = 'C')\n",
    "ax.plot(errors_g.C, errors_g.error)\n",
    "ax.set_xlabel('C')\n",
    "ax.set_ylabel('RMSE')\n",
    "ax.set_title('RBF kernel')\n",
    "ax.grid(True)"
   ]
  },
  {
   "cell_type": "code",
   "execution_count": null,
   "metadata": {
    "scrolled": false
   },
   "outputs": [],
   "source": [
    "fig, ax = plt.subplots(1, len(degree))\n",
    "errors_poly = errors[errors.kernel == 'poly']\n",
    "for d in degree:\n",
    "    i = degree.index(d)\n",
    "    errors_g_d = errors_poly[(errors_poly.degree == d)].pivot(index='C', \n",
    "                                                              columns='coef0', \n",
    "                                                              values='error')\n",
    "    im = ax[i].imshow(errors_g_d, cmap = 'viridis', extent=[errors.C.min(), \n",
    "                                                               errors.C.max(), \n",
    "                                                               errors.coef0.min(), \n",
    "                                                               errors.coef0.max()])\n",
    "    fig.colorbar(im, ax = ax[i])\n",
    "    ax[i].set_xlabel('C')\n",
    "    ax[i].set_ylabel('coef0')\n",
    "    ax[i].set_title('poly kernel - degree = ' + str(d))\n",
    "fig.set_figwidth(12)\n",
    "fig.set_figheight(4)"
   ]
  },
  {
   "cell_type": "code",
   "execution_count": null,
   "metadata": {},
   "outputs": [],
   "source": []
  },
  {
   "cell_type": "code",
   "execution_count": null,
   "metadata": {},
   "outputs": [],
   "source": []
  },
  {
   "cell_type": "code",
   "execution_count": null,
   "metadata": {},
   "outputs": [],
   "source": []
  },
  {
   "cell_type": "code",
   "execution_count": null,
   "metadata": {},
   "outputs": [],
   "source": [
    "clf = KNeighborsClassifier(n_neighbors = min_k, weights = min_w)"
   ]
  },
  {
   "cell_type": "code",
   "execution_count": null,
   "metadata": {},
   "outputs": [],
   "source": [
    "clf.fit(X_train, y_train)"
   ]
  },
  {
   "cell_type": "code",
   "execution_count": null,
   "metadata": {},
   "outputs": [],
   "source": [
    "y_test = clf.predict(X_test)"
   ]
  },
  {
   "cell_type": "code",
   "execution_count": null,
   "metadata": {},
   "outputs": [],
   "source": [
    "submission = df_test.copy()\n",
    "submission['Survived'] = y_test\n",
    "submission = submission[['PassengerId', 'Survived']]"
   ]
  },
  {
   "cell_type": "code",
   "execution_count": null,
   "metadata": {},
   "outputs": [],
   "source": [
    "submission.head()"
   ]
  },
  {
   "cell_type": "code",
   "execution_count": null,
   "metadata": {},
   "outputs": [],
   "source": [
    "if not os.path.exists('./submissions/'):\n",
    "    os.makedirs('./submissions/')"
   ]
  },
  {
   "cell_type": "code",
   "execution_count": null,
   "metadata": {},
   "outputs": [],
   "source": [
    "submission.to_csv('./submissions/04_knn.csv', index = False)"
   ]
  },
  {
   "cell_type": "markdown",
   "metadata": {},
   "source": [
    "My submission to Kaggle produced a 70.81% test prediction accuracy. "
   ]
  },
  {
   "cell_type": "markdown",
   "metadata": {},
   "source": [
    "## Feature selection - forward selection\n",
    "\n",
    "For this classifier, and due to the longer feature selection process (we have to select the value of K and the weighting type - uniform, distance - for each combination of features during feature selection), we are applying multiprocessing to accelerate things. "
   ]
  },
  {
   "cell_type": "code",
   "execution_count": null,
   "metadata": {},
   "outputs": [],
   "source": [
    "def k_fold_cross_validation_unpack(args):\n",
    "    return k_fold_cross_validation(*args)"
   ]
  },
  {
   "cell_type": "code",
   "execution_count": null,
   "metadata": {},
   "outputs": [],
   "source": [
    "# Forward selection\n",
    "pending = list(range(2, 62))\n",
    "model = []\n",
    "min_error = sys.float_info.max\n",
    "parameters = list(itertools.product(K, W))\n",
    "num_processes = multiprocessing.cpu_count() - 1\n",
    "pool = multiprocessing.Pool(processes = num_processes)\n",
    "\n",
    "while len(pending) > 0:\n",
    "    prev_error = min_error\n",
    "    min_error = sys.float_info.max\n",
    "    \n",
    "    for i in pending:\n",
    "        new_model = model + [i]\n",
    "        parameters = itertools.product([df_training], [folds], [new_model], K, W)\n",
    "        \n",
    "        errors = pool.map(k_fold_cross_validation_unpack, parameters)\n",
    "        \n",
    "        best = list(itertools.product(K, W))[np.argmin(errors)]\n",
    "        minimum = min(errors)\n",
    "        \n",
    "        if minimum < min_error:\n",
    "            min_error = minimum\n",
    "            best_model = new_model\n",
    "            feature = i\n",
    "            best_k = best[0]\n",
    "            best_w = best[1]\n",
    "            \n",
    "    if min_error < prev_error:\n",
    "        print('Selecting feature ' + \n",
    "              df_training.columns[feature] + \n",
    "              '(k = ' + \n",
    "              str(best_k) + \n",
    "              ', w = ' +\n",
    "              best_w + \n",
    "              ') - error decreased to ' +\n",
    "              str(min_error))\n",
    "        model = best_model\n",
    "        pending.remove(feature)\n",
    "    else:\n",
    "        print('END')\n",
    "        break\n",
    "\n",
    "pool.close()"
   ]
  },
  {
   "cell_type": "code",
   "execution_count": null,
   "metadata": {},
   "outputs": [],
   "source": [
    "model_forward = model\n",
    "columns = df_training.columns[model_forward]\n",
    "X_train = df_training[columns].values\n",
    "X_test = df_test[columns].values\n",
    "y_train = df_training['Survived'].values"
   ]
  },
  {
   "cell_type": "code",
   "execution_count": null,
   "metadata": {},
   "outputs": [],
   "source": [
    "clf = KNeighborsClassifier(n_neighbors = best_k, weights = best_w)"
   ]
  },
  {
   "cell_type": "code",
   "execution_count": null,
   "metadata": {},
   "outputs": [],
   "source": [
    "clf.fit(X_train, y_train)"
   ]
  },
  {
   "cell_type": "code",
   "execution_count": null,
   "metadata": {},
   "outputs": [],
   "source": [
    "y_test = clf.predict(X_test)"
   ]
  },
  {
   "cell_type": "code",
   "execution_count": null,
   "metadata": {},
   "outputs": [],
   "source": [
    "submission = df_test.copy()\n",
    "submission['Survived'] = y_test\n",
    "submission = submission[['PassengerId', 'Survived']]"
   ]
  },
  {
   "cell_type": "code",
   "execution_count": null,
   "metadata": {},
   "outputs": [],
   "source": [
    "submission.head()"
   ]
  },
  {
   "cell_type": "code",
   "execution_count": null,
   "metadata": {},
   "outputs": [],
   "source": [
    "submission.to_csv('./submissions/04_knn_forward_selection.csv', index = False)"
   ]
  },
  {
   "cell_type": "markdown",
   "metadata": {},
   "source": [
    "This submission produced a 79.90% test prediction accuracy. This is the best prediction accuracy I got so far. This demonstrates that the classes are not linearly separable. "
   ]
  },
  {
   "cell_type": "markdown",
   "metadata": {},
   "source": [
    "## Feature selection - backward elimination"
   ]
  },
  {
   "cell_type": "code",
   "execution_count": null,
   "metadata": {},
   "outputs": [],
   "source": [
    "# backward elimination\n",
    "model = list(range(2, 62))\n",
    "# The best k and w values were already selected for the full model in the first section\n",
    "# of this notebook \n",
    "min_error = k_fold_cross_validation(df_training, folds, column_indexes, min_k, min_w)\n",
    "parameters = list(itertools.product(K, W))\n",
    "num_processes = multiprocessing.cpu_count() - 1\n",
    "pool = multiprocessing.Pool(processes = num_processes)\n",
    "\n",
    "while len(model) > 0:\n",
    "    prev_error = min_error\n",
    "    min_error = sys.float_info.max\n",
    "    \n",
    "    for i in model:\n",
    "        new_model = model[:]\n",
    "        new_model.remove(i)\n",
    "        parameters = itertools.product([df_training], [folds], [new_model], K, W)\n",
    "        \n",
    "        errors = pool.map(k_fold_cross_validation_unpack, parameters)\n",
    "        \n",
    "        best = list(itertools.product(K, W))[np.argmin(errors)]\n",
    "        minimum = min(errors)\n",
    "        \n",
    "        if minimum < min_error:\n",
    "            min_error = minimum\n",
    "            best_model = new_model\n",
    "            feature = i\n",
    "            best_k = best[0]\n",
    "            best_w = best[1]\n",
    "            \n",
    "    if min_error < prev_error:\n",
    "        print('Removing feature ' + \n",
    "              df_training.columns[feature] + \n",
    "              '(k = ' + \n",
    "              str(best_k) + \n",
    "              ', w = ' +\n",
    "              best_w + \n",
    "              ') - error decreased to ' +\n",
    "              str(min_error))\n",
    "        model = best_model\n",
    "    else:\n",
    "        print('END')\n",
    "        break\n",
    "\n",
    "pool.close()"
   ]
  },
  {
   "cell_type": "code",
   "execution_count": null,
   "metadata": {},
   "outputs": [],
   "source": [
    "model_backward = model\n",
    "columns = df_training.columns[model_backward]\n",
    "X_train = df_training[columns].values\n",
    "X_test = df_test[columns].values\n",
    "y_train = df_training['Survived'].values"
   ]
  },
  {
   "cell_type": "code",
   "execution_count": null,
   "metadata": {},
   "outputs": [],
   "source": [
    "clf = KNeighborsClassifier(n_neighbors = best_k, weights = best_w)"
   ]
  },
  {
   "cell_type": "code",
   "execution_count": null,
   "metadata": {},
   "outputs": [],
   "source": [
    "clf.fit(X_train, y_train)"
   ]
  },
  {
   "cell_type": "code",
   "execution_count": null,
   "metadata": {},
   "outputs": [],
   "source": [
    "y_test = clf.predict(X_test)"
   ]
  },
  {
   "cell_type": "code",
   "execution_count": null,
   "metadata": {},
   "outputs": [],
   "source": [
    "submission = df_test.copy()\n",
    "submission['Survived'] = y_test\n",
    "submission = submission[['PassengerId', 'Survived']]"
   ]
  },
  {
   "cell_type": "code",
   "execution_count": null,
   "metadata": {},
   "outputs": [],
   "source": [
    "submission.head()"
   ]
  },
  {
   "cell_type": "code",
   "execution_count": null,
   "metadata": {},
   "outputs": [],
   "source": [
    "submission.to_csv('./submissions/04_knn_backward_elimination.csv', index = False)"
   ]
  },
  {
   "cell_type": "markdown",
   "metadata": {},
   "source": [
    "This submission produced 75.12% prediction accuracy for the test set. Therefore, we should keep forward selection. "
   ]
  }
 ],
 "metadata": {
  "kernelspec": {
   "display_name": "Python 3",
   "language": "python",
   "name": "python3"
  },
  "language_info": {
   "codemirror_mode": {
    "name": "ipython",
    "version": 3
   },
   "file_extension": ".py",
   "mimetype": "text/x-python",
   "name": "python",
   "nbconvert_exporter": "python",
   "pygments_lexer": "ipython3",
   "version": "3.6.5"
  }
 },
 "nbformat": 4,
 "nbformat_minor": 2
}
