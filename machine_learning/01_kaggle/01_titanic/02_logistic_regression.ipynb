{
 "cells": [
  {
   "cell_type": "code",
   "execution_count": 1,
   "metadata": {},
   "outputs": [],
   "source": [
    "import os\n",
    "import sys\n",
    "import random\n",
    "from math import sqrt\n",
    "import pandas as pd\n",
    "import numpy as np\n",
    "import matplotlib.pyplot as plt\n",
    "from sklearn.linear_model import LogisticRegression"
   ]
  },
  {
   "cell_type": "code",
   "execution_count": 2,
   "metadata": {},
   "outputs": [],
   "source": [
    "random.seed(0)"
   ]
  },
  {
   "cell_type": "code",
   "execution_count": 3,
   "metadata": {},
   "outputs": [],
   "source": [
    "df_training = pd.read_csv('../../datasets/titanic_training_processed.csv')\n",
    "df_test = pd.read_csv('../../datasets/titanic_test_processed.csv')"
   ]
  },
  {
   "cell_type": "code",
   "execution_count": 4,
   "metadata": {},
   "outputs": [
    {
     "data": {
      "text/html": [
       "<div>\n",
       "<style scoped>\n",
       "    .dataframe tbody tr th:only-of-type {\n",
       "        vertical-align: middle;\n",
       "    }\n",
       "\n",
       "    .dataframe tbody tr th {\n",
       "        vertical-align: top;\n",
       "    }\n",
       "\n",
       "    .dataframe thead th {\n",
       "        text-align: right;\n",
       "    }\n",
       "</style>\n",
       "<table border=\"1\" class=\"dataframe\">\n",
       "  <thead>\n",
       "    <tr style=\"text-align: right;\">\n",
       "      <th></th>\n",
       "      <th>PassengerId</th>\n",
       "      <th>Survived</th>\n",
       "      <th>Age</th>\n",
       "      <th>SibSp</th>\n",
       "      <th>Parch</th>\n",
       "      <th>Fare</th>\n",
       "      <th>Pclass_3</th>\n",
       "      <th>Pclass_1</th>\n",
       "      <th>Sex_male</th>\n",
       "      <th>TicketPrefix_A/5</th>\n",
       "      <th>...</th>\n",
       "      <th>CabinClass_C</th>\n",
       "      <th>CabinClass_E</th>\n",
       "      <th>CabinClass_G</th>\n",
       "      <th>CabinClass_D</th>\n",
       "      <th>CabinClass_A</th>\n",
       "      <th>CabinClass_B</th>\n",
       "      <th>CabinClass_F</th>\n",
       "      <th>Embarked_S</th>\n",
       "      <th>Embarked_C</th>\n",
       "      <th>Embarked_Q</th>\n",
       "    </tr>\n",
       "  </thead>\n",
       "  <tbody>\n",
       "    <tr>\n",
       "      <th>0</th>\n",
       "      <td>1</td>\n",
       "      <td>0</td>\n",
       "      <td>-0.565419</td>\n",
       "      <td>0.432550</td>\n",
       "      <td>-0.473408</td>\n",
       "      <td>-0.502163</td>\n",
       "      <td>0.902081</td>\n",
       "      <td>-0.565368</td>\n",
       "      <td>0.737281</td>\n",
       "      <td>9.380891</td>\n",
       "      <td>...</td>\n",
       "      <td>-0.266146</td>\n",
       "      <td>-0.192901</td>\n",
       "      <td>-0.067116</td>\n",
       "      <td>-0.196006</td>\n",
       "      <td>-0.130783</td>\n",
       "      <td>-0.235849</td>\n",
       "      <td>-0.121613</td>\n",
       "      <td>0.618959</td>\n",
       "      <td>-0.481772</td>\n",
       "      <td>-0.30739</td>\n",
       "    </tr>\n",
       "    <tr>\n",
       "      <th>1</th>\n",
       "      <td>2</td>\n",
       "      <td>1</td>\n",
       "      <td>0.663488</td>\n",
       "      <td>0.432550</td>\n",
       "      <td>-0.473408</td>\n",
       "      <td>0.786404</td>\n",
       "      <td>-1.107304</td>\n",
       "      <td>1.766775</td>\n",
       "      <td>-1.354813</td>\n",
       "      <td>-0.106480</td>\n",
       "      <td>...</td>\n",
       "      <td>3.753114</td>\n",
       "      <td>-0.192901</td>\n",
       "      <td>-0.067116</td>\n",
       "      <td>-0.196006</td>\n",
       "      <td>-0.130783</td>\n",
       "      <td>-0.235849</td>\n",
       "      <td>-0.121613</td>\n",
       "      <td>-1.613803</td>\n",
       "      <td>2.073341</td>\n",
       "      <td>-0.30739</td>\n",
       "    </tr>\n",
       "    <tr>\n",
       "      <th>2</th>\n",
       "      <td>3</td>\n",
       "      <td>1</td>\n",
       "      <td>-0.258192</td>\n",
       "      <td>-0.474279</td>\n",
       "      <td>-0.473408</td>\n",
       "      <td>-0.488580</td>\n",
       "      <td>0.902081</td>\n",
       "      <td>-0.565368</td>\n",
       "      <td>-1.354813</td>\n",
       "      <td>-0.106480</td>\n",
       "      <td>...</td>\n",
       "      <td>-0.266146</td>\n",
       "      <td>-0.192901</td>\n",
       "      <td>-0.067116</td>\n",
       "      <td>-0.196006</td>\n",
       "      <td>-0.130783</td>\n",
       "      <td>-0.235849</td>\n",
       "      <td>-0.121613</td>\n",
       "      <td>0.618959</td>\n",
       "      <td>-0.481772</td>\n",
       "      <td>-0.30739</td>\n",
       "    </tr>\n",
       "    <tr>\n",
       "      <th>3</th>\n",
       "      <td>4</td>\n",
       "      <td>1</td>\n",
       "      <td>0.433068</td>\n",
       "      <td>0.432550</td>\n",
       "      <td>-0.473408</td>\n",
       "      <td>0.420494</td>\n",
       "      <td>-1.107304</td>\n",
       "      <td>1.766775</td>\n",
       "      <td>-1.354813</td>\n",
       "      <td>-0.106480</td>\n",
       "      <td>...</td>\n",
       "      <td>3.753114</td>\n",
       "      <td>-0.192901</td>\n",
       "      <td>-0.067116</td>\n",
       "      <td>-0.196006</td>\n",
       "      <td>-0.130783</td>\n",
       "      <td>-0.235849</td>\n",
       "      <td>-0.121613</td>\n",
       "      <td>0.618959</td>\n",
       "      <td>-0.481772</td>\n",
       "      <td>-0.30739</td>\n",
       "    </tr>\n",
       "    <tr>\n",
       "      <th>4</th>\n",
       "      <td>5</td>\n",
       "      <td>0</td>\n",
       "      <td>0.433068</td>\n",
       "      <td>-0.474279</td>\n",
       "      <td>-0.473408</td>\n",
       "      <td>-0.486064</td>\n",
       "      <td>0.902081</td>\n",
       "      <td>-0.565368</td>\n",
       "      <td>0.737281</td>\n",
       "      <td>-0.106480</td>\n",
       "      <td>...</td>\n",
       "      <td>-0.266146</td>\n",
       "      <td>-0.192901</td>\n",
       "      <td>-0.067116</td>\n",
       "      <td>-0.196006</td>\n",
       "      <td>-0.130783</td>\n",
       "      <td>-0.235849</td>\n",
       "      <td>-0.121613</td>\n",
       "      <td>0.618959</td>\n",
       "      <td>-0.481772</td>\n",
       "      <td>-0.30739</td>\n",
       "    </tr>\n",
       "  </tbody>\n",
       "</table>\n",
       "<p>5 rows × 62 columns</p>\n",
       "</div>"
      ],
      "text/plain": [
       "   PassengerId  Survived       Age     SibSp     Parch      Fare  Pclass_3  \\\n",
       "0            1         0 -0.565419  0.432550 -0.473408 -0.502163  0.902081   \n",
       "1            2         1  0.663488  0.432550 -0.473408  0.786404 -1.107304   \n",
       "2            3         1 -0.258192 -0.474279 -0.473408 -0.488580  0.902081   \n",
       "3            4         1  0.433068  0.432550 -0.473408  0.420494 -1.107304   \n",
       "4            5         0  0.433068 -0.474279 -0.473408 -0.486064  0.902081   \n",
       "\n",
       "   Pclass_1  Sex_male  TicketPrefix_A/5     ...      CabinClass_C  \\\n",
       "0 -0.565368  0.737281          9.380891     ...         -0.266146   \n",
       "1  1.766775 -1.354813         -0.106480     ...          3.753114   \n",
       "2 -0.565368 -1.354813         -0.106480     ...         -0.266146   \n",
       "3  1.766775 -1.354813         -0.106480     ...          3.753114   \n",
       "4 -0.565368  0.737281         -0.106480     ...         -0.266146   \n",
       "\n",
       "   CabinClass_E  CabinClass_G  CabinClass_D  CabinClass_A  CabinClass_B  \\\n",
       "0     -0.192901     -0.067116     -0.196006     -0.130783     -0.235849   \n",
       "1     -0.192901     -0.067116     -0.196006     -0.130783     -0.235849   \n",
       "2     -0.192901     -0.067116     -0.196006     -0.130783     -0.235849   \n",
       "3     -0.192901     -0.067116     -0.196006     -0.130783     -0.235849   \n",
       "4     -0.192901     -0.067116     -0.196006     -0.130783     -0.235849   \n",
       "\n",
       "   CabinClass_F  Embarked_S  Embarked_C  Embarked_Q  \n",
       "0     -0.121613    0.618959   -0.481772    -0.30739  \n",
       "1     -0.121613   -1.613803    2.073341    -0.30739  \n",
       "2     -0.121613    0.618959   -0.481772    -0.30739  \n",
       "3     -0.121613    0.618959   -0.481772    -0.30739  \n",
       "4     -0.121613    0.618959   -0.481772    -0.30739  \n",
       "\n",
       "[5 rows x 62 columns]"
      ]
     },
     "execution_count": 4,
     "metadata": {},
     "output_type": "execute_result"
    }
   ],
   "source": [
    "df_training.head()"
   ]
  },
  {
   "cell_type": "code",
   "execution_count": 5,
   "metadata": {},
   "outputs": [
    {
     "data": {
      "text/html": [
       "<div>\n",
       "<style scoped>\n",
       "    .dataframe tbody tr th:only-of-type {\n",
       "        vertical-align: middle;\n",
       "    }\n",
       "\n",
       "    .dataframe tbody tr th {\n",
       "        vertical-align: top;\n",
       "    }\n",
       "\n",
       "    .dataframe thead th {\n",
       "        text-align: right;\n",
       "    }\n",
       "</style>\n",
       "<table border=\"1\" class=\"dataframe\">\n",
       "  <thead>\n",
       "    <tr style=\"text-align: right;\">\n",
       "      <th></th>\n",
       "      <th>PassengerId</th>\n",
       "      <th>Age</th>\n",
       "      <th>SibSp</th>\n",
       "      <th>Parch</th>\n",
       "      <th>Fare</th>\n",
       "      <th>Pclass_3</th>\n",
       "      <th>Pclass_1</th>\n",
       "      <th>Sex_male</th>\n",
       "      <th>TicketPrefix_A/5</th>\n",
       "      <th>TicketPrefix_PC</th>\n",
       "      <th>...</th>\n",
       "      <th>CabinClass_C</th>\n",
       "      <th>CabinClass_E</th>\n",
       "      <th>CabinClass_G</th>\n",
       "      <th>CabinClass_D</th>\n",
       "      <th>CabinClass_A</th>\n",
       "      <th>CabinClass_B</th>\n",
       "      <th>CabinClass_F</th>\n",
       "      <th>Embarked_S</th>\n",
       "      <th>Embarked_C</th>\n",
       "      <th>Embarked_Q</th>\n",
       "    </tr>\n",
       "  </thead>\n",
       "  <tbody>\n",
       "    <tr>\n",
       "      <th>0</th>\n",
       "      <td>892</td>\n",
       "      <td>0.394665</td>\n",
       "      <td>-0.474279</td>\n",
       "      <td>-0.473408</td>\n",
       "      <td>-0.490508</td>\n",
       "      <td>0.902081</td>\n",
       "      <td>-0.565368</td>\n",
       "      <td>0.737281</td>\n",
       "      <td>-0.10648</td>\n",
       "      <td>-0.268554</td>\n",
       "      <td>...</td>\n",
       "      <td>-0.266146</td>\n",
       "      <td>-0.192901</td>\n",
       "      <td>-0.067116</td>\n",
       "      <td>-0.196006</td>\n",
       "      <td>-0.130783</td>\n",
       "      <td>-0.235849</td>\n",
       "      <td>-0.121613</td>\n",
       "      <td>-1.613803</td>\n",
       "      <td>-0.481772</td>\n",
       "      <td>3.249548</td>\n",
       "    </tr>\n",
       "    <tr>\n",
       "      <th>1</th>\n",
       "      <td>893</td>\n",
       "      <td>1.354749</td>\n",
       "      <td>0.432550</td>\n",
       "      <td>-0.473408</td>\n",
       "      <td>-0.507194</td>\n",
       "      <td>0.902081</td>\n",
       "      <td>-0.565368</td>\n",
       "      <td>-1.354813</td>\n",
       "      <td>-0.10648</td>\n",
       "      <td>-0.268554</td>\n",
       "      <td>...</td>\n",
       "      <td>-0.266146</td>\n",
       "      <td>-0.192901</td>\n",
       "      <td>-0.067116</td>\n",
       "      <td>-0.196006</td>\n",
       "      <td>-0.130783</td>\n",
       "      <td>-0.235849</td>\n",
       "      <td>-0.121613</td>\n",
       "      <td>0.618959</td>\n",
       "      <td>-0.481772</td>\n",
       "      <td>-0.307390</td>\n",
       "    </tr>\n",
       "    <tr>\n",
       "      <th>2</th>\n",
       "      <td>894</td>\n",
       "      <td>2.506849</td>\n",
       "      <td>-0.474279</td>\n",
       "      <td>-0.473408</td>\n",
       "      <td>-0.453112</td>\n",
       "      <td>-1.107304</td>\n",
       "      <td>-0.565368</td>\n",
       "      <td>0.737281</td>\n",
       "      <td>-0.10648</td>\n",
       "      <td>-0.268554</td>\n",
       "      <td>...</td>\n",
       "      <td>-0.266146</td>\n",
       "      <td>-0.192901</td>\n",
       "      <td>-0.067116</td>\n",
       "      <td>-0.196006</td>\n",
       "      <td>-0.130783</td>\n",
       "      <td>-0.235849</td>\n",
       "      <td>-0.121613</td>\n",
       "      <td>-1.613803</td>\n",
       "      <td>-0.481772</td>\n",
       "      <td>3.249548</td>\n",
       "    </tr>\n",
       "    <tr>\n",
       "      <th>3</th>\n",
       "      <td>895</td>\n",
       "      <td>-0.181385</td>\n",
       "      <td>-0.474279</td>\n",
       "      <td>-0.473408</td>\n",
       "      <td>-0.473739</td>\n",
       "      <td>0.902081</td>\n",
       "      <td>-0.565368</td>\n",
       "      <td>0.737281</td>\n",
       "      <td>-0.10648</td>\n",
       "      <td>-0.268554</td>\n",
       "      <td>...</td>\n",
       "      <td>-0.266146</td>\n",
       "      <td>-0.192901</td>\n",
       "      <td>-0.067116</td>\n",
       "      <td>-0.196006</td>\n",
       "      <td>-0.130783</td>\n",
       "      <td>-0.235849</td>\n",
       "      <td>-0.121613</td>\n",
       "      <td>0.618959</td>\n",
       "      <td>-0.481772</td>\n",
       "      <td>-0.307390</td>\n",
       "    </tr>\n",
       "    <tr>\n",
       "      <th>4</th>\n",
       "      <td>896</td>\n",
       "      <td>-0.565419</td>\n",
       "      <td>0.432550</td>\n",
       "      <td>0.767199</td>\n",
       "      <td>-0.400792</td>\n",
       "      <td>0.902081</td>\n",
       "      <td>-0.565368</td>\n",
       "      <td>-1.354813</td>\n",
       "      <td>-0.10648</td>\n",
       "      <td>-0.268554</td>\n",
       "      <td>...</td>\n",
       "      <td>-0.266146</td>\n",
       "      <td>-0.192901</td>\n",
       "      <td>-0.067116</td>\n",
       "      <td>-0.196006</td>\n",
       "      <td>-0.130783</td>\n",
       "      <td>-0.235849</td>\n",
       "      <td>-0.121613</td>\n",
       "      <td>0.618959</td>\n",
       "      <td>-0.481772</td>\n",
       "      <td>-0.307390</td>\n",
       "    </tr>\n",
       "  </tbody>\n",
       "</table>\n",
       "<p>5 rows × 61 columns</p>\n",
       "</div>"
      ],
      "text/plain": [
       "   PassengerId       Age     SibSp     Parch      Fare  Pclass_3  Pclass_1  \\\n",
       "0          892  0.394665 -0.474279 -0.473408 -0.490508  0.902081 -0.565368   \n",
       "1          893  1.354749  0.432550 -0.473408 -0.507194  0.902081 -0.565368   \n",
       "2          894  2.506849 -0.474279 -0.473408 -0.453112 -1.107304 -0.565368   \n",
       "3          895 -0.181385 -0.474279 -0.473408 -0.473739  0.902081 -0.565368   \n",
       "4          896 -0.565419  0.432550  0.767199 -0.400792  0.902081 -0.565368   \n",
       "\n",
       "   Sex_male  TicketPrefix_A/5  TicketPrefix_PC     ...      CabinClass_C  \\\n",
       "0  0.737281          -0.10648        -0.268554     ...         -0.266146   \n",
       "1 -1.354813          -0.10648        -0.268554     ...         -0.266146   \n",
       "2  0.737281          -0.10648        -0.268554     ...         -0.266146   \n",
       "3  0.737281          -0.10648        -0.268554     ...         -0.266146   \n",
       "4 -1.354813          -0.10648        -0.268554     ...         -0.266146   \n",
       "\n",
       "   CabinClass_E  CabinClass_G  CabinClass_D  CabinClass_A  CabinClass_B  \\\n",
       "0     -0.192901     -0.067116     -0.196006     -0.130783     -0.235849   \n",
       "1     -0.192901     -0.067116     -0.196006     -0.130783     -0.235849   \n",
       "2     -0.192901     -0.067116     -0.196006     -0.130783     -0.235849   \n",
       "3     -0.192901     -0.067116     -0.196006     -0.130783     -0.235849   \n",
       "4     -0.192901     -0.067116     -0.196006     -0.130783     -0.235849   \n",
       "\n",
       "   CabinClass_F  Embarked_S  Embarked_C  Embarked_Q  \n",
       "0     -0.121613   -1.613803   -0.481772    3.249548  \n",
       "1     -0.121613    0.618959   -0.481772   -0.307390  \n",
       "2     -0.121613   -1.613803   -0.481772    3.249548  \n",
       "3     -0.121613    0.618959   -0.481772   -0.307390  \n",
       "4     -0.121613    0.618959   -0.481772   -0.307390  \n",
       "\n",
       "[5 rows x 61 columns]"
      ]
     },
     "execution_count": 5,
     "metadata": {},
     "output_type": "execute_result"
    }
   ],
   "source": [
    "df_test.head()"
   ]
  },
  {
   "cell_type": "code",
   "execution_count": 6,
   "metadata": {},
   "outputs": [],
   "source": [
    "columns = df_training.columns[2:]\n",
    "X_train = df_training[columns].values\n",
    "X_test = df_test[columns].values\n",
    "y_train = df_training['Survived'].values"
   ]
  },
  {
   "cell_type": "code",
   "execution_count": 7,
   "metadata": {},
   "outputs": [
    {
     "data": {
      "text/plain": [
       "(891, 60)"
      ]
     },
     "execution_count": 7,
     "metadata": {},
     "output_type": "execute_result"
    }
   ],
   "source": [
    "X_train.shape"
   ]
  },
  {
   "cell_type": "code",
   "execution_count": 8,
   "metadata": {},
   "outputs": [
    {
     "data": {
      "text/plain": [
       "(418, 60)"
      ]
     },
     "execution_count": 8,
     "metadata": {},
     "output_type": "execute_result"
    }
   ],
   "source": [
    "X_test.shape"
   ]
  },
  {
   "cell_type": "code",
   "execution_count": 9,
   "metadata": {},
   "outputs": [
    {
     "data": {
      "text/plain": [
       "(891,)"
      ]
     },
     "execution_count": 9,
     "metadata": {},
     "output_type": "execute_result"
    }
   ],
   "source": [
    "y_train.shape"
   ]
  },
  {
   "cell_type": "code",
   "execution_count": 10,
   "metadata": {},
   "outputs": [],
   "source": [
    "logreg = LogisticRegression()"
   ]
  },
  {
   "cell_type": "code",
   "execution_count": 11,
   "metadata": {},
   "outputs": [
    {
     "data": {
      "text/plain": [
       "LogisticRegression(C=1.0, class_weight=None, dual=False, fit_intercept=True,\n",
       "          intercept_scaling=1, max_iter=100, multi_class='ovr', n_jobs=1,\n",
       "          penalty='l2', random_state=None, solver='liblinear', tol=0.0001,\n",
       "          verbose=0, warm_start=False)"
      ]
     },
     "execution_count": 11,
     "metadata": {},
     "output_type": "execute_result"
    }
   ],
   "source": [
    "logreg.fit(X_train, y_train)"
   ]
  },
  {
   "cell_type": "code",
   "execution_count": 12,
   "metadata": {},
   "outputs": [],
   "source": [
    "y_test = logreg.predict(X_test)"
   ]
  },
  {
   "cell_type": "code",
   "execution_count": 13,
   "metadata": {},
   "outputs": [],
   "source": [
    "submission = df_test.copy()\n",
    "submission['Survived'] = y_test\n",
    "submission = submission[['PassengerId', 'Survived']]"
   ]
  },
  {
   "cell_type": "code",
   "execution_count": 14,
   "metadata": {},
   "outputs": [
    {
     "data": {
      "text/html": [
       "<div>\n",
       "<style scoped>\n",
       "    .dataframe tbody tr th:only-of-type {\n",
       "        vertical-align: middle;\n",
       "    }\n",
       "\n",
       "    .dataframe tbody tr th {\n",
       "        vertical-align: top;\n",
       "    }\n",
       "\n",
       "    .dataframe thead th {\n",
       "        text-align: right;\n",
       "    }\n",
       "</style>\n",
       "<table border=\"1\" class=\"dataframe\">\n",
       "  <thead>\n",
       "    <tr style=\"text-align: right;\">\n",
       "      <th></th>\n",
       "      <th>PassengerId</th>\n",
       "      <th>Survived</th>\n",
       "    </tr>\n",
       "  </thead>\n",
       "  <tbody>\n",
       "    <tr>\n",
       "      <th>0</th>\n",
       "      <td>892</td>\n",
       "      <td>0</td>\n",
       "    </tr>\n",
       "    <tr>\n",
       "      <th>1</th>\n",
       "      <td>893</td>\n",
       "      <td>0</td>\n",
       "    </tr>\n",
       "    <tr>\n",
       "      <th>2</th>\n",
       "      <td>894</td>\n",
       "      <td>0</td>\n",
       "    </tr>\n",
       "    <tr>\n",
       "      <th>3</th>\n",
       "      <td>895</td>\n",
       "      <td>0</td>\n",
       "    </tr>\n",
       "    <tr>\n",
       "      <th>4</th>\n",
       "      <td>896</td>\n",
       "      <td>1</td>\n",
       "    </tr>\n",
       "  </tbody>\n",
       "</table>\n",
       "</div>"
      ],
      "text/plain": [
       "   PassengerId  Survived\n",
       "0          892         0\n",
       "1          893         0\n",
       "2          894         0\n",
       "3          895         0\n",
       "4          896         1"
      ]
     },
     "execution_count": 14,
     "metadata": {},
     "output_type": "execute_result"
    }
   ],
   "source": [
    "submission.head()"
   ]
  },
  {
   "cell_type": "code",
   "execution_count": 15,
   "metadata": {},
   "outputs": [],
   "source": [
    "if not os.path.exists('./submissions/'):\n",
    "    os.makedirs('./submissions/')"
   ]
  },
  {
   "cell_type": "code",
   "execution_count": 16,
   "metadata": {},
   "outputs": [],
   "source": [
    "submission.to_csv('./submissions/02_logistic_regression.csv', index = False)"
   ]
  },
  {
   "cell_type": "markdown",
   "metadata": {},
   "source": [
    "My submission to Kaggle produced a 72.72% test prediction accuracy. "
   ]
  },
  {
   "cell_type": "markdown",
   "metadata": {},
   "source": [
    "## Feature selection - forward selection"
   ]
  },
  {
   "cell_type": "code",
   "execution_count": 17,
   "metadata": {},
   "outputs": [],
   "source": [
    "# generating sets for 10-fold cross validation\n",
    "indexes = list(range(len(df_training)))\n",
    "random.shuffle(indexes)\n",
    "folds = []\n",
    "for i in range(10):\n",
    "    folds.append([])\n",
    "for i in range(len(indexes)):\n",
    "    folds[i % 10].append(indexes[i])"
   ]
  },
  {
   "cell_type": "code",
   "execution_count": 18,
   "metadata": {},
   "outputs": [],
   "source": [
    "def produce_training_test_set(df_training, train_indexes, test_indexes, column_indexes):\n",
    "    columns = df_training.columns[column_indexes]\n",
    "    datasets = {}\n",
    "    datasets['X_train'] = df_training.iloc[train_indexes][columns].values\n",
    "    datasets['X_test'] = df_training.iloc[test_indexes][columns].values\n",
    "    datasets['y_train'] = df_training.iloc[train_indexes]['Survived'].values\n",
    "    datasets['y_test'] = df_training.iloc[test_indexes]['Survived'].values\n",
    "    \n",
    "    return datasets"
   ]
  },
  {
   "cell_type": "code",
   "execution_count": 19,
   "metadata": {},
   "outputs": [],
   "source": [
    "def evaluate(datasets):\n",
    "    logreg = LogisticRegression()\n",
    "    logreg.fit(datasets['X_train'], datasets['y_train'])\n",
    "    y_pred = logreg.predict(datasets['X_test'])\n",
    "    return sqrt(np.sum(np.power(np.array(y_pred) - np.array(datasets['y_test']), 2)))"
   ]
  },
  {
   "cell_type": "code",
   "execution_count": 20,
   "metadata": {},
   "outputs": [],
   "source": [
    "def k_fold_cross_validation(df_training, folds, column_indexes):\n",
    "    error = 0\n",
    "    \n",
    "    for k in range(10):\n",
    "        train_indexes = []\n",
    "        for j in range(10):\n",
    "            if j == k:\n",
    "                test_indexes = folds[j]\n",
    "            else:\n",
    "                train_indexes = train_indexes + folds[j]\n",
    "                \n",
    "        datasets = produce_training_test_set(df_training, train_indexes, test_indexes, column_indexes)\n",
    "        \n",
    "        error = error + evaluate(datasets)\n",
    "        \n",
    "    return error / 10.0"
   ]
  },
  {
   "cell_type": "code",
   "execution_count": 21,
   "metadata": {},
   "outputs": [
    {
     "data": {
      "text/plain": [
       "4.263014203517338"
      ]
     },
     "execution_count": 21,
     "metadata": {},
     "output_type": "execute_result"
    }
   ],
   "source": [
    "column_indexes = list(range(2, 62))\n",
    "k_fold_cross_validation(df_training, folds, column_indexes)"
   ]
  },
  {
   "cell_type": "code",
   "execution_count": 22,
   "metadata": {},
   "outputs": [
    {
     "name": "stdout",
     "output_type": "stream",
     "text": [
      "Selecting feature Sex_male - error decreased to 4.328105960328346\n",
      "Selecting feature TicketPrefix_W./C. - error decreased to 4.281406102952756\n",
      "Selecting feature SibSp - error decreased to 4.23599879067807\n",
      "Selecting feature Pclass_3 - error decreased to 4.153504196089814\n",
      "Selecting feature Age - error decreased to 4.132343766397408\n",
      "Selecting feature CabinClass_E - error decreased to 4.079869492473408\n",
      "Selecting feature TicketPrefix_S.O.C. - error decreased to 4.064489895129577\n",
      "Selecting feature Embarked_Q - error decreased to 4.040744255754691\n",
      "Selecting feature TicketPrefix_SC/Paris - error decreased to 4.028433693192925\n",
      "Selecting feature CabinClass_C - error decreased to 4.017109992047034\n",
      "Selecting feature TicketPrefix_W.E.P. - error decreased to 4.01472312289314\n",
      "Selecting feature CabinClass_F - error decreased to 4.014292192329051\n",
      "Selecting feature TicketPrefix_SW/PP - error decreased to 4.013383246577314\n",
      "Selecting feature TicketPrefix_S.W./PP - error decreased to 4.000681581198056\n",
      "END\n"
     ]
    }
   ],
   "source": [
    "# Forward selection\n",
    "pending = list(range(2, 62))\n",
    "model = []\n",
    "min_error = sys.float_info.max\n",
    "while len(pending) > 0:\n",
    "    \n",
    "    prev_error = min_error\n",
    "    min_error = sys.float_info.max\n",
    "    \n",
    "    for i in pending:\n",
    "        new_model = model + [i]\n",
    "        error = k_fold_cross_validation(df_training, folds, new_model)\n",
    "        \n",
    "        if error < min_error:\n",
    "            min_error = error\n",
    "            best_model = new_model\n",
    "            feature = i\n",
    "            \n",
    "    if min_error < prev_error:\n",
    "        print('Selecting feature ' + df_training.columns[feature] + ' - error decreased to ' + str(min_error))\n",
    "        model = best_model\n",
    "        pending.remove(feature)\n",
    "    else:\n",
    "        print('END')\n",
    "        break"
   ]
  },
  {
   "cell_type": "code",
   "execution_count": 24,
   "metadata": {},
   "outputs": [
    {
     "name": "stdout",
     "output_type": "stream",
     "text": [
      "Index(['Sex_male', 'TicketPrefix_W./C.', 'SibSp', 'Pclass_3', 'Age',\n",
      "       'CabinClass_E', 'TicketPrefix_S.O.C.', 'Embarked_Q',\n",
      "       'TicketPrefix_SC/Paris', 'CabinClass_C', 'TicketPrefix_W.E.P.',\n",
      "       'CabinClass_F', 'TicketPrefix_SW/PP', 'TicketPrefix_S.W./PP'],\n",
      "      dtype='object')\n",
      "Index(['PassengerId', 'Age', 'SibSp', 'Parch', 'Fare', 'Pclass_3', 'Pclass_1',\n",
      "       'Sex_male', 'TicketPrefix_A/5', 'TicketPrefix_PC',\n",
      "       'TicketPrefix_STON/O2.', 'TicketPrefix_NUMBER', 'TicketPrefix_PP',\n",
      "       'TicketPrefix_A/5.', 'TicketPrefix_C.A.', 'TicketPrefix_A./5.',\n",
      "       'TicketPrefix_SC/Paris', 'TicketPrefix_S.C./A.4.', 'TicketPrefix_A/4.',\n",
      "       'TicketPrefix_CA', 'TicketPrefix_S.P.', 'TicketPrefix_S.O.C.',\n",
      "       'TicketPrefix_SO/C', 'TicketPrefix_W./C.', 'TicketPrefix_SOTON/OQ',\n",
      "       'TicketPrefix_W.E.P.', 'TicketPrefix_STON/O', 'TicketPrefix_A4.',\n",
      "       'TicketPrefix_C', 'TicketPrefix_SOTON/O.Q.', 'TicketPrefix_SC/PARIS',\n",
      "       'TicketPrefix_S.O.P.', 'TicketPrefix_A.5.', 'TicketPrefix_Fa',\n",
      "       'TicketPrefix_CA.', 'TicketPrefix_F.C.C.', 'TicketPrefix_W/C',\n",
      "       'TicketPrefix_SW/PP', 'TicketPrefix_SCO/W', 'TicketPrefix_P/PP',\n",
      "       'TicketPrefix_SC', 'TicketPrefix_SC/AH', 'TicketPrefix_A/S',\n",
      "       'TicketPrefix_A/4', 'TicketPrefix_WE/P', 'TicketPrefix_S.W./PP',\n",
      "       'TicketPrefix_S.O./P.P.', 'TicketPrefix_F.C.', 'TicketPrefix_SOTON/O2',\n",
      "       'TicketPrefix_S.C./PARIS', 'CabinClass_None', 'CabinClass_C',\n",
      "       'CabinClass_E', 'CabinClass_G', 'CabinClass_D', 'CabinClass_A',\n",
      "       'CabinClass_B', 'CabinClass_F', 'Embarked_S', 'Embarked_C',\n",
      "       'Embarked_Q'],\n",
      "      dtype='object')\n"
     ]
    }
   ],
   "source": [
    "columns = df_training.columns[model]\n",
    "X_train = df_training[columns].values\n",
    "X_test = df_test[columns].values\n",
    "y_train = df_training['Survived'].values"
   ]
  },
  {
   "cell_type": "code",
   "execution_count": 25,
   "metadata": {},
   "outputs": [],
   "source": [
    "logreg = LogisticRegression()"
   ]
  },
  {
   "cell_type": "code",
   "execution_count": 26,
   "metadata": {},
   "outputs": [
    {
     "data": {
      "text/plain": [
       "LogisticRegression(C=1.0, class_weight=None, dual=False, fit_intercept=True,\n",
       "          intercept_scaling=1, max_iter=100, multi_class='ovr', n_jobs=1,\n",
       "          penalty='l2', random_state=None, solver='liblinear', tol=0.0001,\n",
       "          verbose=0, warm_start=False)"
      ]
     },
     "execution_count": 26,
     "metadata": {},
     "output_type": "execute_result"
    }
   ],
   "source": [
    "logreg.fit(X_train, y_train)"
   ]
  },
  {
   "cell_type": "code",
   "execution_count": 27,
   "metadata": {},
   "outputs": [],
   "source": [
    "y_test = logreg.predict(X_test)"
   ]
  },
  {
   "cell_type": "code",
   "execution_count": 28,
   "metadata": {},
   "outputs": [],
   "source": [
    "submission = df_test.copy()\n",
    "submission['Survived'] = y_test\n",
    "submission = submission[['PassengerId', 'Survived']]"
   ]
  },
  {
   "cell_type": "code",
   "execution_count": 29,
   "metadata": {},
   "outputs": [
    {
     "data": {
      "text/html": [
       "<div>\n",
       "<style scoped>\n",
       "    .dataframe tbody tr th:only-of-type {\n",
       "        vertical-align: middle;\n",
       "    }\n",
       "\n",
       "    .dataframe tbody tr th {\n",
       "        vertical-align: top;\n",
       "    }\n",
       "\n",
       "    .dataframe thead th {\n",
       "        text-align: right;\n",
       "    }\n",
       "</style>\n",
       "<table border=\"1\" class=\"dataframe\">\n",
       "  <thead>\n",
       "    <tr style=\"text-align: right;\">\n",
       "      <th></th>\n",
       "      <th>PassengerId</th>\n",
       "      <th>Survived</th>\n",
       "    </tr>\n",
       "  </thead>\n",
       "  <tbody>\n",
       "    <tr>\n",
       "      <th>0</th>\n",
       "      <td>892</td>\n",
       "      <td>0</td>\n",
       "    </tr>\n",
       "    <tr>\n",
       "      <th>1</th>\n",
       "      <td>893</td>\n",
       "      <td>0</td>\n",
       "    </tr>\n",
       "    <tr>\n",
       "      <th>2</th>\n",
       "      <td>894</td>\n",
       "      <td>0</td>\n",
       "    </tr>\n",
       "    <tr>\n",
       "      <th>3</th>\n",
       "      <td>895</td>\n",
       "      <td>0</td>\n",
       "    </tr>\n",
       "    <tr>\n",
       "      <th>4</th>\n",
       "      <td>896</td>\n",
       "      <td>1</td>\n",
       "    </tr>\n",
       "  </tbody>\n",
       "</table>\n",
       "</div>"
      ],
      "text/plain": [
       "   PassengerId  Survived\n",
       "0          892         0\n",
       "1          893         0\n",
       "2          894         0\n",
       "3          895         0\n",
       "4          896         1"
      ]
     },
     "execution_count": 29,
     "metadata": {},
     "output_type": "execute_result"
    }
   ],
   "source": [
    "submission.head()"
   ]
  },
  {
   "cell_type": "code",
   "execution_count": 30,
   "metadata": {},
   "outputs": [],
   "source": [
    "submission.to_csv('./submissions/02_logistic_regression_forward_selection.csv', index = False)"
   ]
  },
  {
   "cell_type": "markdown",
   "metadata": {},
   "source": [
    "This submission produced a 75.119% test prediction accuracy"
   ]
  },
  {
   "cell_type": "code",
   "execution_count": null,
   "metadata": {},
   "outputs": [],
   "source": []
  }
 ],
 "metadata": {
  "kernelspec": {
   "display_name": "Python 3",
   "language": "python",
   "name": "python3"
  },
  "language_info": {
   "codemirror_mode": {
    "name": "ipython",
    "version": 3
   },
   "file_extension": ".py",
   "mimetype": "text/x-python",
   "name": "python",
   "nbconvert_exporter": "python",
   "pygments_lexer": "ipython3",
   "version": "3.6.5"
  }
 },
 "nbformat": 4,
 "nbformat_minor": 2
}
