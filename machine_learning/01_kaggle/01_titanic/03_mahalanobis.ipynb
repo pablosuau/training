{
 "cells": [
  {
   "cell_type": "code",
   "execution_count": null,
   "metadata": {},
   "outputs": [],
   "source": [
    "import random\n",
    "import math\n",
    "import itertools\n",
    "from math import sqrt\n",
    "import pandas as pd\n",
    "import numpy as np\n",
    "import matplotlib.pyplot as plt\n",
    "from sklearn.decomposition import PCA"
   ]
  },
  {
   "cell_type": "code",
   "execution_count": null,
   "metadata": {},
   "outputs": [],
   "source": [
    "random.seed(0)"
   ]
  },
  {
   "cell_type": "code",
   "execution_count": null,
   "metadata": {},
   "outputs": [],
   "source": [
    "df_training = pd.read_csv('../../datasets/titanic_training_processed.csv')\n",
    "df_test = pd.read_csv('../../datasets/titanic_test_processed.csv')"
   ]
  },
  {
   "cell_type": "markdown",
   "metadata": {},
   "source": [
    "This is just an experiment to practice with the concept of statistical distances. The idea is to visualise a dimensionality reduced representation of the two classes (survived / non-survived) to get some awarenenss of their separability and then use a simple Mahalanobis distance between each test observation and the two classes to perform classification. \n",
    "\n",
    "Originally I wanted to apply t-SNE for dimensionality reduction, but the t-SNE algorithm in scikit-learn cannot be applied to new data. Therefore, I am sticking with PCA instead. "
   ]
  },
  {
   "cell_type": "code",
   "execution_count": null,
   "metadata": {},
   "outputs": [],
   "source": [
    "X = df_training.values[:, 2:]\n",
    "pca = PCA(n_components = 2)\n",
    "X_pca = pca.fit_transform(X)"
   ]
  },
  {
   "cell_type": "code",
   "execution_count": null,
   "metadata": {},
   "outputs": [],
   "source": [
    "fig, ax = plt.subplots()\n",
    "_ = ax.scatter(X_pca[df_training.Survived == 1, 0], \n",
    "               X_pca[df_training.Survived == 1, 1], \n",
    "               c = 'blue', \n",
    "               alpha = 0.5)\n",
    "_ = ax.scatter(X_pca[df_training.Survived == 0, 0], \n",
    "               X_pca[df_training.Survived == 0, 1], \n",
    "               c = 'red', \n",
    "               alpha = 0.5)"
   ]
  },
  {
   "cell_type": "markdown",
   "metadata": {},
   "source": [
    "There seems to be a large overlap between the rwo distributions. What is the Bhattacharyya distance value?"
   ]
  },
  {
   "cell_type": "code",
   "execution_count": null,
   "metadata": {},
   "outputs": [],
   "source": [
    "def number_observations(array, x, y):\n",
    "    return np.sum(np.logical_and(array[:, 0] < x, \n",
    "                                 np.logical_and(array[:, 0] >= x - 0.1, \n",
    "                                                np.logical_and(array[:, 1] < y, \n",
    "                                                               array[:, 1] >= y - 0.1))))"
   ]
  },
  {
   "cell_type": "code",
   "execution_count": null,
   "metadata": {
    "scrolled": true
   },
   "outputs": [],
   "source": [
    "discrete = np.arange(-4, 10, 0.1)\n",
    "index_1 = df_training.Survived == 1\n",
    "index_0 = df_training.Survived == 0\n",
    "n_1 = np.sum(index_1)\n",
    "n_0 = np.sum(index_0)\n",
    "bc = 0\n",
    "for i in list(itertools.product(discrete, discrete)):\n",
    "    x = i[0]\n",
    "    y = i[1]\n",
    "    p_1 = number_observations(X_pca[index_1, :], x, y) / n_1\n",
    "    p_0 = number_observations(X_pca[index_0, :], x, y) / n_0\n",
    "    bc = bc + math.sqrt(p_1 * p_0)\n",
    "print('Bhattacharyya distance: ' + str(-math.log(bc)))"
   ]
  },
  {
   "cell_type": "code",
   "execution_count": null,
   "metadata": {},
   "outputs": [],
   "source": []
  }
 ],
 "metadata": {
  "kernelspec": {
   "display_name": "Python 3",
   "language": "python",
   "name": "python3"
  },
  "language_info": {
   "codemirror_mode": {
    "name": "ipython",
    "version": 3
   },
   "file_extension": ".py",
   "mimetype": "text/x-python",
   "name": "python",
   "nbconvert_exporter": "python",
   "pygments_lexer": "ipython3",
   "version": "3.6.5"
  }
 },
 "nbformat": 4,
 "nbformat_minor": 2
}
