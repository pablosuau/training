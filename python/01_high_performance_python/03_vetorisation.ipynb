{
 "cells": [
  {
   "cell_type": "code",
   "execution_count": null,
   "metadata": {},
   "outputs": [],
   "source": [
    "import time\n",
    "import matplotlib.pyplot as plt"
   ]
  },
  {
   "cell_type": "markdown",
   "metadata": {},
   "source": [
    "In this notebook, we use vectorisation to leverage our computer architecture in order to speed up computation.\n",
    "\n",
    "The example used in this notebook is in the context of diffusion in fluids. More specifically, we are analysing the dynamics of how dye mixes with water if we put several drops in water at room temperature and without stirring the water. \n",
    "\n",
    "# Lists implementation"
   ]
  },
  {
   "cell_type": "code",
   "execution_count": null,
   "metadata": {},
   "outputs": [],
   "source": [
    "grid_shape = (1024, 1024)\n",
    "\n",
    "def evolve(grid, dt, D = 1.0):\n",
    "    '''\n",
    "    Calculates the next state from the current state. \n",
    "    \n",
    "    Parameters:\n",
    "       - grid: current state\n",
    "       - dt: time steps\n",
    "       - D: dye's diffusion speed\n",
    "    '''\n",
    "    xmax, ymax = grid_shape\n",
    "    new_grid = [[0.0,] * ymax for x in range(xmax)]\n",
    "    for i in range(xmax): # Python 3 does not have xrange\n",
    "            for j in range(ymax):\n",
    "                # Gradients. Boundary condition: wrap around. \n",
    "                grid_xx = grid[(i + 1) % xmax][j] + grid[(i - 1) % xmax][j] - 2.0 * grid[i][j]\n",
    "                grid_yy = grid[i][(j + 1) % ymax] + grid[i][(j - 1) % ymax] - 2.0 * grid[i][j]\n",
    "                new_grid[i][j] = grid[i][j] + D * (grid_xx + grid_yy) * dt\n",
    "    return new_grid"
   ]
  },
  {
   "cell_type": "code",
   "execution_count": null,
   "metadata": {},
   "outputs": [],
   "source": [
    "# Initialisation code. This code only runs once, as opposed to the previous function, that\n",
    "# runs multiple times. That's why we will only analyse the complexity of the evolve function\n",
    "def run_experiment(num_iterations):\n",
    "    # Setting up initial conditions\n",
    "    xmax, ymax = grid_shape\n",
    "    grid = [[0.0, ] * ymax for x in range(xmax)]\n",
    "    \n",
    "    block_low = int(grid_shape[0] * .4)\n",
    "    block_high = int(grid_shape[0] * .5)\n",
    "    for i in range(block_low, block_high): # Python 3 does not have xrange\n",
    "        for j in range(block_low, block_high):\n",
    "            grid[i][j] = 0.005\n",
    "            \n",
    "    # Evolve the initial conditions\n",
    "    start = time.time()\n",
    "    for i in range(num_iterations):\n",
    "        # The values in the grid and for dt have been chosen small enough so that\n",
    "        # the algorithm will converge in a stable way\n",
    "        grid = evolve(grid, 0.1)\n",
    "    print(time.time() - start)\n",
    "    \n",
    "    return grid"
   ]
  },
  {
   "cell_type": "code",
   "execution_count": null,
   "metadata": {},
   "outputs": [],
   "source": [
    "fig, ax = plt.subplots(1, 3)\n",
    "for i in range(0,3):\n",
    "    grid = run_experiment(i * 50)\n",
    "    ax[i].imshow(grid, extent=[0, 1, 0, 1])"
   ]
  },
  {
   "cell_type": "code",
   "execution_count": null,
   "metadata": {},
   "outputs": [],
   "source": []
  }
 ],
 "metadata": {
  "kernelspec": {
   "display_name": "Python 3",
   "language": "python",
   "name": "python3"
  },
  "language_info": {
   "codemirror_mode": {
    "name": "ipython",
    "version": 3
   },
   "file_extension": ".py",
   "mimetype": "text/x-python",
   "name": "python",
   "nbconvert_exporter": "python",
   "pygments_lexer": "ipython3",
   "version": "3.6.5"
  }
 },
 "nbformat": 4,
 "nbformat_minor": 2
}
