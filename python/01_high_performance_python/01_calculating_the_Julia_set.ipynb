{
 "cells": [
  {
   "cell_type": "code",
   "execution_count": null,
   "metadata": {},
   "outputs": [],
   "source": [
    "%matplotlib inline\n",
    "\n",
    "import time\n",
    "import numpy as np\n",
    "import matplotlib.pyplot as plt\n",
    "import matplotlib.cm as cm"
   ]
  },
  {
   "cell_type": "markdown",
   "metadata": {},
   "source": [
    "The Julia set (https://en.wikipedia.org/wiki/Julia_set) is a CPU-bound problem in which a fractal sequence generates a complex output image. The implementation on this book is suboptimal so we can identify both memory consuming and slow instructions. \n",
    "\n",
    "Each coordinate is expressed as a complex number. For each coordinate z, we apply the following function:\n",
    "\n",
    "f(z) = z^2 + c\n",
    "\n",
    "until z gets to infinite or after a maximum number of iterations is executed. The colour assigned to each coordinate depends on the number of times we iterated at that coordinate: from black (1 iteration) to white (if we reach the maximum number of iterations)"
   ]
  },
  {
   "cell_type": "code",
   "execution_count": null,
   "metadata": {},
   "outputs": [],
   "source": [
    "# Area of the complex space to investigate\n",
    "x1, x2, y1, y2 = -1.8, 1.8, -1.8, 1.8\n",
    "c_real, c_imag = -0.62772, -.42193"
   ]
  },
  {
   "cell_type": "code",
   "execution_count": null,
   "metadata": {},
   "outputs": [],
   "source": [
    "# Calculating input parameters\n",
    "def calc_pure_python(desired_width, max_iterations):\n",
    "    '''\n",
    "    Create a list of complex coordinates (zs) and complex \n",
    "    parameters (cs), build Julia set, and display\n",
    "    '''\n",
    "    x_step = (float(x2 - x1) / float(desired_width))\n",
    "    y_step = (float(y1 - y2) / float(desired_width))\n",
    "    x = []\n",
    "    y = []\n",
    "    ycoord = y2\n",
    "    while ycoord > y1:\n",
    "        y.append(ycoord)\n",
    "        ycoord += y_step\n",
    "    xcoord = x1\n",
    "    while xcoord < x2:\n",
    "        x.append(xcoord)\n",
    "        xcoord += x_step\n",
    "    # Build a list of coordinates and the initial conidition for each cell\n",
    "    # The initial condition is a constant and we could use a single value\n",
    "    # instead of an array, but the aim is to simulate a real-world scenario\n",
    "    # with several inputs to our function\n",
    "    zs = []\n",
    "    cs = []\n",
    "    for ycoord in y:\n",
    "        for xcoord in x:\n",
    "            zs.append(complex(xcoord, ycoord))\n",
    "            cs.append(complex(c_real, c_imag))\n",
    "            \n",
    "    print(\"Length of x: \" + str(len(x)))\n",
    "    print(\"Total elements: \" + str(len(zs)))\n",
    "    start_time = time.time()\n",
    "    output = calculate_z_serial_purepython(max_iterations, zs, cs)\n",
    "    end_time = time.time()\n",
    "    secs = end_time - start_time\n",
    "    print('calculate_z_serial_purepython took ' + str(secs) + ' seconds')\n",
    "    \n",
    "    # This sum is expected for a 1000^2 grid with 300 iterations.\n",
    "    # It catches minor errors we might introduce when we are\n",
    "    # working on a fixed set of inputs\n",
    "    assert(sum(output) == 33219980)\n",
    "    \n",
    "    return output"
   ]
  },
  {
   "cell_type": "code",
   "execution_count": null,
   "metadata": {},
   "outputs": [],
   "source": [
    "def calculate_z_serial_purepython(maxiter, zs, cs):\n",
    "    '''\n",
    "    Calculate output list using Julia update rule\n",
    "    '''\n",
    "    output = [0] * len(zs)\n",
    "    for i in range(len(zs)):\n",
    "        n = 0\n",
    "        z = zs[i]\n",
    "        c = cs[i]\n",
    "        while abs(z) < 2 and n < maxiter:\n",
    "            z = z * z + c\n",
    "            n += 1\n",
    "        output[i] = n\n",
    "    return output"
   ]
  },
  {
   "cell_type": "code",
   "execution_count": null,
   "metadata": {},
   "outputs": [],
   "source": [
    "# Main method\n",
    "# Calcualte the Julia set using a pure Python solution with\n",
    "# reasonable defaults for a laptop\n",
    "output = calc_pure_python(desired_width = 1000, max_iterations = 300)"
   ]
  },
  {
   "cell_type": "code",
   "execution_count": null,
   "metadata": {},
   "outputs": [],
   "source": [
    "output = np.array(output).reshape((-1, 1000))\n",
    "output = output.astype(float)"
   ]
  },
  {
   "cell_type": "code",
   "execution_count": null,
   "metadata": {},
   "outputs": [],
   "source": [
    "plt.imshow(output, cmap='hot')"
   ]
  },
  {
   "cell_type": "markdown",
   "metadata": {},
   "source": [
    "The version of the code above is based on the `time` module and `print` statements. This is the simplest way to measure the execution time of a piece of code, but it may become soon unmanageable. \n",
    "\n",
    "### Using a decorator\n",
    "\n",
    "This is a cleaner approach. "
   ]
  },
  {
   "cell_type": "code",
   "execution_count": null,
   "metadata": {},
   "outputs": [],
   "source": [
    "from functools import wraps\n",
    "\n",
    "def timefn(fn):\n",
    "    @wraps(fn)\n",
    "    def measure_time(*args, **kwargs):\n",
    "        t1 = time.time()\n",
    "        result = fn(*args, **kwargs)\n",
    "        t2 = time.time()\n",
    "        print('@timefn: ' + fn.__name__ + ' took ' + str(t2 - t1) + ' seconds')\n",
    "        return result\n",
    "    return measure_time"
   ]
  },
  {
   "cell_type": "code",
   "execution_count": null,
   "metadata": {},
   "outputs": [],
   "source": [
    "@timefn\n",
    "def calculate_z_serial_purepython(maxiter, zs, cs):\n",
    "    '''\n",
    "    Calculate output list using Julia update rule\n",
    "    '''\n",
    "    output = [0] * len(zs)\n",
    "    for i in range(len(zs)):\n",
    "        n = 0\n",
    "        z = zs[i]\n",
    "        c = cs[i]\n",
    "        while abs(z) < 2 and n < maxiter:\n",
    "            z = z * z + c\n",
    "            n += 1\n",
    "        output[i] = n\n",
    "    return output"
   ]
  },
  {
   "cell_type": "code",
   "execution_count": null,
   "metadata": {},
   "outputs": [],
   "source": [
    "output = calc_pure_python(desired_width = 1000, max_iterations = 300)"
   ]
  },
  {
   "cell_type": "markdown",
   "metadata": {},
   "source": [
    "There is a tiny difference due to the fact that `calculate_z_serial_purepython` now has to call another function. "
   ]
  },
  {
   "cell_type": "markdown",
   "metadata": {},
   "source": [
    "### Using the timeit module\n",
    "\n",
    "The `timeit` module includes functionality to measure a piece of code by repeating it several times. We should notice that this module temporary disables the garbage collector. This may have an impact on the real execution time if the garbage collection would be invoked."
   ]
  },
  {
   "cell_type": "code",
   "execution_count": null,
   "metadata": {},
   "outputs": [],
   "source": [
    "%%timeit -n 5 -r 5\n",
    "calc_pure_python(desired_width = 1000, max_iterations = 300)"
   ]
  },
  {
   "cell_type": "markdown",
   "metadata": {},
   "source": [
    "The average of 5 repetitions will be calculated (number = 5) and this process will be repeated other 5 times (repeat = 5) to calculate mean and standard deviation. Higher times are probably produced by other processes running in the background and taking processing time from the CPU. We should execute this several times. If we get wide differences it may mean that we there are too many other processes running in the background. "
   ]
  },
  {
   "cell_type": "markdown",
   "metadata": {},
   "source": [
    "### Using the cProfile module\n",
    "\n",
    "The `cProfile` module is a built-in profiling tool in the standard library. It measures the time it takes for each function to run. This introduces a great overhead, but provides much better insights. \n",
    "\n",
    "The following piece of code shows the cumulative running time of each function, together with caller information (which function is calling which)."
   ]
  },
  {
   "cell_type": "code",
   "execution_count": null,
   "metadata": {
    "scrolled": false
   },
   "outputs": [],
   "source": [
    "import cProfile, io, pstats\n",
    "\n",
    "pr = cProfile.Profile()\n",
    "pr.enable()\n",
    "\n",
    "calc_pure_python(desired_width = 1000, max_iterations = 300)\n",
    "\n",
    "pr.disable()\n",
    "\n",
    "s = io.StringIO()\n",
    "sortby = 'cumulative'\n",
    "ps = pstats.Stats(pr, stream = s).sort_stats(sortby)\n",
    "ps.print_stats()\n",
    "ps.print_callers()\n",
    "print(s.getvalue())"
   ]
  },
  {
   "cell_type": "markdown",
   "metadata": {},
   "source": [
    "The `calculate_z_serial_purepython` function is the most time consuming one. Inside this function, the most time consuming operation is `abs`, which is called a total of 34219980 times. \n",
    "\n",
    "Figuring out what is happening on a line-by-line basis is very hard because we only get profile information for the function calls themselves, not each line within the functions. "
   ]
  },
  {
   "cell_type": "code",
   "execution_count": null,
   "metadata": {},
   "outputs": [],
   "source": []
  }
 ],
 "metadata": {
  "kernelspec": {
   "display_name": "Python 3",
   "language": "python",
   "name": "python3"
  },
  "language_info": {
   "codemirror_mode": {
    "name": "ipython",
    "version": 3
   },
   "file_extension": ".py",
   "mimetype": "text/x-python",
   "name": "python",
   "nbconvert_exporter": "python",
   "pygments_lexer": "ipython3",
   "version": "3.6.5"
  }
 },
 "nbformat": 4,
 "nbformat_minor": 2
}
