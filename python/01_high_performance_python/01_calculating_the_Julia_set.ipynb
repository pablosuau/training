{
 "cells": [
  {
   "cell_type": "code",
   "execution_count": 1,
   "metadata": {},
   "outputs": [],
   "source": [
    "import time"
   ]
  },
  {
   "cell_type": "markdown",
   "metadata": {},
   "source": [
    "The Julia set (https://en.wikipedia.org/wiki/Julia_set) is a CPU-bound problem in which a fractal sequence generates a complex output image. The implementation on this book is suboptimal so we can identify both memory consuming and slow instructions. \n",
    "\n",
    "Each coordinate is expressed as a complex number. For each coordinate z, we apply the following function:\n",
    "\n",
    "f(z) = z^2 + c\n",
    "\n",
    "until z gets to infinite or after a maximum number of iterations is executed. The colour assigned to each coordinate depends on the number of times we iterated at that coordinate: from black (1 iteration) to white (if we reach the maximum number of iterations)"
   ]
  },
  {
   "cell_type": "code",
   "execution_count": 2,
   "metadata": {},
   "outputs": [],
   "source": [
    "# Area of the complex space to investigate\n",
    "x1, x2, y1, y2 = -1.8, 1.8, -1.8, 1.8\n",
    "c_real, c_image = -0.62772, -.42193"
   ]
  },
  {
   "cell_type": "code",
   "execution_count": 3,
   "metadata": {},
   "outputs": [],
   "source": [
    "# Calculating input parameters\n",
    "def calc_pure_python(desired_width, max_iterations):\n",
    "    '''\n",
    "    Create a list of complex coordinates (zs) and complex \n",
    "    parameters (cs), build Julia set, and display\n",
    "    '''\n",
    "    x_step = (float(x2 - x1) / float(desired_width))\n",
    "    y_step = (float(y1 - y2) / float(desired_width))\n",
    "    x = []\n",
    "    y = []\n",
    "    ycoord = y2\n",
    "    while ycoord > y1:\n",
    "        y.append(ycoord)\n",
    "        ycoord += y_step\n",
    "    xcoord = x1\n",
    "    while xcoord < x2:\n",
    "        x.append(xcoord)\n",
    "        xcoord += x_step\n",
    "    # Build a list of coordinates and the initial conidition for each cell\n",
    "    # The initial condition is a constant and we could use a single value\n",
    "    # instead of an array, but the aim is to simulate a real-world scenario\n",
    "    # with several inputs to our function\n",
    "    xz = []\n",
    "    cs = []\n",
    "    for ycoord in y:\n",
    "        for xcoord in x:\n",
    "            zs.append(complex(xcoord, ycoord))\n",
    "            cs.append(complex(c_real, c_imag))\n",
    "            \n",
    "    print(\"Length of x: \" + str(len(x)))\n",
    "    print(\"Total elements: \" + str(len(zs)))\n",
    "    start_time = time.time()\n",
    "    calculate_z_serial_puerpython(max_iterations, zs, cs)\n",
    "    end_time = time.time()\n",
    "    secs = end_time - start_time\n",
    "    print(calculate_x_serial_purepython.func_name + \" took \" + str(secs) + \" seconds\")\n",
    "    \n",
    "    # This sum is expected for a 1000^2 grid with 300 iterations.\n",
    "    # It catches minor errors we might introduce when we are\n",
    "    # working on a fixed set of inputs\n",
    "    assert(sum(output) == 33219980)"
   ]
  },
  {
   "cell_type": "code",
   "execution_count": null,
   "metadata": {},
   "outputs": [],
   "source": []
  }
 ],
 "metadata": {
  "kernelspec": {
   "display_name": "Python 3",
   "language": "python",
   "name": "python3"
  },
  "language_info": {
   "codemirror_mode": {
    "name": "ipython",
    "version": 3
   },
   "file_extension": ".py",
   "mimetype": "text/x-python",
   "name": "python",
   "nbconvert_exporter": "python",
   "pygments_lexer": "ipython3",
   "version": "3.6.5"
  }
 },
 "nbformat": 4,
 "nbformat_minor": 2
}
