{
 "cells": [
  {
   "cell_type": "code",
   "execution_count": 1,
   "metadata": {},
   "outputs": [],
   "source": [
    "%matplotlib inline\n",
    "import random\n",
    "import time\n",
    "import math\n",
    "import numpy as np\n",
    "from tqdm import tqdm\n",
    "import matplotlib.pyplot as plt\n",
    "from multiprocessing import Pool, Manager, Process, Value, Lock\n",
    "from multiprocessing.dummy import Pool as ThreadPool"
   ]
  },
  {
   "cell_type": "markdown",
   "metadata": {},
   "source": [
    "This notebook was tested on a Mac. Changes may be required to run this code in a Windows machine. \n",
    "\n",
    "In these examples I am hardcoding the number of cores to use (`NUM_PROCESSES = 4`). The `multiprocessing` module will try and use all available cores, so you shouldn't need to hardcode the number of processes unless you want to manage your resources. In my experience, at least in Windows machines, I've noticed that is better to hardcode the number of processes as number of available cores - 1. Otherwise, the operating system starts feeling laggy and unresponsive. \n",
    "\n",
    "## Estimate the value of pi using the Monte Carlo method\n",
    "\n",
    "We generate multiple random values. The proportion of random values within a unit circle (x^2 + y^2 <= 1) with respect to the total amoung of generated random values is our approximation of pi. \n",
    "\n",
    "This is an ideal first problem because the workload can be evenly split across a number of processes. "
   ]
  },
  {
   "cell_type": "code",
   "execution_count": 2,
   "metadata": {},
   "outputs": [],
   "source": [
    "def estimate_nbr_points_in_quarter_circle(nbr_estimates):\n",
    "    nbr_trials_in_quarter_unit_circle = 0\n",
    "    \n",
    "    for step in range(int(nbr_estimates)):\n",
    "        x = random.uniform(0, 1)\n",
    "        y = random.uniform(0, 1)\n",
    "        is_in_unit_circle = x * x + y * y <= 1.0\n",
    "        nbr_trials_in_quarter_unit_circle += is_in_unit_circle\n",
    "    return nbr_trials_in_quarter_unit_circle"
   ]
  },
  {
   "cell_type": "markdown",
   "metadata": {},
   "source": [
    "This version uses a pool of processes. The time is estimated after creating the pool, because spawning processes (as opposed to spawning threads) has some overhead. "
   ]
  },
  {
   "cell_type": "code",
   "execution_count": 3,
   "metadata": {},
   "outputs": [
    {
     "name": "stdout",
     "output_type": "stream",
     "text": [
      "Number of processes: 1\n",
      "Making 100000000.0 samples per worker\n",
      "Estimated pi 3.14180196\n",
      "Delta: 55.693289041519165\n",
      "-----------------\n",
      "Number of processes: 2\n",
      "Making 50000000.0 samples per worker\n",
      "Estimated pi 3.1414536\n",
      "Delta: 28.64632511138916\n",
      "-----------------\n",
      "Number of processes: 3\n",
      "Making 33333333.333333332 samples per worker\n",
      "Estimated pi 3.14151632\n",
      "Delta: 21.720614194869995\n",
      "-----------------\n",
      "Number of processes: 4\n",
      "Making 25000000.0 samples per worker\n",
      "Estimated pi 3.14148472\n",
      "Delta: 18.48305892944336\n",
      "-----------------\n",
      "Number of processes: 5\n",
      "Making 20000000.0 samples per worker\n",
      "Estimated pi 3.14174572\n",
      "Delta: 14.925731182098389\n",
      "-----------------\n",
      "Number of processes: 6\n",
      "Making 16666666.666666666 samples per worker\n",
      "Estimated pi 3.1417052\n",
      "Delta: 13.017522096633911\n",
      "-----------------\n",
      "Number of processes: 7\n",
      "Making 14285714.285714285 samples per worker\n",
      "Estimated pi 3.14125252\n",
      "Delta: 13.323940753936768\n",
      "-----------------\n",
      "Number of processes: 8\n",
      "Making 12500000.0 samples per worker\n",
      "Estimated pi 3.14170812\n",
      "Delta: 13.418065071105957\n",
      "-----------------\n"
     ]
    }
   ],
   "source": [
    "nbr_samples_in_total = 1e8\n",
    "\n",
    "times_proc = []\n",
    "\n",
    "for num_processes in range(1,9):\n",
    "    print('Number of processes: ' + str(num_processes))\n",
    "    pool = Pool(processes = num_processes)\n",
    "    nbr_samples_per_worker = nbr_samples_in_total / num_processes\n",
    "    print('Making {} samples per worker'.format(nbr_samples_per_worker))\n",
    "    nbr_trials_per_process = [nbr_samples_per_worker] * num_processes\n",
    "\n",
    "    t1 = time.time()\n",
    "    nbr_in_unit_circles = pool.map(estimate_nbr_points_in_quarter_circle, nbr_trials_per_process)\n",
    "    # We multiply by 4 because we are producing sampels only on one quarter of the unit circle\n",
    "    pi_estimate = sum(nbr_in_unit_circles) * 4 / nbr_samples_in_total\n",
    "    print('Estimated pi ' + str(pi_estimate))\n",
    "    delta = time.time() - t1\n",
    "    print('Delta: ' + str(delta))\n",
    "    print('-----------------')\n",
    "    \n",
    "    pool.close()\n",
    "    \n",
    "    times_proc.append(delta)"
   ]
  },
  {
   "cell_type": "markdown",
   "metadata": {},
   "source": [
    "This version is based on threads. The problem with threads is that due to Python's GIL contraint (Global Interpreter Lock) only one thread can run at a time. As a consequence of this, adding more threads actually slows down the process (due to the overhead of switching between threads)."
   ]
  },
  {
   "cell_type": "code",
   "execution_count": 4,
   "metadata": {},
   "outputs": [
    {
     "name": "stdout",
     "output_type": "stream",
     "text": [
      "Number of processes: 1\n",
      "Making 100000000.0 samples per worker\n",
      "Estimated pi 3.14183296\n",
      "Delta: 56.62530469894409\n",
      "-----------------\n",
      "Number of processes: 2\n",
      "Making 50000000.0 samples per worker\n",
      "Estimated pi 3.14174132\n",
      "Delta: 55.93664193153381\n",
      "-----------------\n",
      "Number of processes: 3\n",
      "Making 33333333.333333332 samples per worker\n",
      "Estimated pi 3.14150508\n",
      "Delta: 56.60968613624573\n",
      "-----------------\n",
      "Number of processes: 4\n",
      "Making 25000000.0 samples per worker\n",
      "Estimated pi 3.14167376\n",
      "Delta: 56.78120398521423\n",
      "-----------------\n",
      "Number of processes: 5\n",
      "Making 20000000.0 samples per worker\n",
      "Estimated pi 3.141206\n",
      "Delta: 56.02603793144226\n",
      "-----------------\n",
      "Number of processes: 6\n",
      "Making 16666666.666666666 samples per worker\n",
      "Estimated pi 3.14152972\n",
      "Delta: 56.230332136154175\n",
      "-----------------\n",
      "Number of processes: 7\n",
      "Making 14285714.285714285 samples per worker\n",
      "Estimated pi 3.14139084\n",
      "Delta: 56.66766285896301\n",
      "-----------------\n",
      "Number of processes: 8\n",
      "Making 12500000.0 samples per worker\n",
      "Estimated pi 3.14159416\n",
      "Delta: 57.15016007423401\n",
      "-----------------\n"
     ]
    }
   ],
   "source": [
    "nbr_samples_in_total = 1e8\n",
    "\n",
    "times_thread = []\n",
    "\n",
    "for num_processes in range(1,9):\n",
    "    print('Number of processes: ' + str(num_processes))\n",
    "    pool = ThreadPool(processes = num_processes)\n",
    "    nbr_samples_per_worker = nbr_samples_in_total / num_processes\n",
    "    print('Making {} samples per worker'.format(nbr_samples_per_worker))\n",
    "    nbr_trials_per_process = [nbr_samples_per_worker] * num_processes\n",
    "\n",
    "    t1 = time.time()\n",
    "    nbr_in_unit_circles = pool.map(estimate_nbr_points_in_quarter_circle, nbr_trials_per_process)\n",
    "    # We multiply by 4 because we are producing sampels only on one quarter of the unit circle\n",
    "    pi_estimate = sum(nbr_in_unit_circles) * 4 / nbr_samples_in_total\n",
    "    print('Estimated pi ' + str(pi_estimate))\n",
    "    delta = time.time() - t1\n",
    "    print('Delta: ' + str(delta))\n",
    "    print('-----------------')\n",
    "    \n",
    "    pool.close()\n",
    "    \n",
    "    times_thread.append(delta)"
   ]
  },
  {
   "cell_type": "code",
   "execution_count": 5,
   "metadata": {},
   "outputs": [
    {
     "data": {
      "image/png": "[encoded data removed]",
      "text/plain": [
       "<Figure size 1152x288 with 1 Axes>"
      ]
     },
     "metadata": {},
     "output_type": "display_data"
    }
   ],
   "source": [
    "fig, ax = plt.subplots()\n",
    "ax.plot(range(1, 9), times_proc)\n",
    "ax.plot(range(1, 9), times_thread)\n",
    "ax.set_xlabel('number of workers')\n",
    "ax.set_ylabel('time')\n",
    "ax.grid(True)\n",
    "ax.legend(['Processes', 'Threads'])\n",
    "fig.set_figwidth(16)"
   ]
  },
  {
   "cell_type": "markdown",
   "metadata": {},
   "source": [
    "## Estimate the value of pi using the Monte Carlo method (numpy version)\n",
    "\n",
    "In this version we need to explicitely set numpy's random seed for each forked process (not for threads). Otherwise, all the workers wil generate exactly the same sequence of random numbers. This is because all forks share the same shared state. This is not the case with the `random` module, which was used above, because this is dealt with by the `multiprocessing` module. "
   ]
  },
  {
   "cell_type": "code",
   "execution_count": 6,
   "metadata": {},
   "outputs": [],
   "source": [
    "def estimate_nbr_points_in_quarter_circle(nbr_samples):\n",
    "    np.random.seed()\n",
    "    \n",
    "    xs = np.random.uniform(0, 1, nbr_samples)\n",
    "    ys = np.random.uniform(0, 1, nbr_samples)\n",
    "    estimate_inside_quarter_unit_circle = (xs * xs + ys * ys) <= 1\n",
    "    nbr_trials_in_quarter_unit_circle = np.sum(estimate_inside_quarter_unit_circle)\n",
    "    return nbr_trials_in_quarter_unit_circle"
   ]
  },
  {
   "cell_type": "code",
   "execution_count": 7,
   "metadata": {},
   "outputs": [
    {
     "name": "stdout",
     "output_type": "stream",
     "text": [
      "Number of processes: 1\n",
      "Making 100000000 samples per worker\n",
      "Estimated pi 3.1417034\n",
      "Delta: 4.008562803268433\n",
      "-----------------\n",
      "Number of processes: 2\n",
      "Making 50000000 samples per worker\n",
      "Estimated pi 3.1417234\n",
      "Delta: 1.8612520694732666\n",
      "-----------------\n",
      "Number of processes: 3\n",
      "Making 33333333 samples per worker\n",
      "Estimated pi 3.14163152\n",
      "Delta: 1.4414749145507812\n",
      "-----------------\n",
      "Number of processes: 4\n",
      "Making 25000000 samples per worker\n",
      "Estimated pi 3.14146844\n",
      "Delta: 1.2310590744018555\n",
      "-----------------\n",
      "Number of processes: 5\n",
      "Making 20000000 samples per worker\n",
      "Estimated pi 3.14172112\n",
      "Delta: 1.1236419677734375\n",
      "-----------------\n",
      "Number of processes: 6\n",
      "Making 16666666 samples per worker\n",
      "Estimated pi 3.14160956\n",
      "Delta: 1.154047966003418\n",
      "-----------------\n",
      "Number of processes: 7\n",
      "Making 14285714 samples per worker\n",
      "Estimated pi 3.14164564\n",
      "Delta: 1.0820579528808594\n",
      "-----------------\n",
      "Number of processes: 8\n",
      "Making 12500000 samples per worker\n",
      "Estimated pi 3.1416424\n",
      "Delta: 1.0063738822937012\n",
      "-----------------\n"
     ]
    }
   ],
   "source": [
    "nbr_samples_in_total = 1e8\n",
    "\n",
    "times_proc = []\n",
    "\n",
    "for num_processes in range(1,9):\n",
    "    print('Number of processes: ' + str(num_processes))\n",
    "    pool = Pool(processes = num_processes)\n",
    "    nbr_samples_per_worker = int(nbr_samples_in_total / num_processes)\n",
    "    print('Making {} samples per worker'.format(nbr_samples_per_worker))\n",
    "    nbr_trials_per_process = [nbr_samples_per_worker] * num_processes\n",
    "\n",
    "    t1 = time.time()\n",
    "    nbr_in_unit_circles = pool.map(estimate_nbr_points_in_quarter_circle, nbr_trials_per_process)\n",
    "    # We multiply by 4 because we are producing sampels only on one quarter of the unit circle\n",
    "    pi_estimate = sum(nbr_in_unit_circles) * 4 / nbr_samples_in_total\n",
    "    print('Estimated pi ' + str(pi_estimate))\n",
    "    delta = time.time() - t1\n",
    "    print('Delta: ' + str(delta))\n",
    "    print('-----------------')\n",
    "    \n",
    "    pool.close()\n",
    "    \n",
    "    times_proc.append(delta)"
   ]
  },
  {
   "cell_type": "code",
   "execution_count": 8,
   "metadata": {},
   "outputs": [
    {
     "name": "stdout",
     "output_type": "stream",
     "text": [
      "Number of processes: 1\n",
      "Making 100000000 samples per worker\n",
      "Estimated pi 3.14149796\n",
      "Delta: 3.197511911392212\n",
      "-----------------\n",
      "Number of processes: 2\n",
      "Making 50000000 samples per worker\n",
      "Estimated pi 3.14166328\n",
      "Delta: 2.956697940826416\n",
      "-----------------\n",
      "Number of processes: 3\n",
      "Making 33333333 samples per worker\n",
      "Estimated pi 3.14157696\n",
      "Delta: 2.914911985397339\n",
      "-----------------\n",
      "Number of processes: 4\n",
      "Making 25000000 samples per worker\n",
      "Estimated pi 3.14138796\n",
      "Delta: 2.950700044631958\n",
      "-----------------\n",
      "Number of processes: 5\n",
      "Making 20000000 samples per worker\n",
      "Estimated pi 3.14139728\n",
      "Delta: 2.981640100479126\n",
      "-----------------\n",
      "Number of processes: 6\n",
      "Making 16666666 samples per worker\n",
      "Estimated pi 3.1418138\n",
      "Delta: 2.861567974090576\n",
      "-----------------\n",
      "Number of processes: 7\n",
      "Making 14285714 samples per worker\n",
      "Estimated pi 3.14151448\n",
      "Delta: 2.5172529220581055\n",
      "-----------------\n",
      "Number of processes: 8\n",
      "Making 12500000 samples per worker\n",
      "Estimated pi 3.14150396\n",
      "Delta: 2.5391342639923096\n",
      "-----------------\n"
     ]
    }
   ],
   "source": [
    "nbr_samples_in_total = 1e8\n",
    "\n",
    "times_thread = []\n",
    "\n",
    "for num_processes in range(1,9):\n",
    "    print('Number of processes: ' + str(num_processes))\n",
    "    pool = ThreadPool(processes = num_processes)\n",
    "    nbr_samples_per_worker = int(nbr_samples_in_total / num_processes)\n",
    "    print('Making {} samples per worker'.format(nbr_samples_per_worker))\n",
    "    nbr_trials_per_process = [nbr_samples_per_worker] * num_processes\n",
    "\n",
    "    t1 = time.time()\n",
    "    nbr_in_unit_circles = pool.map(estimate_nbr_points_in_quarter_circle, nbr_trials_per_process)\n",
    "    # We multiply by 4 because we are producing sampels only on one quarter of the unit circle\n",
    "    pi_estimate = sum(nbr_in_unit_circles) * 4 / nbr_samples_in_total\n",
    "    print('Estimated pi ' + str(pi_estimate))\n",
    "    delta = time.time() - t1\n",
    "    print('Delta: ' + str(delta))\n",
    "    print('-----------------')\n",
    "    \n",
    "    pool.close()\n",
    "    \n",
    "    times_thread.append(delta)"
   ]
  },
  {
   "cell_type": "code",
   "execution_count": 9,
   "metadata": {},
   "outputs": [
    {
     "data": {
      "image/png": "[encoded data removed]",
      "text/plain": [
       "<Figure size 1152x288 with 1 Axes>"
      ]
     },
     "metadata": {},
     "output_type": "display_data"
    }
   ],
   "source": [
    "fig, ax = plt.subplots()\n",
    "ax.plot(range(1, 9), times_proc)\n",
    "ax.plot(range(1, 9), times_thread)\n",
    "ax.set_xlabel('number of workers')\n",
    "ax.set_ylabel('time')\n",
    "ax.grid(True)\n",
    "ax.legend(['Processes', 'Threads'])\n",
    "fig.set_figwidth(16)"
   ]
  },
  {
   "cell_type": "markdown",
   "metadata": {},
   "source": [
    "Obviously, this vectorised version of the code is much faster than the first version on this notebook based on pure Python. \n",
    "\n",
    "Adding more threads decreases the overall execution time. This is because numpy can achieve additional spped ups by operating outside the GIL. "
   ]
  },
  {
   "cell_type": "markdown",
   "metadata": {},
   "source": [
    "## Finding prime numbers\n",
    "\n",
    "We test for prime numbers over a large number range. This is a different problem to pi value estimation because the workload depends on the location in the number range and each number's check has an unpredictable complexity. However, the problem is still embarrasingly parallel (we do not need to pass state information between processes).\n",
    "\n",
    "The `multiprocessing` module, by default, divides the total number of items to compute by the number of processors. This may be the best approach if the computation of each item takes approximately the same amount of time. \n",
    "\n",
    "Strategies for efficiently use `multiprocessing` for embarrassingly parallel problems:\n",
    "\n",
    "- Split your jobs into independent units of work\n",
    "- If your workers take varying amounts of time, then consider randomizing the sequence of work\n",
    "- Sorting your work queue so slowest jobs go first may help\n",
    "- Use the default chunksize unless you have verified reasons to change it\n",
    "- Align the number of jobs with the number of physical cpus"
   ]
  },
  {
   "cell_type": "markdown",
   "metadata": {},
   "source": [
    "This is the function that we use to check whether a single number is primer or not:"
   ]
  },
  {
   "cell_type": "code",
   "execution_count": 10,
   "metadata": {},
   "outputs": [],
   "source": [
    "def check_prime(n):\n",
    "    if n % 2 == 0:\n",
    "        return False\n",
    "    from_i = 3\n",
    "    to_i = math.sqrt(n) + 1\n",
    "    for i in range(from_i, int(to_i), 2):\n",
    "        if n % i == 0:\n",
    "            return False\n",
    "    return True"
   ]
  },
  {
   "cell_type": "markdown",
   "metadata": {},
   "source": [
    "And we can use this function to check a list of numbers (the `numbers` parameter) using a pool of workers with a given `chunksize`, that is, how many numbers are assigned to each worker. This function returns the total time it took to perform the computation (the time used to create the pool of workers is not taken into account)."
   ]
  },
  {
   "cell_type": "code",
   "execution_count": 11,
   "metadata": {},
   "outputs": [],
   "source": [
    "def check_primes(chunksize, numbers): \n",
    "    num_processes = 4\n",
    "\n",
    "    pool = Pool(processes = num_processes)\n",
    "    t1 = time.time()\n",
    "    is_prime = pool.map(check_prime, numbers, chunksize)\n",
    "    delta = time.time() - t1\n",
    "\n",
    "    pool.close()   \n",
    "    \n",
    "    return delta"
   ]
  },
  {
   "cell_type": "markdown",
   "metadata": {},
   "source": [
    "For instance:"
   ]
  },
  {
   "cell_type": "code",
   "execution_count": 12,
   "metadata": {},
   "outputs": [],
   "source": [
    "def generate_numbers():\n",
    "    for n in range(100000000, 100100000):\n",
    "        yield n"
   ]
  },
  {
   "cell_type": "code",
   "execution_count": 13,
   "metadata": {},
   "outputs": [
    {
     "data": {
      "text/plain": [
       "0.6261138916015625"
      ]
     },
     "execution_count": 13,
     "metadata": {},
     "output_type": "execute_result"
    }
   ],
   "source": [
    "check_primes(100, generate_numbers())"
   ]
  },
  {
   "cell_type": "markdown",
   "metadata": {},
   "source": [
    "We are going to try and compare some of the strategies enumerated above and compare execution times:"
   ]
  },
  {
   "cell_type": "code",
   "execution_count": 14,
   "metadata": {},
   "outputs": [
    {
     "name": "stderr",
     "output_type": "stream",
     "text": [
      "100%|██████████| 17/17 [00:16<00:00,  1.09it/s]\n"
     ]
    }
   ],
   "source": [
    "# Using chunksizes that are multiplo of the number of processes\n",
    "chunksizes = []\n",
    "i = 0\n",
    "while 2 ** i < 100000:\n",
    "    chunksizes.append(2 ** i)\n",
    "    i = i + 1\n",
    "times_multiplo = []\n",
    "for chunksize in tqdm(chunksizes):\n",
    "    times_multiplo.append(check_primes(chunksize, generate_numbers()))"
   ]
  },
  {
   "cell_type": "code",
   "execution_count": 15,
   "metadata": {},
   "outputs": [
    {
     "name": "stderr",
     "output_type": "stream",
     "text": [
      "100%|██████████| 597/597 [08:44<00:00,  1.30s/it]\n"
     ]
    }
   ],
   "source": [
    "# Baseline - just increasing the number of chunks, no considering the number of processes\n",
    "numbers = list(generate_numbers())\n",
    "chunksizes_b = chunksizes[:7] + np.arange(111, 65536, 111).tolist()\n",
    "times_baseline = []\n",
    "for chunksize in tqdm(chunksizes_b):\n",
    "    times_baseline.append(check_primes(chunksize, generate_numbers()))"
   ]
  },
  {
   "cell_type": "code",
   "execution_count": 16,
   "metadata": {},
   "outputs": [
    {
     "name": "stderr",
     "output_type": "stream",
     "text": [
      "100%|██████████| 17/17 [00:16<00:00,  1.09it/s]\n"
     ]
    }
   ],
   "source": [
    "# Randomising the jobs' order, hoping that that way we will balance the load\n",
    "random.seed(0)\n",
    "random.shuffle(numbers)\n",
    "times_random = []\n",
    "for chunksize in tqdm(chunksizes):\n",
    "    times_random.append(check_primes(chunksize, numbers))"
   ]
  },
  {
   "cell_type": "code",
   "execution_count": 17,
   "metadata": {},
   "outputs": [
    {
     "name": "stderr",
     "output_type": "stream",
     "text": [
      "100%|██████████| 17/17 [00:16<00:00,  1.11it/s]\n"
     ]
    }
   ],
   "source": [
    "# Inverse the jobs order, hopping that biggest jobs will be at the beginning\n",
    "numbers = list(generate_numbers())[::-1]\n",
    "times_reverse = []\n",
    "for chunksize in tqdm(chunksizes):\n",
    "    times_reverse.append(check_primes(chunksize, numbers))"
   ]
  },
  {
   "cell_type": "code",
   "execution_count": 18,
   "metadata": {},
   "outputs": [
    {
     "data": {
      "image/png": "[encoded data removed]",
      "text/plain": [
       "<Figure size 1152x432 with 1 Axes>"
      ]
     },
     "metadata": {},
     "output_type": "display_data"
    }
   ],
   "source": [
    "fig, ax = plt.subplots()\n",
    "plt.plot(chunksizes_b, times_baseline)\n",
    "ax.plot(chunksizes, times_multiplo)\n",
    "ax.plot(chunksizes, times_random)\n",
    "ax.plot(chunksizes, times_reverse)\n",
    "ax.set_xscale('log')\n",
    "ax.grid(True)\n",
    "ax.set_xlabel('chunksize')\n",
    "ax.set_ylabel('time')\n",
    "ax.legend(['baseline', 'multiplo', 'random', 'reverse'])\n",
    "fig.set_figwidth(16)\n",
    "fig.set_figheight(6)"
   ]
  },
  {
   "cell_type": "markdown",
   "metadata": {},
   "source": [
    "## Finding prime numbers (using queues)\n",
    "\n",
    "A queue object allows us to implement interprocess communication using pickle files. This is useful to send objects with much state information. However, the elements in the queue are not persistent. Therefore, this may not be the best approach in case robustness is a requirement. Sending this data has an overhead since the data has to be pickled first, but this overhead has not a big impact in case of long jobs.\n",
    "\n",
    "In this example we will check for prime numbers by processing a queue of candidate numbers and sending the detected prime numbers to another list. "
   ]
  },
  {
   "cell_type": "code",
   "execution_count": 19,
   "metadata": {},
   "outputs": [],
   "source": [
    "FLAG_ALL_DONE = b'WORK_FINISHED'\n",
    "FLAG_WORKER_FINISHED_PROCESSING = b'WORKER_FINISHED_PROCESSING'\n",
    "\n",
    "def check_prime(possible_primes_queue, definite_primes_queue, proc):\n",
    "    while True:\n",
    "        # This get function is a blocking function\n",
    "        n = possible_primes_queue.get()\n",
    "        if n == FLAG_ALL_DONE:\n",
    "            definite_primes_queue.put(FLAG_WORKER_FINISHED_PROCESSING)\n",
    "            break\n",
    "        else:\n",
    "            if n % 2 != 0:\n",
    "                prime = True\n",
    "                for i in np.arange(3, int(math.sqrt(n)) + 1, 2).tolist():\n",
    "                    if n % i == 0:\n",
    "                        prime = False\n",
    "                        break\n",
    "                if prime:\n",
    "                    definite_primes_queue.put(n)"
   ]
  },
  {
   "cell_type": "markdown",
   "metadata": {},
   "source": [
    "The Queue objects are created by means of a Manager object. These are sent to `multiprocessing` when forking processes, and the module takes charge of the synchronisation. Then we fill the first queue with the candidate prime numbers and trigger the processing:"
   ]
  },
  {
   "cell_type": "code",
   "execution_count": 20,
   "metadata": {
    "scrolled": true
   },
   "outputs": [],
   "source": [
    "primes = []\n",
    "\n",
    "manager = Manager()\n",
    "possible_primes_queue = manager.Queue()\n",
    "definite_primes_queue = manager.Queue()\n",
    "\n",
    "NBR_PROCESSES = 4\n",
    "pool = Pool(processes = NBR_PROCESSES)\n",
    "processes = []\n",
    "for i in range(NBR_PROCESSES):\n",
    "    p = Process(target = check_prime,\n",
    "                                args = (possible_primes_queue,\n",
    "                                        definite_primes_queue, i))\n",
    "    processes.append(p)\n",
    "    p.start()\n",
    "    \n",
    "t1 = time.time()\n",
    "number_range = range(100000000, 101000000)\n",
    "\n",
    "# add jobs to the inbound work queue\n",
    "for possible_prime in number_range:\n",
    "    possible_primes_queue.put(possible_prime)\n",
    "    \n",
    "# add poison pils to stop the remote workers\n",
    "for n in range(NBR_PROCESSES):\n",
    "    possible_primes_queue.put(FLAG_ALL_DONE)"
   ]
  },
  {
   "cell_type": "markdown",
   "metadata": {},
   "source": [
    "And the following code processes the results from the workers:"
   ]
  },
  {
   "cell_type": "code",
   "execution_count": 21,
   "metadata": {},
   "outputs": [
    {
     "name": "stdout",
     "output_type": "stream",
     "text": [
      "Took: 100.86460709571838s\n",
      "54208\n",
      "[100000007, 100000037, 100000039, 100000049, 100000073, 100000081, 100000123, 100000127, 100000193, 100000213]\n",
      "[100999889, 100999897, 100999901, 100999903, 100999919, 100999939, 100999949, 100999979, 100999981, 100999993]\n"
     ]
    }
   ],
   "source": [
    "processors_indicating_they_have_finished = 0\n",
    "while True:\n",
    "    new_result = definite_primes_queue.get() # Block while waiting for results\n",
    "    if new_result == FLAG_WORKER_FINISHED_PROCESSING:\n",
    "        processors_indicating_they_have_finished += 1\n",
    "        if processors_indicating_they_have_finished == NBR_PROCESSES:\n",
    "            break\n",
    "    else:\n",
    "        primes.append(new_result)\n",
    "assert processors_indicating_they_have_finished == NBR_PROCESSES\n",
    "\n",
    "print('Took: ' + str(time.time() - t1) + 's')\n",
    "print(len(primes))\n",
    "print(primes[:10])\n",
    "print(primes[-10:])"
   ]
  },
  {
   "cell_type": "code",
   "execution_count": 22,
   "metadata": {},
   "outputs": [],
   "source": [
    "pool.close()"
   ]
  },
  {
   "cell_type": "markdown",
   "metadata": {},
   "source": [
    "Several aspects to take into account:\n",
    "\n",
    "- This code is slower than using a single process without Queues. This is due to the communication overhead in comparation to the complexity of the task.\n",
    "- We could use threads instead of processes so we could asynchronously start consuming results while the raw data is being feed into the workers. \n",
    "\n",
    "## Shared memory and locks\n",
    "\n",
    "This code shows an example on how four processes can work together to increment the variable of a variable. This variable is shared among processes by using a Value object. Therefore, all the processes access the same bytes in memory when accessing this variable. To avoid missing updates we use a Lock object, so that no other process can update the variable if there is another process already doing so. "
   ]
  },
  {
   "cell_type": "code",
   "execution_count": 23,
   "metadata": {},
   "outputs": [],
   "source": [
    "def work(value, max_count, lock):\n",
    "    for n in range(max_count):\n",
    "        # This is faster than using `with lock:`\n",
    "        lock.acquire()\n",
    "        value.value += 1\n",
    "        lock.release()"
   ]
  },
  {
   "cell_type": "code",
   "execution_count": 24,
   "metadata": {},
   "outputs": [],
   "source": [
    "MAX_COUNT_PER_PROCESS = 1000\n",
    "NBR_PROCESSES = 4\n",
    "\n",
    "processes = []\n",
    "lock = Lock()\n",
    "value = Value('i', 0)\n",
    "for process_nbr in range(NBR_PROCESSES):\n",
    "    p = Process(target = work, args = (value, MAX_COUNT_PER_PROCESS, lock))\n",
    "    p.start()\n",
    "    processes.append(p)"
   ]
  },
  {
   "cell_type": "code",
   "execution_count": 25,
   "metadata": {},
   "outputs": [
    {
     "data": {
      "text/plain": [
       "948"
      ]
     },
     "execution_count": 25,
     "metadata": {},
     "output_type": "execute_result"
    }
   ],
   "source": [
    "value.value"
   ]
  }
 ],
 "metadata": {
  "kernelspec": {
   "display_name": "Python 3",
   "language": "python",
   "name": "python3"
  },
  "language_info": {
   "codemirror_mode": {
    "name": "ipython",
    "version": 3
   },
   "file_extension": ".py",
   "mimetype": "text/x-python",
   "name": "python",
   "nbconvert_exporter": "python",
   "pygments_lexer": "ipython3",
   "version": "3.6.5"
  }
 },
 "nbformat": 4,
 "nbformat_minor": 2
}
