{
 "cells": [
  {
   "cell_type": "code",
   "execution_count": 49,
   "metadata": {},
   "outputs": [],
   "source": [
    "import math\n",
    "import numpy as np\n",
    "import matplotlib.pyplot as plt\n",
    "import itertools"
   ]
  },
  {
   "cell_type": "markdown",
   "metadata": {},
   "source": [
    "# Generators\n",
    "\n",
    "A generator is a function that generates values in a sequence under demand. It is based on using the `yield` keyword instead of `return`. Everytime we call the generator function, the next value in the sequence is generated and return. If we had to do the same with a normal function, we would have to generate (and therefore allocate memory for) all the elements of the sequence before returning it. Therefore, generators are usually much more memory efficient that normal sequence generating functions (as long as the memory require to keep the state of the generator is much large than actually producing the whole sequence.)\n",
    "\n",
    "The two following functions do the same, but the generator version one requires much less memory:"
   ]
  },
  {
   "cell_type": "code",
   "execution_count": 13,
   "metadata": {},
   "outputs": [
    {
     "name": "stdout",
     "output_type": "stream",
     "text": [
      "1\n",
      "1\n",
      "2\n",
      "3\n",
      "5\n",
      "8\n",
      "13\n",
      "21\n"
     ]
    }
   ],
   "source": [
    "def fibonacci():\n",
    "    i, j = 1, 1\n",
    "    ret = []\n",
    "    while j < 50:\n",
    "        ret.append(i)\n",
    "        i, j = j, i + j\n",
    "    return ret\n",
    "\n",
    "\n",
    "for f in fibonacci():\n",
    "    print(f)"
   ]
  },
  {
   "cell_type": "code",
   "execution_count": 14,
   "metadata": {},
   "outputs": [
    {
     "name": "stdout",
     "output_type": "stream",
     "text": [
      "1\n",
      "1\n",
      "2\n",
      "3\n",
      "5\n",
      "8\n",
      "13\n",
      "21\n"
     ]
    }
   ],
   "source": [
    "def fibonacci_generator():\n",
    "    i, j = 1, 1\n",
    "    while j < 50:\n",
    "        yield i\n",
    "        i, j = j, i + j\n",
    "\n",
    "for f in fibonacci_generator():\n",
    "    print(f)"
   ]
  },
  {
   "cell_type": "markdown",
   "metadata": {},
   "source": [
    "We could also define a generator that returns an infinite series:"
   ]
  },
  {
   "cell_type": "code",
   "execution_count": 17,
   "metadata": {},
   "outputs": [
    {
     "name": "stdout",
     "output_type": "stream",
     "text": [
      "1\n",
      "1\n",
      "2\n",
      "3\n",
      "5\n",
      "8\n",
      "13\n",
      "21\n"
     ]
    }
   ],
   "source": [
    "def fibonacci_generator_2():\n",
    "    i, j = 1, 1\n",
    "    while True:\n",
    "        yield i\n",
    "        i, j = j, i + j\n",
    "        \n",
    "for f in fibonacci_generator_2():\n",
    "    print(f)\n",
    "    if f >= 20:\n",
    "        break"
   ]
  },
  {
   "cell_type": "markdown",
   "metadata": {},
   "source": [
    "## Itertools"
   ]
  },
  {
   "cell_type": "markdown",
   "metadata": {},
   "source": [
    "However, generators cannot be indexed, and this may make some operations with them complex, unless we use the `itertools` package. This package allows us to do operations with generators that we can usually do with lists, like selecting or applying operations on a subset of values in the sequence.\n",
    "\n",
    "This can be useful to process data that does not fit in memory. For instance, let's assume that we are interested in  applying anomaly detection to a time series stored in a file. Each row of the file represents a point in the time series represented as a (timestamp, value) pair. Let's assume that we can not store the whole file into our computer's memory.\n",
    "\n",
    "The following function simulates a generator that returns the sequence of points in the file:"
   ]
  },
  {
   "cell_type": "code",
   "execution_count": 42,
   "metadata": {},
   "outputs": [],
   "source": [
    "np.random.seed(0)\n",
    "\n",
    "MU = 10\n",
    "SIGMA = 10\n",
    "\n",
    "def read_filename(filename):\n",
    "    # filename is the file from which we are reding the data.\n",
    "    # This function produces fake data, and no file is read, so this\n",
    "    # parameter is actually not used. \n",
    "    i = 0\n",
    "    while True:\n",
    "        yield (i, np.random.randn() * SIGMA + MU)\n",
    "        i = i + 1"
   ]
  },
  {
   "cell_type": "markdown",
   "metadata": {},
   "source": [
    "We can, for instance, generate the first 100 elements of the sequence:"
   ]
  },
  {
   "cell_type": "code",
   "execution_count": 43,
   "metadata": {},
   "outputs": [
    {
     "data": {
      "image/png": "[encoded data removed]",
      "text/plain": [
       "<Figure size 432x288 with 1 Axes>"
      ]
     },
     "metadata": {},
     "output_type": "display_data"
    }
   ],
   "source": [
    "fig, ax = plt.subplots()\n",
    "for i in itertools.takewhile(lambda x: x[0] < 100, read_filename('file.txt')):\n",
    "    ax.plot(i[0], i[1], 'ro')"
   ]
  },
  {
   "cell_type": "markdown",
   "metadata": {},
   "source": [
    "The type of anomaly detection we are implementing is based on a rolling window. If each row in the file represents an hour, we calculate anomalies by computing a mean and standard deviation value each day. The following function returns non-overlapping 24 hour windows: "
   ]
  },
  {
   "cell_type": "code",
   "execution_count": 46,
   "metadata": {},
   "outputs": [],
   "source": [
    "def day_grouper(iterable):\n",
    "    key = lambda x: x[0] // 24\n",
    "    return itertools.groupby(iterable, key)"
   ]
  },
  {
   "cell_type": "code",
   "execution_count": 48,
   "metadata": {},
   "outputs": [
    {
     "name": "stdout",
     "output_type": "stream",
     "text": [
      "(0, <itertools._grouper object at 0x11be15668>)\n",
      "(1, <itertools._grouper object at 0x11be15940>)\n",
      "(2, <itertools._grouper object at 0x11be155c0>)\n",
      "(3, <itertools._grouper object at 0x11be15940>)\n",
      "(4, <itertools._grouper object at 0x11be15630>)\n"
     ]
    }
   ],
   "source": [
    "for i in itertools.takewhile(lambda x: x[0] < 5, day_grouper(read_filename('file.txt'))):\n",
    "    print(i)"
   ]
  },
  {
   "cell_type": "markdown",
   "metadata": {},
   "source": [
    "This is the function that works over the groups to detect anomalies. It returns False if no anomaly was found that day, and the day itself otherwise. "
   ]
  },
  {
   "cell_type": "code",
   "execution_count": 51,
   "metadata": {},
   "outputs": [],
   "source": [
    "def check_anomalies(x):\n",
    "    day = x[0]\n",
    "    day_data = x[1]\n",
    "    \n",
    "    n = 0\n",
    "    mean = 0\n",
    "    M2 = 0\n",
    "    max_value = None\n",
    "    for d in day_data:\n",
    "        n += 1\n",
    "        delta = value - mean\n",
    "        mean = mean + delta / n\n",
    "        M2 += delta * (value - mean)\n",
    "        max_value = max(max_value, value)\n",
    "    variance = M2 / (n - 1)\n",
    "    sd = math.sqrt(variance)\n",
    "    \n",
    "    if max_value > mean + 2 * standard_deviation:\n",
    "        return day\n",
    "    return False"
   ]
  },
  {
   "cell_type": "code",
   "execution_count": 52,
   "metadata": {},
   "outputs": [
    {
     "ename": "AttributeError",
     "evalue": "module 'itertools' has no attribute 'ifilter'",
     "output_type": "error",
     "traceback": [
      "\u001b[0;31m---------------------------------------------------------------------------\u001b[0m",
      "\u001b[0;31mAttributeError\u001b[0m                            Traceback (most recent call last)",
      "\u001b[0;32m<ipython-input-52-a07a0cd0faa7>\u001b[0m in \u001b[0;36m<module>\u001b[0;34m()\u001b[0m\n\u001b[0;32m----> 1\u001b[0;31m \u001b[0mitertools\u001b[0m\u001b[0;34m.\u001b[0m\u001b[0mifilter\u001b[0m\u001b[0;34m(\u001b[0m\u001b[0;32mNone\u001b[0m\u001b[0;34m,\u001b[0m \u001b[0mitertools\u001b[0m\u001b[0;34m.\u001b[0m\u001b[0mimap\u001b[0m\u001b[0;34m(\u001b[0m\u001b[0mcheck_anomaly\u001b[0m\u001b[0;34m,\u001b[0m \u001b[0mday_grouper\u001b[0m\u001b[0;34m(\u001b[0m\u001b[0mread_data\u001b[0m\u001b[0;34m(\u001b[0m\u001b[0;34m'file.txt'\u001b[0m\u001b[0;34m)\u001b[0m\u001b[0;34m)\u001b[0m\u001b[0;34m)\u001b[0m\u001b[0;34m)\u001b[0m\u001b[0;34m\u001b[0m\u001b[0m\n\u001b[0m",
      "\u001b[0;31mAttributeError\u001b[0m: module 'itertools' has no attribute 'ifilter'"
     ]
    }
   ],
   "source": [
    "itertools.ifilter(None, itertools.imap(check_anomaly, day_grouper(read_data('file.txt'))))"
   ]
  },
  {
   "cell_type": "code",
   "execution_count": null,
   "metadata": {},
   "outputs": [],
   "source": []
  }
 ],
 "metadata": {
  "kernelspec": {
   "display_name": "Python 3",
   "language": "python",
   "name": "python3"
  },
  "language_info": {
   "codemirror_mode": {
    "name": "ipython",
    "version": 3
   },
   "file_extension": ".py",
   "mimetype": "text/x-python",
   "name": "python",
   "nbconvert_exporter": "python",
   "pygments_lexer": "ipython3",
   "version": "3.6.5"
  }
 },
 "nbformat": 4,
 "nbformat_minor": 2
}
