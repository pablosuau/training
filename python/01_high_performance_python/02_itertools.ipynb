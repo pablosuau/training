{
 "cells": [
  {
   "cell_type": "code",
   "execution_count": 1,
   "metadata": {},
   "outputs": [],
   "source": [
    "import math\n",
    "import numpy as np\n",
    "import matplotlib.pyplot as plt\n",
    "import itertools"
   ]
  },
  {
   "cell_type": "markdown",
   "metadata": {},
   "source": [
    "# Generators\n",
    "\n",
    "A generator is a function that generates values in a sequence under demand. It is based on using the `yield` keyword instead of `return`. Everytime we call the generator function, the next value in the sequence is generated and return. If we had to do the same with a normal function, we would have to generate (and therefore allocate memory for) all the elements of the sequence before returning it. Therefore, generators are usually much more memory efficient that normal sequence generating functions (as long as the memory require to keep the state of the generator is much large than actually producing the whole sequence.)\n",
    "\n",
    "The two following functions do the same, but the generator version one requires much less memory:"
   ]
  },
  {
   "cell_type": "code",
   "execution_count": 2,
   "metadata": {},
   "outputs": [
    {
     "name": "stdout",
     "output_type": "stream",
     "text": [
      "1\n",
      "1\n",
      "2\n",
      "3\n",
      "5\n",
      "8\n",
      "13\n",
      "21\n"
     ]
    }
   ],
   "source": [
    "def fibonacci():\n",
    "    i, j = 1, 1\n",
    "    ret = []\n",
    "    while j < 50:\n",
    "        ret.append(i)\n",
    "        i, j = j, i + j\n",
    "    return ret\n",
    "\n",
    "\n",
    "for f in fibonacci():\n",
    "    print(f)"
   ]
  },
  {
   "cell_type": "code",
   "execution_count": 3,
   "metadata": {},
   "outputs": [
    {
     "name": "stdout",
     "output_type": "stream",
     "text": [
      "1\n",
      "1\n",
      "2\n",
      "3\n",
      "5\n",
      "8\n",
      "13\n",
      "21\n"
     ]
    }
   ],
   "source": [
    "def fibonacci_generator():\n",
    "    i, j = 1, 1\n",
    "    while j < 50:\n",
    "        yield i\n",
    "        i, j = j, i + j\n",
    "\n",
    "for f in fibonacci_generator():\n",
    "    print(f)"
   ]
  },
  {
   "cell_type": "markdown",
   "metadata": {},
   "source": [
    "We could also define a generator that returns an infinite series:"
   ]
  },
  {
   "cell_type": "code",
   "execution_count": 4,
   "metadata": {},
   "outputs": [
    {
     "name": "stdout",
     "output_type": "stream",
     "text": [
      "1\n",
      "1\n",
      "2\n",
      "3\n",
      "5\n",
      "8\n",
      "13\n",
      "21\n"
     ]
    }
   ],
   "source": [
    "def fibonacci_generator_2():\n",
    "    i, j = 1, 1\n",
    "    while True:\n",
    "        yield i\n",
    "        i, j = j, i + j\n",
    "        \n",
    "for f in fibonacci_generator_2():\n",
    "    print(f)\n",
    "    if f >= 20:\n",
    "        break"
   ]
  },
  {
   "cell_type": "markdown",
   "metadata": {},
   "source": [
    "## Itertools"
   ]
  },
  {
   "cell_type": "markdown",
   "metadata": {},
   "source": [
    "However, generators cannot be indexed, and this may make some operations with them complex, unless we use the `itertools` package. This package allows us to do operations with generators that we can usually do with lists, like selecting or applying operations on a subset of values in the sequence.\n",
    "\n",
    "This can be useful to process data that does not fit in memory. For instance, let's assume that we are interested in  applying anomaly detection to a time series stored in a file. Each row of the file represents a point in the time series represented as a (timestamp, value) pair. Let's assume that we can not store the whole file into our computer's memory.\n",
    "\n",
    "The following function simulates a generator that returns the sequence of points in the file:"
   ]
  },
  {
   "cell_type": "code",
   "execution_count": 5,
   "metadata": {},
   "outputs": [],
   "source": [
    "np.random.seed(0)\n",
    "\n",
    "MU = 10\n",
    "SIGMA = 10\n",
    "\n",
    "def read_filename(filename):\n",
    "    # filename is the file from which we are reding the data.\n",
    "    # This function produces fake infinite data, and no file is read, so this\n",
    "    # parameter is actually not used. \n",
    "    i = 0\n",
    "    while True:\n",
    "        yield (i, np.random.randn() * SIGMA + MU)\n",
    "        i = i + 1"
   ]
  },
  {
   "cell_type": "markdown",
   "metadata": {},
   "source": [
    "We can, for instance, generate the first 100 elements of the sequence:"
   ]
  },
  {
   "cell_type": "code",
   "execution_count": 6,
   "metadata": {},
   "outputs": [
    {
     "data": {
      "text/plain": [
       "Text(0,0.5,'value')"
      ]
     },
     "execution_count": 6,
     "metadata": {},
     "output_type": "execute_result"
    },
    {
     "data": {
      "image/png": "[encoded data removed]",
      "text/plain": [
       "<Figure size 432x288 with 1 Axes>"
      ]
     },
     "metadata": {},
     "output_type": "display_data"
    }
   ],
   "source": [
    "fig, ax = plt.subplots()\n",
    "for i in itertools.takewhile(lambda x: x[0] < 100, read_filename('file.txt')):\n",
    "    ax.plot(i[0], i[1], 'ro')\n",
    "ax.set_xlabel('hour')\n",
    "ax.set_ylabel('value')"
   ]
  },
  {
   "cell_type": "markdown",
   "metadata": {},
   "source": [
    "The type of anomaly detection we are implementing is based on a rolling window. If each row in the file represents an hour, we calculate anomalies by computing a mean and standard deviation value each day. The following function returns non-overlapping 24 hour windows: "
   ]
  },
  {
   "cell_type": "code",
   "execution_count": 7,
   "metadata": {},
   "outputs": [],
   "source": [
    "def day_grouper(iterable):\n",
    "    key = lambda x: x[0] // 24\n",
    "    return itertools.groupby(iterable, key)"
   ]
  },
  {
   "cell_type": "code",
   "execution_count": 8,
   "metadata": {},
   "outputs": [
    {
     "name": "stdout",
     "output_type": "stream",
     "text": [
      "(0, <itertools._grouper object at 0x1183c0c18>)\n",
      "(1, <itertools._grouper object at 0x118416550>)\n",
      "(2, <itertools._grouper object at 0x1184164e0>)\n",
      "(3, <itertools._grouper object at 0x118416550>)\n",
      "(4, <itertools._grouper object at 0x1184164e0>)\n"
     ]
    }
   ],
   "source": [
    "for i in itertools.takewhile(lambda x: x[0] < 5, day_grouper(read_filename('file.txt'))):\n",
    "    print(i)"
   ]
  },
  {
   "cell_type": "markdown",
   "metadata": {},
   "source": [
    "This is the function that works over the groups to detect anomalies. It returns False if no anomaly was found that day, and the day itself otherwise. "
   ]
  },
  {
   "cell_type": "code",
   "execution_count": 9,
   "metadata": {},
   "outputs": [],
   "source": [
    "def check_anomalies(x):\n",
    "    day = x[0]\n",
    "    day_data = x[1]\n",
    "    \n",
    "    n = 0\n",
    "    mean = 0\n",
    "    M2 = 0\n",
    "    max_value = -math.inf\n",
    "    values = []\n",
    "    for d in day_data:\n",
    "        value = d[1]\n",
    "        values.append(value)\n",
    "        n += 1\n",
    "        delta = value - mean\n",
    "        mean = mean + delta / n\n",
    "        M2 += delta * (value - mean)\n",
    "        max_value = max(max_value, value)\n",
    "    variance = M2 / (n - 1)\n",
    "    sd = math.sqrt(variance)\n",
    "    \n",
    "    if max_value > mean + 3 * sd:\n",
    "        return (day, max_value, mean, sd)\n",
    "    return False"
   ]
  },
  {
   "cell_type": "markdown",
   "metadata": {},
   "source": [
    "And in here we return the 10 first days for which an anomaly exists. The `itertools` module does not have the `ifilter` and `imap` functions in Python 3. Therefore, we are using the base `map` and `filter` functions. "
   ]
  },
  {
   "cell_type": "code",
   "execution_count": 10,
   "metadata": {
    "scrolled": false
   },
   "outputs": [
    {
     "name": "stdout",
     "output_type": "stream",
     "text": [
      "Day 52: value 36.805708407690005 is not in the [-13.851068277459605, 36.52864532575363] range\n",
      "Day 143: value 35.481126978151906 is not in the [-20.279855334618624, 34.7548953410301] range\n",
      "Day 236: value 34.6539649698735 is not in the [-13.141146509689502, 30.957391738306985] range\n",
      "Day 297: value 42.118474715250485 is not in the [-21.660317395264435, 41.66203120173913] range\n",
      "Day 298: value 40.03123295365933 is not in the [-14.8039556357806, 38.74453437320885] range\n",
      "Day 326: value 35.42334601099513 is not in the [-13.339067897267908, 35.04079484187493] range\n",
      "Day 329: value 40.196695959522884 is not in the [-18.329486443656094, 37.89082109406752] range\n",
      "Day 346: value 36.15180689057667 is not in the [-11.931291018289217, 35.17884968868242] range\n",
      "Day 439: value 44.57178892744014 is not in the [-18.423357833318608, 40.325782485334585] range\n",
      "Day 469: value 44.915503643833446 is not in the [-21.75955262837085, 40.48794689717538] range\n"
     ]
    }
   ],
   "source": [
    "i = 0\n",
    "for anomaly in filter(None, map(check_anomalies, day_grouper(read_filename('file.txt')))):\n",
    "    day = anomaly[0]\n",
    "    max_value = anomaly[1]\n",
    "    mean = anomaly[2]\n",
    "    sd = anomaly[3]\n",
    "    lower = mean - 3 * sd\n",
    "    upper = mean+ 3 * sd\n",
    " \n",
    "    print('Day ' + str(day) + ': value ' + str(max_value) + ' is not in the [' + str(lower) + ', ' + str(upper) + '] range')\n",
    "    \n",
    "    i = i + 1\n",
    "    if i == 10:\n",
    "        break"
   ]
  }
 ],
 "metadata": {
  "kernelspec": {
   "display_name": "Python 3",
   "language": "python",
   "name": "python3"
  },
  "language_info": {
   "codemirror_mode": {
    "name": "ipython",
    "version": 3
   },
   "file_extension": ".py",
   "mimetype": "text/x-python",
   "name": "python",
   "nbconvert_exporter": "python",
   "pygments_lexer": "ipython3",
   "version": "3.6.5"
  }
 },
 "nbformat": 4,
 "nbformat_minor": 2
}
