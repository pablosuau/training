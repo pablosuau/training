{
 "cells": [
  {
   "cell_type": "code",
   "execution_count": 54,
   "metadata": {},
   "outputs": [],
   "source": [
    "%matplotlib inline\n",
    "import random\n",
    "import time\n",
    "from datetime import datetime\n",
    "import matplotlib.pyplot as plt\n",
    "import asyncio"
   ]
  },
  {
   "cell_type": "markdown",
   "metadata": {},
   "source": [
    "## Serial web crawler\n",
    "\n",
    "In this experiment we are simulating a web crawler that connects to a HTTP server and scrapes some websites. This version of the web crawler does not use concurrency. This crawler scrapes a list of URLs and sums the total lenght of the content from the pages. \n",
    "\n",
    "The `DELAY` constant is going to be used to simulate the time the server would take to respond to our query. "
   ]
  },
  {
   "cell_type": "code",
   "execution_count": 41,
   "metadata": {},
   "outputs": [],
   "source": [
    "random.seed(0)"
   ]
  },
  {
   "cell_type": "code",
   "execution_count": 42,
   "metadata": {},
   "outputs": [],
   "source": [
    "log = []"
   ]
  },
  {
   "cell_type": "code",
   "execution_count": 43,
   "metadata": {},
   "outputs": [],
   "source": [
    "DELAY = 1\n",
    "def simulate_request(request_number):\n",
    "    start = time.time()\n",
    "    time.sleep(DELAY)\n",
    "    end = time.time()\n",
    "    log.append([request_number, start, end])\n",
    "    return random.randint(100, 10001)"
   ]
  },
  {
   "cell_type": "code",
   "execution_count": 44,
   "metadata": {},
   "outputs": [],
   "source": [
    "def run_experiment(num_iter):\n",
    "    response_size = 0\n",
    "    i = 0\n",
    "    for url in range(num_iter):\n",
    "        response_size = simulate_request(i)\n",
    "        i = i + 1\n",
    "    return response_size"
   ]
  },
  {
   "cell_type": "code",
   "execution_count": 45,
   "metadata": {},
   "outputs": [
    {
     "name": "stdout",
     "output_type": "stream",
     "text": [
      "Result: 9398, Time: 50.08742594718933\n"
     ]
    }
   ],
   "source": [
    "num_iter = 50\n",
    "\n",
    "start = time.time()\n",
    "result = run_experiment(num_iter)\n",
    "end = time.time()\n",
    "print('Result: {}, Time: {}'.format(result, end - start))"
   ]
  },
  {
   "cell_type": "code",
   "execution_count": 53,
   "metadata": {},
   "outputs": [
    {
     "data": {
      "image/png": "[encoded data removed]",
      "text/plain": [
       "<Figure size 1152x288 with 1 Axes>"
      ]
     },
     "metadata": {},
     "output_type": "display_data"
    }
   ],
   "source": [
    "fig, ax = plt.subplots()\n",
    "for l in log:\n",
    "    ax.plot([datetime.utcfromtimestamp(l[1]), datetime.utcfromtimestamp(l[2])], \n",
    "            [l[0], l[0]], \n",
    "            color = 'blue')\n",
    "ax.set_xlabel('time')\n",
    "ax.set_ylabel('request number')\n",
    "ax.grid(True)\n",
    "fig.set_figwidth(16)"
   ]
  },
  {
   "cell_type": "markdown",
   "metadata": {},
   "source": [
    "## Asyncio version"
   ]
  },
  {
   "cell_type": "code",
   "execution_count": 55,
   "metadata": {},
   "outputs": [],
   "source": [
    "random.seed(0)"
   ]
  },
  {
   "cell_type": "code",
   "execution_count": 56,
   "metadata": {},
   "outputs": [],
   "source": [
    "log = []"
   ]
  },
  {
   "cell_type": "code",
   "execution_count": 57,
   "metadata": {},
   "outputs": [],
   "source": [
    "DELAY = 1\n",
    "def simulate_request(request_number):\n",
    "    start = time.time()\n",
    "    time.sleep(DELAY)\n",
    "    end = time.time()\n",
    "    log.append([request_number, start, end])\n",
    "    return random.randint(100, 10001)"
   ]
  },
  {
   "cell_type": "code",
   "execution_count": 58,
   "metadata": {},
   "outputs": [],
   "source": [
    "def run_experiment(num_iter):\n",
    "    response_size = 0\n",
    "    i = 0\n",
    "    for url in range(num_iter):\n",
    "        response_size = simulate_request(i)\n",
    "        i = i + 1\n",
    "    return response_size"
   ]
  },
  {
   "cell_type": "code",
   "execution_count": 59,
   "metadata": {},
   "outputs": [
    {
     "name": "stdout",
     "output_type": "stream",
     "text": [
      "Result: 9398, Time: 50.082632064819336\n"
     ]
    }
   ],
   "source": [
    "num_iter = 50\n",
    "\n",
    "start = time.time()\n",
    "result = run_experiment(num_iter)\n",
    "end = time.time()\n",
    "print('Result: {}, Time: {}'.format(result, end - start))"
   ]
  },
  {
   "cell_type": "code",
   "execution_count": null,
   "metadata": {},
   "outputs": [],
   "source": []
  }
 ],
 "metadata": {
  "kernelspec": {
   "display_name": "Python 3",
   "language": "python",
   "name": "python3"
  },
  "language_info": {
   "codemirror_mode": {
    "name": "ipython",
    "version": 3
   },
   "file_extension": ".py",
   "mimetype": "text/x-python",
   "name": "python",
   "nbconvert_exporter": "python",
   "pygments_lexer": "ipython3",
   "version": "3.6.5"
  }
 },
 "nbformat": 4,
 "nbformat_minor": 2
}
