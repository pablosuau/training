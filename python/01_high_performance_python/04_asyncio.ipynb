{
 "cells": [
  {
   "cell_type": "code",
   "execution_count": 1,
   "metadata": {},
   "outputs": [],
   "source": [
    "%matplotlib inline\n",
    "import random\n",
    "import time\n",
    "from datetime import datetime\n",
    "import matplotlib.pyplot as plt\n",
    "import asyncio\n",
    "import nest_asyncio"
   ]
  },
  {
   "cell_type": "markdown",
   "metadata": {},
   "source": [
    "We use `asyncio`, as opposed to the `multiprocessing` module, when we have an I/O-bound problem instead of a CPU-bound problem. While one process is waiting for the I/O results to be ready, the processor is busy running other processes instead. "
   ]
  },
  {
   "cell_type": "markdown",
   "metadata": {},
   "source": [
    "## Serial web crawler\n",
    "\n",
    "In this experiment we are simulating a web crawler that connects to a HTTP server and scrapes some websites. This version of the web crawler does not use concurrency. This crawler scrapes a list of URLs and sums the total lenght of the content from the pages. \n",
    "\n",
    "The `DELAY` constant is going to be used to simulate the time the server would take to respond to our query. "
   ]
  },
  {
   "cell_type": "code",
   "execution_count": 2,
   "metadata": {},
   "outputs": [],
   "source": [
    "random.seed(0)"
   ]
  },
  {
   "cell_type": "code",
   "execution_count": 3,
   "metadata": {},
   "outputs": [],
   "source": [
    "log = []"
   ]
  },
  {
   "cell_type": "code",
   "execution_count": 4,
   "metadata": {},
   "outputs": [],
   "source": [
    "DELAY = 1\n",
    "def simulate_request(request_number):\n",
    "    start = time.time()\n",
    "    time.sleep(DELAY)\n",
    "    end = time.time()\n",
    "    log.append([request_number, start, end])\n",
    "    return random.randint(100, 10001)"
   ]
  },
  {
   "cell_type": "code",
   "execution_count": 5,
   "metadata": {},
   "outputs": [],
   "source": [
    "def run_experiment(num_iter):\n",
    "    response_size = 0\n",
    "    i = 0\n",
    "    for url in range(num_iter):\n",
    "        response_size = simulate_request(i)\n",
    "        i = i + 1\n",
    "    return response_size"
   ]
  },
  {
   "cell_type": "code",
   "execution_count": 6,
   "metadata": {},
   "outputs": [
    {
     "name": "stdout",
     "output_type": "stream",
     "text": [
      "Result: 9398, Time: 50.12920928001404\n"
     ]
    }
   ],
   "source": [
    "num_iter = 50\n",
    "\n",
    "start = time.time()\n",
    "result = run_experiment(num_iter)\n",
    "end = time.time()\n",
    "print('Result: {}, Time: {}'.format(result, end - start))"
   ]
  },
  {
   "cell_type": "code",
   "execution_count": 7,
   "metadata": {},
   "outputs": [
    {
     "data": {
      "image/png": "[encoded data removed]",
      "text/plain": [
       "<Figure size 1152x288 with 1 Axes>"
      ]
     },
     "metadata": {},
     "output_type": "display_data"
    }
   ],
   "source": [
    "fig, ax = plt.subplots()\n",
    "for l in log:\n",
    "    ax.plot([datetime.utcfromtimestamp(l[1]), datetime.utcfromtimestamp(l[2])], \n",
    "            [l[0], l[0]], \n",
    "            color = 'blue')\n",
    "ax.set_xlabel('time')\n",
    "ax.set_ylabel('request number')\n",
    "ax.grid(True)\n",
    "fig.set_figwidth(16)"
   ]
  },
  {
   "cell_type": "markdown",
   "metadata": {},
   "source": [
    "## asyncio version\n",
    "\n",
    "We had to add several changes to the `asyncio` version. First of all, we added a limit of 10 processes to be processed simultaneously by means of a semaphore. Additionally, we cannot use the `pause` function, since it does not execute asynchronously. Instead we use `asyncio.sleep()`. "
   ]
  },
  {
   "cell_type": "code",
   "execution_count": 8,
   "metadata": {},
   "outputs": [],
   "source": [
    "random.seed(0)"
   ]
  },
  {
   "cell_type": "code",
   "execution_count": 9,
   "metadata": {},
   "outputs": [],
   "source": [
    "log = []"
   ]
  },
  {
   "cell_type": "code",
   "execution_count": 10,
   "metadata": {},
   "outputs": [],
   "source": [
    "DELAY = 1\n",
    "def simulate_request(number_chunks):\n",
    "    semaphore = asyncio.Semaphore(number_chunks)\n",
    "    @asyncio.coroutine\n",
    "    def http_get(i):\n",
    "        nonlocal semaphore\n",
    "        with (yield from semaphore):\n",
    "            start = time.time()\n",
    "            yield from asyncio.sleep(DELAY)\n",
    "            end = time.time()\n",
    "        return [i, start, end, random.randint(100, 10001)]\n",
    "    return http_get"
   ]
  },
  {
   "cell_type": "code",
   "execution_count": 11,
   "metadata": {},
   "outputs": [],
   "source": [
    "def run_experiment(num_iter, num_chunks):\n",
    "    http_client = simulate_request(num_chunks)\n",
    "    tasks = [http_client(i) for i in range(num_iter)]\n",
    "    response_size = 0\n",
    "    for future in asyncio.as_completed(tasks):\n",
    "        data = yield from future\n",
    "        response_size = response_size + data[3]\n",
    "        log.append([data[0], data[1], data[2]])\n",
    "    return response_size"
   ]
  },
  {
   "cell_type": "code",
   "execution_count": 12,
   "metadata": {},
   "outputs": [
    {
     "name": "stdout",
     "output_type": "stream",
     "text": [
      "Result: 266845, Time: 5.009572744369507\n"
     ]
    }
   ],
   "source": [
    "num_iter = 50\n",
    "num_chunks = 10\n",
    "\n",
    "# The nest_asyncio module has to be used in order to run asyncio from a notebook\n",
    "# see: https://github.com/jupyter/notebook/issues/3397\n",
    "nest_asyncio.apply()\n",
    "loop = asyncio.get_event_loop()\n",
    "\n",
    "start = time.time()\n",
    "result = loop.run_until_complete(run_experiment(num_iter, num_chunks))\n",
    "end = time.time()\n",
    "print('Result: {}, Time: {}'.format(result, end - start))"
   ]
  },
  {
   "cell_type": "code",
   "execution_count": 13,
   "metadata": {},
   "outputs": [
    {
     "data": {
      "image/png": "[encoded data removed]",
      "text/plain": [
       "<Figure size 1152x288 with 1 Axes>"
      ]
     },
     "metadata": {},
     "output_type": "display_data"
    }
   ],
   "source": [
    "fig, ax = plt.subplots()\n",
    "for l in log:\n",
    "    ax.plot([datetime.utcfromtimestamp(l[1]), datetime.utcfromtimestamp(l[2])], \n",
    "            [l[0], l[0]], \n",
    "            color = 'blue')\n",
    "ax.set_xlabel('time')\n",
    "ax.set_ylabel('request number')\n",
    "ax.grid(True)\n",
    "fig.set_figwidth(16)"
   ]
  }
 ],
 "metadata": {
  "kernelspec": {
   "display_name": "Python 3",
   "language": "python",
   "name": "python3"
  },
  "language_info": {
   "codemirror_mode": {
    "name": "ipython",
    "version": 3
   },
   "file_extension": ".py",
   "mimetype": "text/x-python",
   "name": "python",
   "nbconvert_exporter": "python",
   "pygments_lexer": "ipython3",
   "version": "3.6.5"
  }
 },
 "nbformat": 4,
 "nbformat_minor": 2
}
