{
 "cells": [
  {
   "cell_type": "code",
   "execution_count": 1,
   "metadata": {},
   "outputs": [],
   "source": [
    "import time\n",
    "import matplotlib.pyplot as plt"
   ]
  },
  {
   "cell_type": "markdown",
   "metadata": {},
   "source": [
    "In this notebook, we use vectorisation to leverage our computer architecture in order to speed up computation.\n",
    "\n",
    "The example used in this notebook is in the context of diffusion in fluids. More specifically, we are analysing the dynamics of how dye mixes with water if we put several drops in water at room temperature and without stirring the water. \n",
    "\n",
    "# Lists implementation"
   ]
  },
  {
   "cell_type": "code",
   "execution_count": 2,
   "metadata": {},
   "outputs": [],
   "source": [
    "grid_shape = (1024, 1024)\n",
    "\n",
    "def evolve(grid, dt, D = 1.0):\n",
    "    '''\n",
    "    Calculates the next state from the current state. \n",
    "    \n",
    "    Parameters:\n",
    "       - grid: current state\n",
    "       - dt: time steps\n",
    "       - D: dye's diffusion speed\n",
    "    '''\n",
    "    xmax, ymax = grid_shape\n",
    "    new_grid = [[0.0,] * ymax for x in range(xmax)]\n",
    "    for i in range(xmax): # Python 3 does not have xrange\n",
    "            for j in range(ymax):\n",
    "                # Gradients. Boundary condition: wrap around. \n",
    "                grid_xx = grid[(i + 1) % xmax][j] + grid[(i - 1) % xmax][j] - 2.0 * grid[i][j]\n",
    "                grid_yy = grid[i][(j + 1) % ymax] + grid[i][(j - 1) % ymax] - 2.0 * grid[i][j]\n",
    "                new_grid[i][j] = grid[i][j] + D * (grid_xx + grid_yy) * dt\n",
    "    return new_grid"
   ]
  },
  {
   "cell_type": "code",
   "execution_count": 3,
   "metadata": {},
   "outputs": [],
   "source": [
    "# Initialisation code. This code only runs once, as opposed to the previous function, that\n",
    "# runs multiple times. That's why we will only analyse the complexity of the evolve function\n",
    "def run_experiment(num_iterations):\n",
    "    # Setting up initial conditions\n",
    "    xmax, ymax = grid_shape\n",
    "    grid = [[0.0, ] * ymax for x in range(xmax)]\n",
    "    \n",
    "    block_low = int(grid_shape[0] * .4)\n",
    "    block_high = int(grid_shape[0] * .5)\n",
    "    for i in range(block_low, block_high): # Python 3 does not have xrange\n",
    "        for j in range(block_low, block_high):\n",
    "            grid[i][j] = 0.005\n",
    "            \n",
    "    # Evolve the initial conditions\n",
    "    start = time.time()\n",
    "    for i in range(num_iterations):\n",
    "        # The values in the grid and for dt have been chosen small enough so that\n",
    "        # the algorithm will converge in a stable way\n",
    "        grid = evolve(grid, 0.11)\n",
    "    print(time.time() - start)\n",
    "    \n",
    "    return grid"
   ]
  },
  {
   "cell_type": "code",
   "execution_count": 4,
   "metadata": {},
   "outputs": [
    {
     "name": "stdout",
     "output_type": "stream",
     "text": [
      "9.5367431640625e-07\n",
      "340.81495785713196\n",
      "670.0406649112701\n"
     ]
    },
    {
     "data": {
      "image/png": "[encoded data removed]",
      "text/plain": [
       "<Figure size 432x288 with 3 Axes>"
      ]
     },
     "metadata": {},
     "output_type": "display_data"
    }
   ],
   "source": [
    "fig, ax = plt.subplots(1, 3)\n",
    "for i in range(0,3):\n",
    "    grid = run_experiment(i * 500)\n",
    "    ax[i].imshow(grid)"
   ]
  },
  {
   "cell_type": "markdown",
   "metadata": {},
   "source": [
    "## First quick optimisation\n",
    "\n",
    "If we profile this code we will realise that most of the time is spent initialising `new_grid`. Allocating memory is expensive. Therefore. A first quick optimisation could be to take `new_grid` initialisation out from `evolve`, so it is initialised only once:"
   ]
  },
  {
   "cell_type": "code",
   "execution_count": 5,
   "metadata": {},
   "outputs": [],
   "source": [
    "grid_shape = (1024, 1024)\n",
    "\n",
    "def evolve(grid, dt, out, D = 1.0):\n",
    "    '''\n",
    "    Calculates the next state from the current state. \n",
    "    \n",
    "    Parameters:\n",
    "       - grid: current state\n",
    "       - dt: time steps\n",
    "       - D: dye's diffusion speed\n",
    "    '''\n",
    "    xmax, ymax = grid_shape\n",
    "    for i in range(xmax): # Python 3 does not have xrange\n",
    "            for j in range(ymax):\n",
    "                # Gradients. Boundary condition: wrap around. \n",
    "                grid_xx = grid[(i + 1) % xmax][j] + grid[(i - 1) % xmax][j] - 2.0 * grid[i][j]\n",
    "                grid_yy = grid[i][(j + 1) % ymax] + grid[i][(j - 1) % ymax] - 2.0 * grid[i][j]\n",
    "                out[i][j] = grid[i][j] + D * (grid_xx + grid_yy) * dt"
   ]
  },
  {
   "cell_type": "code",
   "execution_count": 6,
   "metadata": {},
   "outputs": [],
   "source": [
    "# Initialisation code. This code only runs once, as opposed to the previous function, that\n",
    "# runs multiple times. That's why we will only analyse the complexity of the evolve function\n",
    "def run_experiment(num_iterations):\n",
    "    # Setting up initial conditions\n",
    "    xmax, ymax = grid_shape\n",
    "    next_grid = [[0.0,] * ymax for x in range(xmax)]\n",
    "    grid = [[0.0, ] * ymax for x in range(xmax)]\n",
    "    \n",
    "    block_low = int(grid_shape[0] * .4)\n",
    "    block_high = int(grid_shape[0] * .5)\n",
    "    for i in range(block_low, block_high): # Python 3 does not have xrange\n",
    "        for j in range(block_low, block_high):\n",
    "            grid[i][j] = 0.005\n",
    "            \n",
    "    # Evolve the initial conditions\n",
    "    start = time.time()\n",
    "    for i in range(num_iterations):\n",
    "        # The values in the grid and for dt have been chosen small enough so that\n",
    "        # the algorithm will converge in a stable way\n",
    "        evolve(grid, 0.11, next_grid)\n",
    "        grid, next_grid = next_grid, grid\n",
    "    print(time.time() - start)\n",
    "    \n",
    "    return grid"
   ]
  },
  {
   "cell_type": "code",
   "execution_count": 7,
   "metadata": {},
   "outputs": [
    {
     "name": "stdout",
     "output_type": "stream",
     "text": [
      "7.152557373046875e-07\n",
      "340.083505153656\n",
      "665.1243848800659\n"
     ]
    },
    {
     "data": {
      "image/png": "[encoded data removed]",
      "text/plain": [
       "<Figure size 432x288 with 3 Axes>"
      ]
     },
     "metadata": {},
     "output_type": "display_data"
    }
   ],
   "source": [
    "fig, ax = plt.subplots(1, 3)\n",
    "for i in range(0,3):\n",
    "    grid = run_experiment(i * 500)\n",
    "    ax[i].imshow(grid)"
   ]
  },
  {
   "cell_type": "markdown",
   "metadata": {},
   "source": [
    "There is some improvement, but not that much. We didn't get anything close to that 21% speed improvement demonstrated in the book. May it be because we are using Python 3?\n",
    "\n",
    "However, another problem of lists is memory fragmentation. This means that accessing to list[i][j] requires two reading operations, and even if a set of elements are contiguous they cannot be accessed as a block, but one by one (using two operations for each).\n",
    "\n",
    "But even if we use the `array` module we are not solving the problem, because in spite of arrays being able to store contiguous values in contiguous positions in memory, Python still doesn't know how to vectorise for loops (Python does not use vector operations in the CPU). Modules like `numpy` give us access to those vectorised operations (it also stores data in contiguous positions in memory - this last point has more impact on improving the performance than vectorisation). "
   ]
  },
  {
   "cell_type": "markdown",
   "metadata": {},
   "source": [
    "## Using numpy\n",
    "\n",
    "This version of the code is written with `numpy`. It is based on the `roll` function, that requires allocating memory for a new array. But once that new array has been allocated, vectorisation pays off. "
   ]
  },
  {
   "cell_type": "code",
   "execution_count": 17,
   "metadata": {},
   "outputs": [],
   "source": [
    "import numpy as np"
   ]
  },
  {
   "cell_type": "code",
   "execution_count": 18,
   "metadata": {},
   "outputs": [],
   "source": [
    "grid_shape = (1024, 1024)"
   ]
  },
  {
   "cell_type": "code",
   "execution_count": 19,
   "metadata": {},
   "outputs": [],
   "source": [
    "def laplacian(grid):\n",
    "    return np.roll(grid, +1, 0) + np.roll(grid, -1, 0) + \\\n",
    "           np.roll(grid, +1, 1) + np.roll(grid, -1, 1) - 4 * grid"
   ]
  },
  {
   "cell_type": "code",
   "execution_count": 20,
   "metadata": {},
   "outputs": [],
   "source": [
    "def evolve(grid, dt, D = 1):\n",
    "    return grid + dt * D * laplacian(grid)"
   ]
  },
  {
   "cell_type": "code",
   "execution_count": 27,
   "metadata": {},
   "outputs": [],
   "source": [
    "def run_experiment(num_iterations):\n",
    "    grid = np.zeros(grid_shape)\n",
    "    \n",
    "    block_low = int(grid_shape[0] * .4)\n",
    "    block_high = int(grid_shape[0] * .5)\n",
    "    grid[block_low:block_high, block_low:block_high] = 0.005\n",
    "    \n",
    "    start = time.time()\n",
    "    for i in range(num_iterations):\n",
    "        grid = evolve(grid, 0.1)\n",
    "    print(time.time() - start)\n",
    "    \n",
    "    return grid"
   ]
  },
  {
   "cell_type": "code",
   "execution_count": 28,
   "metadata": {},
   "outputs": [
    {
     "name": "stdout",
     "output_type": "stream",
     "text": [
      "1.9073486328125e-06\n",
      "6.207789897918701\n",
      "12.784306049346924\n"
     ]
    },
    {
     "data": {
      "image/png": "[encoded data removed]",
      "text/plain": [
       "<Figure size 432x288 with 3 Axes>"
      ]
     },
     "metadata": {},
     "output_type": "display_data"
    }
   ],
   "source": [
    "fig, ax = plt.subplots(1, 3)\n",
    "for i in range(0,3):\n",
    "    grid = run_experiment(i * 500)\n",
    "    ax[i].imshow(grid)"
   ]
  },
  {
   "cell_type": "markdown",
   "metadata": {},
   "source": [
    "By comparing these execution times with the previous ones we can see the more than obvious difference. "
   ]
  },
  {
   "cell_type": "markdown",
   "metadata": {},
   "source": [
    "This can be optimised further by removing the need for pre-allocating memory in the laplacian calculation. We can achieve that by using in-place operations like += and *=. "
   ]
  },
  {
   "cell_type": "code",
   "execution_count": 33,
   "metadata": {},
   "outputs": [],
   "source": [
    "def laplacian(grid, out):\n",
    "    np.copyto(out, grid)\n",
    "    out *= -4\n",
    "    out += np.roll(grid, +1, 0)\n",
    "    out += np.roll(grid, -1, 0)\n",
    "    out += np.roll(grid, +1, 1)\n",
    "    out += np.roll(grid, -1, 1)"
   ]
  },
  {
   "cell_type": "code",
   "execution_count": 34,
   "metadata": {},
   "outputs": [],
   "source": [
    "def evolve(grid, dt, out, D = 1):\n",
    "    laplacian(grid, out)\n",
    "    out *= D * dt\n",
    "    out += grid"
   ]
  },
  {
   "cell_type": "code",
   "execution_count": 35,
   "metadata": {},
   "outputs": [],
   "source": [
    "def run_experiment(num_iterations):\n",
    "    next_grid = np.zeros(grid_shape)\n",
    "    grid = np.zeros(grid_shape)\n",
    "    \n",
    "    block_low = int(grid_shape[0] * .4)\n",
    "    block_high = int(grid_shape[0] * .5)\n",
    "    grid[block_low:block_high, block_low:block_high] = 0.005\n",
    "    \n",
    "    start = time.time()\n",
    "    for i in range(num_iterations):\n",
    "            evolve(grid, 0.1, next_grid)\n",
    "            grid, next_grid = next_grid, grid\n",
    "    print(time.time() - start)\n",
    "    \n",
    "    return grid"
   ]
  },
  {
   "cell_type": "code",
   "execution_count": 36,
   "metadata": {},
   "outputs": [
    {
     "name": "stdout",
     "output_type": "stream",
     "text": [
      "2.86102294921875e-06\n",
      "5.3799707889556885\n",
      "10.67466425895691\n"
     ]
    },
    {
     "data": {
      "image/png": "[encoded data removed]",
      "text/plain": [
       "<Figure size 432x288 with 3 Axes>"
      ]
     },
     "metadata": {},
     "output_type": "display_data"
    }
   ],
   "source": [
    "fig, ax = plt.subplots(1, 3)\n",
    "for i in range(0,3):\n",
    "    grid = run_experiment(i * 500)\n",
    "    ax[i].imshow(grid)"
   ]
  },
  {
   "cell_type": "code",
   "execution_count": null,
   "metadata": {},
   "outputs": [],
   "source": []
  }
 ],
 "metadata": {
  "kernelspec": {
   "display_name": "Python 3",
   "language": "python",
   "name": "python3"
  },
  "language_info": {
   "codemirror_mode": {
    "name": "ipython",
    "version": 3
   },
   "file_extension": ".py",
   "mimetype": "text/x-python",
   "name": "python",
   "nbconvert_exporter": "python",
   "pygments_lexer": "ipython3",
   "version": "3.6.5"
  }
 },
 "nbformat": 4,
 "nbformat_minor": 2
}
