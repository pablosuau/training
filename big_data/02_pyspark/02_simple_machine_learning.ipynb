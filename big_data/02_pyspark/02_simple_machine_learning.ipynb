{
 "cells": [
  {
   "cell_type": "code",
   "execution_count": 1,
   "metadata": {},
   "outputs": [],
   "source": [
    "from pyspark.sql import SparkSession\n",
    "import pyspark.sql.functions as F\n",
    "import pyspark.sql.types as T\n",
    "import matplotlib.pyplot as plt\n",
    "import numpy as np\n",
    "import pandas as pd\n",
    "from pyspark.ml.feature import PCA\n",
    "from pyspark.ml.linalg import Vectors, VectorUDT"
   ]
  },
  {
   "cell_type": "code",
   "execution_count": 2,
   "metadata": {},
   "outputs": [],
   "source": [
    "spark_session = SparkSession.builder.appName('simple_statistics').getOrCreate()"
   ]
  },
  {
   "cell_type": "markdown",
   "metadata": {},
   "source": [
    "Loading the data"
   ]
  },
  {
   "cell_type": "code",
   "execution_count": 3,
   "metadata": {},
   "outputs": [],
   "source": [
    "df = spark_session.read.csv('data/StudentsPerformance.csv', header = True)"
   ]
  },
  {
   "cell_type": "code",
   "execution_count": 4,
   "metadata": {},
   "outputs": [
    {
     "data": {
      "text/plain": [
       "['gender',\n",
       " 'race/ethnicity',\n",
       " 'parental level of education',\n",
       " 'lunch',\n",
       " 'test preparation course',\n",
       " 'math score',\n",
       " 'reading score',\n",
       " 'writing score']"
      ]
     },
     "execution_count": 4,
     "metadata": {},
     "output_type": "execute_result"
    }
   ],
   "source": [
    "df.columns"
   ]
  },
  {
   "cell_type": "markdown",
   "metadata": {},
   "source": [
    "Categorical variables"
   ]
  },
  {
   "cell_type": "code",
   "execution_count": 5,
   "metadata": {},
   "outputs": [
    {
     "data": {
      "text/plain": [
       "[Row(gender='female'), Row(gender='male')]"
      ]
     },
     "execution_count": 5,
     "metadata": {},
     "output_type": "execute_result"
    }
   ],
   "source": [
    "df.select('gender').distinct().collect()"
   ]
  },
  {
   "cell_type": "code",
   "execution_count": 6,
   "metadata": {},
   "outputs": [
    {
     "data": {
      "text/plain": [
       "[Row(race/ethnicity='group B'),\n",
       " Row(race/ethnicity='group C'),\n",
       " Row(race/ethnicity='group D'),\n",
       " Row(race/ethnicity='group A'),\n",
       " Row(race/ethnicity='group E')]"
      ]
     },
     "execution_count": 6,
     "metadata": {},
     "output_type": "execute_result"
    }
   ],
   "source": [
    "df.select('race/ethnicity').distinct().collect()"
   ]
  },
  {
   "cell_type": "code",
   "execution_count": 7,
   "metadata": {},
   "outputs": [
    {
     "data": {
      "text/plain": [
       "[Row(parental level of education='some high school'),\n",
       " Row(parental level of education=\"associate's degree\"),\n",
       " Row(parental level of education='high school'),\n",
       " Row(parental level of education=\"bachelor's degree\"),\n",
       " Row(parental level of education=\"master's degree\"),\n",
       " Row(parental level of education='some college')]"
      ]
     },
     "execution_count": 7,
     "metadata": {},
     "output_type": "execute_result"
    }
   ],
   "source": [
    "df.select('parental level of education').distinct().collect()"
   ]
  },
  {
   "cell_type": "code",
   "execution_count": 8,
   "metadata": {},
   "outputs": [
    {
     "data": {
      "text/plain": [
       "[Row(lunch='free/reduced'), Row(lunch='standard')]"
      ]
     },
     "execution_count": 8,
     "metadata": {},
     "output_type": "execute_result"
    }
   ],
   "source": [
    "df.select('lunch').distinct().collect()"
   ]
  },
  {
   "cell_type": "code",
   "execution_count": 9,
   "metadata": {},
   "outputs": [
    {
     "data": {
      "text/plain": [
       "[Row(test preparation course='completed'), Row(test preparation course='none')]"
      ]
     },
     "execution_count": 9,
     "metadata": {},
     "output_type": "execute_result"
    }
   ],
   "source": [
    "df.select('test preparation course').distinct().collect()"
   ]
  },
  {
   "cell_type": "markdown",
   "metadata": {},
   "source": [
    "Numerical variables"
   ]
  },
  {
   "cell_type": "code",
   "execution_count": 10,
   "metadata": {},
   "outputs": [
    {
     "name": "stdout",
     "output_type": "stream",
     "text": [
      "Math: mean = 66.089, std = 15.163080096009454, min = 0.0, max = 100.0\n"
     ]
    }
   ],
   "source": [
    "math = df.select(df['math score'].cast('float').alias('math'))\n",
    "mean = math.select(F.mean(math.math).alias('mean')).collect()[0]['mean']\n",
    "std = math.select(F.stddev(math.math).alias('mean')).collect()[0]['mean']\n",
    "min_ = math.select(F.min(math.math).alias('min')).collect()[0]['min']\n",
    "max_ = math.select(F.max(math.math).alias('max')).collect()[0]['max']\n",
    "print('Math: mean = ' + str(mean) + ', std = ' + str(std) + ', min = ' + str(min_) + ', max = ' + str(max_))"
   ]
  },
  {
   "cell_type": "code",
   "execution_count": 11,
   "metadata": {},
   "outputs": [
    {
     "name": "stdout",
     "output_type": "stream",
     "text": [
      "Reading: mean = 69.169, std = 14.600191937252223, min = 17.0, max = 100.0\n"
     ]
    }
   ],
   "source": [
    "reading = df.select(df['reading score'].cast('float').alias('reading'))\n",
    "mean = reading.select(F.mean(reading.reading).alias('mean')).collect()[0]['mean']\n",
    "std = reading.select(F.stddev(reading.reading).alias('mean')).collect()[0]['mean']\n",
    "min_ = reading.select(F.min(reading.reading).alias('min')).collect()[0]['min']\n",
    "max_ = reading.select(F.max(reading.reading).alias('max')).collect()[0]['max']\n",
    "print('Reading: mean = ' + str(mean) + ', std = ' + str(std) + ', min = ' + str(min_) + ', max = ' + str(max_))"
   ]
  },
  {
   "cell_type": "code",
   "execution_count": 12,
   "metadata": {},
   "outputs": [
    {
     "name": "stdout",
     "output_type": "stream",
     "text": [
      "Writing: mean = 68.054, std = 15.19565701086966, min = 10.0, max = 100.0\n"
     ]
    }
   ],
   "source": [
    "writing = df.select(df['writing score'].cast('float').alias('writing'))\n",
    "mean = writing.select(F.mean(writing.writing).alias('mean')).collect()[0]['mean']\n",
    "std = writing.select(F.stddev(writing.writing).alias('mean')).collect()[0]['mean']\n",
    "min_ = writing.select(F.min(writing.writing).alias('min')).collect()[0]['min']\n",
    "max_ = writing.select(F.max(writing.writing).alias('max')).collect()[0]['max']\n",
    "print('Writing: mean = ' + str(mean) + ', std = ' + str(std) + ', min = ' + str(min_) + ', max = ' + str(max_))"
   ]
  },
  {
   "cell_type": "markdown",
   "metadata": {},
   "source": [
    "## Transforming variables\n",
    "\n",
    "Let's transform the categorical variables into numerical ones."
   ]
  },
  {
   "cell_type": "code",
   "execution_count": 13,
   "metadata": {},
   "outputs": [],
   "source": [
    "# First we create an autoincrement id column\n",
    "df = df.withColumn('id', F.monotonically_increasing_id())"
   ]
  },
  {
   "cell_type": "code",
   "execution_count": 14,
   "metadata": {},
   "outputs": [],
   "source": [
    "for c in ['gender', 'race/ethnicity', 'parental level of education', 'lunch', 'test preparation course']:\n",
    "    categories = df.select(c).distinct().rdd.flatMap(lambda x: x).collect()\n",
    "    categories = categories[:-1]\n",
    "\n",
    "    exprs = [F.when(F.col(c) == category, 1).otherwise(0).alias(category)\n",
    "             for category in categories]\n",
    "\n",
    "    df = df.join(df.select('id', *exprs), on = 'id').drop(c)"
   ]
  },
  {
   "cell_type": "code",
   "execution_count": 15,
   "metadata": {},
   "outputs": [],
   "source": [
    "df = df.drop('id')"
   ]
  },
  {
   "cell_type": "code",
   "execution_count": 16,
   "metadata": {},
   "outputs": [
    {
     "name": "stdout",
     "output_type": "stream",
     "text": [
      "+----------+-------------+-------------+------+-------+-------+-------+-------+----------------+------------------+-----------+-----------------+---------------+------------+---------+\n",
      "|math score|reading score|writing score|female|group B|group C|group D|group A|some high school|associate's degree|high school|bachelor's degree|master's degree|free/reduced|completed|\n",
      "+----------+-------------+-------------+------+-------+-------+-------+-------+----------------+------------------+-----------+-----------------+---------------+------------+---------+\n",
      "|        69|           54|           55|     0|      1|      0|      0|      0|               0|                 0|          0|                0|              0|           0|        0|\n",
      "|        62|           70|           75|     1|      0|      0|      1|      0|               0|                 0|          0|                0|              1|           0|        0|\n",
      "|        90|           90|           91|     1|      1|      0|      0|      0|               0|                 1|          0|                0|              0|           0|        1|\n",
      "|        72|           57|           58|     0|      0|      0|      1|      0|               0|                 0|          0|                0|              0|           0|        0|\n",
      "|        67|           64|           61|     0|      1|      0|      0|      0|               1|                 0|          0|                0|              0|           0|        0|\n",
      "|        76|           83|           79|     0|      0|      0|      1|      0|               0|                 0|          0|                0|              0|           0|        1|\n",
      "|        68|           59|           62|     0|      0|      0|      1|      0|               0|                 0|          0|                0|              0|           0|        0|\n",
      "|        79|           82|           80|     0|      0|      0|      1|      0|               0|                 1|          0|                0|              0|           1|        1|\n",
      "|        53|           70|           70|     1|      1|      0|      0|      0|               0|                 1|          0|                0|              0|           1|        0|\n",
      "|        55|           65|           62|     1|      0|      1|      0|      0|               1|                 0|          0|                0|              0|           1|        0|\n",
      "+----------+-------------+-------------+------+-------+-------+-------+-------+----------------+------------------+-----------+-----------------+---------------+------------+---------+\n",
      "only showing top 10 rows\n",
      "\n"
     ]
    }
   ],
   "source": [
    "df.show(10)"
   ]
  },
  {
   "cell_type": "markdown",
   "metadata": {},
   "source": [
    "And now we normalise all the variables:"
   ]
  },
  {
   "cell_type": "code",
   "execution_count": 17,
   "metadata": {},
   "outputs": [],
   "source": [
    "for c in df.columns:\n",
    "    values = df.select(df[c].cast('float').alias('values'))\n",
    "    mean = values.select(F.mean(values.values).alias('mean')).collect()[0]['mean']\n",
    "    std = values.select(F.stddev(values.values).alias('mean')).collect()[0]['mean']\n",
    "    \n",
    "    normalise_udf = F.udf(lambda x: (float(x) - mean) / std, T.FloatType())\n",
    "    df = df.withColumn(c, normalise_udf(c))"
   ]
  },
  {
   "cell_type": "code",
   "execution_count": 18,
   "metadata": {},
   "outputs": [
    {
     "name": "stdout",
     "output_type": "stream",
     "text": [
      "+-----------+-------------+-------------+----------+----------+-----------+----------+----------+----------------+------------------+-----------+-----------------+---------------+------------+----------+\n",
      "| math score|reading score|writing score|    female|   group B|    group C|   group D|   group A|some high school|associate's degree|high school|bachelor's degree|master's degree|free/reduced| completed|\n",
      "+-----------+-------------+-------------+----------+----------+-----------+----------+----------+----------------+------------------+-----------+-----------------+---------------+------------+----------+\n",
      "| 0.19197947|   -1.0389589|  -0.85906124|-1.0361536|  2.063709|-0.68407625|-0.5955321|-0.3124054|     -0.46669987|        -0.5339117|  -0.493495|      -0.36558592|    -0.25027296|  -0.7415101|-0.7463744|\n",
      "|-0.26966816|   0.05691706|    0.4571043|0.96414286|-0.4840799|-0.68407625| 1.6774913|-0.3124054|     -0.46669987|        -0.5339117|  -0.493495|      -0.36558592|      3.9916418|  -0.7415101|-0.7463744|\n",
      "|  1.5769223|    1.4267621|    1.5100367|0.96414286|  2.063709|-0.68407625|-0.5955321|-0.3124054|     -0.46669987|         1.8710959|  -0.493495|      -0.36558592|    -0.25027296|  -0.7415101| 1.3384703|\n",
      "| 0.38982844|   -0.8334822|   -0.6616364|-1.0361536|-0.4840799|-0.68407625| 1.6774913|-0.3124054|     -0.46669987|        -0.5339117|  -0.493495|      -0.36558592|    -0.25027296|  -0.7415101|-0.7463744|\n",
      "| 0.06008014|  -0.35403645|  -0.46421158|-1.0361536|  2.063709|-0.68407625|-0.5955321|-0.3124054|        2.140562|        -0.5339117|  -0.493495|      -0.36558592|    -0.25027296|  -0.7415101|-0.7463744|\n",
      "|  0.6536271|    0.9473163|    0.7203374|-1.0361536|-0.4840799|-0.68407625| 1.6774913|-0.3124054|     -0.46669987|        -0.5339117|  -0.493495|      -0.36558592|    -0.25027296|  -0.7415101| 1.3384703|\n",
      "|  0.1260298|   -0.6964977|  -0.39840332|-1.0361536|-0.4840799|-0.68407625| 1.6774913|-0.3124054|     -0.46669987|        -0.5339117|  -0.493495|      -0.36558592|    -0.25027296|  -0.7415101|-0.7463744|\n",
      "|  0.8514761|   0.87882406|    0.7861457|-1.0361536|-0.4840799|-0.68407625| 1.6774913|-0.3124054|     -0.46669987|         1.8710959|  -0.493495|      -0.36558592|    -0.25027296|   1.3472507| 1.3384703|\n",
      "|-0.86321515|   0.05691706|    0.1280629|0.96414286|  2.063709|-0.68407625|-0.5955321|-0.3124054|     -0.46669987|         1.8710959|  -0.493495|      -0.36558592|    -0.25027296|   1.3472507|-0.7463744|\n",
      "| -0.7313158|   -0.2855442|  -0.39840332|0.96414286|-0.4840799|  1.4603635|-0.5955321|-0.3124054|        2.140562|        -0.5339117|  -0.493495|      -0.36558592|    -0.25027296|   1.3472507|-0.7463744|\n",
      "+-----------+-------------+-------------+----------+----------+-----------+----------+----------+----------------+------------------+-----------+-----------------+---------------+------------+----------+\n",
      "only showing top 10 rows\n",
      "\n"
     ]
    }
   ],
   "source": [
    "df.show(10)"
   ]
  },
  {
   "cell_type": "markdown",
   "metadata": {},
   "source": [
    "## Dimensionality reduction"
   ]
  },
  {
   "cell_type": "markdown",
   "metadata": {},
   "source": [
    "Let's apply PCA to visualise the data and to determine whether there are clearly separable groups. "
   ]
  },
  {
   "cell_type": "code",
   "execution_count": 21,
   "metadata": {},
   "outputs": [],
   "source": [
    "features = df.select(F.udf(Vectors.dense, VectorUDT())(*df.columns)).toDF('features')"
   ]
  },
  {
   "cell_type": "code",
   "execution_count": 23,
   "metadata": {},
   "outputs": [
    {
     "name": "stdout",
     "output_type": "stream",
     "text": [
      "+--------------------+\n",
      "|        pca_features|\n",
      "+--------------------+\n",
      "|[1.16630763279792...|\n",
      "|[-0.7957461807435...|\n",
      "|[-2.9419046641828...|\n",
      "|[0.54897914339700...|\n",
      "|[0.80905445453127...|\n",
      "|[-1.7091749120609...|\n",
      "|[0.46123016074257...|\n",
      "|[-1.5304088515299...|\n",
      "|[0.61575626145953...|\n",
      "|[1.19392018305941...|\n",
      "|[0.18687765950186...|\n",
      "|[-0.7896917056553...|\n",
      "|[-0.9000564789971...|\n",
      "|[-2.1497117347152...|\n",
      "|[1.87518579908031...|\n",
      "|[-0.5693422363127...|\n",
      "|[0.77359048478783...|\n",
      "|[0.81138938555802...|\n",
      "|[0.67322040303788...|\n",
      "|[0.24657525291702...|\n",
      "+--------------------+\n",
      "only showing top 20 rows\n",
      "\n"
     ]
    }
   ],
   "source": [
    "pca = PCA(k = 2, inputCol = 'features', outputCol = 'pca_features')\n",
    "model = pca.fit(features)\n",
    "\n",
    "result = model.transform(features).select('pca_features')\n",
    "result.show()"
   ]
  },
  {
   "cell_type": "code",
   "execution_count": null,
   "metadata": {},
   "outputs": [],
   "source": [
    "# TODO plot"
   ]
  }
 ],
 "metadata": {
  "kernelspec": {
   "display_name": "Python 3",
   "language": "python",
   "name": "python3"
  },
  "language_info": {
   "codemirror_mode": {
    "name": "ipython",
    "version": 3
   },
   "file_extension": ".py",
   "mimetype": "text/x-python",
   "name": "python",
   "nbconvert_exporter": "python",
   "pygments_lexer": "ipython3",
   "version": "3.6.6"
  }
 },
 "nbformat": 4,
 "nbformat_minor": 2
}
