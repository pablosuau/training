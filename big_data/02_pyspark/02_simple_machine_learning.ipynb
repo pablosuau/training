{
 "cells": [
  {
   "cell_type": "code",
   "execution_count": 1,
   "metadata": {},
   "outputs": [],
   "source": [
    "from pyspark.sql import SparkSession\n",
    "import pyspark.sql.functions as F\n",
    "import matplotlib.pyplot as plt\n",
    "import numpy as np\n",
    "import pandas as pd"
   ]
  },
  {
   "cell_type": "code",
   "execution_count": 2,
   "metadata": {},
   "outputs": [],
   "source": [
    "spark_session = SparkSession.builder.appName('simple_statistics').getOrCreate()"
   ]
  },
  {
   "cell_type": "markdown",
   "metadata": {},
   "source": [
    "Loading the data"
   ]
  },
  {
   "cell_type": "code",
   "execution_count": 5,
   "metadata": {},
   "outputs": [],
   "source": [
    "df = spark_session.read.csv('data/StudentsPerformance.csv', header = True)"
   ]
  },
  {
   "cell_type": "code",
   "execution_count": 6,
   "metadata": {},
   "outputs": [
    {
     "data": {
      "text/plain": [
       "['gender',\n",
       " 'race/ethnicity',\n",
       " 'parental level of education',\n",
       " 'lunch',\n",
       " 'test preparation course',\n",
       " 'math score',\n",
       " 'reading score',\n",
       " 'writing score']"
      ]
     },
     "execution_count": 6,
     "metadata": {},
     "output_type": "execute_result"
    }
   ],
   "source": [
    "df.columns"
   ]
  },
  {
   "cell_type": "markdown",
   "metadata": {},
   "source": [
    "Categorical variables"
   ]
  },
  {
   "cell_type": "code",
   "execution_count": 9,
   "metadata": {},
   "outputs": [
    {
     "data": {
      "text/plain": [
       "[Row(gender='female'), Row(gender='male')]"
      ]
     },
     "execution_count": 9,
     "metadata": {},
     "output_type": "execute_result"
    }
   ],
   "source": [
    "df.select('gender').distinct().collect()"
   ]
  },
  {
   "cell_type": "code",
   "execution_count": 10,
   "metadata": {},
   "outputs": [
    {
     "data": {
      "text/plain": [
       "[Row(race/ethnicity='group B'),\n",
       " Row(race/ethnicity='group C'),\n",
       " Row(race/ethnicity='group D'),\n",
       " Row(race/ethnicity='group A'),\n",
       " Row(race/ethnicity='group E')]"
      ]
     },
     "execution_count": 10,
     "metadata": {},
     "output_type": "execute_result"
    }
   ],
   "source": [
    "df.select('race/ethnicity').distinct().collect()"
   ]
  },
  {
   "cell_type": "code",
   "execution_count": 11,
   "metadata": {},
   "outputs": [
    {
     "data": {
      "text/plain": [
       "[Row(parental level of education='some high school'),\n",
       " Row(parental level of education=\"associate's degree\"),\n",
       " Row(parental level of education='high school'),\n",
       " Row(parental level of education=\"bachelor's degree\"),\n",
       " Row(parental level of education=\"master's degree\"),\n",
       " Row(parental level of education='some college')]"
      ]
     },
     "execution_count": 11,
     "metadata": {},
     "output_type": "execute_result"
    }
   ],
   "source": [
    "df.select('parental level of education').distinct().collect()"
   ]
  },
  {
   "cell_type": "code",
   "execution_count": 12,
   "metadata": {},
   "outputs": [
    {
     "data": {
      "text/plain": [
       "[Row(lunch='free/reduced'), Row(lunch='standard')]"
      ]
     },
     "execution_count": 12,
     "metadata": {},
     "output_type": "execute_result"
    }
   ],
   "source": [
    "df.select('lunch').distinct().collect()"
   ]
  },
  {
   "cell_type": "code",
   "execution_count": 13,
   "metadata": {},
   "outputs": [
    {
     "data": {
      "text/plain": [
       "[Row(test preparation course='completed'), Row(test preparation course='none')]"
      ]
     },
     "execution_count": 13,
     "metadata": {},
     "output_type": "execute_result"
    }
   ],
   "source": [
    "df.select('test preparation course').distinct().collect()"
   ]
  },
  {
   "cell_type": "markdown",
   "metadata": {},
   "source": [
    "Numerical variables"
   ]
  },
  {
   "cell_type": "code",
   "execution_count": 20,
   "metadata": {},
   "outputs": [
    {
     "name": "stdout",
     "output_type": "stream",
     "text": [
      "Math: mean = 66.089, std = 15.163080096009454, min = 0.0, max = 100.0\n"
     ]
    }
   ],
   "source": [
    "math = df.select(df['math score'].cast('float').alias('math'))\n",
    "mean = math.select(F.mean(math.math).alias('mean')).collect()[0]['mean']\n",
    "std = math.select(F.stddev(math.math).alias('mean')).collect()[0]['mean']\n",
    "min_ = math.select(F.min(math.math).alias('min')).collect()[0]['min']\n",
    "max_ = math.select(F.max(math.math).alias('max')).collect()[0]['max']\n",
    "print('Math: mean = ' + str(mean) + ', std = ' + str(std) + ', min = ' + str(min_) + ', max = ' + str(max_))"
   ]
  },
  {
   "cell_type": "code",
   "execution_count": 21,
   "metadata": {},
   "outputs": [
    {
     "name": "stdout",
     "output_type": "stream",
     "text": [
      "Reading: mean = 69.169, std = 14.600191937252223, min = 17.0, max = 100.0\n"
     ]
    }
   ],
   "source": [
    "reading = df.select(df['reading score'].cast('float').alias('reading'))\n",
    "mean = reading.select(F.mean(reading.reading).alias('mean')).collect()[0]['mean']\n",
    "std = reading.select(F.stddev(reading.reading).alias('mean')).collect()[0]['mean']\n",
    "min_ = reading.select(F.min(reading.reading).alias('min')).collect()[0]['min']\n",
    "max_ = reading.select(F.max(reading.reading).alias('max')).collect()[0]['max']\n",
    "print('Reading: mean = ' + str(mean) + ', std = ' + str(std) + ', min = ' + str(min_) + ', max = ' + str(max_))"
   ]
  },
  {
   "cell_type": "code",
   "execution_count": 22,
   "metadata": {},
   "outputs": [
    {
     "name": "stdout",
     "output_type": "stream",
     "text": [
      "Writing: mean = 68.054, std = 15.19565701086966, min = 10.0, max = 100.0\n"
     ]
    }
   ],
   "source": [
    "writing = df.select(df['writing score'].cast('float').alias('writing'))\n",
    "mean = writing.select(F.mean(writing.writing).alias('mean')).collect()[0]['mean']\n",
    "std = writing.select(F.stddev(writing.writing).alias('mean')).collect()[0]['mean']\n",
    "min_ = writing.select(F.min(writing.writing).alias('min')).collect()[0]['min']\n",
    "max_ = writing.select(F.max(writing.writing).alias('max')).collect()[0]['max']\n",
    "print('Writing: mean = ' + str(mean) + ', std = ' + str(std) + ', min = ' + str(min_) + ', max = ' + str(max_))"
   ]
  },
  {
   "cell_type": "code",
   "execution_count": null,
   "metadata": {},
   "outputs": [],
   "source": []
  }
 ],
 "metadata": {
  "kernelspec": {
   "display_name": "Python 3",
   "language": "python",
   "name": "python3"
  },
  "language_info": {
   "codemirror_mode": {
    "name": "ipython",
    "version": 3
   },
   "file_extension": ".py",
   "mimetype": "text/x-python",
   "name": "python",
   "nbconvert_exporter": "python",
   "pygments_lexer": "ipython3",
   "version": "3.6.6"
  }
 },
 "nbformat": 4,
 "nbformat_minor": 2
}
