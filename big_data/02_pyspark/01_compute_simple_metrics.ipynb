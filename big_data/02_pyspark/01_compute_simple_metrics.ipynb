{
 "cells": [
  {
   "cell_type": "code",
   "execution_count": 1,
   "metadata": {},
   "outputs": [],
   "source": [
    "from pyspark.sql import SparkSession\n",
    "import pyspark.sql.functions as F\n",
    "import matplotlib.pyplot as plt\n",
    "import numpy as np\n",
    "import pandas as pd"
   ]
  },
  {
   "cell_type": "code",
   "execution_count": 2,
   "metadata": {},
   "outputs": [],
   "source": [
    "spark_session = SparkSession.builder.appName('simple_statistics').getOrCreate()"
   ]
  },
  {
   "cell_type": "markdown",
   "metadata": {},
   "source": [
    "Loading the data"
   ]
  },
  {
   "cell_type": "code",
   "execution_count": 3,
   "metadata": {},
   "outputs": [],
   "source": [
    "df = spark_session.read.csv('data/googleplaystore.csv', header = True)"
   ]
  },
  {
   "cell_type": "code",
   "execution_count": 4,
   "metadata": {},
   "outputs": [
    {
     "data": {
      "text/plain": [
       "['App',\n",
       " 'Category',\n",
       " 'Rating',\n",
       " 'Reviews',\n",
       " 'Size',\n",
       " 'Installs',\n",
       " 'Type',\n",
       " 'Price',\n",
       " 'Content Rating',\n",
       " 'Genres',\n",
       " 'Last Updated',\n",
       " 'Current Ver',\n",
       " 'Android Ver']"
      ]
     },
     "execution_count": 4,
     "metadata": {},
     "output_type": "execute_result"
    }
   ],
   "source": [
    "df.columns"
   ]
  },
  {
   "cell_type": "markdown",
   "metadata": {},
   "source": [
    "## Visualising the data\n",
    "\n",
    "Firstly, I take a look at the data to familiarise with it. It seems that all the variables are categorical, even though I was expecting some of them to be numerical (like size, installs or rating). "
   ]
  },
  {
   "cell_type": "code",
   "execution_count": 5,
   "metadata": {},
   "outputs": [
    {
     "data": {
      "text/plain": [
       "[Row(Category='EVENTS'),\n",
       " Row(Category='COMICS'),\n",
       " Row(Category='SPORTS'),\n",
       " Row(Category='WEATHER'),\n",
       " Row(Category='VIDEO_PLAYERS'),\n",
       " Row(Category='AUTO_AND_VEHICLES'),\n",
       " Row(Category='PARENTING'),\n",
       " Row(Category='ENTERTAINMENT'),\n",
       " Row(Category='PERSONALIZATION'),\n",
       " Row(Category='HEALTH_AND_FITNESS'),\n",
       " Row(Category='TRAVEL_AND_LOCAL'),\n",
       " Row(Category='BOOKS_AND_REFERENCE'),\n",
       " Row(Category='FOOD_AND_DRINK'),\n",
       " Row(Category='PHOTOGRAPHY'),\n",
       " Row(Category='BUSINESS'),\n",
       " Row(Category='FAMILY'),\n",
       " Row(Category='SHOPPING'),\n",
       " Row(Category='HOUSE_AND_HOME'),\n",
       " Row(Category='GAME'),\n",
       " Row(Category='Face'),\n",
       " Row(Category='1.9'),\n",
       " Row(Category='EDUCATION'),\n",
       " Row(Category='PRODUCTIVITY'),\n",
       " Row(Category='TOOLS'),\n",
       " Row(Category='LIFESTYLE'),\n",
       " Row(Category='NEWS_AND_MAGAZINES'),\n",
       " Row(Category='MEDICAL'),\n",
       " Row(Category='COMMUNICATION'),\n",
       " Row(Category='MAPS_AND_NAVIGATION'),\n",
       " Row(Category='DATING'),\n",
       " Row(Category=' traffic jams'),\n",
       " Row(Category='LIBRARIES_AND_DEMO'),\n",
       " Row(Category='BEAUTY'),\n",
       " Row(Category='SOCIAL'),\n",
       " Row(Category='FINANCE'),\n",
       " Row(Category='ART_AND_DESIGN')]"
      ]
     },
     "execution_count": 5,
     "metadata": {},
     "output_type": "execute_result"
    }
   ],
   "source": [
    "df.select('Category').distinct().collect()"
   ]
  },
  {
   "cell_type": "code",
   "execution_count": 6,
   "metadata": {},
   "outputs": [
    {
     "data": {
      "text/plain": [
       "[Row(Rating='1.0'),\n",
       " Row(Rating='2.6'),\n",
       " Row(Rating='3.1'),\n",
       " Row(Rating='4.2'),\n",
       " Row(Rating='4.4'),\n",
       " Row(Rating='3.8'),\n",
       " Row(Rating='2.7'),\n",
       " Row(Rating='1.7'),\n",
       " Row(Rating='2.9'),\n",
       " Row(Rating='4.5'),\n",
       " Row(Rating='2.5'),\n",
       " Row(Rating='2.4'),\n",
       " Row(Rating='4.9'),\n",
       " Row(Rating='3.4'),\n",
       " Row(Rating='1.6'),\n",
       " Row(Rating='3.3'),\n",
       " Row(Rating='1.8'),\n",
       " Row(Rating='4.3'),\n",
       " Row(Rating='3.5'),\n",
       " Row(Rating='4.8'),\n",
       " Row(Rating=' navigation'),\n",
       " Row(Rating='Body'),\n",
       " Row(Rating='4.1'),\n",
       " Row(Rating='1.4'),\n",
       " Row(Rating='4.6'),\n",
       " Row(Rating='5.0'),\n",
       " Row(Rating='19'),\n",
       " Row(Rating='4.0'),\n",
       " Row(Rating='1.9'),\n",
       " Row(Rating='3.6'),\n",
       " Row(Rating='1.5'),\n",
       " Row(Rating='2.8'),\n",
       " Row(Rating='NaN'),\n",
       " Row(Rating='2.0'),\n",
       " Row(Rating='3.2'),\n",
       " Row(Rating='2.2'),\n",
       " Row(Rating='3.7'),\n",
       " Row(Rating='4.7'),\n",
       " Row(Rating='2.3'),\n",
       " Row(Rating='3.0'),\n",
       " Row(Rating='2.1'),\n",
       " Row(Rating='1.2'),\n",
       " Row(Rating='3.9')]"
      ]
     },
     "execution_count": 6,
     "metadata": {},
     "output_type": "execute_result"
    }
   ],
   "source": [
    "# The rating is stored as a astring. Some non-numerical values\n",
    "df.select('Rating').distinct().collect()"
   ]
  },
  {
   "cell_type": "code",
   "execution_count": 7,
   "metadata": {},
   "outputs": [
    {
     "data": {
      "text/plain": [
       "[Row(Reviews='159'),\n",
       " Row(Reviews='967'),\n",
       " Row(Reviews='87510'),\n",
       " Row(Reviews='215644'),\n",
       " Row(Reviews='967'),\n",
       " Row(Reviews='167'),\n",
       " Row(Reviews='178'),\n",
       " Row(Reviews='36815'),\n",
       " Row(Reviews='13791'),\n",
       " Row(Reviews='121')]"
      ]
     },
     "execution_count": 7,
     "metadata": {},
     "output_type": "execute_result"
    }
   ],
   "source": [
    "# This is a foreign key that points at another table\n",
    "df.select('Reviews').collect()[0:10]"
   ]
  },
  {
   "cell_type": "code",
   "execution_count": 8,
   "metadata": {},
   "outputs": [
    {
     "data": {
      "text/plain": [
       "[Row(Size='19M'),\n",
       " Row(Size='14M'),\n",
       " Row(Size='8.7M'),\n",
       " Row(Size='25M'),\n",
       " Row(Size='2.8M'),\n",
       " Row(Size='5.6M'),\n",
       " Row(Size='19M'),\n",
       " Row(Size='29M'),\n",
       " Row(Size='33M'),\n",
       " Row(Size='3.1M')]"
      ]
     },
     "execution_count": 8,
     "metadata": {},
     "output_type": "execute_result"
    }
   ],
   "source": [
    "# As strings, with a suffix which indicates the unit\n",
    "df.select('Size').collect()[0:10]"
   ]
  },
  {
   "cell_type": "code",
   "execution_count": 9,
   "metadata": {},
   "outputs": [
    {
     "data": {
      "text/plain": [
       "[Row(Installs='4.2'),\n",
       " Row(Installs='50,000+'),\n",
       " Row(Installs='4.4'),\n",
       " Row(Installs='100+'),\n",
       " Row(Installs='0'),\n",
       " Row(Installs='5,000,000+'),\n",
       " Row(Installs='100,000,000+'),\n",
       " Row(Installs='1,000,000,000+'),\n",
       " Row(Installs='1,000,000+'),\n",
       " Row(Installs='500,000,000+'),\n",
       " Row(Installs='10+'),\n",
       " Row(Installs='50+'),\n",
       " Row(Installs='5+'),\n",
       " Row(Installs='500+'),\n",
       " Row(Installs='1,000+'),\n",
       " Row(Installs='500,000+'),\n",
       " Row(Installs='0+'),\n",
       " Row(Installs='5,000+'),\n",
       " Row(Installs='10,000,000+'),\n",
       " Row(Installs='50,000,000+'),\n",
       " Row(Installs='100,000+'),\n",
       " Row(Installs='1+'),\n",
       " Row(Installs='Free'),\n",
       " Row(Installs='10,000+')]"
      ]
     },
     "execution_count": 9,
     "metadata": {},
     "output_type": "execute_result"
    }
   ],
   "source": [
    "# Another categorical variable, instead of numerical, as I first expected\n",
    "df.select('Installs').distinct().collect()"
   ]
  },
  {
   "cell_type": "code",
   "execution_count": 10,
   "metadata": {},
   "outputs": [
    {
     "data": {
      "text/plain": [
       "[Row(Type='0'),\n",
       " Row(Type='102248'),\n",
       " Row(Type='NaN'),\n",
       " Row(Type='Free'),\n",
       " Row(Type='Paid'),\n",
       " Row(Type='2509')]"
      ]
     },
     "execution_count": 10,
     "metadata": {},
     "output_type": "execute_result"
    }
   ],
   "source": [
    "df.select('Type').distinct().collect()"
   ]
  },
  {
   "cell_type": "code",
   "execution_count": 11,
   "metadata": {},
   "outputs": [
    {
     "data": {
      "text/plain": [
       "[Row(Price='$1.29'),\n",
       " Row(Price='$19.99'),\n",
       " Row(Price='$0.99'),\n",
       " Row(Price='$4.59'),\n",
       " Row(Price='$400.00'),\n",
       " Row(Price='$89.99'),\n",
       " Row(Price='$24.99'),\n",
       " Row(Price='$1.96'),\n",
       " Row(Price='$39.99'),\n",
       " Row(Price='$12.99'),\n",
       " Row(Price='$8.99'),\n",
       " Row(Price='$11.99'),\n",
       " Row(Price='$14.99'),\n",
       " Row(Price='$25.99'),\n",
       " Row(Price='$3.04'),\n",
       " Row(Price='$15.46'),\n",
       " Row(Price='$2.50'),\n",
       " Row(Price='0'),\n",
       " Row(Price='5.0M'),\n",
       " Row(Price='$2.49'),\n",
       " Row(Price='$1.50'),\n",
       " Row(Price='$1.76'),\n",
       " Row(Price='$4.49'),\n",
       " Row(Price='$2.60'),\n",
       " Row(Price='$7.49'),\n",
       " Row(Price='$379.99'),\n",
       " Row(Price='$1.00'),\n",
       " Row(Price='$79.99'),\n",
       " Row(Price='$3.28'),\n",
       " Row(Price='$19.90'),\n",
       " Row(Price='$2.00'),\n",
       " Row(Price='$7.99'),\n",
       " Row(Price='$16.99'),\n",
       " Row(Price='$3.99'),\n",
       " Row(Price='$10.99'),\n",
       " Row(Price='$1.70'),\n",
       " Row(Price='$154.99'),\n",
       " Row(Price='$17.99'),\n",
       " Row(Price='$5.99'),\n",
       " Row(Price='$299.99'),\n",
       " Row(Price='$3.49'),\n",
       " Row(Price='$2.90'),\n",
       " Row(Price='$1.61'),\n",
       " Row(Price='$28.99'),\n",
       " Row(Price='$18.99'),\n",
       " Row(Price='$3.90'),\n",
       " Row(Price='$1.99'),\n",
       " Row(Price='$4.84'),\n",
       " Row(Price='$13.99'),\n",
       " Row(Price='$2.99'),\n",
       " Row(Price='$5.00'),\n",
       " Row(Price='$2.95'),\n",
       " Row(Price='$1.04'),\n",
       " Row(Price='$394.99'),\n",
       " Row(Price='$6.99'),\n",
       " Row(Price='$2.59'),\n",
       " Row(Price='$1.97'),\n",
       " Row(Price='$1.75'),\n",
       " Row(Price='$5.49'),\n",
       " Row(Price='$3.95'),\n",
       " Row(Price='$4.85'),\n",
       " Row(Price='$1.26'),\n",
       " Row(Price='$1.59'),\n",
       " Row(Price='$4.60'),\n",
       " Row(Price='$37.99'),\n",
       " Row(Price='$3.02'),\n",
       " Row(Price='$15.99'),\n",
       " Row(Price='Varies with device'),\n",
       " Row(Price='$3.61'),\n",
       " Row(Price='$4.77'),\n",
       " Row(Price='$1.20'),\n",
       " Row(Price='$4.80'),\n",
       " Row(Price='$19.40'),\n",
       " Row(Price='$1.49'),\n",
       " Row(Price='$3.88'),\n",
       " Row(Price='$399.99'),\n",
       " Row(Price='$9.00'),\n",
       " Row(Price='$29.99'),\n",
       " Row(Price='$46.99'),\n",
       " Row(Price='Everyone'),\n",
       " Row(Price='$9.99'),\n",
       " Row(Price='$33.99'),\n",
       " Row(Price='$74.99'),\n",
       " Row(Price='$389.99'),\n",
       " Row(Price='$10.00'),\n",
       " Row(Price='$4.29'),\n",
       " Row(Price='$30.99'),\n",
       " Row(Price='$3.08'),\n",
       " Row(Price='$109.99'),\n",
       " Row(Price='$6.49'),\n",
       " Row(Price='$200.00'),\n",
       " Row(Price='$14.00'),\n",
       " Row(Price='$4.99'),\n",
       " Row(Price='$8.49'),\n",
       " Row(Price='$2.56')]"
      ]
     },
     "execution_count": 11,
     "metadata": {},
     "output_type": "execute_result"
    }
   ],
   "source": [
    "# Another variable which I expected to be numerical\n",
    "df.select('Price').distinct().collect()"
   ]
  },
  {
   "cell_type": "code",
   "execution_count": 12,
   "metadata": {},
   "outputs": [
    {
     "data": {
      "text/plain": [
       "[Row(Content rating='Unrated'),\n",
       " Row(Content rating='Teen'),\n",
       " Row(Content rating='5,000,000+'),\n",
       " Row(Content rating=None),\n",
       " Row(Content rating='1,000,000+'),\n",
       " Row(Content rating='Mature 17+'),\n",
       " Row(Content rating='Everyone 10+'),\n",
       " Row(Content rating='Everyone'),\n",
       " Row(Content rating='Adults only 18+')]"
      ]
     },
     "execution_count": 12,
     "metadata": {},
     "output_type": "execute_result"
    }
   ],
   "source": [
    "df.select('Content rating').distinct().collect()"
   ]
  },
  {
   "cell_type": "code",
   "execution_count": 13,
   "metadata": {
    "scrolled": false
   },
   "outputs": [
    {
     "data": {
      "text/plain": [
       "[Row(Genres='Video Players & Editors;Creativity'),\n",
       " Row(Genres='Adventure;Action & Adventure'),\n",
       " Row(Genres='Education'),\n",
       " Row(Genres='Trivia'),\n",
       " Row(Genres='Art & Design;Action & Adventure'),\n",
       " Row(Genres='Auto & Vehicles'),\n",
       " Row(Genres='Travel & Local;Action & Adventure'),\n",
       " Row(Genres='Simulation;Action & Adventure'),\n",
       " Row(Genres='Education;Pretend Play'),\n",
       " Row(Genres='Tools;Education'),\n",
       " Row(Genres='Entertainment'),\n",
       " Row(Genres='Education;Education'),\n",
       " Row(Genres='Entertainment;Music & Video'),\n",
       " Row(Genres='Parenting;Brain Games'),\n",
       " Row(Genres='Simulation;Pretend Play'),\n",
       " Row(Genres='Arcade;Action & Adventure'),\n",
       " Row(Genres='Educational;Creativity'),\n",
       " Row(Genres='Arcade;Pretend Play'),\n",
       " Row(Genres='Casual;Music & Video'),\n",
       " Row(Genres='Adventure'),\n",
       " Row(Genres='Arcade'),\n",
       " Row(Genres='Books & Reference;Creativity'),\n",
       " Row(Genres='Education;Brain Games'),\n",
       " Row(Genres='Entertainment;Brain Games'),\n",
       " Row(Genres='Health & Fitness;Action & Adventure'),\n",
       " Row(Genres='Sports'),\n",
       " Row(Genres='Entertainment;Action & Adventure'),\n",
       " Row(Genres='Adventure;Education'),\n",
       " Row(Genres='Travel & Local'),\n",
       " Row(Genres='Food & Drink'),\n",
       " Row(Genres='Sports;Action & Adventure'),\n",
       " Row(Genres='Parenting;Education'),\n",
       " Row(Genres='Role Playing'),\n",
       " Row(Genres='Casual;Pretend Play'),\n",
       " Row(Genres='Educational;Action & Adventure'),\n",
       " Row(Genres='Finance'),\n",
       " Row(Genres='Education;Action & Adventure'),\n",
       " Row(Genres='Personalization'),\n",
       " Row(Genres='Educational;Pretend Play'),\n",
       " Row(Genres='Action;Action & Adventure'),\n",
       " Row(Genres='Role Playing;Pretend Play'),\n",
       " Row(Genres='Racing'),\n",
       " Row(Genres='Comics;Creativity'),\n",
       " Row(Genres='Board;Action & Adventure'),\n",
       " Row(Genres='Tools'),\n",
       " Row(Genres='Board;Brain Games'),\n",
       " Row(Genres='Lifestyle;Pretend Play'),\n",
       " Row(Genres='Casual;Creativity'),\n",
       " Row(Genres='Educational'),\n",
       " Row(Genres='Parenting;Music & Video'),\n",
       " Row(Genres='Comics'),\n",
       " Row(Genres='Education;Music & Video'),\n",
       " Row(Genres='Lifestyle;Education'),\n",
       " Row(Genres='Puzzle;Creativity'),\n",
       " Row(Genres='Social'),\n",
       " Row(Genres='Adventure;Brain Games'),\n",
       " Row(Genres='Libraries & Demo'),\n",
       " Row(Genres='Health & Fitness;Education'),\n",
       " Row(Genres='Shopping'),\n",
       " Row(Genres='Health & Fitness'),\n",
       " Row(Genres='House & Home'),\n",
       " Row(Genres='Entertainment;Creativity'),\n",
       " Row(Genres='Racing;Pretend Play'),\n",
       " Row(Genres='Productivity'),\n",
       " Row(Genres='Card'),\n",
       " Row(Genres='Puzzle;Brain Games'),\n",
       " Row(Genres='Strategy;Education'),\n",
       " Row(Genres='Board;Pretend Play'),\n",
       " Row(Genres='Casual;Action & Adventure'),\n",
       " Row(Genres='Casino'),\n",
       " Row(Genres='Role Playing;Brain Games'),\n",
       " Row(Genres='February 11, 2018'),\n",
       " Row(Genres='Card;Brain Games'),\n",
       " Row(Genres='Music'),\n",
       " Row(Genres='Entertainment;Education'),\n",
       " Row(Genres='Video Players & Editors;Music & Video'),\n",
       " Row(Genres='Art & Design;Creativity'),\n",
       " Row(Genres='Photography'),\n",
       " Row(Genres='Books & Reference;Education'),\n",
       " Row(Genres='Card;Action & Adventure'),\n",
       " Row(Genres='Communication;Creativity'),\n",
       " Row(Genres='Events'),\n",
       " Row(Genres='Casual;Brain Games'),\n",
       " Row(Genres='Lifestyle'),\n",
       " Row(Genres='Business'),\n",
       " Row(Genres='News & Magazines'),\n",
       " Row(Genres='Video Players & Editors'),\n",
       " Row(Genres='Books & Reference'),\n",
       " Row(Genres='Trivia;Education'),\n",
       " Row(Genres='Music & Audio;Music & Video'),\n",
       " Row(Genres='Dating'),\n",
       " Row(Genres='Strategy;Action & Adventure'),\n",
       " Row(Genres='Weather'),\n",
       " Row(Genres='Puzzle'),\n",
       " Row(Genres='Casual'),\n",
       " Row(Genres='Role Playing;Education'),\n",
       " Row(Genres='Education;Creativity'),\n",
       " Row(Genres='Free'),\n",
       " Row(Genres='Racing;Action & Adventure'),\n",
       " Row(Genres='Board'),\n",
       " Row(Genres='Music;Music & Video'),\n",
       " Row(Genres='Educational;Education'),\n",
       " Row(Genres='Medical'),\n",
       " Row(Genres='Simulation;Education'),\n",
       " Row(Genres='Parenting'),\n",
       " Row(Genres='Communication'),\n",
       " Row(Genres='Word'),\n",
       " Row(Genres='Beauty'),\n",
       " Row(Genres='Puzzle;Education'),\n",
       " Row(Genres='Action'),\n",
       " Row(Genres='Strategy'),\n",
       " Row(Genres='Strategy;Creativity'),\n",
       " Row(Genres='Casual;Education'),\n",
       " Row(Genres='Entertainment;Pretend Play'),\n",
       " Row(Genres='Educational;Brain Games'),\n",
       " Row(Genres='Art & Design;Pretend Play'),\n",
       " Row(Genres='Maps & Navigation'),\n",
       " Row(Genres='Puzzle;Action & Adventure'),\n",
       " Row(Genres='Art & Design'),\n",
       " Row(Genres='Simulation'),\n",
       " Row(Genres='Role Playing;Action & Adventure')]"
      ]
     },
     "execution_count": 13,
     "metadata": {},
     "output_type": "execute_result"
    }
   ],
   "source": [
    "df.select('Genres').distinct().collect()"
   ]
  },
  {
   "cell_type": "code",
   "execution_count": 14,
   "metadata": {},
   "outputs": [
    {
     "data": {
      "text/plain": [
       "[Row(Last updated='January 7, 2018'),\n",
       " Row(Last updated='January 15, 2018'),\n",
       " Row(Last updated='August 1, 2018'),\n",
       " Row(Last updated='June 8, 2018'),\n",
       " Row(Last updated='June 20, 2018'),\n",
       " Row(Last updated='March 26, 2017'),\n",
       " Row(Last updated='April 26, 2018'),\n",
       " Row(Last updated='June 14, 2018'),\n",
       " Row(Last updated='September 20, 2017'),\n",
       " Row(Last updated='July 3, 2018')]"
      ]
     },
     "execution_count": 14,
     "metadata": {},
     "output_type": "execute_result"
    }
   ],
   "source": [
    "df.select('Last updated').collect()[0:10]"
   ]
  },
  {
   "cell_type": "code",
   "execution_count": 15,
   "metadata": {},
   "outputs": [
    {
     "data": {
      "text/plain": [
       "[Row(Current ver='1.0.0'),\n",
       " Row(Current ver='2.0.0'),\n",
       " Row(Current ver='1.2.4'),\n",
       " Row(Current ver='Varies with device'),\n",
       " Row(Current ver='1.1'),\n",
       " Row(Current ver='1.0'),\n",
       " Row(Current ver='1.1'),\n",
       " Row(Current ver='6.1.61.1'),\n",
       " Row(Current ver='2.9.2'),\n",
       " Row(Current ver='2.8')]"
      ]
     },
     "execution_count": 15,
     "metadata": {},
     "output_type": "execute_result"
    }
   ],
   "source": [
    "df.select('Current ver').collect()[0:10]"
   ]
  },
  {
   "cell_type": "code",
   "execution_count": 16,
   "metadata": {},
   "outputs": [
    {
     "data": {
      "text/plain": [
       "[Row(Android ver='2.0.1 and up'),\n",
       " Row(Android ver='4.1 and up'),\n",
       " Row(Android ver='4.4 and up'),\n",
       " Row(Android ver='2.3.3 and up'),\n",
       " Row(Android ver='5.0 - 6.0'),\n",
       " Row(Android ver=None),\n",
       " Row(Android ver='4.0.3 and up'),\n",
       " Row(Android ver='4.1 - 7.1.1'),\n",
       " Row(Android ver='7.0 - 7.1.1'),\n",
       " Row(Android ver='4.0.3 - 7.1.1'),\n",
       " Row(Android ver='7.0 and up'),\n",
       " Row(Android ver='7.1 and up'),\n",
       " Row(Android ver='3.2 and up'),\n",
       " Row(Android ver='Health & Fitness'),\n",
       " Row(Android ver='1.0 and up'),\n",
       " Row(Android ver='6.0 and up'),\n",
       " Row(Android ver='4.3 and up'),\n",
       " Row(Android ver='5.1 and up'),\n",
       " Row(Android ver='3.0 and up'),\n",
       " Row(Android ver='3.1 and up'),\n",
       " Row(Android ver='4.0 and up'),\n",
       " Row(Android ver='1.6 and up'),\n",
       " Row(Android ver='2.1 and up'),\n",
       " Row(Android ver='2.0 and up'),\n",
       " Row(Android ver='4.4W and up'),\n",
       " Row(Android ver='NaN'),\n",
       " Row(Android ver='Varies with device'),\n",
       " Row(Android ver='1.5 and up'),\n",
       " Row(Android ver='2.2 and up'),\n",
       " Row(Android ver='5.0 and up'),\n",
       " Row(Android ver='2.2 - 7.1.1'),\n",
       " Row(Android ver='2.3 and up'),\n",
       " Row(Android ver='8.0 and up'),\n",
       " Row(Android ver='5.0 - 7.1.1'),\n",
       " Row(Android ver='5.0 - 8.0'),\n",
       " Row(Android ver='4.2 and up'),\n",
       " Row(Android ver='Maps & Navigation')]"
      ]
     },
     "execution_count": 16,
     "metadata": {},
     "output_type": "execute_result"
    }
   ],
   "source": [
    "df.select('Android ver').distinct().collect()"
   ]
  },
  {
   "cell_type": "markdown",
   "metadata": {},
   "source": [
    "## Visualising proportion of missing values per column\n",
    "\n",
    "The only columns with missing values are `Content Rating`, `Current Ver` and `Android Ver`. However. the proportion of missing values is very low. "
   ]
  },
  {
   "cell_type": "code",
   "execution_count": 17,
   "metadata": {},
   "outputs": [
    {
     "name": "stdout",
     "output_type": "stream",
     "text": [
      "App\n",
      "0.0%\n",
      " \n",
      "Category\n",
      "0.0%\n",
      " \n",
      "Rating\n",
      "0.0%\n",
      " \n",
      "Reviews\n",
      "0.0%\n",
      " \n",
      "Size\n",
      "0.0%\n",
      " \n",
      "Installs\n",
      "0.0%\n",
      " \n",
      "Type\n",
      "0.0%\n",
      " \n",
      "Price\n",
      "0.0%\n",
      " \n",
      "Content Rating\n",
      "0.009224241306152568%\n",
      " \n",
      "Genres\n",
      "0.0%\n",
      " \n",
      "Last Updated\n",
      "0.0%\n",
      " \n",
      "Current Ver\n",
      "0.009224241306152568%\n",
      " \n",
      "Android Ver\n",
      "0.009224241306152568%\n",
      " \n"
     ]
    }
   ],
   "source": [
    "total = df.count()\n",
    "for c in df.columns:\n",
    "    print(c)\n",
    "    missing = df.filter(F.col(c).isNull()).count()\n",
    "    print(str(missing/total*100) + '%')\n",
    "    \n",
    "    print(' ')"
   ]
  },
  {
   "cell_type": "markdown",
   "metadata": {},
   "source": [
    "## Frequency tables for the categorical variables\n",
    "\n",
    "I am doing this only for the columns that I consider to be categorical in this dataset: `Category`, `Rating`, `Installs`, `Type`, `Content Rating`, `Genres` and `Android ver`."
   ]
  },
  {
   "cell_type": "code",
   "execution_count": 18,
   "metadata": {
    "scrolled": false
   },
   "outputs": [
    {
     "name": "stdout",
     "output_type": "stream",
     "text": [
      "+-------------------+-----+\n",
      "|           Category|count|\n",
      "+-------------------+-----+\n",
      "|             FAMILY| 1972|\n",
      "|               GAME| 1144|\n",
      "|              TOOLS|  843|\n",
      "|            MEDICAL|  463|\n",
      "|           BUSINESS|  460|\n",
      "|       PRODUCTIVITY|  424|\n",
      "|    PERSONALIZATION|  392|\n",
      "|      COMMUNICATION|  387|\n",
      "|             SPORTS|  384|\n",
      "|          LIFESTYLE|  382|\n",
      "|            FINANCE|  366|\n",
      "| HEALTH_AND_FITNESS|  340|\n",
      "|        PHOTOGRAPHY|  335|\n",
      "|             SOCIAL|  295|\n",
      "| NEWS_AND_MAGAZINES|  283|\n",
      "|           SHOPPING|  260|\n",
      "|   TRAVEL_AND_LOCAL|  258|\n",
      "|             DATING|  234|\n",
      "|BOOKS_AND_REFERENCE|  231|\n",
      "|      VIDEO_PLAYERS|  175|\n",
      "|          EDUCATION|  156|\n",
      "|      ENTERTAINMENT|  149|\n",
      "|MAPS_AND_NAVIGATION|  136|\n",
      "|     FOOD_AND_DRINK|  127|\n",
      "|     HOUSE_AND_HOME|   88|\n",
      "| LIBRARIES_AND_DEMO|   85|\n",
      "|  AUTO_AND_VEHICLES|   85|\n",
      "|            WEATHER|   82|\n",
      "|     ART_AND_DESIGN|   65|\n",
      "|             EVENTS|   64|\n",
      "|             COMICS|   60|\n",
      "|          PARENTING|   60|\n",
      "|             BEAUTY|   53|\n",
      "|               Face|    1|\n",
      "|                1.9|    1|\n",
      "|       traffic jams|    1|\n",
      "+-------------------+-----+\n",
      "\n",
      "+-----------+-----+\n",
      "|     Rating|count|\n",
      "+-----------+-----+\n",
      "|        NaN| 1474|\n",
      "|        4.4| 1108|\n",
      "|        4.3| 1076|\n",
      "|        4.5| 1038|\n",
      "|        4.2|  951|\n",
      "|        4.6|  823|\n",
      "|        4.1|  708|\n",
      "|        4.0|  568|\n",
      "|        4.7|  499|\n",
      "|        3.9|  386|\n",
      "|        3.8|  303|\n",
      "|        5.0|  274|\n",
      "|        3.7|  239|\n",
      "|        4.8|  234|\n",
      "|        3.6|  174|\n",
      "|        3.5|  163|\n",
      "|        3.4|  128|\n",
      "|        3.3|  102|\n",
      "|        4.9|   87|\n",
      "|        3.0|   83|\n",
      "|        3.1|   69|\n",
      "|        3.2|   64|\n",
      "|        2.9|   45|\n",
      "|        2.8|   42|\n",
      "|        2.6|   25|\n",
      "|        2.7|   25|\n",
      "|        2.5|   21|\n",
      "|        2.3|   20|\n",
      "|        2.4|   19|\n",
      "|        1.0|   16|\n",
      "|        2.2|   14|\n",
      "|        1.9|   13|\n",
      "|        2.0|   12|\n",
      "|        1.8|    8|\n",
      "|        1.7|    8|\n",
      "|        2.1|    8|\n",
      "|        1.6|    4|\n",
      "|        1.5|    3|\n",
      "|        1.4|    3|\n",
      "|       Body|    1|\n",
      "| navigation|    1|\n",
      "|         19|    1|\n",
      "|        1.2|    1|\n",
      "+-----------+-----+\n",
      "\n",
      "+--------------+-----+\n",
      "|      Installs|count|\n",
      "+--------------+-----+\n",
      "|    1,000,000+| 1578|\n",
      "|   10,000,000+| 1252|\n",
      "|      100,000+| 1169|\n",
      "|       10,000+| 1054|\n",
      "|        1,000+|  907|\n",
      "|    5,000,000+|  751|\n",
      "|          100+|  719|\n",
      "|      500,000+|  539|\n",
      "|       50,000+|  479|\n",
      "|        5,000+|  477|\n",
      "|  100,000,000+|  409|\n",
      "|           10+|  386|\n",
      "|          500+|  330|\n",
      "|   50,000,000+|  289|\n",
      "|           50+|  205|\n",
      "|            5+|   82|\n",
      "|  500,000,000+|   72|\n",
      "|            1+|   67|\n",
      "|1,000,000,000+|   58|\n",
      "|            0+|   14|\n",
      "|           4.2|    1|\n",
      "|             0|    1|\n",
      "|           4.4|    1|\n",
      "|          Free|    1|\n",
      "+--------------+-----+\n",
      "\n",
      "+------+-----+\n",
      "|  Type|count|\n",
      "+------+-----+\n",
      "|  Free|10037|\n",
      "|  Paid|  800|\n",
      "|   NaN|    1|\n",
      "|102248|    1|\n",
      "|  2509|    1|\n",
      "|     0|    1|\n",
      "+------+-----+\n",
      "\n",
      "+---------------+-----+\n",
      "| Content Rating|count|\n",
      "+---------------+-----+\n",
      "|       Everyone| 8713|\n",
      "|           Teen| 1208|\n",
      "|     Mature 17+|  498|\n",
      "|   Everyone 10+|  414|\n",
      "|Adults only 18+|    3|\n",
      "|        Unrated|    2|\n",
      "|     1,000,000+|    1|\n",
      "|           null|    1|\n",
      "|     5,000,000+|    1|\n",
      "+---------------+-----+\n",
      "\n",
      "+------------------+-----+\n",
      "|       Android Ver|count|\n",
      "+------------------+-----+\n",
      "|        4.1 and up| 2450|\n",
      "|      4.0.3 and up| 1501|\n",
      "|        4.0 and up| 1375|\n",
      "|Varies with device| 1361|\n",
      "|        4.4 and up|  980|\n",
      "|        2.3 and up|  652|\n",
      "|        5.0 and up|  601|\n",
      "|        4.2 and up|  394|\n",
      "|      2.3.3 and up|  281|\n",
      "|        2.2 and up|  244|\n",
      "|        4.3 and up|  243|\n",
      "|        3.0 and up|  241|\n",
      "|        2.1 and up|  134|\n",
      "|        1.6 and up|  116|\n",
      "|        6.0 and up|   60|\n",
      "|        7.0 and up|   42|\n",
      "|        3.2 and up|   36|\n",
      "|        2.0 and up|   32|\n",
      "|        5.1 and up|   24|\n",
      "|        1.5 and up|   20|\n",
      "|       4.4W and up|   12|\n",
      "|        3.1 and up|   10|\n",
      "|      2.0.1 and up|    7|\n",
      "|        8.0 and up|    6|\n",
      "|        7.1 and up|    3|\n",
      "|               NaN|    2|\n",
      "|     4.0.3 - 7.1.1|    2|\n",
      "|         5.0 - 8.0|    2|\n",
      "|        1.0 and up|    2|\n",
      "|         5.0 - 6.0|    1|\n",
      "|       7.0 - 7.1.1|    1|\n",
      "|              null|    1|\n",
      "|  Health & Fitness|    1|\n",
      "|       4.1 - 7.1.1|    1|\n",
      "|       2.2 - 7.1.1|    1|\n",
      "| Maps & Navigation|    1|\n",
      "|       5.0 - 7.1.1|    1|\n",
      "+------------------+-----+\n",
      "\n"
     ]
    }
   ],
   "source": [
    "for c in ['Category', 'Rating', 'Installs', 'Type', 'Content Rating', 'Android Ver']:\n",
    "    df.groupby(c).count().sort(F.col('count').desc()).show(50)"
   ]
  },
  {
   "cell_type": "markdown",
   "metadata": {},
   "source": [
    "The `Genres` column has to be split by `;`:"
   ]
  },
  {
   "cell_type": "code",
   "execution_count": 19,
   "metadata": {},
   "outputs": [
    {
     "name": "stdout",
     "output_type": "stream",
     "text": [
      "+--------------------+-----+\n",
      "|                 val|count|\n",
      "+--------------------+-----+\n",
      "|               Tools|  843|\n",
      "|           Education|  761|\n",
      "|       Entertainment|  667|\n",
      "|             Medical|  463|\n",
      "|            Business|  460|\n",
      "|        Productivity|  424|\n",
      "|              Sports|  402|\n",
      "|     Personalization|  392|\n",
      "|       Communication|  388|\n",
      "|           Lifestyle|  383|\n",
      "|              Action|  382|\n",
      "|             Finance|  366|\n",
      "|    Health & Fitness|  342|\n",
      "|         Photography|  335|\n",
      "|              Social|  295|\n",
      "|    News & Magazines|  283|\n",
      "|              Casual|  270|\n",
      "|            Shopping|  260|\n",
      "|      Travel & Local|  258|\n",
      "|              Arcade|  237|\n",
      "|              Dating|  234|\n",
      "|   Books & Reference|  234|\n",
      "|          Simulation|  218|\n",
      "|Video Players & E...|  178|\n",
      "|              Puzzle|  167|\n",
      "|  Action & Adventure|  138|\n",
      "|   Maps & Navigation|  136|\n",
      "|        Food & Drink|  127|\n",
      "|        Role Playing|  123|\n",
      "|              Racing|  119|\n",
      "|         Educational|  112|\n",
      "|            Strategy|  111|\n",
      "|           Adventure|   91|\n",
      "|        Pretend Play|   90|\n",
      "|        House & Home|   88|\n",
      "|     Auto & Vehicles|   85|\n",
      "|    Libraries & Demo|   85|\n",
      "|             Weather|   82|\n",
      "|         Brain Games|   70|\n",
      "|        Art & Design|   69|\n",
      "|              Events|   64|\n",
      "|               Board|   63|\n",
      "|              Comics|   60|\n",
      "|           Parenting|   60|\n",
      "|              Beauty|   53|\n",
      "|                Card|   51|\n",
      "|       Music & Video|   47|\n",
      "|              Casino|   39|\n",
      "|              Trivia|   39|\n",
      "|          Creativity|   37|\n",
      "|                Word|   29|\n",
      "|               Music|   25|\n",
      "|                Free|    2|\n",
      "|       Music & Audio|    1|\n",
      "|   February 11, 2018|    1|\n",
      "+--------------------+-----+\n",
      "\n"
     ]
    }
   ],
   "source": [
    "df.select(\n",
    "    F.posexplode(F.split('Genres', ';')).alias('pos', 'val')\n",
    ").groupby('val').count().sort(F.col('count').desc()).show(100)"
   ]
  },
  {
   "cell_type": "markdown",
   "metadata": {},
   "source": [
    "## Statistics for the numerical variables\n",
    "\n",
    "This step requires that the values are parsed and transformed into numerical values. I will do this step for `Rating`, `Reviews` and `Size`."
   ]
  },
  {
   "cell_type": "code",
   "execution_count": 20,
   "metadata": {},
   "outputs": [
    {
     "name": "stdout",
     "output_type": "stream",
     "text": [
      "Rating: mean = 4.193315532712839, std = 0.537484445283305\n",
      "min = 1.0, max = 19.0\n"
     ]
    }
   ],
   "source": [
    "rating = df.select(df.Rating.cast('float').alias('Rating'))\\\n",
    "           .where(F.col('Rating').isNotNull())\\\n",
    "           .where(F.isnan(F.col('Rating')) == False)\n",
    "mean = rating.select(F.mean(rating.Rating).alias('mean')).collect()[0]['mean']\n",
    "std = rating.select(F.stddev(rating.Rating).alias('mean')).collect()[0]['mean']\n",
    "min_ = rating.select(F.min(rating.Rating).alias('min')).collect()[0]['min']\n",
    "max_ = rating.select(F.max(rating.Rating).alias('max')).collect()[0]['max']\n",
    "print('Rating: mean = ' + str(mean) + ', std = ' + str(std))\n",
    "print('min = ' + str(min_) + ', max = ' + str(max_))"
   ]
  },
  {
   "cell_type": "code",
   "execution_count": 21,
   "metadata": {},
   "outputs": [
    {
     "data": {
      "image/png": "[encoded data removed]",
      "text/plain": [
       "<Figure size 432x288 with 1 Axes>"
      ]
     },
     "metadata": {
      "needs_background": "light"
     },
     "output_type": "display_data"
    }
   ],
   "source": [
    "rating_histogram = rating.select('Rating').rdd.flatMap(lambda x: x).histogram(10)\n",
    "\n",
    "pd.DataFrame(\n",
    "    list(zip(*rating_histogram)), \n",
    "    columns=['bin', 'frequency']\n",
    ").set_index(\n",
    "    'bin'\n",
    ").plot(kind = 'bar', logy = True);"
   ]
  },
  {
   "cell_type": "code",
   "execution_count": 22,
   "metadata": {},
   "outputs": [
    {
     "name": "stdout",
     "output_type": "stream",
     "text": [
      "Reviews: mean = 444225.1921018638, std = 2928025.822397924\n",
      "min = 0.0, max = 78158304.0\n"
     ]
    }
   ],
   "source": [
    "reviews = df.select(df.Reviews.cast('float').alias('Reviews'))\\\n",
    "            .where(F.col('Reviews').isNotNull())\\\n",
    "            .where(F.isnan(F.col('Reviews')) == False)\n",
    "mean = reviews.select(F.mean(reviews.Reviews).alias('mean')).collect()[0]['mean']\n",
    "std = reviews.select(F.stddev(reviews.Reviews).alias('mean')).collect()[0]['mean']\n",
    "min_ = reviews.select(F.min(reviews.Reviews).alias('min')).collect()[0]['min']\n",
    "max_ = reviews.select(F.max(reviews.Reviews).alias('max')).collect()[0]['max']\n",
    "print('Reviews: mean = ' + str(mean) + ', std = ' + str(std))\n",
    "print('min = ' + str(min_) + ', max = ' + str(max_))"
   ]
  },
  {
   "cell_type": "code",
   "execution_count": 23,
   "metadata": {},
   "outputs": [
    {
     "data": {
      "image/png": "[encoded data removed]",
      "text/plain": [
       "<Figure size 432x288 with 1 Axes>"
      ]
     },
     "metadata": {
      "needs_background": "light"
     },
     "output_type": "display_data"
    }
   ],
   "source": [
    "reviews_histogram = reviews.select('Reviews').rdd.flatMap(lambda x: x).histogram(10)\n",
    "\n",
    "pd.DataFrame(\n",
    "    list(zip(*reviews_histogram)), \n",
    "    columns=['bin', 'frequency']\n",
    ").set_index(\n",
    "    'bin'\n",
    ").plot(kind = 'bar', logy = True);"
   ]
  },
  {
   "cell_type": "code",
   "execution_count": 24,
   "metadata": {},
   "outputs": [
    {
     "name": "stdout",
     "output_type": "stream",
     "text": [
      "+------------------+\n",
      "|              Size|\n",
      "+------------------+\n",
      "|Varies with device|\n",
      "|Varies with device|\n",
      "|Varies with device|\n",
      "|              201k|\n",
      "|Varies with device|\n",
      "|Varies with device|\n",
      "|Varies with device|\n",
      "|Varies with device|\n",
      "|Varies with device|\n",
      "|Varies with device|\n",
      "|Varies with device|\n",
      "|Varies with device|\n",
      "|Varies with device|\n",
      "|Varies with device|\n",
      "|Varies with device|\n",
      "|Varies with device|\n",
      "|Varies with device|\n",
      "|Varies with device|\n",
      "|Varies with device|\n",
      "|Varies with device|\n",
      "+------------------+\n",
      "only showing top 20 rows\n",
      "\n"
     ]
    }
   ],
   "source": [
    "# In the case of the size, I've observed that the first rows end in M. Are there any other characters?\n",
    "df.select('Size').filter(~df.Size.rlike('[M]')).show()"
   ]
  },
  {
   "cell_type": "code",
   "execution_count": 25,
   "metadata": {},
   "outputs": [
    {
     "name": "stdout",
     "output_type": "stream",
     "text": [
      "+------------------+\n",
      "|              Size|\n",
      "+------------------+\n",
      "|HEALTH_AND_FITNESS|\n",
      "|            1,000+|\n",
      "+------------------+\n",
      "\n"
     ]
    }
   ],
   "source": [
    "df.select('Size').filter(df.Size != 'Varies with device').filter(~df.Size.rlike('[Mk]')).show()"
   ]
  },
  {
   "cell_type": "code",
   "execution_count": 26,
   "metadata": {},
   "outputs": [
    {
     "name": "stdout",
     "output_type": "stream",
     "text": [
      "Sizes: mean = 22.27249660125187, std = 22.629226354052612\n",
      "min = 1.0, max = 100.0\n"
     ]
    }
   ],
   "source": [
    "# Filtering and transforming to numbers\n",
    "filter_strings = ['Varies with device', 'HEALTH_AND_FITNESS', '1,000+']\n",
    "\n",
    "char_replace = F.udf(lambda x: x.replace('M', '').replace('K', ''))\n",
    "\n",
    "sizes = df.select('Size') \\\n",
    "          .filter(df.Size.isin(filter_strings) == False) \\\n",
    "          .withColumn('Size', char_replace('Size').cast('float'))\n",
    "mean = sizes.select(F.mean(sizes.Size).alias('mean')).collect()[0]['mean']\n",
    "std = sizes.select(F.stddev(sizes.Size).alias('mean')).collect()[0]['mean']\n",
    "min_ = sizes.select(F.min(sizes.Size).alias('min')).collect()[0]['min']\n",
    "max_ = sizes.select(F.max(sizes.Size).alias('max')).collect()[0]['max']\n",
    "print('Sizes: mean = ' + str(mean) + ', std = ' + str(std))\n",
    "print('min = ' + str(min_) + ', max = ' + str(max_))"
   ]
  },
  {
   "cell_type": "code",
   "execution_count": 27,
   "metadata": {},
   "outputs": [
    {
     "data": {
      "image/png": "[encoded data removed]",
      "text/plain": [
       "<Figure size 432x288 with 1 Axes>"
      ]
     },
     "metadata": {
      "needs_background": "light"
     },
     "output_type": "display_data"
    }
   ],
   "source": [
    "sizes_histogram = sizes.select('Size').rdd.flatMap(lambda x: x).histogram(10)\n",
    "\n",
    "pd.DataFrame(\n",
    "    list(zip(*sizes_histogram)), \n",
    "    columns=['bin', 'frequency']\n",
    ").set_index(\n",
    "    'bin'\n",
    ").plot(kind = 'bar', logy = True);"
   ]
  },
  {
   "cell_type": "markdown",
   "metadata": {},
   "source": [
    "How would the rating histograms be if we grouped by `Category`? (only the 5 most frequent ones).\n",
    "\n",
    "Categories are filtered by means of a **broadcast variable**, that is, a read-only variable that is shared across all the nodes in the cluster. "
   ]
  },
  {
   "cell_type": "code",
   "execution_count": 28,
   "metadata": {
    "scrolled": false
   },
   "outputs": [
    {
     "data": {
      "image/png": "[encoded data removed]",
      "text/plain": [
       "<Figure size 432x288 with 1 Axes>"
      ]
     },
     "metadata": {
      "needs_background": "light"
     },
     "output_type": "display_data"
    },
    {
     "data": {
      "image/png": "[encoded data removed]",
      "text/plain": [
       "<Figure size 432x288 with 1 Axes>"
      ]
     },
     "metadata": {
      "needs_background": "light"
     },
     "output_type": "display_data"
    },
    {
     "data": {
      "image/png": "[encoded data removed]",
      "text/plain": [
       "<Figure size 432x288 with 1 Axes>"
      ]
     },
     "metadata": {
      "needs_background": "light"
     },
     "output_type": "display_data"
    },
    {
     "data": {
      "image/png": "[encoded data removed]",
      "text/plain": [
       "<Figure size 432x288 with 1 Axes>"
      ]
     },
     "metadata": {
      "needs_background": "light"
     },
     "output_type": "display_data"
    },
    {
     "data": {
      "image/png": "[encoded data removed]",
      "text/plain": [
       "<Figure size 432x288 with 1 Axes>"
      ]
     },
     "metadata": {
      "needs_background": "light"
     },
     "output_type": "display_data"
    }
   ],
   "source": [
    "categories = spark_session.sparkContext.broadcast(['FAMILY', 'GAME', 'TOOLS', 'MEDICAL', 'BUSINESS'])\n",
    "\n",
    "df_rating = df.where(F.col('Category').isin(categories.value)) \\\n",
    "              .withColumn('Rating', df.Rating.cast('float')) \\\n",
    "              .where(F.col('Reviews').isNotNull()) \\\n",
    "              .where(F.isnan(F.col('Reviews')) == False) \\\n",
    "              .cache()\n",
    "\n",
    "for c in categories.value:\n",
    "    histogram = df_rating.filter(df.Category == c) \\\n",
    "                         .select('Rating') \\\n",
    "                         .rdd \\\n",
    "                         .flatMap(lambda x: x) \\\n",
    "                         .histogram([0, 1, 2, 3, 4, 5])\n",
    "\n",
    "    pd.DataFrame(\n",
    "        list(zip(*histogram)), \n",
    "        columns=['rating', c]\n",
    "    ).set_index(\n",
    "        'rating'\n",
    "    ).plot(kind = 'bar', logy = True);\n",
    "\n"
   ]
  },
  {
   "cell_type": "markdown",
   "metadata": {},
   "source": [
    "Finally, we demonstrate how to use an **accumulator** to count the number of values in the `Reviews` column that couldn't be transformed into a float. An accumulator is a read-write variable which value can only be read by the driver process (the main pyspark program). The only allowed write operations are increments. We can define our own accumulator types with different operations (any commutative and associative operation) by defining a subclass of AccumulatorParams. "
   ]
  },
  {
   "cell_type": "code",
   "execution_count": 29,
   "metadata": {
    "scrolled": false
   },
   "outputs": [
    {
     "name": "stdout",
     "output_type": "stream",
     "text": [
      "3\n"
     ]
    }
   ],
   "source": [
    "ac = spark_session.sparkContext.accumulator(0)\n",
    "\n",
    "def ac_filter(x):\n",
    "    try:\n",
    "        if np.isnan(x):\n",
    "            ac.add(1)\n",
    "            return False\n",
    "        else:\n",
    "            return True\n",
    "    except TypeError:\n",
    "        ac.add(1)\n",
    "\n",
    "df.select(df.Reviews.cast('float').alias('Reviews')).rdd.filter(ac_filter).collect()\n",
    "\n",
    "print(ac.value)"
   ]
  }
 ],
 "metadata": {
  "kernelspec": {
   "display_name": "Python 3",
   "language": "python",
   "name": "python3"
  },
  "language_info": {
   "codemirror_mode": {
    "name": "ipython",
    "version": 3
   },
   "file_extension": ".py",
   "mimetype": "text/x-python",
   "name": "python",
   "nbconvert_exporter": "python",
   "pygments_lexer": "ipython3",
   "version": "3.6.6"
  }
 },
 "nbformat": 4,
 "nbformat_minor": 2
}
